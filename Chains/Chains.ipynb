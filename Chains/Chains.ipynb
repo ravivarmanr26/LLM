{
 "cells": [
  {
   "cell_type": "markdown",
   "metadata": {},
   "source": [
    "# Chains in LangChain\n",
    "\n",
    "Chains refer to sequences of calls—whether to a Language Model (LLM), a tool, or a data preprocessing step. The primary supported way to construct these chains is through the **LangChain Expression Language (LCEL)**.\n",
    "\n",
    "## Off-the-Shelf Chains\n",
    "\n",
    "While LCEL is excellent for constructing your chains, LangChain also provides off-the-shelf chains. There are two types of off-the-shelf chains supported by LangChain:\n",
    "\n",
    "1. **Chains Built with LCEL**: \n",
    "   - LangChain offers a higher-level constructor method for these chains. \n",
    "   - Under the hood, they are constructed using LCEL.\n",
    "\n",
    "2. **Legacy Chains**: \n",
    "   - These chains are constructed by subclassing from a legacy Chain class. \n",
    "   - Unlike LCEL chains, they do not use LCEL under the hood but are standalone classes.\n",
    "\n",
    "## Future Developments\n",
    "\n",
    "We are actively working on creating methods to generate LCEL versions of all chains for several reasons:\n",
    "\n",
    "- **Modifiability**: Chains constructed with LCEL allow for easy modification of their internals.\n",
    "- **Native Support**: These chains support streaming, asynchronous operations, and batch processing out of the box.\n",
    "- **Observability**: They automatically provide observability at each step of the chain.\n",
    "\n",
    "This page contains two lists:\n",
    "- A list of all LCEL chain constructors.\n",
    "- A list of all legacy Chains."
   ]
  },
  {
   "cell_type": "markdown",
   "metadata": {},
   "source": [
    "## Langchain Expression Language Basics"
   ]
  },
  {
   "cell_type": "markdown",
   "metadata": {},
   "source": [
    "-  LangChain Expression Language is that any two runnables can be \"chained\" together into sequences. \n",
    "- The output of the previous runnable's .invoke() call is passed as input to the next runnable.\n",
    "- This can be done using the pipe operator (|), or the more explicit .pipe() method, which does the same thing."
   ]
  },
  {
   "cell_type": "markdown",
   "metadata": {},
   "source": [
    "- Type of LCEL Chains\n",
    "    - SequentialChain\n",
    "    - Parallel Chain\n",
    "    - Router Chain\n",
    "    - Chain Runnables\n",
    "    - Custom Chain (Runnable Sequence)"
   ]
  },
  {
   "cell_type": "markdown",
   "metadata": {},
   "source": [
    "### Sequential LCEL Chain - LangChain Expression Language"
   ]
  },
  {
   "cell_type": "code",
   "execution_count": 1,
   "metadata": {},
   "outputs": [],
   "source": [
    "# from langchain.llms import OpenAI\n",
    "# from langchain.chains import LLMChain\n",
    "# from langchain.prompts import PromptTemplate\n",
    "# from langchain.prompts import ChatPromptTemplate\n",
    "# from langchain.chains import SimpleSequentialChain"
   ]
  },
  {
   "cell_type": "code",
   "execution_count": 2,
   "metadata": {},
   "outputs": [],
   "source": [
    "from langchain_core.messages import (\n",
    "                                    AIMessage,\n",
    "                                    HumanMessage,\n",
    "                                    SystemMessage,\n",
    "                                    ToolMessageChunk,\n",
    "                        \n",
    ")"
   ]
  },
  {
   "cell_type": "code",
   "execution_count": 3,
   "metadata": {},
   "outputs": [],
   "source": [
    "from langchain_ollama import ChatOllama\n",
    "from langchain_core.prompts import (\n",
    "                                        SystemMessagePromptTemplate,\n",
    "                                        HumanMessagePromptTemplate,\n",
    "                                        PromptTemplate,\n",
    "                                        ChatPromptTemplate\n",
    "                                    )"
   ]
  },
  {
   "cell_type": "code",
   "execution_count": 4,
   "metadata": {},
   "outputs": [
    {
     "data": {
      "text/plain": [
       "ChatOllama(model='llama3.2:1b', base_url='http://localhost:11434')"
      ]
     },
     "execution_count": 4,
     "metadata": {},
     "output_type": "execute_result"
    }
   ],
   "source": [
    "base_url = \"http://localhost:11434\"\n",
    "model = 'llama3.2:1b'\n",
    "\n",
    "llm = ChatOllama(base_url=base_url, model=model)\n",
    "llm"
   ]
  },
  {
   "cell_type": "code",
   "execution_count": 5,
   "metadata": {},
   "outputs": [],
   "source": [
    "system = SystemMessagePromptTemplate.from_template(\"You are expert the writing about {about} articles\")\n",
    "\n",
    "question = HumanMessagePromptTemplate.from_template(\"write a article about {Topics} in {points} points\")"
   ]
  },
  {
   "cell_type": "code",
   "execution_count": 6,
   "metadata": {},
   "outputs": [
    {
     "data": {
      "text/plain": [
       "SystemMessagePromptTemplate(prompt=PromptTemplate(input_variables=['about'], input_types={}, partial_variables={}, template='You are expert the writing about {about} articles'), additional_kwargs={})"
      ]
     },
     "execution_count": 6,
     "metadata": {},
     "output_type": "execute_result"
    }
   ],
   "source": [
    "system"
   ]
  },
  {
   "cell_type": "code",
   "execution_count": 7,
   "metadata": {},
   "outputs": [
    {
     "data": {
      "text/plain": [
       "ChatPromptTemplate(input_variables=['Topics', 'about', 'points'], input_types={}, partial_variables={}, messages=[SystemMessagePromptTemplate(prompt=PromptTemplate(input_variables=['about'], input_types={}, partial_variables={}, template='You are expert the writing about {about} articles'), additional_kwargs={}), HumanMessagePromptTemplate(prompt=PromptTemplate(input_variables=['Topics', 'points'], input_types={}, partial_variables={}, template='write a article about {Topics} in {points} points'), additional_kwargs={})])"
      ]
     },
     "execution_count": 7,
     "metadata": {},
     "output_type": "execute_result"
    }
   ],
   "source": [
    "messages = [system,question]\n",
    "template = ChatPromptTemplate(messages)\n",
    "template"
   ]
  },
  {
   "cell_type": "code",
   "execution_count": 8,
   "metadata": {},
   "outputs": [
    {
     "name": "stderr",
     "output_type": "stream",
     "text": [
      "c:\\Users\\Admin\\AppData\\Local\\Programs\\Python\\Python310\\lib\\site-packages\\langsmith\\client.py:354: LangSmithMissingAPIKeyWarning: API key must be provided when using hosted LangSmith API\n",
      "  warnings.warn(\n",
      "Failed to multipart ingest runs: langsmith.utils.LangSmithAuthError: Authentication failed for https://api.smith.langchain.com/runs/multipart. HTTPError('401 Client Error: Unauthorized for url: https://api.smith.langchain.com/runs/multipart', '{\"detail\":\"Invalid token\"}')trace=6bf40689-1727-487c-bf3d-dd98b89a8b21,id=6bf40689-1727-487c-bf3d-dd98b89a8b21; trace=6bf40689-1727-487c-bf3d-dd98b89a8b21,id=b7b17736-c5fb-4cf5-a6dc-b90b5cd1ab42; trace=6bf40689-1727-487c-bf3d-dd98b89a8b21,id=6587e70c-8a0b-4827-a85c-7bd666ee8b2b\n"
     ]
    },
    {
     "name": "stdout",
     "output_type": "stream",
     "text": [
      "content=\"**The Rise of Smartphones: A Glimpse into the Future of Mobile Technology**\\n\\nIn recent years, smartphones have become an indispensable part of modern life. These devices have revolutionized the way we communicate, access information, and navigate our surroundings. Here are five key points that highlight the significance of smartphones in today's digital age:\\n\\n**1. Ubiquity: Smartphones are Everywhere**\\n\\nSmartphones have become an integral part of our daily lives, with over 5 billion people owning one worldwide. From urban centers to rural areas, smartphones are ubiquitous, providing access to a vast array of services and features that were once the exclusive domain of computers. Whether it's making phone calls, sending text messages, or browsing the internet, smartphones are an indispensable tool for staying connected.\\n\\n**2. Technological Advancements: Improving Performance and Security**\\n\\nThe smartphone industry has witnessed significant technological advancements in recent years, including improvements in processing power, memory, and display technology. This has led to faster app loading times, smoother performance, and enhanced security features. Additionally, advancements in artificial intelligence (AI) and machine learning (ML) have enabled smartphones to recognize patterns, predict user behavior, and provide personalized experiences.\\n\\n**3. E-commerce and Digital Payments: The Rise of Mobile Commerce**\\n\\nSmartphones have democratized access to e-commerce, enabling users to browse, purchase, and pay for products online with ease. According to a report by Statista, mobile commerce (m-commerce) has grown significantly over the past decade, with global sales reaching $3.7 trillion in 2020. The convenience of shopping on-the-go, combined with the security features provided by mobile payment systems, has made smartphones an attractive option for online transactions.\\n\\n**4. Health and Wellness: Fitness Tracking and Remote Medical Assistance**\\n\\nSmartphones have become essential tools for maintaining physical and mental well-being. Fitness tracking apps, such as Fitbit and Google Fit, allow users to monitor their activity levels, sleep patterns, and nutrition, providing valuable insights into their health habits. Additionally, smartphones enable remote medical assistance, with telemedicine services making it possible to consult with healthcare professionals from anywhere in the world.\\n\\n**5. Social Media and Communication: The Power of Mobile Platforms**\\n\\nSmartphones have transformed the way we communicate and interact with each other. Social media platforms like Facebook, Instagram, and Twitter have become indispensable tools for staying connected with friends, family, and colleagues. Smartphones also enable us to share photos, videos, and updates in real-time, facilitating instant communication and collaboration.\\n\\nIn conclusion, smartphones have become an integral part of modern life, offering unparalleled convenience, connectivity, and access to information. As technology continues to evolve, it's likely that smartphones will remain a vital component of our daily lives for years to come.\" additional_kwargs={} response_metadata={'model': 'llama3.2:1b', 'created_at': '2024-12-19T13:33:46.9788355Z', 'done': True, 'done_reason': 'stop', 'total_duration': 24605157500, 'load_duration': 7652545900, 'prompt_eval_count': 45, 'prompt_eval_duration': 460000000, 'eval_count': 562, 'eval_duration': 15218000000, 'message': Message(role='assistant', content='', images=None, tool_calls=None)} id='run-6587e70c-8a0b-4827-a85c-7bd666ee8b2b-0' usage_metadata={'input_tokens': 45, 'output_tokens': 562, 'total_tokens': 607}\n"
     ]
    }
   ],
   "source": [
    "chain = template | llm\n",
    "response = chain.invoke({'about':'businees','Topics':'smart phone','points':'5'})\n",
    "print(response)"
   ]
  },
  {
   "cell_type": "code",
   "execution_count": 9,
   "metadata": {},
   "outputs": [
    {
     "name": "stdout",
     "output_type": "stream",
     "text": [
      "**The Rise of Smartphones: A Glimpse into the Future of Mobile Technology**\n",
      "\n",
      "In recent years, smartphones have become an indispensable part of modern life. These devices have revolutionized the way we communicate, access information, and navigate our surroundings. Here are five key points that highlight the significance of smartphones in today's digital age:\n",
      "\n",
      "**1. Ubiquity: Smartphones are Everywhere**\n",
      "\n",
      "Smartphones have become an integral part of our daily lives, with over 5 billion people owning one worldwide. From urban centers to rural areas, smartphones are ubiquitous, providing access to a vast array of services and features that were once the exclusive domain of computers. Whether it's making phone calls, sending text messages, or browsing the internet, smartphones are an indispensable tool for staying connected.\n",
      "\n",
      "**2. Technological Advancements: Improving Performance and Security**\n",
      "\n",
      "The smartphone industry has witnessed significant technological advancements in recent years, including improvements in processing power, memory, and display technology. This has led to faster app loading times, smoother performance, and enhanced security features. Additionally, advancements in artificial intelligence (AI) and machine learning (ML) have enabled smartphones to recognize patterns, predict user behavior, and provide personalized experiences.\n",
      "\n",
      "**3. E-commerce and Digital Payments: The Rise of Mobile Commerce**\n",
      "\n",
      "Smartphones have democratized access to e-commerce, enabling users to browse, purchase, and pay for products online with ease. According to a report by Statista, mobile commerce (m-commerce) has grown significantly over the past decade, with global sales reaching $3.7 trillion in 2020. The convenience of shopping on-the-go, combined with the security features provided by mobile payment systems, has made smartphones an attractive option for online transactions.\n",
      "\n",
      "**4. Health and Wellness: Fitness Tracking and Remote Medical Assistance**\n",
      "\n",
      "Smartphones have become essential tools for maintaining physical and mental well-being. Fitness tracking apps, such as Fitbit and Google Fit, allow users to monitor their activity levels, sleep patterns, and nutrition, providing valuable insights into their health habits. Additionally, smartphones enable remote medical assistance, with telemedicine services making it possible to consult with healthcare professionals from anywhere in the world.\n",
      "\n",
      "**5. Social Media and Communication: The Power of Mobile Platforms**\n",
      "\n",
      "Smartphones have transformed the way we communicate and interact with each other. Social media platforms like Facebook, Instagram, and Twitter have become indispensable tools for staying connected with friends, family, and colleagues. Smartphones also enable us to share photos, videos, and updates in real-time, facilitating instant communication and collaboration.\n",
      "\n",
      "In conclusion, smartphones have become an integral part of modern life, offering unparalleled convenience, connectivity, and access to information. As technology continues to evolve, it's likely that smartphones will remain a vital component of our daily lives for years to come.\n"
     ]
    }
   ],
   "source": [
    "print(response.content)"
   ]
  },
  {
   "cell_type": "code",
   "execution_count": 10,
   "metadata": {},
   "outputs": [],
   "source": [
    "from langchain_core.output_parsers import StrOutputParser"
   ]
  },
  {
   "cell_type": "code",
   "execution_count": 11,
   "metadata": {},
   "outputs": [
    {
     "name": "stderr",
     "output_type": "stream",
     "text": [
      "Failed to multipart ingest runs: langsmith.utils.LangSmithAuthError: Authentication failed for https://api.smith.langchain.com/runs/multipart. HTTPError('401 Client Error: Unauthorized for url: https://api.smith.langchain.com/runs/multipart', '{\"detail\":\"Invalid token\"}')trace=6bf40689-1727-487c-bf3d-dd98b89a8b21,id=6587e70c-8a0b-4827-a85c-7bd666ee8b2b; trace=6bf40689-1727-487c-bf3d-dd98b89a8b21,id=6bf40689-1727-487c-bf3d-dd98b89a8b21\n",
      "Failed to multipart ingest runs: langsmith.utils.LangSmithAuthError: Authentication failed for https://api.smith.langchain.com/runs/multipart. HTTPError('401 Client Error: Unauthorized for url: https://api.smith.langchain.com/runs/multipart', '{\"detail\":\"Invalid token\"}')trace=1fd9cd24-60a7-46c2-93ad-c9f91f8e9d88,id=1fd9cd24-60a7-46c2-93ad-c9f91f8e9d88; trace=1fd9cd24-60a7-46c2-93ad-c9f91f8e9d88,id=1709f72d-f38d-46c8-8ae0-ce130348bfc6; trace=1fd9cd24-60a7-46c2-93ad-c9f91f8e9d88,id=32c77a29-4773-499b-93fd-3f7dfa2cbf57\n",
      "Failed to multipart ingest runs: langsmith.utils.LangSmithAuthError: Authentication failed for https://api.smith.langchain.com/runs/multipart. HTTPError('401 Client Error: Unauthorized for url: https://api.smith.langchain.com/runs/multipart', '{\"detail\":\"Invalid token\"}')trace=1fd9cd24-60a7-46c2-93ad-c9f91f8e9d88,id=fcfeb322-2d8a-4f31-8ac0-c2a9946eb3cf; trace=1fd9cd24-60a7-46c2-93ad-c9f91f8e9d88,id=1fd9cd24-60a7-46c2-93ad-c9f91f8e9d88; trace=1fd9cd24-60a7-46c2-93ad-c9f91f8e9d88,id=32c77a29-4773-499b-93fd-3f7dfa2cbf57\n",
      "Failed to multipart ingest runs: langsmith.utils.LangSmithAuthError: Authentication failed for https://api.smith.langchain.com/runs/multipart. HTTPError('401 Client Error: Unauthorized for url: https://api.smith.langchain.com/runs/multipart', '{\"detail\":\"Invalid token\"}')trace=e1d067cd-ee8e-4329-878e-8559b9defb38,id=e1d067cd-ee8e-4329-878e-8559b9defb38; trace=e1d067cd-ee8e-4329-878e-8559b9defb38,id=c36d22ea-bf5f-4826-a25a-be03778b267d\n",
      "Failed to multipart ingest runs: langsmith.utils.LangSmithAuthError: Authentication failed for https://api.smith.langchain.com/runs/multipart. HTTPError('401 Client Error: Unauthorized for url: https://api.smith.langchain.com/runs/multipart', '{\"detail\":\"Invalid token\"}')trace=2a30065a-4688-4631-acb2-98c1560a05fb,id=2a30065a-4688-4631-acb2-98c1560a05fb; trace=2a30065a-4688-4631-acb2-98c1560a05fb,id=9824ad3e-0aab-4022-abce-f474840d934f; trace=e1d067cd-ee8e-4329-878e-8559b9defb38,id=e1d067cd-ee8e-4329-878e-8559b9defb38; trace=e1d067cd-ee8e-4329-878e-8559b9defb38,id=c36d22ea-bf5f-4826-a25a-be03778b267d\n",
      "Failed to multipart ingest runs: langsmith.utils.LangSmithAuthError: Authentication failed for https://api.smith.langchain.com/runs/multipart. HTTPError('401 Client Error: Unauthorized for url: https://api.smith.langchain.com/runs/multipart', '{\"detail\":\"Invalid token\"}')trace=2a30065a-4688-4631-acb2-98c1560a05fb,id=2a30065a-4688-4631-acb2-98c1560a05fb; trace=2a30065a-4688-4631-acb2-98c1560a05fb,id=9824ad3e-0aab-4022-abce-f474840d934f\n",
      "Failed to multipart ingest runs: langsmith.utils.LangSmithAuthError: Authentication failed for https://api.smith.langchain.com/runs/multipart. HTTPError('401 Client Error: Unauthorized for url: https://api.smith.langchain.com/runs/multipart', '{\"detail\":\"Invalid token\"}')trace=768d3b58-724e-4b21-8612-afbe2a1b3a17,id=768d3b58-724e-4b21-8612-afbe2a1b3a17; trace=768d3b58-724e-4b21-8612-afbe2a1b3a17,id=2a42d3c1-cdfa-475d-805b-a931ca59ce57; trace=768d3b58-724e-4b21-8612-afbe2a1b3a17,id=6631b5bd-c64f-4bb3-9175-9913f74f8bae\n",
      "Failed to multipart ingest runs: langsmith.utils.LangSmithAuthError: Authentication failed for https://api.smith.langchain.com/runs/multipart. HTTPError('401 Client Error: Unauthorized for url: https://api.smith.langchain.com/runs/multipart', '{\"detail\":\"Invalid token\"}')trace=768d3b58-724e-4b21-8612-afbe2a1b3a17,id=71ac63d3-7a0c-4db1-9e5c-55a724b4ee15; trace=768d3b58-724e-4b21-8612-afbe2a1b3a17,id=e7902f24-84c2-46bd-8fa7-cd2ecfed63fe; trace=768d3b58-724e-4b21-8612-afbe2a1b3a17,id=2a42d3c1-cdfa-475d-805b-a931ca59ce57; trace=768d3b58-724e-4b21-8612-afbe2a1b3a17,id=6631b5bd-c64f-4bb3-9175-9913f74f8bae\n",
      "Failed to multipart ingest runs: langsmith.utils.LangSmithAuthError: Authentication failed for https://api.smith.langchain.com/runs/multipart. HTTPError('401 Client Error: Unauthorized for url: https://api.smith.langchain.com/runs/multipart', '{\"detail\":\"Invalid token\"}')trace=b0781aa1-cae5-43f0-9045-ed9b71473a28,id=b0781aa1-cae5-43f0-9045-ed9b71473a28; trace=ad2dd0ba-94d2-4fc6-a494-1ccabaa06e10,id=ad2dd0ba-94d2-4fc6-a494-1ccabaa06e10; trace=768d3b58-724e-4b21-8612-afbe2a1b3a17,id=768d3b58-724e-4b21-8612-afbe2a1b3a17; trace=768d3b58-724e-4b21-8612-afbe2a1b3a17,id=71ac63d3-7a0c-4db1-9e5c-55a724b4ee15; trace=768d3b58-724e-4b21-8612-afbe2a1b3a17,id=e7902f24-84c2-46bd-8fa7-cd2ecfed63fe\n",
      "Failed to multipart ingest runs: langsmith.utils.LangSmithAuthError: Authentication failed for https://api.smith.langchain.com/runs/multipart. HTTPError('401 Client Error: Unauthorized for url: https://api.smith.langchain.com/runs/multipart', '{\"detail\":\"Invalid token\"}')trace=8bf3814e-f9a7-4218-9d17-d280d13918be,id=8bf3814e-f9a7-4218-9d17-d280d13918be; trace=8bf3814e-f9a7-4218-9d17-d280d13918be,id=9ff58503-c8be-4269-989f-7b95c3ff570e; trace=8bf3814e-f9a7-4218-9d17-d280d13918be,id=8ecdd70c-b747-455d-9c9c-e23b02e1654a; trace=ad2dd0ba-94d2-4fc6-a494-1ccabaa06e10,id=ad2dd0ba-94d2-4fc6-a494-1ccabaa06e10\n",
      "Failed to multipart ingest runs: langsmith.utils.LangSmithAuthError: Authentication failed for https://api.smith.langchain.com/runs/multipart. HTTPError('401 Client Error: Unauthorized for url: https://api.smith.langchain.com/runs/multipart', '{\"detail\":\"Invalid token\"}')trace=8bf3814e-f9a7-4218-9d17-d280d13918be,id=f4bbdf94-9697-4eb6-99d8-2e892ca519bc; trace=5758420f-e919-4fd9-837b-3bb62d12c9f5,id=5758420f-e919-4fd9-837b-3bb62d12c9f5; trace=5758420f-e919-4fd9-837b-3bb62d12c9f5,id=20528e51-74aa-44e1-84c1-2f9ffbf8e12e; trace=5758420f-e919-4fd9-837b-3bb62d12c9f5,id=85152ecf-102e-42cb-a8b2-a334fe273ec1; trace=8bf3814e-f9a7-4218-9d17-d280d13918be,id=8bf3814e-f9a7-4218-9d17-d280d13918be; trace=8bf3814e-f9a7-4218-9d17-d280d13918be,id=8ecdd70c-b747-455d-9c9c-e23b02e1654a\n",
      "Failed to multipart ingest runs: langsmith.utils.LangSmithAuthError: Authentication failed for https://api.smith.langchain.com/runs/multipart. HTTPError('401 Client Error: Unauthorized for url: https://api.smith.langchain.com/runs/multipart', '{\"detail\":\"Invalid token\"}')trace=4a19f909-e221-43b5-9e1c-c41a33a39317,id=4a19f909-e221-43b5-9e1c-c41a33a39317; trace=4a19f909-e221-43b5-9e1c-c41a33a39317,id=b9c9122b-917f-40d7-9b73-3925ba3f1b5f; trace=4a19f909-e221-43b5-9e1c-c41a33a39317,id=66d8340b-70f6-4a41-be54-6cdb73d9a112\n",
      "Failed to multipart ingest runs: langsmith.utils.LangSmithAuthError: Authentication failed for https://api.smith.langchain.com/runs/multipart. HTTPError('401 Client Error: Unauthorized for url: https://api.smith.langchain.com/runs/multipart', '{\"detail\":\"Invalid token\"}')trace=9c57728a-908d-4759-bc1e-52f8a166de93,id=9c57728a-908d-4759-bc1e-52f8a166de93; trace=d1eba46e-15d3-4209-a997-3e7718de8c8f,id=d1eba46e-15d3-4209-a997-3e7718de8c8f\n",
      "Failed to multipart ingest runs: langsmith.utils.LangSmithAuthError: Authentication failed for https://api.smith.langchain.com/runs/multipart. HTTPError('401 Client Error: Unauthorized for url: https://api.smith.langchain.com/runs/multipart', '{\"detail\":\"Invalid token\"}')trace=d1eba46e-15d3-4209-a997-3e7718de8c8f,id=d1eba46e-15d3-4209-a997-3e7718de8c8f\n",
      "Failed to multipart ingest runs: langsmith.utils.LangSmithAuthError: Authentication failed for https://api.smith.langchain.com/runs/multipart. HTTPError('401 Client Error: Unauthorized for url: https://api.smith.langchain.com/runs/multipart', '{\"detail\":\"Invalid token\"}')trace=2d6759f2-74e7-4c7e-b6b6-4652385ad31b,id=2d6759f2-74e7-4c7e-b6b6-4652385ad31b; trace=2d6759f2-74e7-4c7e-b6b6-4652385ad31b,id=e22335fc-5943-4c15-abc0-871a5305a63d; trace=2d6759f2-74e7-4c7e-b6b6-4652385ad31b,id=ed04243c-56bc-40d8-a27e-77141b3f065b\n",
      "Failed to multipart ingest runs: langsmith.utils.LangSmithAuthError: Authentication failed for https://api.smith.langchain.com/runs/multipart. HTTPError('401 Client Error: Unauthorized for url: https://api.smith.langchain.com/runs/multipart', '{\"detail\":\"Invalid token\"}')trace=2d6759f2-74e7-4c7e-b6b6-4652385ad31b,id=2d6759f2-74e7-4c7e-b6b6-4652385ad31b; trace=2d6759f2-74e7-4c7e-b6b6-4652385ad31b,id=e22335fc-5943-4c15-abc0-871a5305a63d\n",
      "Failed to multipart ingest runs: langsmith.utils.LangSmithAuthError: Authentication failed for https://api.smith.langchain.com/runs/multipart. HTTPError('401 Client Error: Unauthorized for url: https://api.smith.langchain.com/runs/multipart', '{\"detail\":\"Invalid token\"}')trace=c2c5e266-f168-412e-8b66-8125cf0869d8,id=c2c5e266-f168-412e-8b66-8125cf0869d8; trace=c2c5e266-f168-412e-8b66-8125cf0869d8,id=908340df-277a-447c-816a-090bcba84626; trace=c2c5e266-f168-412e-8b66-8125cf0869d8,id=76232b70-d82a-4a09-bc5e-72d5aa8195a5\n",
      "Failed to multipart ingest runs: langsmith.utils.LangSmithAuthError: Authentication failed for https://api.smith.langchain.com/runs/multipart. HTTPError('401 Client Error: Unauthorized for url: https://api.smith.langchain.com/runs/multipart', '{\"detail\":\"Invalid token\"}')trace=c2c5e266-f168-412e-8b66-8125cf0869d8,id=c2c5e266-f168-412e-8b66-8125cf0869d8; trace=c2c5e266-f168-412e-8b66-8125cf0869d8,id=76232b70-d82a-4a09-bc5e-72d5aa8195a5\n",
      "Failed to multipart ingest runs: langsmith.utils.LangSmithAuthError: Authentication failed for https://api.smith.langchain.com/runs/multipart. HTTPError('401 Client Error: Unauthorized for url: https://api.smith.langchain.com/runs/multipart', '{\"detail\":\"Invalid token\"}')trace=23c13b07-8b9a-4cbb-a749-932eb735cf1a,id=23c13b07-8b9a-4cbb-a749-932eb735cf1a; trace=23c13b07-8b9a-4cbb-a749-932eb735cf1a,id=e3b4c53e-1427-4d1c-a51c-2527fe96f8f0; trace=23c13b07-8b9a-4cbb-a749-932eb735cf1a,id=9c403d0e-221e-4a6c-9005-a30f4f89a3b3\n",
      "Failed to multipart ingest runs: langsmith.utils.LangSmithAuthError: Authentication failed for https://api.smith.langchain.com/runs/multipart. HTTPError('401 Client Error: Unauthorized for url: https://api.smith.langchain.com/runs/multipart', '{\"detail\":\"Invalid token\"}')trace=23c13b07-8b9a-4cbb-a749-932eb735cf1a,id=0240408e-0f56-459d-83ce-d44dfc86d735; trace=182f5d61-7ecf-4785-99ec-b8703ab4d066,id=182f5d61-7ecf-4785-99ec-b8703ab4d066; trace=182f5d61-7ecf-4785-99ec-b8703ab4d066,id=cb28ed9c-e894-4daa-ba6f-0ac9721518b9; trace=182f5d61-7ecf-4785-99ec-b8703ab4d066,id=06c2ef89-9961-4176-917a-9db0662b596c; trace=182f5d61-7ecf-4785-99ec-b8703ab4d066,id=1a3e9e3b-d786-494d-99ce-bb5c2c43bb89; trace=182f5d61-7ecf-4785-99ec-b8703ab4d066,id=2a4f24d8-6727-4e14-8428-36da841d0b17; trace=23c13b07-8b9a-4cbb-a749-932eb735cf1a,id=23c13b07-8b9a-4cbb-a749-932eb735cf1a; trace=23c13b07-8b9a-4cbb-a749-932eb735cf1a,id=9c403d0e-221e-4a6c-9005-a30f4f89a3b3\n",
      "Failed to multipart ingest runs: langsmith.utils.LangSmithAuthError: Authentication failed for https://api.smith.langchain.com/runs/multipart. HTTPError('401 Client Error: Unauthorized for url: https://api.smith.langchain.com/runs/multipart', '{\"detail\":\"Invalid token\"}')trace=182f5d61-7ecf-4785-99ec-b8703ab4d066,id=5031fa98-33c5-4e9b-aca3-0b512d68c2bf; trace=182f5d61-7ecf-4785-99ec-b8703ab4d066,id=85f6134f-f02c-42dc-81d6-6ab69f21b6a0; trace=182f5d61-7ecf-4785-99ec-b8703ab4d066,id=06c2ef89-9961-4176-917a-9db0662b596c; trace=182f5d61-7ecf-4785-99ec-b8703ab4d066,id=2a4f24d8-6727-4e14-8428-36da841d0b17; trace=182f5d61-7ecf-4785-99ec-b8703ab4d066,id=cb28ed9c-e894-4daa-ba6f-0ac9721518b9\n",
      "Failed to multipart ingest runs: langsmith.utils.LangSmithAuthError: Authentication failed for https://api.smith.langchain.com/runs/multipart. HTTPError('401 Client Error: Unauthorized for url: https://api.smith.langchain.com/runs/multipart', '{\"detail\":\"Invalid token\"}')trace=182f5d61-7ecf-4785-99ec-b8703ab4d066,id=e08676a4-8a63-4336-a854-ae3c4d49eb3f; trace=182f5d61-7ecf-4785-99ec-b8703ab4d066,id=182f5d61-7ecf-4785-99ec-b8703ab4d066; trace=182f5d61-7ecf-4785-99ec-b8703ab4d066,id=85f6134f-f02c-42dc-81d6-6ab69f21b6a0\n"
     ]
    },
    {
     "name": "stdout",
     "output_type": "stream",
     "text": [
      "I can provide you with an overview of Dolo-650, but please note that I'll be providing a general summary and not a comprehensive medical review. If you're looking for detailed information, I recommend consulting a healthcare professional or a reliable medical source.\n",
      "\n",
      "**Dolo-650: A Breakthrough in Post-Surgical Pain Management**\n",
      "\n",
      "Dolo-650 is a nonsteroidal anti-inflammatory drug (NSAID) developed by Bayer Pharma pharmaceutical company, approved by the US FDA in 2020. It's primarily marketed for the short-term management of pain associated with minor to moderate surgical procedures, such as orthopedic and urological surgeries.\n",
      "\n",
      "Here are five key points about Dolo-650:\n",
      "\n",
      "1. **Mechanism of Action**: Dolo-650 works by inhibiting the enzyme cyclooxygenase-2 (COX-2), which is involved in the production of prostaglandins that cause pain, inflammation, and fever. By blocking COX-2, Dolo-650 reduces these symptoms.\n",
      "\n",
      "2. **Clinical Trials**: The FDA approved Dolo-650 for use in adults for the treatment of moderate to severe postoperative pain following minor to moderate surgical procedures. Clinical trials demonstrated its efficacy in reducing pain and improving function compared to standard NSAIDs.\n",
      "\n",
      "3. **Dosage and Administration**: The recommended dosage of Dolo-650 is 650 mg every 4 hours as needed, not to exceed 4 times daily. It can be administered orally or intravenously. Patients should follow the specific instructions provided by their healthcare provider.\n",
      "\n",
      "4. **Potential Benefits**: Studies suggest that Dolo-650 may offer benefits beyond standard pain management, including reduced risk of opioid-related complications and improved patient satisfaction. Additionally, its potential to reduce inflammation and enhance recovery may make it a valuable addition to postoperative care.\n",
      "\n",
      "5. **Side Effects and Interactions**: Common side effects of Dolo-650 include nausea, vomiting, diarrhea, stomach pain, and liver enzyme elevation. Patients should inform their healthcare provider about all medications they're taking, as Dolo-650 may interact with other substances that could lead to adverse effects.\n",
      "\n",
      "It is essential to consult a healthcare professional for personalized advice on using Dolo-650 or any medication. While Dolo-650 shows promise in managing postoperative pain, it's crucial to weigh the benefits against potential risks and consider alternative treatments depending on individual circumstances.\n"
     ]
    }
   ],
   "source": [
    "chain = template | llm | StrOutputParser()\n",
    "response = chain.invoke({'about':'Medical','Topics':'Dolo-650','points':'5'})\n",
    "print(response)"
   ]
  },
  {
   "cell_type": "code",
   "execution_count": 12,
   "metadata": {},
   "outputs": [],
   "source": [
    "from langchain.chains import LLMChain"
   ]
  },
  {
   "cell_type": "markdown",
   "metadata": {},
   "source": [
    "Example of the sequential chain \n",
    "\n",
    "Manually chains two LLMChain instances by passing the output of one chain as input to the next.\n",
    "\n",
    "Uses ChatPromptTemplate and SystemMessagePromptTemplate for defining prompts."
   ]
  },
  {
   "cell_type": "code",
   "execution_count": 13,
   "metadata": {},
   "outputs": [
    {
     "name": "stderr",
     "output_type": "stream",
     "text": [
      "C:\\Users\\Admin\\AppData\\Local\\Temp\\ipykernel_27408\\2927318651.py:10: LangChainDeprecationWarning: The class `LLMChain` was deprecated in LangChain 0.1.17 and will be removed in 1.0. Use :meth:`~RunnableSequence, e.g., `prompt | llm`` instead.\n",
      "  chain = LLMChain(llm=llm, prompt=template, output_parser=StrOutputParser())\n"
     ]
    },
    {
     "name": "stdout",
     "output_type": "stream",
     "text": [
      "{'program_name': 'write a program to implement a linked list in Python', 'text': 'Here\\'s an example implementation of a singly linked list in Python:\\n\\n```python\\nclass Node:\\n    \"\"\"Represents a single node in the linked list.\"\"\"\\n    \\n    def __init__(self, data=None):\\n        \"\"\"\\n        Initializes a new node with the given data.\\n        \\n        Args:\\n            data (any): The data to be stored in the node.\\n        \"\"\"\\n        self.data = data\\n        self.next = None\\n\\n\\nclass LinkedList:\\n    \"\"\"Represents a singly linked list.\"\"\"\\n    \\n    def __init__(self):\\n        \"\"\"\\n        Initializes an empty linked list.\\n        \"\"\"\\n        self.head = None\\n\\n    def insert_at_head(self, data):\\n        \"\"\"\\n        Inserts the given data at the head of the linked list.\\n        \\n        Args:\\n            data (any): The data to be inserted into the linked list.\\n        \"\"\"\\n        new_node = Node(data)\\n        if not self.head:\\n            self.head = new_node\\n        else:\\n            new_node.next = self.head\\n            self.head = new_node\\n\\n    def insert_at_tail(self, data):\\n        \"\"\"\\n        Inserts the given data at the tail of the linked list.\\n        \\n        Args:\\n            data (any): The data to be inserted into the linked list.\\n        \"\"\"\\n        if not self.head:\\n            self.insert_at_head(data)\\n        else:\\n            current_node = self.head\\n            while current_node.next:\\n                current_node = current_node.next\\n            new_node = Node(data)\\n            current_node.next = new_node\\n\\n    def delete(self, data):\\n        \"\"\"\\n        Deletes the first occurrence of the given data in the linked list.\\n        \\n        Args:\\n            data (any): The data to be deleted from the linked list.\\n        \"\"\"\\n        if not self.head:\\n            return\\n        \\n        # If the head node contains the data to be deleted\\n        if self.head.data == data:\\n            self.head = self.head.next\\n            return\\n        \\n        current_node = self.head\\n        while current_node.next:\\n            if current_node.next.data == data:\\n                break\\n            current_node = current_node.next\\n\\n        # If the data is not found in the linked list\\n        if not current_node.next:\\n            raise ValueError(\"Data not found in the linked list\")\\n\\n        current_node.next = current_node.next.next\\n\\n\\n    def print_list(self):\\n        \"\"\"\\n        Prints the elements of the linked list.\\n        \"\"\"\\n        current_node = self.head\\n        while current_node:\\n            print(current_node.data, end=\" -> \" if current_node.next else \"\\\\n\")\\n            current_node = current_node.next\\n\\n\\n# Example usage:\\nlinked_list = LinkedList()\\nlinked_list.insert_at_head(5)\\nlinked_list.insert_at_tail(10)\\nlinked_list.insert_at_tail(15)\\nprint(\"Linked List: \")\\nlinked_list.print_list()\\n\\nlinked_list.delete(5)\\nprint(\"After deleting 5: \")\\nlinked_list.print_list()\\n```\\n\\nThis implementation provides the following methods:\\n\\n*   `insert_at_head(data)`: Inserts a new node with the given data at the head of the linked list.\\n*   `insert_at_tail(data)`: Inserts a new node with the given data at the tail of the linked list.\\n*   `delete(data)`: Deletes the first occurrence of the given data in the linked list. If the data is not found, it raises a ValueError.\\n*   `print_list()`: Prints the elements of the linked list.\\n\\nYou can modify this implementation to suit your specific requirements.'}\n"
     ]
    }
   ],
   "source": [
    "# Define the system and human message templates\n",
    "system = SystemMessagePromptTemplate.from_template(\"You are an expert in Computer Science Engineering. Assist users with their questions.\")\n",
    "coder = HumanMessagePromptTemplate.from_template(\"Write a program for {program_name}\")\n",
    "\n",
    "# Create the chat prompt template\n",
    "messages = [system, coder]\n",
    "template = ChatPromptTemplate(messages)\n",
    "\n",
    "# Define the chain\n",
    "chain = LLMChain(llm=llm, prompt=template, output_parser=StrOutputParser())\n",
    "\n",
    "# Invoke the chain with the correct input type\n",
    "program_output = chain.invoke({\"program_name\": \"write a program to implement a linked list in Python\"})\n",
    "print(program_output)\n"
   ]
  },
  {
   "cell_type": "code",
   "execution_count": 14,
   "metadata": {},
   "outputs": [
    {
     "name": "stdout",
     "output_type": "stream",
     "text": [
      "Here's an example implementation of a singly linked list in Python:\n",
      "\n",
      "```python\n",
      "class Node:\n",
      "    \"\"\"Represents a single node in the linked list.\"\"\"\n",
      "    \n",
      "    def __init__(self, data=None):\n",
      "        \"\"\"\n",
      "        Initializes a new node with the given data.\n",
      "        \n",
      "        Args:\n",
      "            data (any): The data to be stored in the node.\n",
      "        \"\"\"\n",
      "        self.data = data\n",
      "        self.next = None\n",
      "\n",
      "\n",
      "class LinkedList:\n",
      "    \"\"\"Represents a singly linked list.\"\"\"\n",
      "    \n",
      "    def __init__(self):\n",
      "        \"\"\"\n",
      "        Initializes an empty linked list.\n",
      "        \"\"\"\n",
      "        self.head = None\n",
      "\n",
      "    def insert_at_head(self, data):\n",
      "        \"\"\"\n",
      "        Inserts the given data at the head of the linked list.\n",
      "        \n",
      "        Args:\n",
      "            data (any): The data to be inserted into the linked list.\n",
      "        \"\"\"\n",
      "        new_node = Node(data)\n",
      "        if not self.head:\n",
      "            self.head = new_node\n",
      "        else:\n",
      "            new_node.next = self.head\n",
      "            self.head = new_node\n",
      "\n",
      "    def insert_at_tail(self, data):\n",
      "        \"\"\"\n",
      "        Inserts the given data at the tail of the linked list.\n",
      "        \n",
      "        Args:\n",
      "            data (any): The data to be inserted into the linked list.\n",
      "        \"\"\"\n",
      "        if not self.head:\n",
      "            self.insert_at_head(data)\n",
      "        else:\n",
      "            current_node = self.head\n",
      "            while current_node.next:\n",
      "                current_node = current_node.next\n",
      "            new_node = Node(data)\n",
      "            current_node.next = new_node\n",
      "\n",
      "    def delete(self, data):\n",
      "        \"\"\"\n",
      "        Deletes the first occurrence of the given data in the linked list.\n",
      "        \n",
      "        Args:\n",
      "            data (any): The data to be deleted from the linked list.\n",
      "        \"\"\"\n",
      "        if not self.head:\n",
      "            return\n",
      "        \n",
      "        # If the head node contains the data to be deleted\n",
      "        if self.head.data == data:\n",
      "            self.head = self.head.next\n",
      "            return\n",
      "        \n",
      "        current_node = self.head\n",
      "        while current_node.next:\n",
      "            if current_node.next.data == data:\n",
      "                break\n",
      "            current_node = current_node.next\n",
      "\n",
      "        # If the data is not found in the linked list\n",
      "        if not current_node.next:\n",
      "            raise ValueError(\"Data not found in the linked list\")\n",
      "\n",
      "        current_node.next = current_node.next.next\n",
      "\n",
      "\n",
      "    def print_list(self):\n",
      "        \"\"\"\n",
      "        Prints the elements of the linked list.\n",
      "        \"\"\"\n",
      "        current_node = self.head\n",
      "        while current_node:\n",
      "            print(current_node.data, end=\" -> \" if current_node.next else \"\\n\")\n",
      "            current_node = current_node.next\n",
      "\n",
      "\n",
      "# Example usage:\n",
      "linked_list = LinkedList()\n",
      "linked_list.insert_at_head(5)\n",
      "linked_list.insert_at_tail(10)\n",
      "linked_list.insert_at_tail(15)\n",
      "print(\"Linked List: \")\n",
      "linked_list.print_list()\n",
      "\n",
      "linked_list.delete(5)\n",
      "print(\"After deleting 5: \")\n",
      "linked_list.print_list()\n",
      "```\n",
      "\n",
      "This implementation provides the following methods:\n",
      "\n",
      "*   `insert_at_head(data)`: Inserts a new node with the given data at the head of the linked list.\n",
      "*   `insert_at_tail(data)`: Inserts a new node with the given data at the tail of the linked list.\n",
      "*   `delete(data)`: Deletes the first occurrence of the given data in the linked list. If the data is not found, it raises a ValueError.\n",
      "*   `print_list()`: Prints the elements of the linked list.\n",
      "\n",
      "You can modify this implementation to suit your specific requirements.\n"
     ]
    }
   ],
   "source": [
    "# Extract the text from the dictionary and print it\n",
    "program_text = program_output['text']\n",
    "print(program_text)\n",
    "code = program_text"
   ]
  },
  {
   "cell_type": "code",
   "execution_count": 15,
   "metadata": {},
   "outputs": [],
   "source": [
    "coder_explainer = HumanMessagePromptTemplate.from_template(\"explain the following program in easily understandable way {code}.\")\n",
    "messages = [system,coder_explainer]\n",
    "template = ChatPromptTemplate(messages)\n",
    "chain = LLMChain(llm=llm,prompt=template, output_parser=StrOutputParser())"
   ]
  },
  {
   "cell_type": "code",
   "execution_count": 16,
   "metadata": {},
   "outputs": [
    {
     "name": "stdout",
     "output_type": "stream",
     "text": [
      "I'd be happy to help you understand how this program works.\n",
      "\n",
      "**Overview**\n",
      "\n",
      "This program implements a singly linked list, which is a type of data structure where each element (or node) points to the next element. The `LinkedList` class represents the entire list, and its methods (`insert_at_head`, `insert_at_tail`, `delete`, and `print_list`) allow you to add or remove elements from the list.\n",
      "\n",
      "**Node Class**\n",
      "\n",
      "The `Node` class is the core of this program. It represents a single node in the linked list:\n",
      "\n",
      "*   Each node has an `__init__` method that takes `data` as an argument, which is the value stored in the node.\n",
      "*   The `next` attribute points to the next node in the list.\n",
      "\n",
      "**Linked List Class**\n",
      "\n",
      "The `LinkedList` class represents the entire list. It has several methods:\n",
      "\n",
      "### 1. `insert_at_head(data)`\n",
      "\n",
      "This method inserts a new node with the given data at the head of the linked list. Here's what happens when you call it:\n",
      "\n",
      "*   A new `Node` object is created with the given data.\n",
      "*   If the linked list is empty (`self.head` is None), the new node becomes the head of the list.\n",
      "*   Otherwise, the new node's `next` attribute points to the current head of the list.\n",
      "\n",
      "### 2. `insert_at_tail(data)`\n",
      "\n",
      "This method inserts a new node with the given data at the tail (or end) of the linked list. Here's what happens when you call it:\n",
      "\n",
      "*   A new `Node` object is created with the given data.\n",
      "*   If the linked list is empty (`self.head` is None), this method does nothing and returns immediately.\n",
      "*   Otherwise, the new node's `next` attribute points to the current tail of the list. The existing tail node becomes the new head.\n",
      "\n",
      "### 3. `delete(data)`\n",
      "\n",
      "This method deletes the first occurrence of the given data in the linked list. Here's what happens when you call it:\n",
      "\n",
      "*   If the data is found at the head of the list, this method updates the head to point to the next node.\n",
      "*   Otherwise, it searches for the first occurrence of the data in the rest of the list using a while loop.\n",
      "*   Once the data is found, its `next` attribute is updated to skip over it.\n",
      "\n",
      "### 4. `print_list()`\n",
      "\n",
      "This method prints the elements of the linked list:\n",
      "\n",
      "*   It starts at the head and traverses the entire list, printing each node's data.\n",
      "\n",
      "**Example Usage**\n",
      "\n",
      "The example code creates a `LinkedList`, inserts some nodes with values 5, 10, and 15 using the `insert_at_head`, `insert_at_tail`, and `delete` methods respectively. Finally, it prints the linked list and deletes one of its elements.\n",
      "\n",
      "Here's the relevant part of the example code:\n",
      "```python\n",
      "linked_list = LinkedList()\n",
      "linked_list.insert_at_head(5)\n",
      "linked_list.insert_at_tail(10)\n",
      "linked_list.insert_at_tail(15)\n",
      "print(\"Linked List: \")\n",
      "linked_list.print_list()\n",
      "\n",
      "linked_list.delete(5)\n",
      "print(\"After deleting 5: \")\n",
      "linked_list.print_list()\n",
      "```\n",
      "This code creates a linked list with the values [5, 10, 15], prints it, deletes the first element (5), and then prints the updated list.\n"
     ]
    }
   ],
   "source": [
    "explain_output =  chain.invoke({'code':code})\n",
    "print(explain_output['text'])    "
   ]
  },
  {
   "cell_type": "markdown",
   "metadata": {},
   "source": [
    "Example of Langchain using  the SequentialChain class explicitly to combine two LLMChain instances into a single workflow."
   ]
  },
  {
   "cell_type": "code",
   "execution_count": 17,
   "metadata": {},
   "outputs": [],
   "source": [
    "from langchain.prompts import PromptTemplate\n",
    "from langchain.chains import SequentialChain, LLMChain\n",
    "from langchain_ollama import ChatOllama\n",
    "\n",
    "# Step 1: Initialize the Language Model\n",
    "base_url = \"http://localhost:11434\"\n",
    "model = 'llama3.2:1b'\n",
    "llm = ChatOllama(base_url=base_url,model=model)\n"
   ]
  },
  {
   "cell_type": "code",
   "execution_count": 18,
   "metadata": {},
   "outputs": [
    {
     "name": "stdout",
     "output_type": "stream",
     "text": [
      "Summary: Here's a summary of the text:\n",
      "\n",
      "A linked list offers flexibility in memory allocation compared to arrays, but excels in insertion and deletion operations due to its individual element structure. However, it has a disadvantage: sequential traversal can be slower than random access in an array.\n",
      "Tweet: Here's a possible tweet based on the summary:\n",
      "\n",
      "\"Learn about linked lists! While they offer flexibility, they excel in insertions & deletions but slow down with sequential traversal. Just remember: linked list trade-offs are worth it for speed in some cases #linkedlist #datastructures\"\n"
     ]
    }
   ],
   "source": [
    "#Step 2: Define Prompts for the Chains\n",
    "summary_prompt = PromptTemplate(\n",
    "    input_variables=[\"document\"],\n",
    "    template=\"Summarize the following text:\\n{document}\\n\"\n",
    ")\n",
    "tweet_prompt = PromptTemplate(\n",
    "    input_variables=[\"summary\"],\n",
    "    template=\"Based on this summary, craft a tweet:\\n{summary}\\n\"\n",
    ")\n",
    "\n",
    "# Step 3: Create LLM Chains\n",
    "summary_chain = LLMChain(llm=llm, prompt=summary_prompt, output_key=\"summary\")\n",
    "tweet_chain = LLMChain(llm=llm, prompt=tweet_prompt, output_key=\"tweet\")\n",
    "\n",
    "# Step 4: Combine Chains in a Sequential Chain\n",
    "sequential_chain = SequentialChain(\n",
    "    chains=[summary_chain, tweet_chain],\n",
    "    input_variables=[\"document\"],\n",
    "    output_variables=[\"summary\", \"tweet\"]\n",
    ")\n",
    "\n",
    "# Step 5: Execute the Chain\n",
    "document_text = \"\"\"A linked list is a fundamental data structure in computer science that allows for efficient insertion and deletion operations, unlike arrays. While arrays have their own strengths, linked lists offer flexibility in terms of memory allocation. In a linked list, memory is allocated individually to each element, whereas in an array, memory is allocated to the entire array at once.\n",
    "                    In terms of performance, linked lists excel in insertion and deletion operations, making them a popular choice for implementing dynamic data structures like stacks, queues, and deques. However, accessing elements in a linked list requires sequential traversal, which can be slower than accessing elements in an array, where access is random and more efficient.\"\"\"\n",
    "result = sequential_chain.invoke({\"document\": document_text})\n",
    "\n",
    "# Output the Result\n",
    "print(\"Summary:\", result[\"summary\"])\n",
    "print(\"Tweet:\", result[\"tweet\"])\n"
   ]
  },
  {
   "cell_type": "markdown",
   "metadata": {},
   "source": [
    "### Chaining Runnables (Chain Multiple Runnables)"
   ]
  },
  {
   "cell_type": "markdown",
   "metadata": {},
   "source": [
    "- We can even combine this chain with more runnables to create another chain.\n",
    "- Let's see how easy our generated output is?"
   ]
  },
  {
   "cell_type": "code",
   "execution_count": 24,
   "metadata": {},
   "outputs": [
    {
     "name": "stdout",
     "output_type": "stream",
     "text": [
      "Here's what you need to know about the solar system:\n",
      "\n",
      "1. The Sun is at the center of our solar system, making up most of its mass.\n",
      "2. There are eight planets in our solar system: Mercury, Mars, Venus, Earth, Neptune, Uranus, Saturn, and Jupiter.\n",
      "3. Four gas giants (Jupiter, Saturn, Uranus, and Neptune) have thick clouds and strong winds.\n",
      "4. Three inner planets (Mercury, Mars, and Venus) are rocky and have thin atmospheres, while the four outer planets (Jupiter, Saturn, Uranus, and Neptune) are icy and have thin atmospheres as well.\n",
      "5. Pluto is now classified as a dwarf planet because it's much smaller than the other planets in our solar system.\n"
     ]
    }
   ],
   "source": [
    "system = SystemMessagePromptTemplate.from_template('You are {school} teacher. You answer in short sentences.')\n",
    "\n",
    "question = HumanMessagePromptTemplate.from_template('tell me about the {topics} in {points} points')\n",
    "\n",
    "\n",
    "messages = [system, question]\n",
    "template = ChatPromptTemplate(messages)\n",
    "\n",
    "chain = template | llm\n",
    "response = chain.invoke({'school': 'primary', 'topics': 'solar system', 'points': 5})\n",
    "print(response.content)"
   ]
  },
  {
   "cell_type": "code",
   "execution_count": 25,
   "metadata": {},
   "outputs": [
    {
     "name": "stdout",
     "output_type": "stream",
     "text": [
      "Here's an overview of the solar system in five key points:\n",
      "\n",
      "• The Sun is at the center, with eight planets, dwarf planets, and other objects orbiting around it. Mercury is closest to the Sun.\n",
      "\n",
      "• Four planets are known for being rocky: Mercury, Mars, Venus, and Earth. They have solid surfaces and atmospheres that we can study.\n",
      "\n",
      "• Jupiter is a gas giant with massive storms like the Great Red Spot. It has 79 known moons, many of which are similar in size to Mars.\n",
      "\n",
      "• Saturn's rings are one of the most famous features of our solar system. Made up of ice and rock particles, they stretch across hundreds of thousands of miles.\n",
      "\n",
      "• The remaining four planets are icy: Uranus is tilted on its side, resulting in extreme seasons. Neptune has strong winds that could blow an object out of orbit.\n"
     ]
    }
   ],
   "source": [
    "response = chain.invoke({'school': 'phd', 'topics': 'solar system', 'points': 5})\n",
    "print(response.content)"
   ]
  },
  {
   "cell_type": "code",
   "execution_count": 27,
   "metadata": {},
   "outputs": [
    {
     "data": {
      "text/plain": [
       "ChatPromptTemplate(input_variables=['points', 'school', 'topics'], input_types={}, partial_variables={}, messages=[SystemMessagePromptTemplate(prompt=PromptTemplate(input_variables=['school'], input_types={}, partial_variables={}, template='You are {school} teacher. You answer in short sentences.'), additional_kwargs={}), HumanMessagePromptTemplate(prompt=PromptTemplate(input_variables=['points', 'topics'], input_types={}, partial_variables={}, template='tell me about the {topics} in {points} points'), additional_kwargs={})])\n",
       "| ChatOllama(model='llama3.2:1b', base_url='http://localhost:11434')"
      ]
     },
     "execution_count": 27,
     "metadata": {},
     "output_type": "execute_result"
    }
   ],
   "source": [
    "chain"
   ]
  },
  {
   "cell_type": "code",
   "execution_count": 28,
   "metadata": {},
   "outputs": [
    {
     "name": "stdout",
     "output_type": "stream",
     "text": [
      "content=\"Here's an overview of the solar system in five key points:\\n\\n• The Sun is at the center, with eight planets, dwarf planets, and other objects orbiting around it. Mercury is closest to the Sun.\\n\\n• Four planets are known for being rocky: Mercury, Mars, Venus, and Earth. They have solid surfaces and atmospheres that we can study.\\n\\n• Jupiter is a gas giant with massive storms like the Great Red Spot. It has 79 known moons, many of which are similar in size to Mars.\\n\\n• Saturn's rings are one of the most famous features of our solar system. Made up of ice and rock particles, they stretch across hundreds of thousands of miles.\\n\\n• The remaining four planets are icy: Uranus is tilted on its side, resulting in extreme seasons. Neptune has strong winds that could blow an object out of orbit.\" additional_kwargs={} response_metadata={'model': 'llama3.2:1b', 'created_at': '2024-12-19T13:50:31.0172997Z', 'done': True, 'done_reason': 'stop', 'total_duration': 4347966100, 'load_duration': 82985600, 'prompt_eval_count': 47, 'prompt_eval_duration': 46000000, 'eval_count': 173, 'eval_duration': 4209000000, 'message': Message(role='assistant', content='', images=None, tool_calls=None)} id='run-76232b70-d82a-4a09-bc5e-72d5aa8195a5-0' usage_metadata={'input_tokens': 47, 'output_tokens': 173, 'total_tokens': 220}\n",
      "This text appears to be written in simple language and is easily understandable for a general audience, making it relatively easy to comprehend.\n"
     ]
    }
   ],
   "source": [
    "analysis_prompt = ChatPromptTemplate.from_template('''analyze the following text: {response}\n",
    "                                                   You need tell me that how difficult it is to understand.\n",
    "                                                   Answer in one sentence only.\n",
    "                                                   ''')\n",
    "\n",
    "check_chain = analysis_prompt | llm | StrOutputParser()\n",
    "print(response)\n",
    "output = check_chain.invoke({'response': response})\n",
    "print(output)"
   ]
  },
  {
   "cell_type": "code",
   "execution_count": 29,
   "metadata": {},
   "outputs": [
    {
     "name": "stdout",
     "output_type": "stream",
     "text": [
      "The text assumes a high level of prior knowledge about the solar system and its contents, making it challenging for users without a strong background in astronomy or science to follow.\n"
     ]
    }
   ],
   "source": [
    "composed_chain = {\"response\": chain} | analysis_prompt | llm | StrOutputParser()\n",
    "\n",
    "output = composed_chain.invoke({'school': 'primary', 'topics': 'solar system', 'points': 5})\n",
    "print(output)"
   ]
  },
  {
   "cell_type": "markdown",
   "metadata": {},
   "source": [
    "### Parallel LCEL Chain\n",
    "- Parallel chains are used to run multiple runnables in parallel.\n",
    "- The final return value is a dict with the results of each value under its appropriate key."
   ]
  },
  {
   "cell_type": "code",
   "execution_count": 18,
   "metadata": {},
   "outputs": [
    {
     "name": "stdout",
     "output_type": "stream",
     "text": [
      "**The Evolution of Smartphones: 5 Key Advancements**\n",
      "\n",
      "In recent years, smartphones have undergone significant transformations, revolutionizing the way we communicate, work, and live our lives. From their humble beginnings as simple mobile phones to the sophisticated devices we use today, smartphones have come a long way in terms of design, functionality, and technology. Here are five key advancements that have made smartphones the incredible tools they are today:\n",
      "\n",
      "**1. Improved Displays: Larger and More High-Definition**\n",
      "\n",
      "One of the most significant improvements in smartphones has been the upgrade to larger and more high-definition displays. Gone are the days of small, low-resolution screens that were once the norm. Today's smartphones boast crisp, vibrant displays with resolutions up to Quad HD (1440 x 3200 pixels) or even higher. This improved display technology enables better image quality, making it easier to appreciate the finer details in photos and videos.\n",
      "\n",
      "**2. Enhanced Cameras: More Capturing Capabilities**\n",
      "\n",
      "Smartphones have become an essential tool for capturing life's precious moments. The latest smartphone models feature advanced camera systems with multiple lenses, optical zoom, and AI-powered enhancements. These cameras can now capture stunning images and videos with impressive detail, from close-up shots to sweeping landscapes. Some smartphones even boast features like portrait mode, night mode, and optical zoom, making it easier to take better photos and videos.\n",
      "\n",
      "**3. Advanced Biometric Security: Secure Password-Free Access**\n",
      "\n",
      "Biometric security has become a critical component of modern smartphones. Gone are the days of passwords and PINs; today's devices use advanced biometric technologies like fingerprint recognition, facial recognition, and iris scanning. These secure methods provide an additional layer of protection against unauthorized access, making it more difficult for hackers to gain control over your device.\n",
      "\n",
      "**4. Long-Lasting Batteries: Up to a Week of Power on a Single Charge**\n",
      "\n",
      "Smartphones have become increasingly powerful, yet they still need to be charged regularly. One key area where significant advancements have been made is in battery technology. Today's smartphones boast longer-lasting batteries that can last up to a week or more on a single charge, making it possible to use them for extended periods without needing to recharge.\n",
      "\n",
      "**5. Artificial Intelligence: Enhanced Productivity and Convenience**\n",
      "\n",
      "Artificial intelligence (AI) has played a significant role in shaping the smartphone experience. AI-powered assistants like Siri, Google Assistant, and Bixby enable users to perform tasks with ease, from setting reminders and sending messages to controlling smart home devices. Additionally, AI-driven features like predictive maintenance and personalized suggestions make it easier for users to manage their smartphones and stay productive.\n",
      "\n",
      "In conclusion, smartphones have come a long way since their inception, and the latest models continue to push the boundaries of innovation. From improved displays to advanced biometric security, long-lasting batteries, and AI-powered productivity features, these devices are now more capable than ever before. As technology continues to evolve, it's likely that we'll see even more exciting advancements in the future.\n"
     ]
    }
   ],
   "source": [
    "system = SystemMessagePromptTemplate.from_template(\"You are expert in writing information about {text}.\")\n",
    "\n",
    "question = HumanMessagePromptTemplate.from_template(\"write a article about {Topics} in {points} points\")\n",
    "\n",
    "messages=[system,question]\n",
    "template = ChatPromptTemplate(messages)\n",
    "article_chain = template | llm | StrOutputParser()\n",
    "output = article_chain.invoke({'text':'business','Topics':'SmartPhone','points':'5'})\n",
    "print(output)"
   ]
  },
  {
   "cell_type": "code",
   "execution_count": 19,
   "metadata": {},
   "outputs": [
    {
     "name": "stdout",
     "output_type": "stream",
     "text": [
      "Here's a poem about smartphones:\n",
      "\n",
      "In fingertips, it finds its home,\n",
      "A device so sleek, it's truly grand to roam.\n",
      "Three points of greatness, let me tell you more,\n",
      "\n",
      "It connects us all, across the land,\n",
      "With internet speed, at our command.\n",
      "Through social media, we share and connect too,\n",
      "And stay in touch, with friends and family true.\n",
      "\n",
      "It's a window to world, so vast and wide,\n",
      "With apps and games, that take us on a ride.\n",
      "From news and weather, to entertainment galore,\n",
      "Our smartphone's magic, leaves us wanting more.\n",
      "\n",
      "In our pockets, it's always by our side,\n",
      "A constant companion, with features to provide.\n",
      "Through text and images, we express and share,\n",
      "And make memories, that show we truly care.\n"
     ]
    }
   ],
   "source": [
    "system = SystemMessagePromptTemplate.from_template(\"You are expert in writing information about {text}.\")\n",
    "\n",
    "question = HumanMessagePromptTemplate.from_template(\"write a poem about {Topics} in {points} points\")\n",
    "\n",
    "messages=[system,question]\n",
    "\n",
    "template = ChatPromptTemplate(messages)\n",
    "poem_chain = template | llm | StrOutputParser()\n",
    "output = poem_chain.invoke({'text':'business','Topics':'SmartPhone','points':'3'})\n",
    "print(output)"
   ]
  },
  {
   "cell_type": "code",
   "execution_count": 20,
   "metadata": {},
   "outputs": [],
   "source": [
    "from langchain_core.runnables import RunnableParallel"
   ]
  },
  {
   "cell_type": "code",
   "execution_count": 21,
   "metadata": {},
   "outputs": [],
   "source": [
    "chain = RunnableParallel(article=article_chain,poem = poem_chain)"
   ]
  },
  {
   "cell_type": "code",
   "execution_count": 22,
   "metadata": {},
   "outputs": [
    {
     "name": "stdout",
     "output_type": "stream",
     "text": [
      "**The Evolution of Smartphones: 3 Key Highlights**\n",
      "\n",
      "Smartphones have revolutionized the way we communicate, access information, and navigate our daily lives. Over the years, these devices have undergone significant transformations, shaping the mobile industry into what it is today. Here are three key highlights that summarize the evolution of smartphones:\n",
      "\n",
      "**1. From Simple to Sophisticated: The Rise of High-End Devices**\n",
      "\n",
      "In the early days of smartphones, they were often bulky and feature-laden, with limited functionality and poor battery life. However, as technology advanced, manufacturers began to focus on creating high-end devices with improved cameras, faster processors, and longer batteries. Today's flagship smartphones offer a seamless user experience, with vibrant displays, powerful processors, and advanced cameras that can capture stunning images and videos.\n",
      "\n",
      "**2. The Shift towards Mobile-First Devices**\n",
      "\n",
      "Prior to the smartphone era, mobile phones were primarily used for making calls and sending texts. However, as internet connectivity became more widespread, mobile devices began to take on a new role in our lives. Today's smartphones are designed with mobility in mind, offering apps that cater to various activities, such as social media, email, games, and productivity tools. This shift has led to the proliferation of mobile-first devices, where the primary function is to provide a seamless user experience across different applications.\n",
      "\n",
      "**3. The Impact of Artificial Intelligence and Machine Learning**\n",
      "\n",
      "Smartphones have become an integral part of our daily lives, with AI-powered assistants like Siri, Google Assistant, and Bixby making interactions more convenient and intuitive. These intelligent virtual assistants use machine learning algorithms to understand voice commands and respond accordingly, making it easier for users to access information, set reminders, and perform tasks without needing to manually interact with the device. The integration of AI and ML technologies has further enhanced smartphone capabilities, enabling features like augmented reality (AR) experiences, predictive maintenance, and personalized recommendations.\n",
      "\n",
      "In conclusion, smartphones have come a long way since their inception, transforming from simple communication devices to sophisticated mobile-first tools that seamlessly integrate with our daily lives. As technology continues to advance, it will be exciting to see how smartphones evolve in the coming years, shaping the future of mobile devices and beyond.\n",
      "Here's a poem about smartphones in 3 points:\n",
      "\n",
      "A tiny device, yet oh so grand\n",
      "Smartphone revolution, at our command\n",
      "Three points that define its might\n",
      "\n",
      "1. **Connected World**: It connects us all,\n",
      "A global network, standing tall.\n",
      "From social media to online store,\n",
      "Our smartphone takes us on the internet's score.\n",
      "\n",
      "2. **Powerhouse of Information**: With just a tap,\n",
      "We access knowledge, in an instant trap.\n",
      "News, entertainment, and more to see,\n",
      "Our smartphone is a treasure trove for thee.\n",
      "\n",
      "3. **Constantly Alive**: It never sleeps or rest,\n",
      "A battery that lasts, and always finds its best.\n",
      "It's always by our side, a constant friend,\n",
      "A smartphone companion, till the very end.\n"
     ]
    }
   ],
   "source": [
    "response = chain.invoke({'text':'business','Topics':'SmartPhone','points':'3'})\n",
    "print(response['article'])\n",
    "print(response['poem'])"
   ]
  },
  {
   "cell_type": "markdown",
   "metadata": {},
   "source": [
    "### Router Chain in LangChain\n",
    "\n",
    "A Router Chain in LangChain allows dynamic selection of chains based on the input. It routes inputs to different chains or tools depending on the input's context or type. This is especially useful when dealing with multi-functional systems where different tasks require specialized handling.\n",
    "\n",
    "Components of Router Chain\n",
    "\n",
    "Router:\n",
    "\n",
    "Determines which chain or tool should process the input.\n",
    "Makes decisions based on pre-defined logic or rules.\n",
    "Destination Chains:\n",
    "\n",
    "The specific chains or tools that perform the processing once routed.\n",
    "Default Chain:\n",
    "\n",
    "A fallback chain to handle inputs that do not match any routing criteria.\n",
    "Multi-Route Chain:\n",
    "\n",
    "Combines the router and destination chains into a unified chain that handles input routing and processing."
   ]
  },
  {
   "cell_type": "markdown",
   "metadata": {},
   "source": [
    "Router Chain\n",
    "\n",
    "The Router Chain is used for complicated tasks. \n",
    "\n",
    "If we have multiple subchains, each of which is specialized for a particular type of input, we could have a router chain that decides which subchain to pass the input to.\n"
   ]
  },
  {
   "cell_type": "code",
   "execution_count": 24,
   "metadata": {},
   "outputs": [],
   "source": [
    "# physics_template = \"\"\"You are a very smart physics professor. \\\n",
    "# You are great at answering questions about physics in a concise\\\n",
    "# and easy to understand manner. \\\n",
    "# When you don't know the answer to a question you admit\\\n",
    "# that you don't know.\n",
    "\n",
    "# Here is a question:\n",
    "# {input}\"\"\"\n",
    "\n",
    "\n",
    "# math_template = \"\"\"You are a very good mathematician. \\\n",
    "# You are great at answering math questions. \\\n",
    "# You are so good because you are able to break down \\\n",
    "# hard problems into their component parts,\n",
    "# answer the component parts, and then put them together\\\n",
    "# to answer the broader question.\n",
    "\n",
    "# Here is a question:\n",
    "# {input}\"\"\"\n",
    "\n",
    "# history_template = \"\"\"You are a very good historian. \\\n",
    "# You have an excellent knowledge of and understanding of people,\\\n",
    "# events and contexts from a range of historical periods. \\\n",
    "# You have the ability to think, reflect, debate, discuss and \\\n",
    "# evaluate the past. You have a respect for historical evidence\\\n",
    "# and the ability to make use of it to support your explanations \\\n",
    "# and judgements.\n",
    "\n",
    "# Here is a question:\n",
    "# {input}\"\"\"\n",
    "\n",
    "# Defining the prompt templates\n",
    "# prompt_infos = [\n",
    "#     {\n",
    "#         \"name\": \"physics\",\n",
    "#         \"description\": \"Good for answering questions about physics\",\n",
    "#         \"prompt_template\": physics_template\n",
    "#     },\n",
    "#     {\n",
    "#         \"name\": \"math\",\n",
    "#         \"description\": \"Good for answering math questions\",\n",
    "#         \"prompt_template\": math_template\n",
    "#     },\n",
    "#     {\n",
    "#         \"name\": \"History\",\n",
    "#         \"description\": \"Good for answering history questions\",\n",
    "#         \"prompt_template\": history_template\n",
    "#     }\n",
    "# ]\n",
    "\n"
   ]
  },
  {
   "cell_type": "code",
   "execution_count": 32,
   "metadata": {},
   "outputs": [],
   "source": [
    "# Define prompt templates for each persona\n",
    "math_teacher_prompt = PromptTemplate(\n",
    "    input_variables=[\"input\"],\n",
    "    template=\"Your name is Helen, a Math teacher. Explain the following math concept to a 7th-grade student:\\n\\n{input}\"\n",
    ")\n",
    "\n",
    "tamil_teacher_prompt = PromptTemplate(\n",
    "    input_variables=[\"input\"],\n",
    "    template=\"Your name is Thomas, a Tamil teacher. Explain the following Tamil language concept to a beginner:\\n\\n{input}\"\n",
    ")\n",
    "\n",
    "history_teacher_prompt = PromptTemplate(\n",
    "    input_variables=[\"input\"],\n",
    "    template=\"Your name is Godfrey, a history teacher. Explain the following history concept to a high school student:\\n\\n{input}\"\n",
    ")\n"
   ]
  },
  {
   "cell_type": "code",
   "execution_count": 37,
   "metadata": {},
   "outputs": [
    {
     "ename": "ValidationError",
     "evalue": "1 validation error for LLMChain\nprompt\n  Input should be a valid dictionary or instance of BasePromptTemplate [type=model_type, input_value=LLMChain(verbose=False, p...Parser(), llm_kwargs={}), input_type=LLMChain]\n    For further information visit https://errors.pydantic.dev/2.9/v/model_type",
     "output_type": "error",
     "traceback": [
      "\u001b[1;31m---------------------------------------------------------------------------\u001b[0m",
      "\u001b[1;31mValidationError\u001b[0m                           Traceback (most recent call last)",
      "Cell \u001b[1;32mIn[37], line 3\u001b[0m\n\u001b[0;32m      1\u001b[0m \u001b[38;5;66;03m# Create a chain instance for each one\u001b[39;00m\n\u001b[0;32m      2\u001b[0m math_teacher_chain \u001b[38;5;241m=\u001b[39m LLMChain(llm\u001b[38;5;241m=\u001b[39mllm, prompt\u001b[38;5;241m=\u001b[39mmath_teacher_prompt)\n\u001b[1;32m----> 3\u001b[0m tamil_teacher_chain \u001b[38;5;241m=\u001b[39m \u001b[43mLLMChain\u001b[49m\u001b[43m(\u001b[49m\u001b[43mllm\u001b[49m\u001b[38;5;241;43m=\u001b[39;49m\u001b[43mllm\u001b[49m\u001b[43m,\u001b[49m\u001b[43m \u001b[49m\u001b[43mprompt\u001b[49m\u001b[38;5;241;43m=\u001b[39;49m\u001b[43mtamil_teacher_prompt\u001b[49m\u001b[43m)\u001b[49m\n\u001b[0;32m      4\u001b[0m history_teacher_chain \u001b[38;5;241m=\u001b[39m LLMChain(llm\u001b[38;5;241m=\u001b[39mllm, prompt\u001b[38;5;241m=\u001b[39mhistory_teacher_prompt)\n",
      "File \u001b[1;32mc:\\Users\\Admin\\AppData\\Local\\Programs\\Python\\Python310\\lib\\site-packages\\langchain_core\\_api\\deprecation.py:216\u001b[0m, in \u001b[0;36mdeprecated.<locals>.deprecate.<locals>.finalize.<locals>.warn_if_direct_instance\u001b[1;34m(self, *args, **kwargs)\u001b[0m\n\u001b[0;32m    214\u001b[0m     warned \u001b[38;5;241m=\u001b[39m \u001b[38;5;28;01mTrue\u001b[39;00m\n\u001b[0;32m    215\u001b[0m     emit_warning()\n\u001b[1;32m--> 216\u001b[0m \u001b[38;5;28;01mreturn\u001b[39;00m wrapped(\u001b[38;5;28mself\u001b[39m, \u001b[38;5;241m*\u001b[39margs, \u001b[38;5;241m*\u001b[39m\u001b[38;5;241m*\u001b[39mkwargs)\n",
      "File \u001b[1;32mc:\\Users\\Admin\\AppData\\Local\\Programs\\Python\\Python310\\lib\\site-packages\\langchain_core\\load\\serializable.py:125\u001b[0m, in \u001b[0;36mSerializable.__init__\u001b[1;34m(self, *args, **kwargs)\u001b[0m\n\u001b[0;32m    123\u001b[0m \u001b[38;5;28;01mdef\u001b[39;00m \u001b[38;5;21m__init__\u001b[39m(\u001b[38;5;28mself\u001b[39m, \u001b[38;5;241m*\u001b[39margs: Any, \u001b[38;5;241m*\u001b[39m\u001b[38;5;241m*\u001b[39mkwargs: Any) \u001b[38;5;241m-\u001b[39m\u001b[38;5;241m>\u001b[39m \u001b[38;5;28;01mNone\u001b[39;00m:\n\u001b[0;32m    124\u001b[0m \u001b[38;5;250m    \u001b[39m\u001b[38;5;124;03m\"\"\"\"\"\"\u001b[39;00m\n\u001b[1;32m--> 125\u001b[0m     \u001b[38;5;28msuper\u001b[39m()\u001b[38;5;241m.\u001b[39m\u001b[38;5;21m__init__\u001b[39m(\u001b[38;5;241m*\u001b[39margs, \u001b[38;5;241m*\u001b[39m\u001b[38;5;241m*\u001b[39mkwargs)\n",
      "File \u001b[1;32mc:\\Users\\Admin\\AppData\\Local\\Programs\\Python\\Python310\\lib\\site-packages\\pydantic\\main.py:212\u001b[0m, in \u001b[0;36mBaseModel.__init__\u001b[1;34m(self, **data)\u001b[0m\n\u001b[0;32m    210\u001b[0m \u001b[38;5;66;03m# `__tracebackhide__` tells pytest and some other tools to omit this function from tracebacks\u001b[39;00m\n\u001b[0;32m    211\u001b[0m __tracebackhide__ \u001b[38;5;241m=\u001b[39m \u001b[38;5;28;01mTrue\u001b[39;00m\n\u001b[1;32m--> 212\u001b[0m validated_self \u001b[38;5;241m=\u001b[39m \u001b[38;5;28;43mself\u001b[39;49m\u001b[38;5;241;43m.\u001b[39;49m\u001b[43m__pydantic_validator__\u001b[49m\u001b[38;5;241;43m.\u001b[39;49m\u001b[43mvalidate_python\u001b[49m\u001b[43m(\u001b[49m\u001b[43mdata\u001b[49m\u001b[43m,\u001b[49m\u001b[43m \u001b[49m\u001b[43mself_instance\u001b[49m\u001b[38;5;241;43m=\u001b[39;49m\u001b[38;5;28;43mself\u001b[39;49m\u001b[43m)\u001b[49m\n\u001b[0;32m    213\u001b[0m \u001b[38;5;28;01mif\u001b[39;00m \u001b[38;5;28mself\u001b[39m \u001b[38;5;129;01mis\u001b[39;00m \u001b[38;5;129;01mnot\u001b[39;00m validated_self:\n\u001b[0;32m    214\u001b[0m     warnings\u001b[38;5;241m.\u001b[39mwarn(\n\u001b[0;32m    215\u001b[0m         \u001b[38;5;124m'\u001b[39m\u001b[38;5;124mA custom validator is returning a value other than `self`.\u001b[39m\u001b[38;5;130;01m\\n\u001b[39;00m\u001b[38;5;124m'\u001b[39m\n\u001b[0;32m    216\u001b[0m         \u001b[38;5;124m\"\u001b[39m\u001b[38;5;124mReturning anything other than `self` from a top level model validator isn\u001b[39m\u001b[38;5;124m'\u001b[39m\u001b[38;5;124mt supported when validating via `__init__`.\u001b[39m\u001b[38;5;130;01m\\n\u001b[39;00m\u001b[38;5;124m\"\u001b[39m\n\u001b[0;32m    217\u001b[0m         \u001b[38;5;124m'\u001b[39m\u001b[38;5;124mSee the `model_validator` docs (https://docs.pydantic.dev/latest/concepts/validators/#model-validators) for more details.\u001b[39m\u001b[38;5;124m'\u001b[39m,\n\u001b[0;32m    218\u001b[0m         category\u001b[38;5;241m=\u001b[39m\u001b[38;5;28;01mNone\u001b[39;00m,\n\u001b[0;32m    219\u001b[0m     )\n",
      "\u001b[1;31mValidationError\u001b[0m: 1 validation error for LLMChain\nprompt\n  Input should be a valid dictionary or instance of BasePromptTemplate [type=model_type, input_value=LLMChain(verbose=False, p...Parser(), llm_kwargs={}), input_type=LLMChain]\n    For further information visit https://errors.pydantic.dev/2.9/v/model_type"
     ]
    }
   ],
   "source": [
    "# Create a chain instance for each one\n",
    "math_teacher_chain = LLMChain(llm=llm, prompt=math_teacher_prompt)\n",
    "tamil_teacher_chain = LLMChain(llm=llm, prompt=tamil_teacher_prompt)\n",
    "history_teacher_chain = LLMChain(llm=llm, prompt=history_teacher_prompt)"
   ]
  },
  {
   "cell_type": "code",
   "execution_count": 26,
   "metadata": {},
   "outputs": [
    {
     "name": "stderr",
     "output_type": "stream",
     "text": [
      "C:\\Users\\Admin\\AppData\\Local\\Temp\\ipykernel_20052\\3351514515.py:6: LangChainDeprecationWarning: The class `LLMChain` was deprecated in LangChain 0.1.17 and will be removed in 1.0. Use :meth:`~RunnableSequence, e.g., `prompt | llm`` instead.\n",
      "  chain = LLMChain(llm=llm, prompt=prompt)\n"
     ]
    }
   ],
   "source": [
    "destination_chains = {}\n",
    "for p_info in prompt_infos:\n",
    "    name = p_info[\"name\"]\n",
    "    prompt_template = p_info[\"prompt_template\"]\n",
    "    prompt = ChatPromptTemplate.from_template(template=prompt_template)\n",
    "    chain = LLMChain(llm=llm, prompt=prompt)\n",
    "    destination_chains[name] = chain\n",
    "\n",
    "destinations = [f\"{p['name']}: {p['description']}\" for p in prompt_infos]\n",
    "destinations_str = \"\\n\".join(destinations)\n"
   ]
  },
  {
   "cell_type": "code",
   "execution_count": 27,
   "metadata": {},
   "outputs": [],
   "source": [
    "MULTI_PROMPT_ROUTER_TEMPLATE = \"\"\"Given a raw text input to a \\\n",
    "language model select the model prompt best suited for the input. \\\n",
    "You will be given the names of the available prompts and a \\\n",
    "description of what the prompt is best suited for. \\\n",
    "You may also revise the original input if you think that revising\\\n",
    "it will ultimately lead to a better response from the language model.\n",
    "\n",
    "<< FORMATTING >>\n",
    "Return a markdown code snippet with a JSON object formatted to look like:\n",
    "```json\n",
    "{{{{\n",
    "    \"destination\": string \\ name of the prompt to use or \"DEFAULT\"\n",
    "    \"next_inputs\": string \\ a potentially modified version of the original input\n",
    "}}}}\n",
    "```\n",
    "\n",
    "REMEMBER: \"destination\" MUST be one of the candidate prompt \\\n",
    "names specified below OR it can be \"DEFAULT\" if the input is not\\\n",
    "well suited for any of the candidate prompts.\n",
    "REMEMBER: \"next_inputs\" can just be the original input \\\n",
    "if you don't think any modifications are needed.\n",
    "\n",
    "<< CANDIDATE PROMPTS >>\n",
    "{destinations}\n",
    "\n",
    "<< INPUT >>\n",
    "{{input}}\n",
    "\n",
    "<< OUTPUT (remember to include the ```json)>>\"\"\"\n"
   ]
  },
  {
   "cell_type": "code",
   "execution_count": 28,
   "metadata": {},
   "outputs": [],
   "source": [
    "default_prompt = ChatPromptTemplate.from_template(\"{input}\")\n",
    "default_chain = LLMChain(llm=llm, prompt=default_prompt)"
   ]
  },
  {
   "cell_type": "code",
   "execution_count": 29,
   "metadata": {},
   "outputs": [
    {
     "ename": "NameError",
     "evalue": "name 'RouterOutputParser' is not defined",
     "output_type": "error",
     "traceback": [
      "\u001b[1;31m---------------------------------------------------------------------------\u001b[0m",
      "\u001b[1;31mNameError\u001b[0m                                 Traceback (most recent call last)",
      "Cell \u001b[1;32mIn[29], line 7\u001b[0m\n\u001b[0;32m      1\u001b[0m router_template \u001b[38;5;241m=\u001b[39m MULTI_PROMPT_ROUTER_TEMPLATE\u001b[38;5;241m.\u001b[39mformat(\n\u001b[0;32m      2\u001b[0m     destinations\u001b[38;5;241m=\u001b[39mdestinations_str\n\u001b[0;32m      3\u001b[0m )\n\u001b[0;32m      4\u001b[0m router_prompt \u001b[38;5;241m=\u001b[39m PromptTemplate(\n\u001b[0;32m      5\u001b[0m     template\u001b[38;5;241m=\u001b[39mrouter_template,\n\u001b[0;32m      6\u001b[0m     input_variables\u001b[38;5;241m=\u001b[39m[\u001b[38;5;124m\"\u001b[39m\u001b[38;5;124minput\u001b[39m\u001b[38;5;124m\"\u001b[39m],\n\u001b[1;32m----> 7\u001b[0m     output_parser\u001b[38;5;241m=\u001b[39m\u001b[43mRouterOutputParser\u001b[49m(),\n\u001b[0;32m      8\u001b[0m )\n\u001b[0;32m     10\u001b[0m router_chain \u001b[38;5;241m=\u001b[39m LLMRouterChain\u001b[38;5;241m.\u001b[39mfrom_llm(llm, router_prompt)\n",
      "\u001b[1;31mNameError\u001b[0m: name 'RouterOutputParser' is not defined"
     ]
    }
   ],
   "source": [
    "router_template = MULTI_PROMPT_ROUTER_TEMPLATE.format(\n",
    "    destinations=destinations_str\n",
    ")\n",
    "router_prompt = PromptTemplate(\n",
    "    template=router_template,\n",
    "    input_variables=[\"input\"],\n",
    "    output_parser=RouterOutputParser(),\n",
    ")\n",
    "\n",
    "router_chain = LLMRouterChain.from_llm(llm, router_prompt)\n"
   ]
  },
  {
   "cell_type": "code",
   "execution_count": 39,
   "metadata": {},
   "outputs": [
    {
     "ename": "NameError",
     "evalue": "name 'MultiPromptChain' is not defined",
     "output_type": "error",
     "traceback": [
      "\u001b[1;31m---------------------------------------------------------------------------\u001b[0m",
      "\u001b[1;31mNameError\u001b[0m                                 Traceback (most recent call last)",
      "Cell \u001b[1;32mIn[39], line 1\u001b[0m\n\u001b[1;32m----> 1\u001b[0m chain \u001b[38;5;241m=\u001b[39m \u001b[43mMultiPromptChain\u001b[49m(router_chain\u001b[38;5;241m=\u001b[39mrouter_chain,\n\u001b[0;32m      2\u001b[0m                          destination_chains\u001b[38;5;241m=\u001b[39mdestination_chains,\n\u001b[0;32m      3\u001b[0m                          default_chain\u001b[38;5;241m=\u001b[39mdefault_chain, verbose\u001b[38;5;241m=\u001b[39m\u001b[38;5;28;01mTrue\u001b[39;00m\n\u001b[0;32m      4\u001b[0m                         )\n",
      "\u001b[1;31mNameError\u001b[0m: name 'MultiPromptChain' is not defined"
     ]
    }
   ],
   "source": [
    "chain = MultiPromptChain(router_chain=router_chain,\n",
    "                         destination_chains=destination_chains,\n",
    "                         default_chain=default_chain, verbose=True\n",
    "                        )"
   ]
  }
 ],
 "metadata": {
  "kernelspec": {
   "display_name": "Python 3",
   "language": "python",
   "name": "python3"
  },
  "language_info": {
   "codemirror_mode": {
    "name": "ipython",
    "version": 3
   },
   "file_extension": ".py",
   "mimetype": "text/x-python",
   "name": "python",
   "nbconvert_exporter": "python",
   "pygments_lexer": "ipython3",
   "version": "3.10.11"
  }
 },
 "nbformat": 4,
 "nbformat_minor": 2
}
