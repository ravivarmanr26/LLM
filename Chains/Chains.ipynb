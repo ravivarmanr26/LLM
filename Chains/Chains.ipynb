{
 "cells": [
  {
   "cell_type": "markdown",
   "metadata": {},
   "source": [
    "# Chains in LangChain\n",
    "\n",
    "Chains refer to sequences of calls—whether to a Language Model (LLM), a tool, or a data preprocessing step. The primary supported way to construct these chains is through the **LangChain Expression Language (LCEL)**.\n",
    "\n",
    "## Off-the-Shelf Chains\n",
    "\n",
    "While LCEL is excellent for constructing your chains, LangChain also provides off-the-shelf chains. There are two types of off-the-shelf chains supported by LangChain:\n",
    "\n",
    "1. **Chains Built with LCEL**: \n",
    "   - LangChain offers a higher-level constructor method for these chains. \n",
    "   - Under the hood, they are constructed using LCEL.\n",
    "\n",
    "2. **Legacy Chains**: \n",
    "   - These chains are constructed by subclassing from a legacy Chain class. \n",
    "   - Unlike LCEL chains, they do not use LCEL under the hood but are standalone classes.\n",
    "\n",
    "## Future Developments\n",
    "\n",
    "We are actively working on creating methods to generate LCEL versions of all chains for several reasons:\n",
    "\n",
    "- **Modifiability**: Chains constructed with LCEL allow for easy modification of their internals.\n",
    "- **Native Support**: These chains support streaming, asynchronous operations, and batch processing out of the box.\n",
    "- **Observability**: They automatically provide observability at each step of the chain.\n",
    "\n",
    "This page contains two lists:\n",
    "- A list of all LCEL chain constructors.\n",
    "- A list of all legacy Chains."
   ]
  },
  {
   "cell_type": "markdown",
   "metadata": {},
   "source": [
    "## Langchain Expression Language Basics"
   ]
  },
  {
   "cell_type": "markdown",
   "metadata": {},
   "source": [
    "-  LangChain Expression Language is that any two runnables can be \"chained\" together into sequences. \n",
    "- The output of the previous runnable's .invoke() call is passed as input to the next runnable.\n",
    "- This can be done using the pipe operator (|), or the more explicit .pipe() method, which does the same thing."
   ]
  },
  {
   "cell_type": "markdown",
   "metadata": {},
   "source": [
    "- Type of LCEL Chains\n",
    "    - SequentialChain\n",
    "    - Parallel Chain\n",
    "    - Router Chain\n",
    "    - Chain Runnables\n",
    "    - Custom Chain (Runnable Sequence)"
   ]
  },
  {
   "cell_type": "markdown",
   "metadata": {},
   "source": [
    "### Sequential LCEL Chain - LangChain Expression Language"
   ]
  },
  {
   "cell_type": "code",
   "execution_count": 41,
   "metadata": {},
   "outputs": [],
   "source": [
    "from langchain_ollama import ChatOllama\n",
    "from langchain_core.prompts import (\n",
    "                                        SystemMessagePromptTemplate,\n",
    "                                        HumanMessagePromptTemplate,\n",
    "                                        PromptTemplate,\n",
    "                                        ChatPromptTemplate\n",
    "                                    )"
   ]
  },
  {
   "cell_type": "code",
   "execution_count": 42,
   "metadata": {},
   "outputs": [
    {
     "data": {
      "text/plain": [
       "ChatOllama(model='llama3.2:1b', base_url='http://localhost:11434')"
      ]
     },
     "execution_count": 42,
     "metadata": {},
     "output_type": "execute_result"
    }
   ],
   "source": [
    "base_url = \"http://localhost:11434\"\n",
    "model = 'llama3.2:1b'\n",
    "\n",
    "llm = ChatOllama(base_url=base_url, model=model)\n",
    "llm"
   ]
  },
  {
   "cell_type": "code",
   "execution_count": 43,
   "metadata": {},
   "outputs": [],
   "source": [
    "system = SystemMessagePromptTemplate.from_template(\"You are expert the writing about {about} articles\")\n",
    "\n",
    "question = HumanMessagePromptTemplate.from_template(\"write a article about {Topics} in {points} points\")"
   ]
  },
  {
   "cell_type": "code",
   "execution_count": 44,
   "metadata": {},
   "outputs": [
    {
     "data": {
      "text/plain": [
       "SystemMessagePromptTemplate(prompt=PromptTemplate(input_variables=['about'], input_types={}, partial_variables={}, template='You are expert the writing about {about} articles'), additional_kwargs={})"
      ]
     },
     "execution_count": 44,
     "metadata": {},
     "output_type": "execute_result"
    }
   ],
   "source": [
    "system"
   ]
  },
  {
   "cell_type": "code",
   "execution_count": 45,
   "metadata": {},
   "outputs": [
    {
     "data": {
      "text/plain": [
       "ChatPromptTemplate(input_variables=['Topics', 'about', 'points'], input_types={}, partial_variables={}, messages=[SystemMessagePromptTemplate(prompt=PromptTemplate(input_variables=['about'], input_types={}, partial_variables={}, template='You are expert the writing about {about} articles'), additional_kwargs={}), HumanMessagePromptTemplate(prompt=PromptTemplate(input_variables=['Topics', 'points'], input_types={}, partial_variables={}, template='write a article about {Topics} in {points} points'), additional_kwargs={})])"
      ]
     },
     "execution_count": 45,
     "metadata": {},
     "output_type": "execute_result"
    }
   ],
   "source": [
    "messages = [system,question]\n",
    "template = ChatPromptTemplate(messages)\n",
    "template"
   ]
  },
  {
   "cell_type": "code",
   "execution_count": 46,
   "metadata": {},
   "outputs": [],
   "source": [
    "# from langchain.llms import OpenAI\n",
    "# from langchain.chains import LLMChain\n",
    "# from langchain.prompts import PromptTemplate\n",
    "# from langchain.prompts import ChatPromptTemplate\n",
    "# from langchain.chains import SimpleSequentialChain"
   ]
  },
  {
   "cell_type": "code",
   "execution_count": 47,
   "metadata": {},
   "outputs": [
    {
     "name": "stdout",
     "output_type": "stream",
     "text": [
      "content=\"Here is an article about smartphones in five key points:\\n\\n**Title:** The Evolution of Smartphones: 5 Key Innovations That Changed the Game\\n\\n**Introduction:**\\n\\nIn just over two decades, smartphones have transformed the way we live, work, and communicate. From humble beginnings as bulky brick-sized devices to sleek, portable icons, smartphones have come a long way. In this article, we'll explore five key innovations that have made smartphones an essential part of modern life.\\n\\n**1. The Rise of Touch Screens:**\\n\\nIn 2007, the iPhone revolutionized the smartphone industry with its touchscreen interface. Apple's innovative design allowed users to interact with their devices using gestures and taps, rather than physical buttons. This marked a significant shift away from traditional keyboard-based interfaces and paved the way for future innovations.\\n\\n**2. Camera Technology:**\\n\\nThe smartphone camera has undergone a remarkable transformation over the years. From basic 1-megapixel cameras to high-end smartphones with advanced features like optical zoom, portrait mode, and AI-powered image editing tools, the camera has become an indispensable feature of modern mobile devices.\\n\\n**3. Battery Life and Charging:**\\n\\nThe battery life of smartphones has improved dramatically in recent years, thanks to advancements in power management and energy-efficient technologies. Smartphones can now last for days on a single charge, making it possible to take your device anywhere without worrying about running out of juice mid-day.\\n\\n**4. Artificial Intelligence (AI) Integration:**\\n\\nArtificial intelligence has become an integral part of smartphone design, with many devices incorporating AI-powered features like facial recognition, predictive maintenance, and personalized assistant capabilities. These innovations have transformed the way we interact with our devices and have opened up new possibilities for apps and services.\\n\\n**5. 5G Connectivity:**\\n\\nThe rollout of 5G networks promises to revolutionize mobile connectivity, offering speeds that are faster, more reliable, and more powerful than ever before. With 5G-enabled smartphones, users can expect seamless streaming, immersive gaming, and enhanced productivity, making it easier than ever to stay connected on the go.\\n\\n**Conclusion:**\\n\\nSmartphones have come a long way since their inception, with each new innovation building upon the last. From touch screens to AI-powered features, battery life to 5G connectivity, smartphones have evolved into sophisticated devices that are capable of transforming our lives in countless ways. As technology continues to advance, it will be exciting to see what the future holds for these incredible devices.\" additional_kwargs={} response_metadata={'model': 'llama3.2:1b', 'created_at': '2024-12-18T15:30:15.8286488Z', 'done': True, 'done_reason': 'stop', 'total_duration': 16810656600, 'load_duration': 4099344300, 'prompt_eval_count': 45, 'prompt_eval_duration': 381000000, 'eval_count': 498, 'eval_duration': 11696000000, 'message': Message(role='assistant', content='', images=None, tool_calls=None)} id='run-3915cd12-03f7-4713-b50e-ce64d96c63be-0' usage_metadata={'input_tokens': 45, 'output_tokens': 498, 'total_tokens': 543}\n"
     ]
    }
   ],
   "source": [
    "chain = template | llm\n",
    "response = chain.invoke({'about':'businees','Topics':'smart phone','points':'5'})\n",
    "print(response)"
   ]
  },
  {
   "cell_type": "code",
   "execution_count": 48,
   "metadata": {},
   "outputs": [
    {
     "name": "stdout",
     "output_type": "stream",
     "text": [
      "Here is an article about smartphones in five key points:\n",
      "\n",
      "**Title:** The Evolution of Smartphones: 5 Key Innovations That Changed the Game\n",
      "\n",
      "**Introduction:**\n",
      "\n",
      "In just over two decades, smartphones have transformed the way we live, work, and communicate. From humble beginnings as bulky brick-sized devices to sleek, portable icons, smartphones have come a long way. In this article, we'll explore five key innovations that have made smartphones an essential part of modern life.\n",
      "\n",
      "**1. The Rise of Touch Screens:**\n",
      "\n",
      "In 2007, the iPhone revolutionized the smartphone industry with its touchscreen interface. Apple's innovative design allowed users to interact with their devices using gestures and taps, rather than physical buttons. This marked a significant shift away from traditional keyboard-based interfaces and paved the way for future innovations.\n",
      "\n",
      "**2. Camera Technology:**\n",
      "\n",
      "The smartphone camera has undergone a remarkable transformation over the years. From basic 1-megapixel cameras to high-end smartphones with advanced features like optical zoom, portrait mode, and AI-powered image editing tools, the camera has become an indispensable feature of modern mobile devices.\n",
      "\n",
      "**3. Battery Life and Charging:**\n",
      "\n",
      "The battery life of smartphones has improved dramatically in recent years, thanks to advancements in power management and energy-efficient technologies. Smartphones can now last for days on a single charge, making it possible to take your device anywhere without worrying about running out of juice mid-day.\n",
      "\n",
      "**4. Artificial Intelligence (AI) Integration:**\n",
      "\n",
      "Artificial intelligence has become an integral part of smartphone design, with many devices incorporating AI-powered features like facial recognition, predictive maintenance, and personalized assistant capabilities. These innovations have transformed the way we interact with our devices and have opened up new possibilities for apps and services.\n",
      "\n",
      "**5. 5G Connectivity:**\n",
      "\n",
      "The rollout of 5G networks promises to revolutionize mobile connectivity, offering speeds that are faster, more reliable, and more powerful than ever before. With 5G-enabled smartphones, users can expect seamless streaming, immersive gaming, and enhanced productivity, making it easier than ever to stay connected on the go.\n",
      "\n",
      "**Conclusion:**\n",
      "\n",
      "Smartphones have come a long way since their inception, with each new innovation building upon the last. From touch screens to AI-powered features, battery life to 5G connectivity, smartphones have evolved into sophisticated devices that are capable of transforming our lives in countless ways. As technology continues to advance, it will be exciting to see what the future holds for these incredible devices.\n"
     ]
    }
   ],
   "source": [
    "print(response.content)"
   ]
  },
  {
   "cell_type": "code",
   "execution_count": 49,
   "metadata": {},
   "outputs": [
    {
     "name": "stdout",
     "output_type": "stream",
     "text": [
      "**The Importance and Impact of Paddy: A Sustainable Agriculture Practice**\n",
      "\n",
      "Paddy, also known as rice, is one of the most widely cultivated crops globally, accounting for over half of the world's total rice production. This staple food for millions of people is not only a vital source of nutrition but also plays a crucial role in shaping the global economy and environment. Here are five key points about paddy:\n",
      "\n",
      "**1. Environmental Benefits: Paddy is an Eco-Friendly Crop**\n",
      "\n",
      "Paddy has been cultivated for over 7,000 years, with evidence showing that it was first domesticated in Mesopotamia around 8000 BC. It's a highly adaptable crop that can thrive in diverse environments, including tropical and subtropical regions. The cultivation of paddy requires minimal water, making it an ideal option for areas with limited resources. Additionally, paddy is a natural carbon sink, absorbing more CO2 than many other crops during its growth phase.\n",
      "\n",
      "**2. Economic Significance: Rice is a Multi-Billion Dollar Industry**\n",
      "\n",
      "Rice is the second most traded commodity in the world, accounting for over 20% of global food exports. The global rice market is worth billions of dollars annually, with major producers like China, India, and Thailand driving the industry's growth. In some countries, paddy is not only a source of income but also an essential crop for food security, particularly in rural areas where irrigation systems provide a reliable water source.\n",
      "\n",
      "**3. Social Impact: Paddy Provides Nutrition and Livelihoods**\n",
      "\n",
      "Paddy is more than just a crop; it's a lifeline for millions of people around the world. It provides a primary source of nutrition, especially in areas with limited access to other food sources. Rice is rich in carbohydrates, fiber, and various micronutrients, making it an essential part of many traditional diets. Furthermore, paddy farming often involves labor-intensive work, employing people from rural communities as farmers, herders, or workers on irrigation systems.\n",
      "\n",
      "**4. Climate Change Adaptation: Paddy Resists Weather Extremes**\n",
      "\n",
      "Paddy is well-suited to extreme weather conditions like floods and droughts. The crop's ability to absorb water and its rapid growth make it an excellent option for areas prone to water scarcity. In the face of climate change, paddy farming can help mitigate the impacts of rising temperatures, increased frequency of extreme weather events, and changing precipitation patterns.\n",
      "\n",
      "**5. Cultural Significance: Paddy is a Symbol of Culture and Tradition**\n",
      "\n",
      "Paddy has been an integral part of human culture for centuries, with various traditions and ceremonies tied to its harvesting and consumption. In many Asian countries, paddy is celebrated during harvest festivals, where people come together to share in the bounty of their labor. The cultural significance of paddy extends beyond food production; it also reflects the values of hard work, community, and sustainability that are deeply ingrained in rural cultures worldwide.\n",
      "\n",
      "In conclusion, paddy is a vital crop that offers numerous benefits for both the environment and human societies. As the global demand for food continues to rise, the importance of sustainable agriculture practices like paddy farming will only continue to grow. By embracing innovative agricultural techniques, promoting climate-resilient crops, and supporting community-led development initiatives, we can ensure that paddy remains a key component of our food systems for generations to come.\n"
     ]
    }
   ],
   "source": [
    "chain = template | llm\n",
    "response = chain.invoke({'about':'agriculture','Topics':'paddy','points':'5'})\n",
    "print(response.content)\n"
   ]
  },
  {
   "cell_type": "code",
   "execution_count": 50,
   "metadata": {},
   "outputs": [],
   "source": [
    "from langchain_core.output_parsers import StrOutputParser"
   ]
  },
  {
   "cell_type": "code",
   "execution_count": 51,
   "metadata": {},
   "outputs": [
    {
     "name": "stdout",
     "output_type": "stream",
     "text": [
      "I can provide you with an overview of Dolo-650, but please note that I'll be taking a general and factual approach, and not making any specific recommendations or providing personalized medical advice. If you're considering using this medication, it's essential to consult with a healthcare professional for guidance tailored to your individual circumstances.\n",
      "\n",
      "**Here are 5 key points about Dolo-650:**\n",
      "\n",
      "1. **What is Dolo-650?**\n",
      "Dolo-650 (dextromethorphan) is a cough suppressant and expectorant medication that belongs to the phenylpropoxylmethane class of cough medicines. It works by blocking the action of a neurotransmitter called dopamine in the brain, which is involved in regulating coughing.\n",
      "\n",
      "2. **Uses**\n",
      "Dolo-650 is primarily used to treat coughs, especially those caused by upper respiratory infections such as the common cold and flu. It's often combined with other medications like acetaminophen or ibuprofen for enhanced relief from cough symptoms.\n",
      "\n",
      "3. **Mechanism of Action**\n",
      "The cough-suppressing effects of Dolo-650 are thought to be related to its ability to slow down the production of mucus in the lungs, as well as reduce inflammation and irritation in the airways. This makes it a popular choice among both children and adults looking to alleviate cough symptoms.\n",
      "\n",
      "4. **Side Effects and Precautions**\n",
      "Common side effects of Dolo-650 include dry mouth, dizziness, headache, and stomach upset. More serious side effects may include respiratory depression, particularly when combined with other medications or used in large doses. Children under the age of 6 should not use this medication without consulting a doctor.\n",
      "\n",
      "5. **Interactions and Contraindications**\n",
      "Dolo-650 can interact with certain medications, such as sedatives, muscle relaxants, and anticholinergics, which may enhance its effects or increase the risk of side effects. Additionally, Dolo-650 should not be used in people with conditions like asthma, chronic obstructive pulmonary disease (COPD), or other respiratory problems without consulting a doctor.\n",
      "\n",
      "Remember, it's essential to consult with a healthcare professional for personalized advice on using Dolo-650 or any other medication. They can help you weigh the benefits and risks of this medication based on your specific health needs and circumstances.\n"
     ]
    }
   ],
   "source": [
    "chain = template | llm | StrOutputParser()\n",
    "response = chain.invoke({'about':'Medical','Topics':'Dolo-650','points':'5'})\n",
    "print(response)"
   ]
  },
  {
   "cell_type": "markdown",
   "metadata": {},
   "source": [
    "### Chaining Runnables (Chain Multiple Runnables)"
   ]
  },
  {
   "cell_type": "markdown",
   "metadata": {},
   "source": [
    "- We can even combine this chain with more runnables to create another chain.\n",
    "- Let's see how easy our generated output is?"
   ]
  },
  {
   "cell_type": "code",
   "execution_count": 52,
   "metadata": {},
   "outputs": [
    {
     "name": "stdout",
     "output_type": "stream",
     "text": [
      "I can provide you with an overview of Dolo-650, but please note that I'll be taking a general and factual approach, and not making any specific recommendations or providing personalized medical advice. If you're considering using this medication, it's essential to consult with a healthcare professional for guidance tailored to your individual circumstances.\n",
      "\n",
      "**Here are 5 key points about Dolo-650:**\n",
      "\n",
      "1. **What is Dolo-650?**\n",
      "Dolo-650 (dextromethorphan) is a cough suppressant and expectorant medication that belongs to the phenylpropoxylmethane class of cough medicines. It works by blocking the action of a neurotransmitter called dopamine in the brain, which is involved in regulating coughing.\n",
      "\n",
      "2. **Uses**\n",
      "Dolo-650 is primarily used to treat coughs, especially those caused by upper respiratory infections such as the common cold and flu. It's often combined with other medications like acetaminophen or ibuprofen for enhanced relief from cough symptoms.\n",
      "\n",
      "3. **Mechanism of Action**\n",
      "The cough-suppressing effects of Dolo-650 are thought to be related to its ability to slow down the production of mucus in the lungs, as well as reduce inflammation and irritation in the airways. This makes it a popular choice among both children and adults looking to alleviate cough symptoms.\n",
      "\n",
      "4. **Side Effects and Precautions**\n",
      "Common side effects of Dolo-650 include dry mouth, dizziness, headache, and stomach upset. More serious side effects may include respiratory depression, particularly when combined with other medications or used in large doses. Children under the age of 6 should not use this medication without consulting a doctor.\n",
      "\n",
      "5. **Interactions and Contraindications**\n",
      "Dolo-650 can interact with certain medications, such as sedatives, muscle relaxants, and anticholinergics, which may enhance its effects or increase the risk of side effects. Additionally, Dolo-650 should not be used in people with conditions like asthma, chronic obstructive pulmonary disease (COPD), or other respiratory problems without consulting a doctor.\n",
      "\n",
      "Remember, it's essential to consult with a healthcare professional for personalized advice on using Dolo-650 or any other medication. They can help you weigh the benefits and risks of this medication based on your specific health needs and circumstances.\n",
      "I would rate the difficulty of understanding this text as moderate, requiring some technical knowledge of cough medicines and their mechanisms of action, but not excessively complex or convoluted.\n"
     ]
    }
   ],
   "source": [
    "analysis_prompt = ChatPromptTemplate.from_template('''analyze the following text: {response}\n",
    "                                                   You need tell me that how difficult it is to understand.\n",
    "                                                   Answer in one sentence only.\n",
    "                                                   ''')\n",
    "\n",
    "check_chain = analysis_prompt | llm | StrOutputParser()\n",
    "print(response)\n",
    "output = check_chain.invoke({'response': response})\n",
    "print(output)"
   ]
  },
  {
   "cell_type": "code",
   "execution_count": 53,
   "metadata": {},
   "outputs": [
    {
     "name": "stdout",
     "output_type": "stream",
     "text": [
      "The difficulty in understanding this text may stem from its technical language and the specific terms used (e.g., \"doxylamine succinate\", \"pyridoxine hydrochloride\"), which might be challenging for non-medical or lay readers without prior knowledge of the medical field.\n"
     ]
    }
   ],
   "source": [
    "composed_chain = {\"response\": chain} | analysis_prompt | llm | StrOutputParser()\n",
    "\n",
    "output = composed_chain.invoke({'about':'Medical','Topics':'Dolo-650','points':'5'})\n",
    "print(output)"
   ]
  },
  {
   "cell_type": "markdown",
   "metadata": {},
   "source": [
    "### Parallel LCEL Chain\n",
    "- Parallel chains are used to run multiple runnables in parallel.\n",
    "- The final return value is a dict with the results of each value under its appropriate key."
   ]
  },
  {
   "cell_type": "code",
   "execution_count": 54,
   "metadata": {},
   "outputs": [
    {
     "name": "stdout",
     "output_type": "stream",
     "text": [
      "**The Rise of Smartphones: 5 Key Facts**\n",
      "\n",
      "Smartphones have revolutionized the way we live, work, and communicate. These portable devices have become an essential part of our daily lives, offering a vast array of features that make them an indispensable tool for millions of people around the world. Here are five key facts about smartphones:\n",
      "\n",
      "**1. The Evolution of Mobile Technology**\n",
      "\n",
      "The first smartphone was released in 2007 by Apple, with the iPhone. Since then, mobile technology has continued to evolve at a rapid pace, with advancements in touchscreen interfaces, camera capabilities, and battery life. Today, we have smartphones with features like artificial intelligence, augmented reality, and 5G connectivity that were previously unimaginable.\n",
      "\n",
      "**2. The Impact on Society**\n",
      "\n",
      "Smartphones have had a profound impact on society, transforming the way we access information, communicate with each other, and conduct our daily lives. They have also created new opportunities for entrepreneurship, job creation, and economic growth. According to a report by the International Telecommunication Union (ITU), smartphones have enabled billions of people worldwide to access basic services like healthcare, education, and financial services.\n",
      "\n",
      "**3. The Rise of the Smartphone Market**\n",
      "\n",
      "The smartphone market has grown exponentially over the years, with global sales reaching over 1.5 billion units in 2020. The market is highly competitive, with major players like Apple, Samsung, Google, and Huawei vying for market share. According to a report by IDC, the global smartphone market is expected to reach $1.6 trillion by 2023.\n",
      "\n",
      "**4. The Impact on Human Relationships**\n",
      "\n",
      "Smartphones have also had a significant impact on human relationships, particularly in terms of social connections and communication. With smartphones, people can stay in touch with friends and family anywhere in the world, at any time. However, excessive smartphone use has also been linked to social isolation, decreased face-to-face interactions, and increased stress levels.\n",
      "\n",
      "**5. The Future of Smartphones**\n",
      "\n",
      "As technology continues to advance, we can expect even more innovative features from smartphones in the future. Some of the potential developments on the horizon include foldable screens, holographic displays, and augmented reality capabilities. Additionally, advancements in artificial intelligence and machine learning will enable new applications like virtual assistants, healthcare monitoring, and education platforms.\n",
      "\n",
      "In conclusion, smartphones have come a long way since their introduction in 2007. From their impact on society to their influence on human relationships, the smartphone has become an indispensable tool for millions of people around the world. As technology continues to evolve, it will be interesting to see what innovations emerge next and how they will shape our daily lives.\n"
     ]
    }
   ],
   "source": [
    "system = SystemMessagePromptTemplate.from_template(\"You are expert in writing information about {text}.\")\n",
    "\n",
    "question = HumanMessagePromptTemplate.from_template(\"write a article about {Topics} in {points} points\")\n",
    "\n",
    "messages=[system,question]\n",
    "\n",
    "template = ChatPromptTemplate(messages)\n",
    "chain = template | llm | StrOutputParser()\n",
    "article_chain = chain.invoke({'text':'business','Topics':'SmartPhone','points':'5'})\n",
    "print(article_chain)"
   ]
  },
  {
   "cell_type": "code",
   "execution_count": 55,
   "metadata": {},
   "outputs": [
    {
     "name": "stdout",
     "output_type": "stream",
     "text": [
      "Here's a poem about smartphones:\n",
      "\n",
      "Three Points of Power\n",
      "\n",
      "A smartphone, sleek and so fine,\n",
      "Conceals within its digital shrine.\n",
      "It holds our lives, our hearts, our mind,\n",
      "A constant companion, intertwined.\n",
      "\n",
      "With camera lens that captures the day,\n",
      "It records memories in every way.\n",
      "From selfies to moments grand,\n",
      "It preserves our stories, hand in hand.\n",
      "\n",
      "In this tiny screen, we find our home,\n",
      "Where social media and news are sown.\n",
      "We scroll through feeds, a digital sea,\n",
      "Connected yet isolated, wild and free.\n"
     ]
    }
   ],
   "source": [
    "system = SystemMessagePromptTemplate.from_template(\"You are expert in writing information about {text}.\")\n",
    "\n",
    "question = HumanMessagePromptTemplate.from_template(\"write a poem about {Topics} in {points} points\")\n",
    "\n",
    "messages=[system,question]\n",
    "\n",
    "template = ChatPromptTemplate(messages)\n",
    "chain = template | llm | StrOutputParser()\n",
    "poem_chain = chain.invoke({'text':'business','Topics':'SmartPhone','points':'3'})\n",
    "print(poem_chain)"
   ]
  },
  {
   "cell_type": "code",
   "execution_count": 56,
   "metadata": {},
   "outputs": [
    {
     "name": "stdout",
     "output_type": "stream",
     "text": [
      "The text is written at an advanced level, with complex sentences and technical terms (e.g. artificial intelligence, augmented reality), making it challenging for non-experts to understand.\n"
     ]
    }
   ],
   "source": [
    "analysis_prompt = ChatPromptTemplate.from_template('''analyze the following text: {article_chain}\n",
    "                                                   You need tell me that how difficult it is to understand.\n",
    "                                                   Answer in one sentence only.\n",
    "                                                   ''')\n",
    "\n",
    "article_check_chain = analysis_prompt | llm | StrOutputParser()\n",
    "output = article_check_chain.invoke({'article_chain': article_chain})\n",
    "print(output)"
   ]
  },
  {
   "cell_type": "markdown",
   "metadata": {},
   "source": [
    "### Parallel LCEL Chain\n",
    "- Parallel chains are used to run multiple runnables in parallel.\n",
    "- The final return value is a dict with the results of each value under its appropriate key."
   ]
  },
  {
   "cell_type": "code",
   "execution_count": 57,
   "metadata": {},
   "outputs": [
    {
     "name": "stdout",
     "output_type": "stream",
     "text": [
      "Here is an article about smartphones in 5 key points:\n",
      "\n",
      "**The Rise of Smartphones: A Look at the Evolution and Impact**\n",
      "\n",
      "In recent years, smartphones have become an indispensable part of modern life. From social media to productivity tools, smartphones have revolutionized the way we communicate, work, and entertain ourselves. Here are five key points that highlight the significance of smartphones in today's world:\n",
      "\n",
      "**1. Ubiquity: Smartphones are Everywhere**\n",
      "\n",
      "Smartphones are no longer just a luxury item or a high-end device; they are an essential tool for millions of people around the globe. With over 5 billion smartphone users globally, it's clear that smartphones have become an integral part of daily life. From the streets of Tokyo to the cities of New York, smartphones can be found in every corner of the world.\n",
      "\n",
      "**2. Impact on Communication**\n",
      "\n",
      "Smartphones have transformed the way we communicate. With just a few clicks, we can send messages, emails, and make calls to anyone, anywhere in the world. Social media platforms like Facebook, Twitter, and Instagram have also made it easy to stay connected with friends, family, and followers. Furthermore, smartphones have enabled instant messaging apps like WhatsApp and WeChat to connect people across borders.\n",
      "\n",
      "**3. Smartphones are Powerhouses of Entertainment**\n",
      "\n",
      "Smartphones have given birth to a new era of entertainment. With the rise of mobile gaming, smartphone cameras have become an essential tool for capturing stunning visuals, and smartphones have also transformed the way we consume music and videos. Apps like YouTube, Netflix, and Spotify have made it easy to access our favorite content on-the-go.\n",
      "\n",
      "**4. Smartphones are Endless Resources**\n",
      "\n",
      "Smartphones offer a vast array of services and features that can be accessed at any time. From banking and mobile payments to online shopping and e-commerce, smartphones provide an endless stream of convenience and productivity tools. Furthermore, smartphones have also enabled the rise of remote work and flexible employment arrangements.\n",
      "\n",
      "**5. Smartphones are Changing the World**\n",
      "\n",
      "Smartphones have had a profound impact on modern society. They have democratized access to information, connected people across borders, and enabled new forms of creativity and innovation. Moreover, smartphones have also raised important questions about privacy, security, and social justice. As smartphones continue to evolve and improve, it's clear that their impact will only continue to grow in the years to come.\n",
      "\n",
      "In conclusion, smartphones are no longer just a device; they are an essential part of modern life. Their ubiquity, impact on communication, entertainment, productivity, and resources has transformed the way we live and work. As smartphones continue to evolve and improve, it's clear that their influence will only continue to grow in the years to come.\n"
     ]
    }
   ],
   "source": [
    "system = SystemMessagePromptTemplate.from_template(\"You are expert in writing information about {text}.\")\n",
    "\n",
    "question = HumanMessagePromptTemplate.from_template(\"write a article about {Topics} in {points} points\")\n",
    "\n",
    "messages=[system,question]\n",
    "template = ChatPromptTemplate(messages)\n",
    "article_chain = template | llm | StrOutputParser()\n",
    "output = article_chain.invoke({'text':'business','Topics':'SmartPhone','points':'5'})\n",
    "print(output)"
   ]
  },
  {
   "cell_type": "code",
   "execution_count": 58,
   "metadata": {},
   "outputs": [
    {
     "name": "stdout",
     "output_type": "stream",
     "text": [
      "Here's a short poem about smartphones:\n",
      "\n",
      "Three vital aspects of modern life,\n",
      "Connected to the world, side by side.\n",
      "\n",
      "Firstly, communication, a global stage,\n",
      "Messages sent instantly, turning the page.\n",
      "Texts, calls, and emails, a digital flow,\n",
      "Keeping us connected, wherever we go.\n",
      "\n",
      "Secondly, information, at our fingertips wide,\n",
      "The internet's vast wealth, on our minds inside.\n",
      "News, entertainment, and knowledge too,\n",
      "Smartphones fuel our curiosity anew.\n",
      "\n",
      "Thirdly, innovation, in every single way,\n",
      "New apps and features, to make life easier each day.\n",
      "From social media to games, and productivity as well,\n",
      "Smartphones have transformed, the way we dwell.\n"
     ]
    }
   ],
   "source": [
    "system = SystemMessagePromptTemplate.from_template(\"You are expert in writing information about {text}.\")\n",
    "\n",
    "question = HumanMessagePromptTemplate.from_template(\"write a poem about {Topics} in {points} points\")\n",
    "\n",
    "messages=[system,question]\n",
    "\n",
    "template = ChatPromptTemplate(messages)\n",
    "poem_chain = template | llm | StrOutputParser()\n",
    "output = poem_chain.invoke({'text':'business','Topics':'SmartPhone','points':'3'})\n",
    "print(output)"
   ]
  },
  {
   "cell_type": "code",
   "execution_count": 59,
   "metadata": {},
   "outputs": [],
   "source": [
    "from langchain_core.runnables import RunnableParallel"
   ]
  },
  {
   "cell_type": "code",
   "execution_count": 60,
   "metadata": {},
   "outputs": [],
   "source": [
    "chain = RunnableParallel(article=article_chain,poem = poem_chain)"
   ]
  },
  {
   "cell_type": "code",
   "execution_count": 61,
   "metadata": {},
   "outputs": [
    {
     "name": "stdout",
     "output_type": "stream",
     "text": [
      "**The Evolution of Smartphones: A 3-Point Analysis**\n",
      "\n",
      "In the past two decades, smartphones have revolutionized the way we communicate, work, and live our lives. From humble beginnings as simple mobile phones with basic features to the sophisticated, high-tech devices we use today, smartphones have come a long way. Here are three key points that highlight the significance of smartphones in modern society:\n",
      "\n",
      "**Point 1: Connectivity and Social Media**\n",
      "\n",
      "Smartphones have become an essential part of our daily lives, offering us unparalleled connectivity and access to social media platforms. With the widespread adoption of mobile internet, people can now easily stay connected with friends and family, share their experiences, and stay updated on current events. Social media has also transformed the way we communicate, allowing us to share thoughts, feelings, and ideas in real-time.\n",
      "\n",
      "The impact of smartphones on social media is undeniable. According to a recent survey, the average person checks their phone around 47 times per day, with 75% of them using their smartphone for social media purposes. This trend shows no signs of slowing down, as more and more people turn to smartphones to stay connected and engaged.\n",
      "\n",
      "**Point 2: Power and Productivity**\n",
      "\n",
      "Smartphones have also revolutionized the way we work and access information. With mobile devices, we can now perform a wide range of tasks, from checking email and browsing the internet to taking photos and video recording. This has transformed the way we work, enabling us to stay productive on-the-go and manage our time more efficiently.\n",
      "\n",
      "The impact of smartphones on productivity cannot be overstated. A study by Gartner found that 61% of businesses have seen an increase in employee productivity since the widespread adoption of mobile devices. Additionally, smartphones have also enabled people to access a vast array of apps and tools, making it easier to manage our work and personal lives.\n",
      "\n",
      "**Point 3: Gaming and Entertainment**\n",
      "\n",
      "Finally, smartphones have become a major player in the gaming and entertainment industry. With high-quality displays, advanced processors, and robust app stores, mobile devices offer an unparalleled gaming experience. From casual games like Candy Crush to immersive experiences like virtual reality (VR) and augmented reality (AR), smartphones have become a major force in the entertainment market.\n",
      "\n",
      "The impact of smartphones on gaming is undeniable. According to a recent survey, 75% of gamers prefer playing on their smartphone or tablet, with the majority using them for casual games and social media. This trend shows no signs of slowing down, as more and more people turn to smartphones to stay entertained and connected.\n",
      "\n",
      "In conclusion, smartphones have had a profound impact on modern society, transforming the way we communicate, work, and play. From connectivity and social media to power and productivity, gaming and entertainment, smartphones have become an essential part of our daily lives. As technology continues to evolve, it will be interesting to see how smartphones continue to shape the future of human interaction and innovation.\n",
      "Here's a poem about smartphones:\n",
      "\n",
      "In fingertips, it finds its home,\n",
      "A window to the world, all its own.\n",
      "Smartphone, sleek and so fine,\n",
      "Connected us, all the time.\n",
      "\n",
      "With just a tap, we can access,\n",
      "Information vast, at our fingertips' class.\n",
      "We scroll through feeds, and social too,\n",
      "Stay updated, with what's new.\n",
      "\n",
      "In a palm-sized package, it fits,\n",
      "A world of wonder, in one tiny hit.\n",
      "Smartphone, a marvel to see,\n",
      "Connecting us, wild and free.\n"
     ]
    }
   ],
   "source": [
    "response = chain.invoke({'text':'business','Topics':'SmartPhone','points':'3'})\n",
    "print(response['article'])\n",
    "print(response['poem'])"
   ]
  },
  {
   "cell_type": "markdown",
   "metadata": {},
   "source": [
    "### Chain Router\n",
    "- The router chain is used to route the output of a previous runnable to the next runnable based on the output of the previous runnable."
   ]
  },
  {
   "cell_type": "markdown",
   "metadata": {},
   "source": [
    "Router Chain\n",
    "\n",
    "The Router Chain is used for complicated tasks. \n",
    "\n",
    "If we have multiple subchains, each of which is specialized for a particular type of input, we could have a router chain that decides which subchain to pass the input to.\n",
    "\n",
    "It consists of:\n",
    "\n",
    "Router Chain: It is responsible for selecting the next chain to call.\n",
    "\n",
    "Destination Chains: Chains that the router chain can route to.\n",
    "\n",
    "Default chain: Used when the router can’t decide which subchain to use."
   ]
  },
  {
   "cell_type": "code",
   "execution_count": 62,
   "metadata": {},
   "outputs": [],
   "source": [
    "from langchain.chains import LLMChain"
   ]
  },
  {
   "cell_type": "code",
   "execution_count": 63,
   "metadata": {},
   "outputs": [],
   "source": [
    "physics_template = \"\"\"You are a very smart physics professor. \\\n",
    "You are great at answering questions about physics in a concise\\\n",
    "and easy to understand manner. \\\n",
    "When you don't know the answer to a question you admit\\\n",
    "that you don't know.\n",
    "\n",
    "Here is a question:\n",
    "{input}\"\"\"\n",
    "\n",
    "\n",
    "math_template = \"\"\"You are a very good mathematician. \\\n",
    "You are great at answering math questions. \\\n",
    "You are so good because you are able to break down \\\n",
    "hard problems into their component parts,\n",
    "answer the component parts, and then put them together\\\n",
    "to answer the broader question.\n",
    "\n",
    "Here is a question:\n",
    "{input}\"\"\"\n",
    "\n",
    "history_template = \"\"\"You are a very good historian. \\\n",
    "You have an excellent knowledge of and understanding of people,\\\n",
    "events and contexts from a range of historical periods. \\\n",
    "You have the ability to think, reflect, debate, discuss and \\\n",
    "evaluate the past. You have a respect for historical evidence\\\n",
    "and the ability to make use of it to support your explanations \\\n",
    "and judgements.\n",
    "\n",
    "Here is a question:\n",
    "{input}\"\"\"\n"
   ]
  },
  {
   "cell_type": "code",
   "execution_count": 64,
   "metadata": {},
   "outputs": [],
   "source": [
    "# Defining the prompt templates\n",
    "prompt_infos = [\n",
    "    {\n",
    "        \"name\": \"physics\",\n",
    "        \"description\": \"Good for answering questions about physics\",\n",
    "        \"prompt_template\": physics_template\n",
    "    },\n",
    "    {\n",
    "        \"name\": \"math\",\n",
    "        \"description\": \"Good for answering math questions\",\n",
    "        \"prompt_template\": math_template\n",
    "    },\n",
    "    {\n",
    "        \"name\": \"History\",\n",
    "        \"description\": \"Good for answering history questions\",\n",
    "        \"prompt_template\": history_template\n",
    "    }\n",
    "]\n"
   ]
  },
  {
   "cell_type": "code",
   "execution_count": 65,
   "metadata": {},
   "outputs": [],
   "source": [
    "destination_chains = {}\n",
    "for p_info in prompt_infos:\n",
    "    name = p_info[\"name\"]\n",
    "    prompt_template = p_info[\"prompt_template\"]\n",
    "    prompt = ChatPromptTemplate.from_template(template=prompt_template)\n",
    "    chain = LLMChain(llm=llm, prompt=prompt)\n",
    "    destination_chains[name] = chain\n",
    "\n",
    "destinations = [f\"{p['name']}: {p['description']}\" for p in prompt_infos]\n",
    "destinations_str = \"\\n\".join(destinations)\n"
   ]
  },
  {
   "cell_type": "code",
   "execution_count": 66,
   "metadata": {},
   "outputs": [],
   "source": [
    "MULTI_PROMPT_ROUTER_TEMPLATE = \"\"\"Given a raw text input to a \\\n",
    "language model select the model prompt best suited for the input. \\\n",
    "You will be given the names of the available prompts and a \\\n",
    "description of what the prompt is best suited for. \\\n",
    "You may also revise the original input if you think that revising\\\n",
    "it will ultimately lead to a better response from the language model.\n",
    "\n",
    "<< FORMATTING >>\n",
    "Return a markdown code snippet with a JSON object formatted to look like:\n",
    "```json\n",
    "{{{{\n",
    "    \"destination\": string \\ name of the prompt to use or \"DEFAULT\"\n",
    "    \"next_inputs\": string \\ a potentially modified version of the original input\n",
    "}}}}\n",
    "```\n",
    "\n",
    "REMEMBER: \"destination\" MUST be one of the candidate prompt \\\n",
    "names specified below OR it can be \"DEFAULT\" if the input is not\\\n",
    "well suited for any of the candidate prompts.\n",
    "REMEMBER: \"next_inputs\" can just be the original input \\\n",
    "if you don't think any modifications are needed.\n",
    "\n",
    "<< CANDIDATE PROMPTS >>\n",
    "{destinations}\n",
    "\n",
    "<< INPUT >>\n",
    "{{input}}\n",
    "\n",
    "<< OUTPUT (remember to include the ```json)>>\"\"\"\n"
   ]
  },
  {
   "cell_type": "code",
   "execution_count": 67,
   "metadata": {},
   "outputs": [],
   "source": [
    "default_prompt = ChatPromptTemplate.from_template(\"{input}\")\n",
    "default_chain = LLMChain(llm=llm, prompt=default_prompt)"
   ]
  },
  {
   "cell_type": "code",
   "execution_count": 68,
   "metadata": {},
   "outputs": [
    {
     "ename": "NameError",
     "evalue": "name 'RouterOutputParser' is not defined",
     "output_type": "error",
     "traceback": [
      "\u001b[1;31m---------------------------------------------------------------------------\u001b[0m",
      "\u001b[1;31mNameError\u001b[0m                                 Traceback (most recent call last)",
      "Cell \u001b[1;32mIn[68], line 7\u001b[0m\n\u001b[0;32m      1\u001b[0m router_template \u001b[38;5;241m=\u001b[39m MULTI_PROMPT_ROUTER_TEMPLATE\u001b[38;5;241m.\u001b[39mformat(\n\u001b[0;32m      2\u001b[0m     destinations\u001b[38;5;241m=\u001b[39mdestinations_str\n\u001b[0;32m      3\u001b[0m )\n\u001b[0;32m      4\u001b[0m router_prompt \u001b[38;5;241m=\u001b[39m PromptTemplate(\n\u001b[0;32m      5\u001b[0m     template\u001b[38;5;241m=\u001b[39mrouter_template,\n\u001b[0;32m      6\u001b[0m     input_variables\u001b[38;5;241m=\u001b[39m[\u001b[38;5;124m\"\u001b[39m\u001b[38;5;124minput\u001b[39m\u001b[38;5;124m\"\u001b[39m],\n\u001b[1;32m----> 7\u001b[0m     output_parser\u001b[38;5;241m=\u001b[39m\u001b[43mRouterOutputParser\u001b[49m(),\n\u001b[0;32m      8\u001b[0m )\n\u001b[0;32m     10\u001b[0m router_chain \u001b[38;5;241m=\u001b[39m LLMRouterChain\u001b[38;5;241m.\u001b[39mfrom_llm(llm, router_prompt)\n",
      "\u001b[1;31mNameError\u001b[0m: name 'RouterOutputParser' is not defined"
     ]
    }
   ],
   "source": [
    "router_template = MULTI_PROMPT_ROUTER_TEMPLATE.format(\n",
    "    destinations=destinations_str\n",
    ")\n",
    "router_prompt = PromptTemplate(\n",
    "    template=router_template,\n",
    "    input_variables=[\"input\"],\n",
    "    output_parser=RouterOutputParser(),\n",
    ")\n",
    "\n",
    "router_chain = LLMRouterChain.from_llm(llm, router_prompt)\n"
   ]
  },
  {
   "cell_type": "code",
   "execution_count": 39,
   "metadata": {},
   "outputs": [
    {
     "ename": "NameError",
     "evalue": "name 'MultiPromptChain' is not defined",
     "output_type": "error",
     "traceback": [
      "\u001b[1;31m---------------------------------------------------------------------------\u001b[0m",
      "\u001b[1;31mNameError\u001b[0m                                 Traceback (most recent call last)",
      "Cell \u001b[1;32mIn[39], line 1\u001b[0m\n\u001b[1;32m----> 1\u001b[0m chain \u001b[38;5;241m=\u001b[39m \u001b[43mMultiPromptChain\u001b[49m(router_chain\u001b[38;5;241m=\u001b[39mrouter_chain,\n\u001b[0;32m      2\u001b[0m                          destination_chains\u001b[38;5;241m=\u001b[39mdestination_chains,\n\u001b[0;32m      3\u001b[0m                          default_chain\u001b[38;5;241m=\u001b[39mdefault_chain, verbose\u001b[38;5;241m=\u001b[39m\u001b[38;5;28;01mTrue\u001b[39;00m\n\u001b[0;32m      4\u001b[0m                         )\n",
      "\u001b[1;31mNameError\u001b[0m: name 'MultiPromptChain' is not defined"
     ]
    }
   ],
   "source": [
    "chain = MultiPromptChain(router_chain=router_chain,\n",
    "                         destination_chains=destination_chains,\n",
    "                         default_chain=default_chain, verbose=True\n",
    "                        )"
   ]
  }
 ],
 "metadata": {
  "kernelspec": {
   "display_name": "Python 3",
   "language": "python",
   "name": "python3"
  },
  "language_info": {
   "codemirror_mode": {
    "name": "ipython",
    "version": 3
   },
   "file_extension": ".py",
   "mimetype": "text/x-python",
   "name": "python",
   "nbconvert_exporter": "python",
   "pygments_lexer": "ipython3",
   "version": "3.10.11"
  }
 },
 "nbformat": 4,
 "nbformat_minor": 2
}
