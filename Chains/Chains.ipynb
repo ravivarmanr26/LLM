{
 "cells": [
  {
   "cell_type": "markdown",
   "metadata": {},
   "source": [
    "## Langchain Expression Language Basics"
   ]
  },
  {
   "cell_type": "markdown",
   "metadata": {},
   "source": [
    "-  LangChain Expression Language is that any two runnables can be \"chained\" together into sequences. \n",
    "- The output of the previous runnable's .invoke() call is passed as input to the next runnable.\n",
    "- This can be done using the pipe operator (|), or the more explicit .pipe() method, which does the same thing."
   ]
  },
  {
   "cell_type": "markdown",
   "metadata": {},
   "source": [
    "- Type of LCEL Chains\n",
    "    - SequentialChain\n",
    "    - Parallel Chain\n",
    "    - Router Chain\n",
    "    - Chain Runnables\n",
    "    - Custom Chain (Runnable Sequence)"
   ]
  },
  {
   "cell_type": "markdown",
   "metadata": {},
   "source": [
    "### Sequential LCEL Chain"
   ]
  },
  {
   "cell_type": "code",
   "execution_count": 2,
   "metadata": {},
   "outputs": [],
   "source": [
    "from langchain_ollama import ChatOllama\n",
    "from langchain_core.prompts import (\n",
    "                                        SystemMessagePromptTemplate,\n",
    "                                        HumanMessagePromptTemplate,\n",
    "                                        PromptTemplate,\n",
    "                                        ChatPromptTemplate\n",
    "                                    )"
   ]
  },
  {
   "cell_type": "code",
   "execution_count": 3,
   "metadata": {},
   "outputs": [
    {
     "data": {
      "text/plain": [
       "ChatOllama(model='llama3.2:1b', base_url='http://localhost:11434')"
      ]
     },
     "execution_count": 3,
     "metadata": {},
     "output_type": "execute_result"
    }
   ],
   "source": [
    "base_url = \"http://localhost:11434\"\n",
    "model = 'llama3.2:1b'\n",
    "\n",
    "llm = ChatOllama(base_url=base_url, model=model)\n",
    "llm"
   ]
  },
  {
   "cell_type": "code",
   "execution_count": 11,
   "metadata": {},
   "outputs": [],
   "source": [
    "system = SystemMessagePromptTemplate.from_template(\"You are expert the writing about {about} articles\")\n",
    "\n",
    "question = HumanMessagePromptTemplate.from_template(\"write a article about {Topics} in {points} points\")"
   ]
  },
  {
   "cell_type": "code",
   "execution_count": 12,
   "metadata": {},
   "outputs": [
    {
     "data": {
      "text/plain": [
       "SystemMessagePromptTemplate(prompt=PromptTemplate(input_variables=['about'], input_types={}, partial_variables={}, template='You are expert the writing about {about} articles'), additional_kwargs={})"
      ]
     },
     "execution_count": 12,
     "metadata": {},
     "output_type": "execute_result"
    }
   ],
   "source": [
    "system"
   ]
  },
  {
   "cell_type": "code",
   "execution_count": 14,
   "metadata": {},
   "outputs": [
    {
     "data": {
      "text/plain": [
       "ChatPromptTemplate(input_variables=['Topics', 'about', 'points'], input_types={}, partial_variables={}, messages=[SystemMessagePromptTemplate(prompt=PromptTemplate(input_variables=['about'], input_types={}, partial_variables={}, template='You are expert the writing about {about} articles'), additional_kwargs={}), HumanMessagePromptTemplate(prompt=PromptTemplate(input_variables=['Topics', 'points'], input_types={}, partial_variables={}, template='write a article about {Topics} in {points} points'), additional_kwargs={})])"
      ]
     },
     "execution_count": 14,
     "metadata": {},
     "output_type": "execute_result"
    }
   ],
   "source": [
    "messages = [system,question]\n",
    "template = ChatPromptTemplate(messages)\n",
    "template"
   ]
  },
  {
   "cell_type": "code",
   "execution_count": 15,
   "metadata": {},
   "outputs": [
    {
     "name": "stdout",
     "output_type": "stream",
     "text": [
      "content=\"Here is an article about smartphones in 5 points:\\n\\n**Title:** The Evolution of Smartphones: 5 Key Advancements\\n\\n**Introduction:**\\n\\nSmartphones have revolutionized the way we live, work, and communicate. From their humble beginnings as simple mobile phones to the sophisticated devices they are today, smartphones have come a long way. In this article, we will explore five key advancements that have transformed the smartphone industry.\\n\\n**1. Camera Technology: A Major Shift in Imaging**\\n\\nThe camera on your smartphone has undergone significant improvements over the years, enabling users to capture high-quality images and videos. The introduction of advanced sensors, lenses, and software algorithms has allowed smartphones to produce better low-light performance, portrait mode, and even 3D modeling capabilities.\\n\\n**2. Artificial Intelligence (AI) and Machine Learning (ML)**\\n\\nSmartphones now incorporate AI and ML technologies, which have enabled them to recognize faces, detect objects, and provide personalized experiences. These advanced features are powered by machine learning algorithms that can learn from user behavior and improve the overall user experience.\\n\\n**3. 5G Connectivity: The Future of Mobile Networks**\\n\\nThe advent of 5G networks has significantly enhanced smartphone performance, offering faster data speeds, lower latency, and greater connectivity. This enables seamless streaming, online gaming, and even remote collaboration tools.\\n\\n**4. Improved Battery Life and Charging**\\n\\nBattery life has improved dramatically over the years, allowing users to make more calls, send messages, and access apps without interruptions. Additionally, advanced charging technologies have reduced charging times, making it possible to fully charge a smartphone in under an hour.\\n\\n**5. Enhanced Security Features**\\n\\nSmartphones now come with robust security features, including fingerprint recognition, facial recognition, and intrusion detection systems. These measures provide users with increased protection against malware, phishing attacks, and other cyber threats.\\n\\n**Conclusion:**\\n\\nThe smartphone has come a long way since its inception, and these five key advancements have transformed the industry. As technology continues to evolve, we can expect even more innovative features and capabilities in future smartphones. Whether you're a tech enthusiast or just starting to explore the world of smartphones, there's never been a better time to get involved.\" additional_kwargs={} response_metadata={'model': 'llama3.2:1b', 'created_at': '2024-12-15T14:24:13.7916177Z', 'done': True, 'done_reason': 'stop', 'total_duration': 22598267500, 'load_duration': 8681461700, 'prompt_eval_count': 45, 'prompt_eval_duration': 456000000, 'eval_count': 442, 'eval_duration': 12278000000, 'message': Message(role='assistant', content='', images=None, tool_calls=None)} id='run-bf8bf089-ae10-4612-a811-e333e8ffca3c-0' usage_metadata={'input_tokens': 45, 'output_tokens': 442, 'total_tokens': 487}\n"
     ]
    }
   ],
   "source": [
    "chain = template | llm\n",
    "response = chain.invoke({'about':'businees','Topics':'smart phone','points':'5'})\n",
    "print(response)"
   ]
  },
  {
   "cell_type": "code",
   "execution_count": 16,
   "metadata": {},
   "outputs": [
    {
     "name": "stdout",
     "output_type": "stream",
     "text": [
      "Here is an article about smartphones in 5 points:\n",
      "\n",
      "**Title:** The Evolution of Smartphones: 5 Key Advancements\n",
      "\n",
      "**Introduction:**\n",
      "\n",
      "Smartphones have revolutionized the way we live, work, and communicate. From their humble beginnings as simple mobile phones to the sophisticated devices they are today, smartphones have come a long way. In this article, we will explore five key advancements that have transformed the smartphone industry.\n",
      "\n",
      "**1. Camera Technology: A Major Shift in Imaging**\n",
      "\n",
      "The camera on your smartphone has undergone significant improvements over the years, enabling users to capture high-quality images and videos. The introduction of advanced sensors, lenses, and software algorithms has allowed smartphones to produce better low-light performance, portrait mode, and even 3D modeling capabilities.\n",
      "\n",
      "**2. Artificial Intelligence (AI) and Machine Learning (ML)**\n",
      "\n",
      "Smartphones now incorporate AI and ML technologies, which have enabled them to recognize faces, detect objects, and provide personalized experiences. These advanced features are powered by machine learning algorithms that can learn from user behavior and improve the overall user experience.\n",
      "\n",
      "**3. 5G Connectivity: The Future of Mobile Networks**\n",
      "\n",
      "The advent of 5G networks has significantly enhanced smartphone performance, offering faster data speeds, lower latency, and greater connectivity. This enables seamless streaming, online gaming, and even remote collaboration tools.\n",
      "\n",
      "**4. Improved Battery Life and Charging**\n",
      "\n",
      "Battery life has improved dramatically over the years, allowing users to make more calls, send messages, and access apps without interruptions. Additionally, advanced charging technologies have reduced charging times, making it possible to fully charge a smartphone in under an hour.\n",
      "\n",
      "**5. Enhanced Security Features**\n",
      "\n",
      "Smartphones now come with robust security features, including fingerprint recognition, facial recognition, and intrusion detection systems. These measures provide users with increased protection against malware, phishing attacks, and other cyber threats.\n",
      "\n",
      "**Conclusion:**\n",
      "\n",
      "The smartphone has come a long way since its inception, and these five key advancements have transformed the industry. As technology continues to evolve, we can expect even more innovative features and capabilities in future smartphones. Whether you're a tech enthusiast or just starting to explore the world of smartphones, there's never been a better time to get involved.\n"
     ]
    }
   ],
   "source": [
    "print(response.content)"
   ]
  },
  {
   "cell_type": "code",
   "execution_count": 18,
   "metadata": {},
   "outputs": [
    {
     "name": "stdout",
     "output_type": "stream",
     "text": [
      "**The Importance of Paddy: A Staple Crop for Global Food Security**\n",
      "\n",
      "Paddy, also known as rice, is one of the most widely cultivated and consumed crops globally. It is a staple food for billions of people, providing approximately half of the world's calorie intake. Here are five key points that highlight the significance of paddy in agriculture:\n",
      "\n",
      "**1. High Yield Potential: Paddy Demonstrates Exceptional Growth Rate**\n",
      "\n",
      "Paddy possesses an exceptionally high growth rate, with some varieties reaching maturity in as little as 100-120 days. This rapid growth allows for large-scale cultivation, making it a highly efficient crop for meeting global food demands. The average yield of paddy is around 3-4 tons per hectare, which translates to a substantial amount of grain produced worldwide.\n",
      "\n",
      "**2. Climate Resilience: Paddy Adapts Well to Different Environmental Conditions**\n",
      "\n",
      "Rice is one of the most adaptable crops in terms of climate conditions. It can thrive in various temperature ranges, from tropical to subtropical environments, and can tolerate different precipitation levels. This makes it an ideal crop for regions with varied climates, such as Africa, Asia, and Latin America.\n",
      "\n",
      "**3. Water Conservation: Paddy Requires Minimal Irrigation**\n",
      "\n",
      "One of the significant advantages of paddy is its water conservation capabilities. Rice requires significantly less irrigation than other crops, making it a more sustainable choice for water resources. Additionally, paddy cultivation often employs mulching and crop rotation techniques to minimize water waste.\n",
      "\n",
      "**4. Economic Benefits: Global Trade Facilitates Paddy Production**\n",
      "\n",
      "The global rice trade provides substantial economic benefits for producers in Asia, Africa, and Latin America. The international market is flooded with cheap rice from these regions, making it an attractive commodity for export. This has led to increased investment in paddy production, infrastructure development, and technology adoption.\n",
      "\n",
      "**5. Nutritional Value: Paddy Provides a Rich Source of Essential Vitamins and Minerals**\n",
      "\n",
      "Rice is not only a staple food but also a rich source of essential vitamins and minerals like iron, zinc, and folate. A typical serving of cooked rice provides approximately 100-150 calories, with a good amount of carbohydrates, fiber, and various micronutrients. This makes paddy an excellent choice for public health initiatives aimed at promoting nutrition and well-being.\n",
      "\n",
      "In conclusion, paddy is a vital crop that plays a critical role in global food security, economic development, and nutritional health. Its exceptional growth rate, climate resilience, water conservation, economic benefits, and nutritional value make it an ideal crop for meeting the world's growing food demands.\n"
     ]
    }
   ],
   "source": [
    "chain = template | llm\n",
    "response = chain.invoke({'about':'agriculture','Topics':'paddy','points':'5'})\n",
    "print(response.content)\n"
   ]
  },
  {
   "cell_type": "code",
   "execution_count": 19,
   "metadata": {},
   "outputs": [],
   "source": [
    "from langchain_core.output_parsers import StrOutputParser"
   ]
  },
  {
   "cell_type": "code",
   "execution_count": 22,
   "metadata": {},
   "outputs": [
    {
     "name": "stdout",
     "output_type": "stream",
     "text": [
      "I can provide you with information on Dolo-650, but please note that I'll be focusing on its general characteristics and uses as a point-of-view author. If you're looking for detailed clinical information, I recommend consulting the latest medical literature or healthcare professionals.\n",
      "\n",
      "**1. What is Dolo-650?**\n",
      "Dolo-650 is a medication primarily used to treat the symptoms of acute migraine attacks. It belongs to a class of medications called ergots, which work by constricting blood vessels in the brain to help alleviate migraine pain and other symptoms.\n",
      "\n",
      "**2. How does Dolo-650 work?**\n",
      "During an acute migraine attack, the blood vessels in the brain dilate (expand), leading to increased blood flow and swelling. Dolo-650 contains ergotamine, which works by constricting these blood vessels, reducing inflammation, and slowing down the progression of the migraine.\n",
      "\n",
      "**3. What are the main benefits of Dolo-650?**\n",
      "The primary benefits of Dolo-650 include:\n",
      "- Effective in reducing the severity and duration of migraine pain\n",
      "- Can help prevent migraines from occurring or recurring\n",
      "- May provide relief from associated symptoms, such as nausea, vomiting, and sensitivity to light and sound\n",
      "\n",
      "**4. Common uses and indications for Dolo-650**\n",
      "Dolo-650 is typically prescribed for adults with a history of frequent or severe migraines, including those that cause significant disruption to daily life. It may be used in combination with other medications, such as triptans or corticosteroids, under the guidance of a healthcare provider.\n",
      "\n",
      "**5. Side effects and potential interactions**\n",
      "Common side effects of Dolo-650 include dizziness, nausea, vomiting, and headaches. More serious side effects, such as serotonin syndrome (a potentially life-threatening condition), may occur when used with other medications or in excessive amounts. Patients should be closely monitored for these risks and report any adverse events to their healthcare provider.\n",
      "\n",
      "As with any medication, it's essential to consult a healthcare professional before taking Dolo-650, especially if you have pre-existing medical conditions, are pregnant or breastfeeding, or take other medications. They will help determine if this medication is suitable for your specific needs and provide guidance on proper use and potential interactions.\n"
     ]
    }
   ],
   "source": [
    "chain = template | llm | StrOutputParser()\n",
    "response = chain.invoke({'about':'Medical','Topics':'Dolo-650','points':'5'})\n",
    "print(response)"
   ]
  },
  {
   "cell_type": "markdown",
   "metadata": {},
   "source": [
    "### Chaining Runnables (Chain Multiple Runnables)"
   ]
  },
  {
   "cell_type": "markdown",
   "metadata": {},
   "source": [
    "- We can even combine this chain with more runnables to create another chain.\n",
    "- Let's see how easy our generated output is?"
   ]
  },
  {
   "cell_type": "code",
   "execution_count": 23,
   "metadata": {},
   "outputs": [
    {
     "name": "stdout",
     "output_type": "stream",
     "text": [
      "I would rate the difficulty of understanding this text as 6 or 7 out of 10, primarily due to its technical medical terminology and complex concepts, such as ergotamine's mechanism of action and migraine pathophysiology, which may require specialized knowledge to fully comprehend.\n"
     ]
    }
   ],
   "source": [
    "analysis_prompt = ChatPromptTemplate.from_template('''analyze the following text: {response}\n",
    "                                                   You need tell me that how difficult it is to understand.\n",
    "                                                   Answer in one sentence only.\n",
    "                                                   ''')\n",
    "\n",
    "fact_check_chain = analysis_prompt | llm | StrOutputParser()\n",
    "output = fact_check_chain.invoke({'response': response})\n",
    "print(output)"
   ]
  },
  {
   "cell_type": "code",
   "execution_count": 25,
   "metadata": {},
   "outputs": [
    {
     "name": "stdout",
     "output_type": "stream",
     "text": [
      "I would rate the difficulty level of understanding this text as moderate to high, as it requires some basic knowledge of medication and side effects to grasp the information provided about Doxylamine, but also includes complex details such as dosage guidelines and contraindications that may require a higher level of comprehension.\n"
     ]
    }
   ],
   "source": [
    "composed_chain = {\"response\": chain} | analysis_prompt | llm | StrOutputParser()\n",
    "\n",
    "output = composed_chain.invoke({'about':'Medical','Topics':'Dolo-650','points':'5'})\n",
    "print(output)"
   ]
  },
  {
   "cell_type": "markdown",
   "metadata": {},
   "source": [
    "### Parallel LCEL Chain\n",
    "- Parallel chains are used to run multiple runnables in parallel.\n",
    "- The final return value is a dict with the results of each value under its appropriate key."
   ]
  },
  {
   "cell_type": "code",
   "execution_count": 29,
   "metadata": {},
   "outputs": [
    {
     "name": "stdout",
     "output_type": "stream",
     "text": [
      "**The Evolution of Smartphones: 5 Key Points**\n",
      "\n",
      "In the past two decades, smartphones have revolutionized the way we communicate, access information, and live our daily lives. From humble beginnings to the sophisticated devices we use today, smartphones have come a long way. Here are five key points that summarize the evolution of smartphones:\n",
      "\n",
      "**1. The First Smartphones (1992-1997)**\n",
      "\n",
      "The first smartphone was the IBM Simon Personal Communicator, released in 1993. This device combined phone functionality with email, fax, and web browsing capabilities, making it a groundbreaking innovation at the time. The IBM Simon had a touchscreen display, calendar, address book, and notes app, which set the stage for future smartphones.\n",
      "\n",
      "**2. The Rise of Android (2008-2010)**\n",
      "\n",
      "The first smartphone based on the Android operating system was the HTC Dream, released in 2008. This device popularized the use of touchscreens and mobile internet connectivity. Android's open-source nature allowed manufacturers to create customized devices with unique features, leading to a diverse range of smartphones available in the market.\n",
      "\n",
      "**3. The Shift to iOS (2010-2012)**\n",
      "\n",
      "The iPhone, released by Apple in 2007, was the first mass-market smartphone to popularize the iPhone OS (now known as iOS). With its sleek design, user-friendly interface, and app store, the iPhone became an instant hit, transforming the mobile landscape. Since then, iOS has remained the dominant operating system for smartphones.\n",
      "\n",
      "**4. The Era of 4G and Beyond (2012-Present)**\n",
      "\n",
      "The widespread adoption of 4G networks in 2011 enabled faster data speeds, making smartphones more capable of demanding tasks like video streaming, gaming, and online browsing. Today, smartphones come equipped with advanced processors, high-resolution displays, and camera capabilities that rival those found on cameras.\n",
      "\n",
      "**5. The Impact of Smartphones on Society (Present Day)**\n",
      "\n",
      "Smartphones have transformed the way we live, work, and interact with each other. They've enabled instant communication, remote collaboration, and access to information on-demand. However, their impact extends beyond technology, influencing our social habits, economies, and cultural norms. As smartphones continue to evolve, it's essential to consider their implications for society and the environment.\n",
      "\n",
      "In conclusion, the smartphone has come a long way since its inception, with each iteration building upon previous innovations. As we look to the future, it's clear that smartphones will remain an integral part of our lives, shaping how we communicate, create, and interact with one another.\n"
     ]
    }
   ],
   "source": [
    "system = SystemMessagePromptTemplate.from_template(\"You are expert in writing information about {text}.\")\n",
    "\n",
    "question = HumanMessagePromptTemplate.from_template(\"write a article about {Topics} in {points} points\")\n",
    "\n",
    "messages=[system,question]\n",
    "\n",
    "template = ChatPromptTemplate(messages)\n",
    "chain = template | llm | StrOutputParser()\n",
    "article_chain = chain.invoke({'text':'business','Topics':'SmartPhone','points':'5'})\n",
    "print(article_chain)"
   ]
  },
  {
   "cell_type": "code",
   "execution_count": 30,
   "metadata": {},
   "outputs": [
    {
     "name": "stdout",
     "output_type": "stream",
     "text": [
      "Here's a short poem about smartphones:\n",
      "\n",
      "In hands that hold them, they reside,\n",
      "A window to the world inside,\n",
      "With apps and screens, they never sleep,\n",
      "Smartphones, a constant, constant creep.\n",
      "\n",
      "They connect us all, far and wide,\n",
      "Through networks vast, and digital tide,\n",
      "We share our thoughts, our feelings too,\n",
      "In instant messages, we see it through.\n",
      "\n",
      "But in this glow, of endless light,\n",
      "We lose ourselves, in endless night,\n",
      "Our focus wanes, as distractions roam,\n",
      "And in the end, they're not just a phone.\n"
     ]
    }
   ],
   "source": [
    "system = SystemMessagePromptTemplate.from_template(\"You are expert in writing information about {text}.\")\n",
    "\n",
    "question = HumanMessagePromptTemplate.from_template(\"write a poem about {Topics} in {points} points\")\n",
    "\n",
    "messages=[system,question]\n",
    "\n",
    "template = ChatPromptTemplate(messages)\n",
    "chain = template | llm | StrOutputParser()\n",
    "poem_chain = chain.invoke({'text':'business','Topics':'SmartPhone','points':'3'})\n",
    "print(poem_chain)"
   ]
  },
  {
   "cell_type": "code",
   "execution_count": 32,
   "metadata": {},
   "outputs": [
    {
     "name": "stdout",
     "output_type": "stream",
     "text": [
      "It would be challenging to understand the text as complex language, convoluted sentences, and a plethora of technical terms used throughout make it difficult for non-experts to grasp the essence of the smartphone's evolution.\n"
     ]
    }
   ],
   "source": [
    "analysis_prompt = ChatPromptTemplate.from_template('''analyze the following text: {article_chain}\n",
    "                                                   You need tell me that how difficult it is to understand.\n",
    "                                                   Answer in one sentence only.\n",
    "                                                   ''')\n",
    "\n",
    "article_check_chain = analysis_prompt | llm | StrOutputParser()\n",
    "output = article_check_chain.invoke({'article_chain': article_chain})\n",
    "print(output)"
   ]
  },
  {
   "cell_type": "code",
   "execution_count": null,
   "metadata": {},
   "outputs": [],
   "source": []
  }
 ],
 "metadata": {
  "kernelspec": {
   "display_name": "Python 3",
   "language": "python",
   "name": "python3"
  },
  "language_info": {
   "codemirror_mode": {
    "name": "ipython",
    "version": 3
   },
   "file_extension": ".py",
   "mimetype": "text/x-python",
   "name": "python",
   "nbconvert_exporter": "python",
   "pygments_lexer": "ipython3",
   "version": "3.10.11"
  }
 },
 "nbformat": 4,
 "nbformat_minor": 2
}
