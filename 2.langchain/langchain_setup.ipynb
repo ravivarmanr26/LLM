{
 "cells": [
  {
   "cell_type": "markdown",
   "metadata": {},
   "source": [
    "LangChain is a framework designed for developing applications powered by language models. \n",
    "\n",
    "It provides tools and components to facilitate the integration of language models with various data sources, APIs, and other functionalities, enabling developers to create more complex and interactive applications.\n",
    "\n",
    "Key Features of LangChain:\n",
    "Modularity: It allows developers to build applications using modular components, making it easier to customize and extend functionalities.\n",
    "\n",
    "Integration: LangChain can connect with various data sources, including databases, APIs, and other services, to enhance the capabilities of language models.\n",
    "\n",
    "Chain of Thought: It supports the creation of chains of operations, where the output of one step can be the input to another, allowing for more complex workflows."
   ]
  },
  {
   "cell_type": "markdown",
   "metadata": {},
   "source": [
    "LangChain simplifies every stage of the LLM application lifecycle:\n",
    "\n",
    "Development: Build your applications using LangChain's open-source building blocks, components, and third-party integrations. \n",
    "\n",
    "Use LangGraph to build stateful agents with first-class streaming and human-in-the-loop support.\n",
    "\n",
    "Productionization: Use LangSmith to inspect, monitor and evaluate your chains, so that you can continuously optimize and deploy with confidence.\n",
    "\n",
    "Deployment: Turn your LangGraph applications into production-ready APIs and Assistants with LangGraph Platform."
   ]
  },
  {
   "cell_type": "markdown",
   "metadata": {},
   "source": [
    "#commands to install langchain \n",
    "\n",
    "#pip install langchain\n",
    "\n",
    "#pip install langchain-ollama "
   ]
  },
  {
   "cell_type": "markdown",
   "metadata": {},
   "source": [
    "Here’s a concise summary to remember the key points about LangChain and LangSmith:\n",
    "\n",
    "### LangChain\n",
    "- **Purpose**: Build and integrate applications using language models.\n",
    "- **Key Features**:\n",
    "  - Highly modular design.\n",
    "  - Integrates with various data sources and APIs.\n",
    "  - Focuses on application development.\n",
    "\n",
    "### LangSmith\n",
    "- **Purpose**: Enhance development, testing, and monitoring of language model applications.\n",
    "- **Key Features**:\n",
    "  - Tools for observability and performance analysis.\n",
    "  - Strong emphasis on testing and debugging.\n",
    "  - Aims to improve the development lifecycle of applications.\n",
    "\n",
    "### Quick Comparison\n",
    "- **LangChain**: Application building and integration.\n",
    "- **LangSmith**: Development lifecycle enhancement (testing, debugging, monitoring).\n",
    "\n",
    "Use **LangChain** for building applications and **LangSmith** for improving existing applications' reliability and performance.\n"
   ]
  },
  {
   "cell_type": "markdown",
   "metadata": {},
   "source": [
    "LangSmith is a framework designed to enhance the development and deployment of applications that utilize language models. It focuses on providing tools for building, testing, and managing language model applications, with an emphasis on observability, debugging, and performance monitoring.\n",
    "\n",
    "### Key Features of LangSmith:\n",
    "- **Observability**: LangSmith provides tools to monitor and analyze the performance of language model applications, helping developers understand how their models behave in real-world scenarios.\n",
    "- **Testing**: It includes features for testing language model applications, allowing developers to validate the behavior of their models and ensure they meet expected outcomes.\n",
    "- **Debugging**: LangSmith offers debugging tools to help identify and resolve issues in language model applications, making it easier to maintain and improve them over time.\n",
    "\n",
    "### Differences Between LangChain and LangSmith:\n",
    "\n",
    "| Feature                | LangChain                                      | LangSmith                                      |\n",
    "|------------------------|------------------------------------------------|------------------------------------------------|\n",
    "| **Primary Focus**      | Building applications powered by language models | Enhancing development, testing, and monitoring of language model applications |\n",
    "| **Modularity**         | Highly modular, allowing for flexible application design | Focuses on observability and debugging tools for existing applications |\n",
    "| **Testing and Debugging** | Limited built-in testing features | Strong emphasis on testing, debugging, and performance monitoring |\n",
    "| **Integration**        | Integrates with various data sources and APIs | Primarily focuses on improving the development lifecycle of language model applications |\n",
    "\n",
    "### Summary:\n",
    "- **LangChain** is more about building and integrating language model applications, while **LangSmith** focuses on the development lifecycle, providing tools for testing, debugging, and monitoring those applications.\n",
    "- Depending on your needs, you might choose one over the other or use them in conjunction to leverage their respective strengths. If you are primarily building applications, LangChain may be more suitable, whereas if you are looking to improve the reliability and performance of existing applications, LangSmith would be beneficial.\n"
   ]
  },
  {
   "cell_type": "code",
   "execution_count": 4,
   "metadata": {},
   "outputs": [
    {
     "data": {
      "text/plain": [
       "True"
      ]
     },
     "execution_count": 4,
     "metadata": {},
     "output_type": "execute_result"
    }
   ],
   "source": [
    "from dotenv import load_dotenv\n",
    "\n",
    "load_dotenv('./../.env')"
   ]
  },
  {
   "cell_type": "markdown",
   "metadata": {},
   "source": [
    "Here's a concise summary of navigating directories in Python using relative paths:\n",
    "\n",
    "### Directory Navigation Basics\n",
    "\n",
    "1. **Current Directory (`.`)**: Refers to where your script is running.\n",
    "2. **Parent Directory (`..`)**: Refers to one level up from the current directory.\n",
    "3. **Subdirectories**: Specify by their names directly.\n",
    "\n",
    "### Examples\n",
    "\n",
    "- **Accessing a File in the Parent Directory**:\n",
    "  ```python\n",
    "  load_dotenv('../config/.env')  # If in src/ and .env is in config/\n",
    "  ```\n",
    "\n",
    "- **Accessing a File in a Subdirectory**:\n",
    "  ```python\n",
    "  file_path = 'data/file.txt'  # If in src/ and file.txt is in src/data/\n",
    "  ```\n",
    "\n",
    "- **Accessing a File Two Levels Up**:\n",
    "  ```python\n",
    "  load_dotenv('../../.env')  # If in src/ and .env is in project/\n",
    "  ```\n",
    "\n",
    "### Example Code\n",
    "```python\n",
    "from dotenv import load_dotenv\n",
    "import os\n",
    "\n",
    "load_dotenv('../config/.env')  # Load .env from the parent directory's config\n",
    "api_key = os.getenv('API_KEY')\n",
    "print(api_key)\n",
    "```\n",
    "\n",
    "### Tips\n",
    "- Ensure the path is correct relative to your script's location.\n",
    "- Use `os.path.abspath()` for debugging path issues.\n",
    "\n",
    "Feel free to share your directory structure for more specific guidance!\n"
   ]
  },
  {
   "cell_type": "code",
   "execution_count": 31,
   "metadata": {},
   "outputs": [],
   "source": [
    "# load_dotenv('../.env')"
   ]
  },
  {
   "cell_type": "code",
   "execution_count": 3,
   "metadata": {},
   "outputs": [
    {
     "data": {
      "text/plain": [
       "'https://api.smith.langchain.com'"
      ]
     },
     "execution_count": 3,
     "metadata": {},
     "output_type": "execute_result"
    }
   ],
   "source": [
    "import os \n",
    "\n",
    "os.environ['LANGCHAIN_ENDPOINT']"
   ]
  },
  {
   "cell_type": "code",
   "execution_count": 2,
   "metadata": {},
   "outputs": [
    {
     "name": "stdout",
     "output_type": "stream",
     "text": [
      "model='llama3.2:1b' temperature=0.7 base_url='http://localhost:11434'\n"
     ]
    }
   ],
   "source": [
    "from langchain_ollama import ChatOllama\n",
    "\n",
    "base_url = \"http://localhost:11434\"\n",
    "model = 'llama3.2:1b'\n",
    "\n",
    "llm= ChatOllama(\n",
    "    base_url = base_url,\n",
    "    model = model,\n",
    "    temperature = 0.7,\n",
    "    max_tokens = 256\n",
    ")\n",
    "print(llm)"
   ]
  },
  {
   "cell_type": "code",
   "execution_count": 5,
   "metadata": {},
   "outputs": [
    {
     "name": "stdout",
     "output_type": "stream",
     "text": [
      "Here are some steps you can follow to increase your chances of getting hired as a software engineer at PricewaterhouseCoopers (PwC) with a salary range of ₹10 lakh per annum:\n",
      "\n",
      "1. **Meet the basic qualifications**: Ensure you have a bachelor's degree in Computer Science, Information Technology, or a related field from a reputable university.\n",
      "2. **Develop a strong foundation in programming languages**: Learn at least one programming language such as Java, Python, C++, or JavaScript. Practice coding and build projects to improve your skills.\n",
      "3. **Gain experience with cloud computing platforms**: Familiarize yourself with AWS, Azure, Google Cloud Platform (GCP), or other cloud-based services.\n",
      "4. **Learn about data structures and algorithms**: Understand concepts like arrays, linked lists, stacks, queues, trees, graphs, and dynamic programming.\n",
      "5. **Develop a strong understanding of software development methodologies**: Learn about Agile, Scrum, and DevOps practices to improve your collaboration skills.\n",
      "6. **Get familiar with version control systems (VCS)**: Use Git, Mercurial, or Subversion to manage code repositories.\n",
      "7. **Learn about database management systems**: Understand MySQL, MongoDB, or other popular databases.\n",
      "8. **Stay up-to-date with industry trends and technologies**: Participate in online courses, webinars, or conferences to stay current with the latest developments.\n",
      "9. **Create a strong portfolio**: Showcase your projects on platforms like GitHub or GitLab to demonstrate your skills.\n",
      "10. **Prepare for coding challenges**: Practice solving problems on platforms like LeetCode, HackerRank, or CodeWars.\n",
      "\n",
      "**Job search strategies:**\n",
      "\n",
      "1. **Networking**: Reach out to friends, family, or colleagues in the industry and ask if they know of any job openings.\n",
      "2. **Company websites**: Check PwC's official website for job openings and apply directly.\n",
      "3. **Job boards**: Look for job openings on popular job boards like Indeed, LinkedIn, or Glassdoor.\n",
      "4. **Recruiters**: Consider working with recruiters specializing in software engineering roles.\n",
      "5. **Professional associations**: Join professional organizations like the Institute of Electrical and Electronics Engineers (IEEE) or the International Association for Machine Learning and Artificial Intelligence (IAMAI).\n",
      "\n",
      "**Interview preparation:**\n",
      "\n",
      "1. **Research the company**: Learn about PwC's products, services, and culture to answer common interview questions.\n",
      "2. **Practice coding interviews**: Prepare to solve problems on platforms like LeetCode or HackerRank.\n",
      "3. **Review your resume and portfolio**: Ensure your application materials are concise, clear, and showcase your skills.\n",
      "4. **Prepare for behavioral questions**: Be ready to talk about your experiences, achievements, and challenges.\n",
      "\n",
      "**Salary expectations:**\n",
      "\n",
      "The salary range of ₹10 lakh per annum can vary depending on factors like location, experience, and industry. However, in general, you can expect a starting salary around ₹8-10 lakh per annum for entry-level positions. As you gain experience and move up the career ladder, your salary can increase.\n",
      "\n",
      "**Additional tips:**\n",
      "\n",
      "1. **Be persistent**: It may take some time to land a job, so be prepared to face rejection and keep applying.\n",
      "2. **Show enthusiasm and passion**: Demonstrate your excitement about software engineering and PwC's culture during the interview process.\n",
      "3. **Customize your application materials**: Tailor your resume and portfolio to the specific job opening and highlight your relevant skills.\n",
      "\n",
      "By following these steps, strategies, and tips, you can increase your chances of getting hired as a software engineer at PwC with a salary range of ₹10 lakh per annum.\n"
     ]
    }
   ],
   "source": [
    "# llm.invoke('hi')\n",
    "\n",
    "response = llm.invoke('how to grab a job as a software engineer at package of 10 lpa')\n",
    "\n",
    "print(response.content)"
   ]
  },
  {
   "cell_type": "code",
   "execution_count": 38,
   "metadata": {},
   "outputs": [
    {
     "name": "stdout",
     "output_type": "stream",
     "text": [
      "{'model': 'llama3.2:1b', 'created_at': '2024-12-11T22:29:34.675187Z', 'done': True, 'done_reason': 'stop', 'total_duration': 26170715900, 'load_duration': 7263389000, 'prompt_eval_count': 38, 'prompt_eval_duration': 620000000, 'eval_count': 576, 'eval_duration': 18193000000, 'message': Message(role='assistant', content='', images=None, tool_calls=None)}\n"
     ]
    }
   ],
   "source": [
    "print(response.response_metadata)"
   ]
  },
  {
   "cell_type": "code",
   "execution_count": 8,
   "metadata": {},
   "outputs": [
    {
     "name": "stdout",
     "output_type": "stream",
     "text": [
      "I'm happy to chat with you. What's on your mind?\n"
     ]
    }
   ],
   "source": [
    "\n",
    "from langchain.prompts import PromptTemplate\n",
    "from langchain.chains import ConversationChain\n",
    "from langchain.memory import ConversationBufferMemory\n",
    "\n",
    "\n",
    "# Initialize memory\n",
    "memory = ConversationBufferMemory()\n",
    "\n",
    "# Create a conversation chain with memory\n",
    "conversation = ConversationChain(llm=llm, memory=memory)\n",
    "\n",
    "# Run the chain with multiple inputs\n",
    "response1 = conversation.run(\"Hi there!\")\n",
    "print(response1)"
   ]
  },
  {
   "cell_type": "code",
   "execution_count": 10,
   "metadata": {},
   "outputs": [
    {
     "name": "stdout",
     "output_type": "stream",
     "text": [
      "Human: hi there! I've been wondering about LangChain, what does it even stand for?\n",
      "AI: Ah, good question. LangChain stands for Long Short-Term Memory in the context of natural language processing. It's a memory augmentation technique used to improve the performance of recurrent neural networks (RNNs) and transformer models in generating coherent and contextually relevant text.\n"
     ]
    }
   ],
   "source": [
    "response2 = conversation.run(\"help to learn about ollama and langchain\")\n",
    "print(response2)"
   ]
  },
  {
   "cell_type": "code",
   "execution_count": 18,
   "metadata": {},
   "outputs": [
    {
     "name": "stdout",
     "output_type": "stream",
     "text": [
      " To\n",
      " To  make\n",
      " To  make  a\n",
      " To  make  a  burger\n",
      " To  make  a  burger ,\n",
      " To  make  a  burger ,  start\n",
      " To  make  a  burger ,  start  by\n",
      " To  make  a  burger ,  start  by  pre\n",
      " To  make  a  burger ,  start  by  pre he\n",
      " To  make  a  burger ,  start  by  pre he ating\n",
      " To  make  a  burger ,  start  by  pre he ating  a\n",
      " To  make  a  burger ,  start  by  pre he ating  a  grill\n",
      " To  make  a  burger ,  start  by  pre he ating  a  grill  or\n",
      " To  make  a  burger ,  start  by  pre he ating  a  grill  or  grill\n",
      " To  make  a  burger ,  start  by  pre he ating  a  grill  or  grill  pan\n",
      " To  make  a  burger ,  start  by  pre he ating  a  grill  or  grill  pan  to\n",
      " To  make  a  burger ,  start  by  pre he ating  a  grill  or  grill  pan  to  medium\n",
      " To  make  a  burger ,  start  by  pre he ating  a  grill  or  grill  pan  to  medium -high\n",
      " To  make  a  burger ,  start  by  pre he ating  a  grill  or  grill  pan  to  medium -high  heat\n",
      " To  make  a  burger ,  start  by  pre he ating  a  grill  or  grill  pan  to  medium -high  heat .\n",
      " To  make  a  burger ,  start  by  pre he ating  a  grill  or  grill  pan  to  medium -high  heat .  Meanwhile\n",
      " To  make  a  burger ,  start  by  pre he ating  a  grill  or  grill  pan  to  medium -high  heat .  Meanwhile ,\n",
      " To  make  a  burger ,  start  by  pre he ating  a  grill  or  grill  pan  to  medium -high  heat .  Meanwhile ,  toast\n",
      " To  make  a  burger ,  start  by  pre he ating  a  grill  or  grill  pan  to  medium -high  heat .  Meanwhile ,  toast  the\n",
      " To  make  a  burger ,  start  by  pre he ating  a  grill  or  grill  pan  to  medium -high  heat .  Meanwhile ,  toast  the  b\n",
      " To  make  a  burger ,  start  by  pre he ating  a  grill  or  grill  pan  to  medium -high  heat .  Meanwhile ,  toast  the  b uns\n",
      " To  make  a  burger ,  start  by  pre he ating  a  grill  or  grill  pan  to  medium -high  heat .  Meanwhile ,  toast  the  b uns  on\n",
      " To  make  a  burger ,  start  by  pre he ating  a  grill  or  grill  pan  to  medium -high  heat .  Meanwhile ,  toast  the  b uns  on  the\n",
      " To  make  a  burger ,  start  by  pre he ating  a  grill  or  grill  pan  to  medium -high  heat .  Meanwhile ,  toast  the  b uns  on  the  grill\n",
      " To  make  a  burger ,  start  by  pre he ating  a  grill  or  grill  pan  to  medium -high  heat .  Meanwhile ,  toast  the  b uns  on  the  grill  or\n",
      " To  make  a  burger ,  start  by  pre he ating  a  grill  or  grill  pan  to  medium -high  heat .  Meanwhile ,  toast  the  b uns  on  the  grill  or  in\n",
      " To  make  a  burger ,  start  by  pre he ating  a  grill  or  grill  pan  to  medium -high  heat .  Meanwhile ,  toast  the  b uns  on  the  grill  or  in  a\n",
      " To  make  a  burger ,  start  by  pre he ating  a  grill  or  grill  pan  to  medium -high  heat .  Meanwhile ,  toast  the  b uns  on  the  grill  or  in  a  toaster\n",
      " To  make  a  burger ,  start  by  pre he ating  a  grill  or  grill  pan  to  medium -high  heat .  Meanwhile ,  toast  the  b uns  on  the  grill  or  in  a  toaster .\n",
      " To  make  a  burger ,  start  by  pre he ating  a  grill  or  grill  pan  to  medium -high  heat .  Meanwhile ,  toast  the  b uns  on  the  grill  or  in  a  toaster .  Next\n",
      " To  make  a  burger ,  start  by  pre he ating  a  grill  or  grill  pan  to  medium -high  heat .  Meanwhile ,  toast  the  b uns  on  the  grill  or  in  a  toaster .  Next ,\n",
      " To  make  a  burger ,  start  by  pre he ating  a  grill  or  grill  pan  to  medium -high  heat .  Meanwhile ,  toast  the  b uns  on  the  grill  or  in  a  toaster .  Next ,  form\n",
      " To  make  a  burger ,  start  by  pre he ating  a  grill  or  grill  pan  to  medium -high  heat .  Meanwhile ,  toast  the  b uns  on  the  grill  or  in  a  toaster .  Next ,  form  the\n",
      " To  make  a  burger ,  start  by  pre he ating  a  grill  or  grill  pan  to  medium -high  heat .  Meanwhile ,  toast  the  b uns  on  the  grill  or  in  a  toaster .  Next ,  form  the  ground\n",
      " To  make  a  burger ,  start  by  pre he ating  a  grill  or  grill  pan  to  medium -high  heat .  Meanwhile ,  toast  the  b uns  on  the  grill  or  in  a  toaster .  Next ,  form  the  ground  beef\n",
      " To  make  a  burger ,  start  by  pre he ating  a  grill  or  grill  pan  to  medium -high  heat .  Meanwhile ,  toast  the  b uns  on  the  grill  or  in  a  toaster .  Next ,  form  the  ground  beef  into\n",
      " To  make  a  burger ,  start  by  pre he ating  a  grill  or  grill  pan  to  medium -high  heat .  Meanwhile ,  toast  the  b uns  on  the  grill  or  in  a  toaster .  Next ,  form  the  ground  beef  into  patt\n",
      " To  make  a  burger ,  start  by  pre he ating  a  grill  or  grill  pan  to  medium -high  heat .  Meanwhile ,  toast  the  b uns  on  the  grill  or  in  a  toaster .  Next ,  form  the  ground  beef  into  patt ies\n",
      " To  make  a  burger ,  start  by  pre he ating  a  grill  or  grill  pan  to  medium -high  heat .  Meanwhile ,  toast  the  b uns  on  the  grill  or  in  a  toaster .  Next ,  form  the  ground  beef  into  patt ies  and\n",
      " To  make  a  burger ,  start  by  pre he ating  a  grill  or  grill  pan  to  medium -high  heat .  Meanwhile ,  toast  the  b uns  on  the  grill  or  in  a  toaster .  Next ,  form  the  ground  beef  into  patt ies  and  season\n",
      " To  make  a  burger ,  start  by  pre he ating  a  grill  or  grill  pan  to  medium -high  heat .  Meanwhile ,  toast  the  b uns  on  the  grill  or  in  a  toaster .  Next ,  form  the  ground  beef  into  patt ies  and  season  with\n",
      " To  make  a  burger ,  start  by  pre he ating  a  grill  or  grill  pan  to  medium -high  heat .  Meanwhile ,  toast  the  b uns  on  the  grill  or  in  a  toaster .  Next ,  form  the  ground  beef  into  patt ies  and  season  with  salt\n",
      " To  make  a  burger ,  start  by  pre he ating  a  grill  or  grill  pan  to  medium -high  heat .  Meanwhile ,  toast  the  b uns  on  the  grill  or  in  a  toaster .  Next ,  form  the  ground  beef  into  patt ies  and  season  with  salt ,\n",
      " To  make  a  burger ,  start  by  pre he ating  a  grill  or  grill  pan  to  medium -high  heat .  Meanwhile ,  toast  the  b uns  on  the  grill  or  in  a  toaster .  Next ,  form  the  ground  beef  into  patt ies  and  season  with  salt ,  pepper\n",
      " To  make  a  burger ,  start  by  pre he ating  a  grill  or  grill  pan  to  medium -high  heat .  Meanwhile ,  toast  the  b uns  on  the  grill  or  in  a  toaster .  Next ,  form  the  ground  beef  into  patt ies  and  season  with  salt ,  pepper ,\n",
      " To  make  a  burger ,  start  by  pre he ating  a  grill  or  grill  pan  to  medium -high  heat .  Meanwhile ,  toast  the  b uns  on  the  grill  or  in  a  toaster .  Next ,  form  the  ground  beef  into  patt ies  and  season  with  salt ,  pepper ,  and\n",
      " To  make  a  burger ,  start  by  pre he ating  a  grill  or  grill  pan  to  medium -high  heat .  Meanwhile ,  toast  the  b uns  on  the  grill  or  in  a  toaster .  Next ,  form  the  ground  beef  into  patt ies  and  season  with  salt ,  pepper ,  and  any\n",
      " To  make  a  burger ,  start  by  pre he ating  a  grill  or  grill  pan  to  medium -high  heat .  Meanwhile ,  toast  the  b uns  on  the  grill  or  in  a  toaster .  Next ,  form  the  ground  beef  into  patt ies  and  season  with  salt ,  pepper ,  and  any  other\n",
      " To  make  a  burger ,  start  by  pre he ating  a  grill  or  grill  pan  to  medium -high  heat .  Meanwhile ,  toast  the  b uns  on  the  grill  or  in  a  toaster .  Next ,  form  the  ground  beef  into  patt ies  and  season  with  salt ,  pepper ,  and  any  other  desired\n",
      " To  make  a  burger ,  start  by  pre he ating  a  grill  or  grill  pan  to  medium -high  heat .  Meanwhile ,  toast  the  b uns  on  the  grill  or  in  a  toaster .  Next ,  form  the  ground  beef  into  patt ies  and  season  with  salt ,  pepper ,  and  any  other  desired  herbs\n",
      " To  make  a  burger ,  start  by  pre he ating  a  grill  or  grill  pan  to  medium -high  heat .  Meanwhile ,  toast  the  b uns  on  the  grill  or  in  a  toaster .  Next ,  form  the  ground  beef  into  patt ies  and  season  with  salt ,  pepper ,  and  any  other  desired  herbs  or\n",
      " To  make  a  burger ,  start  by  pre he ating  a  grill  or  grill  pan  to  medium -high  heat .  Meanwhile ,  toast  the  b uns  on  the  grill  or  in  a  toaster .  Next ,  form  the  ground  beef  into  patt ies  and  season  with  salt ,  pepper ,  and  any  other  desired  herbs  or  spices\n",
      " To  make  a  burger ,  start  by  pre he ating  a  grill  or  grill  pan  to  medium -high  heat .  Meanwhile ,  toast  the  b uns  on  the  grill  or  in  a  toaster .  Next ,  form  the  ground  beef  into  patt ies  and  season  with  salt ,  pepper ,  and  any  other  desired  herbs  or  spices .\n",
      " To  make  a  burger ,  start  by  pre he ating  a  grill  or  grill  pan  to  medium -high  heat .  Meanwhile ,  toast  the  b uns  on  the  grill  or  in  a  toaster .  Next ,  form  the  ground  beef  into  patt ies  and  season  with  salt ,  pepper ,  and  any  other  desired  herbs  or  spices .  Grill\n",
      " To  make  a  burger ,  start  by  pre he ating  a  grill  or  grill  pan  to  medium -high  heat .  Meanwhile ,  toast  the  b uns  on  the  grill  or  in  a  toaster .  Next ,  form  the  ground  beef  into  patt ies  and  season  with  salt ,  pepper ,  and  any  other  desired  herbs  or  spices .  Grill  the\n",
      " To  make  a  burger ,  start  by  pre he ating  a  grill  or  grill  pan  to  medium -high  heat .  Meanwhile ,  toast  the  b uns  on  the  grill  or  in  a  toaster .  Next ,  form  the  ground  beef  into  patt ies  and  season  with  salt ,  pepper ,  and  any  other  desired  herbs  or  spices .  Grill  the  burgers\n",
      " To  make  a  burger ,  start  by  pre he ating  a  grill  or  grill  pan  to  medium -high  heat .  Meanwhile ,  toast  the  b uns  on  the  grill  or  in  a  toaster .  Next ,  form  the  ground  beef  into  patt ies  and  season  with  salt ,  pepper ,  and  any  other  desired  herbs  or  spices .  Grill  the  burgers  for\n",
      " To  make  a  burger ,  start  by  pre he ating  a  grill  or  grill  pan  to  medium -high  heat .  Meanwhile ,  toast  the  b uns  on  the  grill  or  in  a  toaster .  Next ,  form  the  ground  beef  into  patt ies  and  season  with  salt ,  pepper ,  and  any  other  desired  herbs  or  spices .  Grill  the  burgers  for  about\n",
      " To  make  a  burger ,  start  by  pre he ating  a  grill  or  grill  pan  to  medium -high  heat .  Meanwhile ,  toast  the  b uns  on  the  grill  or  in  a  toaster .  Next ,  form  the  ground  beef  into  patt ies  and  season  with  salt ,  pepper ,  and  any  other  desired  herbs  or  spices .  Grill  the  burgers  for  about  \n",
      " To  make  a  burger ,  start  by  pre he ating  a  grill  or  grill  pan  to  medium -high  heat .  Meanwhile ,  toast  the  b uns  on  the  grill  or  in  a  toaster .  Next ,  form  the  ground  beef  into  patt ies  and  season  with  salt ,  pepper ,  and  any  other  desired  herbs  or  spices .  Grill  the  burgers  for  about   4\n",
      " To  make  a  burger ,  start  by  pre he ating  a  grill  or  grill  pan  to  medium -high  heat .  Meanwhile ,  toast  the  b uns  on  the  grill  or  in  a  toaster .  Next ,  form  the  ground  beef  into  patt ies  and  season  with  salt ,  pepper ,  and  any  other  desired  herbs  or  spices .  Grill  the  burgers  for  about   4 -\n",
      " To  make  a  burger ,  start  by  pre he ating  a  grill  or  grill  pan  to  medium -high  heat .  Meanwhile ,  toast  the  b uns  on  the  grill  or  in  a  toaster .  Next ,  form  the  ground  beef  into  patt ies  and  season  with  salt ,  pepper ,  and  any  other  desired  herbs  or  spices .  Grill  the  burgers  for  about   4 - 5\n",
      " To  make  a  burger ,  start  by  pre he ating  a  grill  or  grill  pan  to  medium -high  heat .  Meanwhile ,  toast  the  b uns  on  the  grill  or  in  a  toaster .  Next ,  form  the  ground  beef  into  patt ies  and  season  with  salt ,  pepper ,  and  any  other  desired  herbs  or  spices .  Grill  the  burgers  for  about   4 - 5  minutes\n",
      " To  make  a  burger ,  start  by  pre he ating  a  grill  or  grill  pan  to  medium -high  heat .  Meanwhile ,  toast  the  b uns  on  the  grill  or  in  a  toaster .  Next ,  form  the  ground  beef  into  patt ies  and  season  with  salt ,  pepper ,  and  any  other  desired  herbs  or  spices .  Grill  the  burgers  for  about   4 - 5  minutes  per\n",
      " To  make  a  burger ,  start  by  pre he ating  a  grill  or  grill  pan  to  medium -high  heat .  Meanwhile ,  toast  the  b uns  on  the  grill  or  in  a  toaster .  Next ,  form  the  ground  beef  into  patt ies  and  season  with  salt ,  pepper ,  and  any  other  desired  herbs  or  spices .  Grill  the  burgers  for  about   4 - 5  minutes  per  side\n",
      " To  make  a  burger ,  start  by  pre he ating  a  grill  or  grill  pan  to  medium -high  heat .  Meanwhile ,  toast  the  b uns  on  the  grill  or  in  a  toaster .  Next ,  form  the  ground  beef  into  patt ies  and  season  with  salt ,  pepper ,  and  any  other  desired  herbs  or  spices .  Grill  the  burgers  for  about   4 - 5  minutes  per  side ,\n",
      " To  make  a  burger ,  start  by  pre he ating  a  grill  or  grill  pan  to  medium -high  heat .  Meanwhile ,  toast  the  b uns  on  the  grill  or  in  a  toaster .  Next ,  form  the  ground  beef  into  patt ies  and  season  with  salt ,  pepper ,  and  any  other  desired  herbs  or  spices .  Grill  the  burgers  for  about   4 - 5  minutes  per  side ,  or\n",
      " To  make  a  burger ,  start  by  pre he ating  a  grill  or  grill  pan  to  medium -high  heat .  Meanwhile ,  toast  the  b uns  on  the  grill  or  in  a  toaster .  Next ,  form  the  ground  beef  into  patt ies  and  season  with  salt ,  pepper ,  and  any  other  desired  herbs  or  spices .  Grill  the  burgers  for  about   4 - 5  minutes  per  side ,  or  until\n",
      " To  make  a  burger ,  start  by  pre he ating  a  grill  or  grill  pan  to  medium -high  heat .  Meanwhile ,  toast  the  b uns  on  the  grill  or  in  a  toaster .  Next ,  form  the  ground  beef  into  patt ies  and  season  with  salt ,  pepper ,  and  any  other  desired  herbs  or  spices .  Grill  the  burgers  for  about   4 - 5  minutes  per  side ,  or  until  they\n",
      " To  make  a  burger ,  start  by  pre he ating  a  grill  or  grill  pan  to  medium -high  heat .  Meanwhile ,  toast  the  b uns  on  the  grill  or  in  a  toaster .  Next ,  form  the  ground  beef  into  patt ies  and  season  with  salt ,  pepper ,  and  any  other  desired  herbs  or  spices .  Grill  the  burgers  for  about   4 - 5  minutes  per  side ,  or  until  they  reach\n",
      " To  make  a  burger ,  start  by  pre he ating  a  grill  or  grill  pan  to  medium -high  heat .  Meanwhile ,  toast  the  b uns  on  the  grill  or  in  a  toaster .  Next ,  form  the  ground  beef  into  patt ies  and  season  with  salt ,  pepper ,  and  any  other  desired  herbs  or  spices .  Grill  the  burgers  for  about   4 - 5  minutes  per  side ,  or  until  they  reach  your\n",
      " To  make  a  burger ,  start  by  pre he ating  a  grill  or  grill  pan  to  medium -high  heat .  Meanwhile ,  toast  the  b uns  on  the  grill  or  in  a  toaster .  Next ,  form  the  ground  beef  into  patt ies  and  season  with  salt ,  pepper ,  and  any  other  desired  herbs  or  spices .  Grill  the  burgers  for  about   4 - 5  minutes  per  side ,  or  until  they  reach  your  desired\n",
      " To  make  a  burger ,  start  by  pre he ating  a  grill  or  grill  pan  to  medium -high  heat .  Meanwhile ,  toast  the  b uns  on  the  grill  or  in  a  toaster .  Next ,  form  the  ground  beef  into  patt ies  and  season  with  salt ,  pepper ,  and  any  other  desired  herbs  or  spices .  Grill  the  burgers  for  about   4 - 5  minutes  per  side ,  or  until  they  reach  your  desired  level\n",
      " To  make  a  burger ,  start  by  pre he ating  a  grill  or  grill  pan  to  medium -high  heat .  Meanwhile ,  toast  the  b uns  on  the  grill  or  in  a  toaster .  Next ,  form  the  ground  beef  into  patt ies  and  season  with  salt ,  pepper ,  and  any  other  desired  herbs  or  spices .  Grill  the  burgers  for  about   4 - 5  minutes  per  side ,  or  until  they  reach  your  desired  level  of\n",
      " To  make  a  burger ,  start  by  pre he ating  a  grill  or  grill  pan  to  medium -high  heat .  Meanwhile ,  toast  the  b uns  on  the  grill  or  in  a  toaster .  Next ,  form  the  ground  beef  into  patt ies  and  season  with  salt ,  pepper ,  and  any  other  desired  herbs  or  spices .  Grill  the  burgers  for  about   4 - 5  minutes  per  side ,  or  until  they  reach  your  desired  level  of  don\n",
      " To  make  a  burger ,  start  by  pre he ating  a  grill  or  grill  pan  to  medium -high  heat .  Meanwhile ,  toast  the  b uns  on  the  grill  or  in  a  toaster .  Next ,  form  the  ground  beef  into  patt ies  and  season  with  salt ,  pepper ,  and  any  other  desired  herbs  or  spices .  Grill  the  burgers  for  about   4 - 5  minutes  per  side ,  or  until  they  reach  your  desired  level  of  don eness\n",
      " To  make  a  burger ,  start  by  pre he ating  a  grill  or  grill  pan  to  medium -high  heat .  Meanwhile ,  toast  the  b uns  on  the  grill  or  in  a  toaster .  Next ,  form  the  ground  beef  into  patt ies  and  season  with  salt ,  pepper ,  and  any  other  desired  herbs  or  spices .  Grill  the  burgers  for  about   4 - 5  minutes  per  side ,  or  until  they  reach  your  desired  level  of  don eness ,\n",
      " To  make  a  burger ,  start  by  pre he ating  a  grill  or  grill  pan  to  medium -high  heat .  Meanwhile ,  toast  the  b uns  on  the  grill  or  in  a  toaster .  Next ,  form  the  ground  beef  into  patt ies  and  season  with  salt ,  pepper ,  and  any  other  desired  herbs  or  spices .  Grill  the  burgers  for  about   4 - 5  minutes  per  side ,  or  until  they  reach  your  desired  level  of  don eness ,  then\n",
      " To  make  a  burger ,  start  by  pre he ating  a  grill  or  grill  pan  to  medium -high  heat .  Meanwhile ,  toast  the  b uns  on  the  grill  or  in  a  toaster .  Next ,  form  the  ground  beef  into  patt ies  and  season  with  salt ,  pepper ,  and  any  other  desired  herbs  or  spices .  Grill  the  burgers  for  about   4 - 5  minutes  per  side ,  or  until  they  reach  your  desired  level  of  don eness ,  then  assemble\n",
      " To  make  a  burger ,  start  by  pre he ating  a  grill  or  grill  pan  to  medium -high  heat .  Meanwhile ,  toast  the  b uns  on  the  grill  or  in  a  toaster .  Next ,  form  the  ground  beef  into  patt ies  and  season  with  salt ,  pepper ,  and  any  other  desired  herbs  or  spices .  Grill  the  burgers  for  about   4 - 5  minutes  per  side ,  or  until  they  reach  your  desired  level  of  don eness ,  then  assemble  the\n",
      " To  make  a  burger ,  start  by  pre he ating  a  grill  or  grill  pan  to  medium -high  heat .  Meanwhile ,  toast  the  b uns  on  the  grill  or  in  a  toaster .  Next ,  form  the  ground  beef  into  patt ies  and  season  with  salt ,  pepper ,  and  any  other  desired  herbs  or  spices .  Grill  the  burgers  for  about   4 - 5  minutes  per  side ,  or  until  they  reach  your  desired  level  of  don eness ,  then  assemble  the  burger\n",
      " To  make  a  burger ,  start  by  pre he ating  a  grill  or  grill  pan  to  medium -high  heat .  Meanwhile ,  toast  the  b uns  on  the  grill  or  in  a  toaster .  Next ,  form  the  ground  beef  into  patt ies  and  season  with  salt ,  pepper ,  and  any  other  desired  herbs  or  spices .  Grill  the  burgers  for  about   4 - 5  minutes  per  side ,  or  until  they  reach  your  desired  level  of  don eness ,  then  assemble  the  burger  by\n",
      " To  make  a  burger ,  start  by  pre he ating  a  grill  or  grill  pan  to  medium -high  heat .  Meanwhile ,  toast  the  b uns  on  the  grill  or  in  a  toaster .  Next ,  form  the  ground  beef  into  patt ies  and  season  with  salt ,  pepper ,  and  any  other  desired  herbs  or  spices .  Grill  the  burgers  for  about   4 - 5  minutes  per  side ,  or  until  they  reach  your  desired  level  of  don eness ,  then  assemble  the  burger  by  spreading\n",
      " To  make  a  burger ,  start  by  pre he ating  a  grill  or  grill  pan  to  medium -high  heat .  Meanwhile ,  toast  the  b uns  on  the  grill  or  in  a  toaster .  Next ,  form  the  ground  beef  into  patt ies  and  season  with  salt ,  pepper ,  and  any  other  desired  herbs  or  spices .  Grill  the  burgers  for  about   4 - 5  minutes  per  side ,  or  until  they  reach  your  desired  level  of  don eness ,  then  assemble  the  burger  by  spreading  may\n",
      " To  make  a  burger ,  start  by  pre he ating  a  grill  or  grill  pan  to  medium -high  heat .  Meanwhile ,  toast  the  b uns  on  the  grill  or  in  a  toaster .  Next ,  form  the  ground  beef  into  patt ies  and  season  with  salt ,  pepper ,  and  any  other  desired  herbs  or  spices .  Grill  the  burgers  for  about   4 - 5  minutes  per  side ,  or  until  they  reach  your  desired  level  of  don eness ,  then  assemble  the  burger  by  spreading  may onna\n",
      " To  make  a  burger ,  start  by  pre he ating  a  grill  or  grill  pan  to  medium -high  heat .  Meanwhile ,  toast  the  b uns  on  the  grill  or  in  a  toaster .  Next ,  form  the  ground  beef  into  patt ies  and  season  with  salt ,  pepper ,  and  any  other  desired  herbs  or  spices .  Grill  the  burgers  for  about   4 - 5  minutes  per  side ,  or  until  they  reach  your  desired  level  of  don eness ,  then  assemble  the  burger  by  spreading  may onna ise\n",
      " To  make  a  burger ,  start  by  pre he ating  a  grill  or  grill  pan  to  medium -high  heat .  Meanwhile ,  toast  the  b uns  on  the  grill  or  in  a  toaster .  Next ,  form  the  ground  beef  into  patt ies  and  season  with  salt ,  pepper ,  and  any  other  desired  herbs  or  spices .  Grill  the  burgers  for  about   4 - 5  minutes  per  side ,  or  until  they  reach  your  desired  level  of  don eness ,  then  assemble  the  burger  by  spreading  may onna ise  on\n",
      " To  make  a  burger ,  start  by  pre he ating  a  grill  or  grill  pan  to  medium -high  heat .  Meanwhile ,  toast  the  b uns  on  the  grill  or  in  a  toaster .  Next ,  form  the  ground  beef  into  patt ies  and  season  with  salt ,  pepper ,  and  any  other  desired  herbs  or  spices .  Grill  the  burgers  for  about   4 - 5  minutes  per  side ,  or  until  they  reach  your  desired  level  of  don eness ,  then  assemble  the  burger  by  spreading  may onna ise  on  the\n",
      " To  make  a  burger ,  start  by  pre he ating  a  grill  or  grill  pan  to  medium -high  heat .  Meanwhile ,  toast  the  b uns  on  the  grill  or  in  a  toaster .  Next ,  form  the  ground  beef  into  patt ies  and  season  with  salt ,  pepper ,  and  any  other  desired  herbs  or  spices .  Grill  the  burgers  for  about   4 - 5  minutes  per  side ,  or  until  they  reach  your  desired  level  of  don eness ,  then  assemble  the  burger  by  spreading  may onna ise  on  the  bottom\n",
      " To  make  a  burger ,  start  by  pre he ating  a  grill  or  grill  pan  to  medium -high  heat .  Meanwhile ,  toast  the  b uns  on  the  grill  or  in  a  toaster .  Next ,  form  the  ground  beef  into  patt ies  and  season  with  salt ,  pepper ,  and  any  other  desired  herbs  or  spices .  Grill  the  burgers  for  about   4 - 5  minutes  per  side ,  or  until  they  reach  your  desired  level  of  don eness ,  then  assemble  the  burger  by  spreading  may onna ise  on  the  bottom  bun\n",
      " To  make  a  burger ,  start  by  pre he ating  a  grill  or  grill  pan  to  medium -high  heat .  Meanwhile ,  toast  the  b uns  on  the  grill  or  in  a  toaster .  Next ,  form  the  ground  beef  into  patt ies  and  season  with  salt ,  pepper ,  and  any  other  desired  herbs  or  spices .  Grill  the  burgers  for  about   4 - 5  minutes  per  side ,  or  until  they  reach  your  desired  level  of  don eness ,  then  assemble  the  burger  by  spreading  may onna ise  on  the  bottom  bun ,\n",
      " To  make  a  burger ,  start  by  pre he ating  a  grill  or  grill  pan  to  medium -high  heat .  Meanwhile ,  toast  the  b uns  on  the  grill  or  in  a  toaster .  Next ,  form  the  ground  beef  into  patt ies  and  season  with  salt ,  pepper ,  and  any  other  desired  herbs  or  spices .  Grill  the  burgers  for  about   4 - 5  minutes  per  side ,  or  until  they  reach  your  desired  level  of  don eness ,  then  assemble  the  burger  by  spreading  may onna ise  on  the  bottom  bun ,  adding\n",
      " To  make  a  burger ,  start  by  pre he ating  a  grill  or  grill  pan  to  medium -high  heat .  Meanwhile ,  toast  the  b uns  on  the  grill  or  in  a  toaster .  Next ,  form  the  ground  beef  into  patt ies  and  season  with  salt ,  pepper ,  and  any  other  desired  herbs  or  spices .  Grill  the  burgers  for  about   4 - 5  minutes  per  side ,  or  until  they  reach  your  desired  level  of  don eness ,  then  assemble  the  burger  by  spreading  may onna ise  on  the  bottom  bun ,  adding  a\n",
      " To  make  a  burger ,  start  by  pre he ating  a  grill  or  grill  pan  to  medium -high  heat .  Meanwhile ,  toast  the  b uns  on  the  grill  or  in  a  toaster .  Next ,  form  the  ground  beef  into  patt ies  and  season  with  salt ,  pepper ,  and  any  other  desired  herbs  or  spices .  Grill  the  burgers  for  about   4 - 5  minutes  per  side ,  or  until  they  reach  your  desired  level  of  don eness ,  then  assemble  the  burger  by  spreading  may onna ise  on  the  bottom  bun ,  adding  a  lettuce\n",
      " To  make  a  burger ,  start  by  pre he ating  a  grill  or  grill  pan  to  medium -high  heat .  Meanwhile ,  toast  the  b uns  on  the  grill  or  in  a  toaster .  Next ,  form  the  ground  beef  into  patt ies  and  season  with  salt ,  pepper ,  and  any  other  desired  herbs  or  spices .  Grill  the  burgers  for  about   4 - 5  minutes  per  side ,  or  until  they  reach  your  desired  level  of  don eness ,  then  assemble  the  burger  by  spreading  may onna ise  on  the  bottom  bun ,  adding  a  lettuce  leaf\n",
      " To  make  a  burger ,  start  by  pre he ating  a  grill  or  grill  pan  to  medium -high  heat .  Meanwhile ,  toast  the  b uns  on  the  grill  or  in  a  toaster .  Next ,  form  the  ground  beef  into  patt ies  and  season  with  salt ,  pepper ,  and  any  other  desired  herbs  or  spices .  Grill  the  burgers  for  about   4 - 5  minutes  per  side ,  or  until  they  reach  your  desired  level  of  don eness ,  then  assemble  the  burger  by  spreading  may onna ise  on  the  bottom  bun ,  adding  a  lettuce  leaf ,\n",
      " To  make  a  burger ,  start  by  pre he ating  a  grill  or  grill  pan  to  medium -high  heat .  Meanwhile ,  toast  the  b uns  on  the  grill  or  in  a  toaster .  Next ,  form  the  ground  beef  into  patt ies  and  season  with  salt ,  pepper ,  and  any  other  desired  herbs  or  spices .  Grill  the  burgers  for  about   4 - 5  minutes  per  side ,  or  until  they  reach  your  desired  level  of  don eness ,  then  assemble  the  burger  by  spreading  may onna ise  on  the  bottom  bun ,  adding  a  lettuce  leaf ,  a\n",
      " To  make  a  burger ,  start  by  pre he ating  a  grill  or  grill  pan  to  medium -high  heat .  Meanwhile ,  toast  the  b uns  on  the  grill  or  in  a  toaster .  Next ,  form  the  ground  beef  into  patt ies  and  season  with  salt ,  pepper ,  and  any  other  desired  herbs  or  spices .  Grill  the  burgers  for  about   4 - 5  minutes  per  side ,  or  until  they  reach  your  desired  level  of  don eness ,  then  assemble  the  burger  by  spreading  may onna ise  on  the  bottom  bun ,  adding  a  lettuce  leaf ,  a  tomato\n",
      " To  make  a  burger ,  start  by  pre he ating  a  grill  or  grill  pan  to  medium -high  heat .  Meanwhile ,  toast  the  b uns  on  the  grill  or  in  a  toaster .  Next ,  form  the  ground  beef  into  patt ies  and  season  with  salt ,  pepper ,  and  any  other  desired  herbs  or  spices .  Grill  the  burgers  for  about   4 - 5  minutes  per  side ,  or  until  they  reach  your  desired  level  of  don eness ,  then  assemble  the  burger  by  spreading  may onna ise  on  the  bottom  bun ,  adding  a  lettuce  leaf ,  a  tomato  slice\n",
      " To  make  a  burger ,  start  by  pre he ating  a  grill  or  grill  pan  to  medium -high  heat .  Meanwhile ,  toast  the  b uns  on  the  grill  or  in  a  toaster .  Next ,  form  the  ground  beef  into  patt ies  and  season  with  salt ,  pepper ,  and  any  other  desired  herbs  or  spices .  Grill  the  burgers  for  about   4 - 5  minutes  per  side ,  or  until  they  reach  your  desired  level  of  don eness ,  then  assemble  the  burger  by  spreading  may onna ise  on  the  bottom  bun ,  adding  a  lettuce  leaf ,  a  tomato  slice ,\n",
      " To  make  a  burger ,  start  by  pre he ating  a  grill  or  grill  pan  to  medium -high  heat .  Meanwhile ,  toast  the  b uns  on  the  grill  or  in  a  toaster .  Next ,  form  the  ground  beef  into  patt ies  and  season  with  salt ,  pepper ,  and  any  other  desired  herbs  or  spices .  Grill  the  burgers  for  about   4 - 5  minutes  per  side ,  or  until  they  reach  your  desired  level  of  don eness ,  then  assemble  the  burger  by  spreading  may onna ise  on  the  bottom  bun ,  adding  a  lettuce  leaf ,  a  tomato  slice ,  a\n",
      " To  make  a  burger ,  start  by  pre he ating  a  grill  or  grill  pan  to  medium -high  heat .  Meanwhile ,  toast  the  b uns  on  the  grill  or  in  a  toaster .  Next ,  form  the  ground  beef  into  patt ies  and  season  with  salt ,  pepper ,  and  any  other  desired  herbs  or  spices .  Grill  the  burgers  for  about   4 - 5  minutes  per  side ,  or  until  they  reach  your  desired  level  of  don eness ,  then  assemble  the  burger  by  spreading  may onna ise  on  the  bottom  bun ,  adding  a  lettuce  leaf ,  a  tomato  slice ,  a  cheese\n",
      " To  make  a  burger ,  start  by  pre he ating  a  grill  or  grill  pan  to  medium -high  heat .  Meanwhile ,  toast  the  b uns  on  the  grill  or  in  a  toaster .  Next ,  form  the  ground  beef  into  patt ies  and  season  with  salt ,  pepper ,  and  any  other  desired  herbs  or  spices .  Grill  the  burgers  for  about   4 - 5  minutes  per  side ,  or  until  they  reach  your  desired  level  of  don eness ,  then  assemble  the  burger  by  spreading  may onna ise  on  the  bottom  bun ,  adding  a  lettuce  leaf ,  a  tomato  slice ,  a  cheese  slice\n",
      " To  make  a  burger ,  start  by  pre he ating  a  grill  or  grill  pan  to  medium -high  heat .  Meanwhile ,  toast  the  b uns  on  the  grill  or  in  a  toaster .  Next ,  form  the  ground  beef  into  patt ies  and  season  with  salt ,  pepper ,  and  any  other  desired  herbs  or  spices .  Grill  the  burgers  for  about   4 - 5  minutes  per  side ,  or  until  they  reach  your  desired  level  of  don eness ,  then  assemble  the  burger  by  spreading  may onna ise  on  the  bottom  bun ,  adding  a  lettuce  leaf ,  a  tomato  slice ,  a  cheese  slice  (\n",
      " To  make  a  burger ,  start  by  pre he ating  a  grill  or  grill  pan  to  medium -high  heat .  Meanwhile ,  toast  the  b uns  on  the  grill  or  in  a  toaster .  Next ,  form  the  ground  beef  into  patt ies  and  season  with  salt ,  pepper ,  and  any  other  desired  herbs  or  spices .  Grill  the  burgers  for  about   4 - 5  minutes  per  side ,  or  until  they  reach  your  desired  level  of  don eness ,  then  assemble  the  burger  by  spreading  may onna ise  on  the  bottom  bun ,  adding  a  lettuce  leaf ,  a  tomato  slice ,  a  cheese  slice  ( if\n",
      " To  make  a  burger ,  start  by  pre he ating  a  grill  or  grill  pan  to  medium -high  heat .  Meanwhile ,  toast  the  b uns  on  the  grill  or  in  a  toaster .  Next ,  form  the  ground  beef  into  patt ies  and  season  with  salt ,  pepper ,  and  any  other  desired  herbs  or  spices .  Grill  the  burgers  for  about   4 - 5  minutes  per  side ,  or  until  they  reach  your  desired  level  of  don eness ,  then  assemble  the  burger  by  spreading  may onna ise  on  the  bottom  bun ,  adding  a  lettuce  leaf ,  a  tomato  slice ,  a  cheese  slice  ( if  using\n",
      " To  make  a  burger ,  start  by  pre he ating  a  grill  or  grill  pan  to  medium -high  heat .  Meanwhile ,  toast  the  b uns  on  the  grill  or  in  a  toaster .  Next ,  form  the  ground  beef  into  patt ies  and  season  with  salt ,  pepper ,  and  any  other  desired  herbs  or  spices .  Grill  the  burgers  for  about   4 - 5  minutes  per  side ,  or  until  they  reach  your  desired  level  of  don eness ,  then  assemble  the  burger  by  spreading  may onna ise  on  the  bottom  bun ,  adding  a  lettuce  leaf ,  a  tomato  slice ,  a  cheese  slice  ( if  using ),\n",
      " To  make  a  burger ,  start  by  pre he ating  a  grill  or  grill  pan  to  medium -high  heat .  Meanwhile ,  toast  the  b uns  on  the  grill  or  in  a  toaster .  Next ,  form  the  ground  beef  into  patt ies  and  season  with  salt ,  pepper ,  and  any  other  desired  herbs  or  spices .  Grill  the  burgers  for  about   4 - 5  minutes  per  side ,  or  until  they  reach  your  desired  level  of  don eness ,  then  assemble  the  burger  by  spreading  may onna ise  on  the  bottom  bun ,  adding  a  lettuce  leaf ,  a  tomato  slice ,  a  cheese  slice  ( if  using ),  and\n",
      " To  make  a  burger ,  start  by  pre he ating  a  grill  or  grill  pan  to  medium -high  heat .  Meanwhile ,  toast  the  b uns  on  the  grill  or  in  a  toaster .  Next ,  form  the  ground  beef  into  patt ies  and  season  with  salt ,  pepper ,  and  any  other  desired  herbs  or  spices .  Grill  the  burgers  for  about   4 - 5  minutes  per  side ,  or  until  they  reach  your  desired  level  of  don eness ,  then  assemble  the  burger  by  spreading  may onna ise  on  the  bottom  bun ,  adding  a  lettuce  leaf ,  a  tomato  slice ,  a  cheese  slice  ( if  using ),  and  finally\n",
      " To  make  a  burger ,  start  by  pre he ating  a  grill  or  grill  pan  to  medium -high  heat .  Meanwhile ,  toast  the  b uns  on  the  grill  or  in  a  toaster .  Next ,  form  the  ground  beef  into  patt ies  and  season  with  salt ,  pepper ,  and  any  other  desired  herbs  or  spices .  Grill  the  burgers  for  about   4 - 5  minutes  per  side ,  or  until  they  reach  your  desired  level  of  don eness ,  then  assemble  the  burger  by  spreading  may onna ise  on  the  bottom  bun ,  adding  a  lettuce  leaf ,  a  tomato  slice ,  a  cheese  slice  ( if  using ),  and  finally  placing\n",
      " To  make  a  burger ,  start  by  pre he ating  a  grill  or  grill  pan  to  medium -high  heat .  Meanwhile ,  toast  the  b uns  on  the  grill  or  in  a  toaster .  Next ,  form  the  ground  beef  into  patt ies  and  season  with  salt ,  pepper ,  and  any  other  desired  herbs  or  spices .  Grill  the  burgers  for  about   4 - 5  minutes  per  side ,  or  until  they  reach  your  desired  level  of  don eness ,  then  assemble  the  burger  by  spreading  may onna ise  on  the  bottom  bun ,  adding  a  lettuce  leaf ,  a  tomato  slice ,  a  cheese  slice  ( if  using ),  and  finally  placing  the\n",
      " To  make  a  burger ,  start  by  pre he ating  a  grill  or  grill  pan  to  medium -high  heat .  Meanwhile ,  toast  the  b uns  on  the  grill  or  in  a  toaster .  Next ,  form  the  ground  beef  into  patt ies  and  season  with  salt ,  pepper ,  and  any  other  desired  herbs  or  spices .  Grill  the  burgers  for  about   4 - 5  minutes  per  side ,  or  until  they  reach  your  desired  level  of  don eness ,  then  assemble  the  burger  by  spreading  may onna ise  on  the  bottom  bun ,  adding  a  lettuce  leaf ,  a  tomato  slice ,  a  cheese  slice  ( if  using ),  and  finally  placing  the  burger\n",
      " To  make  a  burger ,  start  by  pre he ating  a  grill  or  grill  pan  to  medium -high  heat .  Meanwhile ,  toast  the  b uns  on  the  grill  or  in  a  toaster .  Next ,  form  the  ground  beef  into  patt ies  and  season  with  salt ,  pepper ,  and  any  other  desired  herbs  or  spices .  Grill  the  burgers  for  about   4 - 5  minutes  per  side ,  or  until  they  reach  your  desired  level  of  don eness ,  then  assemble  the  burger  by  spreading  may onna ise  on  the  bottom  bun ,  adding  a  lettuce  leaf ,  a  tomato  slice ,  a  cheese  slice  ( if  using ),  and  finally  placing  the  burger  p\n",
      " To  make  a  burger ,  start  by  pre he ating  a  grill  or  grill  pan  to  medium -high  heat .  Meanwhile ,  toast  the  b uns  on  the  grill  or  in  a  toaster .  Next ,  form  the  ground  beef  into  patt ies  and  season  with  salt ,  pepper ,  and  any  other  desired  herbs  or  spices .  Grill  the  burgers  for  about   4 - 5  minutes  per  side ,  or  until  they  reach  your  desired  level  of  don eness ,  then  assemble  the  burger  by  spreading  may onna ise  on  the  bottom  bun ,  adding  a  lettuce  leaf ,  a  tomato  slice ,  a  cheese  slice  ( if  using ),  and  finally  placing  the  burger  p atty\n",
      " To  make  a  burger ,  start  by  pre he ating  a  grill  or  grill  pan  to  medium -high  heat .  Meanwhile ,  toast  the  b uns  on  the  grill  or  in  a  toaster .  Next ,  form  the  ground  beef  into  patt ies  and  season  with  salt ,  pepper ,  and  any  other  desired  herbs  or  spices .  Grill  the  burgers  for  about   4 - 5  minutes  per  side ,  or  until  they  reach  your  desired  level  of  don eness ,  then  assemble  the  burger  by  spreading  may onna ise  on  the  bottom  bun ,  adding  a  lettuce  leaf ,  a  tomato  slice ,  a  cheese  slice  ( if  using ),  and  finally  placing  the  burger  p atty  on\n",
      " To  make  a  burger ,  start  by  pre he ating  a  grill  or  grill  pan  to  medium -high  heat .  Meanwhile ,  toast  the  b uns  on  the  grill  or  in  a  toaster .  Next ,  form  the  ground  beef  into  patt ies  and  season  with  salt ,  pepper ,  and  any  other  desired  herbs  or  spices .  Grill  the  burgers  for  about   4 - 5  minutes  per  side ,  or  until  they  reach  your  desired  level  of  don eness ,  then  assemble  the  burger  by  spreading  may onna ise  on  the  bottom  bun ,  adding  a  lettuce  leaf ,  a  tomato  slice ,  a  cheese  slice  ( if  using ),  and  finally  placing  the  burger  p atty  on  top\n",
      " To  make  a  burger ,  start  by  pre he ating  a  grill  or  grill  pan  to  medium -high  heat .  Meanwhile ,  toast  the  b uns  on  the  grill  or  in  a  toaster .  Next ,  form  the  ground  beef  into  patt ies  and  season  with  salt ,  pepper ,  and  any  other  desired  herbs  or  spices .  Grill  the  burgers  for  about   4 - 5  minutes  per  side ,  or  until  they  reach  your  desired  level  of  don eness ,  then  assemble  the  burger  by  spreading  may onna ise  on  the  bottom  bun ,  adding  a  lettuce  leaf ,  a  tomato  slice ,  a  cheese  slice  ( if  using ),  and  finally  placing  the  burger  p atty  on  top .\n",
      " To  make  a  burger ,  start  by  pre he ating  a  grill  or  grill  pan  to  medium -high  heat .  Meanwhile ,  toast  the  b uns  on  the  grill  or  in  a  toaster .  Next ,  form  the  ground  beef  into  patt ies  and  season  with  salt ,  pepper ,  and  any  other  desired  herbs  or  spices .  Grill  the  burgers  for  about   4 - 5  minutes  per  side ,  or  until  they  reach  your  desired  level  of  don eness ,  then  assemble  the  burger  by  spreading  may onna ise  on  the  bottom  bun ,  adding  a  lettuce  leaf ,  a  tomato  slice ,  a  cheese  slice  ( if  using ),  and  finally  placing  the  burger  p atty  on  top . \n"
     ]
    }
   ],
   "source": [
    "response = \"\"\n",
    "for chunk in llm.stream('how to make a burger. answer in 5 sentences?'):\n",
    "    response += \" \" + chunk\n",
    "    print(response)"
   ]
  }
 ],
 "metadata": {
  "kernelspec": {
   "display_name": "Python 3",
   "language": "python",
   "name": "python3"
  },
  "language_info": {
   "codemirror_mode": {
    "name": "ipython",
    "version": 3
   },
   "file_extension": ".py",
   "mimetype": "text/x-python",
   "name": "python",
   "nbconvert_exporter": "python",
   "pygments_lexer": "ipython3",
   "version": "3.10.11"
  }
 },
 "nbformat": 4,
 "nbformat_minor": 2
}
