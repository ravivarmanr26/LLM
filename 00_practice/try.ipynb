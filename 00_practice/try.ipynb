{
 "cells": [
  {
   "cell_type": "markdown",
   "metadata": {},
   "source": [
    "https://medium.com/@rushing_andrei/function-calling-with-open-source-llms-594aa5b3a304"
   ]
  },
  {
   "cell_type": "markdown",
   "metadata": {},
   "source": [
    "https://github.com/PromptEngineer48/Function-Calling-Ollama-Llama-3.1/blob/main/app.py"
   ]
  },
  {
   "cell_type": "markdown",
   "metadata": {},
   "source": [
    "https://github.com/samwit/agent_tutorials/blob/main/ollama_agents/llama3_local/llama3_ollama_functions.py"
   ]
  },
  {
   "cell_type": "code",
   "execution_count": null,
   "metadata": {},
   "outputs": [],
   "source": []
  },
  {
   "cell_type": "code",
   "execution_count": 6,
   "metadata": {},
   "outputs": [
    {
     "data": {
      "text/plain": [
       "ChatGroq(client=<groq.resources.chat.completions.Completions object at 0x000001CF9E465F90>, async_client=<groq.resources.chat.completions.AsyncCompletions object at 0x000001CF9DE61D50>, model_name='llama-3.2-90b-vision-preview', model_kwargs={}, groq_api_key=SecretStr('**********'))"
      ]
     },
     "execution_count": 6,
     "metadata": {},
     "output_type": "execute_result"
    }
   ],
   "source": [
    "from dotenv import load_dotenv\n",
    "load_dotenv()\n",
    "\n",
    "from langchain_groq import ChatGroq\n",
    "\n",
    "llm = ChatGroq(model='llama-3.2-90b-vision-preview')\n",
    "llm"
   ]
  },
  {
   "cell_type": "code",
   "execution_count": 25,
   "metadata": {},
   "outputs": [],
   "source": [
    "from langchain_core.tools import tool\n",
    "\n",
    "\n",
    "@tool\n",
    "def add(a: int, b: int) -> int:\n",
    "    \"\"\"Adds a and b.\n",
    "\n",
    "    Args:\n",
    "        a: first int\n",
    "        b: second int\n",
    "    \"\"\"\n",
    "    return a + b\n",
    "\n",
    "@tool\n",
    "def multiply(a: int, b: int) -> int:\n",
    "    \"\"\"Multiplies a and b.\n",
    "\n",
    "    Args:\n",
    "        a: first int\n",
    "        b: second int\n",
    "    \"\"\"\n",
    "    return a * b\n",
    "\n",
    "@tool\n",
    "def subtract(a: int, b: int) -> int:\n",
    "    \"\"\"Subtracts b from a.\n",
    "\n",
    "    Args:\n",
    "        a: first int\n",
    "        b: second int\n",
    "    \"\"\"\n",
    "    return a - b\n",
    "\n",
    "tools = [add, multiply, subtract]"
   ]
  },
  {
   "cell_type": "code",
   "execution_count": 58,
   "metadata": {},
   "outputs": [
    {
     "name": "stdout",
     "output_type": "stream",
     "text": [
      "name='add' description='Adds a and b.\\n\\n    Args:\\n        a: first int\\n        b: second int' args_schema=<class 'langchain_core.utils.pydantic.add'> func=<function add at 0x000001CF9E63F4C0>\n"
     ]
    }
   ],
   "source": [
    "print(add)"
   ]
  },
  {
   "cell_type": "code",
   "execution_count": 26,
   "metadata": {},
   "outputs": [
    {
     "data": {
      "text/plain": [
       "RunnableBinding(bound=ChatGroq(client=<groq.resources.chat.completions.Completions object at 0x000001CF9E465F90>, async_client=<groq.resources.chat.completions.AsyncCompletions object at 0x000001CF9DE61D50>, model_name='llama-3.2-90b-vision-preview', model_kwargs={}, groq_api_key=SecretStr('**********')), kwargs={'tools': [{'type': 'function', 'function': {'name': 'add', 'description': 'Adds a and b.\\n\\n    Args:\\n        a: first int\\n        b: second int', 'parameters': {'properties': {'a': {'type': 'integer'}, 'b': {'type': 'integer'}}, 'required': ['a', 'b'], 'type': 'object'}}}, {'type': 'function', 'function': {'name': 'multiply', 'description': 'Multiplies a and b.\\n\\n    Args:\\n        a: first int\\n        b: second int', 'parameters': {'properties': {'a': {'type': 'integer'}, 'b': {'type': 'integer'}}, 'required': ['a', 'b'], 'type': 'object'}}}, {'type': 'function', 'function': {'name': 'subtract', 'description': 'Subtracts b from a.\\n\\n    Args:\\n        a: first int\\n        b: second int', 'parameters': {'properties': {'a': {'type': 'integer'}, 'b': {'type': 'integer'}}, 'required': ['a', 'b'], 'type': 'object'}}}]}, config={}, config_factories=[])"
      ]
     },
     "execution_count": 26,
     "metadata": {},
     "output_type": "execute_result"
    }
   ],
   "source": [
    "llm_with_tools = llm.bind_tools(tools)\n",
    "llm_with_tools"
   ]
  },
  {
   "cell_type": "code",
   "execution_count": 27,
   "metadata": {},
   "outputs": [
    {
     "data": {
      "text/plain": [
       "AIMessage(content='', additional_kwargs={'tool_calls': [{'id': 'call_5dy8', 'function': {'arguments': '{\"a\": \"126\", \"b\": \"9\"}', 'name': 'multiply'}, 'type': 'function'}, {'id': 'call_ahgw', 'function': {'arguments': '{\"a\": \"1134\", \"b\": \"5\"}', 'name': 'subtract'}, 'type': 'function'}, {'id': 'call_2xa6', 'function': {'arguments': '{\"a\": \"121\", \"b\": \"5\"}', 'name': 'add'}, 'type': 'function'}]}, response_metadata={'token_usage': {'completion_tokens': 58, 'prompt_tokens': 434, 'total_tokens': 492, 'completion_time': 0.209169079, 'prompt_time': 0.048858069, 'queue_time': 0.05735371000000001, 'total_time': 0.258027148}, 'model_name': 'llama-3.2-90b-vision-preview', 'system_fingerprint': 'fp_07b97e5459', 'finish_reason': 'tool_calls', 'logprobs': None}, id='run-4e7a752b-7706-4e49-9641-87e5517eee85-0', tool_calls=[{'name': 'multiply', 'args': {'a': '126', 'b': '9'}, 'id': 'call_5dy8', 'type': 'tool_call'}, {'name': 'subtract', 'args': {'a': '1134', 'b': '5'}, 'id': 'call_ahgw', 'type': 'tool_call'}, {'name': 'add', 'args': {'a': '121', 'b': '5'}, 'id': 'call_2xa6', 'type': 'tool_call'}], usage_metadata={'input_tokens': 434, 'output_tokens': 58, 'total_tokens': 492})"
      ]
     },
     "execution_count": 27,
     "metadata": {},
     "output_type": "execute_result"
    }
   ],
   "source": [
    "ai_msg = llm_with_tools.invoke(\"What is (121+5)*9 -5 ?\")\n",
    "\n",
    "ai_msg"
   ]
  },
  {
   "cell_type": "code",
   "execution_count": 28,
   "metadata": {},
   "outputs": [
    {
     "data": {
      "text/plain": [
       "[{'name': 'multiply',\n",
       "  'args': {'a': '126', 'b': '9'},\n",
       "  'id': 'call_5dy8',\n",
       "  'type': 'tool_call'},\n",
       " {'name': 'subtract',\n",
       "  'args': {'a': '1134', 'b': '5'},\n",
       "  'id': 'call_ahgw',\n",
       "  'type': 'tool_call'},\n",
       " {'name': 'add',\n",
       "  'args': {'a': '121', 'b': '5'},\n",
       "  'id': 'call_2xa6',\n",
       "  'type': 'tool_call'}]"
      ]
     },
     "execution_count": 28,
     "metadata": {},
     "output_type": "execute_result"
    }
   ],
   "source": [
    "ai_msg.tool_calls"
   ]
  },
  {
   "cell_type": "code",
   "execution_count": 29,
   "metadata": {},
   "outputs": [
    {
     "data": {
      "text/plain": [
       "[{'type': 'function',\n",
       "  'function': {'name': 'add',\n",
       "   'description': 'Adds a and b.\\n\\n    Args:\\n        a: first int\\n        b: second int',\n",
       "   'parameters': {'properties': {'a': {'type': 'integer'},\n",
       "     'b': {'type': 'integer'}},\n",
       "    'required': ['a', 'b'],\n",
       "    'type': 'object'}}},\n",
       " {'type': 'function',\n",
       "  'function': {'name': 'multiply',\n",
       "   'description': 'Multiplies a and b.\\n\\n    Args:\\n        a: first int\\n        b: second int',\n",
       "   'parameters': {'properties': {'a': {'type': 'integer'},\n",
       "     'b': {'type': 'integer'}},\n",
       "    'required': ['a', 'b'],\n",
       "    'type': 'object'}}},\n",
       " {'type': 'function',\n",
       "  'function': {'name': 'subtract',\n",
       "   'description': 'Subtracts b from a.\\n\\n    Args:\\n        a: first int\\n        b: second int',\n",
       "   'parameters': {'properties': {'a': {'type': 'integer'},\n",
       "     'b': {'type': 'integer'}},\n",
       "    'required': ['a', 'b'],\n",
       "    'type': 'object'}}}]"
      ]
     },
     "execution_count": 29,
     "metadata": {},
     "output_type": "execute_result"
    }
   ],
   "source": [
    "llm_with_tools.to_json()['kwargs']['kwargs']['tools']"
   ]
  },
  {
   "cell_type": "code",
   "execution_count": 30,
   "metadata": {},
   "outputs": [
    {
     "name": "stdout",
     "output_type": "stream",
     "text": [
      "ai_msg: content='' additional_kwargs={'tool_calls': [{'id': 'call_kxk7', 'function': {'arguments': '{\"a\": 4, \"b\": 3}', 'name': 'add'}, 'type': 'function'}, {'id': 'call_r99x', 'function': {'arguments': '{\"a\": 7, \"b\": 5}', 'name': 'subtract'}, 'type': 'function'}, {'id': 'call_08jq', 'function': {'arguments': '{\"a\": 2, \"b\": 5}', 'name': 'multiply'}, 'type': 'function'}]} response_metadata={'token_usage': {'completion_tokens': 54, 'prompt_tokens': 439, 'total_tokens': 493, 'completion_time': 0.197488276, 'prompt_time': 0.057559949, 'queue_time': 0.05665605, 'total_time': 0.255048225}, 'model_name': 'llama-3.2-90b-vision-preview', 'system_fingerprint': 'fp_07b97e5459', 'finish_reason': 'tool_calls', 'logprobs': None} id='run-9d9bc4da-b3a6-43e3-b4e2-86e8da6bbb68-0' tool_calls=[{'name': 'add', 'args': {'a': 4, 'b': 3}, 'id': 'call_kxk7', 'type': 'tool_call'}, {'name': 'subtract', 'args': {'a': 7, 'b': 5}, 'id': 'call_r99x', 'type': 'tool_call'}, {'name': 'multiply', 'args': {'a': 2, 'b': 5}, 'id': 'call_08jq', 'type': 'tool_call'}] usage_metadata={'input_tokens': 439, 'output_tokens': 54, 'total_tokens': 493}\n",
      "ai_msg_tool: [{'name': 'add', 'args': {'a': 4, 'b': 3}, 'id': 'call_kxk7', 'type': 'tool_call'}, {'name': 'subtract', 'args': {'a': 7, 'b': 5}, 'id': 'call_r99x', 'type': 'tool_call'}, {'name': 'multiply', 'args': {'a': 2, 'b': 5}, 'id': 'call_08jq', 'type': 'tool_call'}]\n",
      "mess: [HumanMessage(content='what is 4+3-5 and then multiply the results by 5', additional_kwargs={}, response_metadata={}), AIMessage(content='', additional_kwargs={'tool_calls': [{'id': 'call_kxk7', 'function': {'arguments': '{\"a\": 4, \"b\": 3}', 'name': 'add'}, 'type': 'function'}, {'id': 'call_r99x', 'function': {'arguments': '{\"a\": 7, \"b\": 5}', 'name': 'subtract'}, 'type': 'function'}, {'id': 'call_08jq', 'function': {'arguments': '{\"a\": 2, \"b\": 5}', 'name': 'multiply'}, 'type': 'function'}]}, response_metadata={'token_usage': {'completion_tokens': 54, 'prompt_tokens': 439, 'total_tokens': 493, 'completion_time': 0.197488276, 'prompt_time': 0.057559949, 'queue_time': 0.05665605, 'total_time': 0.255048225}, 'model_name': 'llama-3.2-90b-vision-preview', 'system_fingerprint': 'fp_07b97e5459', 'finish_reason': 'tool_calls', 'logprobs': None}, id='run-9d9bc4da-b3a6-43e3-b4e2-86e8da6bbb68-0', tool_calls=[{'name': 'add', 'args': {'a': 4, 'b': 3}, 'id': 'call_kxk7', 'type': 'tool_call'}, {'name': 'subtract', 'args': {'a': 7, 'b': 5}, 'id': 'call_r99x', 'type': 'tool_call'}, {'name': 'multiply', 'args': {'a': 2, 'b': 5}, 'id': 'call_08jq', 'type': 'tool_call'}], usage_metadata={'input_tokens': 439, 'output_tokens': 54, 'total_tokens': 493})]\n"
     ]
    },
    {
     "data": {
      "text/plain": [
       "[HumanMessage(content='what is 4+3-5 and then multiply the results by 5', additional_kwargs={}, response_metadata={}),\n",
       " AIMessage(content='', additional_kwargs={'tool_calls': [{'id': 'call_kxk7', 'function': {'arguments': '{\"a\": 4, \"b\": 3}', 'name': 'add'}, 'type': 'function'}, {'id': 'call_r99x', 'function': {'arguments': '{\"a\": 7, \"b\": 5}', 'name': 'subtract'}, 'type': 'function'}, {'id': 'call_08jq', 'function': {'arguments': '{\"a\": 2, \"b\": 5}', 'name': 'multiply'}, 'type': 'function'}]}, response_metadata={'token_usage': {'completion_tokens': 54, 'prompt_tokens': 439, 'total_tokens': 493, 'completion_time': 0.197488276, 'prompt_time': 0.057559949, 'queue_time': 0.05665605, 'total_time': 0.255048225}, 'model_name': 'llama-3.2-90b-vision-preview', 'system_fingerprint': 'fp_07b97e5459', 'finish_reason': 'tool_calls', 'logprobs': None}, id='run-9d9bc4da-b3a6-43e3-b4e2-86e8da6bbb68-0', tool_calls=[{'name': 'add', 'args': {'a': 4, 'b': 3}, 'id': 'call_kxk7', 'type': 'tool_call'}, {'name': 'subtract', 'args': {'a': 7, 'b': 5}, 'id': 'call_r99x', 'type': 'tool_call'}, {'name': 'multiply', 'args': {'a': 2, 'b': 5}, 'id': 'call_08jq', 'type': 'tool_call'}], usage_metadata={'input_tokens': 439, 'output_tokens': 54, 'total_tokens': 493}),\n",
       " ToolMessage(content='7', tool_call_id='call_kxk7'),\n",
       " ToolMessage(content='2', tool_call_id='call_r99x'),\n",
       " ToolMessage(content='10', tool_call_id='call_08jq')]"
      ]
     },
     "execution_count": 30,
     "metadata": {},
     "output_type": "execute_result"
    }
   ],
   "source": [
    "from langchain_core.messages import HumanMessage, ToolMessage\n",
    "\n",
    "query = 'what is 4+3-5 and then multiply the results by 5'\n",
    "messages = [HumanMessage(query)]\n",
    "ai_msg = llm_with_tools.invoke(query)\n",
    "print(\"ai_msg:\",ai_msg)\n",
    "print(\"ai_msg_tool:\",ai_msg.tool_calls)\n",
    "messages.append(ai_msg)\n",
    "print(\"mess:\",messages)\n",
    "for tool_call in ai_msg.tool_calls:\n",
    "    selected_tool = {\"add\": add, \"multiply\": multiply,\"subtract\":subtract}[tool_call[\"name\"].lower()]\n",
    "    tool_output = selected_tool.invoke(tool_call[\"args\"])\n",
    "    messages.append(ToolMessage(tool_output, tool_call_id=tool_call[\"id\"]))\n",
    "\n",
    "messages"
   ]
  },
  {
   "cell_type": "code",
   "execution_count": 31,
   "metadata": {},
   "outputs": [
    {
     "name": "stdout",
     "output_type": "stream",
     "text": [
      "content='First, 4 + 3 = 7. \\nThen, 7 - 5 = 2. \\nFinally, 2 * 5 = 10.' additional_kwargs={} response_metadata={'token_usage': {'completion_tokens': 36, 'prompt_tokens': 130, 'total_tokens': 166, 'completion_time': 0.130819931, 'prompt_time': 0.014718956, 'queue_time': 0.057693706000000004, 'total_time': 0.145538887}, 'model_name': 'llama-3.2-90b-vision-preview', 'system_fingerprint': 'fp_07b97e5459', 'finish_reason': 'stop', 'logprobs': None} id='run-35cb89fb-1442-47e5-9633-ad9631aaeb47-0' usage_metadata={'input_tokens': 130, 'output_tokens': 36, 'total_tokens': 166}\n",
      "First, 4 + 3 = 7. \n",
      "Then, 7 - 5 = 2. \n",
      "Finally, 2 * 5 = 10.\n"
     ]
    }
   ],
   "source": [
    "final_response = llm.invoke(messages)\n",
    "print(final_response)\n",
    "print(final_response.content)"
   ]
  },
  {
   "cell_type": "code",
   "execution_count": 59,
   "metadata": {},
   "outputs": [
    {
     "name": "stdout",
     "output_type": "stream",
     "text": [
      "Assistant: You provided the number 5. Please provide the second number.\n",
      "Assistant: The sum of 5 and 5 is 10.\n"
     ]
    }
   ],
   "source": [
    "import re\n",
    "\n",
    "# Define the addition function\n",
    "def add_two_numbers(a: int, b: int) -> int:\n",
    "    \"\"\"\n",
    "    Add two numbers.\n",
    "\n",
    "    Args:\n",
    "        a (int): The first number.\n",
    "        b (int): The second number.\n",
    "\n",
    "    Returns:\n",
    "        int: The sum of the two numbers.\n",
    "    \"\"\"\n",
    "    return a + b\n",
    "\n",
    "# Define the multiplication function\n",
    "def multiply_two_numbers(a: int, b: int) -> int:\n",
    "    \"\"\"\n",
    "    Multiply two numbers.\n",
    "\n",
    "    Args:\n",
    "        a (int): The first number.\n",
    "        b (int): The second number.\n",
    "\n",
    "    Returns:\n",
    "        int: The product of the two numbers.\n",
    "    \"\"\"\n",
    "    return a * b\n",
    "\n",
    "# Function to process the user's prompt\n",
    "def process_prompt(prompt: str, stored_number: int = None, operation: str = None):\n",
    "    # Extract numbers from the prompt\n",
    "    numbers = re.findall(r'-?\\d+', prompt)  # Handle negative numbers\n",
    "    numbers = [int(num) for num in numbers]\n",
    "\n",
    "    # Determine the operation based on the prompt\n",
    "    if \"add\" in prompt.lower() or \"sum\" in prompt.lower():\n",
    "        operation = \"add\"\n",
    "    elif \"multiply\" in prompt.lower() or \"product\" in prompt.lower():\n",
    "        operation = \"multiply\"\n",
    "\n",
    "    if stored_number is not None:\n",
    "        # If a number is already stored, use it as the first number\n",
    "        if len(numbers) == 1:\n",
    "            # Perform the operation with the stored number and the new number\n",
    "            if operation == \"add\":\n",
    "                result = add_two_numbers(stored_number, numbers[0])\n",
    "                return f\"The sum of {stored_number} and {numbers[0]} is {result}.\", None, None\n",
    "            elif operation == \"multiply\":\n",
    "                result = multiply_two_numbers(stored_number, numbers[0])\n",
    "                return f\"The product of {stored_number} and {numbers[0]} is {result}.\", None, None\n",
    "            else:\n",
    "                return \"Please specify the operation (add or multiply).\", stored_number, operation\n",
    "        else:\n",
    "            # If no new number is provided, prompt for the second number\n",
    "            return f\"You provided the number {stored_number}. Please provide the second number.\", stored_number, operation\n",
    "    else:\n",
    "        # If no number is stored, check the current input\n",
    "        if len(numbers) == 2:\n",
    "            # If two numbers are found, perform the operation\n",
    "            if operation == \"add\":\n",
    "                result = add_two_numbers(numbers[0], numbers[1])\n",
    "                return f\"The sum of {numbers[0]} and {numbers[1]} is {result}.\", None, None\n",
    "            elif operation == \"multiply\":\n",
    "                result = multiply_two_numbers(numbers[0], numbers[1])\n",
    "                return f\"The product of {numbers[0]} and {numbers[1]} is {result}.\", None, None\n",
    "            else:\n",
    "                return \"Please specify the operation (add or multiply).\", None, operation\n",
    "        elif len(numbers) == 1:\n",
    "            # If one number is found, store it and prompt for the second number\n",
    "            return f\"You provided the number {numbers[0]}. Please provide the second number.\", numbers[0], operation\n",
    "        else:\n",
    "            # If no numbers are found, prompt the user for both numbers\n",
    "            return \"Please provide two numbers to perform the operation.\", None, operation\n",
    "\n",
    "# Main interaction loop\n",
    "def main():\n",
    "    # Initialize stored_number and operation\n",
    "    stored_number = None\n",
    "    operation = None\n",
    "\n",
    "    while True:\n",
    "        # Get user input\n",
    "        user_input = input(\"User: \")\n",
    "\n",
    "        # Process the prompt\n",
    "        response_content, stored_number, operation = process_prompt(user_input, stored_number, operation)\n",
    "        \n",
    "        # Display the AI's response\n",
    "        print(f\"Assistant: {response_content}\")\n",
    "\n",
    "        # If the AI is prompting for more information, continue the loop\n",
    "        if \"Please provide\" not in response_content:\n",
    "            break\n",
    "\n",
    "if __name__ == \"__main__\":\n",
    "    main()\n"
   ]
  },
  {
   "cell_type": "code",
   "execution_count": 54,
   "metadata": {},
   "outputs": [
    {
     "name": "stdout",
     "output_type": "stream",
     "text": [
      "AI Message: content='' additional_kwargs={'tool_calls': [{'id': 'call_exc0', 'function': {'arguments': '{\"a\": \"0\", \"b\": \"15\"}', 'name': 'add'}, 'type': 'function'}]} response_metadata={'token_usage': {'completion_tokens': 19, 'prompt_tokens': 857, 'total_tokens': 876, 'completion_time': 0.104171734, 'prompt_time': 0.15094006, 'queue_time': -0.21946186299999998, 'total_time': 0.255111794}, 'model_name': 'llama-3.2-90b-vision-preview', 'system_fingerprint': 'fp_07b97e5459', 'finish_reason': 'tool_calls', 'logprobs': None} id='run-6cc72b94-95bf-47e3-b829-c827af221448-0' tool_calls=[{'name': 'add', 'args': {'a': '0', 'b': '15'}, 'id': 'call_exc0', 'type': 'tool_call'}] usage_metadata={'input_tokens': 857, 'output_tokens': 19, 'total_tokens': 876}\n",
      "Tool Calls: [{'name': 'add', 'args': {'a': '0', 'b': '15'}, 'id': 'call_exc0', 'type': 'tool_call'}]\n",
      "Final Response: The sum of 15 is not a calculation but a single number, 15.\n"
     ]
    }
   ],
   "source": [
    "# Example usage\n",
    "# calculate(\"What is 121 + 5 then multiply the result by 5 and finally result -5?\")  # Both numbers provided\n",
    "# calculate(\"Add 10 * 5\")  # Only one number provided\n",
    "calculate(\"what is sum of 15\")  # Second number provided\n",
    "# calculate(\"Multiply 20\")  # Only one number provided\n",
    "# calculate(\"4\")  # Second number provided"
   ]
  },
  {
   "cell_type": "code",
   "execution_count": 9,
   "metadata": {},
   "outputs": [],
   "source": [
    "from langchain.agents import AgentExecutor, create_tool_calling_agent\n",
    "from langchain.prompts import ChatPromptTemplate\n",
    "from langchain_core.prompts import MessagesPlaceholder"
   ]
  },
  {
   "cell_type": "code",
   "execution_count": 10,
   "metadata": {},
   "outputs": [],
   "source": [
    "prompt = ChatPromptTemplate.from_messages(\n",
    "    [\n",
    "        (\n",
    "            \"system\",\n",
    "            \"You are a helpful assistant. You may not need to use tools for every query - the user may just want to chat!\",\n",
    "        ),\n",
    "        MessagesPlaceholder(variable_name=\"messages\"),\n",
    "        MessagesPlaceholder(variable_name=\"agent_scratchpad\"),\n",
    "    ]\n",
    ")"
   ]
  },
  {
   "cell_type": "code",
   "execution_count": 11,
   "metadata": {},
   "outputs": [],
   "source": [
    "agent = create_tool_calling_agent(llm, tools, prompt)\n",
    "\n",
    "agent_executor = AgentExecutor(agent=agent, tools=tools, verbose=True)"
   ]
  },
  {
   "cell_type": "code",
   "execution_count": 12,
   "metadata": {},
   "outputs": [
    {
     "name": "stdout",
     "output_type": "stream",
     "text": [
      "\n",
      "\n",
      "\u001b[1m> Entering new AgentExecutor chain...\u001b[0m\n",
      "\u001b[32;1m\u001b[1;3mI need two numbers to calculate the sum, but you've only provided one. Could you please provide the other number you'd like to add to 5?\u001b[0m\n",
      "\n",
      "\u001b[1m> Finished chain.\u001b[0m\n"
     ]
    },
    {
     "data": {
      "text/plain": [
       "{'messages': [HumanMessage(content='what is the sum of 5', additional_kwargs={}, response_metadata={})],\n",
       " 'output': \"I need two numbers to calculate the sum, but you've only provided one. Could you please provide the other number you'd like to add to 5?\"}"
      ]
     },
     "execution_count": 12,
     "metadata": {},
     "output_type": "execute_result"
    }
   ],
   "source": [
    "from langchain_core.messages import HumanMessage\n",
    "\n",
    "agent_executor.invoke({\"messages\": [HumanMessage(content=\"what is the sum of 5\")]})"
   ]
  },
  {
   "cell_type": "code",
   "execution_count": 18,
   "metadata": {},
   "outputs": [
    {
     "name": "stdout",
     "output_type": "stream",
     "text": [
      "\n",
      "\n",
      "\u001b[1m> Entering new AgentExecutor chain...\u001b[0m\n",
      "\u001b[32;1m\u001b[1;3m\n",
      "Invoking: `add` with `{'a': 4, 'b': 35}`\n",
      "\n",
      "\n",
      "\u001b[0m\u001b[36;1m\u001b[1;3m39\u001b[0m\u001b[32;1m\u001b[1;3m\n",
      "Invoking: `add` with `{'a': 39, 'b': 5}`\n",
      "\n",
      "\n",
      "\u001b[0m\u001b[36;1m\u001b[1;3m44\u001b[0m\u001b[32;1m\u001b[1;3m\n",
      "Invoking: `multiply` with `{'a': 44, 'b': 6}`\n",
      "\n",
      "\n",
      "\u001b[0m\u001b[33;1m\u001b[1;3m264\u001b[0m\u001b[32;1m\u001b[1;3mFirst, the sum of 4 and 35 is 39. Then, adding 5 to that makes 44. Finally, multiplying 44 by 6 results in 264.\u001b[0m\n",
      "\n",
      "\u001b[1m> Finished chain.\u001b[0m\n"
     ]
    },
    {
     "data": {
      "text/plain": [
       "{'messages': [HumanMessage(content='what is sum of 4,35,5 then multiply the result  of it by 6', additional_kwargs={}, response_metadata={})],\n",
       " 'output': 'First, the sum of 4 and 35 is 39. Then, adding 5 to that makes 44. Finally, multiplying 44 by 6 results in 264.'}"
      ]
     },
     "execution_count": 18,
     "metadata": {},
     "output_type": "execute_result"
    }
   ],
   "source": [
    "from langchain_core.messages import HumanMessage\n",
    "\n",
    "agent_executor.invoke({\"messages\": [HumanMessage(content=\"what is sum of 4,35,5 then multiply the result  of it by 6\")]})"
   ]
  },
  {
   "cell_type": "code",
   "execution_count": 14,
   "metadata": {},
   "outputs": [
    {
     "name": "stdout",
     "output_type": "stream",
     "text": [
      "\n",
      "\n",
      "\u001b[1m> Entering new AgentExecutor chain...\u001b[0m\n",
      "\u001b[32;1m\u001b[1;3m\n",
      "Invoking: `add` with `{'a': 121, 'b': 5}`\n",
      "\n",
      "\n",
      "\u001b[0m\u001b[36;1m\u001b[1;3m126\u001b[0m\u001b[32;1m\u001b[1;3m\n",
      "Invoking: `multiply` with `{'a': 126, 'b': 2}`\n",
      "\n",
      "\n",
      "\u001b[0m\u001b[33;1m\u001b[1;3m252\u001b[0m\u001b[32;1m\u001b[1;3mFirst, the function `add` was used to add 121 and 5, resulting in 126. Then, the function `multiply` was used to multiply the result by 2, resulting in 252.\u001b[0m\n",
      "\n",
      "\u001b[1m> Finished chain.\u001b[0m\n"
     ]
    },
    {
     "data": {
      "text/plain": [
       "{'messages': [HumanMessage(content='Add 121 to 5 then multiply result by 2', additional_kwargs={}, response_metadata={})],\n",
       " 'output': 'First, the function `add` was used to add 121 and 5, resulting in 126. Then, the function `multiply` was used to multiply the result by 2, resulting in 252.'}"
      ]
     },
     "execution_count": 14,
     "metadata": {},
     "output_type": "execute_result"
    }
   ],
   "source": [
    "agent_executor.invoke({\"messages\": [HumanMessage(content=\"Add 121 to 5 then multiply result by 2\")]})"
   ]
  }
 ],
 "metadata": {
  "kernelspec": {
   "display_name": "Python 3",
   "language": "python",
   "name": "python3"
  },
  "language_info": {
   "codemirror_mode": {
    "name": "ipython",
    "version": 3
   },
   "file_extension": ".py",
   "mimetype": "text/x-python",
   "name": "python",
   "nbconvert_exporter": "python",
   "pygments_lexer": "ipython3",
   "version": "3.11.9"
  }
 },
 "nbformat": 4,
 "nbformat_minor": 2
}
