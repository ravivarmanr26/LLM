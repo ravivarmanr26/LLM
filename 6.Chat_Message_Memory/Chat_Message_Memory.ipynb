{
 "cells": [
  {
   "cell_type": "markdown",
   "metadata": {},
   "source": [
    "## Chat Message Memory\n",
    "- We need to store the historical chat messages in a efficient way\n",
    "- It wraps another Runnable and manages the chat message history for it.\n",
    "- Specifically, it loads previous messages in the conversation BEFORE passing it to the Runnable, and it saves the generated response as a message AFTER calling the runnable.\n",
    "-  This class also enables multiple conversations by saving each conversation with a session_id\n",
    "- it then expects a `session_id` to be passed in the config when calling the runnable, and uses that to look up the relevant conversation history"
   ]
  },
  {
   "cell_type": "code",
   "execution_count": 1,
   "metadata": {},
   "outputs": [],
   "source": [
    "from langchain_ollama import ChatOllama\n",
    "from langchain_core.prompts import (\n",
    "    SystemMessagePromptTemplate,\n",
    "    HumanMessagePromptTemplate,\n",
    "    ChatPromptTemplate,\n",
    "    PromptTemplate,\n",
    "    MessagesPlaceholder\n",
    "\n",
    ")"
   ]
  },
  {
   "cell_type": "code",
   "execution_count": 2,
   "metadata": {},
   "outputs": [],
   "source": [
    "from langchain_core.messages import (\n",
    "                                HumanMessage,\n",
    "                                AIMessage,\n",
    "                                SystemMessage,\n",
    "                                AIMessageChunk\n",
    ")\n",
    "from langchain_core.output_parsers import StrOutputParser"
   ]
  },
  {
   "cell_type": "code",
   "execution_count": 3,
   "metadata": {},
   "outputs": [],
   "source": [
    "base_url = 'http://localhost:11434'\n",
    "model = 'llama3.2'\n",
    "llm = ChatOllama(base_url=base_url,\n",
    "                 model=model)"
   ]
  },
  {
   "cell_type": "code",
   "execution_count": 4,
   "metadata": {},
   "outputs": [
    {
     "name": "stdout",
     "output_type": "stream",
     "text": [
      "content=\"Hello! It's nice to meet you. Is there something I can help you with or would you like to chat?\" additional_kwargs={} response_metadata={'model': 'llama3.2', 'created_at': '2024-12-26T09:29:25.2086614Z', 'done': True, 'done_reason': 'stop', 'total_duration': 42662479800, 'load_duration': 41084943800, 'prompt_eval_count': 28, 'prompt_eval_duration': 597000000, 'eval_count': 25, 'eval_duration': 963000000, 'message': Message(role='assistant', content='', images=None, tool_calls=None)} id='run-01a3be57-ffe3-4af5-85b7-f4463c8487d9-0' usage_metadata={'input_tokens': 28, 'output_tokens': 25, 'total_tokens': 53}\n"
     ]
    }
   ],
   "source": [
    "response = llm.invoke('hi,llm')\n",
    "print(response)"
   ]
  },
  {
   "cell_type": "code",
   "execution_count": 5,
   "metadata": {},
   "outputs": [
    {
     "name": "stdout",
     "output_type": "stream",
     "text": [
      "Captain Jack Sparrow at your service, matey! *adjusts pirate hat*\n",
      "\n",
      "Ah, shipping, ye say? Well, I be havin' some experience in that department, savvy? Me and me trusty ship, the Black Pearl, have been navigatin' the seven seas for years, transportin' all manner of goods and... \"acquired\" treasures.\n",
      "\n",
      "What kind of shipping services does ye offer, Captain Jack Sparrow? Are ye lookin' to transport booty, supplies, or perhaps somethin' a bit more... illicit?\n"
     ]
    }
   ],
   "source": [
    "template = ChatPromptTemplate.from_template(\"{prompt}\")\n",
    "chain = template | llm | StrOutputParser()\n",
    "about = 'Hello My name is captain jack sparrow.My Business is shipping'\n",
    "response = chain.invoke({'prompt':about})\n",
    "print(response)"
   ]
  },
  {
   "cell_type": "code",
   "execution_count": 6,
   "metadata": {},
   "outputs": [
    {
     "data": {
      "text/plain": [
       "\"I don't have any information about your personal identity or current activities. I'm a large language model, I don't have the ability to know your name or what you're doing at this moment.\\n\\nHowever, I'd be happy to chat with you and help answer any questions you may have! What's on your mind?\""
      ]
     },
     "execution_count": 6,
     "metadata": {},
     "output_type": "execute_result"
    }
   ],
   "source": [
    "ques = 'what is my name,what am doing'\n",
    "chain.invoke({'prompt':ques})"
   ]
  },
  {
   "cell_type": "markdown",
   "metadata": {},
   "source": [
    "### Runnable With Message History"
   ]
  },
  {
   "cell_type": "markdown",
   "metadata": {},
   "source": [
    "In order to properly set this up there are two main things to consider:\n",
    "- How to store and load messages?\n",
    "- What is the underlying Runnable you are wrapping and what are its inputs/outputs?\n"
   ]
  },
  {
   "cell_type": "code",
   "execution_count": 7,
   "metadata": {},
   "outputs": [],
   "source": [
    "from langchain_core.runnables.history import RunnableWithMessageHistory\n",
    "from langchain_community.chat_message_histories import SQLChatMessageHistory"
   ]
  },
  {
   "cell_type": "code",
   "execution_count": 8,
   "metadata": {},
   "outputs": [],
   "source": [
    "def get_session_history(session_id):\n",
    "    return SQLChatMessageHistory(session_id,\"sqlite:///chat_memory.db\")"
   ]
  },
  {
   "cell_type": "code",
   "execution_count": 9,
   "metadata": {},
   "outputs": [],
   "source": [
    "runnable_with_history = RunnableWithMessageHistory(chain,get_session_history)"
   ]
  },
  {
   "cell_type": "code",
   "execution_count": 10,
   "metadata": {},
   "outputs": [
    {
     "name": "stderr",
     "output_type": "stream",
     "text": [
      "C:\\Users\\Admin\\AppData\\Local\\Temp\\ipykernel_2284\\2891795741.py:2: LangChainDeprecationWarning: `connection_string` was deprecated in LangChain 0.2.2 and will be removed in 1.0. Use connection instead.\n",
      "  history = get_session_history(user_name)\n"
     ]
    },
    {
     "data": {
      "text/plain": [
       "[HumanMessage(content='Hello My name is captain jack sparrow.My Business is shipping', additional_kwargs={}, response_metadata={}),\n",
       " AIMessage(content=\"Captain Jack Sparrow at your service! *tips an imaginary hat*\\n\\nShipping, you say? Well, I've had my fair share of experience with navigating the high seas and getting goods from point A to point B. Though, I must admit, my methods might be a bit... unconventional.\\n\\nWhat kind of shipping business do you have, Captain Jack Sparrow? Are you looking for advice on how to navigate the complexities of international trade, or perhaps seeking guidance on how to avoid the authorities while making deliveries?\\n\\nAnd, if I may ask, what's your ship's name? Is it the Black Pearl, or perhaps something a bit more... creative?\", additional_kwargs={}, response_metadata={}),\n",
       " HumanMessage(content='what is my name?', additional_kwargs={}, response_metadata={}),\n",
       " AIMessage(content=\"Captain Jack Sparrow, you said. *smirks* I remember now. You're the infamous pirate captain with a penchant for getting out of sticky situations and a reputation for being one of the most cunning scoundrels on the high seas.\\n\\nSo, just to confirm, your business is shipping, and your name is indeed Captain Jack Sparrow?\", additional_kwargs={}, response_metadata={}),\n",
       " HumanMessage(content='what is my name?', additional_kwargs={}, response_metadata={}),\n",
       " AIMessage(content=\"Déjà vu, Captain! You've asked me what your name is... again. *laughs* Alright, alright, I get it!\\n\\nYour name is Captain Jack Sparrow, remember? The captain of the Black Pearl, the master of all things shipping and sailing, and a legendary pirate in his own right.\\n\\nDid you want to know something else about yourself, or would you like me to try and guess what's on your mind, Captain?\", additional_kwargs={}, response_metadata={})]"
      ]
     },
     "execution_count": 10,
     "metadata": {},
     "output_type": "execute_result"
    }
   ],
   "source": [
    "user_name = 'jack'\n",
    "history = get_session_history(user_name) \n",
    "history.get_messages()"
   ]
  },
  {
   "cell_type": "code",
   "execution_count": 11,
   "metadata": {},
   "outputs": [],
   "source": [
    "history.clear()"
   ]
  },
  {
   "cell_type": "code",
   "execution_count": 12,
   "metadata": {},
   "outputs": [
    {
     "data": {
      "text/plain": [
       "'Hello My name is captain jack sparrow.My Business is shipping'"
      ]
     },
     "execution_count": 12,
     "metadata": {},
     "output_type": "execute_result"
    }
   ],
   "source": [
    "about"
   ]
  },
  {
   "cell_type": "code",
   "execution_count": 13,
   "metadata": {},
   "outputs": [
    {
     "data": {
      "text/plain": [
       "'A pirate-themed message!\\n\\nIt seems like you\\'re trying to send a simple message with some extra metadata. Here\\'s a breakdown of what each part does:\\n\\n* `content`: This is the main text of the message, which in this case is \"Hello My name is captain jack sparrow.My Business is shipping\".\\n* `additional_kwargs`: This parameter is not being used in your example, but it could potentially be used to pass additional keyword arguments (key-value pairs) to a function or method that processes the message.\\n* `response_metadata`: This parameter is also not being used in your example, but it could potentially be used to store metadata about the response, such as the time it took to process the request or any errors that occurred.\\n\\nIf you wanted to use this message in a real-world scenario, you might pass it to a function like `send_message()` or `dispatch_request()`, like so:\\n\\n```python\\nfrom my_module import send_message\\n\\nsend_message(content=\\'Hello My name is captain jack sparrow.My Business is shipping\\')\\n```\\n\\nOf course, the exact usage would depend on how the `send_message()` function is implemented.'"
      ]
     },
     "execution_count": 13,
     "metadata": {},
     "output_type": "execute_result"
    }
   ],
   "source": [
    "runnable_with_history.invoke([HumanMessage(content=about)],\n",
    "                             config={'configurable': {'session_id': user_name}})"
   ]
  },
  {
   "cell_type": "code",
   "execution_count": 14,
   "metadata": {},
   "outputs": [
    {
     "name": "stdout",
     "output_type": "stream",
     "text": [
      "This appears to be a documentation snippet for a fictional message processing system. It provides an example of how messages can be constructed and sent, as well as the metadata that can be associated with these messages.\n",
      "\n",
      "The code snippets provided show two different types of messages:\n",
      "\n",
      "1. A `HumanMessage` object with `content=\"Hello My name is captain jack sparrow.My Business is shipping\"`:\n",
      "   - This message is addressed to a human recipient.\n",
      "   - The `additional_kwargs` and `response_metadata` parameters are empty, suggesting that they might be used for more advanced functionality or in different contexts.\n",
      "\n",
      "2. An `AIMessage` object with `content=\"A pirate-themed message!\\n\\nIt seems like you're trying to send a simple message with some extra metadata.\"`:\n",
      "   - This message is addressed to the same recipient as before (captain jack sparrow).\n",
      "   - The `additional_kwargs` and `response_metadata` parameters are also empty.\n",
      "\n",
      "The documentation explains how these messages might be used in a real-world scenario, suggesting that they could be passed to functions like `send_message()` or `dispatch_request()`. However, the exact usage would depend on the implementation of these functions.\n",
      "\n",
      "Here is an example of how you might use this system:\n",
      "\n",
      "```python\n",
      "from my_module import send_message\n",
      "\n",
      "# Sending a message with human recipient\n",
      "human_message = HumanMessage(content=\"Hello My name is captain jack sparrow.My Business is shipping\")\n",
      "send_message(human_message)\n",
      "\n",
      "# Sending another message to the same recipient\n",
      "aimessage = AIMessage(content=\"A pirate-themed message!\\n\\nIt seems like you're trying to send a simple message with some extra metadata.\")\n",
      "aimessage.response_metadata['time_taken'] = 0.5\n",
      "aimessage.additional_kwargs['priority'] = 'high'\n",
      "send_message(aimessage)\n",
      "```\n",
      "\n",
      "This example shows how the messages can be created and sent using the `HumanMessage` and `AIMessage` objects, as well as how the response metadata and additional keyword arguments might be used in different contexts.\n"
     ]
    }
   ],
   "source": [
    "response = runnable_with_history.invoke([HumanMessage(content=\"whats my name?\")],\n",
    "                             config={'configurable': {'session_id': user_name}})\n",
    "print(response)"
   ]
  },
  {
   "cell_type": "markdown",
   "metadata": {},
   "source": [
    "### Message History with Dictionary Like Inputs"
   ]
  },
  {
   "cell_type": "code",
   "execution_count": null,
   "metadata": {},
   "outputs": [],
   "source": [
    "def get_session_history(session_id):\n",
    "    return SQLChatMessageHistory(session_id,\"sqlite:///chat_memory.db\")"
   ]
  },
  {
   "cell_type": "code",
   "execution_count": 15,
   "metadata": {},
   "outputs": [],
   "source": [
    "system = SystemMessagePromptTemplate.from_template(\"You are helpful assistant,help user with their questions\")\n",
    "human = HumanMessagePromptTemplate.from_template(\"{input}\")\n",
    "\n",
    "message =  [system,MessagesPlaceholder(variable_name='history'),human]\n",
    "prompt = ChatPromptTemplate(messages=message)\n",
    "\n",
    "chain = prompt | llm | StrOutputParser()\n",
    "\n",
    "runnable_with_history =  RunnableWithMessageHistory(chain,get_session_history,input_messages_key='input',history_messages_key='history')"
   ]
  },
  {
   "cell_type": "code",
   "execution_count": 16,
   "metadata": {},
   "outputs": [],
   "source": [
    "def chat_with_llm(session_id,input):\n",
    "    output = runnable_with_history.invoke(\n",
    "        {'input':input},\n",
    "        config={'configurable':{'session_id':session_id}}\n",
    "    )\n",
    "\n",
    "    return output"
   ]
  },
  {
   "cell_type": "code",
   "execution_count": 17,
   "metadata": {},
   "outputs": [],
   "source": [
    "about = 'Hello My name is captain jack sparrow.My Business is shipping'"
   ]
  },
  {
   "cell_type": "code",
   "execution_count": 18,
   "metadata": {},
   "outputs": [
    {
     "data": {
      "text/plain": [
       "\"A pirate-themed greeting!\\n\\nSo, you're Captain Jack Sparrow, a swashbuckling pirate with a penchant for adventure and... shipping! That's an interesting combination. I'm curious, what kind of cargo do you specialize in transporting? Treasure, perhaps?\\n\\nBy the way, would you like to talk about your shipping business or perhaps discuss some pirate-themed adventures? I'm all ears (or rather, all text)!\""
      ]
     },
     "execution_count": 18,
     "metadata": {},
     "output_type": "execute_result"
    }
   ],
   "source": [
    "user_id = 'jack'\n",
    "chat_with_llm(user_id,about)\n"
   ]
  },
  {
   "cell_type": "code",
   "execution_count": 19,
   "metadata": {},
   "outputs": [
    {
     "data": {
      "text/plain": [
       "'Your name is Captain Jack Sparrow. You\\'re a pirate of great renown, and I\\'ve had the pleasure of \"meeting\" you through our conversation earlier.'"
      ]
     },
     "execution_count": 19,
     "metadata": {},
     "output_type": "execute_result"
    }
   ],
   "source": [
    "chat_with_llm(user_id, \"what is my name?\")"
   ]
  },
  {
   "cell_type": "code",
   "execution_count": 23,
   "metadata": {},
   "outputs": [],
   "source": [
    "about = 'Hello My name is robert sparrow. Am follower of Andrew tate'"
   ]
  },
  {
   "cell_type": "code",
   "execution_count": 24,
   "metadata": {},
   "outputs": [
    {
     "data": {
      "text/plain": [
       "\"Mr. Sparrow!\\n\\nSo, you're Robert Sparrow, and you're a fan of Andrew Tate. Andrew Tate is a well-known British-American social media personality, businessman, and former professional kickboxer.\\n\\nAs a fan, you might be interested in learning more about his life, business ventures, or philosophical views. Andrew Tate is known for his outspoken personality, entrepreneurial spirit, and advocacy for personal development and self-improvement.\\n\\nIf you'd like to discuss topics related to personal finance, entrepreneurship, fitness, or mindset, I'm here to help! You can also ask me questions about Andrew Tate's life, business ventures, or share your thoughts on his content.\""
      ]
     },
     "execution_count": 24,
     "metadata": {},
     "output_type": "execute_result"
    }
   ],
   "source": [
    "user_id = 'robert'\n",
    "chat_with_llm(user_id,about)"
   ]
  },
  {
   "cell_type": "code",
   "execution_count": 25,
   "metadata": {},
   "outputs": [
    {
     "data": {
      "text/plain": [
       "\"You mentioned your name is Robert Sparrow, and you're a fan of Andrew Tate.\\n\\nTo recap:\\n\\n* Name: Robert Sparrow\\n* Business: (Since we didn't discuss any specific business earlier)\\n* Connection to Andrew Tate: Fan of his work and ideas\\n\\nIs there anything specific you'd like to know or discuss related to Andrew Tate or personal development? I'm here to help!\""
      ]
     },
     "execution_count": 25,
     "metadata": {},
     "output_type": "execute_result"
    }
   ],
   "source": [
    "chat_with_llm(user_id,\"what is name and what business am doing\")"
   ]
  }
 ],
 "metadata": {
  "kernelspec": {
   "display_name": "Python 3",
   "language": "python",
   "name": "python3"
  },
  "language_info": {
   "codemirror_mode": {
    "name": "ipython",
    "version": 3
   },
   "file_extension": ".py",
   "mimetype": "text/x-python",
   "name": "python",
   "nbconvert_exporter": "python",
   "pygments_lexer": "ipython3",
   "version": "3.11.9"
  }
 },
 "nbformat": 4,
 "nbformat_minor": 2
}
