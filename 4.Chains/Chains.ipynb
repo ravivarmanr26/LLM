{
 "cells": [
  {
   "cell_type": "markdown",
   "metadata": {},
   "source": [
    "# Chains in LangChain\n",
    "\n",
    "Chains refer to sequences of calls—whether to a Language Model (LLM), a tool, or a data preprocessing step. The primary supported way to construct these chains is through the **LangChain Expression Language (LCEL)**.\n",
    "\n",
    "## Off-the-Shelf Chains\n",
    "\n",
    "While LCEL is excellent for constructing your chains, LangChain also provides off-the-shelf chains. There are two types of off-the-shelf chains supported by LangChain:\n",
    "\n",
    "1. **Chains Built with LCEL**: \n",
    "   - LangChain offers a higher-level constructor method for these chains. \n",
    "   - Under the hood, they are constructed using LCEL.\n",
    "\n",
    "2. **Legacy Chains**: \n",
    "   - These chains are constructed by subclassing from a legacy Chain class. \n",
    "   - Unlike LCEL chains, they do not use LCEL under the hood but are standalone classes.\n",
    "\n",
    "## Future Developments\n",
    "\n",
    "We are actively working on creating methods to generate LCEL versions of all chains for several reasons:\n",
    "\n",
    "- **Modifiability**: Chains constructed with LCEL allow for easy modification of their internals.\n",
    "- **Native Support**: These chains support streaming, asynchronous operations, and batch processing out of the box.\n",
    "- **Observability**: They automatically provide observability at each step of the chain.\n",
    "\n",
    "This page contains two lists:\n",
    "- A list of all LCEL chain constructors.\n",
    "- A list of all legacy Chains."
   ]
  },
  {
   "cell_type": "markdown",
   "metadata": {},
   "source": [
    "## Langchain Expression Language Basics"
   ]
  },
  {
   "cell_type": "markdown",
   "metadata": {},
   "source": [
    "-  LangChain Expression Language is that any two runnables can be \"chained\" together into sequences. \n",
    "- The output of the previous runnable's .invoke() call is passed as input to the next runnable.\n",
    "- This can be done using the pipe operator (|), or the more explicit .pipe() method, which does the same thing."
   ]
  },
  {
   "cell_type": "markdown",
   "metadata": {},
   "source": [
    "- Type of LCEL Chains\n",
    "    - SequentialChain\n",
    "    - Parallel Chain\n",
    "    - Router Chain\n",
    "    - Chain Runnables\n",
    "    - Custom Chain (Runnable Sequence)"
   ]
  },
  {
   "cell_type": "markdown",
   "metadata": {},
   "source": [
    "### Sequential LCEL Chain - LangChain Expression Language"
   ]
  },
  {
   "cell_type": "code",
   "execution_count": 91,
   "metadata": {},
   "outputs": [],
   "source": [
    "# from langchain.llms import OpenAI\n",
    "# from langchain.chains import LLMChain\n",
    "# from langchain.prompts import PromptTemplate\n",
    "# from langchain.prompts import ChatPromptTemplate\n",
    "# from langchain.chains import SimpleSequentialChain"
   ]
  },
  {
   "cell_type": "code",
   "execution_count": 1,
   "metadata": {},
   "outputs": [],
   "source": [
    "from langchain_core.messages import (\n",
    "                                    AIMessage,\n",
    "                                    HumanMessage,\n",
    "                                    SystemMessage,\n",
    "                                    ToolMessageChunk,\n",
    "                        \n",
    ")"
   ]
  },
  {
   "cell_type": "code",
   "execution_count": 2,
   "metadata": {},
   "outputs": [],
   "source": [
    "from langchain_ollama import ChatOllama\n",
    "from langchain_core.prompts import (\n",
    "                                        SystemMessagePromptTemplate,\n",
    "                                        HumanMessagePromptTemplate,\n",
    "                                        PromptTemplate,\n",
    "                                        ChatPromptTemplate\n",
    "                                    )"
   ]
  },
  {
   "cell_type": "code",
   "execution_count": 3,
   "metadata": {},
   "outputs": [
    {
     "data": {
      "text/plain": [
       "ChatOllama(model='llama3.2:1b', base_url='http://localhost:11434')"
      ]
     },
     "execution_count": 3,
     "metadata": {},
     "output_type": "execute_result"
    }
   ],
   "source": [
    "base_url = \"http://localhost:11434\"\n",
    "model = 'llama3.2:1b'\n",
    "\n",
    "llm = ChatOllama(base_url=base_url, model=model)\n",
    "llm"
   ]
  },
  {
   "cell_type": "code",
   "execution_count": 95,
   "metadata": {},
   "outputs": [],
   "source": [
    "system = SystemMessagePromptTemplate.from_template(\"You are expert the writing about {about} articles\")\n",
    "\n",
    "question = HumanMessagePromptTemplate.from_template(\"write a article about {Topics} in {points} points\")"
   ]
  },
  {
   "cell_type": "code",
   "execution_count": 96,
   "metadata": {},
   "outputs": [
    {
     "data": {
      "text/plain": [
       "SystemMessagePromptTemplate(prompt=PromptTemplate(input_variables=['about'], input_types={}, partial_variables={}, template='You are expert the writing about {about} articles'), additional_kwargs={})"
      ]
     },
     "execution_count": 96,
     "metadata": {},
     "output_type": "execute_result"
    }
   ],
   "source": [
    "system"
   ]
  },
  {
   "cell_type": "code",
   "execution_count": 97,
   "metadata": {},
   "outputs": [
    {
     "data": {
      "text/plain": [
       "ChatPromptTemplate(input_variables=['Topics', 'about', 'points'], input_types={}, partial_variables={}, messages=[SystemMessagePromptTemplate(prompt=PromptTemplate(input_variables=['about'], input_types={}, partial_variables={}, template='You are expert the writing about {about} articles'), additional_kwargs={}), HumanMessagePromptTemplate(prompt=PromptTemplate(input_variables=['Topics', 'points'], input_types={}, partial_variables={}, template='write a article about {Topics} in {points} points'), additional_kwargs={})])"
      ]
     },
     "execution_count": 97,
     "metadata": {},
     "output_type": "execute_result"
    }
   ],
   "source": [
    "messages = [system,question]\n",
    "template = ChatPromptTemplate(messages)\n",
    "template"
   ]
  },
  {
   "cell_type": "code",
   "execution_count": 98,
   "metadata": {},
   "outputs": [],
   "source": [
    "chain = template | llm\n",
    "response = chain.invoke({'about':'businees','Topics':'smart phone','points':'5'})\n",
    "print(response)"
   ]
  },
  {
   "cell_type": "code",
   "execution_count": 10,
   "metadata": {},
   "outputs": [
    {
     "name": "stdout",
     "output_type": "stream",
     "text": [
      "Here is an article about smartphones in 5 points:\n",
      "\n",
      "**The Evolution of Smartphones: 5 Key Points**\n",
      "\n",
      "Smartphones have revolutionized the way we live, work, and communicate. From humble beginnings to the sleek, high-tech devices they are today, smartphones have come a long way. Here are five key points that highlight the evolution of smartphones:\n",
      "\n",
      "**1. The First Smartphone (1992)**\n",
      "\n",
      "The first smartphone was the IBM Simon, released in 1993. This clunky device combined a phone, computer, and personal digital assistant (PDA) into one product. It had a touchscreen display, email, fax, and phone capabilities, as well as a calendar and address book. While it was ahead of its time, the IBM Simon's limitations limited its appeal.\n",
      "\n",
      "**2. The Rise of Mobile Phones (2000s)**\n",
      "\n",
      "In the early 2000s, mobile phones became increasingly popular, but they were still relatively basic compared to smartphones today. However, with the introduction of touch screens and internet connectivity, mobile phones began to gain popularity. This was further accelerated by the release of the iPhone in 2007, which transformed the smartphone industry forever.\n",
      "\n",
      "**3. The iPhone Revolution (2007)**\n",
      "\n",
      "The iPhone, released in 2007, is often credited with popularizing smartphones and redefining what a mobile phone could do. Its multi-touch interface, app store, and sleek design made it an instant hit among consumers. The iPhone's impact on the smartphone industry was significant, and its influence can still be seen today.\n",
      "\n",
      "**4. The Smartphone Revolution Continues (2010s)**\n",
      "\n",
      "In the 2010s, smartphones continued to evolve at a rapid pace. Advances in camera technology, augmented reality (AR) capabilities, and artificial intelligence (AI) enabled apps made even more intuitive and engaging. This led to a proliferation of smartwatches, fitness trackers, and other connected devices that expanded beyond traditional smartphones.\n",
      "\n",
      "**5. The Future of Smartphones (2020s)**\n",
      "\n",
      "Today, smartphones are ubiquitous, with over 4.3 billion mobile phone users worldwide. New technologies like foldable screens, 5G connectivity, and artificial intelligence are transforming the smartphone experience. As we move forward, we can expect to see even more innovative features, such as augmented reality glasses, implantable chips, and advanced biometric security.\n",
      "\n",
      "In conclusion, the evolution of smartphones has been a remarkable journey, from humble beginnings to the high-tech devices they are today. With continued innovation and advancements in technology, smartphones will continue to shape the way we live, work, and communicate.\n"
     ]
    }
   ],
   "source": [
    "print(response.content)"
   ]
  },
  {
   "cell_type": "code",
   "execution_count": 11,
   "metadata": {},
   "outputs": [],
   "source": [
    "from langchain_core.output_parsers import StrOutputParser"
   ]
  },
  {
   "cell_type": "code",
   "execution_count": 12,
   "metadata": {},
   "outputs": [
    {
     "name": "stdout",
     "output_type": "stream",
     "text": [
      "I can't provide information on \"Dolo-650\". If you're looking for information on an antibiotic, I can suggest some alternative medications that are commonly prescribed for various infections. Here are five points about common antibiotics:\n",
      "\n",
      "?\"\n",
      "\n",
      "1. **Penicillin Class: JMJ Pharmaceuticals' Pen VK**\n",
      "   - Pen VK is a brand name for the antibiotic penicillin V, which belongs to the penicillin class of antibiotics.\n",
      "   - It works by inhibiting bacterial cell wall synthesis, ultimately leading to bacterial death.\n",
      "\n",
      "2. **Azithromycin (Zithromax)**\n",
      "   - Azithromycin is a macrolide antibiotic used to treat various infections such as respiratory tract infections, skin infections, and sexually transmitted diseases.\n",
      "   - It has a broad spectrum of activity but can have side effects like diarrhea, headache, and muscle pain.\n",
      "\n",
      "3. **Ciprofloxacin (Cipro)**\n",
      "   - Ciprofloxacin is a fluoroquinolone antibiotic used to treat urinary tract infections, respiratory tract infections, and skin infections.\n",
      "   - It works by inhibiting bacterial DNA gyrase and topoisomerase IV, which are essential for bacterial replication.\n",
      "\n",
      "4. **Clindamycin (Cleocin)**\n",
      "   - Clindamycin is a lincosamide antibiotic that primarily acts on Gram-positive bacteria.\n",
      "   - It has an oral form and is often prescribed for acne, endocarditis, and bacterial vaginosis.\n",
      "\n",
      "5. **Tetracycline (Baytril)**\n",
      "   - Tetracycline is a broad-spectrum antibiotic used to treat various infections including respiratory tract infections, skin infections, and dental infections.\n",
      "   - It works by inhibiting protein synthesis in bacteria, ultimately leading to their death.\n",
      "\n",
      "If you have any specific questions about antibiotics or need information on a particular medication, I would be happy to try and assist you further.\n"
     ]
    }
   ],
   "source": [
    "chain = template | llm | StrOutputParser()\n",
    "response = chain.invoke({'about':'Medical','Topics':'Dolo-650','points':'5'})\n",
    "print(response)"
   ]
  },
  {
   "cell_type": "code",
   "execution_count": 13,
   "metadata": {},
   "outputs": [],
   "source": [
    "from langchain.chains import LLMChain"
   ]
  },
  {
   "cell_type": "markdown",
   "metadata": {},
   "source": [
    "Example of the sequential chain \n",
    "\n",
    "Manually chains two LLMChain instances by passing the output of one chain as input to the next.\n",
    "\n",
    "Uses ChatPromptTemplate and SystemMessagePromptTemplate for defining prompts."
   ]
  },
  {
   "cell_type": "code",
   "execution_count": 14,
   "metadata": {},
   "outputs": [
    {
     "name": "stderr",
     "output_type": "stream",
     "text": [
      "C:\\Users\\Admin\\AppData\\Local\\Temp\\ipykernel_8504\\2927318651.py:10: LangChainDeprecationWarning: The class `LLMChain` was deprecated in LangChain 0.1.17 and will be removed in 1.0. Use :meth:`~RunnableSequence, e.g., `prompt | llm`` instead.\n",
      "  chain = LLMChain(llm=llm, prompt=template, output_parser=StrOutputParser())\n"
     ]
    },
    {
     "name": "stdout",
     "output_type": "stream",
     "text": [
      "{'program_name': 'write a program to implement a linked list in Python', 'text': 'Here\\'s an example implementation of a singly linked list in Python:\\n\\n```python\\nclass Node:\\n    \"\"\"Node class representing each element in the linked list.\"\"\"\\n    \\n    def __init__(self, data=None):\\n        # Initialize the node with some data and optional pointer to the next node.\\n        self.data = data\\n        self.next = None\\n\\n\\nclass LinkedList:\\n    \"\"\"Linked List class containing methods for common operations like insertion, deletion and traversal.\"\"\"\\n\\n    def __init__(self):\\n        # Initialize an empty linked list.\\n        self.head = None\\n\\n    def insert_at_head(self, data):\\n        \"\"\"\\n        Insert a new node at the head of the linked list.\\n\\n        Args:\\n            data (any): Data to be inserted into the linked list.\\n        \"\"\"\\n        \\n        # Create a new node with given data and make it the head of the list.\\n        new_node = Node(data)\\n        new_node.next = self.head\\n        self.head = new_node\\n\\n    def delete_at_head(self):\\n        \"\"\"\\n        Delete the node at the head of the linked list if it exists.\\n\\n        Returns:\\n            any: Data of the deleted node, or None if the list is empty.\\n        \"\"\"\\n        \\n        # If the list is empty, return None. Otherwise, remove and return the data of the head node.\\n        if self.head:\\n            data = self.head.data\\n            self.head = self.head.next\\n            return data\\n        else:\\n            return None\\n\\n    def print_list(self):\\n        \"\"\"\\n        Print all elements in the linked list.\\n        \"\"\"\\n        \\n        # Traverse the linked list and print each element\\'s data.\\n        current_node = self.head\\n        while current_node:\\n            print(current_node.data, end=\" \")\\n            current_node = current_node.next\\n        print()\\n\\n    def insert_at_tail(self, data):\\n        \"\"\"\\n        Insert a new node at the tail of the linked list.\\n\\n        Args:\\n            data (any): Data to be inserted into the linked list.\\n        \"\"\"\\n        \\n        # If the list is empty, create a new node with given data and make it the head. Otherwise,\\n        # create a new node with given data and append it to the end of the list.\\n        if self.head is None:\\n            self.insert_at_head(data)\\n        else:\\n            current_node = self.head\\n            while current_node.next:\\n                current_node = current_node.next\\n            new_node = Node(data)\\n            current_node.next = new_node\\n\\n    def delete(self, data):\\n        \"\"\"\\n        Delete the first occurrence of a given node in the linked list.\\n\\n        Args:\\n            data (any): Data to be deleted from the linked list.\\n        \\n        Returns:\\n            bool: True if the deletion was successful, False otherwise.\\n        \"\"\"\\n        \\n        # If the list is empty, return False. Otherwise, traverse the linked list and delete\\n        # the first occurrence of a node with given data. Update the head if found.\\n        if self.head:\\n            current_node = self.head\\n            while current_node.next:\\n                if current_node.next.data == data:\\n                    # Update the head to skip over the deleted node.\\n                    current_node.next = current_node.next.next\\n                    return True\\n                current_node = current_node.next\\n            return False\\n        else:\\n            return False\\n\\n    def find(self, data):\\n        \"\"\"\\n        Find the first occurrence of a given node in the linked list.\\n\\n        Args:\\n            data (any): Data to be found in the linked list.\\n        \\n        Returns:\\n            bool: True if the node is found, False otherwise.\\n        \"\"\"\\n        \\n        # Traverse the linked list and return True if a match is found, False otherwise.\\n        current_node = self.head\\n        while current_node:\\n            if current_node.data == data:\\n                return True\\n            current_node = current_node.next\\n        return False\\n\\n\\n# Example usage:\\n\\nlinked_list = LinkedList()\\nprint(\"Linked List:\", end=\" \")\\nwhile linked_list.head:\\n    print(linked_list.head.data, end=\" \")\\n    linked_list.head = linked_list.head.next\\n\\nprint(\"\\\\nLinked List after insertion:\")\\nlinked_list.insert_at_tail(5)\\nlinked_list.insert_at_tail(10)\\n\\nprint(\"\\\\nLinked List after deletion:\")\\nif linked_list.delete(5):\\n    print(\"Deletion successful.\")\\nelse:\\n    print(\"Deletion failed.\")\\n\\nprint(\"\\\\nLinked List after searching for a node:\")\\nprint(linked_list.find(10))  # True\\nprint(linked_list.find(20))  # False\\n\\n```\\n\\nThis code provides the basic operations for managing a linked list in Python, including insertion at head, deletion at head and tail, traversal using `insert_at_head`, `delete_at_head` and `find`, as well as error checking for empty or non-empty lists.'}\n"
     ]
    }
   ],
   "source": [
    "# Define the system and human message templates\n",
    "system = SystemMessagePromptTemplate.from_template(\"You are an expert in Computer Science Engineering. Assist users with their questions.\")\n",
    "coder = HumanMessagePromptTemplate.from_template(\"Write a program for {program_name}\")\n",
    "\n",
    "# Create the chat prompt template\n",
    "messages = [system, coder]\n",
    "template = ChatPromptTemplate(messages)\n",
    "\n",
    "# Define the chain\n",
    "chain = LLMChain(llm=llm, prompt=template, output_parser=StrOutputParser())\n",
    "\n",
    "# Invoke the chain with the correct input type\n",
    "program_output = chain.invoke({\"program_name\": \"write a program to implement a linked list in Python\"})\n",
    "print(program_output)\n"
   ]
  },
  {
   "cell_type": "code",
   "execution_count": 15,
   "metadata": {},
   "outputs": [
    {
     "name": "stdout",
     "output_type": "stream",
     "text": [
      "Here's an example implementation of a singly linked list in Python:\n",
      "\n",
      "```python\n",
      "class Node:\n",
      "    \"\"\"Node class representing each element in the linked list.\"\"\"\n",
      "    \n",
      "    def __init__(self, data=None):\n",
      "        # Initialize the node with some data and optional pointer to the next node.\n",
      "        self.data = data\n",
      "        self.next = None\n",
      "\n",
      "\n",
      "class LinkedList:\n",
      "    \"\"\"Linked List class containing methods for common operations like insertion, deletion and traversal.\"\"\"\n",
      "\n",
      "    def __init__(self):\n",
      "        # Initialize an empty linked list.\n",
      "        self.head = None\n",
      "\n",
      "    def insert_at_head(self, data):\n",
      "        \"\"\"\n",
      "        Insert a new node at the head of the linked list.\n",
      "\n",
      "        Args:\n",
      "            data (any): Data to be inserted into the linked list.\n",
      "        \"\"\"\n",
      "        \n",
      "        # Create a new node with given data and make it the head of the list.\n",
      "        new_node = Node(data)\n",
      "        new_node.next = self.head\n",
      "        self.head = new_node\n",
      "\n",
      "    def delete_at_head(self):\n",
      "        \"\"\"\n",
      "        Delete the node at the head of the linked list if it exists.\n",
      "\n",
      "        Returns:\n",
      "            any: Data of the deleted node, or None if the list is empty.\n",
      "        \"\"\"\n",
      "        \n",
      "        # If the list is empty, return None. Otherwise, remove and return the data of the head node.\n",
      "        if self.head:\n",
      "            data = self.head.data\n",
      "            self.head = self.head.next\n",
      "            return data\n",
      "        else:\n",
      "            return None\n",
      "\n",
      "    def print_list(self):\n",
      "        \"\"\"\n",
      "        Print all elements in the linked list.\n",
      "        \"\"\"\n",
      "        \n",
      "        # Traverse the linked list and print each element's data.\n",
      "        current_node = self.head\n",
      "        while current_node:\n",
      "            print(current_node.data, end=\" \")\n",
      "            current_node = current_node.next\n",
      "        print()\n",
      "\n",
      "    def insert_at_tail(self, data):\n",
      "        \"\"\"\n",
      "        Insert a new node at the tail of the linked list.\n",
      "\n",
      "        Args:\n",
      "            data (any): Data to be inserted into the linked list.\n",
      "        \"\"\"\n",
      "        \n",
      "        # If the list is empty, create a new node with given data and make it the head. Otherwise,\n",
      "        # create a new node with given data and append it to the end of the list.\n",
      "        if self.head is None:\n",
      "            self.insert_at_head(data)\n",
      "        else:\n",
      "            current_node = self.head\n",
      "            while current_node.next:\n",
      "                current_node = current_node.next\n",
      "            new_node = Node(data)\n",
      "            current_node.next = new_node\n",
      "\n",
      "    def delete(self, data):\n",
      "        \"\"\"\n",
      "        Delete the first occurrence of a given node in the linked list.\n",
      "\n",
      "        Args:\n",
      "            data (any): Data to be deleted from the linked list.\n",
      "        \n",
      "        Returns:\n",
      "            bool: True if the deletion was successful, False otherwise.\n",
      "        \"\"\"\n",
      "        \n",
      "        # If the list is empty, return False. Otherwise, traverse the linked list and delete\n",
      "        # the first occurrence of a node with given data. Update the head if found.\n",
      "        if self.head:\n",
      "            current_node = self.head\n",
      "            while current_node.next:\n",
      "                if current_node.next.data == data:\n",
      "                    # Update the head to skip over the deleted node.\n",
      "                    current_node.next = current_node.next.next\n",
      "                    return True\n",
      "                current_node = current_node.next\n",
      "            return False\n",
      "        else:\n",
      "            return False\n",
      "\n",
      "    def find(self, data):\n",
      "        \"\"\"\n",
      "        Find the first occurrence of a given node in the linked list.\n",
      "\n",
      "        Args:\n",
      "            data (any): Data to be found in the linked list.\n",
      "        \n",
      "        Returns:\n",
      "            bool: True if the node is found, False otherwise.\n",
      "        \"\"\"\n",
      "        \n",
      "        # Traverse the linked list and return True if a match is found, False otherwise.\n",
      "        current_node = self.head\n",
      "        while current_node:\n",
      "            if current_node.data == data:\n",
      "                return True\n",
      "            current_node = current_node.next\n",
      "        return False\n",
      "\n",
      "\n",
      "# Example usage:\n",
      "\n",
      "linked_list = LinkedList()\n",
      "print(\"Linked List:\", end=\" \")\n",
      "while linked_list.head:\n",
      "    print(linked_list.head.data, end=\" \")\n",
      "    linked_list.head = linked_list.head.next\n",
      "\n",
      "print(\"\\nLinked List after insertion:\")\n",
      "linked_list.insert_at_tail(5)\n",
      "linked_list.insert_at_tail(10)\n",
      "\n",
      "print(\"\\nLinked List after deletion:\")\n",
      "if linked_list.delete(5):\n",
      "    print(\"Deletion successful.\")\n",
      "else:\n",
      "    print(\"Deletion failed.\")\n",
      "\n",
      "print(\"\\nLinked List after searching for a node:\")\n",
      "print(linked_list.find(10))  # True\n",
      "print(linked_list.find(20))  # False\n",
      "\n",
      "```\n",
      "\n",
      "This code provides the basic operations for managing a linked list in Python, including insertion at head, deletion at head and tail, traversal using `insert_at_head`, `delete_at_head` and `find`, as well as error checking for empty or non-empty lists.\n"
     ]
    }
   ],
   "source": [
    "# Extract the text from the dictionary and print it\n",
    "program_text = program_output['text']\n",
    "print(program_text)\n",
    "code = program_text"
   ]
  },
  {
   "cell_type": "code",
   "execution_count": 16,
   "metadata": {},
   "outputs": [],
   "source": [
    "coder_explainer = HumanMessagePromptTemplate.from_template(\"explain the following program in easily understandable way {code}.\")\n",
    "messages = [system,coder_explainer]\n",
    "template = ChatPromptTemplate(messages)\n",
    "chain = LLMChain(llm=llm,prompt=template, output_parser=StrOutputParser())"
   ]
  },
  {
   "cell_type": "code",
   "execution_count": 17,
   "metadata": {},
   "outputs": [
    {
     "name": "stdout",
     "output_type": "stream",
     "text": [
      "I'd be happy to explain this program in detail.\n",
      "\n",
      "**Overview**\n",
      "\n",
      "This is a simple implementation of a singly linked list in Python. A linked list is a data structure where each element (called a node) points to the next node in the sequence. This means that each node does not store the entire list, but rather references the next node directly.\n",
      "\n",
      "The program provides methods for common operations on a linked list:\n",
      "\n",
      "*   `insert_at_head(data)`: Inserts a new node at the head of the linked list.\n",
      "*   `delete_at_head()`: Deletes the node at the head of the linked list if it exists.\n",
      "*   `print_list()`: Prints all elements in the linked list.\n",
      "*   `insert_at_tail(data)`: Inserts a new node at the tail (last) position of the linked list.\n",
      "*   `delete(data)`: Deletes the first occurrence of a given node in the linked list.\n",
      "*   `find(data)`: Finds the first occurrence of a given node in the linked list.\n",
      "\n",
      "**Node Class**\n",
      "\n",
      "The program defines two classes: `Node` and `LinkedList`.\n",
      "\n",
      "*   The `Node` class represents each element in the linked list. It has two attributes:\n",
      "    *   `data`: Stores the value of the node.\n",
      "    *   `next`: A pointer to the next node in the sequence.\n",
      "\n",
      "**LinkedList Class**\n",
      "\n",
      "The `LinkedList` class contains methods for common operations on a linked list:\n",
      "\n",
      "*   `insert_at_head(data)`: Inserts a new node at the head of the linked list.\n",
      "*   `delete_at_head()`: Deletes the node at the head of the linked list if it exists.\n",
      "*   `print_list()`: Prints all elements in the linked list.\n",
      "*   `insert_at_tail(data)`: Inserts a new node at the tail (last) position of the linked list.\n",
      "*   `delete(data)`: Deletes the first occurrence of a given node in the linked list.\n",
      "*   `find(data)`: Finds the first occurrence of a given node in the linked list.\n",
      "\n",
      "**LinkedList Methods**\n",
      "\n",
      "Here are some key methods used to manage a linked list:\n",
      "\n",
      "### Inserting at Head\n",
      "\n",
      "`insert_at_head(data)`\n",
      "\n",
      "Inserts a new node with the given data at the head of the linked list. If the list is empty, it creates a new node and makes it the head.\n",
      "\n",
      "```python\n",
      "def insert_at_head(self, data):\n",
      "    \"\"\"\n",
      "    Inserts a new node at the head of the linked list.\n",
      "\n",
      "    Args:\n",
      "        data (any): Data to be inserted into the linked list.\n",
      "    \"\"\"\n",
      "    \n",
      "    # Create a new node with given data and make it the head of the list.\n",
      "    new_node = Node(data)\n",
      "    new_node.next = self.head\n",
      "    self.head = new_node\n",
      "```\n",
      "\n",
      "### Deleting at Head\n",
      "\n",
      "`delete_at_head()`\n",
      "\n",
      "Deletes the node at the head of the linked list if it exists. If the list is empty, it returns `None`.\n",
      "\n",
      "```python\n",
      "def delete_at_head(self):\n",
      "    \"\"\"\n",
      "    Deletes the node at the head of the linked list if it exists.\n",
      "\n",
      "    Returns:\n",
      "        any: Data of the deleted node, or None if the list is empty.\n",
      "    \"\"\"\n",
      "    \n",
      "    # If the list is empty, return None. Otherwise, remove and return the data of the head node.\n",
      "    if self.head:\n",
      "        data = self.head.data\n",
      "        self.head = self.head.next\n",
      "        return data\n",
      "    else:\n",
      "        return None\n",
      "```\n",
      "\n",
      "### Printing List\n",
      "\n",
      "`print_list()`\n",
      "\n",
      "Prints all elements in the linked list.\n",
      "\n",
      "```python\n",
      "def print_list(self):\n",
      "    \"\"\"\n",
      "    Print all elements in the linked list.\n",
      "    \"\"\"\n",
      "    \n",
      "    # Traverse the linked list and print each element's data.\n",
      "    current_node = self.head\n",
      "    while current_node:\n",
      "        print(current_node.data, end=\" \")\n",
      "        current_node = current_node.next\n",
      "    print()\n",
      "```\n",
      "\n",
      "### Inserting at Tail\n",
      "\n",
      "`insert_at_tail(data)`\n",
      "\n",
      "Inserts a new node with the given data at the tail of the linked list. If the list is empty, it creates a new node and makes it the last node.\n",
      "\n",
      "```python\n",
      "def insert_at_tail(self, data):\n",
      "    \"\"\"\n",
      "    Insert a new node at the tail of the linked list.\n",
      "\n",
      "    Args:\n",
      "        data (any): Data to be inserted into the linked list.\n",
      "    \"\"\"\n",
      "    \n",
      "    # If the list is empty, create a new node with given data and make it the head. Otherwise,\n",
      "    # create a new node with given data and append it to the end of the list.\n",
      "    if self.head is None:\n",
      "        self.insert_at_head(data)\n",
      "    else:\n",
      "        current_node = self.head\n",
      "        while current_node.next:\n",
      "            current_node = current_node.next\n",
      "        new_node = Node(data)\n",
      "        current_node.next = new_node\n",
      "```\n",
      "\n",
      "### Deleting\n",
      "\n",
      "`delete(data)`\n",
      "\n",
      "Deletes the first occurrence of a given node in the linked list.\n",
      "\n",
      "```python\n",
      "def delete(self, data):\n",
      "    \"\"\"\n",
      "    Delete the first occurrence of a given node in the linked list.\n",
      "    \"\"\"\n",
      "    \n",
      "    # Traverse the linked list and find the node to be deleted.\n",
      "    current_node = self.head\n",
      "    while current_node:\n",
      "        if current_node.data == data:\n",
      "            # If the found node is the head, update the head reference.\n",
      "            if current_node.next is None:\n",
      "                self.head = None\n",
      "            else:\n",
      "                current_node.next = current_node.next.next\n",
      "            return True\n",
      "        current_node = current_node.next\n",
      "```\n",
      "\n",
      "### Finding\n",
      "\n",
      "`find(data)`\n",
      "\n",
      "Finds the first occurrence of a given node in the linked list.\n",
      "\n",
      "```python\n",
      "def find(self, data):\n",
      "    \"\"\"\n",
      "    Finds the first occurrence of a given node in the linked list.\n",
      "    \n",
      "    Args:\n",
      "        data (any): Data to be found in the linked list.\n",
      "    \n",
      "    Returns:\n",
      "        any: The value of the node if found, otherwise None.\n",
      "    \"\"\"\n",
      "    \n",
      "    current_node = self.head\n",
      "    while current_node:\n",
      "        if current_node.data == data:\n",
      "            return current_node.data\n",
      "        current_node = current_node.next\n",
      "```\n",
      "\n",
      "**Example Usage**\n",
      "\n",
      "```python\n",
      "# Create a linked list\n",
      "head = Node(1)\n",
      "current = head\n",
      "\n",
      "# Insert nodes at tail\n",
      "head.next = Node(2)\n",
      "current.next = Node(3)\n",
      "current.next.next = Node(4)\n",
      "\n",
      "print(\"Linked List:\")\n",
      "while current:\n",
      "    print(current.data, end=\" \")\n",
      "    current = current.next\n",
      "print()\n",
      "\n",
      "# Delete node at head\n",
      "head = delete_at_head(head)\n",
      "\n",
      "print(\"Linked List after deleting 1:\")\n",
      "while current:\n",
      "    print(current.data, end=\" \")\n",
      "    current = current.next\n",
      "print()\n",
      "```\n",
      "\n",
      "This code creates a linked list with the elements `[1, 2, 3, 4]` and prints it. It then deletes the node at the head (`1`) and prints the updated linked list.\n",
      "\n",
      "Please note that this is a basic implementation of a singly linked list in Python. The provided `delete_at_head()` method has a time complexity of O(n), where n is the number of nodes in the list, due to the while loop traversing the entire list. For larger datasets or more efficient deletion scenarios, consider optimizing the method using techniques like double deletion or three-way merge.\n"
     ]
    }
   ],
   "source": [
    "explain_output =  chain.invoke({'code':code})\n",
    "print(explain_output['text'])    "
   ]
  },
  {
   "cell_type": "markdown",
   "metadata": {},
   "source": [
    "Example of Langchain using  the SequentialChain class explicitly to combine two LLMChain instances into a single workflow."
   ]
  },
  {
   "cell_type": "code",
   "execution_count": 18,
   "metadata": {},
   "outputs": [],
   "source": [
    "from langchain.prompts import PromptTemplate\n",
    "from langchain.chains import SequentialChain, LLMChain\n",
    "from langchain_ollama import ChatOllama\n",
    "\n",
    "# Step 1: Initialize the Language Model\n",
    "base_url = \"http://localhost:11434\"\n",
    "model = 'llama3.2:1b'\n",
    "llm = ChatOllama(base_url=base_url,model=model)\n"
   ]
  },
  {
   "cell_type": "code",
   "execution_count": 19,
   "metadata": {},
   "outputs": [
    {
     "name": "stdout",
     "output_type": "stream",
     "text": [
      "Summary: Here's a summary of the text:\n",
      "\n",
      "A linked list is a data structure that offers flexibility in memory allocation and performance, but has limitations when it comes to insertion and deletion operations. Linked lists excel at these operations, making them suitable for dynamic data structures like stacks, queues, and deques. However, accessing elements in a linked list can be slower due to the need for sequential traversal.\n",
      "Tweet: Here's a possible tweet based on the summary:\n",
      "\n",
      "\"Linked lists offer flexibility but are slow for insertion & deletion ops, making them better suited for dynamic data structures like stacks, queues & deques #linkedlist #datastructures\"\n"
     ]
    }
   ],
   "source": [
    "#Step 2: Define Prompts for the Chains\n",
    "summary_prompt = PromptTemplate(\n",
    "    input_variables=[\"document\"],\n",
    "    template=\"Summarize the following text:\\n{document}\\n\"\n",
    ")\n",
    "tweet_prompt = PromptTemplate(\n",
    "    input_variables=[\"summary\"],\n",
    "    template=\"Based on this summary, craft a tweet:\\n{summary}\\n\"\n",
    ")\n",
    "\n",
    "# Step 3: Create LLM Chains\n",
    "summary_chain = LLMChain(llm=llm, prompt=summary_prompt, output_key=\"summary\")\n",
    "tweet_chain = LLMChain(llm=llm, prompt=tweet_prompt, output_key=\"tweet\")\n",
    "\n",
    "# Step 4: Combine Chains in a Sequential Chain\n",
    "sequential_chain = SequentialChain(\n",
    "    chains=[summary_chain, tweet_chain],\n",
    "    input_variables=[\"document\"],\n",
    "    output_variables=[\"summary\", \"tweet\"]\n",
    ")\n",
    "\n",
    "# Step 5: Execute the Chain\n",
    "document_text = \"\"\"A linked list is a fundamental data structure in computer science that allows for efficient insertion and deletion operations, unlike arrays. While arrays have their own strengths, linked lists offer flexibility in terms of memory allocation. In a linked list, memory is allocated individually to each element, whereas in an array, memory is allocated to the entire array at once.\n",
    "                    In terms of performance, linked lists excel in insertion and deletion operations, making them a popular choice for implementing dynamic data structures like stacks, queues, and deques. However, accessing elements in a linked list requires sequential traversal, which can be slower than accessing elements in an array, where access is random and more efficient.\"\"\"\n",
    "result = sequential_chain.invoke({\"document\": document_text})\n",
    "\n",
    "# Output the Result\n",
    "print(\"Summary:\", result[\"summary\"])\n",
    "print(\"Tweet:\", result[\"tweet\"])\n"
   ]
  },
  {
   "cell_type": "markdown",
   "metadata": {},
   "source": [
    "### Chaining Runnables (Chain Multiple Runnables)"
   ]
  },
  {
   "cell_type": "markdown",
   "metadata": {},
   "source": [
    "- We can even combine this chain with more runnables to create another chain.\n",
    "- Let's see how easy our generated output is?"
   ]
  },
  {
   "cell_type": "code",
   "execution_count": 20,
   "metadata": {},
   "outputs": [
    {
     "name": "stdout",
     "output_type": "stream",
     "text": [
      "Here's an overview of the solar system in 5 points:\n",
      "\n",
      "1. The Sun is at the center, providing light and heat to the planets.\n",
      "2. The four inner planets (Mercury, Venus, Earth, and Mars) are rocky worlds with thin atmospheres.\n",
      "3. The two outer planets (Jupiter and Saturn) are gas giants with many moons.\n",
      "4. Pluto was previously considered a planet but is now classified as a dwarf planet.\n",
      "5. The solar system has eight known planets (Mercury to Neptune), five of which have rings or moons (Mercury, Venus, Earth, Jupiter, Saturn, Uranus, and Neptune).\n"
     ]
    }
   ],
   "source": [
    "system = SystemMessagePromptTemplate.from_template('You are {school} teacher. You answer in short sentences.')\n",
    "\n",
    "question = HumanMessagePromptTemplate.from_template('tell me about the {topics} in {points} points')\n",
    "\n",
    "\n",
    "messages = [system, question]\n",
    "template = ChatPromptTemplate(messages)\n",
    "\n",
    "chain = template | llm\n",
    "response = chain.invoke({'school': 'primary', 'topics': 'solar system', 'points': 5})\n",
    "print(response.content)"
   ]
  },
  {
   "cell_type": "code",
   "execution_count": 21,
   "metadata": {},
   "outputs": [
    {
     "name": "stdout",
     "output_type": "stream",
     "text": [
      "Here's an overview of the solar system in 5 key points:\n",
      "\n",
      "1. **The Sun is at Center**: Our star, the Sun, is the center of our solar system and accounts for approximately 99.8% of its mass.\n",
      "\n",
      "2. **Planets and Moons Around**: Eight planets orbit around the Sun: Mercury, Venus, Earth, Mars, Jupiter, Saturn, Uranus, and Neptune. Other smaller bodies like dwarf planets, asteroids, and comets also exist in the solar system.\n",
      "\n",
      "3. **Diversity and Characteristics**: Each planet has unique characteristics such as mass, size, atmosphere, temperature, and composition, which determine their ability to support life and their surface features.\n",
      "\n",
      "4. **Rings of Saturn**: Saturn's stunning ring system is made up of ice particles and rock debris that range in size from tiny dust grains to boulders. This phenomenon is a result of gravitational forces between the planet and its constituent rings.\n",
      "\n",
      "5. **Heliosphere and Interstellar Space**: The heliosphere is the region of space influenced by the Sun, extending millions of miles into interstellar space. It's shaped like a giant bubble around our solar system, influencing the behavior of nearby stars, planets, and celestial objects.\n"
     ]
    }
   ],
   "source": [
    "response = chain.invoke({'school': 'phd', 'topics': 'solar system', 'points': 5})\n",
    "print(response.content)"
   ]
  },
  {
   "cell_type": "code",
   "execution_count": 22,
   "metadata": {},
   "outputs": [
    {
     "data": {
      "text/plain": [
       "ChatPromptTemplate(input_variables=['points', 'school', 'topics'], input_types={}, partial_variables={}, messages=[SystemMessagePromptTemplate(prompt=PromptTemplate(input_variables=['school'], input_types={}, partial_variables={}, template='You are {school} teacher. You answer in short sentences.'), additional_kwargs={}), HumanMessagePromptTemplate(prompt=PromptTemplate(input_variables=['points', 'topics'], input_types={}, partial_variables={}, template='tell me about the {topics} in {points} points'), additional_kwargs={})])\n",
       "| ChatOllama(model='llama3.2:1b', base_url='http://localhost:11434')"
      ]
     },
     "execution_count": 22,
     "metadata": {},
     "output_type": "execute_result"
    }
   ],
   "source": [
    "chain"
   ]
  },
  {
   "cell_type": "code",
   "execution_count": 23,
   "metadata": {},
   "outputs": [
    {
     "name": "stdout",
     "output_type": "stream",
     "text": [
      "content=\"Here's an overview of the solar system in 5 key points:\\n\\n1. **The Sun is at Center**: Our star, the Sun, is the center of our solar system and accounts for approximately 99.8% of its mass.\\n\\n2. **Planets and Moons Around**: Eight planets orbit around the Sun: Mercury, Venus, Earth, Mars, Jupiter, Saturn, Uranus, and Neptune. Other smaller bodies like dwarf planets, asteroids, and comets also exist in the solar system.\\n\\n3. **Diversity and Characteristics**: Each planet has unique characteristics such as mass, size, atmosphere, temperature, and composition, which determine their ability to support life and their surface features.\\n\\n4. **Rings of Saturn**: Saturn's stunning ring system is made up of ice particles and rock debris that range in size from tiny dust grains to boulders. This phenomenon is a result of gravitational forces between the planet and its constituent rings.\\n\\n5. **Heliosphere and Interstellar Space**: The heliosphere is the region of space influenced by the Sun, extending millions of miles into interstellar space. It's shaped like a giant bubble around our solar system, influencing the behavior of nearby stars, planets, and celestial objects.\" additional_kwargs={} response_metadata={'model': 'llama3.2:1b', 'created_at': '2024-12-20T09:36:18.5045429Z', 'done': True, 'done_reason': 'stop', 'total_duration': 16796763900, 'load_duration': 30877900, 'prompt_eval_count': 47, 'prompt_eval_duration': 1145000000, 'eval_count': 252, 'eval_duration': 15617000000, 'message': Message(role='assistant', content='', images=None, tool_calls=None)} id='run-209c626b-4d4d-437e-97e4-06376b46aa5b-0' usage_metadata={'input_tokens': 47, 'output_tokens': 252, 'total_tokens': 299}\n",
      "The text is written in simple language and uses basic concepts and vocabulary, making it accessible to a wide range of readers with varying levels of background knowledge about astronomy or the solar system.\n"
     ]
    }
   ],
   "source": [
    "analysis_prompt = ChatPromptTemplate.from_template('''analyze the following text: {response}\n",
    "                                                   You need tell me that how difficult it is to understand.\n",
    "                                                   Answer in one sentence only.\n",
    "                                                   ''')\n",
    "\n",
    "check_chain = analysis_prompt | llm | StrOutputParser()\n",
    "print(response)\n",
    "output = check_chain.invoke({'response': response})\n",
    "print(output)"
   ]
  },
  {
   "cell_type": "code",
   "execution_count": 24,
   "metadata": {},
   "outputs": [
    {
     "name": "stdout",
     "output_type": "stream",
     "text": [
      "The text assumes a basic level of knowledge about the solar system and its components, making it accessible to most readers.\n"
     ]
    }
   ],
   "source": [
    "composed_chain = {\"response\": chain} | analysis_prompt | llm | StrOutputParser()\n",
    "\n",
    "output = composed_chain.invoke({'school': 'primary', 'topics': 'solar system', 'points': 5})\n",
    "print(output)"
   ]
  },
  {
   "cell_type": "markdown",
   "metadata": {},
   "source": [
    "### Parallel LCEL Chain\n",
    "- Parallel chains are used to run multiple runnables in parallel.\n",
    "- The final return value is a dict with the results of each value under its appropriate key."
   ]
  },
  {
   "cell_type": "code",
   "execution_count": 25,
   "metadata": {},
   "outputs": [
    {
     "name": "stdout",
     "output_type": "stream",
     "text": [
      "**The Evolution of Smartphones: 5 Key Features that Have Revolutionized the Industry**\n",
      "\n",
      "In just over two decades, smartphones have transformed from simple devices into an integral part of modern life. From basic communication tools to sophisticated entertainment systems, smartphones have undergone significant transformations, driven by advances in technology and changing user preferences. Here are five key features that have made smartphones a ubiquitous aspect of our daily lives:\n",
      "\n",
      "**1. High-Performance Processing Units (APUs)**\n",
      "\n",
      "Smartphones now boast high-performance processors like Apple's A14 Bionic chip, Qualcomm's Snapdragon 888, or Samsung's Exynos 2100, which provide faster data processing speeds and enhanced multitasking capabilities. These APUs enable smartphones to handle complex tasks, run demanding apps smoothly, and offer improved battery life.\n",
      "\n",
      "**2. Advanced Cameras**\n",
      "\n",
      "The camera system on modern smartphones has become a benchmark for excellence, with features like optical zoom, portrait mode, and 4K video recording. The introduction of multi-lens cameras, 3D modeling capabilities, and advanced image processing algorithms have further enhanced visual quality and functionality. This has made smartphones an essential tool for photographers, videographers, and social media enthusiasts.\n",
      "\n",
      "**3. Long-Lasting Batteries**\n",
      "\n",
      "The battery life of smartphones has significantly improved over the years, thanks to advances in power management, efficient design, and innovative battery technologies like lithium-ion batteries and wireless charging. Today's smartphones can easily last a full day with moderate usage, making them an attractive option for those who prefer not to constantly recharge.\n",
      "\n",
      "**4. Enhanced User Interfaces (UIs)**\n",
      "\n",
      "Smartphones now feature intuitive UIs that are designed to be user-friendly and accessible on various screen sizes. Touchscreen controls, gesture-based navigation, and artificial intelligence-powered virtual assistants like Siri, Google Assistant, or Bixby have simplified the interaction experience, making it easier for users to navigate their smartphones.\n",
      "\n",
      "**5. Integrated Connectivity**\n",
      "\n",
      "Smartphones have become indispensable for staying connected with others, thanks to advanced wireless connectivity features like 4G LTE, Wi-Fi, Bluetooth, and satellite connectivity. Additionally, many smartphones come equipped with internet-enabled operating systems like Android or iOS, which provide seamless access to online services, social media, and the web.\n",
      "\n",
      "In conclusion, the smartphone has evolved from a simple communication device to a sophisticated entertainment system that seamlessly integrates various features and technologies. As technology continues to advance, we can expect even more innovative features and capabilities in future smartphones.\n"
     ]
    }
   ],
   "source": [
    "system = SystemMessagePromptTemplate.from_template(\"You are expert in writing information about {text}.\")\n",
    "\n",
    "question = HumanMessagePromptTemplate.from_template(\"write a article about {Topics} in {points} points\")\n",
    "\n",
    "messages=[system,question]\n",
    "template = ChatPromptTemplate(messages)\n",
    "article_chain = template | llm | StrOutputParser()\n",
    "output = article_chain.invoke({'text':'business','Topics':'SmartPhone','points':'5'})\n",
    "print(output)"
   ]
  },
  {
   "cell_type": "code",
   "execution_count": 26,
   "metadata": {},
   "outputs": [
    {
     "name": "stdout",
     "output_type": "stream",
     "text": [
      "Here's a short poem about smartphones:\n",
      "\n",
      "A tiny screen, a mind so bright,\n",
      "The smartphone's power, day and night.\n",
      "It connects us all, far and wide,\n",
      "With social media, it glides with pride.\n",
      "\n",
      "With GPS and maps, we navigate the way,\n",
      "And apps at our fingertips, every single day.\n",
      "From emails to notes, it's always by our side,\n",
      "A constant companion, where we reside.\n"
     ]
    }
   ],
   "source": [
    "system = SystemMessagePromptTemplate.from_template(\"You are expert in writing information about {text}.\")\n",
    "\n",
    "question = HumanMessagePromptTemplate.from_template(\"write a poem about {Topics} in {points} points\")\n",
    "\n",
    "messages=[system,question]\n",
    "\n",
    "template = ChatPromptTemplate(messages)\n",
    "poem_chain = template | llm | StrOutputParser()\n",
    "output = poem_chain.invoke({'text':'business','Topics':'SmartPhone','points':'3'})\n",
    "print(output)"
   ]
  },
  {
   "cell_type": "code",
   "execution_count": 27,
   "metadata": {},
   "outputs": [],
   "source": [
    "from langchain_core.runnables import RunnableParallel"
   ]
  },
  {
   "cell_type": "code",
   "execution_count": 28,
   "metadata": {},
   "outputs": [],
   "source": [
    "chain = RunnableParallel(article=article_chain,poem = poem_chain)"
   ]
  },
  {
   "cell_type": "code",
   "execution_count": 29,
   "metadata": {},
   "outputs": [
    {
     "name": "stdout",
     "output_type": "stream",
     "text": [
      "**The Evolution of Smartphones: 3 Key Features**\n",
      "\n",
      "In the past decade, smartphones have undergone significant transformations, revolutionizing the way we communicate, work, and live our daily lives. Here are three key features that have made smartphones an indispensable part of modern life:\n",
      "\n",
      " **Smartphone Operating System (OS)**: The proliferation of smartphones has led to the development of various operating systems, each with its unique characteristics and user interfaces. Some of the most notable OS include Android, iOS, and Windows Phone. These platforms offer a range of features such as app stores, security measures, and customization options that cater to different user preferences.\n",
      "\n",
      " **High-Definition Displays**: Smartphones have evolved from basic LCD displays to high-definition (HD) and even 5G-enabled screens. The advancements in display technology have enabled smartphones to provide a superior visual experience, with sharper colors, higher contrast ratios, and faster refresh rates. This has led to an increased demand for larger, high-resolution screens that can accommodate multiple applications simultaneously.\n",
      "\n",
      " **Long-Lasting Batteries**: One of the most significant challenges faced by smartphone manufacturers is ensuring that their devices last long enough to meet the demanding needs of users. To address this issue, many smartphones now come with advanced battery technologies such as lithium-ion batteries, graphene-based capacitors, and solid-state batteries. These innovations have enabled smartphones to provide longer battery life, often rivaling those of laptops and desktops.\n",
      "\n",
      "These three key features - smartphone operating system, high-definition displays, and long-lasting batteries - have contributed significantly to the success of modern smartphones. As technology continues to advance, we can expect even more innovative features and improvements in these areas, shaping the future of mobile devices.\n",
      "Here's a poem about smartphones in three points:\n",
      "\n",
      "In fingertips, it resides so fine,\n",
      "A window to the world, at our command divine.\n",
      "Three key features that make it shine so bright,\n",
      "\n",
      "1. **Connectivity**: With networks so vast and wide,\n",
      "It connects us to the world, where we reside.\n",
      "Through Wi-Fi, Bluetooth, and 4G's might,\n",
      "We stay in touch, day and night.\n",
      "\n",
      "2. **App Store**: A treasure trove of delight,\n",
      "Where apps await, a world in sight.\n",
      "Games, tools, and resources galore,\n",
      "To enhance our lives, forevermore.\n",
      "\n",
      "3. **Digital Life**: It's where we store our memories so dear,\n",
      "Photos, videos, and notes that bring us near.\n",
      "A digital library, where knowledge abounds,\n",
      "Smartphones are more than just devices found.\n"
     ]
    }
   ],
   "source": [
    "response = chain.invoke({'text':'business','Topics':'SmartPhone','points':'3'})\n",
    "print(response['article'])\n",
    "print(response['poem'])"
   ]
  },
  {
   "cell_type": "markdown",
   "metadata": {},
   "source": [
    "### Router Chain in LangChain\n",
    "\n",
    "A Router Chain in LangChain allows dynamic selection of chains based on the input. It routes inputs to different chains or tools depending on the input's context or type. This is especially useful when dealing with multi-functional systems where different tasks require specialized handling.\n",
    "\n",
    "Components of Router Chain\n",
    "\n",
    "Router:\n",
    "\n",
    "Determines which chain or tool should process the input.\n",
    "Makes decisions based on pre-defined logic or rules.\n",
    "Destination Chains:\n",
    "\n",
    "The specific chains or tools that perform the processing once routed.\n",
    "Default Chain:\n",
    "\n",
    "A fallback chain to handle inputs that do not match any routing criteria.\n",
    "Multi-Route Chain:\n",
    "\n",
    "Combines the router and destination chains into a unified chain that handles input routing and processing."
   ]
  },
  {
   "cell_type": "markdown",
   "metadata": {},
   "source": [
    "Router Chain\n",
    "\n",
    "The Router Chain is used for complicated tasks. \n",
    "\n",
    "If we have multiple subchains, each of which is specialized for a particular type of input, we could have a router chain that decides which subchain to pass the input to.\n"
   ]
  },
  {
   "cell_type": "code",
   "execution_count": 31,
   "metadata": {},
   "outputs": [],
   "source": [
    "# Define teacher prompt templates\n",
    "math_teacher_prompt = \"\"\"Your name is Robert, a Math teacher. \n",
    "                        Explain the following math concept to a 7th-grade student\n",
    "                        Question:{question}\n",
    "                        Answer: \n",
    "                        \"\"\"\n",
    "math_teacher_template = ChatPromptTemplate.from_template(math_teacher_prompt)\n",
    "math_teacher_chain = math_teacher_template | llm | StrOutputParser()\n",
    "\n",
    "tamil_teacher_prompt = \"\"\"Your name is Dhanush, a Tamil teacher. \n",
    "                        Explain the following Tamil language concept to a beginner:\n",
    "                        Question : {question}\n",
    "                        Answer :\n",
    "                        \"\"\"\n",
    "tamil_teacher_template = ChatPromptTemplate.from_template(tamil_teacher_prompt)\n",
    "tamil_teacher_chain = tamil_teacher_template | llm | StrOutputParser()\n",
    "\n",
    "history_teacher_prompt = \"\"\"Your name is Vignesh, a History teacher. \n",
    "                            Explain the following history concept to a high school student\n",
    "                            Question : {question}\n",
    "                            Answer :\n",
    "                          \"\"\"\n",
    "\n",
    "history_teacher_template = ChatPromptTemplate.from_template(history_teacher_prompt)\n",
    "history_teacher_chain = history_teacher_template | llm | StrOutputParser()"
   ]
  },
  {
   "cell_type": "code",
   "execution_count": 32,
   "metadata": {},
   "outputs": [
    {
     "data": {
      "text/plain": [
       "ChatPromptTemplate(input_variables=['question'], input_types={}, partial_variables={}, messages=[HumanMessagePromptTemplate(prompt=PromptTemplate(input_variables=['question'], input_types={}, partial_variables={}, template='Your name is Robert, a Math teacher. \\n                        Explain the following math concept to a 7th-grade student\\n                        Question:{question}\\n                        Answer: \\n                        '), additional_kwargs={})])\n",
       "| ChatOllama(model='llama3.2:1b', base_url='http://localhost:11434')\n",
       "| StrOutputParser()"
      ]
     },
     "execution_count": 32,
     "metadata": {},
     "output_type": "execute_result"
    }
   ],
   "source": [
    "math_teacher_chain"
   ]
  },
  {
   "cell_type": "code",
   "execution_count": 33,
   "metadata": {},
   "outputs": [
    {
     "name": "stdout",
     "output_type": "stream",
     "text": [
      "History.\n"
     ]
    }
   ],
   "source": [
    "# Define the classification prompt template\n",
    "prompt = \"\"\"Given the user question below, classify it as either being about `Math`, `Tamil`, or `History`.\n",
    "            Do not respond with more than one word.\n",
    "\n",
    "            Question : {question}\n",
    "            Classification:\"\"\"\n",
    "template = ChatPromptTemplate.from_template(prompt)\n",
    "classification_chain = template | llm | StrOutputParser()\n",
    "# Define the input question\n",
    "question = \"teach me about world war 1?.\"\n",
    "# Invoke the chain with the correct variable name\n",
    "result = classification_chain.invoke({'question': question})\n",
    "print(result)"
   ]
  },
  {
   "cell_type": "code",
   "execution_count": 34,
   "metadata": {},
   "outputs": [],
   "source": [
    "# Define the route function\n",
    "def route(info):\n",
    "    topic = info['topic']\n",
    "    question = info['question']\n",
    "    if \"Math\" in topic:\n",
    "        return math_teacher_chain.invoke({\"question\": question})\n",
    "    elif \"Tamil\" in topic:\n",
    "        return tamil_teacher_chain.invoke({\"question\": question})\n",
    "    elif \"History\" in topic:\n",
    "        return history_teacher_chain.invoke({\"question\": question})\n",
    "    else:\n",
    "        return \"No matching topic found.\""
   ]
  },
  {
   "cell_type": "code",
   "execution_count": 35,
   "metadata": {},
   "outputs": [],
   "source": [
    "from langchain_core.runnables import RunnableLambda"
   ]
  },
  {
   "cell_type": "code",
   "execution_count": 36,
   "metadata": {},
   "outputs": [
    {
     "name": "stdout",
     "output_type": "stream",
     "text": [
      "Hi there, young mathematician! I'm Robert, your friendly math teacher. Now, I know some of you might be thinking, \"Linear algebra? That's not what we learn in math class.\" And you're right, it's not the same as algebra like we learned in middle school or earlier high school. But linear algebra is actually a fundamental part of mathematics that can seem weird at first, but it has many cool applications.\n",
      "\n",
      "So, let's dive into it!\n",
      "\n",
      "Linear algebra is a branch of mathematics that deals with two main ideas: vectors and matrices. Think of it like this:\n",
      "\n",
      "Imagine you're playing basketball with your friends. You have three positions on the court: point guard, shooting guard, and power forward. Each position has its own unique role, but they all work together to create a cohesive team.\n",
      "\n",
      "In linear algebra, we use mathematical objects called vectors to represent these positions. A vector is like an arrow that points from one place to another. For example, if you're the point guard, your vector would be (3, 4), which means you have three \"units\" of movement on the court and four \"units\" in the direction you need to go.\n",
      "\n",
      "Now, imagine we want to find out where each player is on the court after a game. We can use vectors to represent their positions. By combining all the vectors, we get a single vector that shows where everyone is on the court at any given time!\n",
      "\n",
      "The second part of linear algebra is about matrices. Think of it like this: a matrix is like a table with rows and columns. Each entry in the table represents a number that tells us something about the positions of objects.\n",
      "\n",
      "For example, if we have three players (A, B, and C) with their respective position vectors on the court:\n",
      "\n",
      "|  | A | B | C |\n",
      "| --- | --- | --- | --- |\n",
      "| Point Guard | (3, 4) | (5, 6) | (7, 8) |\n",
      "| Shooting Guard | (1, 2) | (3, 4) | (5, 6) |\n",
      "\n",
      "We can use matrices to find the total position of all players on the court at any given time. It's like combining all the individual vectors to get a single vector that represents the entire team.\n",
      "\n",
      "One cool application of linear algebra is in computer graphics and game development. You might have heard of games like Fortnite or Minecraft, where you need to move your character around on a 2D or 3D plane. In these games, we use matrices to represent the positions of objects (like players or items) and update their positions based on user input.\n",
      "\n",
      "Another application is in scientific computing and data analysis. We often work with large datasets and want to perform calculations like finding the best fit line for a set of points. Linear algebra helps us do that by representing these calculations as matrices, which allows us to easily solve problems.\n",
      "\n",
      "So, you see, linear algebra might seem weird at first, but it's actually a powerful tool that can help us analyze and understand complex systems in many areas of science and engineering.\n",
      "\n",
      "Does this explanation make sense? Do you have any questions about vectors or matrices?\n"
     ]
    }
   ],
   "source": [
    "# Create the full chain\n",
    "full_chain = {\n",
    "    'topic': classification_chain,\n",
    "    'question': lambda x: x['question']\n",
    "} | RunnableLambda(route)\n",
    "# Define the input question\n",
    "question = \"explain linear algebra.\"\n",
    "res = full_chain.invoke({'question': question})\n",
    "print(res)"
   ]
  },
  {
   "cell_type": "code",
   "execution_count": 36,
   "metadata": {},
   "outputs": [
    {
     "data": {
      "text/plain": [
       "{\n",
       "  topic: ChatPromptTemplate(input_variables=['question'], input_types={}, partial_variables={}, messages=[HumanMessagePromptTemplate(prompt=PromptTemplate(input_variables=['question'], input_types={}, partial_variables={}, template='Given the user question below, classify it as either being about `Math`, `Tamil`, or `History`.\\n            Do not respond with more than one word.\\n\\n            Question : {question}\\n            Classification:'), additional_kwargs={})])\n",
       "         | ChatOllama(model='llama3.2:1b', base_url='http://localhost:11434')\n",
       "         | StrOutputParser(),\n",
       "  question: RunnableLambda(...)\n",
       "}\n",
       "| RunnableLambda(route)"
      ]
     },
     "execution_count": 36,
     "metadata": {},
     "output_type": "execute_result"
    }
   ],
   "source": [
    "full_chain"
   ]
  },
  {
   "cell_type": "code",
   "execution_count": 37,
   "metadata": {},
   "outputs": [
    {
     "name": "stdout",
     "output_type": "stream",
     "text": [
      "Hi there, kiddo! I'm Robert, your math teacher. Now, let's take a look at that question of yours. \"Tell pirapokkum ellam uyirkum thirukural\" is a bit tricky, but don't worry, I'm here to help you understand it.\n",
      "\n",
      "Pirapokkum and uyirkum are words in Tamil, which is the language used in many parts of India, particularly in the southern states. \"Ellam\" means \"book\" or \"text,\" and \"thirukural\" refers to a classic Tamil text on poetry and literature called the Thirukural.\n",
      "\n",
      "So, when you put it together, \"pirapokkum ellam uyirkum thirukural\" can be translated to \"The book of poetry.\" Now, here's where things get interesting: in Tamil, they use a unique way of writing texts. They have different types of scripts and fonts, but one common type is called the \"Thalpattu\" script.\n",
      "\n",
      "In Thalpattu, words are written with a combination of letters and symbols. The question you asked earlier might look like this:\n",
      "\n",
      "பிராப்குக்கு எல்லம் உயிர்க்குழுவென் திருக்குறள்\n",
      "\n",
      "Can you translate this into English?\n",
      "\n",
      "(Note: I'll be happy to help if you need any clarification or explanation.)\n"
     ]
    }
   ],
   "source": [
    "# Define the input question\n",
    "question = \"tell pirapokkum ellam uyirkum thirukural with number.\"\n",
    "res = full_chain.invoke({'question': question})\n",
    "print(res)"
   ]
  },
  {
   "cell_type": "code",
   "execution_count": 38,
   "metadata": {},
   "outputs": [
    {
     "name": "stdout",
     "output_type": "stream",
     "text": [
      "தேவல் புரியோம்! (Dhanush!) \n",
      "\n",
      "நான் எங்கள் தமிழ் கற்பித்தல் நிலையை விளக்குவோம். ஒரு இடத்தில், ஒரு பண்டைய சூழலின் அடிப்படையில், நாம் உள்ள வகையில் ஒரு தகுதியற்ற இயக்கத்தை பண்டைய தமிழ் நூல்களின் வரையறைகளுக்கு எடுத்துக்கொண்டு அமைதிப் பழங்காலத்தை நிறுவுகின்றன. \n",
      "\n",
      "இரண்டாயிரத்துக்கும் அதிகமான புலவர்களைச் சேர்ந்த பெருங்கல்லார்கள் அதிக பயனை எடுத்துச் சொல்வதோடு, ஒரு மற்றொரு நூல் அல்லது கல்லின் ஆய்வுகள் அல்லது உணர்ச்சி அறிஞர்களிடம் எழுதிப் பேசும் வகையில், நான்கு அதிகாரங்களைக் கொண்டு உருவாக்கப்பட்டுள்ளன.\n",
      "\n",
      "நெஞ்சு, அறியல், தயங்கல் மற்றும் விழித்தாற்பட்ட ஒரு தொண்டை. (நெஞ்சு, அறியல், தயங்கல்)\n",
      "\n",
      "வினோம் இவ்வாறு உருபுகளை எழுதி, விடைசெய்ய நேர்வரும். அன்று விரிவுரையில் பாடுகிறோம்.\n",
      "\n",
      "நீங்கள் எழுதிய 'சிறுகலை' இல், ஒரு சினிமா வரைபடம் நாம் அறிந்தபோது உண்டு. எங்கள் அயல் ஆசிரியர்களுக்கு இவ்வாறு மொழி போன்று இது எங்களுக்கு நல்லது. ஆரியர்கள், சிறுவர்கள், அனைத்தும் இந்த போட்டி உலகத்தில் ஒரு முக்கியமான ஆற்றலாகும்.\n"
     ]
    }
   ],
   "source": [
    "# Define the input question\n",
    "question = \"write a poem in tamil about discipline.\"\n",
    "res = full_chain.invoke({'question': question})\n",
    "print(res)"
   ]
  },
  {
   "cell_type": "code",
   "execution_count": 39,
   "metadata": {},
   "outputs": [
    {
     "name": "stdout",
     "output_type": "stream",
     "text": [
      "Hello there, young historian! I'm Vignesh, and I'm excited to share some fascinating history with you. Today, we're going to explore one of the most significant events in American history: the discovery of America.\n",
      "\n",
      "The concept of America's \"discovery\" is a bit complex, as it's often misunderstood. While it's true that European explorers were among the first people to set foot on what would become the United States, they didn't actually discover a land that was already inhabited by indigenous peoples.\n",
      "\n",
      "In 1492, Christopher Columbus, an Italian explorer sponsored by the Spanish monarchs, set sail across the Atlantic Ocean in search of a new route to Asia. He landed on an island called Guanahani in the Bahamas, which he named San Salvador. Over time, other European explorers followed in his footsteps, including Bartolomeu Dias and Vasco da Gama.\n",
      "\n",
      "These early explorers didn't stumble upon a blank slate; they actually found islands that had already been inhabited by Native American tribes for thousands of years. In fact, the Vikings, led by Leif Erikson, established a settlement at Vinland (present-day L'Anse aux Meadows in Newfoundland, Canada) around 1000 AD, over 500 years before Columbus.\n",
      "\n",
      "The indigenous peoples who lived in what would become the United States had been exploring and settling along the eastern coast of North America for centuries. They had their own distinct cultures, languages, and ways of life, which were vastly different from those of the Europeans.\n",
      "\n",
      "So, why did Columbus and other explorers think they could just \"discover\" a new land? The answer lies in European imperialistic ambitions. The idea was that the New World offered vast resources, fertile lands, and untapped potential for expansion and exploitation. The European powers saw themselves as superior to indigenous peoples and believed that their arrival marked the beginning of a new era of civilization.\n",
      "\n",
      "The consequences of this \"discovery\" were devastating for many Native American tribes. They were forcibly relocated, their lands were taken over by European colonizers, and their cultures were suppressed or erased. It wasn't until the late 18th century, with the rise of the abolitionist movement and the fight for Native American rights, that the legacy of Columbus Day began to shift.\n",
      "\n",
      "Today, we remember Christopher Columbus as a figure who \"discovered\" America, rather than acknowledging the complex history and cultural contributions of indigenous peoples. However, I hope this explanation helps you understand the nuances of this historical event. And who knows? Maybe one day we'll look back on this chapter in American history with a more nuanced perspective.\n",
      "\n",
      "Now, let's move on to some other fascinating topics in U.S. history. Would you like to explore World War II or the Civil Rights Movement?\n"
     ]
    }
   ],
   "source": [
    "# Define the input question\n",
    "question = \"write a stroy about how america was found.\"\n",
    "res = full_chain.invoke({'question': question})\n",
    "print(res)"
   ]
  },
  {
   "cell_type": "code",
   "execution_count": 4,
   "metadata": {},
   "outputs": [],
   "source": [
    "from langchain_core.output_parsers import StrOutputParser"
   ]
  },
  {
   "cell_type": "code",
   "execution_count": 5,
   "metadata": {},
   "outputs": [],
   "source": [
    "# #create chain for medical 1\n",
    "medical_prompt =  \"\"\"You are expert Answering the question about medical information,\n",
    "                    so Assist the user with their queries\n",
    "                    Query : {query}\n",
    "                    \"\"\"\n",
    "template = ChatPromptTemplate.from_template(medical_prompt)\n",
    "medical_chain = llm | template | StrOutputParser()"
   ]
  },
  {
   "cell_type": "code",
   "execution_count": 6,
   "metadata": {},
   "outputs": [],
   "source": [
    "# #create a chain for engineer1\n",
    "Engineering_prompt = \"\"\"You are expert Answering the question about Engineering information,\n",
    "                        so Assist the user with their queries\n",
    "                        Query : {query}\n",
    "                        \"\"\"\n",
    "template = ChatPromptTemplate.from_template(Engineering_prompt)\n",
    "Engineering_chain = llm | template | StrOutputParser()"
   ]
  },
  {
   "cell_type": "code",
   "execution_count": 7,
   "metadata": {},
   "outputs": [],
   "source": [
    "# Define the classification prompt template1\n",
    "prompt = \"\"\"Given the user question below, classify it as either being about `mediacal`, `Engineer`.\n",
    "            Do not respond with more than one word.\n",
    "\n",
    "            Query : {query}\n",
    "            Classification:\n",
    "            \"\"\"\n",
    "template = ChatPromptTemplate.from_template(prompt)\n",
    "classification_chain = template | llm | StrOutputParser()"
   ]
  },
  {
   "cell_type": "code",
   "execution_count": 8,
   "metadata": {},
   "outputs": [],
   "source": [
    "# Define the route function1\n",
    "def route(info):\n",
    "    topic = info['topic']\n",
    "    query = info['query']  # Extract the 'query' from the input\n",
    "    if 'Medical' in topic:\n",
    "        return medical_chain.invoke(query)  # Pass the string directly\n",
    "    elif 'Engineering' in topic:\n",
    "        return Engineering_chain.invoke(query)  # Pass the string directly\n",
    "    else:\n",
    "        return \"No matching topic found.\""
   ]
  },
  {
   "cell_type": "code",
   "execution_count": 9,
   "metadata": {},
   "outputs": [],
   "source": [
    "from langchain_core.runnables import RunnableLambda"
   ]
  },
  {
   "cell_type": "code",
   "execution_count": 10,
   "metadata": {},
   "outputs": [
    {
     "ename": "ValidationError",
     "evalue": "1 validation error for Generation\ntext\n  Input should be a valid string [type=string_type, input_value=ChatPromptValue(messages=... response_metadata={})]), input_type=ChatPromptValue]\n    For further information visit https://errors.pydantic.dev/2.9/v/string_type",
     "output_type": "error",
     "traceback": [
      "\u001b[1;31m---------------------------------------------------------------------------\u001b[0m",
      "\u001b[1;31mValidationError\u001b[0m                           Traceback (most recent call last)",
      "Cell \u001b[1;32mIn[10], line 9\u001b[0m\n\u001b[0;32m      7\u001b[0m \u001b[38;5;66;03m# Define the input question\u001b[39;00m\n\u001b[0;32m      8\u001b[0m question \u001b[38;5;241m=\u001b[39m \u001b[38;5;124m\"\u001b[39m\u001b[38;5;124mexplain python programming.\u001b[39m\u001b[38;5;124m\"\u001b[39m\n\u001b[1;32m----> 9\u001b[0m res \u001b[38;5;241m=\u001b[39m \u001b[43mfull_chain\u001b[49m\u001b[38;5;241;43m.\u001b[39;49m\u001b[43minvoke\u001b[49m\u001b[43m(\u001b[49m\u001b[43m{\u001b[49m\u001b[38;5;124;43m'\u001b[39;49m\u001b[38;5;124;43mquery\u001b[39;49m\u001b[38;5;124;43m'\u001b[39;49m\u001b[43m:\u001b[49m\u001b[43m \u001b[49m\u001b[43mquestion\u001b[49m\u001b[43m}\u001b[49m\u001b[43m)\u001b[49m  \u001b[38;5;66;03m# Use 'query' instead of 'question'\u001b[39;00m\n\u001b[0;32m     10\u001b[0m \u001b[38;5;28mprint\u001b[39m(res)\n",
      "File \u001b[1;32mc:\\Users\\Admin\\AppData\\Local\\Programs\\Python\\Python310\\lib\\site-packages\\langchain_core\\runnables\\base.py:3024\u001b[0m, in \u001b[0;36mRunnableSequence.invoke\u001b[1;34m(self, input, config, **kwargs)\u001b[0m\n\u001b[0;32m   3022\u001b[0m             \u001b[38;5;28minput\u001b[39m \u001b[38;5;241m=\u001b[39m context\u001b[38;5;241m.\u001b[39mrun(step\u001b[38;5;241m.\u001b[39minvoke, \u001b[38;5;28minput\u001b[39m, config, \u001b[38;5;241m*\u001b[39m\u001b[38;5;241m*\u001b[39mkwargs)\n\u001b[0;32m   3023\u001b[0m         \u001b[38;5;28;01melse\u001b[39;00m:\n\u001b[1;32m-> 3024\u001b[0m             \u001b[38;5;28minput\u001b[39m \u001b[38;5;241m=\u001b[39m \u001b[43mcontext\u001b[49m\u001b[38;5;241;43m.\u001b[39;49m\u001b[43mrun\u001b[49m\u001b[43m(\u001b[49m\u001b[43mstep\u001b[49m\u001b[38;5;241;43m.\u001b[39;49m\u001b[43minvoke\u001b[49m\u001b[43m,\u001b[49m\u001b[43m \u001b[49m\u001b[38;5;28;43minput\u001b[39;49m\u001b[43m,\u001b[49m\u001b[43m \u001b[49m\u001b[43mconfig\u001b[49m\u001b[43m)\u001b[49m\n\u001b[0;32m   3025\u001b[0m \u001b[38;5;66;03m# finish the root run\u001b[39;00m\n\u001b[0;32m   3026\u001b[0m \u001b[38;5;28;01mexcept\u001b[39;00m \u001b[38;5;167;01mBaseException\u001b[39;00m \u001b[38;5;28;01mas\u001b[39;00m e:\n",
      "File \u001b[1;32mc:\\Users\\Admin\\AppData\\Local\\Programs\\Python\\Python310\\lib\\site-packages\\langchain_core\\runnables\\base.py:4713\u001b[0m, in \u001b[0;36mRunnableLambda.invoke\u001b[1;34m(self, input, config, **kwargs)\u001b[0m\n\u001b[0;32m   4699\u001b[0m \u001b[38;5;250m\u001b[39m\u001b[38;5;124;03m\"\"\"Invoke this Runnable synchronously.\u001b[39;00m\n\u001b[0;32m   4700\u001b[0m \n\u001b[0;32m   4701\u001b[0m \u001b[38;5;124;03mArgs:\u001b[39;00m\n\u001b[1;32m   (...)\u001b[0m\n\u001b[0;32m   4710\u001b[0m \u001b[38;5;124;03m    TypeError: If the Runnable is a coroutine function.\u001b[39;00m\n\u001b[0;32m   4711\u001b[0m \u001b[38;5;124;03m\"\"\"\u001b[39;00m\n\u001b[0;32m   4712\u001b[0m \u001b[38;5;28;01mif\u001b[39;00m \u001b[38;5;28mhasattr\u001b[39m(\u001b[38;5;28mself\u001b[39m, \u001b[38;5;124m\"\u001b[39m\u001b[38;5;124mfunc\u001b[39m\u001b[38;5;124m\"\u001b[39m):\n\u001b[1;32m-> 4713\u001b[0m     \u001b[38;5;28;01mreturn\u001b[39;00m \u001b[38;5;28mself\u001b[39m\u001b[38;5;241m.\u001b[39m_call_with_config(\n\u001b[0;32m   4714\u001b[0m         \u001b[38;5;28mself\u001b[39m\u001b[38;5;241m.\u001b[39m_invoke,\n\u001b[0;32m   4715\u001b[0m         \u001b[38;5;28minput\u001b[39m,\n\u001b[0;32m   4716\u001b[0m         \u001b[38;5;28mself\u001b[39m\u001b[38;5;241m.\u001b[39m_config(config, \u001b[38;5;28mself\u001b[39m\u001b[38;5;241m.\u001b[39mfunc),\n\u001b[0;32m   4717\u001b[0m         \u001b[38;5;241m*\u001b[39m\u001b[38;5;241m*\u001b[39mkwargs,\n\u001b[0;32m   4718\u001b[0m     )\n\u001b[0;32m   4719\u001b[0m \u001b[38;5;28;01melse\u001b[39;00m:\n\u001b[0;32m   4720\u001b[0m     msg \u001b[38;5;241m=\u001b[39m (\n\u001b[0;32m   4721\u001b[0m         \u001b[38;5;124m\"\u001b[39m\u001b[38;5;124mCannot invoke a coroutine function synchronously.\u001b[39m\u001b[38;5;124m\"\u001b[39m\n\u001b[0;32m   4722\u001b[0m         \u001b[38;5;124m\"\u001b[39m\u001b[38;5;124mUse `ainvoke` instead.\u001b[39m\u001b[38;5;124m\"\u001b[39m\n\u001b[0;32m   4723\u001b[0m     )\n",
      "File \u001b[1;32mc:\\Users\\Admin\\AppData\\Local\\Programs\\Python\\Python310\\lib\\site-packages\\langchain_core\\runnables\\base.py:1927\u001b[0m, in \u001b[0;36mRunnable._call_with_config\u001b[1;34m(self, func, input, config, run_type, serialized, **kwargs)\u001b[0m\n\u001b[0;32m   1923\u001b[0m     context \u001b[38;5;241m=\u001b[39m copy_context()\n\u001b[0;32m   1924\u001b[0m     context\u001b[38;5;241m.\u001b[39mrun(_set_config_context, child_config)\n\u001b[0;32m   1925\u001b[0m     output \u001b[38;5;241m=\u001b[39m cast(\n\u001b[0;32m   1926\u001b[0m         Output,\n\u001b[1;32m-> 1927\u001b[0m         context\u001b[38;5;241m.\u001b[39mrun(\n\u001b[0;32m   1928\u001b[0m             call_func_with_variable_args,  \u001b[38;5;66;03m# type: ignore[arg-type]\u001b[39;00m\n\u001b[0;32m   1929\u001b[0m             func,  \u001b[38;5;66;03m# type: ignore[arg-type]\u001b[39;00m\n\u001b[0;32m   1930\u001b[0m             \u001b[38;5;28minput\u001b[39m,  \u001b[38;5;66;03m# type: ignore[arg-type]\u001b[39;00m\n\u001b[0;32m   1931\u001b[0m             config,\n\u001b[0;32m   1932\u001b[0m             run_manager,\n\u001b[0;32m   1933\u001b[0m             \u001b[38;5;241m*\u001b[39m\u001b[38;5;241m*\u001b[39mkwargs,\n\u001b[0;32m   1934\u001b[0m         ),\n\u001b[0;32m   1935\u001b[0m     )\n\u001b[0;32m   1936\u001b[0m \u001b[38;5;28;01mexcept\u001b[39;00m \u001b[38;5;167;01mBaseException\u001b[39;00m \u001b[38;5;28;01mas\u001b[39;00m e:\n\u001b[0;32m   1937\u001b[0m     run_manager\u001b[38;5;241m.\u001b[39mon_chain_error(e)\n",
      "File \u001b[1;32mc:\\Users\\Admin\\AppData\\Local\\Programs\\Python\\Python310\\lib\\site-packages\\langchain_core\\runnables\\config.py:396\u001b[0m, in \u001b[0;36mcall_func_with_variable_args\u001b[1;34m(func, input, config, run_manager, **kwargs)\u001b[0m\n\u001b[0;32m    394\u001b[0m \u001b[38;5;28;01mif\u001b[39;00m run_manager \u001b[38;5;129;01mis\u001b[39;00m \u001b[38;5;129;01mnot\u001b[39;00m \u001b[38;5;28;01mNone\u001b[39;00m \u001b[38;5;129;01mand\u001b[39;00m accepts_run_manager(func):\n\u001b[0;32m    395\u001b[0m     kwargs[\u001b[38;5;124m\"\u001b[39m\u001b[38;5;124mrun_manager\u001b[39m\u001b[38;5;124m\"\u001b[39m] \u001b[38;5;241m=\u001b[39m run_manager\n\u001b[1;32m--> 396\u001b[0m \u001b[38;5;28;01mreturn\u001b[39;00m func(\u001b[38;5;28minput\u001b[39m, \u001b[38;5;241m*\u001b[39m\u001b[38;5;241m*\u001b[39mkwargs)\n",
      "File \u001b[1;32mc:\\Users\\Admin\\AppData\\Local\\Programs\\Python\\Python310\\lib\\site-packages\\langchain_core\\runnables\\base.py:4567\u001b[0m, in \u001b[0;36mRunnableLambda._invoke\u001b[1;34m(self, input, run_manager, config, **kwargs)\u001b[0m\n\u001b[0;32m   4565\u001b[0m                 output \u001b[38;5;241m=\u001b[39m chunk\n\u001b[0;32m   4566\u001b[0m \u001b[38;5;28;01melse\u001b[39;00m:\n\u001b[1;32m-> 4567\u001b[0m     output \u001b[38;5;241m=\u001b[39m call_func_with_variable_args(\n\u001b[0;32m   4568\u001b[0m         \u001b[38;5;28mself\u001b[39m\u001b[38;5;241m.\u001b[39mfunc, \u001b[38;5;28minput\u001b[39m, config, run_manager, \u001b[38;5;241m*\u001b[39m\u001b[38;5;241m*\u001b[39mkwargs\n\u001b[0;32m   4569\u001b[0m     )\n\u001b[0;32m   4570\u001b[0m \u001b[38;5;66;03m# If the output is a Runnable, invoke it\u001b[39;00m\n\u001b[0;32m   4571\u001b[0m \u001b[38;5;28;01mif\u001b[39;00m \u001b[38;5;28misinstance\u001b[39m(output, Runnable):\n",
      "File \u001b[1;32mc:\\Users\\Admin\\AppData\\Local\\Programs\\Python\\Python310\\lib\\site-packages\\langchain_core\\runnables\\config.py:396\u001b[0m, in \u001b[0;36mcall_func_with_variable_args\u001b[1;34m(func, input, config, run_manager, **kwargs)\u001b[0m\n\u001b[0;32m    394\u001b[0m \u001b[38;5;28;01mif\u001b[39;00m run_manager \u001b[38;5;129;01mis\u001b[39;00m \u001b[38;5;129;01mnot\u001b[39;00m \u001b[38;5;28;01mNone\u001b[39;00m \u001b[38;5;129;01mand\u001b[39;00m accepts_run_manager(func):\n\u001b[0;32m    395\u001b[0m     kwargs[\u001b[38;5;124m\"\u001b[39m\u001b[38;5;124mrun_manager\u001b[39m\u001b[38;5;124m\"\u001b[39m] \u001b[38;5;241m=\u001b[39m run_manager\n\u001b[1;32m--> 396\u001b[0m \u001b[38;5;28;01mreturn\u001b[39;00m func(\u001b[38;5;28minput\u001b[39m, \u001b[38;5;241m*\u001b[39m\u001b[38;5;241m*\u001b[39mkwargs)\n",
      "Cell \u001b[1;32mIn[8], line 8\u001b[0m, in \u001b[0;36mroute\u001b[1;34m(info)\u001b[0m\n\u001b[0;32m      6\u001b[0m     \u001b[38;5;28;01mreturn\u001b[39;00m medical_chain\u001b[38;5;241m.\u001b[39minvoke(query)  \u001b[38;5;66;03m# Pass the string directly\u001b[39;00m\n\u001b[0;32m      7\u001b[0m \u001b[38;5;28;01melif\u001b[39;00m \u001b[38;5;124m'\u001b[39m\u001b[38;5;124mEngineering\u001b[39m\u001b[38;5;124m'\u001b[39m \u001b[38;5;129;01min\u001b[39;00m topic:\n\u001b[1;32m----> 8\u001b[0m     \u001b[38;5;28;01mreturn\u001b[39;00m \u001b[43mEngineering_chain\u001b[49m\u001b[38;5;241;43m.\u001b[39;49m\u001b[43minvoke\u001b[49m\u001b[43m(\u001b[49m\u001b[43mquery\u001b[49m\u001b[43m)\u001b[49m  \u001b[38;5;66;03m# Pass the string directly\u001b[39;00m\n\u001b[0;32m      9\u001b[0m \u001b[38;5;28;01melse\u001b[39;00m:\n\u001b[0;32m     10\u001b[0m     \u001b[38;5;28;01mreturn\u001b[39;00m \u001b[38;5;124m\"\u001b[39m\u001b[38;5;124mNo matching topic found.\u001b[39m\u001b[38;5;124m\"\u001b[39m\n",
      "File \u001b[1;32mc:\\Users\\Admin\\AppData\\Local\\Programs\\Python\\Python310\\lib\\site-packages\\langchain_core\\runnables\\base.py:3024\u001b[0m, in \u001b[0;36mRunnableSequence.invoke\u001b[1;34m(self, input, config, **kwargs)\u001b[0m\n\u001b[0;32m   3022\u001b[0m             \u001b[38;5;28minput\u001b[39m \u001b[38;5;241m=\u001b[39m context\u001b[38;5;241m.\u001b[39mrun(step\u001b[38;5;241m.\u001b[39minvoke, \u001b[38;5;28minput\u001b[39m, config, \u001b[38;5;241m*\u001b[39m\u001b[38;5;241m*\u001b[39mkwargs)\n\u001b[0;32m   3023\u001b[0m         \u001b[38;5;28;01melse\u001b[39;00m:\n\u001b[1;32m-> 3024\u001b[0m             \u001b[38;5;28minput\u001b[39m \u001b[38;5;241m=\u001b[39m \u001b[43mcontext\u001b[49m\u001b[38;5;241;43m.\u001b[39;49m\u001b[43mrun\u001b[49m\u001b[43m(\u001b[49m\u001b[43mstep\u001b[49m\u001b[38;5;241;43m.\u001b[39;49m\u001b[43minvoke\u001b[49m\u001b[43m,\u001b[49m\u001b[43m \u001b[49m\u001b[38;5;28;43minput\u001b[39;49m\u001b[43m,\u001b[49m\u001b[43m \u001b[49m\u001b[43mconfig\u001b[49m\u001b[43m)\u001b[49m\n\u001b[0;32m   3025\u001b[0m \u001b[38;5;66;03m# finish the root run\u001b[39;00m\n\u001b[0;32m   3026\u001b[0m \u001b[38;5;28;01mexcept\u001b[39;00m \u001b[38;5;167;01mBaseException\u001b[39;00m \u001b[38;5;28;01mas\u001b[39;00m e:\n",
      "File \u001b[1;32mc:\\Users\\Admin\\AppData\\Local\\Programs\\Python\\Python310\\lib\\site-packages\\langchain_core\\output_parsers\\base.py:202\u001b[0m, in \u001b[0;36mBaseOutputParser.invoke\u001b[1;34m(self, input, config, **kwargs)\u001b[0m\n\u001b[0;32m    193\u001b[0m     \u001b[38;5;28;01mreturn\u001b[39;00m \u001b[38;5;28mself\u001b[39m\u001b[38;5;241m.\u001b[39m_call_with_config(\n\u001b[0;32m    194\u001b[0m         \u001b[38;5;28;01mlambda\u001b[39;00m inner_input: \u001b[38;5;28mself\u001b[39m\u001b[38;5;241m.\u001b[39mparse_result(\n\u001b[0;32m    195\u001b[0m             [ChatGeneration(message\u001b[38;5;241m=\u001b[39minner_input)]\n\u001b[1;32m   (...)\u001b[0m\n\u001b[0;32m    199\u001b[0m         run_type\u001b[38;5;241m=\u001b[39m\u001b[38;5;124m\"\u001b[39m\u001b[38;5;124mparser\u001b[39m\u001b[38;5;124m\"\u001b[39m,\n\u001b[0;32m    200\u001b[0m     )\n\u001b[0;32m    201\u001b[0m \u001b[38;5;28;01melse\u001b[39;00m:\n\u001b[1;32m--> 202\u001b[0m     \u001b[38;5;28;01mreturn\u001b[39;00m \u001b[38;5;28;43mself\u001b[39;49m\u001b[38;5;241;43m.\u001b[39;49m\u001b[43m_call_with_config\u001b[49m\u001b[43m(\u001b[49m\n\u001b[0;32m    203\u001b[0m \u001b[43m        \u001b[49m\u001b[38;5;28;43;01mlambda\u001b[39;49;00m\u001b[43m \u001b[49m\u001b[43minner_input\u001b[49m\u001b[43m:\u001b[49m\u001b[43m \u001b[49m\u001b[38;5;28;43mself\u001b[39;49m\u001b[38;5;241;43m.\u001b[39;49m\u001b[43mparse_result\u001b[49m\u001b[43m(\u001b[49m\u001b[43m[\u001b[49m\u001b[43mGeneration\u001b[49m\u001b[43m(\u001b[49m\u001b[43mtext\u001b[49m\u001b[38;5;241;43m=\u001b[39;49m\u001b[43minner_input\u001b[49m\u001b[43m)\u001b[49m\u001b[43m]\u001b[49m\u001b[43m)\u001b[49m\u001b[43m,\u001b[49m\n\u001b[0;32m    204\u001b[0m \u001b[43m        \u001b[49m\u001b[38;5;28;43minput\u001b[39;49m\u001b[43m,\u001b[49m\n\u001b[0;32m    205\u001b[0m \u001b[43m        \u001b[49m\u001b[43mconfig\u001b[49m\u001b[43m,\u001b[49m\n\u001b[0;32m    206\u001b[0m \u001b[43m        \u001b[49m\u001b[43mrun_type\u001b[49m\u001b[38;5;241;43m=\u001b[39;49m\u001b[38;5;124;43m\"\u001b[39;49m\u001b[38;5;124;43mparser\u001b[39;49m\u001b[38;5;124;43m\"\u001b[39;49m\u001b[43m,\u001b[49m\n\u001b[0;32m    207\u001b[0m \u001b[43m    \u001b[49m\u001b[43m)\u001b[49m\n",
      "File \u001b[1;32mc:\\Users\\Admin\\AppData\\Local\\Programs\\Python\\Python310\\lib\\site-packages\\langchain_core\\runnables\\base.py:1927\u001b[0m, in \u001b[0;36mRunnable._call_with_config\u001b[1;34m(self, func, input, config, run_type, serialized, **kwargs)\u001b[0m\n\u001b[0;32m   1923\u001b[0m     context \u001b[38;5;241m=\u001b[39m copy_context()\n\u001b[0;32m   1924\u001b[0m     context\u001b[38;5;241m.\u001b[39mrun(_set_config_context, child_config)\n\u001b[0;32m   1925\u001b[0m     output \u001b[38;5;241m=\u001b[39m cast(\n\u001b[0;32m   1926\u001b[0m         Output,\n\u001b[1;32m-> 1927\u001b[0m         context\u001b[38;5;241m.\u001b[39mrun(\n\u001b[0;32m   1928\u001b[0m             call_func_with_variable_args,  \u001b[38;5;66;03m# type: ignore[arg-type]\u001b[39;00m\n\u001b[0;32m   1929\u001b[0m             func,  \u001b[38;5;66;03m# type: ignore[arg-type]\u001b[39;00m\n\u001b[0;32m   1930\u001b[0m             \u001b[38;5;28minput\u001b[39m,  \u001b[38;5;66;03m# type: ignore[arg-type]\u001b[39;00m\n\u001b[0;32m   1931\u001b[0m             config,\n\u001b[0;32m   1932\u001b[0m             run_manager,\n\u001b[0;32m   1933\u001b[0m             \u001b[38;5;241m*\u001b[39m\u001b[38;5;241m*\u001b[39mkwargs,\n\u001b[0;32m   1934\u001b[0m         ),\n\u001b[0;32m   1935\u001b[0m     )\n\u001b[0;32m   1936\u001b[0m \u001b[38;5;28;01mexcept\u001b[39;00m \u001b[38;5;167;01mBaseException\u001b[39;00m \u001b[38;5;28;01mas\u001b[39;00m e:\n\u001b[0;32m   1937\u001b[0m     run_manager\u001b[38;5;241m.\u001b[39mon_chain_error(e)\n",
      "File \u001b[1;32mc:\\Users\\Admin\\AppData\\Local\\Programs\\Python\\Python310\\lib\\site-packages\\langchain_core\\runnables\\config.py:396\u001b[0m, in \u001b[0;36mcall_func_with_variable_args\u001b[1;34m(func, input, config, run_manager, **kwargs)\u001b[0m\n\u001b[0;32m    394\u001b[0m \u001b[38;5;28;01mif\u001b[39;00m run_manager \u001b[38;5;129;01mis\u001b[39;00m \u001b[38;5;129;01mnot\u001b[39;00m \u001b[38;5;28;01mNone\u001b[39;00m \u001b[38;5;129;01mand\u001b[39;00m accepts_run_manager(func):\n\u001b[0;32m    395\u001b[0m     kwargs[\u001b[38;5;124m\"\u001b[39m\u001b[38;5;124mrun_manager\u001b[39m\u001b[38;5;124m\"\u001b[39m] \u001b[38;5;241m=\u001b[39m run_manager\n\u001b[1;32m--> 396\u001b[0m \u001b[38;5;28;01mreturn\u001b[39;00m func(\u001b[38;5;28minput\u001b[39m, \u001b[38;5;241m*\u001b[39m\u001b[38;5;241m*\u001b[39mkwargs)\n",
      "File \u001b[1;32mc:\\Users\\Admin\\AppData\\Local\\Programs\\Python\\Python310\\lib\\site-packages\\langchain_core\\output_parsers\\base.py:203\u001b[0m, in \u001b[0;36mBaseOutputParser.invoke.<locals>.<lambda>\u001b[1;34m(inner_input)\u001b[0m\n\u001b[0;32m    193\u001b[0m     \u001b[38;5;28;01mreturn\u001b[39;00m \u001b[38;5;28mself\u001b[39m\u001b[38;5;241m.\u001b[39m_call_with_config(\n\u001b[0;32m    194\u001b[0m         \u001b[38;5;28;01mlambda\u001b[39;00m inner_input: \u001b[38;5;28mself\u001b[39m\u001b[38;5;241m.\u001b[39mparse_result(\n\u001b[0;32m    195\u001b[0m             [ChatGeneration(message\u001b[38;5;241m=\u001b[39minner_input)]\n\u001b[1;32m   (...)\u001b[0m\n\u001b[0;32m    199\u001b[0m         run_type\u001b[38;5;241m=\u001b[39m\u001b[38;5;124m\"\u001b[39m\u001b[38;5;124mparser\u001b[39m\u001b[38;5;124m\"\u001b[39m,\n\u001b[0;32m    200\u001b[0m     )\n\u001b[0;32m    201\u001b[0m \u001b[38;5;28;01melse\u001b[39;00m:\n\u001b[0;32m    202\u001b[0m     \u001b[38;5;28;01mreturn\u001b[39;00m \u001b[38;5;28mself\u001b[39m\u001b[38;5;241m.\u001b[39m_call_with_config(\n\u001b[1;32m--> 203\u001b[0m         \u001b[38;5;28;01mlambda\u001b[39;00m inner_input: \u001b[38;5;28mself\u001b[39m\u001b[38;5;241m.\u001b[39mparse_result([\u001b[43mGeneration\u001b[49m\u001b[43m(\u001b[49m\u001b[43mtext\u001b[49m\u001b[38;5;241;43m=\u001b[39;49m\u001b[43minner_input\u001b[49m\u001b[43m)\u001b[49m]),\n\u001b[0;32m    204\u001b[0m         \u001b[38;5;28minput\u001b[39m,\n\u001b[0;32m    205\u001b[0m         config,\n\u001b[0;32m    206\u001b[0m         run_type\u001b[38;5;241m=\u001b[39m\u001b[38;5;124m\"\u001b[39m\u001b[38;5;124mparser\u001b[39m\u001b[38;5;124m\"\u001b[39m,\n\u001b[0;32m    207\u001b[0m     )\n",
      "File \u001b[1;32mc:\\Users\\Admin\\AppData\\Local\\Programs\\Python\\Python310\\lib\\site-packages\\langchain_core\\load\\serializable.py:125\u001b[0m, in \u001b[0;36mSerializable.__init__\u001b[1;34m(self, *args, **kwargs)\u001b[0m\n\u001b[0;32m    123\u001b[0m \u001b[38;5;28;01mdef\u001b[39;00m \u001b[38;5;21m__init__\u001b[39m(\u001b[38;5;28mself\u001b[39m, \u001b[38;5;241m*\u001b[39margs: Any, \u001b[38;5;241m*\u001b[39m\u001b[38;5;241m*\u001b[39mkwargs: Any) \u001b[38;5;241m-\u001b[39m\u001b[38;5;241m>\u001b[39m \u001b[38;5;28;01mNone\u001b[39;00m:\n\u001b[0;32m    124\u001b[0m \u001b[38;5;250m    \u001b[39m\u001b[38;5;124;03m\"\"\"\"\"\"\u001b[39;00m\n\u001b[1;32m--> 125\u001b[0m     \u001b[38;5;28msuper\u001b[39m()\u001b[38;5;241m.\u001b[39m\u001b[38;5;21m__init__\u001b[39m(\u001b[38;5;241m*\u001b[39margs, \u001b[38;5;241m*\u001b[39m\u001b[38;5;241m*\u001b[39mkwargs)\n",
      "File \u001b[1;32mc:\\Users\\Admin\\AppData\\Local\\Programs\\Python\\Python310\\lib\\site-packages\\pydantic\\main.py:212\u001b[0m, in \u001b[0;36mBaseModel.__init__\u001b[1;34m(self, **data)\u001b[0m\n\u001b[0;32m    210\u001b[0m \u001b[38;5;66;03m# `__tracebackhide__` tells pytest and some other tools to omit this function from tracebacks\u001b[39;00m\n\u001b[0;32m    211\u001b[0m __tracebackhide__ \u001b[38;5;241m=\u001b[39m \u001b[38;5;28;01mTrue\u001b[39;00m\n\u001b[1;32m--> 212\u001b[0m validated_self \u001b[38;5;241m=\u001b[39m \u001b[38;5;28;43mself\u001b[39;49m\u001b[38;5;241;43m.\u001b[39;49m\u001b[43m__pydantic_validator__\u001b[49m\u001b[38;5;241;43m.\u001b[39;49m\u001b[43mvalidate_python\u001b[49m\u001b[43m(\u001b[49m\u001b[43mdata\u001b[49m\u001b[43m,\u001b[49m\u001b[43m \u001b[49m\u001b[43mself_instance\u001b[49m\u001b[38;5;241;43m=\u001b[39;49m\u001b[38;5;28;43mself\u001b[39;49m\u001b[43m)\u001b[49m\n\u001b[0;32m    213\u001b[0m \u001b[38;5;28;01mif\u001b[39;00m \u001b[38;5;28mself\u001b[39m \u001b[38;5;129;01mis\u001b[39;00m \u001b[38;5;129;01mnot\u001b[39;00m validated_self:\n\u001b[0;32m    214\u001b[0m     warnings\u001b[38;5;241m.\u001b[39mwarn(\n\u001b[0;32m    215\u001b[0m         \u001b[38;5;124m'\u001b[39m\u001b[38;5;124mA custom validator is returning a value other than `self`.\u001b[39m\u001b[38;5;130;01m\\n\u001b[39;00m\u001b[38;5;124m'\u001b[39m\n\u001b[0;32m    216\u001b[0m         \u001b[38;5;124m\"\u001b[39m\u001b[38;5;124mReturning anything other than `self` from a top level model validator isn\u001b[39m\u001b[38;5;124m'\u001b[39m\u001b[38;5;124mt supported when validating via `__init__`.\u001b[39m\u001b[38;5;130;01m\\n\u001b[39;00m\u001b[38;5;124m\"\u001b[39m\n\u001b[0;32m    217\u001b[0m         \u001b[38;5;124m'\u001b[39m\u001b[38;5;124mSee the `model_validator` docs (https://docs.pydantic.dev/latest/concepts/validators/#model-validators) for more details.\u001b[39m\u001b[38;5;124m'\u001b[39m,\n\u001b[0;32m    218\u001b[0m         category\u001b[38;5;241m=\u001b[39m\u001b[38;5;28;01mNone\u001b[39;00m,\n\u001b[0;32m    219\u001b[0m     )\n",
      "\u001b[1;31mValidationError\u001b[0m: 1 validation error for Generation\ntext\n  Input should be a valid string [type=string_type, input_value=ChatPromptValue(messages=... response_metadata={})]), input_type=ChatPromptValue]\n    For further information visit https://errors.pydantic.dev/2.9/v/string_type"
     ]
    }
   ],
   "source": [
    "# Create the full chain\n",
    "full_chain = {\n",
    "    'topic': classification_chain,\n",
    "    'query': lambda x: x['query']  \n",
    "} | RunnableLambda(route)           \n",
    "\n",
    "# Define the input question\n",
    "question = \"explain python programming.\"\n",
    "res = full_chain.invoke({'query': question})  # Use 'query' instead of 'question'\n",
    "print(res)"
   ]
  },
  {
   "cell_type": "code",
   "execution_count": 11,
   "metadata": {},
   "outputs": [],
   "source": [
    "# Create chain for medical\n",
    "medical_prompt = \"\"\"You are an expert in answering questions about medical information.\n",
    "                    Assist the user with their queries.\n",
    "                    Query: {query}\n",
    "                    \"\"\"\n",
    "medical_template = ChatPromptTemplate.from_template(medical_prompt)\n",
    "medical_chain = llm | medical_template | StrOutputParser()"
   ]
  },
  {
   "cell_type": "code",
   "execution_count": 12,
   "metadata": {},
   "outputs": [],
   "source": [
    "# Create chain for engineering\n",
    "Engineering_prompt = \"\"\"You are an expert in answering questions about engineering information.\n",
    "                        Assist the user with their queries.\n",
    "                        Query: {query}\n",
    "                        \"\"\"\n",
    "Engineering_template = ChatPromptTemplate.from_template(Engineering_prompt)\n",
    "Engineering_chain = llm | Engineering_template | StrOutputParser()"
   ]
  },
  {
   "cell_type": "code",
   "execution_count": 13,
   "metadata": {},
   "outputs": [],
   "source": [
    "# Define the classification prompt template\n",
    "classification_prompt = \"\"\"Given the user question below, classify it as either being about `Medical` or `Engineering`.\n",
    "                            Do not respond with more than one word.\n",
    "\n",
    "                            Query: {query}\n",
    "                            Classification:\n",
    "                            \"\"\"\n",
    "classification_template = ChatPromptTemplate.from_template(classification_prompt)\n",
    "classification_chain = classification_template | llm | StrOutputParser()\n"
   ]
  },
  {
   "cell_type": "code",
   "execution_count": 14,
   "metadata": {},
   "outputs": [],
   "source": [
    "from langchain_core.runnables import RunnableLambda"
   ]
  },
  {
   "cell_type": "code",
   "execution_count": 16,
   "metadata": {},
   "outputs": [],
   "source": [
    "# Define the route function\n",
    "def route(info):\n",
    "    topic = info['topic']\n",
    "    query = info['query']  # Extract the 'query' from the input\n",
    "    if 'Medical' in topic:\n",
    "        return medical_chain.invoke(query)  # Pass the string directly\n",
    "    elif 'Engineering' in topic:\n",
    "        return Engineering_chain.invoke(query)  # Pass the string directly\n",
    "    else:\n",
    "        return \"No matching topic found.\""
   ]
  },
  {
   "cell_type": "code",
   "execution_count": 17,
   "metadata": {},
   "outputs": [],
   "source": [
    "# Create the full chain\n",
    "full_chain = {\n",
    "    'topic': classification_chain,\n",
    "    'query': lambda x: x['query']  # Extract the 'query' from the input\n",
    "} | RunnableLambda(route)\n",
    "\n",
    "# Define the input question\n",
    "question = \"teach me C++ programs.\"\n",
    "res = full_chain.invoke({'query': question})  # Use 'query' instead of 'question'\n",
    "print(res)"
   ]
  }
 ],
 "metadata": {
  "kernelspec": {
   "display_name": "Python 3",
   "language": "python",
   "name": "python3"
  },
  "language_info": {
   "codemirror_mode": {
    "name": "ipython",
    "version": 3
   },
   "file_extension": ".py",
   "mimetype": "text/x-python",
   "name": "python",
   "nbconvert_exporter": "python",
   "pygments_lexer": "ipython3",
   "version": "3.10.11"
  }
 },
 "nbformat": 4,
 "nbformat_minor": 2
}
