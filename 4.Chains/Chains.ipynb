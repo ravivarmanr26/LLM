{
 "cells": [
  {
   "cell_type": "markdown",
   "metadata": {},
   "source": [
    "# Chains in LangChain\n",
    "\n",
    "Chains refer to sequences of calls—whether to a Language Model (LLM), a tool, or a data preprocessing step. The primary supported way to construct these chains is through the **LangChain Expression Language (LCEL)**.\n",
    "\n",
    "## Off-the-Shelf Chains\n",
    "\n",
    "While LCEL is excellent for constructing your chains, LangChain also provides off-the-shelf chains. There are two types of off-the-shelf chains supported by LangChain:\n",
    "\n",
    "1. **Chains Built with LCEL**: \n",
    "   - LangChain offers a higher-level constructor method for these chains. \n",
    "   - Under the hood, they are constructed using LCEL.\n",
    "\n",
    "2. **Legacy Chains**: \n",
    "   - These chains are constructed by subclassing from a legacy Chain class. \n",
    "   - Unlike LCEL chains, they do not use LCEL under the hood but are standalone classes.\n",
    "\n",
    "## Future Developments\n",
    "\n",
    "We are actively working on creating methods to generate LCEL versions of all chains for several reasons:\n",
    "\n",
    "- **Modifiability**: Chains constructed with LCEL allow for easy modification of their internals.\n",
    "- **Native Support**: These chains support streaming, asynchronous operations, and batch processing out of the box.\n",
    "- **Observability**: They automatically provide observability at each step of the chain.\n",
    "\n",
    "This page contains two lists:\n",
    "- A list of all LCEL chain constructors.\n",
    "- A list of all legacy Chains."
   ]
  },
  {
   "cell_type": "markdown",
   "metadata": {},
   "source": [
    "## Langchain Expression Language Basics"
   ]
  },
  {
   "cell_type": "markdown",
   "metadata": {},
   "source": [
    "-  LangChain Expression Language is that any two runnables can be \"chained\" together into sequences. \n",
    "- The output of the previous runnable's .invoke() call is passed as input to the next runnable.\n",
    "- This can be done using the pipe operator (|), or the more explicit .pipe() method, which does the same thing."
   ]
  },
  {
   "cell_type": "markdown",
   "metadata": {},
   "source": [
    "- Type of LCEL Chains\n",
    "    - SequentialChain\n",
    "    - Parallel Chain\n",
    "    - Router Chain\n",
    "    - Chain Runnables\n",
    "    - Custom Chain (Runnable Sequence)"
   ]
  },
  {
   "cell_type": "markdown",
   "metadata": {},
   "source": [
    "### Sequential LCEL Chain - LangChain Expression Language"
   ]
  },
  {
   "cell_type": "code",
   "execution_count": 1,
   "metadata": {},
   "outputs": [],
   "source": [
    "# from langchain.llms import OpenAI\n",
    "# from langchain.chains import LLMChain\n",
    "# from langchain.prompts import PromptTemplate\n",
    "# from langchain.prompts import ChatPromptTemplate\n",
    "# from langchain.chains import SimpleSequentialChain"
   ]
  },
  {
   "cell_type": "code",
   "execution_count": 2,
   "metadata": {},
   "outputs": [],
   "source": [
    "from langchain_core.messages import (\n",
    "                                    AIMessage,\n",
    "                                    HumanMessage,\n",
    "                                    SystemMessage,\n",
    "                                    ToolMessageChunk,\n",
    "                        \n",
    ")"
   ]
  },
  {
   "cell_type": "code",
   "execution_count": 3,
   "metadata": {},
   "outputs": [],
   "source": [
    "from langchain_ollama import ChatOllama\n",
    "from langchain_core.prompts import (\n",
    "                                        SystemMessagePromptTemplate,\n",
    "                                        HumanMessagePromptTemplate,\n",
    "                                        PromptTemplate,\n",
    "                                        ChatPromptTemplate\n",
    "                                    )"
   ]
  },
  {
   "cell_type": "code",
   "execution_count": 4,
   "metadata": {},
   "outputs": [
    {
     "data": {
      "text/plain": [
       "ChatOllama(model='llama3.2:1b', base_url='http://localhost:11434')"
      ]
     },
     "execution_count": 4,
     "metadata": {},
     "output_type": "execute_result"
    }
   ],
   "source": [
    "base_url = \"http://localhost:11434\"\n",
    "model = 'llama3.2:1b'\n",
    "\n",
    "llm = ChatOllama(base_url=base_url, model=model)\n",
    "llm"
   ]
  },
  {
   "cell_type": "code",
   "execution_count": 5,
   "metadata": {},
   "outputs": [],
   "source": [
    "system = SystemMessagePromptTemplate.from_template(\"You are expert the writing about {about} articles\")\n",
    "\n",
    "question = HumanMessagePromptTemplate.from_template(\"write a article about {Topics} in {points} points\")"
   ]
  },
  {
   "cell_type": "code",
   "execution_count": 6,
   "metadata": {},
   "outputs": [
    {
     "data": {
      "text/plain": [
       "SystemMessagePromptTemplate(prompt=PromptTemplate(input_variables=['about'], input_types={}, partial_variables={}, template='You are expert the writing about {about} articles'), additional_kwargs={})"
      ]
     },
     "execution_count": 6,
     "metadata": {},
     "output_type": "execute_result"
    }
   ],
   "source": [
    "system"
   ]
  },
  {
   "cell_type": "code",
   "execution_count": 7,
   "metadata": {},
   "outputs": [
    {
     "data": {
      "text/plain": [
       "ChatPromptTemplate(input_variables=['Topics', 'about', 'points'], input_types={}, partial_variables={}, messages=[SystemMessagePromptTemplate(prompt=PromptTemplate(input_variables=['about'], input_types={}, partial_variables={}, template='You are expert the writing about {about} articles'), additional_kwargs={}), HumanMessagePromptTemplate(prompt=PromptTemplate(input_variables=['Topics', 'points'], input_types={}, partial_variables={}, template='write a article about {Topics} in {points} points'), additional_kwargs={})])"
      ]
     },
     "execution_count": 7,
     "metadata": {},
     "output_type": "execute_result"
    }
   ],
   "source": [
    "messages = [system,question]\n",
    "template = ChatPromptTemplate(messages)\n",
    "template"
   ]
  },
  {
   "cell_type": "code",
   "execution_count": 8,
   "metadata": {},
   "outputs": [
    {
     "name": "stderr",
     "output_type": "stream",
     "text": [
      "c:\\Users\\Admin\\AppData\\Local\\Programs\\Python\\Python310\\lib\\site-packages\\langsmith\\client.py:354: LangSmithMissingAPIKeyWarning: API key must be provided when using hosted LangSmith API\n",
      "  warnings.warn(\n",
      "Failed to multipart ingest runs: langsmith.utils.LangSmithAuthError: Authentication failed for https://api.smith.langchain.com/runs/multipart. HTTPError('401 Client Error: Unauthorized for url: https://api.smith.langchain.com/runs/multipart', '{\"detail\":\"Invalid token\"}')trace=5f40254e-59a0-42e8-9938-70b80da18f0b,id=5f40254e-59a0-42e8-9938-70b80da18f0b; trace=5f40254e-59a0-42e8-9938-70b80da18f0b,id=d06cbd1d-8105-46b8-8788-7f84f5a4f866; trace=5f40254e-59a0-42e8-9938-70b80da18f0b,id=4d0c2a16-fa53-44ac-8aca-090f5bc39ae7\n"
     ]
    },
    {
     "name": "stdout",
     "output_type": "stream",
     "text": [
      "content=\"**The Rise of Smartphones: A Decade of Revolutionizing Communication and Beyond**\\n\\nIn just over two decades, smartphones have become an integral part of our daily lives. From basic mobile phones to the high-tech devices we use today, the smartphone has undergone a remarkable transformation, changing the way we communicate, work, play, and live.\\n\\nHere are five key points that summarize the evolution of smartphones:\\n\\n**1. The Early Days: 2007-2010**\\n\\nThe first smartphone was released by Nokia in 2007, called the Nokia N95. It had a built-in camera, GPS, and Wi-Fi connectivity, making it one of the most advanced mobile devices at the time. Apple's iPhone, released in 2007, marked a significant turning point for smartphones, introducing multi-touch interfaces and a user-friendly interface that would become synonymous with the brand.\\n\\n**2. The Rise of Android: 2010-2016**\\n\\nIn 2010, Google launched the Android operating system, which quickly gained popularity among device manufacturers. Over time, Samsung, HTC, and other companies developed their own Android-based devices, offering a range of choices for consumers. This competition drove innovation and pushed the boundaries of what was possible in smartphone technology.\\n\\n**3. The Smartphone Era Continues: 2016-Present**\\n\\nToday, smartphones are more powerful than ever, with advancements in processors, RAM, and storage. They also feature improved cameras, larger screens, and sleek designs that cater to diverse user preferences. Virtual assistants like Siri, Google Assistant, and Bixby have become an integral part of our daily interactions.\\n\\n**4. The Impact on Society: 2010-Present**\\n\\nSmartphones have revolutionized the way we live, work, and interact with each other. They enable social media sharing, online banking, and mobile commerce. However, they also raise concerns about privacy, addiction, and the spread of misinformation. As smartphones become more ubiquitous, it's essential to address these issues and ensure that their benefits are equitably distributed.\\n\\n**5. The Future of Smartphones: 2023 and Beyond**\\n\\nAs technology continues to advance, we can expect even more impressive features from smartphones, such as augmented reality capabilities, artificial intelligence-driven assistants, and advanced biometric security measures. The rise of foldable screens, 5G networks, and the Internet of Things (IoT) promises to further transform the smartphone ecosystem in the years to come.\\n\\nIn conclusion, the smartphone has come a long way since its inception, transforming the way we live, work, and interact with each other. As technology continues to evolve, it's essential to address the challenges and opportunities that arise from this incredible device.\" additional_kwargs={} response_metadata={'model': 'llama3.2:1b', 'created_at': '2024-12-20T05:56:53.8436513Z', 'done': True, 'done_reason': 'stop', 'total_duration': 53606609100, 'load_duration': 5469335700, 'prompt_eval_count': 45, 'prompt_eval_duration': 2588000000, 'eval_count': 544, 'eval_duration': 44260000000, 'message': Message(role='assistant', content='', images=None, tool_calls=None)} id='run-4d0c2a16-fa53-44ac-8aca-090f5bc39ae7-0' usage_metadata={'input_tokens': 45, 'output_tokens': 544, 'total_tokens': 589}\n"
     ]
    }
   ],
   "source": [
    "chain = template | llm\n",
    "response = chain.invoke({'about':'businees','Topics':'smart phone','points':'5'})\n",
    "print(response)"
   ]
  },
  {
   "cell_type": "code",
   "execution_count": 9,
   "metadata": {},
   "outputs": [
    {
     "name": "stdout",
     "output_type": "stream",
     "text": [
      "**The Rise of Smartphones: A Decade of Revolutionizing Communication and Beyond**\n",
      "\n",
      "In just over two decades, smartphones have become an integral part of our daily lives. From basic mobile phones to the high-tech devices we use today, the smartphone has undergone a remarkable transformation, changing the way we communicate, work, play, and live.\n",
      "\n",
      "Here are five key points that summarize the evolution of smartphones:\n",
      "\n",
      "**1. The Early Days: 2007-2010**\n",
      "\n",
      "The first smartphone was released by Nokia in 2007, called the Nokia N95. It had a built-in camera, GPS, and Wi-Fi connectivity, making it one of the most advanced mobile devices at the time. Apple's iPhone, released in 2007, marked a significant turning point for smartphones, introducing multi-touch interfaces and a user-friendly interface that would become synonymous with the brand.\n",
      "\n",
      "**2. The Rise of Android: 2010-2016**\n",
      "\n",
      "In 2010, Google launched the Android operating system, which quickly gained popularity among device manufacturers. Over time, Samsung, HTC, and other companies developed their own Android-based devices, offering a range of choices for consumers. This competition drove innovation and pushed the boundaries of what was possible in smartphone technology.\n",
      "\n",
      "**3. The Smartphone Era Continues: 2016-Present**\n",
      "\n",
      "Today, smartphones are more powerful than ever, with advancements in processors, RAM, and storage. They also feature improved cameras, larger screens, and sleek designs that cater to diverse user preferences. Virtual assistants like Siri, Google Assistant, and Bixby have become an integral part of our daily interactions.\n",
      "\n",
      "**4. The Impact on Society: 2010-Present**\n",
      "\n",
      "Smartphones have revolutionized the way we live, work, and interact with each other. They enable social media sharing, online banking, and mobile commerce. However, they also raise concerns about privacy, addiction, and the spread of misinformation. As smartphones become more ubiquitous, it's essential to address these issues and ensure that their benefits are equitably distributed.\n",
      "\n",
      "**5. The Future of Smartphones: 2023 and Beyond**\n",
      "\n",
      "As technology continues to advance, we can expect even more impressive features from smartphones, such as augmented reality capabilities, artificial intelligence-driven assistants, and advanced biometric security measures. The rise of foldable screens, 5G networks, and the Internet of Things (IoT) promises to further transform the smartphone ecosystem in the years to come.\n",
      "\n",
      "In conclusion, the smartphone has come a long way since its inception, transforming the way we live, work, and interact with each other. As technology continues to evolve, it's essential to address the challenges and opportunities that arise from this incredible device.\n"
     ]
    }
   ],
   "source": [
    "print(response.content)"
   ]
  },
  {
   "cell_type": "code",
   "execution_count": 10,
   "metadata": {},
   "outputs": [],
   "source": [
    "from langchain_core.output_parsers import StrOutputParser"
   ]
  },
  {
   "cell_type": "code",
   "execution_count": 11,
   "metadata": {},
   "outputs": [
    {
     "name": "stderr",
     "output_type": "stream",
     "text": [
      "Failed to multipart ingest runs: langsmith.utils.LangSmithAuthError: Authentication failed for https://api.smith.langchain.com/runs/multipart. HTTPError('401 Client Error: Unauthorized for url: https://api.smith.langchain.com/runs/multipart', '{\"detail\":\"Invalid token\"}')trace=5f40254e-59a0-42e8-9938-70b80da18f0b,id=5f40254e-59a0-42e8-9938-70b80da18f0b; trace=5f40254e-59a0-42e8-9938-70b80da18f0b,id=4d0c2a16-fa53-44ac-8aca-090f5bc39ae7\n",
      "Failed to multipart ingest runs: langsmith.utils.LangSmithAuthError: Authentication failed for https://api.smith.langchain.com/runs/multipart. HTTPError('401 Client Error: Unauthorized for url: https://api.smith.langchain.com/runs/multipart', '{\"detail\":\"Invalid token\"}')trace=99b5d7c5-3381-4f41-a008-b94206c61ae2,id=99b5d7c5-3381-4f41-a008-b94206c61ae2; trace=99b5d7c5-3381-4f41-a008-b94206c61ae2,id=3601cbf7-2da7-4d35-baf1-21ace3752330; trace=99b5d7c5-3381-4f41-a008-b94206c61ae2,id=db88d92e-b3ef-4397-90e8-704c5fcd39aa\n",
      "Failed to multipart ingest runs: langsmith.utils.LangSmithAuthError: Authentication failed for https://api.smith.langchain.com/runs/multipart. HTTPError('401 Client Error: Unauthorized for url: https://api.smith.langchain.com/runs/multipart', '{\"detail\":\"Invalid token\"}')trace=99b5d7c5-3381-4f41-a008-b94206c61ae2,id=32ae9891-6794-4bad-a28d-489d93d933d1; trace=99b5d7c5-3381-4f41-a008-b94206c61ae2,id=99b5d7c5-3381-4f41-a008-b94206c61ae2; trace=99b5d7c5-3381-4f41-a008-b94206c61ae2,id=db88d92e-b3ef-4397-90e8-704c5fcd39aa\n",
      "Failed to multipart ingest runs: langsmith.utils.LangSmithAuthError: Authentication failed for https://api.smith.langchain.com/runs/multipart. HTTPError('401 Client Error: Unauthorized for url: https://api.smith.langchain.com/runs/multipart', '{\"detail\":\"Invalid token\"}')trace=6325e759-4161-41ed-8386-5a876803f0c0,id=6325e759-4161-41ed-8386-5a876803f0c0; trace=6325e759-4161-41ed-8386-5a876803f0c0,id=caac5d4a-f413-4e5a-8611-94e69118c585\n",
      "Failed to multipart ingest runs: langsmith.utils.LangSmithAuthError: Authentication failed for https://api.smith.langchain.com/runs/multipart. HTTPError('401 Client Error: Unauthorized for url: https://api.smith.langchain.com/runs/multipart', '{\"detail\":\"Invalid token\"}')trace=08a96b7c-c4af-44eb-a93e-72922b9e62c7,id=08a96b7c-c4af-44eb-a93e-72922b9e62c7; trace=08a96b7c-c4af-44eb-a93e-72922b9e62c7,id=79759ee0-7b8f-4c05-9c24-0541b9891215; trace=6325e759-4161-41ed-8386-5a876803f0c0,id=6325e759-4161-41ed-8386-5a876803f0c0; trace=6325e759-4161-41ed-8386-5a876803f0c0,id=caac5d4a-f413-4e5a-8611-94e69118c585\n",
      "Failed to multipart ingest runs: langsmith.utils.LangSmithAuthError: Authentication failed for https://api.smith.langchain.com/runs/multipart. HTTPError('401 Client Error: Unauthorized for url: https://api.smith.langchain.com/runs/multipart', '{\"detail\":\"Invalid token\"}')trace=08a96b7c-c4af-44eb-a93e-72922b9e62c7,id=08a96b7c-c4af-44eb-a93e-72922b9e62c7; trace=08a96b7c-c4af-44eb-a93e-72922b9e62c7,id=79759ee0-7b8f-4c05-9c24-0541b9891215\n",
      "Failed to multipart ingest runs: langsmith.utils.LangSmithAuthError: Authentication failed for https://api.smith.langchain.com/runs/multipart. HTTPError('401 Client Error: Unauthorized for url: https://api.smith.langchain.com/runs/multipart', '{\"detail\":\"Invalid token\"}')trace=3c6cd414-1337-43d5-8223-bcc9f2d72b04,id=3c6cd414-1337-43d5-8223-bcc9f2d72b04; trace=3c6cd414-1337-43d5-8223-bcc9f2d72b04,id=6145db54-4360-4288-bf45-e2047c5cfd9a; trace=3c6cd414-1337-43d5-8223-bcc9f2d72b04,id=a83316c2-8d08-4893-86c0-db9bc0135090\n",
      "Failed to multipart ingest runs: langsmith.utils.LangSmithAuthError: Authentication failed for https://api.smith.langchain.com/runs/multipart. HTTPError('401 Client Error: Unauthorized for url: https://api.smith.langchain.com/runs/multipart', '{\"detail\":\"Invalid token\"}')trace=3c6cd414-1337-43d5-8223-bcc9f2d72b04,id=0c472ab1-3867-4a36-9f2c-af06cce84cc4; trace=3c6cd414-1337-43d5-8223-bcc9f2d72b04,id=23044b67-23da-425f-9254-4604015967dc; trace=3c6cd414-1337-43d5-8223-bcc9f2d72b04,id=6145db54-4360-4288-bf45-e2047c5cfd9a; trace=3c6cd414-1337-43d5-8223-bcc9f2d72b04,id=a83316c2-8d08-4893-86c0-db9bc0135090\n",
      "Failed to multipart ingest runs: langsmith.utils.LangSmithAuthError: Authentication failed for https://api.smith.langchain.com/runs/multipart. HTTPError('401 Client Error: Unauthorized for url: https://api.smith.langchain.com/runs/multipart', '{\"detail\":\"Invalid token\"}')trace=bb569dac-8a30-44d0-b7b6-4d06ad4f11f1,id=bb569dac-8a30-44d0-b7b6-4d06ad4f11f1; trace=bb569dac-8a30-44d0-b7b6-4d06ad4f11f1,id=847fc2e3-4570-4924-b92d-d9c2ef5b598d; trace=bb569dac-8a30-44d0-b7b6-4d06ad4f11f1,id=4a0e4fe8-ba48-424b-9546-323f156db9b1; trace=3c6cd414-1337-43d5-8223-bcc9f2d72b04,id=3c6cd414-1337-43d5-8223-bcc9f2d72b04; trace=3c6cd414-1337-43d5-8223-bcc9f2d72b04,id=0c472ab1-3867-4a36-9f2c-af06cce84cc4; trace=3c6cd414-1337-43d5-8223-bcc9f2d72b04,id=23044b67-23da-425f-9254-4604015967dc\n",
      "Failed to multipart ingest runs: langsmith.utils.LangSmithAuthError: Authentication failed for https://api.smith.langchain.com/runs/multipart. HTTPError('401 Client Error: Unauthorized for url: https://api.smith.langchain.com/runs/multipart', '{\"detail\":\"Invalid token\"}')trace=68b4e876-3dcd-4fc0-861c-65975749436f,id=68b4e876-3dcd-4fc0-861c-65975749436f; trace=68b4e876-3dcd-4fc0-861c-65975749436f,id=4804b3aa-a71b-469c-896f-3a3348af8017; trace=68b4e876-3dcd-4fc0-861c-65975749436f,id=63442794-178e-4b6e-989b-1daca8e28fbd; trace=bb569dac-8a30-44d0-b7b6-4d06ad4f11f1,id=bb569dac-8a30-44d0-b7b6-4d06ad4f11f1; trace=bb569dac-8a30-44d0-b7b6-4d06ad4f11f1,id=4a0e4fe8-ba48-424b-9546-323f156db9b1\n",
      "Failed to multipart ingest runs: langsmith.utils.LangSmithAuthError: Authentication failed for https://api.smith.langchain.com/runs/multipart. HTTPError('401 Client Error: Unauthorized for url: https://api.smith.langchain.com/runs/multipart', '{\"detail\":\"Invalid token\"}')trace=14e0c173-35cc-40fc-b51a-3805a96fc3dd,id=14e0c173-35cc-40fc-b51a-3805a96fc3dd; trace=14e0c173-35cc-40fc-b51a-3805a96fc3dd,id=82950d21-1ad3-47fc-a8ed-5c607c569a13; trace=14e0c173-35cc-40fc-b51a-3805a96fc3dd,id=f54dea4f-3c00-4bd0-8cbf-dab34396fec1; trace=68b4e876-3dcd-4fc0-861c-65975749436f,id=68b4e876-3dcd-4fc0-861c-65975749436f; trace=68b4e876-3dcd-4fc0-861c-65975749436f,id=63442794-178e-4b6e-989b-1daca8e28fbd\n",
      "Failed to multipart ingest runs: langsmith.utils.LangSmithAuthError: Authentication failed for https://api.smith.langchain.com/runs/multipart. HTTPError('401 Client Error: Unauthorized for url: https://api.smith.langchain.com/runs/multipart', '{\"detail\":\"Invalid token\"}')trace=14e0c173-35cc-40fc-b51a-3805a96fc3dd,id=cf11a4fc-f6a2-474d-869b-4bc90b23b945; trace=0050d4ff-6367-450e-9d55-9f3dafbd6a19,id=0050d4ff-6367-450e-9d55-9f3dafbd6a19; trace=0050d4ff-6367-450e-9d55-9f3dafbd6a19,id=01d7cfff-ab1d-40b5-b1b4-14e292560fec; trace=0050d4ff-6367-450e-9d55-9f3dafbd6a19,id=41298c8d-6dc8-4274-af66-b0ed1e507287; trace=0050d4ff-6367-450e-9d55-9f3dafbd6a19,id=3769d6c3-5dde-4c39-a14b-0f5b07d16bef; trace=0050d4ff-6367-450e-9d55-9f3dafbd6a19,id=a7056b8c-eab0-4a7f-8f7c-e89abed59476; trace=14e0c173-35cc-40fc-b51a-3805a96fc3dd,id=14e0c173-35cc-40fc-b51a-3805a96fc3dd; trace=14e0c173-35cc-40fc-b51a-3805a96fc3dd,id=f54dea4f-3c00-4bd0-8cbf-dab34396fec1\n",
      "Failed to multipart ingest runs: langsmith.utils.LangSmithAuthError: Authentication failed for https://api.smith.langchain.com/runs/multipart. HTTPError('401 Client Error: Unauthorized for url: https://api.smith.langchain.com/runs/multipart', '{\"detail\":\"Invalid token\"}')trace=0050d4ff-6367-450e-9d55-9f3dafbd6a19,id=8eecba26-1ab4-4749-a8e6-330a1937cea2; trace=0050d4ff-6367-450e-9d55-9f3dafbd6a19,id=c2513b0f-c688-4aca-9180-f91ab1c51b6c; trace=0050d4ff-6367-450e-9d55-9f3dafbd6a19,id=41298c8d-6dc8-4274-af66-b0ed1e507287; trace=0050d4ff-6367-450e-9d55-9f3dafbd6a19,id=3769d6c3-5dde-4c39-a14b-0f5b07d16bef; trace=0050d4ff-6367-450e-9d55-9f3dafbd6a19,id=01d7cfff-ab1d-40b5-b1b4-14e292560fec\n",
      "Failed to multipart ingest runs: langsmith.utils.LangSmithAuthError: Authentication failed for https://api.smith.langchain.com/runs/multipart. HTTPError('401 Client Error: Unauthorized for url: https://api.smith.langchain.com/runs/multipart', '{\"detail\":\"Invalid token\"}')trace=0050d4ff-6367-450e-9d55-9f3dafbd6a19,id=c8533965-849a-4544-8337-81dbaf52ee5f; trace=34131749-cf0e-4115-a141-83ac9729efdf,id=34131749-cf0e-4115-a141-83ac9729efdf; trace=34131749-cf0e-4115-a141-83ac9729efdf,id=400f3032-5a51-4d4d-b555-abc4e8c7e0cc; trace=34131749-cf0e-4115-a141-83ac9729efdf,id=9c179fa2-1d25-4e4c-b3bd-79a2f25385ec; trace=0050d4ff-6367-450e-9d55-9f3dafbd6a19,id=0050d4ff-6367-450e-9d55-9f3dafbd6a19; trace=0050d4ff-6367-450e-9d55-9f3dafbd6a19,id=8eecba26-1ab4-4749-a8e6-330a1937cea2\n",
      "Failed to multipart ingest runs: langsmith.utils.LangSmithAuthError: Authentication failed for https://api.smith.langchain.com/runs/multipart. HTTPError('401 Client Error: Unauthorized for url: https://api.smith.langchain.com/runs/multipart', '{\"detail\":\"Invalid token\"}')trace=34131749-cf0e-4115-a141-83ac9729efdf,id=aa079486-6375-451f-9793-69851d02a57d; trace=56b1eefa-2ea6-4374-9606-1f11aa9c5def,id=56b1eefa-2ea6-4374-9606-1f11aa9c5def; trace=56b1eefa-2ea6-4374-9606-1f11aa9c5def,id=3830bc80-2d56-45ac-bd47-78bcec4727e6; trace=56b1eefa-2ea6-4374-9606-1f11aa9c5def,id=32da7a7c-2199-4e62-b2ca-13ff24403e17; trace=34131749-cf0e-4115-a141-83ac9729efdf,id=34131749-cf0e-4115-a141-83ac9729efdf; trace=34131749-cf0e-4115-a141-83ac9729efdf,id=9c179fa2-1d25-4e4c-b3bd-79a2f25385ec\n",
      "Failed to multipart ingest runs: langsmith.utils.LangSmithAuthError: Authentication failed for https://api.smith.langchain.com/runs/multipart. HTTPError('401 Client Error: Unauthorized for url: https://api.smith.langchain.com/runs/multipart', '{\"detail\":\"Invalid token\"}')trace=56b1eefa-2ea6-4374-9606-1f11aa9c5def,id=963c87e8-becf-4919-b958-83439363caf6; trace=425a7ce9-c348-4430-8dcb-2553fdaa6d1c,id=425a7ce9-c348-4430-8dcb-2553fdaa6d1c; trace=425a7ce9-c348-4430-8dcb-2553fdaa6d1c,id=baf67db0-905d-41e1-a12e-7520156c6cd1; trace=425a7ce9-c348-4430-8dcb-2553fdaa6d1c,id=22483081-eced-4c2a-b37e-2379b67a97b4; trace=425a7ce9-c348-4430-8dcb-2553fdaa6d1c,id=a17a182b-4a74-4dfd-a6b6-3d039da4dee5; trace=425a7ce9-c348-4430-8dcb-2553fdaa6d1c,id=a68a3fdf-9f11-4fc0-a02a-3e14daf31e16; trace=425a7ce9-c348-4430-8dcb-2553fdaa6d1c,id=8cc5d348-9776-4020-b903-9ef3743f3e74; trace=425a7ce9-c348-4430-8dcb-2553fdaa6d1c,id=a0e3bdfa-8b96-4a4a-af76-f00c63626996; trace=56b1eefa-2ea6-4374-9606-1f11aa9c5def,id=56b1eefa-2ea6-4374-9606-1f11aa9c5def; trace=56b1eefa-2ea6-4374-9606-1f11aa9c5def,id=32da7a7c-2199-4e62-b2ca-13ff24403e17\n",
      "Failed to multipart ingest runs: langsmith.utils.LangSmithAuthError: Authentication failed for https://api.smith.langchain.com/runs/multipart. HTTPError('401 Client Error: Unauthorized for url: https://api.smith.langchain.com/runs/multipart', '{\"detail\":\"Invalid token\"}')trace=425a7ce9-c348-4430-8dcb-2553fdaa6d1c,id=82f6d2af-ef13-4ee2-9224-9586e701a629; trace=425a7ce9-c348-4430-8dcb-2553fdaa6d1c,id=a68a3fdf-9f11-4fc0-a02a-3e14daf31e16; trace=425a7ce9-c348-4430-8dcb-2553fdaa6d1c,id=a0e3bdfa-8b96-4a4a-af76-f00c63626996\n",
      "Failed to multipart ingest runs: langsmith.utils.LangSmithAuthError: Authentication failed for https://api.smith.langchain.com/runs/multipart. HTTPError('401 Client Error: Unauthorized for url: https://api.smith.langchain.com/runs/multipart', '{\"detail\":\"Invalid token\"}')trace=425a7ce9-c348-4430-8dcb-2553fdaa6d1c,id=b354b37a-4628-48f0-ad6a-5e3897256f8b; trace=425a7ce9-c348-4430-8dcb-2553fdaa6d1c,id=baf67db0-905d-41e1-a12e-7520156c6cd1; trace=425a7ce9-c348-4430-8dcb-2553fdaa6d1c,id=a17a182b-4a74-4dfd-a6b6-3d039da4dee5; trace=425a7ce9-c348-4430-8dcb-2553fdaa6d1c,id=425a7ce9-c348-4430-8dcb-2553fdaa6d1c\n",
      "Failed to multipart ingest runs: langsmith.utils.LangSmithAuthError: Authentication failed for https://api.smith.langchain.com/runs/multipart. HTTPError('401 Client Error: Unauthorized for url: https://api.smith.langchain.com/runs/multipart', '{\"detail\":\"Invalid token\"}')trace=db31acd5-fc6d-4252-a099-55419f101134,id=db31acd5-fc6d-4252-a099-55419f101134; trace=db31acd5-fc6d-4252-a099-55419f101134,id=ca1b8140-d753-4d8d-ad66-be4ac1f33659\n",
      "Failed to multipart ingest runs: langsmith.utils.LangSmithAuthError: Authentication failed for https://api.smith.langchain.com/runs/multipart. HTTPError('401 Client Error: Unauthorized for url: https://api.smith.langchain.com/runs/multipart', '{\"detail\":\"Invalid token\"}')trace=db31acd5-fc6d-4252-a099-55419f101134,id=951a6667-8c6f-4065-8919-c85b668cb911; trace=db31acd5-fc6d-4252-a099-55419f101134,id=5fcdf425-cdba-41d1-b170-601126f18051; trace=db31acd5-fc6d-4252-a099-55419f101134,id=ca1b8140-d753-4d8d-ad66-be4ac1f33659; trace=db31acd5-fc6d-4252-a099-55419f101134,id=db31acd5-fc6d-4252-a099-55419f101134\n",
      "Failed to multipart ingest runs: langsmith.utils.LangSmithAuthError: Authentication failed for https://api.smith.langchain.com/runs/multipart. HTTPError('401 Client Error: Unauthorized for url: https://api.smith.langchain.com/runs/multipart', '{\"detail\":\"Invalid token\"}')trace=dd22db13-9900-4331-b946-44b586c785bb,id=dd22db13-9900-4331-b946-44b586c785bb; trace=dd22db13-9900-4331-b946-44b586c785bb,id=1dec23ce-7e14-4695-a3c9-555c7fa017a6\n",
      "Failed to multipart ingest runs: langsmith.utils.LangSmithAuthError: Authentication failed for https://api.smith.langchain.com/runs/multipart. HTTPError('401 Client Error: Unauthorized for url: https://api.smith.langchain.com/runs/multipart', '{\"detail\":\"Invalid token\"}')trace=dd22db13-9900-4331-b946-44b586c785bb,id=5bc42927-ca8f-4216-9258-625337c820f2; trace=dd22db13-9900-4331-b946-44b586c785bb,id=d818c2dc-75cc-4cfa-bb09-e0cbc2c90688; trace=dd22db13-9900-4331-b946-44b586c785bb,id=1dec23ce-7e14-4695-a3c9-555c7fa017a6; trace=dd22db13-9900-4331-b946-44b586c785bb,id=dd22db13-9900-4331-b946-44b586c785bb\n",
      "Failed to multipart ingest runs: langsmith.utils.LangSmithAuthError: Authentication failed for https://api.smith.langchain.com/runs/multipart. HTTPError('401 Client Error: Unauthorized for url: https://api.smith.langchain.com/runs/multipart', '{\"detail\":\"Invalid token\"}')trace=00351dcc-2504-46a2-9ebe-88c6d8e8120f,id=00351dcc-2504-46a2-9ebe-88c6d8e8120f; trace=00351dcc-2504-46a2-9ebe-88c6d8e8120f,id=f34e3370-eca5-4378-bc47-635d98f6cc88; trace=00351dcc-2504-46a2-9ebe-88c6d8e8120f,id=41524826-aae7-4b89-a562-20f057ce0e77\n",
      "Failed to multipart ingest runs: langsmith.utils.LangSmithAuthError: Authentication failed for https://api.smith.langchain.com/runs/multipart. HTTPError('401 Client Error: Unauthorized for url: https://api.smith.langchain.com/runs/multipart', '{\"detail\":\"Invalid token\"}')trace=00351dcc-2504-46a2-9ebe-88c6d8e8120f,id=ae745f10-cd20-4fd3-9ecf-6e2102474f31; trace=00351dcc-2504-46a2-9ebe-88c6d8e8120f,id=00351dcc-2504-46a2-9ebe-88c6d8e8120f; trace=00351dcc-2504-46a2-9ebe-88c6d8e8120f,id=41524826-aae7-4b89-a562-20f057ce0e77\n",
      "Failed to multipart ingest runs: langsmith.utils.LangSmithAuthError: Authentication failed for https://api.smith.langchain.com/runs/multipart. HTTPError('401 Client Error: Unauthorized for url: https://api.smith.langchain.com/runs/multipart', '{\"detail\":\"Invalid token\"}')trace=7400a146-7c2f-4421-93b8-fc1f79c46fa3,id=7400a146-7c2f-4421-93b8-fc1f79c46fa3; trace=7400a146-7c2f-4421-93b8-fc1f79c46fa3,id=58762571-8a7d-4afe-944a-db45421ca542; trace=7400a146-7c2f-4421-93b8-fc1f79c46fa3,id=54efd753-9054-4f7b-9c0d-11f159d1e2e3; trace=7400a146-7c2f-4421-93b8-fc1f79c46fa3,id=c9054d64-f89a-4ff4-93c3-a2be0fa2a858; trace=7400a146-7c2f-4421-93b8-fc1f79c46fa3,id=06362a8e-33f8-4481-8213-8c8fad26f08a; trace=7400a146-7c2f-4421-93b8-fc1f79c46fa3,id=2bc63689-aaaf-4f31-9083-d1f1b75ac54f\n",
      "Failed to multipart ingest runs: langsmith.utils.LangSmithAuthError: Authentication failed for https://api.smith.langchain.com/runs/multipart. HTTPError('401 Client Error: Unauthorized for url: https://api.smith.langchain.com/runs/multipart', '{\"detail\":\"Invalid token\"}')trace=7400a146-7c2f-4421-93b8-fc1f79c46fa3,id=9c6fdc1b-3544-44ab-a9c5-e2dec7260a42; trace=7400a146-7c2f-4421-93b8-fc1f79c46fa3,id=62158e22-2b77-4ad2-8e11-1495ba1788f5; trace=7400a146-7c2f-4421-93b8-fc1f79c46fa3,id=54efd753-9054-4f7b-9c0d-11f159d1e2e3; trace=7400a146-7c2f-4421-93b8-fc1f79c46fa3,id=06362a8e-33f8-4481-8213-8c8fad26f08a; trace=7400a146-7c2f-4421-93b8-fc1f79c46fa3,id=7400a146-7c2f-4421-93b8-fc1f79c46fa3; trace=7400a146-7c2f-4421-93b8-fc1f79c46fa3,id=58762571-8a7d-4afe-944a-db45421ca542\n",
      "Failed to multipart ingest runs: langsmith.utils.LangSmithAuthError: Authentication failed for https://api.smith.langchain.com/runs/multipart. HTTPError('401 Client Error: Unauthorized for url: https://api.smith.langchain.com/runs/multipart', '{\"detail\":\"Invalid token\"}')trace=03a477f7-20d7-4c63-a71f-616e12565bc1,id=03a477f7-20d7-4c63-a71f-616e12565bc1; trace=03a477f7-20d7-4c63-a71f-616e12565bc1,id=23ac329f-c385-45d8-b1fa-90fb645c9758; trace=03a477f7-20d7-4c63-a71f-616e12565bc1,id=6ed6e49a-05e9-4e43-bfd1-59030de81e2a\n",
      "Failed to multipart ingest runs: langsmith.utils.LangSmithAuthError: Authentication failed for https://api.smith.langchain.com/runs/multipart. HTTPError('401 Client Error: Unauthorized for url: https://api.smith.langchain.com/runs/multipart', '{\"detail\":\"Invalid token\"}')trace=03a477f7-20d7-4c63-a71f-616e12565bc1,id=a1ffc166-a9f3-4628-963b-0bbf299ffc93; trace=03a477f7-20d7-4c63-a71f-616e12565bc1,id=03a477f7-20d7-4c63-a71f-616e12565bc1; trace=03a477f7-20d7-4c63-a71f-616e12565bc1,id=6ed6e49a-05e9-4e43-bfd1-59030de81e2a\n",
      "Failed to multipart ingest runs: langsmith.utils.LangSmithAuthError: Authentication failed for https://api.smith.langchain.com/runs/multipart. HTTPError('401 Client Error: Unauthorized for url: https://api.smith.langchain.com/runs/multipart', '{\"detail\":\"Invalid token\"}')trace=4d2a4720-a0da-49ee-8d03-b5b1a3cc3122,id=4d2a4720-a0da-49ee-8d03-b5b1a3cc3122; trace=4d2a4720-a0da-49ee-8d03-b5b1a3cc3122,id=2598e341-c6e7-46ff-9151-f003fc2035fa; trace=4d2a4720-a0da-49ee-8d03-b5b1a3cc3122,id=c486e37a-8cb1-4944-b27a-0d563778a19b; trace=4d2a4720-a0da-49ee-8d03-b5b1a3cc3122,id=a8dd4966-1600-4d7e-9740-2e99537b3264; trace=4d2a4720-a0da-49ee-8d03-b5b1a3cc3122,id=bc38bdfa-24a3-41a1-9c88-f7c2091573cd; trace=4d2a4720-a0da-49ee-8d03-b5b1a3cc3122,id=6b112131-095c-44ea-8b18-ab804abbbf75\n",
      "Failed to multipart ingest runs: langsmith.utils.LangSmithAuthError: Authentication failed for https://api.smith.langchain.com/runs/multipart. HTTPError('401 Client Error: Unauthorized for url: https://api.smith.langchain.com/runs/multipart', '{\"detail\":\"Invalid token\"}')trace=4d2a4720-a0da-49ee-8d03-b5b1a3cc3122,id=0f1e7ff8-5993-40b7-a061-44eee0ee2bb1; trace=4d2a4720-a0da-49ee-8d03-b5b1a3cc3122,id=46c7f568-7e40-4221-9870-86535377d45e; trace=4d2a4720-a0da-49ee-8d03-b5b1a3cc3122,id=7481e6cc-575a-4994-88ef-17db3a938e73; trace=4d2a4720-a0da-49ee-8d03-b5b1a3cc3122,id=c486e37a-8cb1-4944-b27a-0d563778a19b; trace=4d2a4720-a0da-49ee-8d03-b5b1a3cc3122,id=a8dd4966-1600-4d7e-9740-2e99537b3264; trace=4d2a4720-a0da-49ee-8d03-b5b1a3cc3122,id=2598e341-c6e7-46ff-9151-f003fc2035fa; trace=4d2a4720-a0da-49ee-8d03-b5b1a3cc3122,id=4d2a4720-a0da-49ee-8d03-b5b1a3cc3122\n",
      "Failed to multipart ingest runs: langsmith.utils.LangSmithAuthError: Authentication failed for https://api.smith.langchain.com/runs/multipart. HTTPError('401 Client Error: Unauthorized for url: https://api.smith.langchain.com/runs/multipart', '{\"detail\":\"Invalid token\"}')trace=2fbc4120-bb3d-4f34-ab6e-cd46c56b20ce,id=2fbc4120-bb3d-4f34-ab6e-cd46c56b20ce; trace=2fbc4120-bb3d-4f34-ab6e-cd46c56b20ce,id=d6e23ec6-3e6e-452f-949e-674a7c87d362; trace=2fbc4120-bb3d-4f34-ab6e-cd46c56b20ce,id=c4c090ad-8171-4e47-98e4-29b100867963; trace=2fbc4120-bb3d-4f34-ab6e-cd46c56b20ce,id=ad116d5d-6149-4f79-b941-76f15a12cf02; trace=2fbc4120-bb3d-4f34-ab6e-cd46c56b20ce,id=bb1fe43e-528b-4a18-ab07-3541ffc150c9; trace=2fbc4120-bb3d-4f34-ab6e-cd46c56b20ce,id=a552f281-4746-41a9-813d-05dfbd128479\n",
      "Failed to multipart ingest runs: langsmith.utils.LangSmithAuthError: Authentication failed for https://api.smith.langchain.com/runs/multipart. HTTPError('401 Client Error: Unauthorized for url: https://api.smith.langchain.com/runs/multipart', '{\"detail\":\"Invalid token\"}')trace=2fbc4120-bb3d-4f34-ab6e-cd46c56b20ce,id=dd350c7b-fa8e-4dda-8cbc-58cf621e24e5; trace=2fbc4120-bb3d-4f34-ab6e-cd46c56b20ce,id=c4c090ad-8171-4e47-98e4-29b100867963; trace=2fbc4120-bb3d-4f34-ab6e-cd46c56b20ce,id=bb1fe43e-528b-4a18-ab07-3541ffc150c9; trace=2fbc4120-bb3d-4f34-ab6e-cd46c56b20ce,id=d6e23ec6-3e6e-452f-949e-674a7c87d362; trace=2fbc4120-bb3d-4f34-ab6e-cd46c56b20ce,id=2fbc4120-bb3d-4f34-ab6e-cd46c56b20ce\n",
      "Failed to multipart ingest runs: langsmith.utils.LangSmithAuthError: Authentication failed for https://api.smith.langchain.com/runs/multipart. HTTPError('401 Client Error: Unauthorized for url: https://api.smith.langchain.com/runs/multipart', '{\"detail\":\"Invalid token\"}')trace=244c2312-11e0-403b-adef-03cc671173ea,id=244c2312-11e0-403b-adef-03cc671173ea; trace=244c2312-11e0-403b-adef-03cc671173ea,id=c97ad7bc-66cb-45bc-b867-7617a6d51f17; trace=244c2312-11e0-403b-adef-03cc671173ea,id=9fcc3ada-402e-4613-b319-a02cbad12d86; trace=244c2312-11e0-403b-adef-03cc671173ea,id=ea43ff45-d9d1-4395-8745-56115612edbd; trace=244c2312-11e0-403b-adef-03cc671173ea,id=bd1eb5ed-fcbd-4364-aab4-3bdddfa8388e; trace=244c2312-11e0-403b-adef-03cc671173ea,id=53d0ebc3-dd1c-4e54-8cf5-9e14ce5d9a7d\n",
      "Failed to multipart ingest runs: langsmith.utils.LangSmithAuthError: Authentication failed for https://api.smith.langchain.com/runs/multipart. HTTPError('401 Client Error: Unauthorized for url: https://api.smith.langchain.com/runs/multipart', '{\"detail\":\"Invalid token\"}')trace=244c2312-11e0-403b-adef-03cc671173ea,id=15ea031a-76c1-4b15-a5ab-3364d51d5c8f; trace=244c2312-11e0-403b-adef-03cc671173ea,id=9fcc3ada-402e-4613-b319-a02cbad12d86; trace=244c2312-11e0-403b-adef-03cc671173ea,id=bd1eb5ed-fcbd-4364-aab4-3bdddfa8388e; trace=244c2312-11e0-403b-adef-03cc671173ea,id=c97ad7bc-66cb-45bc-b867-7617a6d51f17; trace=244c2312-11e0-403b-adef-03cc671173ea,id=244c2312-11e0-403b-adef-03cc671173ea\n",
      "Failed to multipart ingest runs: langsmith.utils.LangSmithAuthError: Authentication failed for https://api.smith.langchain.com/runs/multipart. HTTPError('401 Client Error: Unauthorized for url: https://api.smith.langchain.com/runs/multipart', '{\"detail\":\"Invalid token\"}')trace=c56f97ce-443c-453c-8bff-0191d16c21c8,id=c56f97ce-443c-453c-8bff-0191d16c21c8; trace=c56f97ce-443c-453c-8bff-0191d16c21c8,id=cb081aed-dc00-434d-b9a8-74938ac6bc53; trace=c56f97ce-443c-453c-8bff-0191d16c21c8,id=df7221ab-c090-4044-ab9c-b6e74cf10c29; trace=c56f97ce-443c-453c-8bff-0191d16c21c8,id=3c218efc-4cab-46ce-95ef-78e62619af37; trace=c56f97ce-443c-453c-8bff-0191d16c21c8,id=f755b78f-6032-41c1-b4fc-3c59b3e86f2e; trace=c56f97ce-443c-453c-8bff-0191d16c21c8,id=8c1a4a8c-48e8-48c3-9bb5-1dcae1969159\n",
      "Failed to multipart ingest runs: langsmith.utils.LangSmithAuthError: Authentication failed for https://api.smith.langchain.com/runs/multipart. HTTPError('401 Client Error: Unauthorized for url: https://api.smith.langchain.com/runs/multipart', '{\"detail\":\"Invalid token\"}')trace=c56f97ce-443c-453c-8bff-0191d16c21c8,id=c8d69c5e-152c-4552-b0ee-1348449fdef6; trace=c56f97ce-443c-453c-8bff-0191d16c21c8,id=44beb3dd-8e6a-498e-8114-537012a53e94; trace=c56f97ce-443c-453c-8bff-0191d16c21c8,id=1e724ea2-b3b5-474d-aa26-82c189da3884; trace=c56f97ce-443c-453c-8bff-0191d16c21c8,id=df7221ab-c090-4044-ab9c-b6e74cf10c29; trace=c56f97ce-443c-453c-8bff-0191d16c21c8,id=f755b78f-6032-41c1-b4fc-3c59b3e86f2e; trace=c56f97ce-443c-453c-8bff-0191d16c21c8,id=cb081aed-dc00-434d-b9a8-74938ac6bc53; trace=c56f97ce-443c-453c-8bff-0191d16c21c8,id=c56f97ce-443c-453c-8bff-0191d16c21c8\n",
      "Failed to multipart ingest runs: langsmith.utils.LangSmithAuthError: Authentication failed for https://api.smith.langchain.com/runs/multipart. HTTPError('401 Client Error: Unauthorized for url: https://api.smith.langchain.com/runs/multipart', '{\"detail\":\"Invalid token\"}')trace=b25e8347-70ae-4a8b-961d-1804400aa6e9,id=b25e8347-70ae-4a8b-961d-1804400aa6e9; trace=b25e8347-70ae-4a8b-961d-1804400aa6e9,id=d24c9bd5-d368-477b-a8d5-9acecf182fbc; trace=b25e8347-70ae-4a8b-961d-1804400aa6e9,id=7351145e-57c7-4605-88c1-bd436c6a37a1\n",
      "Failed to multipart ingest runs: langsmith.utils.LangSmithAuthError: Authentication failed for https://api.smith.langchain.com/runs/multipart. HTTPError('401 Client Error: Unauthorized for url: https://api.smith.langchain.com/runs/multipart', '{\"detail\":\"Invalid token\"}')trace=b25e8347-70ae-4a8b-961d-1804400aa6e9,id=9308e15d-1ad3-4369-b1c1-1224cfdc9988; trace=b25e8347-70ae-4a8b-961d-1804400aa6e9,id=b25e8347-70ae-4a8b-961d-1804400aa6e9; trace=b25e8347-70ae-4a8b-961d-1804400aa6e9,id=7351145e-57c7-4605-88c1-bd436c6a37a1\n",
      "Failed to multipart ingest runs: langsmith.utils.LangSmithAuthError: Authentication failed for https://api.smith.langchain.com/runs/multipart. HTTPError('401 Client Error: Unauthorized for url: https://api.smith.langchain.com/runs/multipart', '{\"detail\":\"Invalid token\"}')trace=96e87a88-084b-4b03-8212-8974958b4dd4,id=96e87a88-084b-4b03-8212-8974958b4dd4; trace=96e87a88-084b-4b03-8212-8974958b4dd4,id=b30e4b30-1a24-451a-b880-9d3f33f10b3f; trace=96e87a88-084b-4b03-8212-8974958b4dd4,id=e47c02e5-7b2e-481d-8b2d-4ebe853e5507; trace=96e87a88-084b-4b03-8212-8974958b4dd4,id=a78ca302-1bf9-4e23-bf0e-7984ee1a2a67; trace=96e87a88-084b-4b03-8212-8974958b4dd4,id=ac538fcb-033c-489c-93a3-2c79ab65385a; trace=96e87a88-084b-4b03-8212-8974958b4dd4,id=bbfba138-9517-41e2-a186-eb67588024a0\n",
      "Failed to multipart ingest runs: langsmith.utils.LangSmithAuthError: Authentication failed for https://api.smith.langchain.com/runs/multipart. HTTPError('401 Client Error: Unauthorized for url: https://api.smith.langchain.com/runs/multipart', '{\"detail\":\"Invalid token\"}')trace=96e87a88-084b-4b03-8212-8974958b4dd4,id=ff696c81-1903-417c-ba9b-76fc0d865a95; trace=96e87a88-084b-4b03-8212-8974958b4dd4,id=a46f76fe-a5fd-44fe-86d9-c907bc85f194; trace=96e87a88-084b-4b03-8212-8974958b4dd4,id=42e5e2dd-b7d8-4d3b-8fd3-3a46b910ff16; trace=96e87a88-084b-4b03-8212-8974958b4dd4,id=e47c02e5-7b2e-481d-8b2d-4ebe853e5507; trace=96e87a88-084b-4b03-8212-8974958b4dd4,id=ac538fcb-033c-489c-93a3-2c79ab65385a; trace=96e87a88-084b-4b03-8212-8974958b4dd4,id=b30e4b30-1a24-451a-b880-9d3f33f10b3f; trace=96e87a88-084b-4b03-8212-8974958b4dd4,id=96e87a88-084b-4b03-8212-8974958b4dd4\n",
      "Failed to multipart ingest runs: langsmith.utils.LangSmithAuthError: Authentication failed for https://api.smith.langchain.com/runs/multipart. HTTPError('401 Client Error: Unauthorized for url: https://api.smith.langchain.com/runs/multipart', '{\"detail\":\"Invalid token\"}')trace=35aaea11-efcb-4629-842b-72a9ebcab4d7,id=35aaea11-efcb-4629-842b-72a9ebcab4d7; trace=35aaea11-efcb-4629-842b-72a9ebcab4d7,id=cd0c6710-523d-4a1d-991a-39043e95e33d; trace=35aaea11-efcb-4629-842b-72a9ebcab4d7,id=5f0d6dcc-0d0f-47db-8bf1-956200ec764a; trace=35aaea11-efcb-4629-842b-72a9ebcab4d7,id=1e150b4d-1a67-4430-a483-e5e3ed60008a; trace=35aaea11-efcb-4629-842b-72a9ebcab4d7,id=9f6fffac-da77-4d9a-a48f-b6737073f22e; trace=35aaea11-efcb-4629-842b-72a9ebcab4d7,id=5e8e74ab-8312-47b4-8178-390484affd83\n",
      "Failed to multipart ingest runs: langsmith.utils.LangSmithAuthError: Authentication failed for https://api.smith.langchain.com/runs/multipart. HTTPError('401 Client Error: Unauthorized for url: https://api.smith.langchain.com/runs/multipart', '{\"detail\":\"Invalid token\"}')trace=35aaea11-efcb-4629-842b-72a9ebcab4d7,id=7150fcb0-baf2-4cd9-b1cb-2faa73a4bede; trace=35aaea11-efcb-4629-842b-72a9ebcab4d7,id=eb3e11e8-ee54-40ac-80c1-84967a39bad9; trace=35aaea11-efcb-4629-842b-72a9ebcab4d7,id=51416fd7-20c6-4b81-9b54-53fc19c352f6; trace=35aaea11-efcb-4629-842b-72a9ebcab4d7,id=62140088-9b20-4420-8069-1f9b4901d640; trace=35aaea11-efcb-4629-842b-72a9ebcab4d7,id=dc9cbb0e-f473-42de-a879-dbb4e2e872e3; trace=35aaea11-efcb-4629-842b-72a9ebcab4d7,id=5f0d6dcc-0d0f-47db-8bf1-956200ec764a; trace=35aaea11-efcb-4629-842b-72a9ebcab4d7,id=1e150b4d-1a67-4430-a483-e5e3ed60008a; trace=35aaea11-efcb-4629-842b-72a9ebcab4d7,id=cd0c6710-523d-4a1d-991a-39043e95e33d\n",
      "Failed to multipart ingest runs: langsmith.utils.LangSmithAuthError: Authentication failed for https://api.smith.langchain.com/runs/multipart. HTTPError('401 Client Error: Unauthorized for url: https://api.smith.langchain.com/runs/multipart', '{\"detail\":\"Invalid token\"}')trace=35aaea11-efcb-4629-842b-72a9ebcab4d7,id=00571eaf-eb1f-4880-b4eb-505ca53a7af9; trace=35aaea11-efcb-4629-842b-72a9ebcab4d7,id=35aaea11-efcb-4629-842b-72a9ebcab4d7; trace=35aaea11-efcb-4629-842b-72a9ebcab4d7,id=eb3e11e8-ee54-40ac-80c1-84967a39bad9; trace=35aaea11-efcb-4629-842b-72a9ebcab4d7,id=51416fd7-20c6-4b81-9b54-53fc19c352f6; trace=35aaea11-efcb-4629-842b-72a9ebcab4d7,id=dc9cbb0e-f473-42de-a879-dbb4e2e872e3\n",
      "Failed to multipart ingest runs: langsmith.utils.LangSmithAuthError: Authentication failed for https://api.smith.langchain.com/runs/multipart. HTTPError('401 Client Error: Unauthorized for url: https://api.smith.langchain.com/runs/multipart', '{\"detail\":\"Invalid token\"}')trace=0b97d266-211d-41b3-a758-f5feeed3fac4,id=0b97d266-211d-41b3-a758-f5feeed3fac4; trace=0b97d266-211d-41b3-a758-f5feeed3fac4,id=27bf364e-9008-4dbd-9ba4-d262ccf6662c; trace=0b97d266-211d-41b3-a758-f5feeed3fac4,id=878d91b3-b8e7-4366-9bb9-3555c12364fe; trace=0b97d266-211d-41b3-a758-f5feeed3fac4,id=40eef3b1-1c97-4634-9bf7-83f174bb9f8d; trace=0b97d266-211d-41b3-a758-f5feeed3fac4,id=e31185be-3b02-4068-9611-dd6cbc56a0d8; trace=0b97d266-211d-41b3-a758-f5feeed3fac4,id=469646c9-633e-47f9-8d06-4080d4140dea\n",
      "Failed to multipart ingest runs: langsmith.utils.LangSmithAuthError: Authentication failed for https://api.smith.langchain.com/runs/multipart. HTTPError('401 Client Error: Unauthorized for url: https://api.smith.langchain.com/runs/multipart', '{\"detail\":\"Invalid token\"}')trace=0b97d266-211d-41b3-a758-f5feeed3fac4,id=7d5bc1ac-edca-48e7-8abe-f705ae5e54a5; trace=0b97d266-211d-41b3-a758-f5feeed3fac4,id=24defe54-984b-469e-87fe-5f1b207e4aa8; trace=0b97d266-211d-41b3-a758-f5feeed3fac4,id=e5fb801e-6832-4265-b28f-47eaa19bfc3b; trace=0b97d266-211d-41b3-a758-f5feeed3fac4,id=739d2ee8-3056-4a83-80e7-5c434293b9d6; trace=0b97d266-211d-41b3-a758-f5feeed3fac4,id=cc22efd9-3145-4d39-a630-db9187bcf943; trace=0b97d266-211d-41b3-a758-f5feeed3fac4,id=878d91b3-b8e7-4366-9bb9-3555c12364fe; trace=0b97d266-211d-41b3-a758-f5feeed3fac4,id=e31185be-3b02-4068-9611-dd6cbc56a0d8; trace=0b97d266-211d-41b3-a758-f5feeed3fac4,id=27bf364e-9008-4dbd-9ba4-d262ccf6662c\n",
      "Failed to multipart ingest runs: langsmith.utils.LangSmithAuthError: Authentication failed for https://api.smith.langchain.com/runs/multipart. HTTPError('401 Client Error: Unauthorized for url: https://api.smith.langchain.com/runs/multipart', '{\"detail\":\"Invalid token\"}')trace=0b97d266-211d-41b3-a758-f5feeed3fac4,id=9ebabb23-9f5f-445d-9ef6-30f1fe37659c; trace=0b97d266-211d-41b3-a758-f5feeed3fac4,id=0b97d266-211d-41b3-a758-f5feeed3fac4; trace=0b97d266-211d-41b3-a758-f5feeed3fac4,id=24defe54-984b-469e-87fe-5f1b207e4aa8; trace=0b97d266-211d-41b3-a758-f5feeed3fac4,id=e5fb801e-6832-4265-b28f-47eaa19bfc3b; trace=0b97d266-211d-41b3-a758-f5feeed3fac4,id=cc22efd9-3145-4d39-a630-db9187bcf943\n",
      "Failed to multipart ingest runs: langsmith.utils.LangSmithAuthError: Authentication failed for https://api.smith.langchain.com/runs/multipart. HTTPError('401 Client Error: Unauthorized for url: https://api.smith.langchain.com/runs/multipart', '{\"detail\":\"Invalid token\"}')trace=6258e68f-2312-4ede-aed6-f2366722beee,id=6258e68f-2312-4ede-aed6-f2366722beee; trace=6258e68f-2312-4ede-aed6-f2366722beee,id=ab141af3-3892-4975-ae64-a38356ed3675; trace=6258e68f-2312-4ede-aed6-f2366722beee,id=461751b9-5dff-4927-8e72-06198d83b254\n",
      "Failed to multipart ingest runs: langsmith.utils.LangSmithAuthError: Authentication failed for https://api.smith.langchain.com/runs/multipart. HTTPError('401 Client Error: Unauthorized for url: https://api.smith.langchain.com/runs/multipart', '{\"detail\":\"Invalid token\"}')trace=6258e68f-2312-4ede-aed6-f2366722beee,id=3ba219cb-33aa-4028-8ecc-3d8c0e2bdef3; trace=6258e68f-2312-4ede-aed6-f2366722beee,id=6258e68f-2312-4ede-aed6-f2366722beee; trace=6258e68f-2312-4ede-aed6-f2366722beee,id=461751b9-5dff-4927-8e72-06198d83b254\n",
      "Failed to multipart ingest runs: langsmith.utils.LangSmithAuthError: Authentication failed for https://api.smith.langchain.com/runs/multipart. HTTPError('401 Client Error: Unauthorized for url: https://api.smith.langchain.com/runs/multipart', '{\"detail\":\"Invalid token\"}')trace=623701dc-2473-478c-ab43-454f983669dc,id=623701dc-2473-478c-ab43-454f983669dc; trace=623701dc-2473-478c-ab43-454f983669dc,id=0afabe0f-347f-493d-898d-9d58c6a08d62; trace=623701dc-2473-478c-ab43-454f983669dc,id=ab262eab-441e-4b91-afa9-483e7affb379\n",
      "Failed to multipart ingest runs: langsmith.utils.LangSmithAuthError: Authentication failed for https://api.smith.langchain.com/runs/multipart. HTTPError('401 Client Error: Unauthorized for url: https://api.smith.langchain.com/runs/multipart', '{\"detail\":\"Invalid token\"}')trace=623701dc-2473-478c-ab43-454f983669dc,id=26ee79c8-e8d1-441b-b9ce-2ed1789d6e6e; trace=623701dc-2473-478c-ab43-454f983669dc,id=623701dc-2473-478c-ab43-454f983669dc; trace=623701dc-2473-478c-ab43-454f983669dc,id=0afabe0f-347f-493d-898d-9d58c6a08d62\n",
      "Failed to multipart ingest runs: langsmith.utils.LangSmithAuthError: Authentication failed for https://api.smith.langchain.com/runs/multipart. HTTPError('401 Client Error: Unauthorized for url: https://api.smith.langchain.com/runs/multipart', '{\"detail\":\"Invalid token\"}')trace=e8ce8c4c-b298-44a9-8ed0-9c1d731c2940,id=e8ce8c4c-b298-44a9-8ed0-9c1d731c2940; trace=e8ce8c4c-b298-44a9-8ed0-9c1d731c2940,id=f6ff4d67-b701-4ddc-a40b-3fb1ac1cc57f; trace=e8ce8c4c-b298-44a9-8ed0-9c1d731c2940,id=979b33b5-60e5-489e-9ec9-5e53469c3069; trace=e8ce8c4c-b298-44a9-8ed0-9c1d731c2940,id=15e66b6f-8764-4f2f-b478-da6641881049; trace=e8ce8c4c-b298-44a9-8ed0-9c1d731c2940,id=42602e53-b201-4b19-ae67-4ce60149e6eb; trace=e8ce8c4c-b298-44a9-8ed0-9c1d731c2940,id=093966c5-7947-499a-bd45-673d851cc6ee\n",
      "Failed to multipart ingest runs: langsmith.utils.LangSmithAuthError: Authentication failed for https://api.smith.langchain.com/runs/multipart. HTTPError('401 Client Error: Unauthorized for url: https://api.smith.langchain.com/runs/multipart', '{\"detail\":\"Invalid token\"}')trace=e8ce8c4c-b298-44a9-8ed0-9c1d731c2940,id=178663e4-eed2-4257-a107-fa4cd2de2342; trace=e8ce8c4c-b298-44a9-8ed0-9c1d731c2940,id=4e3121d3-53bd-4a0e-8f61-d8e1a250c171; trace=e8ce8c4c-b298-44a9-8ed0-9c1d731c2940,id=7fcd2a67-5e81-43c0-98ea-49c205972555; trace=e8ce8c4c-b298-44a9-8ed0-9c1d731c2940,id=c7729f8f-70a5-4e1d-8410-0cb4a5fb1eb0; trace=e8ce8c4c-b298-44a9-8ed0-9c1d731c2940,id=e07272cf-051f-4e91-badf-10c8d2a35051; trace=e8ce8c4c-b298-44a9-8ed0-9c1d731c2940,id=979b33b5-60e5-489e-9ec9-5e53469c3069; trace=e8ce8c4c-b298-44a9-8ed0-9c1d731c2940,id=42602e53-b201-4b19-ae67-4ce60149e6eb; trace=e8ce8c4c-b298-44a9-8ed0-9c1d731c2940,id=f6ff4d67-b701-4ddc-a40b-3fb1ac1cc57f\n",
      "Failed to multipart ingest runs: langsmith.utils.LangSmithAuthError: Authentication failed for https://api.smith.langchain.com/runs/multipart. HTTPError('401 Client Error: Unauthorized for url: https://api.smith.langchain.com/runs/multipart', '{\"detail\":\"Invalid token\"}')trace=e8ce8c4c-b298-44a9-8ed0-9c1d731c2940,id=9efa99c7-e22d-4246-be24-7b2c978c2db5; trace=655dab11-276d-4eda-b33f-429450d3ee86,id=655dab11-276d-4eda-b33f-429450d3ee86; trace=655dab11-276d-4eda-b33f-429450d3ee86,id=9c8771c8-75b6-4398-b4e0-77dee11e60d4; trace=655dab11-276d-4eda-b33f-429450d3ee86,id=f37d56f2-55d5-465c-acd6-06610955149d; trace=e8ce8c4c-b298-44a9-8ed0-9c1d731c2940,id=e8ce8c4c-b298-44a9-8ed0-9c1d731c2940; trace=e8ce8c4c-b298-44a9-8ed0-9c1d731c2940,id=4e3121d3-53bd-4a0e-8f61-d8e1a250c171; trace=e8ce8c4c-b298-44a9-8ed0-9c1d731c2940,id=7fcd2a67-5e81-43c0-98ea-49c205972555; trace=e8ce8c4c-b298-44a9-8ed0-9c1d731c2940,id=c7729f8f-70a5-4e1d-8410-0cb4a5fb1eb0\n",
      "Failed to multipart ingest runs: langsmith.utils.LangSmithAuthError: Authentication failed for https://api.smith.langchain.com/runs/multipart. HTTPError('401 Client Error: Unauthorized for url: https://api.smith.langchain.com/runs/multipart', '{\"detail\":\"Invalid token\"}')trace=655dab11-276d-4eda-b33f-429450d3ee86,id=76ccee5c-0663-423e-9b11-bf72f2be3149; trace=655dab11-276d-4eda-b33f-429450d3ee86,id=655dab11-276d-4eda-b33f-429450d3ee86; trace=655dab11-276d-4eda-b33f-429450d3ee86,id=f37d56f2-55d5-465c-acd6-06610955149d\n",
      "Failed to multipart ingest runs: langsmith.utils.LangSmithAuthError: Authentication failed for https://api.smith.langchain.com/runs/multipart. HTTPError('401 Client Error: Unauthorized for url: https://api.smith.langchain.com/runs/multipart', '{\"detail\":\"Invalid token\"}')trace=1ceec794-396a-4551-96a3-3d3df37d1a7f,id=1ceec794-396a-4551-96a3-3d3df37d1a7f; trace=1ceec794-396a-4551-96a3-3d3df37d1a7f,id=2fa9da8f-a434-44aa-b1b6-ab20fbf25c9b; trace=1ceec794-396a-4551-96a3-3d3df37d1a7f,id=ee70f8f0-4268-4497-8646-a5ba6c978f97; trace=1ceec794-396a-4551-96a3-3d3df37d1a7f,id=31a4c04c-7050-4f64-ab89-d0cb7e681413; trace=1ceec794-396a-4551-96a3-3d3df37d1a7f,id=82b1df0d-2270-46f4-8e05-3db8be395e81; trace=1ceec794-396a-4551-96a3-3d3df37d1a7f,id=66570667-a6e9-4a78-a45c-3cf9c3ef5f2d\n",
      "Failed to multipart ingest runs: langsmith.utils.LangSmithAuthError: Authentication failed for https://api.smith.langchain.com/runs/multipart. HTTPError('401 Client Error: Unauthorized for url: https://api.smith.langchain.com/runs/multipart', '{\"detail\":\"Invalid token\"}')trace=1ceec794-396a-4551-96a3-3d3df37d1a7f,id=29baf1d1-26bb-447a-b721-f1dc92b9ae30; trace=1ceec794-396a-4551-96a3-3d3df37d1a7f,id=47744609-daea-4c6a-9819-a0ae1dd0b1a5; trace=1ceec794-396a-4551-96a3-3d3df37d1a7f,id=03d98859-d9e7-41e3-b43d-a9c28416a456; trace=1ceec794-396a-4551-96a3-3d3df37d1a7f,id=009dabb1-ade2-4fee-b997-e681c9f2c65b; trace=1ceec794-396a-4551-96a3-3d3df37d1a7f,id=65d5aa06-d888-4717-bfb6-d6d14cac467b; trace=1ceec794-396a-4551-96a3-3d3df37d1a7f,id=82b1df0d-2270-46f4-8e05-3db8be395e81; trace=1ceec794-396a-4551-96a3-3d3df37d1a7f,id=ee70f8f0-4268-4497-8646-a5ba6c978f97; trace=1ceec794-396a-4551-96a3-3d3df37d1a7f,id=2fa9da8f-a434-44aa-b1b6-ab20fbf25c9b\n",
      "Failed to multipart ingest runs: langsmith.utils.LangSmithAuthError: Authentication failed for https://api.smith.langchain.com/runs/multipart. HTTPError('401 Client Error: Unauthorized for url: https://api.smith.langchain.com/runs/multipart', '{\"detail\":\"Invalid token\"}')trace=1ceec794-396a-4551-96a3-3d3df37d1a7f,id=a67e994f-0250-48e4-a6cc-072f0415b1a7; trace=1ceec794-396a-4551-96a3-3d3df37d1a7f,id=1ceec794-396a-4551-96a3-3d3df37d1a7f; trace=1ceec794-396a-4551-96a3-3d3df37d1a7f,id=47744609-daea-4c6a-9819-a0ae1dd0b1a5; trace=1ceec794-396a-4551-96a3-3d3df37d1a7f,id=03d98859-d9e7-41e3-b43d-a9c28416a456; trace=1ceec794-396a-4551-96a3-3d3df37d1a7f,id=65d5aa06-d888-4717-bfb6-d6d14cac467b\n",
      "Failed to multipart ingest runs: langsmith.utils.LangSmithAuthError: Authentication failed for https://api.smith.langchain.com/runs/multipart. HTTPError('401 Client Error: Unauthorized for url: https://api.smith.langchain.com/runs/multipart', '{\"detail\":\"Invalid token\"}')trace=93bf52ac-a855-4639-99cf-8e0da9223183,id=93bf52ac-a855-4639-99cf-8e0da9223183; trace=93bf52ac-a855-4639-99cf-8e0da9223183,id=a12f06aa-835e-448c-9ae6-0b9e4c43a8e3; trace=93bf52ac-a855-4639-99cf-8e0da9223183,id=8e7b7e48-249d-442f-85fb-8a2af98f55a3; trace=93bf52ac-a855-4639-99cf-8e0da9223183,id=623e8741-d10f-4163-b7b5-c3bdb434fa4a; trace=93bf52ac-a855-4639-99cf-8e0da9223183,id=334dbd4f-50e6-408d-986d-ea82d03ede3b; trace=93bf52ac-a855-4639-99cf-8e0da9223183,id=7e91337f-6d10-4706-a143-d7eea3168b8c\n",
      "Failed to multipart ingest runs: langsmith.utils.LangSmithAuthError: Authentication failed for https://api.smith.langchain.com/runs/multipart. HTTPError('401 Client Error: Unauthorized for url: https://api.smith.langchain.com/runs/multipart', '{\"detail\":\"Invalid token\"}')trace=93bf52ac-a855-4639-99cf-8e0da9223183,id=d71cab7f-8907-4835-afcf-60173ee3a5ca; trace=93bf52ac-a855-4639-99cf-8e0da9223183,id=6876e30b-ab0c-43a9-9506-82d1579377e7; trace=93bf52ac-a855-4639-99cf-8e0da9223183,id=f4e3bc95-13b2-4fc0-85ea-28f81b1ec77e; trace=93bf52ac-a855-4639-99cf-8e0da9223183,id=28ed0e97-57a9-4b71-ac20-c4a7c592947a; trace=93bf52ac-a855-4639-99cf-8e0da9223183,id=547eaf8d-c79f-42cf-8cb2-db442a925e02; trace=93bf52ac-a855-4639-99cf-8e0da9223183,id=8e7b7e48-249d-442f-85fb-8a2af98f55a3; trace=93bf52ac-a855-4639-99cf-8e0da9223183,id=334dbd4f-50e6-408d-986d-ea82d03ede3b; trace=93bf52ac-a855-4639-99cf-8e0da9223183,id=a12f06aa-835e-448c-9ae6-0b9e4c43a8e3\n",
      "Failed to multipart ingest runs: langsmith.utils.LangSmithAuthError: Authentication failed for https://api.smith.langchain.com/runs/multipart. HTTPError('401 Client Error: Unauthorized for url: https://api.smith.langchain.com/runs/multipart', '{\"detail\":\"Invalid token\"}')trace=93bf52ac-a855-4639-99cf-8e0da9223183,id=b63e1369-1418-4fcc-8ecb-953dde64ea62; trace=93bf52ac-a855-4639-99cf-8e0da9223183,id=93bf52ac-a855-4639-99cf-8e0da9223183; trace=93bf52ac-a855-4639-99cf-8e0da9223183,id=6876e30b-ab0c-43a9-9506-82d1579377e7; trace=93bf52ac-a855-4639-99cf-8e0da9223183,id=f4e3bc95-13b2-4fc0-85ea-28f81b1ec77e; trace=93bf52ac-a855-4639-99cf-8e0da9223183,id=28ed0e97-57a9-4b71-ac20-c4a7c592947a\n",
      "Failed to multipart ingest runs: langsmith.utils.LangSmithAuthError: Authentication failed for https://api.smith.langchain.com/runs/multipart. HTTPError('401 Client Error: Unauthorized for url: https://api.smith.langchain.com/runs/multipart', '{\"detail\":\"Invalid token\"}')trace=fdda3b6f-0848-4c15-8a9b-d99b67bf0046,id=fdda3b6f-0848-4c15-8a9b-d99b67bf0046; trace=fdda3b6f-0848-4c15-8a9b-d99b67bf0046,id=469f5cf4-aefe-4047-b32a-b3c59d47c080; trace=fdda3b6f-0848-4c15-8a9b-d99b67bf0046,id=25f3a7e1-9dba-4996-9715-f6478d7b2c37; trace=fdda3b6f-0848-4c15-8a9b-d99b67bf0046,id=76aaebfb-bd4d-485f-80fb-ba4109742387; trace=fdda3b6f-0848-4c15-8a9b-d99b67bf0046,id=bf46f42d-636e-4a7c-a138-1cefdec85f9c; trace=fdda3b6f-0848-4c15-8a9b-d99b67bf0046,id=afd713f1-0e74-46f6-bd65-e33e45832029\n",
      "Failed to multipart ingest runs: langsmith.utils.LangSmithAuthError: Authentication failed for https://api.smith.langchain.com/runs/multipart. HTTPError('401 Client Error: Unauthorized for url: https://api.smith.langchain.com/runs/multipart', '{\"detail\":\"Invalid token\"}')trace=fdda3b6f-0848-4c15-8a9b-d99b67bf0046,id=e24c80c4-2170-4ad3-bb9d-3f84a9fd2fe5; trace=fdda3b6f-0848-4c15-8a9b-d99b67bf0046,id=7e026ea1-f62c-4dd6-83fd-1a9d3148ff1a; trace=fdda3b6f-0848-4c15-8a9b-d99b67bf0046,id=b9e4050e-4dfd-49a3-b9ad-f85067ca66c6; trace=fdda3b6f-0848-4c15-8a9b-d99b67bf0046,id=d9ff0007-4c51-4e7e-8730-4f5c28f91373; trace=fdda3b6f-0848-4c15-8a9b-d99b67bf0046,id=fce2dca8-b5e6-4164-8811-d34a4b518a5e; trace=fdda3b6f-0848-4c15-8a9b-d99b67bf0046,id=25f3a7e1-9dba-4996-9715-f6478d7b2c37; trace=fdda3b6f-0848-4c15-8a9b-d99b67bf0046,id=bf46f42d-636e-4a7c-a138-1cefdec85f9c; trace=fdda3b6f-0848-4c15-8a9b-d99b67bf0046,id=469f5cf4-aefe-4047-b32a-b3c59d47c080\n",
      "Failed to multipart ingest runs: langsmith.utils.LangSmithAuthError: Authentication failed for https://api.smith.langchain.com/runs/multipart. HTTPError('401 Client Error: Unauthorized for url: https://api.smith.langchain.com/runs/multipart', '{\"detail\":\"Invalid token\"}')trace=fdda3b6f-0848-4c15-8a9b-d99b67bf0046,id=123f9a49-c0b0-44e5-ad10-e1fcdc5e4ab4; trace=fdda3b6f-0848-4c15-8a9b-d99b67bf0046,id=fdda3b6f-0848-4c15-8a9b-d99b67bf0046; trace=fdda3b6f-0848-4c15-8a9b-d99b67bf0046,id=7e026ea1-f62c-4dd6-83fd-1a9d3148ff1a; trace=fdda3b6f-0848-4c15-8a9b-d99b67bf0046,id=b9e4050e-4dfd-49a3-b9ad-f85067ca66c6; trace=fdda3b6f-0848-4c15-8a9b-d99b67bf0046,id=fce2dca8-b5e6-4164-8811-d34a4b518a5e\n",
      "Failed to multipart ingest runs: langsmith.utils.LangSmithAuthError: Authentication failed for https://api.smith.langchain.com/runs/multipart. HTTPError('401 Client Error: Unauthorized for url: https://api.smith.langchain.com/runs/multipart', '{\"detail\":\"Invalid token\"}')trace=c26bad61-0ae5-4b97-8323-f1eb40be260c,id=c26bad61-0ae5-4b97-8323-f1eb40be260c; trace=c26bad61-0ae5-4b97-8323-f1eb40be260c,id=8c381f7a-5e4c-4f84-a338-cf302ae44bfa; trace=c26bad61-0ae5-4b97-8323-f1eb40be260c,id=03569458-13ce-457f-ad9f-377de4a61a04; trace=c26bad61-0ae5-4b97-8323-f1eb40be260c,id=30236620-2f38-4367-aaad-68097dcccc6a; trace=c26bad61-0ae5-4b97-8323-f1eb40be260c,id=77df45de-8dc8-4bf8-99ca-b0bec45e2748; trace=c26bad61-0ae5-4b97-8323-f1eb40be260c,id=a968baf0-e824-4528-98e9-872afd4d8fbe\n",
      "Failed to multipart ingest runs: langsmith.utils.LangSmithAuthError: Authentication failed for https://api.smith.langchain.com/runs/multipart. HTTPError('401 Client Error: Unauthorized for url: https://api.smith.langchain.com/runs/multipart', '{\"detail\":\"Invalid token\"}')trace=c26bad61-0ae5-4b97-8323-f1eb40be260c,id=8adb843c-809e-4923-9aa9-3602c999e038; trace=c26bad61-0ae5-4b97-8323-f1eb40be260c,id=ea30de29-7d6c-436c-a4b6-933f9b0f183b; trace=c26bad61-0ae5-4b97-8323-f1eb40be260c,id=2f6fdc39-2671-4e77-b7b9-1e47db688673; trace=c26bad61-0ae5-4b97-8323-f1eb40be260c,id=3be8c639-f23c-48d5-912e-73ded0e4e29a; trace=c26bad61-0ae5-4b97-8323-f1eb40be260c,id=21adec0e-7208-4757-9d47-093513ecd764; trace=c26bad61-0ae5-4b97-8323-f1eb40be260c,id=03569458-13ce-457f-ad9f-377de4a61a04; trace=c26bad61-0ae5-4b97-8323-f1eb40be260c,id=77df45de-8dc8-4bf8-99ca-b0bec45e2748; trace=c26bad61-0ae5-4b97-8323-f1eb40be260c,id=8c381f7a-5e4c-4f84-a338-cf302ae44bfa\n",
      "Failed to multipart ingest runs: langsmith.utils.LangSmithAuthError: Authentication failed for https://api.smith.langchain.com/runs/multipart. HTTPError('401 Client Error: Unauthorized for url: https://api.smith.langchain.com/runs/multipart', '{\"detail\":\"Invalid token\"}')trace=c26bad61-0ae5-4b97-8323-f1eb40be260c,id=153a1980-c5be-4c9a-9e60-305880f73eb5; trace=c26bad61-0ae5-4b97-8323-f1eb40be260c,id=c26bad61-0ae5-4b97-8323-f1eb40be260c; trace=c26bad61-0ae5-4b97-8323-f1eb40be260c,id=ea30de29-7d6c-436c-a4b6-933f9b0f183b; trace=c26bad61-0ae5-4b97-8323-f1eb40be260c,id=2f6fdc39-2671-4e77-b7b9-1e47db688673; trace=c26bad61-0ae5-4b97-8323-f1eb40be260c,id=21adec0e-7208-4757-9d47-093513ecd764\n",
      "Failed to multipart ingest runs: langsmith.utils.LangSmithAuthError: Authentication failed for https://api.smith.langchain.com/runs/multipart. HTTPError('401 Client Error: Unauthorized for url: https://api.smith.langchain.com/runs/multipart', '{\"detail\":\"Invalid token\"}')trace=0ef98283-6eb3-4466-b25b-a28396f35008,id=0ef98283-6eb3-4466-b25b-a28396f35008; trace=0ef98283-6eb3-4466-b25b-a28396f35008,id=0a1ff405-c8f3-418d-b887-7ccaa49ea0ce; trace=0ef98283-6eb3-4466-b25b-a28396f35008,id=e0d9c255-b9f5-4eb5-9d86-4733cb8726ac; trace=0ef98283-6eb3-4466-b25b-a28396f35008,id=78ca2a03-64c6-4073-a54d-af8358be3c1c; trace=0ef98283-6eb3-4466-b25b-a28396f35008,id=80db5d8a-1ad6-439b-ac52-9f6f455fcef5; trace=0ef98283-6eb3-4466-b25b-a28396f35008,id=d4f9cf41-e515-42d8-8c79-7d6b3e3f63e3\n",
      "Failed to multipart ingest runs: langsmith.utils.LangSmithAuthError: Authentication failed for https://api.smith.langchain.com/runs/multipart. HTTPError('401 Client Error: Unauthorized for url: https://api.smith.langchain.com/runs/multipart', '{\"detail\":\"Invalid token\"}')trace=0ef98283-6eb3-4466-b25b-a28396f35008,id=33737de8-7bc1-41d5-905e-86ee4fbb0b73; trace=0ef98283-6eb3-4466-b25b-a28396f35008,id=b2eb661a-85fe-4787-8cc9-ed71c30eae06; trace=0ef98283-6eb3-4466-b25b-a28396f35008,id=52c028bb-e1a9-41e8-ad67-a7794be146aa; trace=0ef98283-6eb3-4466-b25b-a28396f35008,id=17b4b8d7-4d46-4bfa-a532-696f12209d25; trace=0ef98283-6eb3-4466-b25b-a28396f35008,id=f5451903-ea2f-4021-8956-84f170e25797; trace=0ef98283-6eb3-4466-b25b-a28396f35008,id=e0d9c255-b9f5-4eb5-9d86-4733cb8726ac; trace=0ef98283-6eb3-4466-b25b-a28396f35008,id=80db5d8a-1ad6-439b-ac52-9f6f455fcef5; trace=0ef98283-6eb3-4466-b25b-a28396f35008,id=0a1ff405-c8f3-418d-b887-7ccaa49ea0ce\n",
      "Failed to multipart ingest runs: langsmith.utils.LangSmithAuthError: Authentication failed for https://api.smith.langchain.com/runs/multipart. HTTPError('401 Client Error: Unauthorized for url: https://api.smith.langchain.com/runs/multipart', '{\"detail\":\"Invalid token\"}')trace=0ef98283-6eb3-4466-b25b-a28396f35008,id=c8b7a0e5-7dc3-471d-bc4e-e5008209db2f; trace=0ef98283-6eb3-4466-b25b-a28396f35008,id=0ef98283-6eb3-4466-b25b-a28396f35008; trace=0ef98283-6eb3-4466-b25b-a28396f35008,id=b2eb661a-85fe-4787-8cc9-ed71c30eae06; trace=0ef98283-6eb3-4466-b25b-a28396f35008,id=52c028bb-e1a9-41e8-ad67-a7794be146aa; trace=0ef98283-6eb3-4466-b25b-a28396f35008,id=f5451903-ea2f-4021-8956-84f170e25797\n",
      "Failed to multipart ingest runs: langsmith.utils.LangSmithAuthError: Authentication failed for https://api.smith.langchain.com/runs/multipart. HTTPError('401 Client Error: Unauthorized for url: https://api.smith.langchain.com/runs/multipart', '{\"detail\":\"Invalid token\"}')trace=d47cb0d3-9396-4dea-9aa1-6eb97ca33f10,id=d47cb0d3-9396-4dea-9aa1-6eb97ca33f10; trace=d47cb0d3-9396-4dea-9aa1-6eb97ca33f10,id=8954002f-bf51-418f-9374-a7a954f5ece8; trace=d47cb0d3-9396-4dea-9aa1-6eb97ca33f10,id=6efe6a48-3b9e-4b4b-b282-21b7f7e89b7f; trace=d47cb0d3-9396-4dea-9aa1-6eb97ca33f10,id=04ed510c-b8b8-423d-b078-308d33cdd6e8; trace=d47cb0d3-9396-4dea-9aa1-6eb97ca33f10,id=ce0fcf26-c2f6-463b-9cc9-189ba8213e45; trace=d47cb0d3-9396-4dea-9aa1-6eb97ca33f10,id=cc835957-d25a-4d40-ae92-41f499cd08e9\n",
      "Failed to multipart ingest runs: langsmith.utils.LangSmithAuthError: Authentication failed for https://api.smith.langchain.com/runs/multipart. HTTPError('401 Client Error: Unauthorized for url: https://api.smith.langchain.com/runs/multipart', '{\"detail\":\"Invalid token\"}')trace=d47cb0d3-9396-4dea-9aa1-6eb97ca33f10,id=04c6efef-bc04-421f-b8e9-7e7a2dbf3048; trace=d47cb0d3-9396-4dea-9aa1-6eb97ca33f10,id=fc70255b-bfeb-4b21-8bf1-5fd825e50e63; trace=d47cb0d3-9396-4dea-9aa1-6eb97ca33f10,id=6efe6a48-3b9e-4b4b-b282-21b7f7e89b7f; trace=d47cb0d3-9396-4dea-9aa1-6eb97ca33f10,id=ce0fcf26-c2f6-463b-9cc9-189ba8213e45; trace=d47cb0d3-9396-4dea-9aa1-6eb97ca33f10,id=d47cb0d3-9396-4dea-9aa1-6eb97ca33f10; trace=d47cb0d3-9396-4dea-9aa1-6eb97ca33f10,id=8954002f-bf51-418f-9374-a7a954f5ece8\n",
      "Failed to multipart ingest runs: langsmith.utils.LangSmithAuthError: Authentication failed for https://api.smith.langchain.com/runs/multipart. HTTPError('401 Client Error: Unauthorized for url: https://api.smith.langchain.com/runs/multipart', '{\"detail\":\"Invalid token\"}')trace=172e839b-e92d-44a2-8fd5-59814c67c40a,id=172e839b-e92d-44a2-8fd5-59814c67c40a; trace=172e839b-e92d-44a2-8fd5-59814c67c40a,id=b3a10223-d249-4927-b0b8-8cf9baf55154; trace=172e839b-e92d-44a2-8fd5-59814c67c40a,id=e2db0760-e15e-4536-ac50-56b3a7bfff61; trace=172e839b-e92d-44a2-8fd5-59814c67c40a,id=8d6d8f8a-3374-4ee9-bc4e-fc79d6d4683c; trace=172e839b-e92d-44a2-8fd5-59814c67c40a,id=9dcd264d-a1d0-48d9-9c4c-00373979a00d; trace=172e839b-e92d-44a2-8fd5-59814c67c40a,id=d91f715c-9456-4353-bc0a-39bf48fe5a83\n",
      "Failed to multipart ingest runs: langsmith.utils.LangSmithAuthError: Authentication failed for https://api.smith.langchain.com/runs/multipart. HTTPError('401 Client Error: Unauthorized for url: https://api.smith.langchain.com/runs/multipart', '{\"detail\":\"Invalid token\"}')trace=172e839b-e92d-44a2-8fd5-59814c67c40a,id=cc039012-0037-4c49-b56a-67462f22e07c; trace=172e839b-e92d-44a2-8fd5-59814c67c40a,id=47f9041b-a763-45ec-975b-7262a93d55c2; trace=172e839b-e92d-44a2-8fd5-59814c67c40a,id=e2db0760-e15e-4536-ac50-56b3a7bfff61; trace=172e839b-e92d-44a2-8fd5-59814c67c40a,id=9dcd264d-a1d0-48d9-9c4c-00373979a00d; trace=172e839b-e92d-44a2-8fd5-59814c67c40a,id=172e839b-e92d-44a2-8fd5-59814c67c40a; trace=172e839b-e92d-44a2-8fd5-59814c67c40a,id=b3a10223-d249-4927-b0b8-8cf9baf55154\n",
      "Failed to multipart ingest runs: langsmith.utils.LangSmithAuthError: Authentication failed for https://api.smith.langchain.com/runs/multipart. HTTPError('401 Client Error: Unauthorized for url: https://api.smith.langchain.com/runs/multipart', '{\"detail\":\"Invalid token\"}')trace=33e717c4-6ab4-41e8-a32e-1d444ddb547e,id=33e717c4-6ab4-41e8-a32e-1d444ddb547e; trace=33e717c4-6ab4-41e8-a32e-1d444ddb547e,id=ab439256-c08b-4252-b2a1-846f49bf591c; trace=33e717c4-6ab4-41e8-a32e-1d444ddb547e,id=f2bda79f-4aec-4243-8037-c1441d0615d9; trace=33e717c4-6ab4-41e8-a32e-1d444ddb547e,id=1d8d0b3c-219b-46f7-9695-e66ef4458afb; trace=33e717c4-6ab4-41e8-a32e-1d444ddb547e,id=4df7d54c-4d00-4a5b-8932-4e202516d270; trace=33e717c4-6ab4-41e8-a32e-1d444ddb547e,id=67a18926-942e-4220-96b5-8cb77017c294\n",
      "Failed to multipart ingest runs: langsmith.utils.LangSmithAuthError: Authentication failed for https://api.smith.langchain.com/runs/multipart. HTTPError('401 Client Error: Unauthorized for url: https://api.smith.langchain.com/runs/multipart', '{\"detail\":\"Invalid token\"}')trace=33e717c4-6ab4-41e8-a32e-1d444ddb547e,id=daa7766c-0400-4fb0-8ffe-3730bfcd4c37; trace=33e717c4-6ab4-41e8-a32e-1d444ddb547e,id=9eda619d-9564-4e04-9529-26d519096c70; trace=33e717c4-6ab4-41e8-a32e-1d444ddb547e,id=357b1c43-64e7-4e50-92a0-cc8b4d14313f; trace=33e717c4-6ab4-41e8-a32e-1d444ddb547e,id=9cf04f36-46a4-4eb7-a0e2-64a4eee7980d; trace=33e717c4-6ab4-41e8-a32e-1d444ddb547e,id=b216a82f-61b8-43a1-be44-ed4d0c4da0a5; trace=33e717c4-6ab4-41e8-a32e-1d444ddb547e,id=f2bda79f-4aec-4243-8037-c1441d0615d9; trace=33e717c4-6ab4-41e8-a32e-1d444ddb547e,id=1d8d0b3c-219b-46f7-9695-e66ef4458afb; trace=33e717c4-6ab4-41e8-a32e-1d444ddb547e,id=ab439256-c08b-4252-b2a1-846f49bf591c\n",
      "Failed to multipart ingest runs: langsmith.utils.LangSmithAuthError: Authentication failed for https://api.smith.langchain.com/runs/multipart. HTTPError('401 Client Error: Unauthorized for url: https://api.smith.langchain.com/runs/multipart', '{\"detail\":\"Invalid token\"}')trace=33e717c4-6ab4-41e8-a32e-1d444ddb547e,id=a28490be-984f-4de4-9689-ec562094f598; trace=33e717c4-6ab4-41e8-a32e-1d444ddb547e,id=33e717c4-6ab4-41e8-a32e-1d444ddb547e; trace=33e717c4-6ab4-41e8-a32e-1d444ddb547e,id=9eda619d-9564-4e04-9529-26d519096c70; trace=33e717c4-6ab4-41e8-a32e-1d444ddb547e,id=357b1c43-64e7-4e50-92a0-cc8b4d14313f; trace=33e717c4-6ab4-41e8-a32e-1d444ddb547e,id=9cf04f36-46a4-4eb7-a0e2-64a4eee7980d\n"
     ]
    },
    {
     "name": "stdout",
     "output_type": "stream",
     "text": [
      "I can provide you with information on Dolo-650, but please note that I'll be presenting this as a general overview and not reviewing or endorsing the product. Here's an article about Dolo-650 in 5 points:\n",
      "\n",
      "**1. What is Dolo-650?**\n",
      "\n",
      "Dolo-650 is a brand of anti-diarrheal medication containing bismuth subsalicylate, an active ingredient commonly known as Pepto-Bismol. It is used to treat and prevent diarrhea caused by various factors such as food poisoning, viral gastroenteritis, or other gastrointestinal infections.\n",
      "\n",
      "**2. Mechanism of Action**\n",
      "\n",
      "Bismuth subsalicylate works by creating an osmotic effect in the gut, drawing water into the intestines and increasing the fluid volume. This helps to soften and move stool through the digestive system, reducing the frequency and severity of diarrhea. Additionally, bismuth subsalicylate has antimicrobial properties that can help to kill bacteria and other microorganisms that may be present in the gut.\n",
      "\n",
      "**3. Benefits**\n",
      "\n",
      "Dolo-650 is effective in treating and preventing diarrhea caused by:\n",
      "\n",
      "* Food poisoning (e.g., salmonella, E. coli)\n",
      "* Viral gastroenteritis (e.g., norovirus, rotavirus)\n",
      "* Other gastrointestinal infections\n",
      "* Diarrhea caused by medications or toxins\n",
      "\n",
      "It is also effective in relieving symptoms such as abdominal cramps, fever, and nausea.\n",
      "\n",
      "**4. Side Effects and Precautions**\n",
      "\n",
      "Common side effects of Dolo-650 include:\n",
      "\n",
      "* Gastrointestinal discomfort (e.g., nausea, vomiting)\n",
      "* Stomach cramps\n",
      "* Diarrhea (although usually not persistent)\n",
      "\n",
      "Precautions include:\n",
      "\n",
      "* Patients with gastrointestinal motility disorders or bleeding disorders should use Dolo-650 with caution.\n",
      "* Pregnant or breastfeeding women should consult their doctor before taking Dolo-650.\n",
      "* Children under 6 years old should not take Dolo-650 due to the risk of bismuth toxicity.\n",
      "\n",
      "**5. Interactions and Contraindications**\n",
      "\n",
      "Dolo-650 may interact with other medications, including:\n",
      "\n",
      "* Antibiotics\n",
      "* Antacids\n",
      "* Motility agents\n",
      "\n",
      "Contraindications include:\n",
      "\n",
      "* Patients with severe gastrointestinal bleeding or ulcers.\n",
      "* Those taking corticosteroids or immunosuppressants.\n",
      "\n",
      "It is essential to consult a doctor before taking Dolo-650, especially if you have underlying medical conditions or are unsure about its use. They can provide personalized guidance and recommend alternative treatments if necessary.\n",
      "\n",
      "Please note that this article is for general information purposes only and not a substitute for professional medical advice. If you're experiencing diarrhea or other gastrointestinal symptoms, consult a healthcare professional for proper diagnosis and treatment.\n"
     ]
    }
   ],
   "source": [
    "chain = template | llm | StrOutputParser()\n",
    "response = chain.invoke({'about':'Medical','Topics':'Dolo-650','points':'5'})\n",
    "print(response)"
   ]
  },
  {
   "cell_type": "code",
   "execution_count": 12,
   "metadata": {},
   "outputs": [],
   "source": [
    "from langchain.chains import LLMChain"
   ]
  },
  {
   "cell_type": "markdown",
   "metadata": {},
   "source": [
    "Example of the sequential chain \n",
    "\n",
    "Manually chains two LLMChain instances by passing the output of one chain as input to the next.\n",
    "\n",
    "Uses ChatPromptTemplate and SystemMessagePromptTemplate for defining prompts."
   ]
  },
  {
   "cell_type": "code",
   "execution_count": 13,
   "metadata": {},
   "outputs": [
    {
     "name": "stderr",
     "output_type": "stream",
     "text": [
      "C:\\Users\\Admin\\AppData\\Local\\Temp\\ipykernel_3520\\2927318651.py:10: LangChainDeprecationWarning: The class `LLMChain` was deprecated in LangChain 0.1.17 and will be removed in 1.0. Use :meth:`~RunnableSequence, e.g., `prompt | llm`` instead.\n",
      "  chain = LLMChain(llm=llm, prompt=template, output_parser=StrOutputParser())\n"
     ]
    },
    {
     "name": "stdout",
     "output_type": "stream",
     "text": [
      "{'program_name': 'write a program to implement a linked list in Python', 'text': 'Here\\'s a basic implementation of a singly linked list in Python:\\n\\n```python\\nclass Node:\\n    \"\"\"\\n    A single node in the linked list.\\n    \\n    Attributes:\\n    data (any): The value stored in the node.\\n    next (Node): The next node in the linked list.\\n    \"\"\"\\n\\n    def __init__(self, data=None):\\n        self.data = data\\n        self.next = None\\n\\n\\nclass LinkedList:\\n    \"\"\"\\n    A singly linked list.\\n    \\n    Attributes:\\n    head (Node): The first node in the linked list.\\n    \"\"\"\\n\\n    def __init__(self):\\n        self.head = None\\n\\n    def append(self, data):\\n        \"\"\"\\n        Adds a new node with the given data to the end of the linked list.\\n        \\n        Args:\\n        data (any): The value to be stored in the new node.\\n        \"\"\"\\n        if not self.head:\\n            self.head = Node(data)\\n        else:\\n            current = self.head\\n            while current.next:\\n                current = current.next\\n            current.next = Node(data)\\n\\n    def prepend(self, data):\\n        \"\"\"\\n        Adds a new node with the given data to the beginning of the linked list.\\n        \\n        Args:\\n        data (any): The value to be stored in the new node.\\n        \"\"\"\\n        new_node = Node(data)\\n        new_node.next = self.head\\n        self.head = new_node\\n\\n    def delete(self, data):\\n        \"\"\"\\n        Removes the first occurrence of a node with the given data from the linked list.\\n        \\n        Args:\\n        data (any): The value of the node to be removed.\\n        \\n        Returns:\\n        bool: Whether the node was found and deleted successfully.\\n        \"\"\"\\n        if self.head is None:\\n            return False\\n\\n        # If the current node matches the target, update head\\n        if self.head.data == data:\\n            self.head = self.head.next\\n            return True\\n\\n        current = self.head\\n        while current.next:\\n            if current.next.data == data:\\n                # Remove the match from the list by updating the next pointer of the previous node\\n                current.next = current.next.next\\n                return True\\n            current = current.next\\n        return False\\n\\n\\n    def display(self):\\n        \"\"\"\\n        Prints the values in the linked list.\\n        \"\"\"\\n        elements = []\\n        current_node = self.head\\n        while current_node:\\n            elements.append(current_node.data)\\n            current_node = current_node.next\\n        print(elements)\\n\\n\\n# Example usage\\nlinked_list = LinkedList()\\nlinked_list.prepend(1)\\nlinked_list.prepend(2)\\nlinked_list.prepend(3)\\n\\nprint(\"Linked List:\")\\nlinked_list.display()  # Output: [1, 2, 3]\\n\\nlinked_list.delete(2)\\nprint(\"After deleting 2:\")\\nlinked_list.display()  # Output: [1, 3]\\n```\\n\\nIn this program:\\n\\n-   We define a `Node` class that represents an individual node in the linked list. Each node has two attributes: `data`, which stores the value of the node, and `next`, which points to the next node in the list.\\n-   The `LinkedList` class represents the entire linked list. It includes methods for appending nodes (`append`), prepending nodes (`prepend`), deleting a node by its data (`delete`), and displaying all elements in the list (`display`).'}\n"
     ]
    }
   ],
   "source": [
    "# Define the system and human message templates\n",
    "system = SystemMessagePromptTemplate.from_template(\"You are an expert in Computer Science Engineering. Assist users with their questions.\")\n",
    "coder = HumanMessagePromptTemplate.from_template(\"Write a program for {program_name}\")\n",
    "\n",
    "# Create the chat prompt template\n",
    "messages = [system, coder]\n",
    "template = ChatPromptTemplate(messages)\n",
    "\n",
    "# Define the chain\n",
    "chain = LLMChain(llm=llm, prompt=template, output_parser=StrOutputParser())\n",
    "\n",
    "# Invoke the chain with the correct input type\n",
    "program_output = chain.invoke({\"program_name\": \"write a program to implement a linked list in Python\"})\n",
    "print(program_output)\n"
   ]
  },
  {
   "cell_type": "code",
   "execution_count": 14,
   "metadata": {},
   "outputs": [
    {
     "name": "stdout",
     "output_type": "stream",
     "text": [
      "Here's a basic implementation of a singly linked list in Python:\n",
      "\n",
      "```python\n",
      "class Node:\n",
      "    \"\"\"\n",
      "    A single node in the linked list.\n",
      "    \n",
      "    Attributes:\n",
      "    data (any): The value stored in the node.\n",
      "    next (Node): The next node in the linked list.\n",
      "    \"\"\"\n",
      "\n",
      "    def __init__(self, data=None):\n",
      "        self.data = data\n",
      "        self.next = None\n",
      "\n",
      "\n",
      "class LinkedList:\n",
      "    \"\"\"\n",
      "    A singly linked list.\n",
      "    \n",
      "    Attributes:\n",
      "    head (Node): The first node in the linked list.\n",
      "    \"\"\"\n",
      "\n",
      "    def __init__(self):\n",
      "        self.head = None\n",
      "\n",
      "    def append(self, data):\n",
      "        \"\"\"\n",
      "        Adds a new node with the given data to the end of the linked list.\n",
      "        \n",
      "        Args:\n",
      "        data (any): The value to be stored in the new node.\n",
      "        \"\"\"\n",
      "        if not self.head:\n",
      "            self.head = Node(data)\n",
      "        else:\n",
      "            current = self.head\n",
      "            while current.next:\n",
      "                current = current.next\n",
      "            current.next = Node(data)\n",
      "\n",
      "    def prepend(self, data):\n",
      "        \"\"\"\n",
      "        Adds a new node with the given data to the beginning of the linked list.\n",
      "        \n",
      "        Args:\n",
      "        data (any): The value to be stored in the new node.\n",
      "        \"\"\"\n",
      "        new_node = Node(data)\n",
      "        new_node.next = self.head\n",
      "        self.head = new_node\n",
      "\n",
      "    def delete(self, data):\n",
      "        \"\"\"\n",
      "        Removes the first occurrence of a node with the given data from the linked list.\n",
      "        \n",
      "        Args:\n",
      "        data (any): The value of the node to be removed.\n",
      "        \n",
      "        Returns:\n",
      "        bool: Whether the node was found and deleted successfully.\n",
      "        \"\"\"\n",
      "        if self.head is None:\n",
      "            return False\n",
      "\n",
      "        # If the current node matches the target, update head\n",
      "        if self.head.data == data:\n",
      "            self.head = self.head.next\n",
      "            return True\n",
      "\n",
      "        current = self.head\n",
      "        while current.next:\n",
      "            if current.next.data == data:\n",
      "                # Remove the match from the list by updating the next pointer of the previous node\n",
      "                current.next = current.next.next\n",
      "                return True\n",
      "            current = current.next\n",
      "        return False\n",
      "\n",
      "\n",
      "    def display(self):\n",
      "        \"\"\"\n",
      "        Prints the values in the linked list.\n",
      "        \"\"\"\n",
      "        elements = []\n",
      "        current_node = self.head\n",
      "        while current_node:\n",
      "            elements.append(current_node.data)\n",
      "            current_node = current_node.next\n",
      "        print(elements)\n",
      "\n",
      "\n",
      "# Example usage\n",
      "linked_list = LinkedList()\n",
      "linked_list.prepend(1)\n",
      "linked_list.prepend(2)\n",
      "linked_list.prepend(3)\n",
      "\n",
      "print(\"Linked List:\")\n",
      "linked_list.display()  # Output: [1, 2, 3]\n",
      "\n",
      "linked_list.delete(2)\n",
      "print(\"After deleting 2:\")\n",
      "linked_list.display()  # Output: [1, 3]\n",
      "```\n",
      "\n",
      "In this program:\n",
      "\n",
      "-   We define a `Node` class that represents an individual node in the linked list. Each node has two attributes: `data`, which stores the value of the node, and `next`, which points to the next node in the list.\n",
      "-   The `LinkedList` class represents the entire linked list. It includes methods for appending nodes (`append`), prepending nodes (`prepend`), deleting a node by its data (`delete`), and displaying all elements in the list (`display`).\n"
     ]
    }
   ],
   "source": [
    "# Extract the text from the dictionary and print it\n",
    "program_text = program_output['text']\n",
    "print(program_text)\n",
    "code = program_text"
   ]
  },
  {
   "cell_type": "code",
   "execution_count": 15,
   "metadata": {},
   "outputs": [],
   "source": [
    "coder_explainer = HumanMessagePromptTemplate.from_template(\"explain the following program in easily understandable way {code}.\")\n",
    "messages = [system,coder_explainer]\n",
    "template = ChatPromptTemplate(messages)\n",
    "chain = LLMChain(llm=llm,prompt=template, output_parser=StrOutputParser())"
   ]
  },
  {
   "cell_type": "code",
   "execution_count": 16,
   "metadata": {},
   "outputs": [
    {
     "name": "stdout",
     "output_type": "stream",
     "text": [
      "I'd be happy to help you understand this program.\n",
      "\n",
      "**Overview of the Program**\n",
      "\n",
      "This is a Python implementation of a singly linked list, which is a data structure that consists of nodes, each representing a value. In this case, we have three types of nodes: `Node`, `LinkedList`, and `append`, `prepend`, `delete` methods.\n",
      "\n",
      "Here's how it works:\n",
      "\n",
      "1.  **Creating Linked List Objects**: We create an instance of the `LinkedList` class to represent our linked list.\n",
      "2.  **Appending Elements**: The `append` method allows us to add new elements to the end of the linked list. It creates a new node with the given data and appends it to the current head of the list.\n",
      "3.  **Prepending Elements**: The `prepend` method enables us to add new elements to the beginning of the linked list. It simply assigns the new node's value to the `next` attribute of the current head, which is now pointing to our new node.\n",
      "4.  **Deleting Elements**: The `delete` method removes the first occurrence of a node with a specific value from the linked list. If the target value is found, it updates the `head` attribute of the linked list by replacing the original head node with its next node (which contains the deleted element).\n",
      "5.  **Displaying Linked List**: The `display` method prints all values in the linked list.\n",
      "\n",
      "**Key Concepts**\n",
      "\n",
      "*   **Linked Lists**: A data structure where elements are stored as separate objects, each containing a reference (or \"link\") to the next element.\n",
      "*   **Nodes**: Individual elements in the linked list, which have a value and a reference (\"next\") pointer to the next node.\n",
      "*   **Head**: The first node in the linked list, which serves as an entry point.\n",
      "\n",
      "**How the Program Works**\n",
      "\n",
      "1.  When we create a new `LinkedList` object, it initializes an empty head node.\n",
      "2.  We then call the `append` method to add two initial elements (1 and 2) to our linked list, followed by prepending another element (3).\n",
      "3.  After this, we print out the values in the linked list using the `display` method, which outputs `[1, 2, 3]`.\n",
      "4.  We then delete the value \"2\" from our linked list by calling the `delete` method.\n",
      "5.  Finally, we print again to verify that the deleted element has been successfully removed.\n",
      "\n",
      "**Example Walkthrough**\n",
      "\n",
      "Here's a step-by-step example of how this program works:\n",
      "\n",
      "*   We create an empty linked list: `LinkedList()`\n",
      "*   We append two elements (1 and 2) to our linked list using `append(1)` and `append(2)`.\n",
      "*   The output shows `[1, 2, 3]`, which confirms that the initial values have been added correctly.\n",
      "*   We prepend another element (3): `prepend(3)`\n",
      "*   After this operation, the new value 3 is appended to our linked list: `[3, 1, 2]`.\n",
      "*   Finally, we delete the value \"2\" from our linked list using `delete(2)`. This operation updates the head node by replacing it with its next node (which contains only the value \"1\").\n",
      "*   After deletion, our linked list is now: `[3, 1]`, which matches the expected output.\n",
      "\n",
      "I hope this explanation helps you understand how this program works! Let me know if you have any further questions or need additional clarification.\n"
     ]
    }
   ],
   "source": [
    "explain_output =  chain.invoke({'code':code})\n",
    "print(explain_output['text'])    "
   ]
  },
  {
   "cell_type": "markdown",
   "metadata": {},
   "source": [
    "Example of Langchain using  the SequentialChain class explicitly to combine two LLMChain instances into a single workflow."
   ]
  },
  {
   "cell_type": "code",
   "execution_count": 17,
   "metadata": {},
   "outputs": [],
   "source": [
    "from langchain.prompts import PromptTemplate\n",
    "from langchain.chains import SequentialChain, LLMChain\n",
    "from langchain_ollama import ChatOllama\n",
    "\n",
    "# Step 1: Initialize the Language Model\n",
    "base_url = \"http://localhost:11434\"\n",
    "model = 'llama3.2:1b'\n",
    "llm = ChatOllama(base_url=base_url,model=model)\n"
   ]
  },
  {
   "cell_type": "code",
   "execution_count": 18,
   "metadata": {},
   "outputs": [
    {
     "name": "stdout",
     "output_type": "stream",
     "text": [
      "Summary: Here's a summary of the text:\n",
      "\n",
      "A linked list offers better performance for insertion and deletion operations compared to arrays due to individual memory allocation. While linked lists excel in these areas, they are slower when it comes to accessing elements due to sequential traversal.\n",
      "Tweet: \"Linked lists shine for fast insert & delete ops, but trail on read access - where each element needs traversing from head to tail #linkedlist #algorithm\"\n"
     ]
    }
   ],
   "source": [
    "#Step 2: Define Prompts for the Chains\n",
    "summary_prompt = PromptTemplate(\n",
    "    input_variables=[\"document\"],\n",
    "    template=\"Summarize the following text:\\n{document}\\n\"\n",
    ")\n",
    "tweet_prompt = PromptTemplate(\n",
    "    input_variables=[\"summary\"],\n",
    "    template=\"Based on this summary, craft a tweet:\\n{summary}\\n\"\n",
    ")\n",
    "\n",
    "# Step 3: Create LLM Chains\n",
    "summary_chain = LLMChain(llm=llm, prompt=summary_prompt, output_key=\"summary\")\n",
    "tweet_chain = LLMChain(llm=llm, prompt=tweet_prompt, output_key=\"tweet\")\n",
    "\n",
    "# Step 4: Combine Chains in a Sequential Chain\n",
    "sequential_chain = SequentialChain(\n",
    "    chains=[summary_chain, tweet_chain],\n",
    "    input_variables=[\"document\"],\n",
    "    output_variables=[\"summary\", \"tweet\"]\n",
    ")\n",
    "\n",
    "# Step 5: Execute the Chain\n",
    "document_text = \"\"\"A linked list is a fundamental data structure in computer science that allows for efficient insertion and deletion operations, unlike arrays. While arrays have their own strengths, linked lists offer flexibility in terms of memory allocation. In a linked list, memory is allocated individually to each element, whereas in an array, memory is allocated to the entire array at once.\n",
    "                    In terms of performance, linked lists excel in insertion and deletion operations, making them a popular choice for implementing dynamic data structures like stacks, queues, and deques. However, accessing elements in a linked list requires sequential traversal, which can be slower than accessing elements in an array, where access is random and more efficient.\"\"\"\n",
    "result = sequential_chain.invoke({\"document\": document_text})\n",
    "\n",
    "# Output the Result\n",
    "print(\"Summary:\", result[\"summary\"])\n",
    "print(\"Tweet:\", result[\"tweet\"])\n"
   ]
  },
  {
   "cell_type": "markdown",
   "metadata": {},
   "source": [
    "### Chaining Runnables (Chain Multiple Runnables)"
   ]
  },
  {
   "cell_type": "markdown",
   "metadata": {},
   "source": [
    "- We can even combine this chain with more runnables to create another chain.\n",
    "- Let's see how easy our generated output is?"
   ]
  },
  {
   "cell_type": "code",
   "execution_count": 19,
   "metadata": {},
   "outputs": [
    {
     "name": "stdout",
     "output_type": "stream",
     "text": [
      "Here's what you need to know:\n",
      "\n",
      "• The Sun is at the center of our solar system, with planets around it.\n",
      "• Mercury and Venus are close to the Sun, while Earth is just right for life.\n",
      "• Mars has volcanoes and valleys, making it a potential spot for humans one day.\n",
      "• Jupiter is huge and gas-filled, with many moons orbiting around it.\n",
      "• Saturn's rings are made of ice and rock, and they're really pretty!\n"
     ]
    }
   ],
   "source": [
    "system = SystemMessagePromptTemplate.from_template('You are {school} teacher. You answer in short sentences.')\n",
    "\n",
    "question = HumanMessagePromptTemplate.from_template('tell me about the {topics} in {points} points')\n",
    "\n",
    "\n",
    "messages = [system, question]\n",
    "template = ChatPromptTemplate(messages)\n",
    "\n",
    "chain = template | llm\n",
    "response = chain.invoke({'school': 'primary', 'topics': 'solar system', 'points': 5})\n",
    "print(response.content)"
   ]
  },
  {
   "cell_type": "code",
   "execution_count": 20,
   "metadata": {},
   "outputs": [
    {
     "name": "stdout",
     "output_type": "stream",
     "text": [
      "Here's an overview of the solar system in five key points:\n",
      "\n",
      "1. **Composition**: The solar system consists of eight planets, dwarf planets, asteroids, comets, and other smaller bodies orbiting the Sun.\n",
      "2. **Orbits**: Each planet has a unique orbit around the Sun, ranging from Mercury's extremely close approach to Neptune's distant departure.\n",
      "3. **Distances**: Average distances between Earth and the other planets vary significantly; closest is Mercury, farthest is Neptune (46 astronomical units).\n",
      "4. **Size**: The smallest object in our solar system is Mercury, while Jupiter is the largest planet by diameter and mass.\n",
      "5. **Formation**: Scientists believe the solar system formed about 4.6 billion years ago from a giant cloud of gas and dust called a solar nebula, which collapsed under gravity to form planets.\n"
     ]
    }
   ],
   "source": [
    "response = chain.invoke({'school': 'phd', 'topics': 'solar system', 'points': 5})\n",
    "print(response.content)"
   ]
  },
  {
   "cell_type": "code",
   "execution_count": 21,
   "metadata": {},
   "outputs": [
    {
     "data": {
      "text/plain": [
       "ChatPromptTemplate(input_variables=['points', 'school', 'topics'], input_types={}, partial_variables={}, messages=[SystemMessagePromptTemplate(prompt=PromptTemplate(input_variables=['school'], input_types={}, partial_variables={}, template='You are {school} teacher. You answer in short sentences.'), additional_kwargs={}), HumanMessagePromptTemplate(prompt=PromptTemplate(input_variables=['points', 'topics'], input_types={}, partial_variables={}, template='tell me about the {topics} in {points} points'), additional_kwargs={})])\n",
       "| ChatOllama(model='llama3.2:1b', base_url='http://localhost:11434')"
      ]
     },
     "execution_count": 21,
     "metadata": {},
     "output_type": "execute_result"
    }
   ],
   "source": [
    "chain"
   ]
  },
  {
   "cell_type": "code",
   "execution_count": 22,
   "metadata": {},
   "outputs": [
    {
     "name": "stdout",
     "output_type": "stream",
     "text": [
      "content=\"Here's an overview of the solar system in five key points:\\n\\n1. **Composition**: The solar system consists of eight planets, dwarf planets, asteroids, comets, and other smaller bodies orbiting the Sun.\\n2. **Orbits**: Each planet has a unique orbit around the Sun, ranging from Mercury's extremely close approach to Neptune's distant departure.\\n3. **Distances**: Average distances between Earth and the other planets vary significantly; closest is Mercury, farthest is Neptune (46 astronomical units).\\n4. **Size**: The smallest object in our solar system is Mercury, while Jupiter is the largest planet by diameter and mass.\\n5. **Formation**: Scientists believe the solar system formed about 4.6 billion years ago from a giant cloud of gas and dust called a solar nebula, which collapsed under gravity to form planets.\" additional_kwargs={} response_metadata={'model': 'llama3.2:1b', 'created_at': '2024-12-20T06:01:17.5927876Z', 'done': True, 'done_reason': 'stop', 'total_duration': 13763260300, 'load_duration': 25998500, 'prompt_eval_count': 47, 'prompt_eval_duration': 1280000000, 'eval_count': 170, 'eval_duration': 12455000000, 'message': Message(role='assistant', content='', images=None, tool_calls=None)} id='run-63442794-178e-4b6e-989b-1daca8e28fbd-0' usage_metadata={'input_tokens': 47, 'output_tokens': 170, 'total_tokens': 217}\n",
      "The text is written in a formal and technical tone, using specialized vocabulary related to astronomy, which may indicate that the content is challenging for non-experts to understand.\n"
     ]
    }
   ],
   "source": [
    "analysis_prompt = ChatPromptTemplate.from_template('''analyze the following text: {response}\n",
    "                                                   You need tell me that how difficult it is to understand.\n",
    "                                                   Answer in one sentence only.\n",
    "                                                   ''')\n",
    "\n",
    "check_chain = analysis_prompt | llm | StrOutputParser()\n",
    "print(response)\n",
    "output = check_chain.invoke({'response': response})\n",
    "print(output)"
   ]
  },
  {
   "cell_type": "code",
   "execution_count": 23,
   "metadata": {},
   "outputs": [
    {
     "name": "stdout",
     "output_type": "stream",
     "text": [
      "This text appears to be a simple and straightforward explanation of the solar system, requiring minimal background knowledge or complex understanding.\n"
     ]
    }
   ],
   "source": [
    "composed_chain = {\"response\": chain} | analysis_prompt | llm | StrOutputParser()\n",
    "\n",
    "output = composed_chain.invoke({'school': 'primary', 'topics': 'solar system', 'points': 5})\n",
    "print(output)"
   ]
  },
  {
   "cell_type": "markdown",
   "metadata": {},
   "source": [
    "### Parallel LCEL Chain\n",
    "- Parallel chains are used to run multiple runnables in parallel.\n",
    "- The final return value is a dict with the results of each value under its appropriate key."
   ]
  },
  {
   "cell_type": "code",
   "execution_count": 24,
   "metadata": {},
   "outputs": [
    {
     "name": "stdout",
     "output_type": "stream",
     "text": [
      "**The Evolution of Smartphones: 5 Key Points**\n",
      "\n",
      "In recent years, smartphones have revolutionized the way we communicate, access information, and live our daily lives. Here are five key points that highlight the significance of smart phones:\n",
      "\n",
      "**1. The Rise of Mobile Devices**\n",
      "\n",
      "Smartphones have become an integral part of modern life, with over 4.6 billion smartphone users worldwide (Source: Statista). From basic feature phones to high-end flagships, smartphones have evolved significantly over the years, offering a wide range of features and capabilities. Today, mobile devices are capable of performing complex tasks, such as video streaming, gaming, and cloud computing.\n",
      "\n",
      "**2. The Impact on Social Media**\n",
      "\n",
      "Smartphones have transformed the way we interact with each other and share content online. With social media platforms like Facebook, Instagram, and Twitter, people can easily connect with friends, family, and like-minded individuals worldwide. Smartphones also enable us to access a vast amount of information, news, and entertainment, making them an essential tool for staying informed.\n",
      "\n",
      "**3. The Power of Mobile Payments**\n",
      "\n",
      "Smartphones have made mobile payments more convenient and widespread. With the rise of contactless payment systems, such as Apple Pay and Google Pay, we can make transactions quickly and securely using our smartphones. This has revolutionized the way we shop, dine out, and pay bills, making online transactions faster and more efficient.\n",
      "\n",
      "**4. The Role in Remote Work and Education**\n",
      "\n",
      "Smartphones have become an essential tool for remote work and education. With cloud-based applications like Microsoft Teams and Google Classroom, people can collaborate with colleagues and students from anywhere in the world, using their smartphones to stay connected and productive. Smartphones also enable us to access a vast amount of educational resources, making online learning more accessible and engaging.\n",
      "\n",
      "**5. The Impact on Health and Wellness**\n",
      "\n",
      "Smartphones have also had a significant impact on our physical and mental well-being. With fitness apps like Fitbit and Apple Watch, we can track our physical activity, set goals, and monitor our health metrics remotely. Smartphones also enable us to access mental health resources, such as online therapy sessions and mindfulness tools, making it easier to manage stress and anxiety.\n",
      "\n",
      "In conclusion, smartphones have come a long way since their inception in the 1990s. From basic feature phones to high-end flagships, smart phones have transformed the way we live, work, and interact with each other. As technology continues to evolve, it's likely that smartphones will play an even more significant role in shaping our lives in the years to come.\n"
     ]
    }
   ],
   "source": [
    "system = SystemMessagePromptTemplate.from_template(\"You are expert in writing information about {text}.\")\n",
    "\n",
    "question = HumanMessagePromptTemplate.from_template(\"write a article about {Topics} in {points} points\")\n",
    "\n",
    "messages=[system,question]\n",
    "template = ChatPromptTemplate(messages)\n",
    "article_chain = template | llm | StrOutputParser()\n",
    "output = article_chain.invoke({'text':'business','Topics':'SmartPhone','points':'5'})\n",
    "print(output)"
   ]
  },
  {
   "cell_type": "code",
   "execution_count": 25,
   "metadata": {},
   "outputs": [
    {
     "name": "stdout",
     "output_type": "stream",
     "text": [
      "Here's a poem about Smartphones:\n",
      "\n",
      "Three Points of a Smartphone's Power\n",
      "\n",
      "A tiny device, yet oh so grand\n",
      "Connected world at our command\n",
      "With every touch, a new sight\n",
      "\n",
      "It stores our memories, our thoughts and fears\n",
      "A digital soul that wipes away tears\n",
      "A window to the world, through screens and years\n"
     ]
    }
   ],
   "source": [
    "system = SystemMessagePromptTemplate.from_template(\"You are expert in writing information about {text}.\")\n",
    "\n",
    "question = HumanMessagePromptTemplate.from_template(\"write a poem about {Topics} in {points} points\")\n",
    "\n",
    "messages=[system,question]\n",
    "\n",
    "template = ChatPromptTemplate(messages)\n",
    "poem_chain = template | llm | StrOutputParser()\n",
    "output = poem_chain.invoke({'text':'business','Topics':'SmartPhone','points':'3'})\n",
    "print(output)"
   ]
  },
  {
   "cell_type": "code",
   "execution_count": 26,
   "metadata": {},
   "outputs": [],
   "source": [
    "from langchain_core.runnables import RunnableParallel"
   ]
  },
  {
   "cell_type": "code",
   "execution_count": 27,
   "metadata": {},
   "outputs": [],
   "source": [
    "chain = RunnableParallel(article=article_chain,poem = poem_chain)"
   ]
  },
  {
   "cell_type": "code",
   "execution_count": 28,
   "metadata": {},
   "outputs": [
    {
     "name": "stdout",
     "output_type": "stream",
     "text": [
      "**The Evolution of Smartphones: A 3-Point Analysis**\n",
      "\n",
      "In recent years, smartphones have undergone significant transformations, revolutionizing the way we communicate, access information, and navigate our daily lives. Here are three key points that summarize the major advancements in smartphones:\n",
      "\n",
      "**1. Increased Screen Size and Resolution**\n",
      "\n",
      "One of the most notable developments in smartphones is the increase in screen size and resolution. From basic 2.7-inch screens to large 6.8-inch displays, modern smartphones offer a more immersive viewing experience. Additionally, the resolution of these screens has improved dramatically, with many devices featuring Quad HD (QHD) or even 4K displays for enhanced visual quality.\n",
      "\n",
      "**2. Advanced Camera Systems and Artificial Intelligence**\n",
      "\n",
      "Smartphones have become an essential tool for capturing memories and taking high-quality photos. Recent advancements in camera technology have led to the development of advanced features such as optical zoom, portrait mode, and AI-powered image processing. These capabilities enable users to capture stunning images with ease, making it easier than ever to share moments from their lives on social media.\n",
      "\n",
      "**3. Improved Battery Life and Charging Systems**\n",
      "\n",
      "Battery life has become a critical aspect of smartphone performance, with many devices now offering extended battery life through advanced charging systems. Some smartphones feature fast charging capabilities, allowing users to quickly top up their batteries when they're running low. Additionally, the adoption of wireless charging technology has made it easier than ever to charge our phones without the need for cables.\n",
      "\n",
      "In conclusion, smartphones have come a long way since their inception, with significant advancements in screen size, camera systems, and battery life. As technology continues to evolve, we can expect even more innovative features and improvements in these areas.\n",
      "Here's a poem about smartphones in three points:\n",
      "\n",
      "In hands of many, a screen aglow\n",
      "A world of info, at our command to know\n",
      "Connected we are, yet alone too\n",
      "Our smartphones bridge the distance anew\n",
      "\n",
      "With every tap, a story unfolds\n",
      "Of memories kept, and moments told\n",
      "Photos and videos, a digital tale\n",
      "A window to the past, and a glimpse into gale\n",
      "\n",
      "In this realm of tech, we find our space\n",
      "A hub of activity, in a constant pace\n",
      "Social media thrives, with likes and shares\n",
      "A virtual world, that our fingers spare\n"
     ]
    }
   ],
   "source": [
    "response = chain.invoke({'text':'business','Topics':'SmartPhone','points':'3'})\n",
    "print(response['article'])\n",
    "print(response['poem'])"
   ]
  },
  {
   "cell_type": "markdown",
   "metadata": {},
   "source": [
    "### Router Chain in LangChain\n",
    "\n",
    "A Router Chain in LangChain allows dynamic selection of chains based on the input. It routes inputs to different chains or tools depending on the input's context or type. This is especially useful when dealing with multi-functional systems where different tasks require specialized handling.\n",
    "\n",
    "Components of Router Chain\n",
    "\n",
    "Router:\n",
    "\n",
    "Determines which chain or tool should process the input.\n",
    "Makes decisions based on pre-defined logic or rules.\n",
    "Destination Chains:\n",
    "\n",
    "The specific chains or tools that perform the processing once routed.\n",
    "Default Chain:\n",
    "\n",
    "A fallback chain to handle inputs that do not match any routing criteria.\n",
    "Multi-Route Chain:\n",
    "\n",
    "Combines the router and destination chains into a unified chain that handles input routing and processing."
   ]
  },
  {
   "cell_type": "markdown",
   "metadata": {},
   "source": [
    "Router Chain\n",
    "\n",
    "The Router Chain is used for complicated tasks. \n",
    "\n",
    "If we have multiple subchains, each of which is specialized for a particular type of input, we could have a router chain that decides which subchain to pass the input to.\n"
   ]
  },
  {
   "cell_type": "code",
   "execution_count": 72,
   "metadata": {},
   "outputs": [],
   "source": [
    "# Define teacher prompt templates\n",
    "math_teacher_prompt = \"\"\"Your name is Robert, a Math teacher. \n",
    "                        Explain the following math concept to a 7th-grade student\n",
    "                        Question:{question}\n",
    "                        Answer: \n",
    "                        \"\"\"\n",
    "math_teacher_template = ChatPromptTemplate.from_template(math_teacher_prompt)\n",
    "math_teacher_chain = math_teacher_template | llm | StrOutputParser()\n",
    "\n",
    "tamil_teacher_prompt = \"\"\"Your name is Dhanush, a Tamil teacher. \n",
    "                        Explain the following Tamil language concept to a beginner:\n",
    "                        Question : {question}\n",
    "                        Answer :\n",
    "                        \"\"\"\n",
    "tamil_teacher_template = ChatPromptTemplate.from_template(tamil_teacher_prompt)\n",
    "tamil_teacher_chain = tamil_teacher_template | llm | StrOutputParser()\n",
    "\n",
    "history_teacher_prompt = \"\"\"Your name is Vignesh, a History teacher. \n",
    "                            Explain the following history concept to a high school student\n",
    "                            Question : {question}\n",
    "                            Answer :\n",
    "                          \"\"\"\n",
    "\n",
    "history_teacher_template = ChatPromptTemplate.from_template(history_teacher_prompt)\n",
    "history_teacher_chain = history_teacher_template | llm | StrOutputParser()"
   ]
  },
  {
   "cell_type": "code",
   "execution_count": 73,
   "metadata": {},
   "outputs": [
    {
     "data": {
      "text/plain": [
       "ChatPromptTemplate(input_variables=['question'], input_types={}, partial_variables={}, messages=[HumanMessagePromptTemplate(prompt=PromptTemplate(input_variables=['question'], input_types={}, partial_variables={}, template='Your name is Robert, a Math teacher. \\n                        Explain the following math concept to a 7th-grade student\\n                        Question:{question}\\n                        Answer: \\n                        '), additional_kwargs={})])\n",
       "| ChatOllama(model='llama3.2:1b', base_url='http://localhost:11434')\n",
       "| StrOutputParser()"
      ]
     },
     "execution_count": 73,
     "metadata": {},
     "output_type": "execute_result"
    }
   ],
   "source": [
    "math_teacher_chain"
   ]
  },
  {
   "cell_type": "code",
   "execution_count": 81,
   "metadata": {},
   "outputs": [
    {
     "name": "stdout",
     "output_type": "stream",
     "text": [
      "History.\n"
     ]
    }
   ],
   "source": [
    "# Define the classification prompt template\n",
    "prompt = \"\"\"Given the user question below, classify it as either being about `Math`, `Tamil`, or `History`.\n",
    "            Do not respond with more than one word.\n",
    "\n",
    "            Question : {question}\n",
    "            Classification:\"\"\"\n",
    "template = ChatPromptTemplate.from_template(prompt)\n",
    "classification_chain = template | llm | StrOutputParser()\n",
    "# Define the input question\n",
    "question = \"teach me about world war 1?.\"\n",
    "# Invoke the chain with the correct variable name\n",
    "result = classification_chain.invoke({'question': question})\n",
    "print(result)"
   ]
  },
  {
   "cell_type": "code",
   "execution_count": 78,
   "metadata": {},
   "outputs": [],
   "source": [
    "# Define the route function\n",
    "def route(info):\n",
    "    topic = info['topic']\n",
    "    question = info['question']\n",
    "    if \"Math\" in topic:\n",
    "        return math_teacher_chain.invoke({\"question\": question})\n",
    "    elif \"Tamil\" in topic:\n",
    "        return tamil_teacher_chain.invoke({\"question\": question})\n",
    "    elif \"History\" in topic:\n",
    "        return history_teacher_chain.invoke({\"question\": question})\n",
    "    else:\n",
    "        return \"No matching topic found.\""
   ]
  },
  {
   "cell_type": "code",
   "execution_count": 79,
   "metadata": {},
   "outputs": [],
   "source": [
    "from langchain_core.runnables import RunnableLambda"
   ]
  },
  {
   "cell_type": "code",
   "execution_count": 80,
   "metadata": {},
   "outputs": [
    {
     "name": "stdout",
     "output_type": "stream",
     "text": [
      "Hey there, kiddo! I'm Robert, your math teacher. Now, let's dive into one of my favorite topics in math: linear algebra.\n",
      "\n",
      "Linear algebra is like being an architect, but instead of designing buildings, you're working with vectors and matrices to solve problems that involve multiple variables. It's a branch of mathematics that deals with the study of linear relationships between variables.\n",
      "\n",
      "Imagine you have a bunch of points on a 2D or 3D plane, and you want to find the best way to move from one point to another while keeping track of how much distance you've traveled and which direction we're moving. That's basically what linear algebra is all about.\n",
      "\n",
      "There are several key concepts in linear algebra that I'd like to cover with you:\n",
      "\n",
      "1. **Vectors**: A vector is a quantity with both magnitude (length) and direction. Think of it like a stick with an arrow on the end, pointing in a specific direction.\n",
      "2. **Matrices**: A matrix is a table filled with numbers and symbols that can be used to represent relationships between variables. You can think of it like a spreadsheet, but instead of rows and columns, you have rows and columns made up of vectors or matrices.\n",
      "3. **Linear transformations**: These are operations that change one vector or matrix into another while preserving the direction. Think of it like rotating a stick around its axis so that it's pointing in a new direction.\n",
      "\n",
      "Now, let me give you an example to make this more concrete:\n",
      "\n",
      "Suppose we have two points on a 2D plane: (2,3) and (-1,4). We want to find the best way to move from point A to point B while keeping track of how much distance we've traveled. We can represent these points as vectors:\n",
      "Point A: [2, 3]\n",
      "Point B: [-1, 4]\n",
      "\n",
      "To find the best path, we can use a matrix that represents the linear transformation (or rotation) needed to move from A to B. This matrix will be like a special tool that helps us calculate the distance and direction of our journey.\n",
      "\n",
      "Once we have this matrix, we can multiply it by each vector to get the corresponding displacement vectors, which will give us a set of directions for how far each point on the path has moved. By summing up these displacements, we'll be able to find out the total distance traveled.\n",
      "\n",
      "Linear algebra is all about solving problems like this using matrices and linear transformations. It's an incredibly powerful tool that can help you solve all sorts of real-world problems in fields like engineering, physics, computer science, and even music!\n",
      "\n",
      "I hope this explanation helped you understand linear algebra a little better. Do you have any questions or would you like more examples?\n"
     ]
    }
   ],
   "source": [
    "# Create the full chain\n",
    "full_chain = {\n",
    "    'topic': classification_chain,\n",
    "    'question': lambda x: x['question']\n",
    "} | RunnableLambda(route)\n",
    "# Define the input question\n",
    "question = \"explain linear algebra.\"\n",
    "res = full_chain.invoke({'question': question})\n",
    "print(res)"
   ]
  },
  {
   "cell_type": "code",
   "execution_count": 66,
   "metadata": {},
   "outputs": [
    {
     "data": {
      "text/plain": [
       "{\n",
       "  topic: ChatPromptTemplate(input_variables=['question'], input_types={}, partial_variables={}, messages=[HumanMessagePromptTemplate(prompt=PromptTemplate(input_variables=['question'], input_types={}, partial_variables={}, template='Given the user question below, classify it as either being about `Math`, `Tamil`, or `History`.\\n            Do not respond with more than one word.\\n\\n            Question : {question}\\n            Classification:'), additional_kwargs={})])\n",
       "         | ChatOllama(model='llama3.2:1b', base_url='http://localhost:11434')\n",
       "         | StrOutputParser(),\n",
       "  question: RunnableLambda(...)\n",
       "}\n",
       "| RunnableLambda(route)"
      ]
     },
     "execution_count": 66,
     "metadata": {},
     "output_type": "execute_result"
    }
   ],
   "source": [
    "full_chain"
   ]
  },
  {
   "cell_type": "code",
   "execution_count": 84,
   "metadata": {},
   "outputs": [
    {
     "name": "stdout",
     "output_type": "stream",
     "text": [
      "நீ முன்னே வந்தாய். பிரயாபோக்கும் எல்லம் உங்கள் கற்பதற்கு ஏதேனும் நீண்ட வரலாற்றை ஒழிய வேண்டும். அப்படி ஆசிரியர்கள் உங்கள் அறிவுநிலையை ஊட்டுகின்றனர். அதன் படி, இன்றைய மாணவர்களுக்கு உங்கள் ஆசிரியர் என்று நம்பியால், \"பிரயாபோக்கும்\" எட்டு இரண்டு வகைகள் உள்ளன. அதைச் சில பாடங்களில் அறிய முடியும்.\n",
      "\n",
      "ஒரு வகை \"பிரயாபோக்கு\" என்பது, நீ சரியான படி நல்ல வழியில் முன்னேறுவதைக் குறிக்கிறது. ஒரு ஆசிரியர், அந்த பொழுதை \"மேலோடு\" அணி என்று பொருள்படுவதே பிரயாபோக்கு.\n",
      "\n",
      "ஒரு ஆசிரியர், அந்த \"மேலோடு\" வழி என்று உங்களுக்குப் பொறுப்பாய் இருந்தால், \"அரிசியில் செய்வது\" என்று உங்கள் ஆட்சி பயிற்சியை மேற்கொண்டு நீ அரிசியை ஒரு தனித்துவமான உணவாக உங்கள் பலத்திற்குச் செல்வதற்கு வழியாகவும், நீ ஒரு அடியில் இருப்பதை உங்கள் ஆட்சி பயிற்சியின் வழியாக அந்த \"மேலோடு\" என்ற வழி ஒளி வருவதைப் பொறுத்திருக்க வேண்டும்.\n",
      "\n",
      "அந்த \"மேலோடு\" வழி, ஒளியின் மீது பார்வையை கொண்டு சென்று \"உடலில்\" இருந்து அழுவதை, ஒளி எப்போதாவது மாறுகின்றது. அங்கு, \"உடல்\" அணி அரிசியை உடலில் இருந்து ஒளியைப் பறித்து வெளியே கொண்டு அமர்ந்து உங்கள் ஆட்சி பயிற்சியின் வழியாக ஒளியை உண்ணுவதே பிரயாபோக்கு.\n",
      "\n",
      "எனவே, சரி.\n"
     ]
    }
   ],
   "source": [
    "# Define the input question\n",
    "question = \"tell pirapokkum ellam uyirkum thirukural with number.\"\n",
    "res = full_chain.invoke({'question': question})\n",
    "print(res)"
   ]
  },
  {
   "cell_type": "code",
   "execution_count": 86,
   "metadata": {},
   "outputs": [
    {
     "name": "stdout",
     "output_type": "stream",
     "text": [
      "நான் தங்கும் பெரியவன், என்று சொல்கிறேன். அவனுடைய நாளங்கள் மிகப்பெரியவை, என்று சொல்கிறேன்.\n",
      "\n",
      "அதனால், நான் வளர்ந்த பண்பும், அவன் முயற்சிகளும் என்பதை ஆராய்ந்து பல்வேறு தட்ப நிலைகளில் அவனுக்கு எழுந்த முயற்சி உணர்ந்து வருகிறேன்.\n"
     ]
    }
   ],
   "source": [
    "# Define the input question\n",
    "question = \"write a poem in tamil about discipline.\"\n",
    "res = full_chain.invoke({'question': question})\n",
    "print(res)"
   ]
  },
  {
   "cell_type": "code",
   "execution_count": 89,
   "metadata": {},
   "outputs": [
    {
     "name": "stdout",
     "output_type": "stream",
     "text": [
      "I'd be happy to explain some math concepts and tell you a story about America's founding.\n",
      "\n",
      "So, you know how we measure things like distance and speed, right? Like the distance from our house to school is 2 miles. Well, in the past, people used different ways to measure those distances, but they were all kind of rough. That's where math comes in - it helps us figure out exactly how far or fast something is.\n",
      "\n",
      "In the case of America's founding, we need to use some really cool math concepts like geometry and measurement to make sense of the early explorers' journeys.\n",
      "\n",
      "Let me tell you a story about how America was found.\n",
      "\n",
      "It was 1492, and Christopher Columbus had just set sail from Spain with a small fleet of ships. He was on a mission to find a new route to Asia, but he got lost in the Atlantic Ocean. It took him three months to reach North America, which he called \"La Española\" (The Spanish Island).\n",
      "\n",
      "Columbus and his crew explored some parts of North America, including present-day Florida, the Caribbean, and possibly even South America. They found new lands, met with native tribes, and even discovered some amazing plants and animals.\n",
      "\n",
      "Now, you might be wondering how long it took Columbus to reach these new lands. Well, let's use some math to figure that out. Let's say Columbus and his crew sailed for 90 days straight, covering a distance of... (wait for it)... 1,100 miles!\n",
      "\n",
      "To calculate the average speed, we can divide the total distance by the number of days. That means they traveled at an average speed of about 12.5 miles per day.\n",
      "\n",
      "Now, here's where math gets really cool. If Columbus had to sail through storms and rough seas for some time, it would take him many more days or even weeks to reach these new lands. Let's say he lost one day due to bad weather. That means they actually traveled for 91 days instead of 90.\n",
      "\n",
      "To find out how long it took them to arrive at La Española, we can subtract the lost day from the original time. So, they arrived in about 9 weeks! That's a pretty rough estimate, but it gives you an idea of just how long it took Columbus and his crew to reach these new lands.\n",
      "\n",
      "In conclusion, math played a huge role in helping us understand what happened when Christopher Columbus set sail for America all those years ago. It helped us calculate distances, speeds, and even estimated the amount of time it would take them to arrive at their destination. Who knew math could be so exciting?\n"
     ]
    }
   ],
   "source": [
    "# Define the input question\n",
    "question = \"write a stroy about how america was found.\"\n",
    "res = full_chain.invoke({'question': question})\n",
    "print(res)"
   ]
  }
 ],
 "metadata": {
  "kernelspec": {
   "display_name": "Python 3",
   "language": "python",
   "name": "python3"
  },
  "language_info": {
   "codemirror_mode": {
    "name": "ipython",
    "version": 3
   },
   "file_extension": ".py",
   "mimetype": "text/x-python",
   "name": "python",
   "nbconvert_exporter": "python",
   "pygments_lexer": "ipython3",
   "version": "3.10.11"
  }
 },
 "nbformat": 4,
 "nbformat_minor": 2
}
