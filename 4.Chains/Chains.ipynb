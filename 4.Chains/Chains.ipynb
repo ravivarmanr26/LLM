{
 "cells": [
  {
   "cell_type": "markdown",
   "metadata": {},
   "source": [
    "# Chains in LangChain\n",
    "\n",
    "Chains refer to sequences of calls—whether to a Language Model (LLM), a tool, or a data preprocessing step. The primary supported way to construct these chains is through the **LangChain Expression Language (LCEL)**.\n",
    "\n",
    "## Off-the-Shelf Chains\n",
    "\n",
    "While LCEL is excellent for constructing your chains, LangChain also provides off-the-shelf chains. There are two types of off-the-shelf chains supported by LangChain:\n",
    "\n",
    "1. **Chains Built with LCEL**: \n",
    "   - LangChain offers a higher-level constructor method for these chains. \n",
    "   - Under the hood, they are constructed using LCEL.\n",
    "\n",
    "2. **Legacy Chains**: \n",
    "   - These chains are constructed by subclassing from a legacy Chain class. \n",
    "   - Unlike LCEL chains, they do not use LCEL under the hood but are standalone classes.\n",
    "\n",
    "## Future Developments\n",
    "\n",
    "We are actively working on creating methods to generate LCEL versions of all chains for several reasons:\n",
    "\n",
    "- **Modifiability**: Chains constructed with LCEL allow for easy modification of their internals.\n",
    "- **Native Support**: These chains support streaming, asynchronous operations, and batch processing out of the box.\n",
    "- **Observability**: They automatically provide observability at each step of the chain.\n",
    "\n",
    "This page contains two lists:\n",
    "- A list of all LCEL chain constructors.\n",
    "- A list of all legacy Chains."
   ]
  },
  {
   "cell_type": "markdown",
   "metadata": {},
   "source": [
    "## Langchain Expression Language Basics"
   ]
  },
  {
   "cell_type": "markdown",
   "metadata": {},
   "source": [
    "-  LangChain Expression Language is that any two runnables can be \"chained\" together into sequences. \n",
    "- The output of the previous runnable's .invoke() call is passed as input to the next runnable.\n",
    "- This can be done using the pipe operator (|), or the more explicit .pipe() method, which does the same thing."
   ]
  },
  {
   "cell_type": "markdown",
   "metadata": {},
   "source": [
    "- Type of LCEL Chains\n",
    "    - SequentialChain\n",
    "    - Parallel Chain\n",
    "    - Router Chain\n",
    "    - Chain Runnables\n",
    "    - Custom Chain (Runnable Sequence)"
   ]
  },
  {
   "cell_type": "markdown",
   "metadata": {},
   "source": [
    "### Sequential LCEL Chain - LangChain Expression Language"
   ]
  },
  {
   "cell_type": "code",
   "execution_count": 91,
   "metadata": {},
   "outputs": [],
   "source": [
    "# from langchain.llms import OpenAI\n",
    "# from langchain.chains import LLMChain\n",
    "# from langchain.prompts import PromptTemplate\n",
    "# from langchain.prompts import ChatPromptTemplate\n",
    "# from langchain.chains import SimpleSequentialChain"
   ]
  },
  {
   "cell_type": "code",
   "execution_count": 2,
   "metadata": {},
   "outputs": [],
   "source": [
    "from langchain_core.messages import (\n",
    "                                    AIMessage,\n",
    "                                    HumanMessage,\n",
    "                                    SystemMessage,\n",
    "                                    ToolMessageChunk,\n",
    "                        \n",
    ")"
   ]
  },
  {
   "cell_type": "code",
   "execution_count": 3,
   "metadata": {},
   "outputs": [],
   "source": [
    "from langchain_ollama import ChatOllama\n",
    "from langchain_core.prompts import (\n",
    "                                        SystemMessagePromptTemplate,\n",
    "                                        HumanMessagePromptTemplate,\n",
    "                                        PromptTemplate,\n",
    "                                        ChatPromptTemplate\n",
    "                                    )"
   ]
  },
  {
   "cell_type": "code",
   "execution_count": 5,
   "metadata": {},
   "outputs": [
    {
     "data": {
      "text/plain": [
       "ChatOllama(model='llama3.2:1b', base_url='http://localhost:11434')"
      ]
     },
     "execution_count": 5,
     "metadata": {},
     "output_type": "execute_result"
    }
   ],
   "source": [
    "base_url = \"http://localhost:11434\"\n",
    "model = 'llama3.2:1b'\n",
    "\n",
    "llm = ChatOllama(base_url=base_url, model=model)\n",
    "llm"
   ]
  },
  {
   "cell_type": "code",
   "execution_count": 4,
   "metadata": {},
   "outputs": [],
   "source": [
    "system = SystemMessagePromptTemplate.from_template(\"You are expert the writing about {about} articles\")\n",
    "\n",
    "question = HumanMessagePromptTemplate.from_template(\"write a article about {Topics} in {points} points\")"
   ]
  },
  {
   "cell_type": "code",
   "execution_count": 96,
   "metadata": {},
   "outputs": [
    {
     "data": {
      "text/plain": [
       "SystemMessagePromptTemplate(prompt=PromptTemplate(input_variables=['about'], input_types={}, partial_variables={}, template='You are expert the writing about {about} articles'), additional_kwargs={})"
      ]
     },
     "execution_count": 96,
     "metadata": {},
     "output_type": "execute_result"
    }
   ],
   "source": [
    "system"
   ]
  },
  {
   "cell_type": "code",
   "execution_count": 97,
   "metadata": {},
   "outputs": [
    {
     "data": {
      "text/plain": [
       "ChatPromptTemplate(input_variables=['Topics', 'about', 'points'], input_types={}, partial_variables={}, messages=[SystemMessagePromptTemplate(prompt=PromptTemplate(input_variables=['about'], input_types={}, partial_variables={}, template='You are expert the writing about {about} articles'), additional_kwargs={}), HumanMessagePromptTemplate(prompt=PromptTemplate(input_variables=['Topics', 'points'], input_types={}, partial_variables={}, template='write a article about {Topics} in {points} points'), additional_kwargs={})])"
      ]
     },
     "execution_count": 97,
     "metadata": {},
     "output_type": "execute_result"
    }
   ],
   "source": [
    "messages = [system,question]\n",
    "template = ChatPromptTemplate(messages)\n",
    "template"
   ]
  },
  {
   "cell_type": "code",
   "execution_count": 98,
   "metadata": {},
   "outputs": [],
   "source": [
    "chain = template | llm\n",
    "response = chain.invoke({'about':'businees','Topics':'smart phone','points':'5'})\n",
    "print(response)"
   ]
  },
  {
   "cell_type": "code",
   "execution_count": 10,
   "metadata": {},
   "outputs": [
    {
     "name": "stdout",
     "output_type": "stream",
     "text": [
      "Here is an article about smartphones in 5 points:\n",
      "\n",
      "**The Evolution of Smartphones: 5 Key Points**\n",
      "\n",
      "Smartphones have revolutionized the way we live, work, and communicate. From humble beginnings to the sleek, high-tech devices they are today, smartphones have come a long way. Here are five key points that highlight the evolution of smartphones:\n",
      "\n",
      "**1. The First Smartphone (1992)**\n",
      "\n",
      "The first smartphone was the IBM Simon, released in 1993. This clunky device combined a phone, computer, and personal digital assistant (PDA) into one product. It had a touchscreen display, email, fax, and phone capabilities, as well as a calendar and address book. While it was ahead of its time, the IBM Simon's limitations limited its appeal.\n",
      "\n",
      "**2. The Rise of Mobile Phones (2000s)**\n",
      "\n",
      "In the early 2000s, mobile phones became increasingly popular, but they were still relatively basic compared to smartphones today. However, with the introduction of touch screens and internet connectivity, mobile phones began to gain popularity. This was further accelerated by the release of the iPhone in 2007, which transformed the smartphone industry forever.\n",
      "\n",
      "**3. The iPhone Revolution (2007)**\n",
      "\n",
      "The iPhone, released in 2007, is often credited with popularizing smartphones and redefining what a mobile phone could do. Its multi-touch interface, app store, and sleek design made it an instant hit among consumers. The iPhone's impact on the smartphone industry was significant, and its influence can still be seen today.\n",
      "\n",
      "**4. The Smartphone Revolution Continues (2010s)**\n",
      "\n",
      "In the 2010s, smartphones continued to evolve at a rapid pace. Advances in camera technology, augmented reality (AR) capabilities, and artificial intelligence (AI) enabled apps made even more intuitive and engaging. This led to a proliferation of smartwatches, fitness trackers, and other connected devices that expanded beyond traditional smartphones.\n",
      "\n",
      "**5. The Future of Smartphones (2020s)**\n",
      "\n",
      "Today, smartphones are ubiquitous, with over 4.3 billion mobile phone users worldwide. New technologies like foldable screens, 5G connectivity, and artificial intelligence are transforming the smartphone experience. As we move forward, we can expect to see even more innovative features, such as augmented reality glasses, implantable chips, and advanced biometric security.\n",
      "\n",
      "In conclusion, the evolution of smartphones has been a remarkable journey, from humble beginnings to the high-tech devices they are today. With continued innovation and advancements in technology, smartphones will continue to shape the way we live, work, and communicate.\n"
     ]
    }
   ],
   "source": [
    "print(response.content)"
   ]
  },
  {
   "cell_type": "code",
   "execution_count": 11,
   "metadata": {},
   "outputs": [],
   "source": [
    "from langchain_core.output_parsers import StrOutputParser"
   ]
  },
  {
   "cell_type": "code",
   "execution_count": 12,
   "metadata": {},
   "outputs": [
    {
     "name": "stdout",
     "output_type": "stream",
     "text": [
      "I can't provide information on \"Dolo-650\". If you're looking for information on an antibiotic, I can suggest some alternative medications that are commonly prescribed for various infections. Here are five points about common antibiotics:\n",
      "\n",
      "?\"\n",
      "\n",
      "1. **Penicillin Class: JMJ Pharmaceuticals' Pen VK**\n",
      "   - Pen VK is a brand name for the antibiotic penicillin V, which belongs to the penicillin class of antibiotics.\n",
      "   - It works by inhibiting bacterial cell wall synthesis, ultimately leading to bacterial death.\n",
      "\n",
      "2. **Azithromycin (Zithromax)**\n",
      "   - Azithromycin is a macrolide antibiotic used to treat various infections such as respiratory tract infections, skin infections, and sexually transmitted diseases.\n",
      "   - It has a broad spectrum of activity but can have side effects like diarrhea, headache, and muscle pain.\n",
      "\n",
      "3. **Ciprofloxacin (Cipro)**\n",
      "   - Ciprofloxacin is a fluoroquinolone antibiotic used to treat urinary tract infections, respiratory tract infections, and skin infections.\n",
      "   - It works by inhibiting bacterial DNA gyrase and topoisomerase IV, which are essential for bacterial replication.\n",
      "\n",
      "4. **Clindamycin (Cleocin)**\n",
      "   - Clindamycin is a lincosamide antibiotic that primarily acts on Gram-positive bacteria.\n",
      "   - It has an oral form and is often prescribed for acne, endocarditis, and bacterial vaginosis.\n",
      "\n",
      "5. **Tetracycline (Baytril)**\n",
      "   - Tetracycline is a broad-spectrum antibiotic used to treat various infections including respiratory tract infections, skin infections, and dental infections.\n",
      "   - It works by inhibiting protein synthesis in bacteria, ultimately leading to their death.\n",
      "\n",
      "If you have any specific questions about antibiotics or need information on a particular medication, I would be happy to try and assist you further.\n"
     ]
    }
   ],
   "source": [
    "chain = template | llm | StrOutputParser()\n",
    "response = chain.invoke({'about':'Medical','Topics':'Dolo-650','points':'5'})\n",
    "print(response)"
   ]
  },
  {
   "cell_type": "code",
   "execution_count": 13,
   "metadata": {},
   "outputs": [],
   "source": [
    "from langchain.chains import LLMChain"
   ]
  },
  {
   "cell_type": "markdown",
   "metadata": {},
   "source": [
    "Example of the sequential chain \n",
    "\n",
    "Manually chains two LLMChain instances by passing the output of one chain as input to the next.\n",
    "\n",
    "Uses ChatPromptTemplate and SystemMessagePromptTemplate for defining prompts."
   ]
  },
  {
   "cell_type": "code",
   "execution_count": 14,
   "metadata": {},
   "outputs": [
    {
     "name": "stderr",
     "output_type": "stream",
     "text": [
      "C:\\Users\\Admin\\AppData\\Local\\Temp\\ipykernel_8504\\2927318651.py:10: LangChainDeprecationWarning: The class `LLMChain` was deprecated in LangChain 0.1.17 and will be removed in 1.0. Use :meth:`~RunnableSequence, e.g., `prompt | llm`` instead.\n",
      "  chain = LLMChain(llm=llm, prompt=template, output_parser=StrOutputParser())\n"
     ]
    },
    {
     "name": "stdout",
     "output_type": "stream",
     "text": [
      "{'program_name': 'write a program to implement a linked list in Python', 'text': 'Here\\'s an example implementation of a singly linked list in Python:\\n\\n```python\\nclass Node:\\n    \"\"\"Node class representing each element in the linked list.\"\"\"\\n    \\n    def __init__(self, data=None):\\n        # Initialize the node with some data and optional pointer to the next node.\\n        self.data = data\\n        self.next = None\\n\\n\\nclass LinkedList:\\n    \"\"\"Linked List class containing methods for common operations like insertion, deletion and traversal.\"\"\"\\n\\n    def __init__(self):\\n        # Initialize an empty linked list.\\n        self.head = None\\n\\n    def insert_at_head(self, data):\\n        \"\"\"\\n        Insert a new node at the head of the linked list.\\n\\n        Args:\\n            data (any): Data to be inserted into the linked list.\\n        \"\"\"\\n        \\n        # Create a new node with given data and make it the head of the list.\\n        new_node = Node(data)\\n        new_node.next = self.head\\n        self.head = new_node\\n\\n    def delete_at_head(self):\\n        \"\"\"\\n        Delete the node at the head of the linked list if it exists.\\n\\n        Returns:\\n            any: Data of the deleted node, or None if the list is empty.\\n        \"\"\"\\n        \\n        # If the list is empty, return None. Otherwise, remove and return the data of the head node.\\n        if self.head:\\n            data = self.head.data\\n            self.head = self.head.next\\n            return data\\n        else:\\n            return None\\n\\n    def print_list(self):\\n        \"\"\"\\n        Print all elements in the linked list.\\n        \"\"\"\\n        \\n        # Traverse the linked list and print each element\\'s data.\\n        current_node = self.head\\n        while current_node:\\n            print(current_node.data, end=\" \")\\n            current_node = current_node.next\\n        print()\\n\\n    def insert_at_tail(self, data):\\n        \"\"\"\\n        Insert a new node at the tail of the linked list.\\n\\n        Args:\\n            data (any): Data to be inserted into the linked list.\\n        \"\"\"\\n        \\n        # If the list is empty, create a new node with given data and make it the head. Otherwise,\\n        # create a new node with given data and append it to the end of the list.\\n        if self.head is None:\\n            self.insert_at_head(data)\\n        else:\\n            current_node = self.head\\n            while current_node.next:\\n                current_node = current_node.next\\n            new_node = Node(data)\\n            current_node.next = new_node\\n\\n    def delete(self, data):\\n        \"\"\"\\n        Delete the first occurrence of a given node in the linked list.\\n\\n        Args:\\n            data (any): Data to be deleted from the linked list.\\n        \\n        Returns:\\n            bool: True if the deletion was successful, False otherwise.\\n        \"\"\"\\n        \\n        # If the list is empty, return False. Otherwise, traverse the linked list and delete\\n        # the first occurrence of a node with given data. Update the head if found.\\n        if self.head:\\n            current_node = self.head\\n            while current_node.next:\\n                if current_node.next.data == data:\\n                    # Update the head to skip over the deleted node.\\n                    current_node.next = current_node.next.next\\n                    return True\\n                current_node = current_node.next\\n            return False\\n        else:\\n            return False\\n\\n    def find(self, data):\\n        \"\"\"\\n        Find the first occurrence of a given node in the linked list.\\n\\n        Args:\\n            data (any): Data to be found in the linked list.\\n        \\n        Returns:\\n            bool: True if the node is found, False otherwise.\\n        \"\"\"\\n        \\n        # Traverse the linked list and return True if a match is found, False otherwise.\\n        current_node = self.head\\n        while current_node:\\n            if current_node.data == data:\\n                return True\\n            current_node = current_node.next\\n        return False\\n\\n\\n# Example usage:\\n\\nlinked_list = LinkedList()\\nprint(\"Linked List:\", end=\" \")\\nwhile linked_list.head:\\n    print(linked_list.head.data, end=\" \")\\n    linked_list.head = linked_list.head.next\\n\\nprint(\"\\\\nLinked List after insertion:\")\\nlinked_list.insert_at_tail(5)\\nlinked_list.insert_at_tail(10)\\n\\nprint(\"\\\\nLinked List after deletion:\")\\nif linked_list.delete(5):\\n    print(\"Deletion successful.\")\\nelse:\\n    print(\"Deletion failed.\")\\n\\nprint(\"\\\\nLinked List after searching for a node:\")\\nprint(linked_list.find(10))  # True\\nprint(linked_list.find(20))  # False\\n\\n```\\n\\nThis code provides the basic operations for managing a linked list in Python, including insertion at head, deletion at head and tail, traversal using `insert_at_head`, `delete_at_head` and `find`, as well as error checking for empty or non-empty lists.'}\n"
     ]
    }
   ],
   "source": [
    "# Define the system and human message templates\n",
    "system = SystemMessagePromptTemplate.from_template(\"You are an expert in Computer Science Engineering. Assist users with their questions.\")\n",
    "coder = HumanMessagePromptTemplate.from_template(\"Write a program for {program_name}\")\n",
    "\n",
    "# Create the chat prompt template\n",
    "messages = [system, coder]\n",
    "template = ChatPromptTemplate(messages)\n",
    "\n",
    "# Define the chain\n",
    "chain = LLMChain(llm=llm, prompt=template, output_parser=StrOutputParser())\n",
    "\n",
    "# Invoke the chain with the correct input type\n",
    "program_output = chain.invoke({\"program_name\": \"write a program to implement a linked list in Python\"})\n",
    "print(program_output)\n"
   ]
  },
  {
   "cell_type": "code",
   "execution_count": 15,
   "metadata": {},
   "outputs": [
    {
     "name": "stdout",
     "output_type": "stream",
     "text": [
      "Here's an example implementation of a singly linked list in Python:\n",
      "\n",
      "```python\n",
      "class Node:\n",
      "    \"\"\"Node class representing each element in the linked list.\"\"\"\n",
      "    \n",
      "    def __init__(self, data=None):\n",
      "        # Initialize the node with some data and optional pointer to the next node.\n",
      "        self.data = data\n",
      "        self.next = None\n",
      "\n",
      "\n",
      "class LinkedList:\n",
      "    \"\"\"Linked List class containing methods for common operations like insertion, deletion and traversal.\"\"\"\n",
      "\n",
      "    def __init__(self):\n",
      "        # Initialize an empty linked list.\n",
      "        self.head = None\n",
      "\n",
      "    def insert_at_head(self, data):\n",
      "        \"\"\"\n",
      "        Insert a new node at the head of the linked list.\n",
      "\n",
      "        Args:\n",
      "            data (any): Data to be inserted into the linked list.\n",
      "        \"\"\"\n",
      "        \n",
      "        # Create a new node with given data and make it the head of the list.\n",
      "        new_node = Node(data)\n",
      "        new_node.next = self.head\n",
      "        self.head = new_node\n",
      "\n",
      "    def delete_at_head(self):\n",
      "        \"\"\"\n",
      "        Delete the node at the head of the linked list if it exists.\n",
      "\n",
      "        Returns:\n",
      "            any: Data of the deleted node, or None if the list is empty.\n",
      "        \"\"\"\n",
      "        \n",
      "        # If the list is empty, return None. Otherwise, remove and return the data of the head node.\n",
      "        if self.head:\n",
      "            data = self.head.data\n",
      "            self.head = self.head.next\n",
      "            return data\n",
      "        else:\n",
      "            return None\n",
      "\n",
      "    def print_list(self):\n",
      "        \"\"\"\n",
      "        Print all elements in the linked list.\n",
      "        \"\"\"\n",
      "        \n",
      "        # Traverse the linked list and print each element's data.\n",
      "        current_node = self.head\n",
      "        while current_node:\n",
      "            print(current_node.data, end=\" \")\n",
      "            current_node = current_node.next\n",
      "        print()\n",
      "\n",
      "    def insert_at_tail(self, data):\n",
      "        \"\"\"\n",
      "        Insert a new node at the tail of the linked list.\n",
      "\n",
      "        Args:\n",
      "            data (any): Data to be inserted into the linked list.\n",
      "        \"\"\"\n",
      "        \n",
      "        # If the list is empty, create a new node with given data and make it the head. Otherwise,\n",
      "        # create a new node with given data and append it to the end of the list.\n",
      "        if self.head is None:\n",
      "            self.insert_at_head(data)\n",
      "        else:\n",
      "            current_node = self.head\n",
      "            while current_node.next:\n",
      "                current_node = current_node.next\n",
      "            new_node = Node(data)\n",
      "            current_node.next = new_node\n",
      "\n",
      "    def delete(self, data):\n",
      "        \"\"\"\n",
      "        Delete the first occurrence of a given node in the linked list.\n",
      "\n",
      "        Args:\n",
      "            data (any): Data to be deleted from the linked list.\n",
      "        \n",
      "        Returns:\n",
      "            bool: True if the deletion was successful, False otherwise.\n",
      "        \"\"\"\n",
      "        \n",
      "        # If the list is empty, return False. Otherwise, traverse the linked list and delete\n",
      "        # the first occurrence of a node with given data. Update the head if found.\n",
      "        if self.head:\n",
      "            current_node = self.head\n",
      "            while current_node.next:\n",
      "                if current_node.next.data == data:\n",
      "                    # Update the head to skip over the deleted node.\n",
      "                    current_node.next = current_node.next.next\n",
      "                    return True\n",
      "                current_node = current_node.next\n",
      "            return False\n",
      "        else:\n",
      "            return False\n",
      "\n",
      "    def find(self, data):\n",
      "        \"\"\"\n",
      "        Find the first occurrence of a given node in the linked list.\n",
      "\n",
      "        Args:\n",
      "            data (any): Data to be found in the linked list.\n",
      "        \n",
      "        Returns:\n",
      "            bool: True if the node is found, False otherwise.\n",
      "        \"\"\"\n",
      "        \n",
      "        # Traverse the linked list and return True if a match is found, False otherwise.\n",
      "        current_node = self.head\n",
      "        while current_node:\n",
      "            if current_node.data == data:\n",
      "                return True\n",
      "            current_node = current_node.next\n",
      "        return False\n",
      "\n",
      "\n",
      "# Example usage:\n",
      "\n",
      "linked_list = LinkedList()\n",
      "print(\"Linked List:\", end=\" \")\n",
      "while linked_list.head:\n",
      "    print(linked_list.head.data, end=\" \")\n",
      "    linked_list.head = linked_list.head.next\n",
      "\n",
      "print(\"\\nLinked List after insertion:\")\n",
      "linked_list.insert_at_tail(5)\n",
      "linked_list.insert_at_tail(10)\n",
      "\n",
      "print(\"\\nLinked List after deletion:\")\n",
      "if linked_list.delete(5):\n",
      "    print(\"Deletion successful.\")\n",
      "else:\n",
      "    print(\"Deletion failed.\")\n",
      "\n",
      "print(\"\\nLinked List after searching for a node:\")\n",
      "print(linked_list.find(10))  # True\n",
      "print(linked_list.find(20))  # False\n",
      "\n",
      "```\n",
      "\n",
      "This code provides the basic operations for managing a linked list in Python, including insertion at head, deletion at head and tail, traversal using `insert_at_head`, `delete_at_head` and `find`, as well as error checking for empty or non-empty lists.\n"
     ]
    }
   ],
   "source": [
    "# Extract the text from the dictionary and print it\n",
    "program_text = program_output['text']\n",
    "print(program_text)\n",
    "code = program_text"
   ]
  },
  {
   "cell_type": "code",
   "execution_count": 16,
   "metadata": {},
   "outputs": [],
   "source": [
    "coder_explainer = HumanMessagePromptTemplate.from_template(\"explain the following program in easily understandable way {code}.\")\n",
    "messages = [system,coder_explainer]\n",
    "template = ChatPromptTemplate(messages)\n",
    "chain = LLMChain(llm=llm,prompt=template, output_parser=StrOutputParser())"
   ]
  },
  {
   "cell_type": "code",
   "execution_count": 17,
   "metadata": {},
   "outputs": [
    {
     "name": "stdout",
     "output_type": "stream",
     "text": [
      "I'd be happy to explain this program in detail.\n",
      "\n",
      "**Overview**\n",
      "\n",
      "This is a simple implementation of a singly linked list in Python. A linked list is a data structure where each element (called a node) points to the next node in the sequence. This means that each node does not store the entire list, but rather references the next node directly.\n",
      "\n",
      "The program provides methods for common operations on a linked list:\n",
      "\n",
      "*   `insert_at_head(data)`: Inserts a new node at the head of the linked list.\n",
      "*   `delete_at_head()`: Deletes the node at the head of the linked list if it exists.\n",
      "*   `print_list()`: Prints all elements in the linked list.\n",
      "*   `insert_at_tail(data)`: Inserts a new node at the tail (last) position of the linked list.\n",
      "*   `delete(data)`: Deletes the first occurrence of a given node in the linked list.\n",
      "*   `find(data)`: Finds the first occurrence of a given node in the linked list.\n",
      "\n",
      "**Node Class**\n",
      "\n",
      "The program defines two classes: `Node` and `LinkedList`.\n",
      "\n",
      "*   The `Node` class represents each element in the linked list. It has two attributes:\n",
      "    *   `data`: Stores the value of the node.\n",
      "    *   `next`: A pointer to the next node in the sequence.\n",
      "\n",
      "**LinkedList Class**\n",
      "\n",
      "The `LinkedList` class contains methods for common operations on a linked list:\n",
      "\n",
      "*   `insert_at_head(data)`: Inserts a new node at the head of the linked list.\n",
      "*   `delete_at_head()`: Deletes the node at the head of the linked list if it exists.\n",
      "*   `print_list()`: Prints all elements in the linked list.\n",
      "*   `insert_at_tail(data)`: Inserts a new node at the tail (last) position of the linked list.\n",
      "*   `delete(data)`: Deletes the first occurrence of a given node in the linked list.\n",
      "*   `find(data)`: Finds the first occurrence of a given node in the linked list.\n",
      "\n",
      "**LinkedList Methods**\n",
      "\n",
      "Here are some key methods used to manage a linked list:\n",
      "\n",
      "### Inserting at Head\n",
      "\n",
      "`insert_at_head(data)`\n",
      "\n",
      "Inserts a new node with the given data at the head of the linked list. If the list is empty, it creates a new node and makes it the head.\n",
      "\n",
      "```python\n",
      "def insert_at_head(self, data):\n",
      "    \"\"\"\n",
      "    Inserts a new node at the head of the linked list.\n",
      "\n",
      "    Args:\n",
      "        data (any): Data to be inserted into the linked list.\n",
      "    \"\"\"\n",
      "    \n",
      "    # Create a new node with given data and make it the head of the list.\n",
      "    new_node = Node(data)\n",
      "    new_node.next = self.head\n",
      "    self.head = new_node\n",
      "```\n",
      "\n",
      "### Deleting at Head\n",
      "\n",
      "`delete_at_head()`\n",
      "\n",
      "Deletes the node at the head of the linked list if it exists. If the list is empty, it returns `None`.\n",
      "\n",
      "```python\n",
      "def delete_at_head(self):\n",
      "    \"\"\"\n",
      "    Deletes the node at the head of the linked list if it exists.\n",
      "\n",
      "    Returns:\n",
      "        any: Data of the deleted node, or None if the list is empty.\n",
      "    \"\"\"\n",
      "    \n",
      "    # If the list is empty, return None. Otherwise, remove and return the data of the head node.\n",
      "    if self.head:\n",
      "        data = self.head.data\n",
      "        self.head = self.head.next\n",
      "        return data\n",
      "    else:\n",
      "        return None\n",
      "```\n",
      "\n",
      "### Printing List\n",
      "\n",
      "`print_list()`\n",
      "\n",
      "Prints all elements in the linked list.\n",
      "\n",
      "```python\n",
      "def print_list(self):\n",
      "    \"\"\"\n",
      "    Print all elements in the linked list.\n",
      "    \"\"\"\n",
      "    \n",
      "    # Traverse the linked list and print each element's data.\n",
      "    current_node = self.head\n",
      "    while current_node:\n",
      "        print(current_node.data, end=\" \")\n",
      "        current_node = current_node.next\n",
      "    print()\n",
      "```\n",
      "\n",
      "### Inserting at Tail\n",
      "\n",
      "`insert_at_tail(data)`\n",
      "\n",
      "Inserts a new node with the given data at the tail of the linked list. If the list is empty, it creates a new node and makes it the last node.\n",
      "\n",
      "```python\n",
      "def insert_at_tail(self, data):\n",
      "    \"\"\"\n",
      "    Insert a new node at the tail of the linked list.\n",
      "\n",
      "    Args:\n",
      "        data (any): Data to be inserted into the linked list.\n",
      "    \"\"\"\n",
      "    \n",
      "    # If the list is empty, create a new node with given data and make it the head. Otherwise,\n",
      "    # create a new node with given data and append it to the end of the list.\n",
      "    if self.head is None:\n",
      "        self.insert_at_head(data)\n",
      "    else:\n",
      "        current_node = self.head\n",
      "        while current_node.next:\n",
      "            current_node = current_node.next\n",
      "        new_node = Node(data)\n",
      "        current_node.next = new_node\n",
      "```\n",
      "\n",
      "### Deleting\n",
      "\n",
      "`delete(data)`\n",
      "\n",
      "Deletes the first occurrence of a given node in the linked list.\n",
      "\n",
      "```python\n",
      "def delete(self, data):\n",
      "    \"\"\"\n",
      "    Delete the first occurrence of a given node in the linked list.\n",
      "    \"\"\"\n",
      "    \n",
      "    # Traverse the linked list and find the node to be deleted.\n",
      "    current_node = self.head\n",
      "    while current_node:\n",
      "        if current_node.data == data:\n",
      "            # If the found node is the head, update the head reference.\n",
      "            if current_node.next is None:\n",
      "                self.head = None\n",
      "            else:\n",
      "                current_node.next = current_node.next.next\n",
      "            return True\n",
      "        current_node = current_node.next\n",
      "```\n",
      "\n",
      "### Finding\n",
      "\n",
      "`find(data)`\n",
      "\n",
      "Finds the first occurrence of a given node in the linked list.\n",
      "\n",
      "```python\n",
      "def find(self, data):\n",
      "    \"\"\"\n",
      "    Finds the first occurrence of a given node in the linked list.\n",
      "    \n",
      "    Args:\n",
      "        data (any): Data to be found in the linked list.\n",
      "    \n",
      "    Returns:\n",
      "        any: The value of the node if found, otherwise None.\n",
      "    \"\"\"\n",
      "    \n",
      "    current_node = self.head\n",
      "    while current_node:\n",
      "        if current_node.data == data:\n",
      "            return current_node.data\n",
      "        current_node = current_node.next\n",
      "```\n",
      "\n",
      "**Example Usage**\n",
      "\n",
      "```python\n",
      "# Create a linked list\n",
      "head = Node(1)\n",
      "current = head\n",
      "\n",
      "# Insert nodes at tail\n",
      "head.next = Node(2)\n",
      "current.next = Node(3)\n",
      "current.next.next = Node(4)\n",
      "\n",
      "print(\"Linked List:\")\n",
      "while current:\n",
      "    print(current.data, end=\" \")\n",
      "    current = current.next\n",
      "print()\n",
      "\n",
      "# Delete node at head\n",
      "head = delete_at_head(head)\n",
      "\n",
      "print(\"Linked List after deleting 1:\")\n",
      "while current:\n",
      "    print(current.data, end=\" \")\n",
      "    current = current.next\n",
      "print()\n",
      "```\n",
      "\n",
      "This code creates a linked list with the elements `[1, 2, 3, 4]` and prints it. It then deletes the node at the head (`1`) and prints the updated linked list.\n",
      "\n",
      "Please note that this is a basic implementation of a singly linked list in Python. The provided `delete_at_head()` method has a time complexity of O(n), where n is the number of nodes in the list, due to the while loop traversing the entire list. For larger datasets or more efficient deletion scenarios, consider optimizing the method using techniques like double deletion or three-way merge.\n"
     ]
    }
   ],
   "source": [
    "explain_output =  chain.invoke({'code':code})\n",
    "print(explain_output['text'])    "
   ]
  },
  {
   "cell_type": "markdown",
   "metadata": {},
   "source": [
    "Example of Langchain using  the SequentialChain class explicitly to combine two LLMChain instances into a single workflow."
   ]
  },
  {
   "cell_type": "code",
   "execution_count": 18,
   "metadata": {},
   "outputs": [],
   "source": [
    "from langchain.prompts import PromptTemplate\n",
    "from langchain.chains import SequentialChain, LLMChain\n",
    "from langchain_ollama import ChatOllama\n",
    "\n",
    "# Step 1: Initialize the Language Model\n",
    "base_url = \"http://localhost:11434\"\n",
    "model = 'llama3.2:1b'\n",
    "llm = ChatOllama(base_url=base_url,model=model)\n"
   ]
  },
  {
   "cell_type": "code",
   "execution_count": 19,
   "metadata": {},
   "outputs": [
    {
     "name": "stdout",
     "output_type": "stream",
     "text": [
      "Summary: Here's a summary of the text:\n",
      "\n",
      "A linked list is a data structure that offers flexibility in memory allocation and performance, but has limitations when it comes to insertion and deletion operations. Linked lists excel at these operations, making them suitable for dynamic data structures like stacks, queues, and deques. However, accessing elements in a linked list can be slower due to the need for sequential traversal.\n",
      "Tweet: Here's a possible tweet based on the summary:\n",
      "\n",
      "\"Linked lists offer flexibility but are slow for insertion & deletion ops, making them better suited for dynamic data structures like stacks, queues & deques #linkedlist #datastructures\"\n"
     ]
    }
   ],
   "source": [
    "#Step 2: Define Prompts for the Chains\n",
    "summary_prompt = PromptTemplate(\n",
    "    input_variables=[\"document\"],\n",
    "    template=\"Summarize the following text:\\n{document}\\n\"\n",
    ")\n",
    "tweet_prompt = PromptTemplate(\n",
    "    input_variables=[\"summary\"],\n",
    "    template=\"Based on this summary, craft a tweet:\\n{summary}\\n\"\n",
    ")\n",
    "\n",
    "# Step 3: Create LLM Chains\n",
    "summary_chain = LLMChain(llm=llm, prompt=summary_prompt, output_key=\"summary\")\n",
    "tweet_chain = LLMChain(llm=llm, prompt=tweet_prompt, output_key=\"tweet\")\n",
    "\n",
    "# Step 4: Combine Chains in a Sequential Chain\n",
    "sequential_chain = SequentialChain(\n",
    "    chains=[summary_chain, tweet_chain],\n",
    "    input_variables=[\"document\"],\n",
    "    output_variables=[\"summary\", \"tweet\"]\n",
    ")\n",
    "\n",
    "# Step 5: Execute the Chain\n",
    "document_text = \"\"\"A linked list is a fundamental data structure in computer science that allows for efficient insertion and deletion operations, unlike arrays. While arrays have their own strengths, linked lists offer flexibility in terms of memory allocation. In a linked list, memory is allocated individually to each element, whereas in an array, memory is allocated to the entire array at once.\n",
    "                    In terms of performance, linked lists excel in insertion and deletion operations, making them a popular choice for implementing dynamic data structures like stacks, queues, and deques. However, accessing elements in a linked list requires sequential traversal, which can be slower than accessing elements in an array, where access is random and more efficient.\"\"\"\n",
    "result = sequential_chain.invoke({\"document\": document_text})\n",
    "\n",
    "# Output the Result\n",
    "print(\"Summary:\", result[\"summary\"])\n",
    "print(\"Tweet:\", result[\"tweet\"])\n"
   ]
  },
  {
   "cell_type": "markdown",
   "metadata": {},
   "source": [
    "### Chaining Runnables (Chain Multiple Runnables)"
   ]
  },
  {
   "cell_type": "markdown",
   "metadata": {},
   "source": [
    "- We can even combine this chain with more runnables to create another chain.\n",
    "- Let's see how easy our generated output is?"
   ]
  },
  {
   "cell_type": "code",
   "execution_count": 20,
   "metadata": {},
   "outputs": [
    {
     "name": "stdout",
     "output_type": "stream",
     "text": [
      "Here's an overview of the solar system in 5 points:\n",
      "\n",
      "1. The Sun is at the center, providing light and heat to the planets.\n",
      "2. The four inner planets (Mercury, Venus, Earth, and Mars) are rocky worlds with thin atmospheres.\n",
      "3. The two outer planets (Jupiter and Saturn) are gas giants with many moons.\n",
      "4. Pluto was previously considered a planet but is now classified as a dwarf planet.\n",
      "5. The solar system has eight known planets (Mercury to Neptune), five of which have rings or moons (Mercury, Venus, Earth, Jupiter, Saturn, Uranus, and Neptune).\n"
     ]
    }
   ],
   "source": [
    "system = SystemMessagePromptTemplate.from_template('You are {school} teacher. You answer in short sentences.')\n",
    "\n",
    "question = HumanMessagePromptTemplate.from_template('tell me about the {topics} in {points} points')\n",
    "\n",
    "\n",
    "messages = [system, question]\n",
    "template = ChatPromptTemplate(messages)\n",
    "\n",
    "chain = template | llm\n",
    "response = chain.invoke({'school': 'primary', 'topics': 'solar system', 'points': 5})\n",
    "print(response.content)"
   ]
  },
  {
   "cell_type": "code",
   "execution_count": 21,
   "metadata": {},
   "outputs": [
    {
     "name": "stdout",
     "output_type": "stream",
     "text": [
      "Here's an overview of the solar system in 5 key points:\n",
      "\n",
      "1. **The Sun is at Center**: Our star, the Sun, is the center of our solar system and accounts for approximately 99.8% of its mass.\n",
      "\n",
      "2. **Planets and Moons Around**: Eight planets orbit around the Sun: Mercury, Venus, Earth, Mars, Jupiter, Saturn, Uranus, and Neptune. Other smaller bodies like dwarf planets, asteroids, and comets also exist in the solar system.\n",
      "\n",
      "3. **Diversity and Characteristics**: Each planet has unique characteristics such as mass, size, atmosphere, temperature, and composition, which determine their ability to support life and their surface features.\n",
      "\n",
      "4. **Rings of Saturn**: Saturn's stunning ring system is made up of ice particles and rock debris that range in size from tiny dust grains to boulders. This phenomenon is a result of gravitational forces between the planet and its constituent rings.\n",
      "\n",
      "5. **Heliosphere and Interstellar Space**: The heliosphere is the region of space influenced by the Sun, extending millions of miles into interstellar space. It's shaped like a giant bubble around our solar system, influencing the behavior of nearby stars, planets, and celestial objects.\n"
     ]
    }
   ],
   "source": [
    "response = chain.invoke({'school': 'phd', 'topics': 'solar system', 'points': 5})\n",
    "print(response.content)"
   ]
  },
  {
   "cell_type": "code",
   "execution_count": 22,
   "metadata": {},
   "outputs": [
    {
     "data": {
      "text/plain": [
       "ChatPromptTemplate(input_variables=['points', 'school', 'topics'], input_types={}, partial_variables={}, messages=[SystemMessagePromptTemplate(prompt=PromptTemplate(input_variables=['school'], input_types={}, partial_variables={}, template='You are {school} teacher. You answer in short sentences.'), additional_kwargs={}), HumanMessagePromptTemplate(prompt=PromptTemplate(input_variables=['points', 'topics'], input_types={}, partial_variables={}, template='tell me about the {topics} in {points} points'), additional_kwargs={})])\n",
       "| ChatOllama(model='llama3.2:1b', base_url='http://localhost:11434')"
      ]
     },
     "execution_count": 22,
     "metadata": {},
     "output_type": "execute_result"
    }
   ],
   "source": [
    "chain"
   ]
  },
  {
   "cell_type": "code",
   "execution_count": 23,
   "metadata": {},
   "outputs": [
    {
     "name": "stdout",
     "output_type": "stream",
     "text": [
      "content=\"Here's an overview of the solar system in 5 key points:\\n\\n1. **The Sun is at Center**: Our star, the Sun, is the center of our solar system and accounts for approximately 99.8% of its mass.\\n\\n2. **Planets and Moons Around**: Eight planets orbit around the Sun: Mercury, Venus, Earth, Mars, Jupiter, Saturn, Uranus, and Neptune. Other smaller bodies like dwarf planets, asteroids, and comets also exist in the solar system.\\n\\n3. **Diversity and Characteristics**: Each planet has unique characteristics such as mass, size, atmosphere, temperature, and composition, which determine their ability to support life and their surface features.\\n\\n4. **Rings of Saturn**: Saturn's stunning ring system is made up of ice particles and rock debris that range in size from tiny dust grains to boulders. This phenomenon is a result of gravitational forces between the planet and its constituent rings.\\n\\n5. **Heliosphere and Interstellar Space**: The heliosphere is the region of space influenced by the Sun, extending millions of miles into interstellar space. It's shaped like a giant bubble around our solar system, influencing the behavior of nearby stars, planets, and celestial objects.\" additional_kwargs={} response_metadata={'model': 'llama3.2:1b', 'created_at': '2024-12-20T09:36:18.5045429Z', 'done': True, 'done_reason': 'stop', 'total_duration': 16796763900, 'load_duration': 30877900, 'prompt_eval_count': 47, 'prompt_eval_duration': 1145000000, 'eval_count': 252, 'eval_duration': 15617000000, 'message': Message(role='assistant', content='', images=None, tool_calls=None)} id='run-209c626b-4d4d-437e-97e4-06376b46aa5b-0' usage_metadata={'input_tokens': 47, 'output_tokens': 252, 'total_tokens': 299}\n",
      "The text is written in simple language and uses basic concepts and vocabulary, making it accessible to a wide range of readers with varying levels of background knowledge about astronomy or the solar system.\n"
     ]
    }
   ],
   "source": [
    "analysis_prompt = ChatPromptTemplate.from_template('''analyze the following text: {response}\n",
    "                                                   You need tell me that how difficult it is to understand.\n",
    "                                                   Answer in one sentence only.\n",
    "                                                   ''')\n",
    "\n",
    "check_chain = analysis_prompt | llm | StrOutputParser()\n",
    "print(response)\n",
    "output = check_chain.invoke({'response': response})\n",
    "print(output)"
   ]
  },
  {
   "cell_type": "code",
   "execution_count": 24,
   "metadata": {},
   "outputs": [
    {
     "name": "stdout",
     "output_type": "stream",
     "text": [
      "The text assumes a basic level of knowledge about the solar system and its components, making it accessible to most readers.\n"
     ]
    }
   ],
   "source": [
    "composed_chain = {\"response\": chain} | analysis_prompt | llm | StrOutputParser()\n",
    "\n",
    "output = composed_chain.invoke({'school': 'primary', 'topics': 'solar system', 'points': 5})\n",
    "print(output)"
   ]
  },
  {
   "cell_type": "markdown",
   "metadata": {},
   "source": [
    "### Parallel LCEL Chain\n",
    "- Parallel chains are used to run multiple runnables in parallel.\n",
    "- The final return value is a dict with the results of each value under its appropriate key."
   ]
  },
  {
   "cell_type": "code",
   "execution_count": 25,
   "metadata": {},
   "outputs": [
    {
     "name": "stdout",
     "output_type": "stream",
     "text": [
      "**The Evolution of Smartphones: 5 Key Features that Have Revolutionized the Industry**\n",
      "\n",
      "In just over two decades, smartphones have transformed from simple devices into an integral part of modern life. From basic communication tools to sophisticated entertainment systems, smartphones have undergone significant transformations, driven by advances in technology and changing user preferences. Here are five key features that have made smartphones a ubiquitous aspect of our daily lives:\n",
      "\n",
      "**1. High-Performance Processing Units (APUs)**\n",
      "\n",
      "Smartphones now boast high-performance processors like Apple's A14 Bionic chip, Qualcomm's Snapdragon 888, or Samsung's Exynos 2100, which provide faster data processing speeds and enhanced multitasking capabilities. These APUs enable smartphones to handle complex tasks, run demanding apps smoothly, and offer improved battery life.\n",
      "\n",
      "**2. Advanced Cameras**\n",
      "\n",
      "The camera system on modern smartphones has become a benchmark for excellence, with features like optical zoom, portrait mode, and 4K video recording. The introduction of multi-lens cameras, 3D modeling capabilities, and advanced image processing algorithms have further enhanced visual quality and functionality. This has made smartphones an essential tool for photographers, videographers, and social media enthusiasts.\n",
      "\n",
      "**3. Long-Lasting Batteries**\n",
      "\n",
      "The battery life of smartphones has significantly improved over the years, thanks to advances in power management, efficient design, and innovative battery technologies like lithium-ion batteries and wireless charging. Today's smartphones can easily last a full day with moderate usage, making them an attractive option for those who prefer not to constantly recharge.\n",
      "\n",
      "**4. Enhanced User Interfaces (UIs)**\n",
      "\n",
      "Smartphones now feature intuitive UIs that are designed to be user-friendly and accessible on various screen sizes. Touchscreen controls, gesture-based navigation, and artificial intelligence-powered virtual assistants like Siri, Google Assistant, or Bixby have simplified the interaction experience, making it easier for users to navigate their smartphones.\n",
      "\n",
      "**5. Integrated Connectivity**\n",
      "\n",
      "Smartphones have become indispensable for staying connected with others, thanks to advanced wireless connectivity features like 4G LTE, Wi-Fi, Bluetooth, and satellite connectivity. Additionally, many smartphones come equipped with internet-enabled operating systems like Android or iOS, which provide seamless access to online services, social media, and the web.\n",
      "\n",
      "In conclusion, the smartphone has evolved from a simple communication device to a sophisticated entertainment system that seamlessly integrates various features and technologies. As technology continues to advance, we can expect even more innovative features and capabilities in future smartphones.\n"
     ]
    }
   ],
   "source": [
    "system = SystemMessagePromptTemplate.from_template(\"You are expert in writing information about {text}.\")\n",
    "\n",
    "question = HumanMessagePromptTemplate.from_template(\"write a article about {Topics} in {points} points\")\n",
    "\n",
    "messages=[system,question]\n",
    "template = ChatPromptTemplate(messages)\n",
    "article_chain = template | llm | StrOutputParser()\n",
    "output = article_chain.invoke({'text':'business','Topics':'SmartPhone','points':'5'})\n",
    "print(output)"
   ]
  },
  {
   "cell_type": "code",
   "execution_count": 26,
   "metadata": {},
   "outputs": [
    {
     "name": "stdout",
     "output_type": "stream",
     "text": [
      "Here's a short poem about smartphones:\n",
      "\n",
      "A tiny screen, a mind so bright,\n",
      "The smartphone's power, day and night.\n",
      "It connects us all, far and wide,\n",
      "With social media, it glides with pride.\n",
      "\n",
      "With GPS and maps, we navigate the way,\n",
      "And apps at our fingertips, every single day.\n",
      "From emails to notes, it's always by our side,\n",
      "A constant companion, where we reside.\n"
     ]
    }
   ],
   "source": [
    "system = SystemMessagePromptTemplate.from_template(\"You are expert in writing information about {text}.\")\n",
    "\n",
    "question = HumanMessagePromptTemplate.from_template(\"write a poem about {Topics} in {points} points\")\n",
    "\n",
    "messages=[system,question]\n",
    "\n",
    "template = ChatPromptTemplate(messages)\n",
    "poem_chain = template | llm | StrOutputParser()\n",
    "output = poem_chain.invoke({'text':'business','Topics':'SmartPhone','points':'3'})\n",
    "print(output)"
   ]
  },
  {
   "cell_type": "code",
   "execution_count": 27,
   "metadata": {},
   "outputs": [],
   "source": [
    "from langchain_core.runnables import RunnableParallel"
   ]
  },
  {
   "cell_type": "code",
   "execution_count": 28,
   "metadata": {},
   "outputs": [],
   "source": [
    "chain = RunnableParallel(article=article_chain,poem = poem_chain)"
   ]
  },
  {
   "cell_type": "code",
   "execution_count": 29,
   "metadata": {},
   "outputs": [
    {
     "name": "stdout",
     "output_type": "stream",
     "text": [
      "**The Evolution of Smartphones: 3 Key Features**\n",
      "\n",
      "In the past decade, smartphones have undergone significant transformations, revolutionizing the way we communicate, work, and live our daily lives. Here are three key features that have made smartphones an indispensable part of modern life:\n",
      "\n",
      " **Smartphone Operating System (OS)**: The proliferation of smartphones has led to the development of various operating systems, each with its unique characteristics and user interfaces. Some of the most notable OS include Android, iOS, and Windows Phone. These platforms offer a range of features such as app stores, security measures, and customization options that cater to different user preferences.\n",
      "\n",
      " **High-Definition Displays**: Smartphones have evolved from basic LCD displays to high-definition (HD) and even 5G-enabled screens. The advancements in display technology have enabled smartphones to provide a superior visual experience, with sharper colors, higher contrast ratios, and faster refresh rates. This has led to an increased demand for larger, high-resolution screens that can accommodate multiple applications simultaneously.\n",
      "\n",
      " **Long-Lasting Batteries**: One of the most significant challenges faced by smartphone manufacturers is ensuring that their devices last long enough to meet the demanding needs of users. To address this issue, many smartphones now come with advanced battery technologies such as lithium-ion batteries, graphene-based capacitors, and solid-state batteries. These innovations have enabled smartphones to provide longer battery life, often rivaling those of laptops and desktops.\n",
      "\n",
      "These three key features - smartphone operating system, high-definition displays, and long-lasting batteries - have contributed significantly to the success of modern smartphones. As technology continues to advance, we can expect even more innovative features and improvements in these areas, shaping the future of mobile devices.\n",
      "Here's a poem about smartphones in three points:\n",
      "\n",
      "In fingertips, it resides so fine,\n",
      "A window to the world, at our command divine.\n",
      "Three key features that make it shine so bright,\n",
      "\n",
      "1. **Connectivity**: With networks so vast and wide,\n",
      "It connects us to the world, where we reside.\n",
      "Through Wi-Fi, Bluetooth, and 4G's might,\n",
      "We stay in touch, day and night.\n",
      "\n",
      "2. **App Store**: A treasure trove of delight,\n",
      "Where apps await, a world in sight.\n",
      "Games, tools, and resources galore,\n",
      "To enhance our lives, forevermore.\n",
      "\n",
      "3. **Digital Life**: It's where we store our memories so dear,\n",
      "Photos, videos, and notes that bring us near.\n",
      "A digital library, where knowledge abounds,\n",
      "Smartphones are more than just devices found.\n"
     ]
    }
   ],
   "source": [
    "response = chain.invoke({'text':'business','Topics':'SmartPhone','points':'3'})\n",
    "print(response['article'])\n",
    "print(response['poem'])"
   ]
  },
  {
   "cell_type": "markdown",
   "metadata": {},
   "source": [
    "### Router Chain in LangChain\n",
    "\n",
    "A Router Chain in LangChain allows dynamic selection of chains based on the input. It routes inputs to different chains or tools depending on the input's context or type. This is especially useful when dealing with multi-functional systems where different tasks require specialized handling.\n",
    "\n",
    "Components of Router Chain\n",
    "\n",
    "Router:\n",
    "\n",
    "Determines which chain or tool should process the input.\n",
    "Makes decisions based on pre-defined logic or rules.\n",
    "Destination Chains:\n",
    "\n",
    "The specific chains or tools that perform the processing once routed.\n",
    "Default Chain:\n",
    "\n",
    "A fallback chain to handle inputs that do not match any routing criteria.\n",
    "Multi-Route Chain:\n",
    "\n",
    "Combines the router and destination chains into a unified chain that handles input routing and processing."
   ]
  },
  {
   "cell_type": "markdown",
   "metadata": {},
   "source": [
    "Router Chain\n",
    "\n",
    "The Router Chain is used for complicated tasks. \n",
    "\n",
    "If we have multiple subchains, each of which is specialized for a particular type of input, we could have a router chain that decides which subchain to pass the input to.\n"
   ]
  },
  {
   "cell_type": "code",
   "execution_count": 11,
   "metadata": {},
   "outputs": [],
   "source": [
    "# Define teacher prompt templates\n",
    "math_teacher_prompt = \"\"\"Your name is Robert, a Math teacher. \n",
    "                        Explain the following math concept to a 7th-grade student\n",
    "                        Question:{question}\n",
    "                        Answer: \n",
    "                        \"\"\"\n",
    "math_teacher_template = ChatPromptTemplate.from_template(math_teacher_prompt)\n",
    "math_teacher_chain = math_teacher_template | llm | StrOutputParser()\n",
    "\n",
    "tamil_teacher_prompt = \"\"\"Your name is Dhanush, a Tamil teacher. \n",
    "                        Explain the following Tamil language concept to a beginner:\n",
    "                        Question : {question}\n",
    "                        Answer :\n",
    "                        \"\"\"\n",
    "tamil_teacher_template = ChatPromptTemplate.from_template(tamil_teacher_prompt)\n",
    "tamil_teacher_chain = tamil_teacher_template | llm | StrOutputParser()\n",
    "\n",
    "history_teacher_prompt = \"\"\"Your name is Vignesh, a History teacher. \n",
    "                            Explain the following history concept to a high school student\n",
    "                            Question : {question}\n",
    "                            Answer :\n",
    "                          \"\"\"\n",
    "\n",
    "history_teacher_template = ChatPromptTemplate.from_template(history_teacher_prompt)\n",
    "history_teacher_chain = history_teacher_template | llm | StrOutputParser()"
   ]
  },
  {
   "cell_type": "code",
   "execution_count": 12,
   "metadata": {},
   "outputs": [
    {
     "data": {
      "text/plain": [
       "ChatPromptTemplate(input_variables=['question'], input_types={}, partial_variables={}, messages=[HumanMessagePromptTemplate(prompt=PromptTemplate(input_variables=['question'], input_types={}, partial_variables={}, template='Your name is Robert, a Math teacher. \\n                        Explain the following math concept to a 7th-grade student\\n                        Question:{question}\\n                        Answer: \\n                        '), additional_kwargs={})])\n",
       "| ChatOllama(model='llama3.2:1b', base_url='http://localhost:11434')\n",
       "| StrOutputParser()"
      ]
     },
     "execution_count": 12,
     "metadata": {},
     "output_type": "execute_result"
    }
   ],
   "source": [
    "math_teacher_chain"
   ]
  },
  {
   "cell_type": "code",
   "execution_count": 13,
   "metadata": {},
   "outputs": [
    {
     "name": "stdout",
     "output_type": "stream",
     "text": [
      "History.\n"
     ]
    }
   ],
   "source": [
    "# Define the classification prompt template\n",
    "prompt = \"\"\"Given the user question below, classify it as either being about `Math`, `Tamil`, or `History`.\n",
    "            Do not respond with more than one word.\n",
    "\n",
    "            Question : {question}\n",
    "            Classification:\"\"\"\n",
    "template = ChatPromptTemplate.from_template(prompt)\n",
    "classification_chain = template | llm | StrOutputParser()\n",
    "# Define the input question\n",
    "question = \"teach me about world war 1?.\"\n",
    "# Invoke the chain with the correct variable name\n",
    "result = classification_chain.invoke({'question': question})\n",
    "print(result)"
   ]
  },
  {
   "cell_type": "code",
   "execution_count": 14,
   "metadata": {},
   "outputs": [],
   "source": [
    "# Define the route function\n",
    "def route(info):\n",
    "    topic = info['topic']\n",
    "    question = info['question']\n",
    "    if \"Math\" in topic:\n",
    "        return math_teacher_chain.invoke({\"question\": question})\n",
    "    elif \"Tamil\" in topic:\n",
    "        return tamil_teacher_chain.invoke({\"question\": question})\n",
    "    elif \"History\" in topic:\n",
    "        return history_teacher_chain.invoke({\"question\": question})\n",
    "    else:\n",
    "        return \"No matching topic found.\""
   ]
  },
  {
   "cell_type": "code",
   "execution_count": 7,
   "metadata": {},
   "outputs": [],
   "source": [
    "from langchain_core.runnables import RunnableLambda"
   ]
  },
  {
   "cell_type": "code",
   "execution_count": 16,
   "metadata": {},
   "outputs": [
    {
     "name": "stdout",
     "output_type": "stream",
     "text": [
      "Hi there, kiddo! I'm Robert, your math teacher. Now, when you're in high school or college, you'll likely encounter the fascinating world of linear algebra. But don't worry, I'm here to break it down for you in a way that's easy to understand.\n",
      "\n",
      "Linear algebra is like a toolkit for solving systems of equations and manipulating vectors. It's an essential part of mathematics, engineering, physics, and computer science. So, let's dive right in!\n",
      "\n",
      "**What are vectors?**\n",
      "\n",
      "Imagine you're riding a bike on a flat road. You can only control the direction and speed you move, but not your height or weight. A vector is like a package that contains both information about direction (x-axis) and magnitude (length). In linear algebra, we use vectors to represent changes in quantities.\n",
      "\n",
      "**Linear Equations**\n",
      "\n",
      "A linear equation is like a recipe: A + B = C, where A, B, and C are numbers or expressions. We can graph these equations on a coordinate plane, which helps us visualize the relationships between variables.\n",
      "\n",
      "Think of it like a simple example:\n",
      "\n",
      "2x + 3y = 7\n",
      "\n",
      "This equation says that for every two units you move in the x-direction (2), you need to add three units in the y-direction (3) to reach point C with coordinates (5, 4).\n",
      "\n",
      "**Matrices**\n",
      "\n",
      "A matrix is like a table of numbers that can be used to store information about vectors and their transformations. In linear algebra, we use matrices to represent systems of equations, change of basis, and other important concepts.\n",
      "\n",
      "For example, let's say we have two vectors: A = (2, 3) and B = (-1, 4). We can create a matrix M with these vectors as rows:\n",
      "\n",
      "```\n",
      "| 2  -1 |\n",
      "| 3  4 |\n",
      "```\n",
      "\n",
      "This matrix represents the linear transformation that takes vector A to vector B.\n",
      "\n",
      "**Linear Transformations**\n",
      "\n",
      "A linear transformation is like a math operation that changes the input (vector) in some way, while leaving the output (result) unchanged. Think of it as scaling, rotation, or translation.\n",
      "\n",
      "For instance, let's say we have a matrix M and a vector V. We can multiply V by M to get a new vector:\n",
      "\n",
      "```\n",
      "| 2  -1 |\n",
      "| 3  4 |\n",
      "```\n",
      "\n",
      "This multiplication operation scales vector V by a factor of 2 along the x-axis and 3 along the y-axis.\n",
      "\n",
      "**Solving Systems of Equations**\n",
      "\n",
      "Linear algebra is all about solving systems of linear equations. We can use matrices, determinants, and other techniques to find the solution (x, y) that satisfies multiple equations.\n",
      "\n",
      "Think of it like a game where we have two or more variables (x, y), and we want to find their values that satisfy both equations. Linear algebra provides powerful tools for solving these systems.\n",
      "\n",
      "**Real-World Applications**\n",
      "\n",
      "Linear algebra has many real-world applications, including:\n",
      "\n",
      "* Computer graphics: Understanding transformations and scaling helps create 3D models and animations.\n",
      "* Engineering: Linear algebra is used in CAD (computer-aided design) software to optimize designs and solve problems.\n",
      "* Physics: Linear algebra helps describe the motion of objects in physics.\n",
      "\n",
      "I hope this introduction to linear algebra has sparked your interest! Do you have any specific questions or topics you'd like me to expand on?\n"
     ]
    }
   ],
   "source": [
    "# Create the full chain\n",
    "full_chain = {\n",
    "    'topic': classification_chain,\n",
    "    'question': lambda x: x['question']\n",
    "} | RunnableLambda(route)\n",
    "# Define the input question\n",
    "question = \"explain linear algebra.\"\n",
    "res = full_chain.invoke({'question': question})\n",
    "print(res)"
   ]
  },
  {
   "cell_type": "code",
   "execution_count": 36,
   "metadata": {},
   "outputs": [
    {
     "data": {
      "text/plain": [
       "{\n",
       "  topic: ChatPromptTemplate(input_variables=['question'], input_types={}, partial_variables={}, messages=[HumanMessagePromptTemplate(prompt=PromptTemplate(input_variables=['question'], input_types={}, partial_variables={}, template='Given the user question below, classify it as either being about `Math`, `Tamil`, or `History`.\\n            Do not respond with more than one word.\\n\\n            Question : {question}\\n            Classification:'), additional_kwargs={})])\n",
       "         | ChatOllama(model='llama3.2:1b', base_url='http://localhost:11434')\n",
       "         | StrOutputParser(),\n",
       "  question: RunnableLambda(...)\n",
       "}\n",
       "| RunnableLambda(route)"
      ]
     },
     "execution_count": 36,
     "metadata": {},
     "output_type": "execute_result"
    }
   ],
   "source": [
    "full_chain"
   ]
  },
  {
   "cell_type": "code",
   "execution_count": 37,
   "metadata": {},
   "outputs": [
    {
     "name": "stdout",
     "output_type": "stream",
     "text": [
      "Hi there, kiddo! I'm Robert, your math teacher. Now, let's take a look at that question of yours. \"Tell pirapokkum ellam uyirkum thirukural\" is a bit tricky, but don't worry, I'm here to help you understand it.\n",
      "\n",
      "Pirapokkum and uyirkum are words in Tamil, which is the language used in many parts of India, particularly in the southern states. \"Ellam\" means \"book\" or \"text,\" and \"thirukural\" refers to a classic Tamil text on poetry and literature called the Thirukural.\n",
      "\n",
      "So, when you put it together, \"pirapokkum ellam uyirkum thirukural\" can be translated to \"The book of poetry.\" Now, here's where things get interesting: in Tamil, they use a unique way of writing texts. They have different types of scripts and fonts, but one common type is called the \"Thalpattu\" script.\n",
      "\n",
      "In Thalpattu, words are written with a combination of letters and symbols. The question you asked earlier might look like this:\n",
      "\n",
      "பிராப்குக்கு எல்லம் உயிர்க்குழுவென் திருக்குறள்\n",
      "\n",
      "Can you translate this into English?\n",
      "\n",
      "(Note: I'll be happy to help if you need any clarification or explanation.)\n"
     ]
    }
   ],
   "source": [
    "# Define the input question\n",
    "question = \"tell pirapokkum ellam uyirkum thirukural with number.\"\n",
    "res = full_chain.invoke({'question': question})\n",
    "print(res)"
   ]
  },
  {
   "cell_type": "code",
   "execution_count": 38,
   "metadata": {},
   "outputs": [
    {
     "name": "stdout",
     "output_type": "stream",
     "text": [
      "தேவல் புரியோம்! (Dhanush!) \n",
      "\n",
      "நான் எங்கள் தமிழ் கற்பித்தல் நிலையை விளக்குவோம். ஒரு இடத்தில், ஒரு பண்டைய சூழலின் அடிப்படையில், நாம் உள்ள வகையில் ஒரு தகுதியற்ற இயக்கத்தை பண்டைய தமிழ் நூல்களின் வரையறைகளுக்கு எடுத்துக்கொண்டு அமைதிப் பழங்காலத்தை நிறுவுகின்றன. \n",
      "\n",
      "இரண்டாயிரத்துக்கும் அதிகமான புலவர்களைச் சேர்ந்த பெருங்கல்லார்கள் அதிக பயனை எடுத்துச் சொல்வதோடு, ஒரு மற்றொரு நூல் அல்லது கல்லின் ஆய்வுகள் அல்லது உணர்ச்சி அறிஞர்களிடம் எழுதிப் பேசும் வகையில், நான்கு அதிகாரங்களைக் கொண்டு உருவாக்கப்பட்டுள்ளன.\n",
      "\n",
      "நெஞ்சு, அறியல், தயங்கல் மற்றும் விழித்தாற்பட்ட ஒரு தொண்டை. (நெஞ்சு, அறியல், தயங்கல்)\n",
      "\n",
      "வினோம் இவ்வாறு உருபுகளை எழுதி, விடைசெய்ய நேர்வரும். அன்று விரிவுரையில் பாடுகிறோம்.\n",
      "\n",
      "நீங்கள் எழுதிய 'சிறுகலை' இல், ஒரு சினிமா வரைபடம் நாம் அறிந்தபோது உண்டு. எங்கள் அயல் ஆசிரியர்களுக்கு இவ்வாறு மொழி போன்று இது எங்களுக்கு நல்லது. ஆரியர்கள், சிறுவர்கள், அனைத்தும் இந்த போட்டி உலகத்தில் ஒரு முக்கியமான ஆற்றலாகும்.\n"
     ]
    }
   ],
   "source": [
    "# Define the input question\n",
    "question = \"write a poem in tamil about discipline.\"\n",
    "res = full_chain.invoke({'question': question})\n",
    "print(res)"
   ]
  },
  {
   "cell_type": "code",
   "execution_count": 39,
   "metadata": {},
   "outputs": [
    {
     "name": "stdout",
     "output_type": "stream",
     "text": [
      "Hello there, young historian! I'm Vignesh, and I'm excited to share some fascinating history with you. Today, we're going to explore one of the most significant events in American history: the discovery of America.\n",
      "\n",
      "The concept of America's \"discovery\" is a bit complex, as it's often misunderstood. While it's true that European explorers were among the first people to set foot on what would become the United States, they didn't actually discover a land that was already inhabited by indigenous peoples.\n",
      "\n",
      "In 1492, Christopher Columbus, an Italian explorer sponsored by the Spanish monarchs, set sail across the Atlantic Ocean in search of a new route to Asia. He landed on an island called Guanahani in the Bahamas, which he named San Salvador. Over time, other European explorers followed in his footsteps, including Bartolomeu Dias and Vasco da Gama.\n",
      "\n",
      "These early explorers didn't stumble upon a blank slate; they actually found islands that had already been inhabited by Native American tribes for thousands of years. In fact, the Vikings, led by Leif Erikson, established a settlement at Vinland (present-day L'Anse aux Meadows in Newfoundland, Canada) around 1000 AD, over 500 years before Columbus.\n",
      "\n",
      "The indigenous peoples who lived in what would become the United States had been exploring and settling along the eastern coast of North America for centuries. They had their own distinct cultures, languages, and ways of life, which were vastly different from those of the Europeans.\n",
      "\n",
      "So, why did Columbus and other explorers think they could just \"discover\" a new land? The answer lies in European imperialistic ambitions. The idea was that the New World offered vast resources, fertile lands, and untapped potential for expansion and exploitation. The European powers saw themselves as superior to indigenous peoples and believed that their arrival marked the beginning of a new era of civilization.\n",
      "\n",
      "The consequences of this \"discovery\" were devastating for many Native American tribes. They were forcibly relocated, their lands were taken over by European colonizers, and their cultures were suppressed or erased. It wasn't until the late 18th century, with the rise of the abolitionist movement and the fight for Native American rights, that the legacy of Columbus Day began to shift.\n",
      "\n",
      "Today, we remember Christopher Columbus as a figure who \"discovered\" America, rather than acknowledging the complex history and cultural contributions of indigenous peoples. However, I hope this explanation helps you understand the nuances of this historical event. And who knows? Maybe one day we'll look back on this chapter in American history with a more nuanced perspective.\n",
      "\n",
      "Now, let's move on to some other fascinating topics in U.S. history. Would you like to explore World War II or the Civil Rights Movement?\n"
     ]
    }
   ],
   "source": [
    "# Define the input question\n",
    "question = \"write a stroy about how america was found.\"\n",
    "res = full_chain.invoke({'question': question})\n",
    "print(res)"
   ]
  },
  {
   "cell_type": "code",
   "execution_count": 8,
   "metadata": {},
   "outputs": [],
   "source": [
    "from langchain_core.output_parsers import StrOutputParser"
   ]
  },
  {
   "cell_type": "code",
   "execution_count": 61,
   "metadata": {},
   "outputs": [],
   "source": [
    "# #create chain for medical 1\n",
    "medical_prompt =  \"\"\"You are expert Answering the question about medical information,\n",
    "                    so Assist the user with their queries\n",
    "                    Question : {question}\n",
    "                    \"\"\"\n",
    "template = ChatPromptTemplate.from_template(medical_prompt)\n",
    "medical_chain = llm | template | StrOutputParser()\n",
    "\n",
    "# #create a chain for engineer1\n",
    "Engineering_prompt = \"\"\"You are expert Answering the question about Engineering information,\n",
    "                        so Assist the user with their queries\n",
    "                        Question : {question}\n",
    "                        \"\"\"\n",
    "template = ChatPromptTemplate.from_template(Engineering_prompt)\n",
    "engineering_chain = llm | template | StrOutputParser()\n",
    "\n",
    "# Define the classification prompt template1\n",
    "prompt = \"\"\"Given the user question below, classify it as either being about `medical` or `engineering`.\n",
    "            Do not respond with more than one word.\n",
    "\n",
    "            Question : {question}\n",
    "            Classification:\n",
    "            \"\"\"\n",
    "template = ChatPromptTemplate.from_template(prompt)\n",
    "classification_chain = template | llm | StrOutputParser()\n"
   ]
  },
  {
   "cell_type": "code",
   "execution_count": 82,
   "metadata": {},
   "outputs": [
    {
     "name": "stdout",
     "output_type": "stream",
     "text": [
      "Medical.\n"
     ]
    }
   ],
   "source": [
    "response = classification_chain.invoke({'question':'explain about heart oragans'})\n",
    "print(response)"
   ]
  },
  {
   "cell_type": "code",
   "execution_count": 93,
   "metadata": {},
   "outputs": [],
   "source": [
    "# Define the route function\n",
    "def route(info):\n",
    "    # Debugging: Output the information passed to the route function\n",
    "    print(f\"Routing input: {info}\")\n",
    "\n",
    "    # Normalize the topic: remove trailing punctuation and convert to lowercase\n",
    "    topic = info.get(\"topic\", \"\").strip().rstrip(\".\").lower()\n",
    "    question = info.get(\"question\", \"\")  # Extract the question\n",
    "\n",
    "    # Debugging: Check the normalized topic\n",
    "    print(f\"Topic classified as: {topic}\")\n",
    "\n",
    "    if topic == \"medical\":\n",
    "        return medical_chain.invoke({\"question\": question})\n",
    "    elif topic == \"engineering\":\n",
    "        return engineering_chain.invoke({\"question\": question})\n",
    "    else:\n",
    "        # Handle cases where classification is incorrect or empty\n",
    "        return \"No matching topic found. Please refine your question.\"\n"
   ]
  },
  {
   "cell_type": "code",
   "execution_count": 94,
   "metadata": {},
   "outputs": [],
   "source": [
    "from langchain_core.runnables import RunnableLambda"
   ]
  },
  {
   "cell_type": "code",
   "execution_count": 95,
   "metadata": {},
   "outputs": [
    {
     "name": "stdout",
     "output_type": "stream",
     "text": [
      "Routing input: {'topic': 'Engineering.', 'question': 'explain about specs.'}\n",
      "Topic classified as: engineering\n",
      "Specs, also known as specifications or standards, refer to the detailed characteristics and requirements of a product, system, or component. They provide a standardized way to describe and compare different products or systems.\n",
      "\n",
      "In various fields like engineering, design, and manufacturing, specs are crucial for ensuring that products meet specific performance, functionality, and safety standards. Here's a breakdown of what specs typically include:\n",
      "\n",
      "**Technical Specs:**\n",
      "\n",
      "1. Dimensions (length, width, height, weight)\n",
      "2. Material composition and properties\n",
      "3. Weight and volume\n",
      "4. Density and specific gravity\n",
      "5. Thermal characteristics (e.g., conductivity, specific heat capacity)\n",
      "\n",
      "**Performance Specs:**\n",
      "\n",
      "1. Speed, acceleration, and deceleration rates\n",
      "2. Power output, efficiency, or energy consumption\n",
      "3. Signal-to-noise ratio (SNR) and signal quality\n",
      "4. Noise levels and vibration ratings\n",
      "\n",
      "**Functional Specs:**\n",
      "\n",
      "1. User interface and user experience requirements\n",
      "2. Safety features (e.g., impact resistance, fire safety)\n",
      "3. Compatibility with other products or systems\n",
      "4. Environmental conditions (e.g., operating temperature, humidity)\n",
      "\n",
      "**Non-Technical Specs:**\n",
      "\n",
      "1. Certification marks and compliance with regulatory standards\n",
      "2. Warranty and support information\n",
      "3. Documentation requirements (e.g., user manuals, technical guides)\n",
      "4. Licensing and intellectual property agreements\n",
      "\n",
      "Examples of specs include:\n",
      "\n",
      "* A car's horsepower output, torque, and transmission specifications\n",
      "* An aircraft's engine performance characteristics, weight distribution, and avionics systems specifications\n",
      "* A smartphone's display resolution, camera capabilities, and battery life specifications\n",
      "* A medical device's safety features, regulatory compliance, and clinical validation requirements\n",
      "\n",
      "In engineering, specs play a critical role in:\n",
      "\n",
      "1. Design optimization: Specifying the most efficient or effective design solutions.\n",
      "2. Prototyping: Developing prototypes that meet specific performance and functionality requirements.\n",
      "3. Testing and validation: Ensuring that products meet their intended specifications.\n",
      "4. Manufacturing: Producing parts and components that meet specified tolerances, materials, and dimensions.\n",
      "\n",
      "I hope this explanation helps clarify what specs are and why they're essential in various fields!\n"
     ]
    }
   ],
   "source": [
    "# Create the full chain\n",
    "full_chain = {\n",
    "    \"topic\": classification_chain,\n",
    "    \"question\": lambda x: x[\"question\"]  # Pass the original question\n",
    "} | RunnableLambda(route)\n",
    "\n",
    "# Define the input question\n",
    "question = \"explain about specs.\"\n",
    "\n",
    "# Run the chain\n",
    "res = full_chain.invoke({\"question\": question})\n",
    "print(res)"
   ]
  },
  {
   "cell_type": "code",
   "execution_count": 92,
   "metadata": {},
   "outputs": [
    {
     "name": "stdout",
     "output_type": "stream",
     "text": [
      "Routing input: {'topic': 'Engineering.', 'question': 'explain about orthomologist.'}\n",
      "Topic classified as: engineering\n",
      "An orthomatographer, also known as an orthomat, is a highly trained healthcare professional who specializes in using computer-aided design (CAD) and imaging technology to assess and analyze the alignment of bones and joints in the body.\n",
      "\n",
      "Orthomatographers use specialized software and 3D scanners to create detailed models of the skeletal system, including the skull, spine, hips, knees, and other joints. They then use these models to evaluate any discrepancies between the actual anatomy and the digital model, identifying potential issues such as misalignments, deformities, or bone growth abnormalities.\n",
      "\n",
      "The process typically involves taking X-ray images of the patient's bones and joint areas, which are then used to create a 3D reconstruction of their skeletal system. This allows the orthomatographer to visualize the anatomy in unprecedented detail, making it easier to detect subtle abnormalities that may not be apparent through conventional imaging techniques alone.\n",
      "\n",
      "Orthomatographers work in various fields, including:\n",
      "\n",
      "1. Orthopedic surgery: They use their expertise to help surgeons plan and execute surgical procedures, such as joint replacements or bone grafts.\n",
      "2. Physical therapy: They assist physical therapists in designing customized exercise programs for patients with musculoskeletal injuries or conditions.\n",
      "3. Research: They contribute to the development of new treatments and technologies for various orthopedic disorders.\n",
      "\n",
      "To become an orthomatographer, one typically needs to:\n",
      "\n",
      "1. Earn a degree in a field such as physics, computer science, or biomedical engineering.\n",
      "2. Gain experience in medical imaging or CAD software.\n",
      "3. Obtain specialized training in orthopedic anatomy and imaging techniques.\n",
      "4. Pass certification exams, such as the Certified OrthoAtlas (COA) or the American Board of Orthopaedic Specialties (ABOS) certification.\n",
      "\n",
      "Overall, orthomatographers play a crucial role in helping healthcare professionals make accurate diagnoses and develop effective treatment plans for patients with musculoskeletal conditions.\n",
      "Final response: An orthomatographer, also known as an orthomat, is a highly trained healthcare professional who specializes in using computer-aided design (CAD) and imaging technology to assess and analyze the alignment of bones and joints in the body.\n",
      "\n",
      "Orthomatographers use specialized software and 3D scanners to create detailed models of the skeletal system, including the skull, spine, hips, knees, and other joints. They then use these models to evaluate any discrepancies between the actual anatomy and the digital model, identifying potential issues such as misalignments, deformities, or bone growth abnormalities.\n",
      "\n",
      "The process typically involves taking X-ray images of the patient's bones and joint areas, which are then used to create a 3D reconstruction of their skeletal system. This allows the orthomatographer to visualize the anatomy in unprecedented detail, making it easier to detect subtle abnormalities that may not be apparent through conventional imaging techniques alone.\n",
      "\n",
      "Orthomatographers work in various fields, including:\n",
      "\n",
      "1. Orthopedic surgery: They use their expertise to help surgeons plan and execute surgical procedures, such as joint replacements or bone grafts.\n",
      "2. Physical therapy: They assist physical therapists in designing customized exercise programs for patients with musculoskeletal injuries or conditions.\n",
      "3. Research: They contribute to the development of new treatments and technologies for various orthopedic disorders.\n",
      "\n",
      "To become an orthomatographer, one typically needs to:\n",
      "\n",
      "1. Earn a degree in a field such as physics, computer science, or biomedical engineering.\n",
      "2. Gain experience in medical imaging or CAD software.\n",
      "3. Obtain specialized training in orthopedic anatomy and imaging techniques.\n",
      "4. Pass certification exams, such as the Certified OrthoAtlas (COA) or the American Board of Orthopaedic Specialties (ABOS) certification.\n",
      "\n",
      "Overall, orthomatographers play a crucial role in helping healthcare professionals make accurate diagnoses and develop effective treatment plans for patients with musculoskeletal conditions.\n"
     ]
    }
   ],
   "source": [
    "# Create a chain for medical\n",
    "medical_prompt = \"\"\"You are an expert in answering medical information questions.\n",
    "                    Assist the user with their queries.\n",
    "                    Question: {question}\n",
    "                 \"\"\"\n",
    "medical_template = ChatPromptTemplate.from_template(medical_prompt)\n",
    "medical_chain = medical_template | llm | StrOutputParser()\n",
    "\n",
    "# Create a chain for engineering\n",
    "engineering_prompt = \"\"\"You are an expert in answering engineering information questions.\n",
    "                        Assist the user with their queries.\n",
    "                        Question: {question}\n",
    "                     \"\"\"\n",
    "engineering_template = ChatPromptTemplate.from_template(engineering_prompt)\n",
    "engineering_chain = engineering_template | llm | StrOutputParser()\n",
    "\n",
    "# Define the classification chain\n",
    "classification_prompt = \"\"\"Given the user question below, classify it as either `medical` or `engineering`.\n",
    "                           Do not respond with more than one word.\n",
    "\n",
    "                           Question: {question}\n",
    "                           Classification:\n",
    "                        \"\"\"\n",
    "classification_template = ChatPromptTemplate.from_template(classification_prompt)\n",
    "classification_chain = classification_template | llm | StrOutputParser()\n",
    "\n",
    "# Define the route function\n",
    "def route(info):\n",
    "    # Debugging: Output the information passed to the route function\n",
    "    print(f\"Routing input: {info}\")\n",
    "\n",
    "    # Normalize the topic: remove trailing punctuation and convert to lowercase\n",
    "    topic = info.get(\"topic\", \"\").strip().rstrip(\".\").lower()\n",
    "    question = info.get(\"question\", \"\")  # Extract the question\n",
    "\n",
    "    # Debugging: Check the normalized topic\n",
    "    print(f\"Topic classified as: {topic}\")\n",
    "\n",
    "    if topic == \"medical\":\n",
    "        return medical_chain.invoke({\"question\": question})\n",
    "    elif topic == \"engineering\":\n",
    "        return engineering_chain.invoke({\"question\": question})\n",
    "    else:\n",
    "        # Handle cases where classification is incorrect or empty\n",
    "        return \"No matching topic found. Please refine your question.\"\n",
    "\n",
    "# Create the full chain\n",
    "full_chain = {\n",
    "    \"topic\": lambda x: classification_chain.invoke({\"question\": x[\"question\"]}),\n",
    "    \"question\": lambda x: x[\"question\"]  # Pass the original question\n",
    "} | RunnableLambda(route)\n",
    "\n",
    "# Define the input question\n",
    "question = \"explain about orthomologist.\"\n",
    "\n",
    "# Run the chain\n",
    "res = full_chain.invoke({\"question\": question})\n",
    "print(res)\n",
    "# Debugging: Output the final result\n",
    "print(f\"Final response: {res}\")\n"
   ]
  },
  {
   "cell_type": "markdown",
   "metadata": {},
   "source": [
    "### Make Custom Chain Runnables with RunnablePassthrough and RunnableLambda\n",
    "- This is useful for formatting or when you need functionality not provided by other LangChain components, and custom functions used as Runnables are called RunnableLambdas.\n",
    "\n"
   ]
  },
  {
   "cell_type": "markdown",
   "metadata": {},
   "source": [
    "```markdown\n",
    "### Runnables in LangChain\n",
    "\n",
    "**What are Runnables?**\n",
    "Runnables are components in LangChain that allow you to define and execute sequences of operations or transformations on data. They can be thought of as modular units of work that can be combined to create complex workflows.\n",
    "\n",
    "**Why Use Runnables?**\n",
    "- **Modularity**: Runnables promote code reusability and separation of concerns, making it easier to manage and maintain your code.\n",
    "- **Flexibility**: They allow you to chain together various operations, including invoking models, processing data, and applying custom logic.\n",
    "- **Composability**: You can easily combine multiple runnables to create more complex workflows without tightly coupling the components.\n",
    "\n",
    "### RunnableLambda\n",
    "\n",
    "**What is RunnableLambda?**\n",
    "`RunnableLambda` is a type of runnable that allows you to wrap a custom Python function as a runnable. This enables you to integrate custom logic into your LangChain workflows.\n",
    "\n",
    "**How to Use RunnableLambda?**\n",
    "1. **Define a Custom Function**: Create a Python function that performs a specific operation.\n",
    "2. **Wrap the Function**: Use `RunnableLambda` to wrap your function, making it compatible with the LangChain framework.\n",
    "3. **Integrate into a Chain**: Combine `RunnableLambda` with other runnables in a chain to process data.\n",
    "\n",
    "**Example**:\n",
    "```python\n",
    "from langchain_core.runnables import RunnableLambda\n",
    "\n",
    "def custom_function(input_dict):\n",
    "    return {\"result\": input_dict[\"value\"] * 2}\n",
    "\n",
    "lambda_step = RunnableLambda(custom_function)\n",
    "result = lambda_step.invoke({\"value\": 5})  # Output: {\"result\": 10}\n",
    "```\n",
    "\n",
    "### RunnablePassthrough\n",
    "\n",
    "**What is RunnablePassthrough?**\n",
    "`RunnablePassthrough` is a type of runnable that simply passes the input data through without any modification. It can be useful for maintaining the structure of a chain when you need to include a step that does not alter the data.\n",
    "\n",
    "**Why Use RunnablePassthrough?**\n",
    "- **Maintain Structure**: It helps in keeping the flow of data intact in a chain, especially when you want to add a placeholder for future modifications.\n",
    "- **Debugging**: It can be used for debugging purposes to inspect data at various stages in a chain without altering it.\n",
    "\n",
    "**Example**:\n",
    "```python\n",
    "from langchain_core.runnables import RunnablePassthrough\n",
    "\n",
    "passthrough_step = RunnablePassthrough()\n",
    "result = passthrough_step.invoke({\"key\": \"value\"})  # Output: {\"key\": \"value\"}\n",
    "```\n",
    "\n",
    "### Summary\n",
    "- **Runnables**: Modular components for creating workflows.\n",
    "- **RunnableLambda**: Wraps custom functions for integration into chains.\n",
    "- **RunnablePassthrough**: Passes data through unchanged, useful for maintaining structure and debugging.\n",
    "\n",
    "By using these components, you can build flexible and maintainable workflows in LangChain.\n",
    "```\n"
   ]
  },
  {
   "cell_type": "code",
   "execution_count": 111,
   "metadata": {},
   "outputs": [],
   "source": [
    "def char_counts(text):\n",
    "    return len(text)\n",
    "\n",
    "def word_counts(text):\n",
    "    return len(text.split())"
   ]
  },
  {
   "cell_type": "code",
   "execution_count": 112,
   "metadata": {},
   "outputs": [],
   "source": [
    "def char_counts(text):\n",
    "    return len(text)\n",
    "\n",
    "def word_counts(text):\n",
    "    return len(text.split())"
   ]
  },
  {
   "cell_type": "code",
   "execution_count": 113,
   "metadata": {},
   "outputs": [
    {
     "data": {
      "text/plain": [
       "ChatPromptTemplate(input_variables=['input1', 'input2'], input_types={}, partial_variables={}, messages=[HumanMessagePromptTemplate(prompt=PromptTemplate(input_variables=['input1', 'input2'], input_types={}, partial_variables={}, template='Explain the following the inputs you receives : {input1} and {input2}'), additional_kwargs={})])"
      ]
     },
     "execution_count": 113,
     "metadata": {},
     "output_type": "execute_result"
    }
   ],
   "source": [
    "prompt = ChatPromptTemplate.from_template('Explain the following the inputs you receives : {input1} and {input2}')\n",
    "prompt "
   ]
  },
  {
   "cell_type": "code",
   "execution_count": 114,
   "metadata": {},
   "outputs": [],
   "source": [
    "from langchain_core.runnables import RunnableLambda,RunnablePassthrough"
   ]
  },
  {
   "cell_type": "code",
   "execution_count": 125,
   "metadata": {},
   "outputs": [
    {
     "name": "stdout",
     "output_type": "stream",
     "text": [
      "{'char_counts': 2300, 'word_counts': 401, 'output': 'When we say that Earth is a planet and the Sun is a star, this classification is based on our current understanding of astronomy and the structure of our solar system.\\n\\n**Planet:** A planet is a large celestial body that orbits around a star. Planets are typically defined as objects that:\\n\\n1. Are in orbit around another object (in this case, the Sun).\\n2. Have sufficient mass to assume a hydrostatic equilibrium shape (i.e., they are nearly round in shape).\\n3. Have cleared their orbital zone of other objects.\\n\\nPlanets can be classified into different types, including:\\n\\n* Terrestrial planets (e.g., Earth, Mars, Venus)\\n* Gas giants (e.g., Jupiter, Saturn)\\n* Ice giants (e.g., Uranus, Neptune)\\n\\n**Star:** A star is a massive, luminous sphere of plasma held together by its own gravity. Stars are the primary sources of light and heat for our solar system.\\n\\nThe Sun is a specific type of star known as a G-type main-sequence star (G2V). This classification means that the Sun is:\\n\\n* A yellow dwarf star, which is a relatively cool and small star.\\n* In its main sequence stage, where it fuses hydrogen into helium in its core. (This is the longest-lived phase of a star\\'s life.)\\n* The largest star we know of, with a radius about 109 times that of our Earth.\\n\\nStars like the Sun are important for life on Earth because they provide energy and light to support life. They also play a crucial role in shaping the planets\\' atmospheres through their magnetic fields and solar winds.\\n\\n**Why is it called a planet when the star is so massive?**\\n\\nIn 2006, the International Astronomical Union (IAU) redefined the term \"planet\" to better reflect our understanding of the solar system. According to this definition, a planet must:\\n\\n1. Be in orbit around the Sun.\\n2. Have sufficient mass to assume a hydrostatic equilibrium shape.\\n3. Have cleared their orbital zone of other objects.\\n\\nThe Sun meets these criteria, but a planet must not meet one or more of the three conditions to be considered a planet. For example, Pluto does not meet the third criterion because its orbit overlaps with that of Neptune and there are other objects in its orbit that are larger than it.\\n\\nSo, while the Sun is massive and luminous, it\\'s still classified as a planet because it meets the first two criteria, but not the third.'}\n"
     ]
    }
   ],
   "source": [
    "chain = prompt | llm | StrOutputParser() | {'char_counts': RunnableLambda(char_counts), \n",
    "                                            'word_counts': RunnableLambda(word_counts), \n",
    "                                            'output': RunnablePassthrough()}\n",
    "\n",
    "output = chain.invoke({'input1': 'Earth is planet', 'input2': 'Sun is star'})\n",
    "\n",
    "print(output)"
   ]
  },
  {
   "cell_type": "code",
   "execution_count": 126,
   "metadata": {},
   "outputs": [
    {
     "name": "stdout",
     "output_type": "stream",
     "text": [
      "{'char_counts': 3090, 'word_counts': 472, 'output': \"When we talk about the relationship between our planet, Earth, and the star that makes it possible for life to exist, we're referring to a complex interplay of astronomical forces. Here's a breakdown of the main inputs:\\n\\n1. **Orbital Characteristics**: The orbit of Earth around the Sun is elliptical, which means its distance from the Sun varies throughout the year. This variation affects the amount of energy the planet receives.\\n\\n2. **Distance and Energy Received**: The closer Earth comes to the Sun (perihelion), it receives more solar energy due to the increased surface area exposed to direct sunlight. Conversely, when it's farthest away (aphelion), the received solar energy is less, but there are other factors at play that make life on Earth possible.\\n\\n3. **Atmospheric and Atmospheric Loss**: The atmosphere plays a crucial role in regulating temperature and protecting life from harmful radiation. However, as high-energy particles from the Sun interact with the atmosphere, they can strip away atmospheric gases like oxygen (O2) and nitrogen (N2), which are essential for human respiration.\\n\\n4. **Tidal Forces**: The gravitational pull of the Sun on Earth causes tides to occur on our planet. These tides have significant effects on coastal ecosystems, marine life, and the global ocean currents.\\n\\n5. **Gravitational Interactions with Other Objects in Space**: The Sun is not alone in its orbit around the center of the Milky Way galaxy; there are other stars and gas clouds nearby. Gravity plays a role in shaping the solar system's structure and influencing the orbits of planets like Earth.\\n\\n6. **Solar Wind and Cosmic Rays**: The Sun emits charged particles, known as the solar wind, which can interact with Earth's magnetic field, potentially affecting satellite technology and human health. Additionally, high-energy cosmic rays can damage living tissues and contribute to the aging process over time.\\n\\n7. **Gravitational Lensing Effects**: According to Einstein's theory of general relativity, massive objects like stars warp spacetime around them. The gravitational lensing effects caused by these massive objects have been detected in various astrophysical observations, affecting our understanding of gravity and its role in shaping the universe on a cosmic scale.\\n\\n8. **Planetary Rotation and Axis Tilting**: Earth's rotation causes it to spin on its axis while orbiting the Sun. This results in different seasons on our planet as we move from one side of the equator towards the poles, and there are variations due to the tilt of the axis itself.\\n\\n9. **Volcanic Activity and Geological Processes**: The presence of volcanic activity and geological processes like earthquakes and plate tectonics are influenced by Earth's interior dynamics, which are governed by principles such as convection currents in the mantle and interactions with external forces.\\n\\n10. **Geological and Climatological Factors**: These include natural climate patterns like El Niño events, ocean circulation, and volcanic eruptions that influence our planet's weather and climate conditions.\"}\n"
     ]
    }
   ],
   "source": [
    "chain = prompt | llm | StrOutputParser() | {'char_counts':RunnableLambda(char_counts),\n",
    "                                            'word_counts':RunnableLambda(word_counts),\n",
    "                                            'output':RunnablePassthrough()}\n",
    "\n",
    "# result  = chain.invoke({'input1': 'chennai is city in tamilnadu', 'input2': 'bengalore is the city in karnataka'})\n",
    "output = chain.invoke({'input1': 'Earth is planet', 'input2': 'Sun is star'})\n",
    "print(output)\n",
    "# print(result)"
   ]
  },
  {
   "cell_type": "markdown",
   "metadata": {},
   "source": [
    "https://python.langchain.com/v0.1/docs/expression_language/interface/"
   ]
  },
  {
   "cell_type": "code",
   "execution_count": 10,
   "metadata": {},
   "outputs": [
    {
     "name": "stdout",
     "output_type": "stream",
     "text": [
      "Here is a short poem about the ocean:\n",
      "\n",
      "The ocean's waves crash on the shore,\n",
      "A soothing sound that I adore.\n",
      "Its depths are mysterious and wide,\n",
      "Where secrets hide, and mysteries reside.\n",
      "\n",
      "With tides that rise and fall with ease,\n",
      "The ocean's power brings gentle breeze.\n",
      "In its vastness, I find my peace,\n",
      "A sense of calm, a world to cease."
     ]
    }
   ],
   "source": [
    "# Define a prompt template\n",
    "prompt = PromptTemplate.from_template(\"Write a short poem about {topic}.\")\n",
    "\n",
    "# Create a chain\n",
    "chain = prompt | llm | StrOutputParser()\n",
    "\n",
    "# Use `stream` to process input incrementally\n",
    "for chunk in chain.stream({\"topic\": \"the ocean\"}):\n",
    "    print(chunk, end=\"\")  "
   ]
  },
  {
   "cell_type": "code",
   "execution_count": 11,
   "metadata": {},
   "outputs": [
    {
     "name": "stdout",
     "output_type": "stream",
     "text": [
      "Using `invoke`:\n",
      "The capital of France is Paris.\n",
      "\n",
      "\n",
      "Using `stream`:\n",
      "The capital of Germany is Berlin.\n",
      "\n",
      "\n",
      "Using `batch`:\n",
      "The capital of France is Paris.\n",
      "The capital of Germany is Berlin.\n",
      "The capital of Japan is Tokyo.\n"
     ]
    }
   ],
   "source": [
    "# Define a prompt template\n",
    "prompt = PromptTemplate.from_template(\"What is the capital of {country}?\")\n",
    "\n",
    "# Create a chain\n",
    "chain = prompt | llm | StrOutputParser()\n",
    "\n",
    "# Example 1: Using `invoke`\n",
    "print(\"Using `invoke`:\")\n",
    "result = chain.invoke({\"country\": \"France\"})\n",
    "print(result)  # Output: \"The capital of France is Paris.\"\n",
    "print(\"\\n\")\n",
    "\n",
    "# Example 2: Using `stream`\n",
    "print(\"Using `stream`:\")\n",
    "for chunk in chain.stream({\"country\": \"Germany\"}):\n",
    "    print(chunk, end=\"\")  # Output: \"The capital of Germany is Berlin.\"\n",
    "print(\"\\n\\n\")\n",
    "\n",
    "# Example 3: Using `batch`\n",
    "print(\"Using `batch`:\")\n",
    "inputs = [\n",
    "    {\"country\": \"France\"},\n",
    "    {\"country\": \"Germany\"},\n",
    "    {\"country\": \"Japan\"}\n",
    "]\n",
    "results = chain.batch(inputs)\n",
    "for result in results:\n",
    "    print(result)"
   ]
  },
  {
   "cell_type": "markdown",
   "metadata": {},
   "source": []
  }
 ],
 "metadata": {
  "kernelspec": {
   "display_name": "Python 3",
   "language": "python",
   "name": "python3"
  },
  "language_info": {
   "codemirror_mode": {
    "name": "ipython",
    "version": 3
   },
   "file_extension": ".py",
   "mimetype": "text/x-python",
   "name": "python",
   "nbconvert_exporter": "python",
   "pygments_lexer": "ipython3",
   "version": "3.10.11"
  }
 },
 "nbformat": 4,
 "nbformat_minor": 2
}
