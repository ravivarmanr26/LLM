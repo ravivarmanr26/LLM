{
 "cells": [
  {
   "cell_type": "code",
   "execution_count": 79,
   "metadata": {},
   "outputs": [
    {
     "data": {
      "text/plain": [
       "<function dotenv.main.load_dotenv(dotenv_path: Union[str, ForwardRef('os.PathLike[str]'), NoneType] = None, stream: Optional[IO[str]] = None, verbose: bool = False, override: bool = False, interpolate: bool = True, encoding: Optional[str] = 'utf-8') -> bool>"
      ]
     },
     "execution_count": 79,
     "metadata": {},
     "output_type": "execute_result"
    }
   ],
   "source": [
    "from dotenv import load_dotenv\n",
    "load_dotenv"
   ]
  },
  {
   "cell_type": "code",
   "execution_count": 80,
   "metadata": {},
   "outputs": [
    {
     "data": {
      "text/plain": [
       "AIMessage(content='How can I assist you today?', additional_kwargs={}, response_metadata={'model': 'llama3.2', 'created_at': '2025-01-01T12:07:06.9396456Z', 'done': True, 'done_reason': 'stop', 'total_duration': 9382677800, 'load_duration': 8800891000, 'prompt_eval_count': 26, 'prompt_eval_duration': 371000000, 'eval_count': 8, 'eval_duration': 183000000, 'message': Message(role='assistant', content='', images=None, tool_calls=None)}, id='run-a57deff6-61ae-47cf-85b4-5a8605eb2982-0', usage_metadata={'input_tokens': 26, 'output_tokens': 8, 'total_tokens': 34})"
      ]
     },
     "execution_count": 80,
     "metadata": {},
     "output_type": "execute_result"
    }
   ],
   "source": [
    "from langchain_ollama import ChatOllama \n",
    "from langchain_core.output_parsers import StrOutputParser\n",
    "from langchain_core.runnables import RunnablePassthrough \n",
    "from langchain_core.prompts import ChatPromptTemplate\n",
    "\n",
    "from langchain_core.tools import tool\n",
    "\n",
    "\n",
    "llm = ChatOllama(model='llama3.2', base_url='http://localhost:11434')\n",
    "llm.invoke('hi')"
   ]
  },
  {
   "cell_type": "code",
   "execution_count": 81,
   "metadata": {},
   "outputs": [
    {
     "data": {
      "text/plain": [
       "ChatGroq(client=<groq.resources.chat.completions.Completions object at 0x000001E64DE1C8D0>, async_client=<groq.resources.chat.completions.AsyncCompletions object at 0x000001E636C32350>, model_name='llama3-groq-70b-8192-tool-use-preview', model_kwargs={}, groq_api_key=SecretStr('**********'))"
      ]
     },
     "execution_count": 81,
     "metadata": {},
     "output_type": "execute_result"
    }
   ],
   "source": [
    "from langchain_groq import ChatGroq\n",
    "from dotenv import load_dotenv\n",
    "load_dotenv()\n",
    "\n",
    "llm = ChatGroq(model='llama-3.2-11b-vision-preview')\n",
    "llm"
   ]
  },
  {
   "cell_type": "markdown",
   "metadata": {},
   "source": [
    "## Define Tools"
   ]
  },
  {
   "cell_type": "markdown",
   "metadata": {},
   "source": [
    "### 1. Tavily"
   ]
  },
  {
   "cell_type": "code",
   "execution_count": 82,
   "metadata": {},
   "outputs": [],
   "source": [
    "from langchain_community.tools import TavilySearchResults\n",
    "\n",
    "@tool\n",
    "def search(query: str) -> str:\n",
    "    \"\"\"\n",
    "    Search the web for realtime and latest information.\n",
    "    for examples, news, stock market, weather updates etc.\n",
    "    \n",
    "    Args:\n",
    "    query: The search query\n",
    "    \"\"\"\n",
    "    \n",
    "    search = TavilySearchResults(\n",
    "        max_results=5,\n",
    "        search_depth=\"advanced\",\n",
    "        include_answer=True,\n",
    "        include_raw_content=True,\n",
    "    )\n",
    "    response = search.invoke(query)\n",
    "    return response"
   ]
  },
  {
   "cell_type": "markdown",
   "metadata": {},
   "source": [
    "### 2.wikipedia"
   ]
  },
  {
   "cell_type": "code",
   "execution_count": 83,
   "metadata": {},
   "outputs": [],
   "source": [
    "from langchain_community.tools import WikipediaQueryRun\n",
    "from langchain_community.utilities import WikipediaAPIWrapper\n",
    "\n",
    "\n",
    "@tool\n",
    "def wikipedia_search(query: str) -> str:\n",
    "    \"\"\"\n",
    "    Search Wikipedia for general information. Use this for historical, cultural, or factual queries.\n",
    "\n",
    "    Args:\n",
    "        query: The search query.\n",
    "    \"\"\"\n",
    "    wikipedia = WikipediaQueryRun(api_wrapper=WikipediaAPIWrapper())\n",
    "    response = wikipedia.invoke(query)\n",
    "    return response"
   ]
  },
  {
   "cell_type": "markdown",
   "metadata": {},
   "source": [
    "### 3.Google search "
   ]
  },
  {
   "cell_type": "code",
   "execution_count": 84,
   "metadata": {},
   "outputs": [],
   "source": [
    "from langchain_community.utilities import GoogleSerperAPIWrapper\n",
    "@tool\n",
    "def google_search_place(query: str) -> str:\n",
    "    \"\"\"\n",
    "    Search Google for information about places. Use this for location-based queries, such as landmarks, cities, or addresses.\n",
    "\n",
    "    Args:\n",
    "        query: The search query.\n",
    "    \"\"\"\n",
    "    search = GoogleSerperAPIWrapper(type='places')\n",
    "    response = search.results(query)\n",
    "    return response"
   ]
  },
  {
   "cell_type": "code",
   "execution_count": 85,
   "metadata": {},
   "outputs": [],
   "source": [
    "question ='best place to visit in chennai'"
   ]
  },
  {
   "cell_type": "code",
   "execution_count": 86,
   "metadata": {},
   "outputs": [
    {
     "data": {
      "text/plain": [
       "{'searchParameters': {'q': 'best place to visit in chennai',\n",
       "  'gl': 'us',\n",
       "  'hl': 'en',\n",
       "  'type': 'places',\n",
       "  'num': 10,\n",
       "  'engine': 'google'},\n",
       " 'places': [{'position': 1,\n",
       "   'title': 'Government Museum Chennai',\n",
       "   'address': 'Pantheon Rd, Egmore, Chennai, Tamil Nadu 600008, India',\n",
       "   'latitude': 13.0699328,\n",
       "   'longitude': 80.2567588,\n",
       "   'rating': 4.3,\n",
       "   'ratingCount': 17000,\n",
       "   'category': 'Tourist attraction',\n",
       "   'phoneNumber': '+91 44 2819 3238',\n",
       "   'cid': '10738827242996767798'},\n",
       "  {'position': 2,\n",
       "   'title': 'Arulmigu Sri Parthasarathyswamy Temple',\n",
       "   'address': 'Car St, Narayana Krishnaraja Puram, Triplicane, Chennai, Tamil Nadu 600005, India',\n",
       "   'latitude': 13.0538068,\n",
       "   'longitude': 80.27695609999999,\n",
       "   'rating': 4.7,\n",
       "   'ratingCount': 26000,\n",
       "   'category': 'Tourist attraction',\n",
       "   'phoneNumber': '+91 44 2844 2462',\n",
       "   'website': 'https://parthasarathy.hrce.tn.gov.in/',\n",
       "   'cid': '12272515067481418528'},\n",
       "  {'position': 3,\n",
       "   'title': 'VGP Universal Kingdom',\n",
       "   'address': 'SH 49, Injambakkam, Chennai, Tamil Nadu 600115, India',\n",
       "   'latitude': 12.914221,\n",
       "   'longitude': 80.25052400000001,\n",
       "   'rating': 4,\n",
       "   'ratingCount': 38000,\n",
       "   'category': 'Tourist attraction',\n",
       "   'website': 'http://vgpuniversalkingdom.in/',\n",
       "   'cid': '10863773326451744047'},\n",
       "  {'position': 4,\n",
       "   'title': 'Marina Beach',\n",
       "   'address': 'Triplicane, Chennai, Tamil Nadu, India',\n",
       "   'latitude': 13.060090500000001,\n",
       "   'longitude': 80.2865645,\n",
       "   'rating': 4.4,\n",
       "   'ratingCount': 20000,\n",
       "   'category': 'Tourist attraction',\n",
       "   'phoneNumber': '+91 1800 4253 1111',\n",
       "   'cid': '11765186568882202891'},\n",
       "  {'position': 5,\n",
       "   'title': 'Snow Kingdom (Chennai)',\n",
       "   'address': 'SH 49, next to VGP Universal Kingdom, Injambakkam, Chennai, Tamil Nadu 600115, India',\n",
       "   'latitude': 12.9133086,\n",
       "   'longitude': 80.251341,\n",
       "   'rating': 4.6,\n",
       "   'ratingCount': 30000,\n",
       "   'category': 'Tourist attraction',\n",
       "   'phoneNumber': '+91 73822 22222',\n",
       "   'website': 'https://www.snowkingdom.com/booknow.php',\n",
       "   'cid': '7934736584586152019'},\n",
       "  {'position': 6,\n",
       "   'title': 'Semmozhi Poonga',\n",
       "   'address': '3722 6H7, Cathedral Rd, opposite American Consulate, Ellaiamman Colony, Teynampet, Chennai, Tamil Nadu 600086, India',\n",
       "   'latitude': 13.050537100000001,\n",
       "   'longitude': 80.2514128,\n",
       "   'rating': 4.1,\n",
       "   'ratingCount': 27000,\n",
       "   'category': 'Tourist attraction',\n",
       "   'phoneNumber': '3722+6H7, Cathedral Rd, opposite American Consulate',\n",
       "   'cid': '9895380879195658203'},\n",
       "  {'position': 7,\n",
       "   'title': 'Vivekananda House',\n",
       "   'address': 'VIVEKANANDA HOUSE, Kamaraj Salai, Marina Beach Road, Triplicane, Chennai, Tamil Nadu 600005, India',\n",
       "   'latitude': 13.0494354,\n",
       "   'longitude': 80.2804464,\n",
       "   'rating': 4.5,\n",
       "   'ratingCount': 9200,\n",
       "   'category': 'Tourist attraction',\n",
       "   'phoneNumber': '+91 44 2844 6188',\n",
       "   'website': 'https://vivekanandahouse.org/',\n",
       "   'cid': '326711951594524721'},\n",
       "  {'position': 8,\n",
       "   'title': 'Chennai Snake Park',\n",
       "   'address': '263Q MFR, Raj Bhavan post, Guindy, Chennai, Tamil Nadu 600022, India',\n",
       "   'latitude': 13.004233,\n",
       "   'longitude': 80.2386284,\n",
       "   'rating': 4.1,\n",
       "   'ratingCount': 12000,\n",
       "   'category': 'Tourist attraction',\n",
       "   'phoneNumber': '+91 44 2235 3623',\n",
       "   'cid': '12994933151895315975'},\n",
       "  {'position': 9,\n",
       "   'title': 'B.M. Birla Planetarium',\n",
       "   'address': 'Gandhi Mandapam Rd, Kotturpuram, Chennai, Tamil Nadu 600025, India',\n",
       "   'latitude': 13.012005,\n",
       "   'longitude': 80.24399389999999,\n",
       "   'rating': 4.1,\n",
       "   'ratingCount': 2900,\n",
       "   'category': 'Tourist attraction',\n",
       "   'phoneNumber': '+91 44 2441 0025',\n",
       "   'website': 'https://tnstc.gov.in/',\n",
       "   'cid': '14459573736511890193'},\n",
       "  {'position': 10,\n",
       "   'title': 'Fort St.George Museum',\n",
       "   'address': 'Rajaji Rd, near Legislature and Secretariat, Fort St George, Chennai, Tamil Nadu 600009, India',\n",
       "   'latitude': 13.080638299999999,\n",
       "   'longitude': 80.2876185,\n",
       "   'rating': 4.3,\n",
       "   'ratingCount': 5300,\n",
       "   'category': 'Tourist attraction',\n",
       "   'phoneNumber': '+91 44 2567 1127',\n",
       "   'cid': '5548234867178509053'}],\n",
       " 'credits': 1}"
      ]
     },
     "execution_count": 86,
     "metadata": {},
     "output_type": "execute_result"
    }
   ],
   "source": [
    "google_search_place(question)"
   ]
  },
  {
   "cell_type": "markdown",
   "metadata": {},
   "source": [
    "### 4.Health Supplements Retriever"
   ]
  },
  {
   "cell_type": "code",
   "execution_count": 87,
   "metadata": {},
   "outputs": [],
   "source": [
    "import os "
   ]
  },
  {
   "cell_type": "code",
   "execution_count": 88,
   "metadata": {},
   "outputs": [],
   "source": [
    "from langchain_community.document_loaders import PyMuPDFLoader\n",
    "\n",
    "pdfs = []\n",
    "for root,dir,files in os.walk(\"R:/LLM/8.Document_Loaders/rag-dataset\"):\n",
    "    # print(root,dir,files)\n",
    "    for file in files:\n",
    "        # print(file)\n",
    "        if file.endswith(\".pdf\"):\n",
    "            pdfs.append(os.path.join(root, file))"
   ]
  },
  {
   "cell_type": "code",
   "execution_count": 89,
   "metadata": {},
   "outputs": [],
   "source": [
    "docs = []\n",
    "\n",
    "for doc in pdfs:\n",
    "    loader = PyMuPDFLoader(doc)\n",
    "    temp = loader.load()\n",
    "    docs.extend(temp)"
   ]
  },
  {
   "cell_type": "code",
   "execution_count": 90,
   "metadata": {},
   "outputs": [],
   "source": [
    "#split the docs into smaller chunks \n",
    "from langchain_text_splitters import RecursiveCharacterTextSplitter\n",
    "\n",
    "text_splitter = RecursiveCharacterTextSplitter(chunk_size=1000,chunk_overlap=200)\n",
    "chunks = text_splitter.split_documents(docs)"
   ]
  },
  {
   "cell_type": "code",
   "execution_count": 91,
   "metadata": {},
   "outputs": [],
   "source": [
    "#initialize the embedding \n",
    "from langchain_ollama import OllamaEmbeddings\n",
    "embeddings = OllamaEmbeddings(model='nomic-embed-text',base_url='http://localhost:11434')"
   ]
  },
  {
   "cell_type": "code",
   "execution_count": 92,
   "metadata": {},
   "outputs": [],
   "source": [
    "#let import the chromaDB\n",
    "from langchain_chroma import Chroma\n",
    "# create a vector Db\n",
    "vector_store = Chroma(embedding_function=embeddings,persist_directory='./chroma_langchain_db',collection_name=\"pdf_collection\")"
   ]
  },
  {
   "cell_type": "code",
   "execution_count": 93,
   "metadata": {},
   "outputs": [
    {
     "data": {
      "text/plain": [
       "['b2f82c55-4dd2-4812-afe7-043a32950440',\n",
       " 'd402d805-9175-44d2-8f0f-e632baef2a1e',\n",
       " 'ba496b1b-4b48-4689-bb95-2ad54e1b3c97',\n",
       " '0ddb8a8e-9e16-4969-ab05-f6f04971f03e',\n",
       " 'acb0658b-de33-4db4-9f34-4e46fddec31d',\n",
       " 'feeef565-8b6f-4fb3-890e-9a7938da3ddb',\n",
       " '737db060-fe45-4746-a049-31df7a6fb9d3',\n",
       " '25b77422-f85b-48f6-9500-8a48dcfa1bb7',\n",
       " 'fd554a4b-d0df-4ae8-b964-b1a84d1e5fdf',\n",
       " 'c841f2be-a23e-43a7-856a-04025e6d2275',\n",
       " 'c3c2538a-1cdb-4cd1-ba6d-4da1680a4bb8',\n",
       " '4a859b9e-e36d-4f17-b6ea-132566752e06',\n",
       " 'e5c2402e-32d0-4b91-8c49-a6dc47f0256f',\n",
       " 'aca461d7-4766-4e86-b305-e0e98c20bd48',\n",
       " '23e44301-711d-48bb-b30e-22e0f8fa5fe0',\n",
       " '70dbc11d-3704-4ca0-b88a-8eee44e34488',\n",
       " '55b9d2f7-ada3-4e78-a9cf-33f683a512db',\n",
       " '947d341e-b3cd-44f5-bd75-b81eb4e39faa',\n",
       " 'd5c73b27-96da-4edc-85a5-40ac5f5ecac2',\n",
       " '39d4c040-c046-42cc-a675-c19f8a13315d',\n",
       " '2b825924-63cf-45b0-8d6d-8daeaff679c6',\n",
       " '880c3fff-056f-4489-8c76-29d6e704cf47',\n",
       " '639a5a98-204b-4e0e-bd71-33a2fd89426e',\n",
       " 'd02b88db-d04d-4b35-8ff4-0d3c3e584a49',\n",
       " 'aec5b384-35d3-41b9-bc37-605a1242d165',\n",
       " '04165489-8117-4a89-82cc-ec622384c587',\n",
       " 'bd3b4474-48a2-4075-a622-6cc26d4a93d3',\n",
       " '4ae458af-969c-496e-b1e4-04960f0ddddd',\n",
       " 'a52a4759-5417-4314-94b3-64b5281ae025',\n",
       " '98f1ce27-1786-436a-9c25-db5028294dcb',\n",
       " '11b539e3-431c-4229-81b4-a138ca665899',\n",
       " '8765a79c-0a3b-481c-bb1f-d80d0c1f71f6',\n",
       " '0bde6f20-5b0b-4119-8d6c-662328f952d2',\n",
       " 'cd261ce1-4a13-43cb-8357-0c860258efa8',\n",
       " 'b303c83a-b2f0-496c-880c-edad7aa49819',\n",
       " 'ae96c885-a0ca-4c27-ae73-bec498c14eb1',\n",
       " '46cdc012-015b-4422-9439-cc1b01a8da5d',\n",
       " 'e7796017-e0dc-4dd0-b347-52d519d101fd',\n",
       " '188ae7b8-1694-43af-857a-31643b8d3fde',\n",
       " 'ab66ac26-9196-4df9-965b-79fe42f44f27',\n",
       " 'b382923c-047a-4e4c-92f5-fd16df4a7f02',\n",
       " '96a66cce-28d2-4012-b337-f09f12ec742f',\n",
       " '2dc5d58a-2f28-4547-b35f-ff0330c5a582',\n",
       " 'a228976e-7d8f-4dea-b9f5-2177c33d9d67',\n",
       " '2f31d261-85ee-490a-b916-f07de185a2f6',\n",
       " 'b38c7866-5227-4d26-85fa-0cd87e0034f8',\n",
       " 'df768a10-c4fe-4f80-8873-392436e9d2a9',\n",
       " '4fede126-e2d1-48ce-a3fd-936abff33208',\n",
       " '0ea71daa-59dd-414d-add9-1aa4018d14d2',\n",
       " '7dce0073-e30e-4056-a577-5316f5533304',\n",
       " '08d59be8-7f17-48f7-b91f-501c749073fe',\n",
       " '666ad3ad-7b7f-4767-97a0-643c62f18080',\n",
       " '21f557b7-787a-44d3-8a73-dded6d277828',\n",
       " '78fc76c6-08d5-4d4b-8c81-87a828cb972a',\n",
       " '50179c6f-1c81-4bee-8563-9757428a7fe6',\n",
       " 'e2c1aa29-45a6-474b-98b1-fcd02c49c3b6',\n",
       " '8cbc49e6-7fe5-4e6d-aeff-5e2ec677f383',\n",
       " '59e4f7d9-e0c6-4fb8-876f-ed68b9a6cab6',\n",
       " '14e60ad8-1394-45b8-acee-207ecd45b89e',\n",
       " '49320d9a-d935-4ec8-9e3c-d9f477326b9f',\n",
       " 'ff86a8ba-42e5-41f0-ab7a-022ad79b5d37',\n",
       " 'fd79448c-0cd2-495d-a5a0-bd69a2d9993e',\n",
       " '1a05d739-0853-46e0-8145-98522fab1559',\n",
       " '861a0fde-def4-4402-a3f9-03b02c6d650d',\n",
       " '6a6787bf-920f-44ac-a0e3-ff6efc5e6bec',\n",
       " 'eab1dfc6-1072-4dca-b58e-0835c1d46b9d',\n",
       " '1eb26284-e622-4168-96cb-c73de1bf5280',\n",
       " '69b1a733-ec17-4b24-8f2c-4b8453a4a36a',\n",
       " '6c5d457e-c58f-4fe3-9b2d-13a3f98251b6',\n",
       " 'd2fa37a9-78cb-4e0a-a90d-450136b1535f',\n",
       " 'e10b2e75-838b-4610-838d-1c2b09e7da7b',\n",
       " '2b4dae19-f3a3-4869-9178-47c42a684f7d',\n",
       " 'a6aa984c-480c-499f-a5dc-e19199740226',\n",
       " '6f186e15-6ec8-430d-b56a-7c358d6ea44e',\n",
       " 'f22940c5-ecd9-4552-bb0c-8b1e0933c0ac',\n",
       " '2c1bdba4-1003-47de-ae1f-b799232430ce',\n",
       " 'd67c48f2-91f0-4c63-888d-b0baf8dc7bce',\n",
       " '1d19f4f8-e9d0-4e11-8108-b65f647d76d2',\n",
       " '8a34a69d-c9a6-42a8-8cb6-d245a6649e77',\n",
       " '80cecf1d-eff5-4da9-8656-9762c9cc3338',\n",
       " '2928a724-687e-4346-ad20-d2842aece2fb',\n",
       " 'c85b51c9-3829-4066-ab1e-b52f99b281aa',\n",
       " '55f52ca6-858a-4b61-83d6-f503559facb5',\n",
       " '1ede2a92-9707-497a-af47-fbf7aab87b0f',\n",
       " '524252f5-0966-466b-bedf-063f60498e1c',\n",
       " '32021c18-8cde-4266-9cc9-d989afa88f4c',\n",
       " 'd658a882-9e3c-44fe-aac9-5054da5f79b9',\n",
       " 'cfb765e9-1b0d-4ab5-a0c8-3ac5de6e92ec',\n",
       " '4bb2785f-3c73-4f51-a3fa-88609dfb809a',\n",
       " 'f75376ed-b188-4439-b7c9-39a97436c223',\n",
       " 'f49242ca-f00d-4754-bc1d-59d284fb3f12',\n",
       " '0ef36842-d630-49d0-b559-82c6980da789',\n",
       " 'b3e7c041-f64f-45be-beaa-8073501c4dd6',\n",
       " 'e95ef286-139a-4fb3-8853-a36cca47a725',\n",
       " 'b4d8cfd4-e3ae-4544-94e1-cb4b7651e492',\n",
       " '7710bc18-b6d5-4637-a6dc-04415d11f0c3',\n",
       " '476c0258-6b78-47ed-99c9-8fd947c40087',\n",
       " 'e1c1ffa2-e3da-4907-9658-6c10dfc7417c',\n",
       " 'dd2da1ec-5a29-41aa-8873-b9de5f83155e',\n",
       " '0a0f48a1-39d2-4f79-82a9-a26e0cb4693d',\n",
       " '043f9864-79fa-4dff-a3f3-5ab0afab39ec',\n",
       " '09d10c52-4f9f-40d1-8ef9-e1feb2b9d9e5',\n",
       " '614c9912-8adc-4752-be39-bd04c6253633',\n",
       " 'a617f930-cd52-4ef0-aea5-b8fde5349aad',\n",
       " '06866dfb-cab1-4324-a68a-3b0529dfe9bc',\n",
       " 'aa7b72a0-89e3-4c6b-91ef-4e7687944aa2',\n",
       " 'd41ed280-82fd-4cbf-921c-2ea143167523',\n",
       " '96cb63ca-edf1-4f19-9069-589a483d5886',\n",
       " '68b73594-88b5-4ac7-9959-2645f75f5d26',\n",
       " 'd5b4a3e6-ef60-47bd-ad2f-450c5fae5928',\n",
       " '615fece7-b7d7-4d0d-aa71-765fbbb954a7',\n",
       " '48518b35-63c5-4d89-bb6d-a9b202ae4484',\n",
       " 'd7eeb39f-9393-4a4d-8e2f-b1dcfbc5edd1',\n",
       " '6365815e-1f6f-48d3-8ad1-2cbab9046068',\n",
       " '1d698c4d-2540-40fa-9522-2940ce1b634f',\n",
       " 'f932c2c7-a053-43c2-ac03-b22ad159b43a',\n",
       " 'a9f3a2d5-9da1-44bd-aff2-a90b03b96b9e',\n",
       " 'a2ff4ba2-4c8b-4e49-8904-bd8e8a976cea',\n",
       " '2341bb8e-7d22-41a1-a66d-d7403c6442ab',\n",
       " '106ca4b5-a0b9-4875-843d-08a46d678042',\n",
       " 'e69e7cb1-897a-4cc3-8c4f-8d3fb9910e34',\n",
       " '3588c876-a377-467a-aeec-5c255f1554d5',\n",
       " '2f9fc2d2-b60a-41a0-9283-de7712fa061e',\n",
       " 'd30b1403-4d31-4ab7-a33f-ce55ffc668a1',\n",
       " 'd968f78e-feb4-4a3b-85c3-ec86fbb9fe7f',\n",
       " '1ab5a748-1d20-4df9-b195-ab30afacd200',\n",
       " '7fa8a617-d930-499f-82e6-f7cbefc3b91e',\n",
       " '95b03e1f-8bbc-41e3-9dbf-c6bbef9d361f',\n",
       " '5c7e979a-67c9-470b-ba55-e770570b2079',\n",
       " '2e5737eb-6c68-4710-8ed8-bfe023d8ca83',\n",
       " '226caa4a-210c-453a-a949-1bc11f1a9014',\n",
       " '6f971121-b7f6-499c-a240-7d4ae679ce3e',\n",
       " 'b93de8c5-0e93-4870-8237-c2257dfaa88d',\n",
       " '6bb1cb5f-4f9e-450e-ad3f-9141e382ed92',\n",
       " 'b2735167-9bf6-45c4-a1a4-04344febd3e2',\n",
       " '7d1a19f0-a6db-4a33-a2ab-885e22cd8b76',\n",
       " '083e6452-6689-4e02-b080-8c719353e34f',\n",
       " 'd7e773ae-f616-483d-9f86-0226956bb3aa',\n",
       " '5dbcd4b8-f79f-4c0c-95e5-ed11b3105990',\n",
       " 'fdbdd4b6-ff5c-4361-8d62-fed79a971584',\n",
       " '505bc602-ee3b-4d1d-811e-8c77fcc3a99d',\n",
       " '9e40b4ae-bef5-4860-bb17-8c890aa6ca27',\n",
       " 'c2e3e940-abce-42b4-8f8d-67d7a3c87f00',\n",
       " '48036f86-8919-4194-bd2f-a74a2ed09bf2',\n",
       " '740f64a5-ca4d-4fbf-905c-e49719c272d1',\n",
       " 'adb30a16-1353-42c6-b1b2-f8af095384be',\n",
       " '894eb5be-aea3-4e34-8572-955314f42b77',\n",
       " 'cc8c0296-b2df-4b98-9b5c-66e83b17ff6b',\n",
       " '5a761a99-6255-4ad1-98ef-79407ba7dde1',\n",
       " '786c0063-1f47-48ce-af7b-da00fe2f0d29',\n",
       " '1c0a94bd-685b-4b47-bf2b-87a1fe1f00a4',\n",
       " 'f8a43f08-0be9-4c1e-94d8-36c4f16fc25b',\n",
       " 'b78d62b1-c0a6-48ab-816b-2e03cde287be',\n",
       " '6f1dfd6e-22fa-4114-8e34-bc139bb549a8',\n",
       " 'e2ab2a72-69d3-4570-8553-27c264604b0c',\n",
       " '4bd95a21-1ef7-4f42-bbde-a8cb3aacf094',\n",
       " 'f30bf28d-f150-460f-a773-facd177ea549',\n",
       " '0a63634c-7d81-482f-8f59-ba11f2bbca33',\n",
       " '10df3ab5-e2c2-4b0c-bce5-6ed30cade7c1',\n",
       " 'f6cc176b-e26e-4dcd-afba-a5af5b4b6d7d',\n",
       " 'ed495b81-b7ea-4fbf-9814-f9e48672a1a9',\n",
       " '8a3a2077-f214-40d8-91c8-00bc33141fe3',\n",
       " '76a5977d-4694-4d31-b9ad-58fbf6328a3e',\n",
       " '5dc610eb-9ceb-4de5-b62c-28457a99b98e',\n",
       " '84cab6da-3f6d-4101-a0d4-75d59f508012',\n",
       " '70afa8ce-cf17-4d97-a927-128c9a81474d',\n",
       " '73807724-2b60-4415-9676-ccb0addc602b',\n",
       " '2622e03d-8f8b-434a-a3bf-e023c25b3b5f',\n",
       " 'ce1df90e-5615-437b-9e49-77f0e537f22b',\n",
       " '71abd452-5e7f-4118-ac47-d9028b0512f2',\n",
       " '80fb3f0b-004a-4779-ad65-028bbae7e32f',\n",
       " '7d509c4e-285d-4de1-aabe-bcae4c52a309',\n",
       " '58cd58b0-b9ea-48b3-aaf8-e8ec71d0397f',\n",
       " '712ba9f1-0059-4b92-9122-72c692bae924',\n",
       " 'd5b1892a-f756-403c-bc42-2a7863b28ea0',\n",
       " '2c10fb07-7ec0-46cd-b615-d81822437b54',\n",
       " '20d8fca6-87ef-417d-a495-e6d2eb3be4fb',\n",
       " '5bca6f21-05d5-4a77-90d3-cc57d1087f05',\n",
       " '35665407-e863-490f-a6b0-fa99b2cfc5ce',\n",
       " 'd8705c5a-658d-4a53-8d07-ccaba613869c',\n",
       " 'aa197614-407d-491d-9526-b225af34e745',\n",
       " '9ba0c874-d79c-43da-aa39-2c9c3aa10a6a',\n",
       " 'ad0dca1e-5aa7-4b48-ae98-e5508e722709',\n",
       " 'afe208e4-df42-4f91-b4a9-aa99048e9a9b',\n",
       " '4c5ba2ed-dafc-4187-b145-dcd5c3819321',\n",
       " '23e78833-1f10-4497-b12c-951f92079b9a',\n",
       " '2125829f-da98-42c1-bbb3-70fc5069f5e4',\n",
       " '025c278d-93d6-45dd-b89e-5fe0d7a118c5',\n",
       " '1b4c1bcd-637a-450d-9490-bb670a597502',\n",
       " '3cce47fb-8bee-4abb-adaf-63262303990d',\n",
       " '9d460f63-4a86-487f-9a15-80e240238102',\n",
       " '43c9a890-d877-49de-9c66-9b888978a61a',\n",
       " 'a78e7e3a-16ac-4b8b-94ac-c53da9962448',\n",
       " '68b0eced-594c-464a-bfca-d677ed8baeb5',\n",
       " '444f1c50-957e-4efd-a6da-ae9a6f04336c',\n",
       " 'fab74ee5-89c5-4edc-895e-04bcc9ae3d64',\n",
       " '31067791-3d3e-4d74-b0de-477b7104496d',\n",
       " 'bcaeba72-0943-4430-9ae5-a1c04ae7169e',\n",
       " 'b5a7bd74-36de-47fb-ae8f-3636ec4acdc3',\n",
       " 'e6ff6580-0aed-4903-8127-97300601248e',\n",
       " 'f1e07365-2987-422a-b2ca-fcbbc56838ea',\n",
       " 'dc2fdf72-3740-48e4-a9a3-a6ed5ed032c6',\n",
       " '159a2998-9a45-415b-89f3-d81da68c28d6',\n",
       " 'c5a7822a-0593-4d99-b198-7eb09288a2ec',\n",
       " '4b4841f4-0ec4-4b13-9869-dec32c903ed6',\n",
       " '5a6703be-7545-45aa-b1cb-eb54e666ac3b',\n",
       " 'f7e17b0a-4289-4489-8ca0-9b36fc8879d5',\n",
       " 'b090f49f-abb9-431d-87f6-4e8621442143',\n",
       " 'c61550f0-b2f3-4fcb-8adf-84bbe970cf06',\n",
       " 'f633f2e7-0ae7-4873-b597-c3a5733bf78b',\n",
       " '92b68dda-c45e-4b89-b6fc-9793c93ce7da',\n",
       " '185a5cec-42e3-4df0-a3a6-75bb0400ef62',\n",
       " '55d2d9e8-be82-4a52-99cd-fdbc9aec5720',\n",
       " '66215919-52e3-469f-9f07-e8b01de4569a',\n",
       " '5f61e18d-6e05-4c61-85e5-7d5269799aeb',\n",
       " 'f806ca57-442b-4192-9478-de60cd74a87d',\n",
       " 'ffeac0c6-fecc-4e44-b44b-e25a9dc86a19',\n",
       " '143d3aa2-c369-4617-bc3a-b4566cb583d6',\n",
       " 'a521a505-0e3f-4287-a75b-3293d5cf198d',\n",
       " '2829b022-d39b-4714-9e6e-7e8b1545828b',\n",
       " '1706f672-0f6c-479f-be16-bddd43643d7a',\n",
       " '3def6cc0-1cf7-417d-973f-b08c92aa66d8',\n",
       " '6bec80b5-6af8-44a0-8ef9-dad3758868fb',\n",
       " '8fa354f6-92c4-4060-a792-e34f456e8a4d',\n",
       " '55c57e7b-a29c-44f8-9920-248049646881',\n",
       " '35de1ff0-814a-46ba-b53f-52483628f373',\n",
       " 'd1396128-8a45-49a0-aa31-3ca4b4fb99a3',\n",
       " 'd47c8006-7f42-43af-bdfa-25ee6f21632a',\n",
       " 'd7318b7f-f1d3-456d-a665-cde78ae18fad',\n",
       " '1c0dac68-8f09-48b5-ac12-e2af1a381da2',\n",
       " '9ebdb181-089c-4545-ba57-dc7a22cd3a36',\n",
       " 'ed77f473-7771-4ba5-aac7-7057697d2490',\n",
       " '7f5d478b-bf17-44f9-b990-b5771494c38b',\n",
       " '2c7a833b-11ce-406c-8d7f-13cf17ec6923',\n",
       " '7452e86e-e233-44e2-b681-6a872bbe2a3f',\n",
       " '1acf7bef-3acf-44de-a836-88b1b41ad71b',\n",
       " '375a68b4-e687-4397-8f18-43ba1c7db9bb',\n",
       " '2e907b04-2301-4a19-b6d8-48ab6a57069c',\n",
       " '56cf8438-3147-4bd3-ba16-788ab18c58a3',\n",
       " '4d9b6e00-e37b-415d-adc5-13a0209f5d3b',\n",
       " 'f190f4cd-3eaa-4956-95f5-448dc96d5614',\n",
       " '437b554a-5592-45df-a1e6-ebd659168fed',\n",
       " '9024e769-7232-474d-8358-dda070e0566c',\n",
       " 'ccd56303-467c-446f-87ae-bc76417a8858',\n",
       " '5c72334c-0848-41b6-849c-ee6e2f988146',\n",
       " 'e79f7538-026e-4ff5-adcc-66e84a920196',\n",
       " 'c85647ed-47ba-459f-9958-bc6bbd16b954',\n",
       " '9a4cb535-daa4-4b77-808b-f001a91b4e89',\n",
       " 'a0fca7ff-463f-4c26-8fcd-87fd0b81fe60',\n",
       " '9f7a680f-36ea-47c8-95fe-804e6d651519',\n",
       " '7d65ef27-95e6-4545-b820-35be29da6cf8',\n",
       " '6d8f7a16-5542-4579-a21d-516ef46e8da9',\n",
       " 'e488c60e-a3c0-4b6c-80a0-d6d34c65c7a5',\n",
       " 'ca2eb579-733c-4821-8e47-38414b20f397',\n",
       " '66eb2a35-29ea-4216-a293-ea1f6862c456',\n",
       " '30c1ffcb-2388-455e-a072-97f1c24b0994',\n",
       " '819156ad-8ed3-409e-893c-ee8b9639648e',\n",
       " '207ba7d7-f739-4206-a121-c8e0bc2a8597',\n",
       " 'd5f3a93f-4547-4932-a489-0e6a612d28bb',\n",
       " '4a83fdde-5efe-4590-b809-cb4ace6a3037',\n",
       " '62c759aa-9b85-43a5-875f-3a26a96b0ce6',\n",
       " '04b8addc-ec1b-4152-b13b-3dc14b97be3b',\n",
       " 'ac8ca6a7-72ad-4000-8763-0886f78dc29b',\n",
       " '14f30f03-163f-490f-9559-463e6cc370a2',\n",
       " 'fe16ca04-2b2d-4d82-a060-046928352ce5',\n",
       " '3acf276a-63f1-4b04-8286-b4bbb387fdaa',\n",
       " 'c4794d8c-d83c-46f0-ad1b-9e029159eb78',\n",
       " '4c20aef3-1e11-468b-b45a-2f64f2ebb874',\n",
       " 'f372f3eb-c93f-4f15-b31e-c103920f1823',\n",
       " '1198f453-5388-4742-b264-3522fec82dad',\n",
       " '753511bd-91e6-428e-b032-c59bf102b6ad',\n",
       " '8ada208e-ae49-47a8-8173-91e652f36827',\n",
       " '4437f8fa-96a9-477f-8722-b526a01a4df3',\n",
       " '296903fb-c0bb-40c2-9505-deb29673c7ed',\n",
       " '168e1e24-7969-4217-a2e9-f21420cd2b06',\n",
       " 'aff49079-a829-4183-967c-01a26cefc061',\n",
       " '278775ad-4f24-44e0-9b1e-045bd99a3f66',\n",
       " '53c81364-2994-499f-8035-74eda2d3b11e',\n",
       " '2e1f088c-fa6b-4b8f-b59b-a0da90555c0b',\n",
       " '2f788615-34f3-45b7-a243-0e669341adfe',\n",
       " '760099bf-9575-4ebd-a689-e53ac8e26a45',\n",
       " '77d14c73-824b-4089-bf61-799376ccce96',\n",
       " '79163f98-da80-424a-b9ec-2239c5aed315',\n",
       " 'd2bf7387-16b9-4012-8342-fc33066b0e18',\n",
       " 'c697b6c8-57b6-457a-88d2-9d1c05142834',\n",
       " 'ce2ae6c5-6c98-48c3-9dad-2aed4afd076d',\n",
       " 'd0bbc13e-0f2e-4c27-a174-a7cb9a8eb5fa',\n",
       " 'bee0b12b-839a-46a1-9909-76b968d29b8a',\n",
       " 'efe9e876-3b7e-42a0-9a5f-ac3e604ee6a0',\n",
       " '0c4ef372-fea0-4ec1-95e6-cb6813cb9f35',\n",
       " '8c6a3dd2-697f-4af7-ae98-a894f490fb4c',\n",
       " 'c0e8ce2c-2504-444f-a33a-f5ddbe7e0a2b',\n",
       " 'd35ecdcb-a676-43db-9243-0f419a0168c5',\n",
       " '8a228094-5075-43df-8e4c-d2ed3bc4facd',\n",
       " '04309e57-8397-4ceb-add5-5dd5f04c197b',\n",
       " '1df517c2-cb79-48ba-832c-a8a20fd20885',\n",
       " 'f7956ab8-6de9-446e-9f00-5010825c8063',\n",
       " '90ba0510-0ed8-44ad-a101-bd3e9f164051',\n",
       " 'b85a5acb-60f2-4e97-b943-e023dc825e0a',\n",
       " '053a704b-27f7-4062-ad06-d3816af567dc',\n",
       " '34781a5d-48fd-4914-b2c4-8ab731478a86',\n",
       " '83c5fc9f-23bb-45cd-917f-18ec5b0c737a',\n",
       " '53f18330-cc4f-4071-9ea6-0ff039a82ca2',\n",
       " '51510d6c-a133-4d83-8cd2-051a6ea8fec2',\n",
       " 'dd596991-799e-48f5-b21b-fbfd0fef875e',\n",
       " 'eb08aa0e-1289-4433-b383-cc47d58bcda0',\n",
       " '36691642-21d9-43ac-9edf-e742299418ae',\n",
       " 'a073e007-6028-4a65-9fca-ea94a6526250',\n",
       " '5a377977-c9b3-4992-9f90-b31be092c383',\n",
       " '3d58e6f7-d094-467e-917c-7e262d39760b',\n",
       " 'c1bcd58b-daf2-4940-bbfb-aa33c49f540f',\n",
       " '9bae696f-6cfb-4942-8fa0-5da541947187',\n",
       " '8f35907d-e2f4-4d14-8cb9-fc4561308b6e',\n",
       " 'a88a6d3d-c8ce-4879-996f-6e73ef088c1c',\n",
       " 'ae5c310f-08cf-488d-b515-795416f6dbce',\n",
       " '68858fca-0ab8-46a0-afca-40db1cca8091',\n",
       " 'e59604b2-c168-4be1-81cc-19dacc879555',\n",
       " '4cea3bde-f5d6-4e86-b0dd-815bf9190a6e',\n",
       " 'f1e8353c-4ddd-4c3c-9314-41835302442c',\n",
       " 'abbd89b2-ec70-4e87-89eb-f1a8168f18d9',\n",
       " '5ff8e110-2ede-4c0b-b42b-7d12c8861d5f',\n",
       " '5f583a16-4c0a-4c43-b645-a2393a1b3a85',\n",
       " '0db384d2-7559-4055-8ab2-9408db8ec9ad',\n",
       " 'd6ee9f10-f1f1-44b1-816d-05ea3740e3d7',\n",
       " '5d6759d9-fda5-4337-872b-05e09a832587',\n",
       " '943c120f-f37b-44d4-a546-dc29dd700920',\n",
       " 'e1f028b9-0f79-4af0-a0cf-7964d91103cd',\n",
       " '3c34c045-caab-4296-a146-f17aaf626ab9',\n",
       " '305f033f-0349-4738-b3c7-ca2bca8afe6d',\n",
       " 'b1b9f872-5e6f-4180-9ff7-5cd9683758da']"
      ]
     },
     "execution_count": 93,
     "metadata": {},
     "output_type": "execute_result"
    }
   ],
   "source": [
    "vector_store.add_documents(documents=chunks)"
   ]
  },
  {
   "cell_type": "code",
   "execution_count": 94,
   "metadata": {},
   "outputs": [],
   "source": [
    "# vectordb = Chroma(persist_directory='chroma_langchain_db', embedding_function=embeddings)"
   ]
  },
  {
   "cell_type": "code",
   "execution_count": 95,
   "metadata": {},
   "outputs": [],
   "source": [
    "# retriever = vectordb.as_retriever(\n",
    "#     search_type = 'mmr',search_kwards ={\"k\":1,\"fetch_k\":10}\n",
    "# )\n",
    "# question = \"how to lose weight?\"\n",
    "# retriever.invoke(question)"
   ]
  },
  {
   "cell_type": "code",
   "execution_count": 96,
   "metadata": {},
   "outputs": [],
   "source": [
    "retriever = vector_store.as_retriever(\n",
    "    search_type='mmr',\n",
    "    search_kwargs={\"k\": 3, \"fetch_k\": 10}\n",
    ")"
   ]
  },
  {
   "cell_type": "code",
   "execution_count": 97,
   "metadata": {},
   "outputs": [
    {
     "data": {
      "text/plain": [
       "[Document(metadata={'author': '', 'creationDate': '', 'creator': '', 'file_path': 'R:/LLM/8.Document_Loaders/rag-dataset\\\\health supplements\\\\1. dietary supplements - for whom.pdf', 'format': 'PDF 1.7', 'keywords': '', 'modDate': 'D:20241021113754Z', 'page': 12, 'producer': 'iLovePDF', 'source': 'R:/LLM/8.Document_Loaders/rag-dataset\\\\health supplements\\\\1. dietary supplements - for whom.pdf', 'subject': '', 'title': '', 'total_pages': 17, 'trapped': ''}, page_content='Int. J. Environ. Res. Public Health 2021, 18, 8897\\n13 of 24\\n3.3. Dietary Supplements and Weight Loss\\nThe number of people with excessive weight continues to rise, and ﬁghting obesity\\nhas become one of the greatest challenges of contemporary medicine. A person wishing to\\nlose weight needs to undertake several difﬁcult life-changes and practice them consistently\\n(diet, physical activity, addiction-free). Meanwhile dietary supplements are presented as\\na compelling alternative to traditional methods for combatting obesity. Wróbel-Harmas\\net al. [107] demonstrated that weight loss supplements are the most frequently sought di-\\netary supplements on the Internet, followed by preparations for muscle building and sexual\\npotency. In the US, more than 30% of people with overweight and obesity believe supple-\\nments to be an effective method for losing weight [108], while in Poland these supplements\\nare used by as many as 40–50% of young women, regardless of their weight [15].'),\n",
       " Document(metadata={'author': '', 'creationDate': '', 'creator': '', 'file_path': 'R:/LLM/8.Document_Loaders/rag-dataset\\\\health supplements\\\\1. dietary supplements - for whom.pdf', 'format': 'PDF 1.7', 'keywords': '', 'modDate': 'D:20241021113754Z', 'page': 12, 'producer': 'iLovePDF', 'source': 'R:/LLM/8.Document_Loaders/rag-dataset\\\\health supplements\\\\1. dietary supplements - for whom.pdf', 'subject': '', 'title': '', 'total_pages': 17, 'trapped': ''}, page_content='Int. J. Environ. Res. Public Health 2021, 18, 8897\\n13 of 24\\n3.3. Dietary Supplements and Weight Loss\\nThe number of people with excessive weight continues to rise, and ﬁghting obesity\\nhas become one of the greatest challenges of contemporary medicine. A person wishing to\\nlose weight needs to undertake several difﬁcult life-changes and practice them consistently\\n(diet, physical activity, addiction-free). Meanwhile dietary supplements are presented as\\na compelling alternative to traditional methods for combatting obesity. Wróbel-Harmas\\net al. [107] demonstrated that weight loss supplements are the most frequently sought di-\\netary supplements on the Internet, followed by preparations for muscle building and sexual\\npotency. In the US, more than 30% of people with overweight and obesity believe supple-\\nments to be an effective method for losing weight [108], while in Poland these supplements\\nare used by as many as 40–50% of young women, regardless of their weight [15].'),\n",
       " Document(metadata={'author': '', 'creationDate': '', 'creator': '', 'file_path': 'R:/LLM/8.Document_Loaders/rag-dataset\\\\health supplements\\\\1. dietary supplements - for whom.pdf', 'format': 'PDF 1.7', 'keywords': '', 'modDate': 'D:20241021113754Z', 'page': 12, 'producer': 'iLovePDF', 'source': 'R:/LLM/8.Document_Loaders/rag-dataset\\\\health supplements\\\\1. dietary supplements - for whom.pdf', 'subject': '', 'title': '', 'total_pages': 17, 'trapped': ''}, page_content='ments to be an effective method for losing weight [108], while in Poland these supplements\\nare used by as many as 40–50% of young women, regardless of their weight [15].\\nWeight loss supplements are usually multi-ingredient preparations, with over 4000 in-\\ndividual substances used in the production process. The average weight loss supplement\\navailable in Western markets is estimated to include 10 different ingredients [109]. The\\nmore complex the recipe, the harder it is to determine its effects on the body. The most\\npopular ingredients include chromium and chitosan, as well as green tea, Garcinia cambogia,\\nand bitter orange (Citrus aurantium) extracts [15,16]. Over the years, no studies have shown\\nthat the use of either single- or multi-ingredient preparations of those substances promotes\\nweight reduction.\\nA 2013 meta-analysis of randomized studies found that chromium supplementation\\nresulted in only 0.5 kg additional weight reduction in subjects with overweight and obesity,')]"
      ]
     },
     "execution_count": 97,
     "metadata": {},
     "output_type": "execute_result"
    }
   ],
   "source": [
    "question = \"how to lose weight?\"\n",
    "retriever.invoke(question)"
   ]
  },
  {
   "cell_type": "code",
   "execution_count": 98,
   "metadata": {},
   "outputs": [],
   "source": [
    "@tool\n",
    "def health_supplements(query: str) -> str:\n",
    "    \"\"\"Search for information about Health Supplements.\n",
    "    For any questions about Health and Gym Supplements, you must use this tool!,\n",
    "\n",
    "    Args:\n",
    "        query: The search query.\n",
    "    \"\"\"\n",
    "    response = retriever.invoke(query)\n",
    "    return response"
   ]
  },
  {
   "cell_type": "code",
   "execution_count": 99,
   "metadata": {},
   "outputs": [],
   "source": [
    "question ='how to lose weights?'"
   ]
  },
  {
   "cell_type": "code",
   "execution_count": 100,
   "metadata": {},
   "outputs": [
    {
     "data": {
      "text/plain": [
       "[Document(metadata={'author': '', 'creationDate': '', 'creator': '', 'file_path': 'R:/LLM/8.Document_Loaders/rag-dataset\\\\gym supplements\\\\1. Analysis of Actual Fitness Supplement.pdf', 'format': 'PDF 1.7', 'keywords': '', 'modDate': 'D:20241021113850Z', 'page': 0, 'producer': 'iLovePDF', 'source': 'R:/LLM/8.Document_Loaders/rag-dataset\\\\gym supplements\\\\1. Analysis of Actual Fitness Supplement.pdf', 'subject': '', 'title': '', 'total_pages': 15, 'trapped': ''}, page_content='and non-competitive athletes [1]. One widely known supplement for athletes and fitness\\nenthusiasts is protein supplements like protein shakes. Others may be whey protein,\\ncaffeine, and creatine, to name a few. These supplements play a crucial role in helping\\nindividuals increase muscle mass, recover faster, and enhance their overall performance [2].\\nWhey protein stands out as a top-quality protein source, containing more essential amino\\nacids than traditional protein sources. Its numerous benefits have made it a popular choice\\nfor snacks and drinks among consumers [3]. Another widely embraced supplement is\\ncaffeine, which is found in many sports and food supplements. Caffeine reduces perceived\\neffort, minimizes fatigue and pain, and proves to be effective for endurance and high-\\nintensity activities, which is the choice of consumers [4].\\nCreatine monohydrate is another well-known supplement used to gain muscle mass'),\n",
       " Document(metadata={'author': '', 'creationDate': '', 'creator': '', 'file_path': 'R:/LLM/8.Document_Loaders/rag-dataset\\\\gym supplements\\\\1. Analysis of Actual Fitness Supplement.pdf', 'format': 'PDF 1.7', 'keywords': '', 'modDate': 'D:20241021113850Z', 'page': 0, 'producer': 'iLovePDF', 'source': 'R:/LLM/8.Document_Loaders/rag-dataset\\\\gym supplements\\\\1. Analysis of Actual Fitness Supplement.pdf', 'subject': '', 'title': '', 'total_pages': 15, 'trapped': ''}, page_content='and non-competitive athletes [1]. One widely known supplement for athletes and fitness\\nenthusiasts is protein supplements like protein shakes. Others may be whey protein,\\ncaffeine, and creatine, to name a few. These supplements play a crucial role in helping\\nindividuals increase muscle mass, recover faster, and enhance their overall performance [2].\\nWhey protein stands out as a top-quality protein source, containing more essential amino\\nacids than traditional protein sources. Its numerous benefits have made it a popular choice\\nfor snacks and drinks among consumers [3]. Another widely embraced supplement is\\ncaffeine, which is found in many sports and food supplements. Caffeine reduces perceived\\neffort, minimizes fatigue and pain, and proves to be effective for endurance and high-\\nintensity activities, which is the choice of consumers [4].\\nCreatine monohydrate is another well-known supplement used to gain muscle mass'),\n",
       " Document(metadata={'author': '', 'creationDate': '', 'creator': '', 'file_path': 'R:/LLM/8.Document_Loaders/rag-dataset\\\\gym supplements\\\\1. Analysis of Actual Fitness Supplement.pdf', 'format': 'PDF 1.7', 'keywords': '', 'modDate': 'D:20241021113850Z', 'page': 0, 'producer': 'iLovePDF', 'source': 'R:/LLM/8.Document_Loaders/rag-dataset\\\\gym supplements\\\\1. Analysis of Actual Fitness Supplement.pdf', 'subject': '', 'title': '', 'total_pages': 15, 'trapped': ''}, page_content='intensity activities, which is the choice of consumers [4].\\nCreatine monohydrate is another well-known supplement used to gain muscle mass\\nand support performance and recovery. It is known not to increase fat mass and remains\\neffective even when taken in recommended doses [5]. Despite its popularity in the fitness\\nFoods 2024, 13, 1424. https://doi.org/10.3390/foods13091424\\nhttps://www.mdpi.com/journal/foods')]"
      ]
     },
     "execution_count": 100,
     "metadata": {},
     "output_type": "execute_result"
    }
   ],
   "source": [
    "health_supplements.invoke(\"what is the best supplement for muscle gain?\")"
   ]
  },
  {
   "cell_type": "markdown",
   "metadata": {},
   "source": [
    "## Agent Creation"
   ]
  },
  {
   "cell_type": "markdown",
   "metadata": {},
   "source": [
    "- The agent is responsible for taking in input and deciding what actions to take\n",
    "- The Agent does not execute those actions - that is done by the AgentExecutor\n",
    "- create_tool_calling_agent will call .bind_tools for us under the hood."
   ]
  },
  {
   "cell_type": "code",
   "execution_count": 101,
   "metadata": {},
   "outputs": [],
   "source": [
    "from langchain import hub\n",
    "from langchain.agents import create_tool_calling_agent\n",
    "from langchain.agents import AgentExecutor"
   ]
  },
  {
   "cell_type": "code",
   "execution_count": 102,
   "metadata": {},
   "outputs": [
    {
     "name": "stderr",
     "output_type": "stream",
     "text": [
      "c:\\Users\\Admin\\AppData\\Local\\Programs\\Python\\Python311\\Lib\\site-packages\\langsmith\\client.py:241: LangSmithMissingAPIKeyWarning: API key must be provided when using hosted LangSmith API\n",
      "  warnings.warn(\n"
     ]
    },
    {
     "data": {
      "text/plain": [
       "[SystemMessagePromptTemplate(prompt=PromptTemplate(input_variables=[], input_types={}, partial_variables={}, template='You are a helpful assistant'), additional_kwargs={}),\n",
       " MessagesPlaceholder(variable_name='chat_history', optional=True),\n",
       " HumanMessagePromptTemplate(prompt=PromptTemplate(input_variables=['input'], input_types={}, partial_variables={}, template='{input}'), additional_kwargs={}),\n",
       " MessagesPlaceholder(variable_name='agent_scratchpad')]"
      ]
     },
     "execution_count": 102,
     "metadata": {},
     "output_type": "execute_result"
    }
   ],
   "source": [
    "prompt = hub.pull(\"hwchase17/openai-functions-agent\")\n",
    "prompt.messages"
   ]
  },
  {
   "cell_type": "code",
   "execution_count": 103,
   "metadata": {},
   "outputs": [
    {
     "data": {
      "text/plain": [
       "RunnableAssign(mapper={\n",
       "  agent_scratchpad: RunnableLambda(lambda x: message_formatter(x['intermediate_steps']))\n",
       "})\n",
       "| ChatPromptTemplate(input_variables=['agent_scratchpad', 'input'], optional_variables=['chat_history'], input_types={'chat_history': list[typing.Annotated[typing.Union[typing.Annotated[langchain_core.messages.ai.AIMessage, Tag(tag='ai')], typing.Annotated[langchain_core.messages.human.HumanMessage, Tag(tag='human')], typing.Annotated[langchain_core.messages.chat.ChatMessage, Tag(tag='chat')], typing.Annotated[langchain_core.messages.system.SystemMessage, Tag(tag='system')], typing.Annotated[langchain_core.messages.function.FunctionMessage, Tag(tag='function')], typing.Annotated[langchain_core.messages.tool.ToolMessage, Tag(tag='tool')], typing.Annotated[langchain_core.messages.ai.AIMessageChunk, Tag(tag='AIMessageChunk')], typing.Annotated[langchain_core.messages.human.HumanMessageChunk, Tag(tag='HumanMessageChunk')], typing.Annotated[langchain_core.messages.chat.ChatMessageChunk, Tag(tag='ChatMessageChunk')], typing.Annotated[langchain_core.messages.system.SystemMessageChunk, Tag(tag='SystemMessageChunk')], typing.Annotated[langchain_core.messages.function.FunctionMessageChunk, Tag(tag='FunctionMessageChunk')], typing.Annotated[langchain_core.messages.tool.ToolMessageChunk, Tag(tag='ToolMessageChunk')]], FieldInfo(annotation=NoneType, required=True, discriminator=Discriminator(discriminator=<function _get_type at 0x000001E635994CC0>, custom_error_type=None, custom_error_message=None, custom_error_context=None))]], 'agent_scratchpad': list[typing.Annotated[typing.Union[typing.Annotated[langchain_core.messages.ai.AIMessage, Tag(tag='ai')], typing.Annotated[langchain_core.messages.human.HumanMessage, Tag(tag='human')], typing.Annotated[langchain_core.messages.chat.ChatMessage, Tag(tag='chat')], typing.Annotated[langchain_core.messages.system.SystemMessage, Tag(tag='system')], typing.Annotated[langchain_core.messages.function.FunctionMessage, Tag(tag='function')], typing.Annotated[langchain_core.messages.tool.ToolMessage, Tag(tag='tool')], typing.Annotated[langchain_core.messages.ai.AIMessageChunk, Tag(tag='AIMessageChunk')], typing.Annotated[langchain_core.messages.human.HumanMessageChunk, Tag(tag='HumanMessageChunk')], typing.Annotated[langchain_core.messages.chat.ChatMessageChunk, Tag(tag='ChatMessageChunk')], typing.Annotated[langchain_core.messages.system.SystemMessageChunk, Tag(tag='SystemMessageChunk')], typing.Annotated[langchain_core.messages.function.FunctionMessageChunk, Tag(tag='FunctionMessageChunk')], typing.Annotated[langchain_core.messages.tool.ToolMessageChunk, Tag(tag='ToolMessageChunk')]], FieldInfo(annotation=NoneType, required=True, discriminator=Discriminator(discriminator=<function _get_type at 0x000001E635994CC0>, custom_error_type=None, custom_error_message=None, custom_error_context=None))]]}, partial_variables={'chat_history': []}, metadata={'lc_hub_owner': 'hwchase17', 'lc_hub_repo': 'openai-functions-agent', 'lc_hub_commit_hash': 'a1655024b06afbd95d17449f21316291e0726f13dcfaf990cc0d18087ad689a5'}, messages=[SystemMessagePromptTemplate(prompt=PromptTemplate(input_variables=[], input_types={}, partial_variables={}, template='You are a helpful assistant'), additional_kwargs={}), MessagesPlaceholder(variable_name='chat_history', optional=True), HumanMessagePromptTemplate(prompt=PromptTemplate(input_variables=['input'], input_types={}, partial_variables={}, template='{input}'), additional_kwargs={}), MessagesPlaceholder(variable_name='agent_scratchpad')])\n",
       "| RunnableBinding(bound=ChatGroq(client=<groq.resources.chat.completions.Completions object at 0x000001E64DE1C8D0>, async_client=<groq.resources.chat.completions.AsyncCompletions object at 0x000001E636C32350>, model_name='llama3-groq-70b-8192-tool-use-preview', model_kwargs={}, groq_api_key=SecretStr('**********')), kwargs={'tools': [{'type': 'function', 'function': {'name': 'search', 'description': 'Search the web for realtime and latest information.\\nfor examples, news, stock market, weather updates etc.\\n\\nArgs:\\nquery: The search query', 'parameters': {'properties': {'query': {'type': 'string'}}, 'required': ['query'], 'type': 'object'}}}, {'type': 'function', 'function': {'name': 'wikipedia_search', 'description': 'Search Wikipedia for general information. Use this for historical, cultural, or factual queries.\\n\\nArgs:\\n    query: The search query.', 'parameters': {'properties': {'query': {'type': 'string'}}, 'required': ['query'], 'type': 'object'}}}, {'type': 'function', 'function': {'name': 'google_search_place', 'description': 'Search Google for information about places. Use this for location-based queries, such as landmarks, cities, or addresses.\\n\\nArgs:\\n    query: The search query.', 'parameters': {'properties': {'query': {'type': 'string'}}, 'required': ['query'], 'type': 'object'}}}, {'type': 'function', 'function': {'name': 'health_supplements', 'description': 'Search for information about Health Supplements.\\n    For any questions about Health and Gym Supplements, you must use this tool!,\\n\\n    Args:\\n        query: The search query.', 'parameters': {'properties': {'query': {'type': 'string'}}, 'required': ['query'], 'type': 'object'}}}]}, config={}, config_factories=[])\n",
       "| ToolsAgentOutputParser()"
      ]
     },
     "execution_count": 103,
     "metadata": {},
     "output_type": "execute_result"
    }
   ],
   "source": [
    "tools = [search,wikipedia_search,google_search_place,health_supplements]\n",
    "agent = create_tool_calling_agent(llm,tools,prompt)\n",
    "agent"
   ]
  },
  {
   "cell_type": "code",
   "execution_count": 104,
   "metadata": {},
   "outputs": [],
   "source": [
    "Agent_executor = AgentExecutor(agent=agent,tools=tools,verbose = True)"
   ]
  },
  {
   "cell_type": "code",
   "execution_count": 114,
   "metadata": {},
   "outputs": [
    {
     "name": "stdout",
     "output_type": "stream",
     "text": [
      "\n",
      "\n",
      "\u001b[1m> Entering new AgentExecutor chain...\u001b[0m\n",
      "\u001b[32;1m\u001b[1;3m\n",
      "Invoking: `health_supplements` with `{'query': 'side effects of too much vitamin D'}`\n",
      "\n",
      "\n",
      "\u001b[0m\u001b[36;1m\u001b[1;3m[Document(metadata={'author': '', 'creationDate': '', 'creator': '', 'file_path': 'R:/LLM/8.Document_Loaders/rag-dataset\\\\health supplements\\\\1. dietary supplements - for whom.pdf', 'format': 'PDF 1.7', 'keywords': '', 'modDate': 'D:20241021113754Z', 'page': 10, 'producer': 'iLovePDF', 'source': 'R:/LLM/8.Document_Loaders/rag-dataset\\\\health supplements\\\\1. dietary supplements - for whom.pdf', 'subject': '', 'title': '', 'total_pages': 17, 'trapped': ''}, page_content='Int. J. Environ. Res. Public Health 2021, 18, 8897\\n11 of 24\\nimpact of vitamin D supplementation, some meta-analyses of randomized controlled trials\\nindicate that vitamin D intake reduces the risk of cancer mortality by 12–13% [90,91].\\nHowever, some authors note that due to the low quality of the research, this ﬁnding\\nshould be approached with caution [91] and yet others do not conﬁrm any relationship [89].\\nDecisions about possible vitamin D supplementation in cancer patients should consider\\nthe current and target 25 (OH) D concentrations in the patient’s blood [90].\\nIn fact, a considerable number of the experts believe that cancer patients should\\nrefrain from any supplementation, especially during chemotherapy and radiation ther-\\napy [66,97,98]. According to Ambrosone et al. [99], antioxidant supplementation in breast\\ncancer patients undergoing chemotherapy lowered the chance of survival. The American'), Document(metadata={'author': '', 'creationDate': '', 'creator': '', 'file_path': 'R:/LLM/8.Document_Loaders/rag-dataset\\\\health supplements\\\\1. dietary supplements - for whom.pdf', 'format': 'PDF 1.7', 'keywords': '', 'modDate': 'D:20241021113754Z', 'page': 10, 'producer': 'iLovePDF', 'source': 'R:/LLM/8.Document_Loaders/rag-dataset\\\\health supplements\\\\1. dietary supplements - for whom.pdf', 'subject': '', 'title': '', 'total_pages': 17, 'trapped': ''}, page_content='Int. J. Environ. Res. Public Health 2021, 18, 8897\\n11 of 24\\nimpact of vitamin D supplementation, some meta-analyses of randomized controlled trials\\nindicate that vitamin D intake reduces the risk of cancer mortality by 12–13% [90,91].\\nHowever, some authors note that due to the low quality of the research, this ﬁnding\\nshould be approached with caution [91] and yet others do not conﬁrm any relationship [89].\\nDecisions about possible vitamin D supplementation in cancer patients should consider\\nthe current and target 25 (OH) D concentrations in the patient’s blood [90].\\nIn fact, a considerable number of the experts believe that cancer patients should\\nrefrain from any supplementation, especially during chemotherapy and radiation ther-\\napy [66,97,98]. According to Ambrosone et al. [99], antioxidant supplementation in breast\\ncancer patients undergoing chemotherapy lowered the chance of survival. The American'), Document(metadata={'author': '', 'creationDate': '', 'creator': '', 'file_path': 'R:/LLM/8.Document_Loaders/rag-dataset\\\\health supplements\\\\1. dietary supplements - for whom.pdf', 'format': 'PDF 1.7', 'keywords': '', 'modDate': 'D:20241021113754Z', 'page': 9, 'producer': 'iLovePDF', 'source': 'R:/LLM/8.Document_Loaders/rag-dataset\\\\health supplements\\\\1. dietary supplements - for whom.pdf', 'subject': '', 'title': '', 'total_pages': 17, 'trapped': ''}, page_content='a good example of the thin line between beneﬁcial and detrimental doses when the relation-\\nship between antioxidant consumption and the risks of developing cancer are concerned.\\nIn people with low blood concentrations of selenium, its supplementation lowers cancer\\nrisk, but in individuals with high blood concentrations of selenium, supplementation\\nincreases the risk of developing lung cancer [87,88].\\nVitamin D supplementation has also caused a lot of interest in recent years in relation\\nto cancer prevention because of the vitamin’s anti-inﬂammatory and immunomodulatory\\nproperties and the presence of Vitamin D Receptor (VDR) in most human organs. However,\\nmeta-analysis of randomized controlled trials has not conﬁrmed that vitamin D intake\\nreduces the incidence of cancer [89–91].\\nSummarizing the current state of knowledge about vitamin and mineral supplementa-\\ntion in cancer prevention, it is important to emphasize that the expert panel of the World')]\u001b[0m\u001b[32;1m\u001b[1;3mBased on the information retrieved, it's important to note that while vitamin D intake may reduce the risk of cancer mortality by 12-13% according to some meta-analyses, the quality of the research is low, and other studies do not confirm any relationship. It's crucial to consider the current and target 25 (OH) D concentrations in the patient's blood, especially for cancer patients, who should possibly refrain from any vitamin D supplements, particularly during chemotherapy and radiation therapy.\u001b[0m\n",
      "\n",
      "\u001b[1m> Finished chain.\u001b[0m\n",
      "{'input': 'What are the side effects of taking too much vitamin D?', 'output': \"Based on the information retrieved, it's important to note that while vitamin D intake may reduce the risk of cancer mortality by 12-13% according to some meta-analyses, the quality of the research is low, and other studies do not confirm any relationship. It's crucial to consider the current and target 25 (OH) D concentrations in the patient's blood, especially for cancer patients, who should possibly refrain from any vitamin D supplements, particularly during chemotherapy and radiation therapy.\"}\n",
      "What are the side effects of taking too much vitamin D?\n",
      "Based on the information retrieved, it's important to note that while vitamin D intake may reduce the risk of cancer mortality by 12-13% according to some meta-analyses, the quality of the research is low, and other studies do not confirm any relationship. It's crucial to consider the current and target 25 (OH) D concentrations in the patient's blood, especially for cancer patients, who should possibly refrain from any vitamin D supplements, particularly during chemotherapy and radiation therapy.\n"
     ]
    }
   ],
   "source": [
    "question = \"What are the side effects of taking too much vitamin D?\"\n",
    "response = Agent_executor.invoke({'input': question})\n",
    "print(response)\n",
    "print(response['input'])\n",
    "print(response['output'])"
   ]
  },
  {
   "cell_type": "code",
   "execution_count": 106,
   "metadata": {},
   "outputs": [
    {
     "name": "stdout",
     "output_type": "stream",
     "text": [
      "\n",
      "\n",
      "\u001b[1m> Entering new AgentExecutor chain...\u001b[0m\n",
      "\u001b[32;1m\u001b[1;3m\n",
      "Invoking: `google_search_place` with `{'query': 'best place to visit in russia'}`\n",
      "\n",
      "\n",
      "\u001b[0m\u001b[38;5;200m\u001b[1;3m{'searchParameters': {'q': 'best place to visit in russia', 'gl': 'us', 'hl': 'en', 'type': 'places', 'num': 10, 'engine': 'google'}, 'places': [{'position': 1, 'title': \"St. Basil's Cathedral\", 'address': 'Red Square, 7, Moscow, Russia, 109012', 'latitude': 55.752522899999995, 'longitude': 37.623086799999996, 'rating': 4.8, 'ratingCount': 11000, 'category': 'Tourist attraction', 'phoneNumber': '+7 495 698-33-04', 'website': 'https://shm.ru/museum/hvb/', 'cid': '11875735528249440997'}, {'position': 2, 'title': 'The Moscow Kremlin', 'address': 'Moscow, Russia, 103132', 'latitude': 55.7509544, 'longitude': 37.6175755, 'rating': 4.8, 'ratingCount': 54000, 'category': 'Tourist attraction', 'phoneNumber': '+7 495 697-03-49', 'website': 'https://www.kreml.ru/', 'cid': '12143603839552663144'}, {'position': 3, 'title': 'Red Square', 'address': 'Moscow, Russia', 'latitude': 55.75393030000001, 'longitude': 37.620795, 'rating': 4.8, 'ratingCount': 168000, 'category': 'Plaza', 'website': 'https://um.mos.ru/places/krasnaya_ploshchad', 'cid': '8949916143843422495'}, {'position': 4, 'title': 'State Hermitage Museum', 'address': 'Palace Square, 2, St Petersburg, Russia, 190000', 'latitude': 59.939831700000006, 'longitude': 30.3145597, 'rating': 4.8, 'ratingCount': 58000, 'category': 'Tourist attraction', 'phoneNumber': '+7 812 710-90-79', 'website': 'https://www.hermitagemuseum.org/wps/portal/hermitage/', 'cid': '526361688062057980'}, {'position': 5, 'title': 'Winter Palace', 'address': 'Palace Embankment, 32, St Petersburg, Russia, 190000', 'latitude': 59.940395800000005, 'longitude': 30.313796199999995, 'rating': 4.9, 'ratingCount': 54000, 'category': 'Tourist attraction', 'phoneNumber': '+7 812 710-90-79', 'website': 'https://www.hermitagemuseum.org/', 'cid': '2400294528664299382'}, {'position': 6, 'title': 'Solovetsky Stone', 'address': 'Лубянская площадь 1 Москва Мосцощ Област, Moscow, Russia, 109012', 'latitude': 55.759117499999995, 'longitude': 37.6275378, 'rating': 4.5, 'ratingCount': 223, 'category': 'Tourist attraction', 'website': 'http://www.memo.ru/', 'cid': '11804124603173643577'}, {'position': 7, 'title': 'My Russia', 'address': 'улица Набережная Лаванды, 9, Estosadok, Krasnodar Krai, Russia, 354392', 'latitude': 43.671462999999996, 'longitude': 40.3065528, 'rating': 4.3, 'ratingCount': 3400, 'category': 'Tourist attraction', 'phoneNumber': '+7 800 500-05-55', 'website': 'https://myrussiapark.ru/', 'cid': '6861333437208451980'}, {'position': 8, 'title': 'Geographic Center of Russia', 'address': 'Lake Vivi, Krasnoyarsk Krai, Russia, 648581', 'latitude': 66.41665809999999, 'longitude': 94.25005360000002, 'rating': 5, 'ratingCount': 2, 'category': 'Tourist attraction', 'cid': '1862688724545771513'}], 'credits': 1}\u001b[0m\u001b[32;1m\u001b[1;3mHere are some of the best places to visit in Russia:\n",
      "1. **St. Basil's Cathedral** - Red Square, Moscow, Russia. A famous tourist attraction with a rating of 4.8 based on 11,000 reviews.\n",
      "2. **The Moscow Kremlin** - Moscow, Russia. A historic fortified complex that includes several palaces and cathedrals, with a rating of 4.8 based on 54,000 reviews.\n",
      "3. **Red Square** - Moscow, Russia. A historic square in the heart of Moscow, with a rating of 4.8 based on 168,000 reviews.\n",
      "4. **State Hermitage Museum** - St Petersburg, Russia. One of the largest and oldest museums in the world, with a rating of 4.8 based on 58,000 reviews.\n",
      "5. **Winter Palace** - St Petersburg, Russia. A former residence of the Russian monarchs, with a rating of 4.9 based on 54,000 reviews.\u001b[0m\n",
      "\n",
      "\u001b[1m> Finished chain.\u001b[0m\n"
     ]
    }
   ],
   "source": [
    "question = 'best place to visit in russia?'\n",
    "response = Agent_executor.invoke({'input': question})"
   ]
  },
  {
   "cell_type": "code",
   "execution_count": 107,
   "metadata": {},
   "outputs": [
    {
     "name": "stdout",
     "output_type": "stream",
     "text": [
      "\n",
      "\n",
      "\u001b[1m> Entering new AgentExecutor chain...\u001b[0m\n",
      "\u001b[32;1m\u001b[1;3mI'm sorry but I do not have the capability to perform this task for you, I am happy to help you with any other queries you may have.\u001b[0m\n",
      "\n",
      "\u001b[1m> Finished chain.\u001b[0m\n"
     ]
    }
   ],
   "source": [
    "question = \"What is the best supplement for muscle gain?\"\n",
    "response = Agent_executor.invoke({'input':question})"
   ]
  },
  {
   "cell_type": "code",
   "execution_count": 108,
   "metadata": {},
   "outputs": [
    {
     "name": "stdout",
     "output_type": "stream",
     "text": [
      "\n",
      "\n",
      "\u001b[1m> Entering new AgentExecutor chain...\u001b[0m\n",
      "\u001b[32;1m\u001b[1;3m\n",
      "Invoking: `search` with `{'query': 'weather in New York'}`\n",
      "\n",
      "\n",
      "\u001b[0m\u001b[36;1m\u001b[1;3m[{'url': 'https://www.weatherapi.com/', 'content': \"{'location': {'name': 'New York', 'region': 'New York', 'country': 'United States of America', 'lat': 40.7142, 'lon': -74.0064, 'tz_id': 'America/New_York', 'localtime_epoch': 1735730995, 'localtime': '2025-01-01 06:29'}, 'current': {'last_updated_epoch': 1735730100, 'last_updated': '2025-01-01 06:15', 'temp_c': 8.3, 'temp_f': 46.9, 'is_day': 0, 'condition': {'text': 'Overcast', 'icon': '//cdn.weatherapi.com/weather/64x64/night/122.png', 'code': 1009}, 'wind_mph': 6.0, 'wind_kph': 9.7, 'wind_degree': 275, 'wind_dir': 'W', 'pressure_mb': 999.0, 'pressure_in': 29.51, 'precip_mm': 0.0, 'precip_in': 0.0, 'humidity': 86, 'cloud': 100, 'feelslike_c': 6.7, 'feelslike_f': 44.0, 'windchill_c': 5.1, 'windchill_f': 41.1, 'heatindex_c': 7.8, 'heatindex_f': 46.1, 'dewpoint_c': 7.3, 'dewpoint_f': 45.2, 'vis_km': 11.0, 'vis_miles': 6.0, 'uv': 0.0, 'gust_mph': 9.1, 'gust_kph': 14.7}}\"}, {'url': 'https://weathershogun.com/weather/usa/ny/new-york/3284/january/2025-01-01', 'content': 'New York, New York Weather: Wednesday, January 1, 2025. Cloudy weather, overcast skies with no rain. Day 48°. Night 39°. Precipitation 35 %.'}, {'url': 'https://world-weather.info/forecast/usa/new_york/january-2025/', 'content': \"Weather in New York City in January 2025 (New York) - Detailed Weather Forecast for a Month Weather in New York City Weather in New York City in January 2025 New York City Weather Forecast for January 2025 is based on long term prognosis and previous years' statistical data. 1 +50°+50° 2 +41°+39° 3 +37°+32° 4 +30°+30° 5 +30°+27° 6 +43°+30° 7 +37°+37° 8 +43°+34° 9 +32°+30° 10 +30°+28° 11 +41°+30° +46°+37° +45°+37° +36°+28° +37°+30° +39°+32° +36°+28° +39°+30° +39°+32° +37°+30° +36°+27° +37°+30° +39°+32° +39°+32° +41°+34° +39°+32° +41°+34° +39°+34° +41°+34° +36°+28° +36°+28° Extended weather forecast in New York City Albany+16° Linden+34° Yonkers+30° Mount Vernon+32° Paterson+30° Livingston+27° New Rochelle+32° Summit+27° Union+34° Clifton+32° Jersey City+34° Bayonne+34° East New York+36° Guttenberg+34° world's temperature today Temperature units\"}, {'url': 'https://www.weather25.com/north-america/usa/new-york/new-york-city?page=month&month=January', 'content': 'New York City weather in January 2025 | Weather25.com New York City weather in January 2025 The weather in New York City in January is very cold with temperatures between -4°C and 1°C, warm clothes are a must. | New York City in January | Temperatures in New York City in January Weather in New York City in January - FAQ The average temperature in New York City in January is -4/1° C. On average, there are 6 rainy days in New York City during January. Weather wise, is January a good time to visit New York City? The weather in New York City in January is awful. On average, there are 9 snowy days in New York City in January.'}, {'url': 'https://www.weather25.com/north-america/usa/new-york?page=month&month=January', 'content': 'New York weather in January 2025 | New York 14 day weather New York weather in January 2025 The weather in New York in January is very cold with temperatures between -4°C and 1°C, warm clothes are a must. | New York in January | Temperatures in New York in January Weather in New York in January - FAQ The average temperature in New York in January is -4/1° C. On average, there are 6 rainy days in New York during January. Weather wise, is January a good time to visit New York? The weather in New York in January is awful. On average, there are 9 snowy days in New York in January. More about the weather in New York'}]\u001b[0m\u001b[32;1m\u001b[1;3mThe current weather in New York is overcast with a temperature of 8.3°C (46.9°F). The wind is blowing from the west at 6 mph (9.7 kph). The humidity is 86%, and the pressure is 999 hPa (29.51 inHg). There is no precipitation. The weather forecast for the day is cloudy with temperatures ranging from 48°F to 39°F. The precipitation chance is 35%.\u001b[0m\n",
      "\n",
      "\u001b[1m> Finished chain.\u001b[0m\n"
     ]
    }
   ],
   "source": [
    "question = \"what's weather in New York?\"\n",
    "response = Agent_executor.invoke({'input':question})"
   ]
  },
  {
   "cell_type": "code",
   "execution_count": 109,
   "metadata": {},
   "outputs": [
    {
     "name": "stdout",
     "output_type": "stream",
     "text": [
      "\n",
      "\n",
      "\u001b[1m> Entering new AgentExecutor chain...\u001b[0m\n",
      "\u001b[32;1m\u001b[1;3m\n",
      "Invoking: `wikipedia_search` with `{'query': 'langchain'}`\n",
      "\n",
      "\n",
      "\u001b[0m\u001b[33;1m\u001b[1;3mPage: LangChain\n",
      "Summary: LangChain is a software framework that helps facilitate the integration of large language models (LLMs) into applications. As a language model integration framework, LangChain's use-cases largely overlap with those of language models in general, including document analysis and summarization, chatbots, and code analysis.\n",
      "\n",
      "Page: Milvus (vector database)\n",
      "Summary: Milvus is a distributed vector database developed by Zilliz. It is available as both open-source software and a cloud service.\n",
      "Milvus is an open-source project under LF AI & Data Foundation distributed under the Apache License 2.0.\n",
      "\n",
      "\n",
      "\n",
      "Page: Retrieval-augmented generation\n",
      "Summary: Retrieval Augmented Generation (RAG) is a technique that grants generative artificial intelligence models information retrieval capabilities. It modifies interactions with a large language model (LLM) so that the model responds to user queries with reference to a specified set of documents, using this information to augment information drawn from its own vast, static training data. This allows LLMs to use domain-specific and/or updated information.  \n",
      "Use cases include providing chatbot access to internal company data or giving factual information only from an authoritative source.\u001b[0m\u001b[32;1m\u001b[1;3m\n",
      "Invoking: `wikipedia_search` with `{'query': 'llm'}`\n",
      "\n",
      "\n",
      "\u001b[0m"
     ]
    },
    {
     "name": "stderr",
     "output_type": "stream",
     "text": [
      "c:\\Users\\Admin\\AppData\\Local\\Programs\\Python\\Python311\\Lib\\site-packages\\wikipedia\\wikipedia.py:389: GuessedAtParserWarning: No parser was explicitly specified, so I'm using the best available HTML parser for this system (\"lxml\"). This usually isn't a problem, but if you run this code on another system, or in a different virtual environment, it may use a different parser and behave differently.\n",
      "\n",
      "The code that caused this warning is on line 389 of the file c:\\Users\\Admin\\AppData\\Local\\Programs\\Python\\Python311\\Lib\\site-packages\\wikipedia\\wikipedia.py. To get rid of this warning, pass the additional argument 'features=\"lxml\"' to the BeautifulSoup constructor.\n",
      "\n",
      "  lis = BeautifulSoup(html).find_all('li')\n"
     ]
    },
    {
     "name": "stdout",
     "output_type": "stream",
     "text": [
      "\u001b[33;1m\u001b[1;3mPage: Master of Laws\n",
      "Summary: A Master of Laws (M.L. or LL.M.; Latin: Magister Legum or Legum Magister) is an advanced postgraduate academic degree, pursued by those either holding an undergraduate academic law degree, a professional law degree, or an undergraduate degree in a related subject. In most jurisdictions, the LL.M. is the advanced professional degree for those usually already admitted into legal practice.\n",
      "\n",
      "\n",
      "\n",
      "Page: Large language model\n",
      "Summary: A large language model (LLM) is a type of machine learning model designed for natural language processing tasks such as language generation. LLMs are language models with many parameters, and are trained with self-supervised learning on a vast amount of text.\n",
      "The largest and most capable LLMs are generative pretrained transformers (GPTs). Modern models can be fine-tuned for specific tasks or guided by prompt engineering. These models acquire predictive power regarding syntax, semantics, and ontologies inherent in human language corpora, but they also inherit inaccuracies and biases present in the data they are trained in.\u001b[0m\u001b[32;1m\u001b[1;3mHere's what I found:\n",
      "1. **LangChain** is a software framework that helps integrate large language models (LLMs) into applications. It's used for document analysis, summarization, chatbots, and code analysis.\n",
      "2. **Milvus** is a distributed vector database that's open-source and available as a cloud service. It's used in applications that require efficient similarity search.\n",
      "3. **Retrieval-Augmented Generation** is a technique that allows LLMs to use domain-specific or updated information by incorporating reference documents into their responses.\n",
      "4. **Master of Laws (LLM)** is an advanced postgraduate academic degree for those with an undergraduate law degree or a related subject.\n",
      "5. **Large Language Model (LLM)** is a machine learning model designed for natural language processing tasks. It's trained on a vast amount of text and can be fine-tuned for specific tasks.\u001b[0m\n",
      "\n",
      "\u001b[1m> Finished chain.\u001b[0m\n"
     ]
    }
   ],
   "source": [
    "question = \"Teach me about langchain and llm?\"\n",
    "response = Agent_executor.invoke({'input':question})"
   ]
  },
  {
   "cell_type": "code",
   "execution_count": 111,
   "metadata": {},
   "outputs": [
    {
     "name": "stdout",
     "output_type": "stream",
     "text": [
      "\n",
      "\n",
      "\u001b[1m> Entering new AgentExecutor chain...\u001b[0m\n",
      "\u001b[32;1m\u001b[1;3m\n",
      "Invoking: `google_search_place` with `{'query': 'google headquarters location'}`\n",
      "\n",
      "\n",
      "\u001b[0m\u001b[38;5;200m\u001b[1;3m{'searchParameters': {'q': 'google headquarters location', 'gl': 'us', 'hl': 'en', 'type': 'places', 'num': 10, 'engine': 'google'}, 'places': [{'position': 1, 'title': 'Mountain View', 'address': 'CA', 'latitude': 37.390026399999996, 'longitude': -122.08123040000001, 'category': 'California', 'cid': '8941849000641539995'}], 'credits': 1}\u001b[0m\u001b[32;1m\u001b[1;3mThe Google headquarters is located in Mountain View, California.\u001b[0m\n",
      "\n",
      "\u001b[1m> Finished chain.\u001b[0m\n"
     ]
    }
   ],
   "source": [
    "question = \"google headquaters in located in which place?\"\n",
    "response = Agent_executor.invoke({'input':question})"
   ]
  }
 ],
 "metadata": {
  "kernelspec": {
   "display_name": "Python 3",
   "language": "python",
   "name": "python3"
  },
  "language_info": {
   "codemirror_mode": {
    "name": "ipython",
    "version": 3
   },
   "file_extension": ".py",
   "mimetype": "text/x-python",
   "name": "python",
   "nbconvert_exporter": "python",
   "pygments_lexer": "ipython3",
   "version": "3.11.9"
  }
 },
 "nbformat": 4,
 "nbformat_minor": 2
}
