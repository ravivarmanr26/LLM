{
 "cells": [
  {
   "cell_type": "markdown",
   "metadata": {},
   "source": [
    "## Tool Calling or Function Calling\n",
    "- LLM Automatically calls the function based on the query\n",
    "- Function parameters are automatically passed to the function\n",
    "- It is one of the essential requirements of the Agent\n",
    "- Not all LLM supports tool calling."
   ]
  },
  {
   "cell_type": "markdown",
   "metadata": {},
   "source": [
    "https://python.langchain.com/docs/concepts/tools/"
   ]
  },
  {
   "cell_type": "code",
   "execution_count": 27,
   "metadata": {},
   "outputs": [
    {
     "data": {
      "text/plain": [
       "True"
      ]
     },
     "execution_count": 27,
     "metadata": {},
     "output_type": "execute_result"
    }
   ],
   "source": [
    "from dotenv import load_dotenv\n",
    "\n",
    "load_dotenv()"
   ]
  },
  {
   "cell_type": "code",
   "execution_count": 28,
   "metadata": {},
   "outputs": [],
   "source": [
    "from langchain_ollama import ChatOllama \n",
    "from langchain_core.output_parsers import StrOutputParser\n",
    "from langchain_core.runnables import RunnablePassthrough \n",
    "from langchain_core.prompts import ChatPromptTemplate\n",
    "\n",
    "from langchain_groq import ChatGroq\n",
    "\n",
    "llm = ChatOllama(model='llama3.2', base_url='http://localhost:11434')\n",
    "llm.invoke('hi')\n",
    "\n",
    "groq_llm = ChatGroq(model=\"llama-3.2-3b-preview\")"
   ]
  },
  {
   "cell_type": "markdown",
   "metadata": {},
   "source": [
    "### Custom Tools"
   ]
  },
  {
   "cell_type": "markdown",
   "metadata": {},
   "source": [
    "https://python.langchain.com/docs/how_to/custom_tools/"
   ]
  },
  {
   "cell_type": "code",
   "execution_count": 29,
   "metadata": {},
   "outputs": [],
   "source": [
    "from langchain_core.tools import tool"
   ]
  },
  {
   "cell_type": "code",
   "execution_count": 54,
   "metadata": {},
   "outputs": [],
   "source": [
    "@tool\n",
    "def add(x: int, y: int) -> int:\n",
    "    \"\"\"\n",
    "    This function adds two integers.\n",
    "    Args:\n",
    "        x: First integer\n",
    "        y: Second integer\n",
    "    Returns:\n",
    "        Sum of x and y\n",
    "    \"\"\"\n",
    "    return x + y\n",
    "\n",
    "@tool\n",
    "def multiply(x: float, y: float) -> float:\n",
    "    \"\"\"\n",
    "    This function multiplies two numbers.\n",
    "    Args:\n",
    "        x: First number\n",
    "        y: Second number\n",
    "    Returns:\n",
    "        Product of x and y\n",
    "    \"\"\"\n",
    "    return x * y"
   ]
  },
  {
   "cell_type": "code",
   "execution_count": 46,
   "metadata": {},
   "outputs": [],
   "source": [
    "# @tool\n",
    "# def multiply(x: float, y: float) -> float:\n",
    "#     \"\"\"Multiply two numbers.\"\"\"\n",
    "#     return x * y\n",
    "\n",
    "# @tool\n",
    "# def add(x: int, y: int) -> int:\n",
    "#     \"\"\"Add two numbers.\"\"\"\n",
    "#     return x + y\n",
    "\n",
    "# @tool \n",
    "# def divide(x:float, y:float) -> float:\n",
    "#     \"\"\"Divide two numbers.\"\"\"\n",
    "#     return x / y\n",
    "\n",
    "# tools = [multiply, add, divide]"
   ]
  },
  {
   "cell_type": "code",
   "execution_count": 55,
   "metadata": {},
   "outputs": [
    {
     "data": {
      "text/plain": [
       "langchain_core.tools.structured.StructuredTool"
      ]
     },
     "execution_count": 55,
     "metadata": {},
     "output_type": "execute_result"
    }
   ],
   "source": [
    "type(add)"
   ]
  },
  {
   "cell_type": "code",
   "execution_count": 56,
   "metadata": {},
   "outputs": [
    {
     "data": {
      "text/plain": [
       "('add',\n",
       " 'This function adds two integers.\\nArgs:\\n    x: First integer\\n    y: Second integer\\nReturns:\\n    Sum of x and y',\n",
       " {'x': {'title': 'X', 'type': 'integer'},\n",
       "  'y': {'title': 'Y', 'type': 'integer'}},\n",
       " langchain_core.utils.pydantic.add,\n",
       " {'description': 'This function adds two integers.\\nArgs:\\n    x: First integer\\n    y: Second integer\\nReturns:\\n    Sum of x and y',\n",
       "  'properties': {'x': {'title': 'X', 'type': 'integer'},\n",
       "   'y': {'title': 'Y', 'type': 'integer'}},\n",
       "  'required': ['x', 'y'],\n",
       "  'title': 'add',\n",
       "  'type': 'object'})"
      ]
     },
     "execution_count": 56,
     "metadata": {},
     "output_type": "execute_result"
    }
   ],
   "source": [
    "add.name,add.description,add.args,add.args_schema,add.args_schema.schema()"
   ]
  },
  {
   "cell_type": "code",
   "execution_count": 57,
   "metadata": {},
   "outputs": [
    {
     "data": {
      "text/plain": [
       "9"
      ]
     },
     "execution_count": 57,
     "metadata": {},
     "output_type": "execute_result"
    }
   ],
   "source": [
    "add.invoke({'x':4,'y':5})"
   ]
  },
  {
   "cell_type": "code",
   "execution_count": 50,
   "metadata": {},
   "outputs": [
    {
     "data": {
      "text/plain": [
       "20.0"
      ]
     },
     "execution_count": 50,
     "metadata": {},
     "output_type": "execute_result"
    }
   ],
   "source": [
    "multiply.invoke({'x':4,'y':5})"
   ]
  },
  {
   "cell_type": "code",
   "execution_count": 71,
   "metadata": {},
   "outputs": [],
   "source": [
    "tools = [add,multiply]\n",
    "llm_with_tools = groq_llm.bind_tools(tools)"
   ]
  },
  {
   "cell_type": "code",
   "execution_count": 86,
   "metadata": {},
   "outputs": [
    {
     "data": {
      "text/plain": [
       "AIMessage(content='', additional_kwargs={'tool_calls': [{'id': 'call_ee3z', 'function': {'arguments': '{}', 'name': 'add{x=1,y=2}'}, 'type': 'function'}]}, response_metadata={'token_usage': {'completion_tokens': 13, 'prompt_tokens': 379, 'total_tokens': 392, 'completion_time': 0.008144263, 'prompt_time': 0.061244108, 'queue_time': 0.017670740999999997, 'total_time': 0.069388371}, 'model_name': 'llama-3.2-3b-preview', 'system_fingerprint': 'fp_a926bfdce1', 'finish_reason': 'tool_calls', 'logprobs': None}, id='run-14b97b65-0be3-46c0-9533-4ce3f290f9db-0', tool_calls=[{'name': 'add{x=1,y=2}', 'args': {}, 'id': 'call_ee3z', 'type': 'tool_call'}], usage_metadata={'input_tokens': 379, 'output_tokens': 13, 'total_tokens': 392})"
      ]
     },
     "execution_count": 86,
     "metadata": {},
     "output_type": "execute_result"
    }
   ],
   "source": [
    "question  = \"what is 1 plus 2?\"\n",
    "response = llm_with_tools.invoke(question)\n",
    "response"
   ]
  },
  {
   "cell_type": "code",
   "execution_count": 87,
   "metadata": {},
   "outputs": [
    {
     "name": "stdout",
     "output_type": "stream",
     "text": [
      "\n"
     ]
    }
   ],
   "source": [
    "print(response.content)"
   ]
  },
  {
   "cell_type": "code",
   "execution_count": 88,
   "metadata": {},
   "outputs": [
    {
     "data": {
      "text/plain": [
       "AIMessage(content='<multiply=x=1,y=2>{\"x\": 1}</multiply>\\n<add>x=1,y=22{\"x\": 11}</add>\\n<multiply=x=2,y=2>{\"y\": 2}</multiply>', additional_kwargs={}, response_metadata={'token_usage': {'completion_tokens': 49, 'prompt_tokens': 389, 'total_tokens': 438, 'completion_time': 0.030592929, 'prompt_time': 0.062735028, 'queue_time': 0.018365331, 'total_time': 0.093327957}, 'model_name': 'llama-3.2-3b-preview', 'system_fingerprint': 'fp_a926bfdce1', 'finish_reason': 'stop', 'logprobs': None}, id='run-eb5bde5a-ae9b-4962-90ce-11e5a43c256f-0', usage_metadata={'input_tokens': 389, 'output_tokens': 49, 'total_tokens': 438})"
      ]
     },
     "execution_count": 88,
     "metadata": {},
     "output_type": "execute_result"
    }
   ],
   "source": [
    "question  = \"what is 1 multiplied by 2, also what is 11 plus 22?\"\n",
    "response = llm_with_tools.invoke(question)\n",
    "response\n"
   ]
  },
  {
   "cell_type": "code",
   "execution_count": 83,
   "metadata": {},
   "outputs": [
    {
     "name": "stdout",
     "output_type": "stream",
     "text": [
      "<multiply=x=1,y=2>{multiply} {x} {y} = 2</multiply>\n",
      "<add>x=11,y=22\">add {x} {y} = 33</add>\n"
     ]
    }
   ],
   "source": [
    "print(response.content)"
   ]
  },
  {
   "cell_type": "code",
   "execution_count": 90,
   "metadata": {},
   "outputs": [
    {
     "data": {
      "text/plain": [
       "AIMessage(content='<multiply=x=1>y=2></multiply>', additional_kwargs={}, response_metadata={'token_usage': {'completion_tokens': 12, 'prompt_tokens': 759, 'total_tokens': 771, 'completion_time': 0.007512461, 'prompt_time': 0.119959229, 'queue_time': -0.133850038, 'total_time': 0.12747169}, 'model_name': 'llama-3.2-3b-preview', 'system_fingerprint': 'fp_a926bfdce1', 'finish_reason': 'stop', 'logprobs': None}, id='run-d4755cf3-c5fd-48cd-bd27-3efac9f1b5e4-0', usage_metadata={'input_tokens': 759, 'output_tokens': 12, 'total_tokens': 771})"
      ]
     },
     "execution_count": 90,
     "metadata": {},
     "output_type": "execute_result"
    }
   ],
   "source": [
    "question  = \"what is 1 multiplied by 2?\"\n",
    "response = llm_with_tools.invoke(question)\n",
    "response"
   ]
  },
  {
   "cell_type": "code",
   "execution_count": 91,
   "metadata": {},
   "outputs": [
    {
     "name": "stdout",
     "output_type": "stream",
     "text": [
      "<multiply=x=1>y=2></multiply>\n"
     ]
    }
   ],
   "source": [
    "print(response.content)"
   ]
  },
  {
   "cell_type": "markdown",
   "metadata": {},
   "source": [
    "### create an async implementation, like this:"
   ]
  },
  {
   "cell_type": "code",
   "execution_count": 92,
   "metadata": {},
   "outputs": [],
   "source": [
    "from langchain_core.tools import tool\n",
    "\n",
    "\n",
    "@tool\n",
    "async def amultiply(a: int, b: int) -> int:\n",
    "    \"\"\"Multiply two numbers.\"\"\"\n",
    "    return a * b"
   ]
  },
  {
   "cell_type": "markdown",
   "metadata": {},
   "source": [
    "## How to create async tools"
   ]
  },
  {
   "cell_type": "markdown",
   "metadata": {},
   "source": [
    "LangChain Tools implement the Runnable interface 🏃.\n",
    "\n",
    "- All Runnables expose the invoke and ainvoke methods (as well as other methods like batch, abatch, astream etc).\n",
    "\n",
    "- So even if you only provide an sync implementation of a tool, you could still use the ainvoke interface, but there are some important things to know:\n",
    "\n",
    "- LangChain's by default provides an async implementation that assumes that the function is expensive to compute, so it'll delegate execution to another thread.\n",
    "If you're working in an async codebase, you should create async tools rather than sync tools, to avoid incuring a small overhead due to that thread.\n",
    "\n",
    "- If you need both sync and async implementations, use StructuredTool.from_function or sub-class from BaseTool.\n",
    "\n",
    "- If implementing both sync and async, and the sync code is fast to run, override the default LangChain async implementation and simply call the sync code.\n",
    "You CANNOT and SHOULD NOT use the sync invoke with an async tool."
   ]
  },
  {
   "cell_type": "code",
   "execution_count": 93,
   "metadata": {},
   "outputs": [
    {
     "name": "stdout",
     "output_type": "stream",
     "text": [
      "6\n",
      "10\n"
     ]
    }
   ],
   "source": [
    "from langchain_core.tools import StructuredTool\n",
    "\n",
    "\n",
    "def multiply(a: int, b: int) -> int:\n",
    "    \"\"\"Multiply two numbers.\"\"\"\n",
    "    return a * b\n",
    "\n",
    "\n",
    "calculator = StructuredTool.from_function(func=multiply)\n",
    "\n",
    "print(calculator.invoke({\"a\": 2, \"b\": 3}))\n",
    "print(\n",
    "    await calculator.ainvoke({\"a\": 2, \"b\": 5})\n",
    ")  # Uses default LangChain async implementation incurs small overhead"
   ]
  },
  {
   "cell_type": "markdown",
   "metadata": {},
   "source": [
    "##  Calling In-Built Tool"
   ]
  },
  {
   "cell_type": "markdown",
   "metadata": {},
   "source": [
    "## Different Types of Searching Tools"
   ]
  },
  {
   "cell_type": "markdown",
   "metadata": {},
   "source": [
    "## DuckDuckGo Search"
   ]
  },
  {
   "cell_type": "markdown",
   "metadata": {},
   "source": [
    "https://python.langchain.com/docs/integrations/tools/ddg/"
   ]
  },
  {
   "cell_type": "code",
   "execution_count": 69,
   "metadata": {},
   "outputs": [
    {
     "name": "stderr",
     "output_type": "stream",
     "text": [
      "c:\\Users\\Admin\\AppData\\Local\\Programs\\Python\\Python311\\Lib\\site-packages\\langchain_community\\utilities\\duckduckgo_search.py:64: UserWarning: 'api' backend is deprecated, using backend='auto'\n",
      "  ddgs_gen = ddgs.text(\n"
     ]
    },
    {
     "data": {
      "text/plain": [
       "'The White House, official residence of the president of the United States, in July 2008. The president of the United States is the head of state and head of government of the United States, [1] indirectly elected to a four-year term via the Electoral College. [2] The officeholder leads the executive branch of the federal government and is the commander-in-chief of the United States Armed ... Barack Obama, the 44th President of the United States, broke barriers as the first African-American president and implemented significant healthcare reforms during his tenure. ... Secret Service Code Names of 11 U.S. Presidents. Barack Obama\\'s Presidential Legacy. ... President Barack Obama\\'s First Words to America\" (2009) \"The Audacity of ... Barack Hussein Obama II (US i / b ə ˈ r ɑː k h uː ˈ s eɪ n ɵ ˈ b ɑː m ə /, born August 4, 1961) is the 44th and current President of the United States, and the first African American to hold the office. Born in Honolulu, Hawaii, Obama is a graduate of Columbia University and Harvard Law School, where he served as president of the Harvard Law Review.He was a community organizer in ... The list of presidents and their full names are as follows (with shared names in bold): 1: George Washington 2: John Adams 3: Thomas Jefferson 4: James Madison Jr. 5: James Monroe 6: John Quincy Adams The first time the press mentioned Donald Trump\\'s name (the New York Times on January 28, 1973), there was no middle initial. He was simply \"Donald Trump,\" the brash son of Fred C. Trump.'"
      ]
     },
     "execution_count": 69,
     "metadata": {},
     "output_type": "execute_result"
    }
   ],
   "source": [
    "from langchain_community.tools import DuckDuckGoSearchRun\n",
    "\n",
    "search = DuckDuckGoSearchRun()\n",
    "\n",
    "search.invoke(\"Obama's first name?\")"
   ]
  },
  {
   "cell_type": "markdown",
   "metadata": {},
   "source": [
    "### To get more additional information (e.g. link, source) use DuckDuckGoSearchResults()"
   ]
  },
  {
   "cell_type": "code",
   "execution_count": 41,
   "metadata": {},
   "outputs": [
    {
     "name": "stderr",
     "output_type": "stream",
     "text": [
      "c:\\Users\\Admin\\AppData\\Local\\Programs\\Python\\Python311\\Lib\\site-packages\\langchain_community\\utilities\\duckduckgo_search.py:64: UserWarning: 'api' backend is deprecated, using backend='auto'\n",
      "  ddgs_gen = ddgs.text(\n"
     ]
    },
    {
     "data": {
      "text/plain": [
       "'snippet: A comprehensive overview of the 44th president of the United States, his achievements, policies, and controversies. Learn about his election, inauguration, administration, judicial appointments, domestic and foreign affairs, and legacy., title: Presidency of Barack Obama - Wikipedia, link: https://en.wikipedia.org/wiki/Presidency_of_Barack_Obama, snippet: Barack Obama (born August 4, 1961, Honolulu, Hawaii, U.S.) is the 44th president of the United States (2009–17) and the first African American to hold the office. Before winning the presidency, Obama represented Illinois in the U.S. Senate (2005–08). He was the third African American to be elected to that body since the end of Reconstruction (1877)., title: Barack Obama | Biography, Parents, Education, Presidency, Books ..., link: https://www.britannica.com/biography/Barack-Obama, snippet: Learn about the life, education and achievements of Barack Obama, the 44th and first African American president of the United States. Explore his political career, from his Senate seat to his Nobel Peace Prize, and his landmark policies, such as Obamacare and gay marriage., title: Barack Obama ‑ Early Life, Education & Presidency - HISTORY, link: https://www.history.com/topics/us-presidents/barack-obama, snippet: Learn about the life and achievements of Barack Obama, the 44th President of the United States and the first African American to hold the office. Explore his background, family, education, political career, and legacy., title: Barack Obama - The White House, link: https://www.whitehouse.gov/about-the-white-house/presidents/barack-obama/'"
      ]
     },
     "execution_count": 41,
     "metadata": {},
     "output_type": "execute_result"
    }
   ],
   "source": [
    "from langchain_community.tools import DuckDuckGoSearchResults\n",
    "\n",
    "search = DuckDuckGoSearchResults()\n",
    "\n",
    "search.invoke(\"Obama\")"
   ]
  },
  {
   "cell_type": "markdown",
   "metadata": {},
   "source": [
    "By default the results are returned as a comma-separated string of key-value pairs from the original search results. You can also choose to return the search results as a list by setting output_format=\"list\" or as a JSON string by setting output_format=\"json\""
   ]
  },
  {
   "cell_type": "code",
   "execution_count": 42,
   "metadata": {},
   "outputs": [
    {
     "name": "stderr",
     "output_type": "stream",
     "text": [
      "c:\\Users\\Admin\\AppData\\Local\\Programs\\Python\\Python311\\Lib\\site-packages\\langchain_community\\utilities\\duckduckgo_search.py:64: UserWarning: 'api' backend is deprecated, using backend='auto'\n",
      "  ddgs_gen = ddgs.text(\n"
     ]
    },
    {
     "data": {
      "text/plain": [
       "'[{\"snippet\": \"A comprehensive overview of the 44th president of the United States, his achievements, policies, and controversies. Learn about his election, inauguration, administration, judicial appointments, domestic and foreign affairs, and legacy.\", \"title\": \"Presidency of Barack Obama - Wikipedia\", \"link\": \"https://en.wikipedia.org/wiki/Presidency_of_Barack_Obama\"}, {\"snippet\": \"Barack Obama (born August 4, 1961, Honolulu, Hawaii, U.S.) is the 44th president of the United States (2009\\\\u201317) and the first African American to hold the office. Before winning the presidency, Obama represented Illinois in the U.S. Senate (2005\\\\u201308). He was the third African American to be elected to that body since the end of Reconstruction (1877).\", \"title\": \"Barack Obama | Biography, Parents, Education, Presidency, Books ...\", \"link\": \"https://www.britannica.com/biography/Barack-Obama\"}, {\"snippet\": \"Learn about the life, education and achievements of Barack Obama, the 44th and first African American president of the United States. Explore his political career, from his Senate seat to his Nobel Peace Prize, and his landmark policies, such as Obamacare and gay marriage.\", \"title\": \"Barack Obama \\\\u2011 Early Life, Education & Presidency - HISTORY\", \"link\": \"https://www.history.com/topics/us-presidents/barack-obama\"}, {\"snippet\": \"Learn about the life and achievements of Barack Obama, the 44th President of the United States and the first African American to hold the office. Explore his background, family, education, political career, and legacy.\", \"title\": \"Barack Obama - The White House\", \"link\": \"https://www.whitehouse.gov/about-the-white-house/presidents/barack-obama/\"}]'"
      ]
     },
     "execution_count": 42,
     "metadata": {},
     "output_type": "execute_result"
    }
   ],
   "source": [
    "search = DuckDuckGoSearchResults(output_format=\"json\")\n",
    "\n",
    "search.invoke(\"Obama\")"
   ]
  },
  {
   "cell_type": "markdown",
   "metadata": {},
   "source": [
    "### Tavily Search"
   ]
  },
  {
   "cell_type": "code",
   "execution_count": 95,
   "metadata": {},
   "outputs": [],
   "source": [
    "from langchain_community.tools import TavilySearchResults\n",
    "\n",
    "search = TavilySearchResults(\n",
    "    max_results=5,\n",
    "    search_depth=\"advanced\",\n",
    "    include_answer=True,\n",
    "    include_raw_content=True\n",
    ")"
   ]
  },
  {
   "cell_type": "code",
   "execution_count": 96,
   "metadata": {},
   "outputs": [
    {
     "data": {
      "text/plain": [
       "[{'url': 'https://www.investors.com/news/stock-market-today-stock-market-news/',\n",
       "  'content': \"Today: Stock Market News And Analysis\\nLATEST MARKET UPDATES\\nCurrent Recommended Market Exposure Level\\nSTOCK MARKET TODAY\\nWith regular updates throughout each trading session, the Stock Market Today column highlights the latest stock market news and alerts you to any changes in market trend. By tracking the market in terms of three stages\\xa0—\\xa0market in uptrend, uptrend under pressure and market correction — the Stock Market Today helps you stay on top of the latest stock market news while keeping any latest fluctuations in perspective to help you decide what action, if any, to take.\\n Start With This 3-Step Routine\\nSee Which Stocks Were Just Added To – And Removed From – IBD Stock Lists\\nHow To Buy Stocks\\xa0|\\xa0Buying Checklist\\nWhen To Sell Stocks\\xa0|\\xa0Selling Checklist\\nIBD Newsletters\\nIBD Newsletters\\nGet these newsletters delivered to your inbox & more info about our products & services. How much market cap...\\nToday's Spotlight\\nFree Investing Webinar\\nMarketSmith Cyber Week Sale\\nJoin MarketDiem for $20/Year\\nMore News\\nNvidia shares have raced ahead in the last year on the chipmaker's strength in AI applications. Bookmark this page to make sure you stay on top of all the latest action action and stock market news, and be sure to check The Big Picture after each market close for more detailed analysis and stocks to watch.\\n\"},\n",
       " {'url': 'https://finance.yahoo.com/news/live/stock-market-today-dow-sp-nasdaq-slide-on-big-tech-losses-but-weekly-gains-hold-143206294.html',\n",
       "  'content': 'Stock market today: Dow, S&P, Nasdaq slide on Big Tech losses, but weekly gains hold Stock market today: Dow, S&P, Nasdaq slide on Big Tech losses, but weekly gains hold Markets have largely digested the year\\'s remaining key economic data points, and investors are now turning their attention to two big themes for the coming year: the Federal Reserve\\'s path for interest rates and the implications of Donald Trump\\'s ascent back to the White House. Gains from earlier in the week were enough to lift US stocks despite a day in the red, continuing a largely triumphant year with just two more trading days remaining in 2024. Investor enthusiasm surrounding artificial intelligence has once again driven the \"Magnificent Seven\" tech stocks to another banner year, reports Yahoo Finance\\'s Josh Schafer.'},\n",
       " {'url': 'https://finance.yahoo.com/news/live/stock-market-today-dow-sp-500-close-above-key-milestones-as-tesla-bitcoin-surge-210057604.html',\n",
       "  'content': \"News • 6 hours ago Bitcoin rally roars as crypto and Trump trades dominate the stock market News • Nov 08, 2024 Tesla stock closes at highest level in over 2 years as Musk's big Trump bet pays off Breaking News • Nov 08, 2024 Dow, S&P 500 cap best week of year with records as post-election rally rolls on Breaking News • Nov 07, 2024 Stocks edge higher with Trump election win, Fed in focus News • Nov 06, 2024 Dow, S&P 500, Nasdaq futures surge as Trump wins presidential election Bitcoin (BTC-USD) reached a record high on Monday, trading north of $82,400 on Monday morning and pushing several names in the stock market tied to the crypto trade and the post-election Trump rally higher to start the week.\"},\n",
       " {'url': 'https://www.nbcnews.com/business/markets/live-blog/us-stocks-lower-asia-europe-decline-impact-rcna165129',\n",
       "  'content': 'The major U.S. stock indexes closed broadly lower today, though off their session lows. The Dow Jones Industrial Average, which tracks 30 prominent companies, declined more than 1,000 points, or 2'},\n",
       " {'url': 'https://finance.yahoo.com/topic/stock-market-news/',\n",
       "  'content': 'Get the latest news on the stock market and events that move stocks, with in-depth analyses to help you make investing and trading decisions.'}]"
      ]
     },
     "execution_count": 96,
     "metadata": {},
     "output_type": "execute_result"
    }
   ],
   "source": [
    "question = \"what is today's stock market news?\"\n",
    "search.invoke(question)"
   ]
  },
  {
   "cell_type": "markdown",
   "metadata": {},
   "source": [
    "## Google Serper"
   ]
  },
  {
   "cell_type": "code",
   "execution_count": 100,
   "metadata": {},
   "outputs": [
    {
     "data": {
      "text/plain": [
       "\"Balaji Srinivasan goes in-depth on Web3, Crypto, the advantages and disadvantages of established democracies, the Russia-Ukraine situation, housing as an ... Missing: Teach | Show results with:Teach. Balaji S. Srinivasan (born May 24, 1980) is an American entrepreneur and investor. He was the co-founder of Counsyl, the former chief technology officer ... Balaji explains what Kim Kardashian can teach us about referential integrity and authenticity on social media. He uses a framework from Magic ... Our guest today has a PhD in Electrical Engineering from Stanford, founded and sold a genomics company, became an early investor in crypto ... Missing: Newsletter? | Show results with:Newsletter?. My guest today is Balaji Srinivasan, an angel investor and entrepreneur. When it comes to the future, he's the single most creative person I know. Balaji Srinivasan is a technologist and entrepreneur who has become a prominent figure in the digital currency and technology sectors. Born and ... The moment has come. My longest podcast ever with engineer, entrepreneur, investor, futurist – and focus of my next Almanack–Balaji Srinivasan. Every essay, writing, podcast, interview and video by Balaji Srinivasan. Balaji S. Srinivasan is a well-known angel investor and serial entrepreneur in ... @balajis, that's B-A-L-A-J-I-S, is an angel investor and entrepreneur, formerly the CTO of Coinbase and general partner at Andreessen Horowitz. Balaji Srinivasan | The Network State and How to Start a New Country | The Tim Ferriss Show Podcast · Comments174.\""
      ]
     },
     "execution_count": 100,
     "metadata": {},
     "output_type": "execute_result"
    }
   ],
   "source": [
    "from langchain_community.utilities import GoogleSerperAPIWrapper\n",
    "\n",
    "search = GoogleSerperAPIWrapper()\n",
    "\n",
    "search.run(\"Who is Balaji Srinivasan and What Does He Teach Through His Podcast and Newsletter?\")"
   ]
  },
  {
   "cell_type": "markdown",
   "metadata": {},
   "source": [
    "### Obtaining results with metadata"
   ]
  },
  {
   "cell_type": "markdown",
   "metadata": {},
   "source": [
    "If you would also like to obtain the results in a structured way including metadata. For this we will be using the results method of the wrapper."
   ]
  },
  {
   "cell_type": "code",
   "execution_count": 102,
   "metadata": {},
   "outputs": [
    {
     "name": "stdout",
     "output_type": "stream",
     "text": [
      "{'searchParameters': {'q': 'Apple Inc.', 'gl': 'us', 'hl': 'en', 'type': 'search', 'num': 10, 'engine': 'google'}, 'knowledgeGraph': {'title': 'Apple', 'type': 'Technology company', 'website': 'http://www.apple.com/', 'imageUrl': 'https://encrypted-tbn0.gstatic.com/images?q=tbn:ANd9GcQwGQRv5TjjkycpctY66mOg_e2-npacrmjAb6_jAWhzlzkFE3OTjxyzbA&s=0', 'description': 'Apple Inc. is an American multinational corporation and technology company headquartered and incorporated in Cupertino, California, in Silicon Valley. It is best known for its consumer electronics, software, and services.', 'descriptionSource': 'Wikipedia', 'descriptionLink': 'https://en.wikipedia.org/wiki/Apple_Inc.', 'attributes': {'Customer service': '1 (800) 275-2273', 'Founders': 'Steve Jobs, Steve Wozniak, and Ronald Wayne', 'Headquarters': 'Cupertino, CA', 'CEO': 'Tim Cook (Aug 24, 2011–)', 'CFO': 'Luca Maestri', 'Founded': 'April 1, 1976, Los Altos, CA'}}, 'organic': [{'title': 'Apple', 'link': 'https://www.apple.com/', 'snippet': 'Discover the innovative world of Apple and shop everything iPhone, iPad, Apple Watch, Mac, and Apple TV, plus explore accessories, entertainment, ...', 'sitelinks': [{'title': 'Support', 'link': 'https://support.apple.com/'}, {'title': 'Store', 'link': 'https://www.apple.com/store'}, {'title': 'Career Opportunities', 'link': 'https://www.apple.com/careers/us/'}, {'title': 'Investor Relations', 'link': 'https://investor.apple.com/investor-relations/default.aspx'}, {'title': 'Business', 'link': 'https://www.apple.com/business/'}], 'position': 1}, {'title': 'Apple Inc. - Wikipedia', 'link': 'https://en.wikipedia.org/wiki/Apple_Inc.', 'snippet': 'Apple Inc. is an American multinational corporation and technology company headquartered and incorporated in Cupertino, California, in Silicon Valley.', 'sitelinks': [{'title': 'History', 'link': 'https://en.wikipedia.org/wiki/History_of_Apple_Inc.'}, {'title': 'List of Apple products', 'link': 'https://en.wikipedia.org/wiki/List_of_Apple_products'}, {'title': 'Litigation involving Apple Inc.', 'link': 'https://en.wikipedia.org/wiki/Litigation_involving_Apple_Inc.'}, {'title': 'Apple Park', 'link': 'https://en.wikipedia.org/wiki/Apple_Park'}], 'position': 2}, {'title': 'Apple Inc. (AAPL) Company Profile & Facts - Yahoo Finance', 'link': 'https://finance.yahoo.com/quote/AAPL/profile/', 'snippet': '(408) 996-1010 https://www.apple.com. Sector: Technology. Industry: Consumer Electronics. Full Time Employees: 164,000. Description. Apple Inc. designs ...', 'position': 3}, {'title': 'AAPL: Apple Inc Stock Price Quote - NASDAQ GS - Bloomberg.com', 'link': 'https://www.bloomberg.com/quote/AAPL:US', 'snippet': 'Stock analysis for Apple Inc (AAPL:NASDAQ GS) including stock price, stock chart, company news, key statistics, fundamentals and company profile.', 'position': 4}, {'title': 'Apple Inc. (AAPL) Stock Price, News, Quote & History - Yahoo Finance', 'link': 'https://finance.yahoo.com/quote/AAPL/', 'snippet': 'Apple Inc. designs, manufactures, and markets smartphones, personal computers, tablets, wearables, and accessories worldwide.', 'date': 'Dec 19, 2024', 'sitelinks': [{'title': 'Profile', 'link': 'https://finance.yahoo.com/quote/AAPL/profile/'}, {'title': 'Statistics', 'link': 'https://finance.yahoo.com/quote/AAPL/key-statistics/'}, {'title': 'Chart', 'link': 'https://finance.yahoo.com/quote/AAPL/chart/'}, {'title': 'News', 'link': 'https://finance.yahoo.com/quote/AAPL/news/'}], 'position': 5}, {'title': 'Apple Inc. (AAPL) Stock Price Today - WSJ', 'link': 'https://www.wsj.com/market-data/quotes/AAPL', 'snippet': 'Apple Inc. engages in the design, manufacture, and sale of smartphones, personal computers, tablets, wearables and accessories, and other varieties of related ...', 'position': 6}, {'title': 'Apple | AAPL Stock Price, Company Overview & News - Forbes', 'link': 'https://www.forbes.com/companies/apple/', 'snippet': 'Apple, Inc. engages in the design, manufacture, and sale of smartphones, personal computers, tablets, wearables and accessories, and other variety of ...', 'position': 7}], 'peopleAlsoAsk': [{'question': 'What is Apple Inc stand for?', 'snippet': 'It was incorporated as Apple Computer, Inc. in January 1977, and sales of its computers, including the Apple II , saw significant momentum and revenue growth for the company. \"Inc.\" is the abbreviation for incorporated. A corporation is a separate legal entity from the person or people forming it.', 'title': \"What does the 'Inc.' in Apple Inc. mean? - Quora\", 'link': 'https://www.quora.com/What-does-the-Inc-in-Apple-Inc-mean'}, {'question': 'Is Apple called Apple or Apple Inc.?', 'snippet': \"Apple Inc., originally Apple Computer, Inc., is a multinational corporation that creates and markets consumer electronics and attendant computer software, and is a digital distributor of media content. Apple's core product lines are the iPhone smartphone, iPad tablet computer, and the Mac personal computer.\", 'title': 'History of Apple Inc. - Wikipedia', 'link': 'https://en.wikipedia.org/wiki/History_of_Apple_Inc.'}, {'question': 'Who owns Apple Inc?', 'snippet': \"The ownership structure of Apple (AAPL) stock is a mix of institutional, retail, and individual investors. Approximately 49.21% of the company's stock is owned by Institutional Investors, 0.06% is owned by Insiders, and 50.73% is owned by Public Companies and Individual Investors.\", 'title': 'Who owns Apple? AAPL Stock Ownership - TipRanks.com', 'link': 'https://www.tipranks.com/stocks/aapl/ownership'}, {'question': 'Why is Apple taking money out?', 'snippet': 'Apple.com/bill appears on your billing statement when you buy an app, music, movie, or other content from Apple. It also appears when a subscription renews and when a family member buys apps or content from Apple.', 'title': \"If you see 'apple.com/bill' on your billing statement - Apple Support\", 'link': 'https://support.apple.com/en-us/108092'}], 'relatedSearches': [{'query': 'Find My iPhone'}, {'query': 'apple inc คืออะไร'}, {'query': 'Apple Inc full form'}, {'query': 'Apple company history'}, {'query': 'Apple Inc meaning'}, {'query': 'Apple Inc usa'}, {'query': 'Apple Inc website'}, {'query': 'Apple Inc careers'}, {'query': 'Apple Inc address'}], 'credits': 1}\n"
     ]
    }
   ],
   "source": [
    "search = GoogleSerperAPIWrapper()\n",
    "results = search.results(\"Apple Inc.\")\n",
    "print(results)\n"
   ]
  },
  {
   "cell_type": "markdown",
   "metadata": {},
   "source": [
    "### Searching for Google Places"
   ]
  },
  {
   "cell_type": "code",
   "execution_count": 201,
   "metadata": {},
   "outputs": [
    {
     "name": "stdout",
     "output_type": "stream",
     "text": [
      "{'searchParameters': {'q': 'Mexico restaurants in chennai', 'gl': 'us', 'hl': 'en', 'type': 'places', 'num': 10, 'engine': 'google'}, 'places': [{'position': 1, 'title': 'Mexe', 'address': '2, 13, West St, Cooperative Colony, Sri Ram Nagar, Alwarpet, Chennai, Tamil Nadu 600018, India', 'latitude': 13.031625900000002, 'longitude': 80.2493866, 'rating': 4.2, 'ratingCount': 934, 'category': 'Mexican restaurant', 'phoneNumber': '+91 88254 35460', 'cid': '10897027122125639200'}, {'position': 2, 'title': 'Taco bowl it', 'address': 'No.25, thamizhar nagar, Shenoy Nagar, Chennai, Tamil Nadu 600030, India', 'latitude': 13.082887399999999, 'longitude': 80.22553119999999, 'rating': 4.7, 'ratingCount': 664, 'category': 'Mexican restaurant', 'cid': '9966710137607899257'}, {'position': 3, 'title': 'Mex It Up - World On A Plate', 'address': 'Mex It Up, 59, KB Dasan Rd, opposite SIET COLLEGE, Seethammal Extension, Teynampet, Chennai, Tamil Nadu 600018, India', 'latitude': 13.035398299999999, 'longitude': 80.24730749999999, 'rating': 4.5, 'ratingCount': 405, 'category': 'Mexican restaurant', 'phoneNumber': '+91 73387 06553', 'website': 'https://mexitup.dotpe.in/', 'cid': '15990215230826192039'}, {'position': 4, 'title': 'Tinga @ SOROCO', 'address': '23, Wallace Gdn 3rd St, Thousand Lights West, Thousand Lights, Chennai, Tamil Nadu 600006, India', 'latitude': 13.060917, 'longitude': 80.2495701, 'rating': 5, 'ratingCount': 2, 'category': 'Mexican restaurant', 'cid': '10487852087343110832'}, {'position': 5, 'title': \"Pedreno's Global Fusion Restaurant\", 'address': 'Kamarajar Street, Rajiv Gandhi Salai, Kottivakkam, Chennai, Tamil Nadu 600096, India', 'latitude': 12.9714083, 'longitude': 80.25017960000001, 'rating': 4.1, 'ratingCount': 818, 'category': 'Mexican restaurant', 'phoneNumber': '+91 44 2454 3314', 'cid': '11588677103998830437'}, {'position': 6, 'title': 'Mex bowl Inc', 'address': '26MW JR6, Cenotaph 1st St, Sri Ram Nagar, Alwarpet, Chennai, Tamil Nadu 600018, India', 'latitude': 13.0340402, 'longitude': 80.2470019, 'rating': 2.9, 'ratingCount': 30, 'category': 'Mexican restaurant', 'cid': '15190084253722038247'}, {'position': 7, 'title': 'California Burrito Mexican Kitchen @ Express Avenue', 'address': 'Express Avenue Mall, Chennai, Tamil Nadu 600002, India', 'latitude': 13.058208299999999, 'longitude': 80.26408540000001, 'rating': 4.3, 'ratingCount': 219, 'category': 'Mexican restaurant', 'phoneNumber': '+91 44 4813 4327', 'website': 'https://www.californiaburrito.in/', 'cid': '12385807259366832329'}, {'position': 8, 'title': 'Taco Bell', 'address': 'Shop No S – 58, No.44, VR Mall Pillaiyar Koil Street, 100 Feet Rd, Anna Nagar, Chennai, Tamil Nadu 600040, India', 'latitude': 13.080622, 'longitude': 80.19772549999999, 'rating': 4.2, 'ratingCount': 3900, 'category': 'Mexican restaurant', 'phoneNumber': '+91 84487 97318', 'website': 'https://www.tacobell.co.in/', 'cid': '15199085496925682838'}, {'position': 9, 'title': 'California Burrito Mexican Kitchen @ Phoenix Mall Chennai', 'address': '1st floor, Phoenix Market City, 28, Velachery Rd, near Phoenix Mall, Velachery, Chennai, Tamil Nadu 600042, India', 'latitude': 12.9911813, 'longitude': 80.2170483, 'rating': 4.2, 'ratingCount': 203, 'category': 'Mexican restaurant', 'phoneNumber': '+91 44 4813 4327', 'website': 'https://www.californiaburrito.in/', 'cid': '13164423783991794350'}, {'position': 10, 'title': 'Hola Restaurante', 'address': '290, Citadine Hotel, Rajiv Gandhi Salai (OMR), IT Expressway, Sholinganallur, Chennai, Tamil Nadu 600119, India', 'latitude': 12.900501799999999, 'longitude': 80.2273818, 'rating': 4.1, 'ratingCount': 1500, 'category': 'Mexican restaurant', 'phoneNumber': '+91 70225 81971', 'cid': '14650378042530296338'}], 'credits': 1}\n"
     ]
    }
   ],
   "source": [
    "search = GoogleSerperAPIWrapper(type=\"places\")\n",
    "results = search.results(\"Mexico restaurants in chennai\")\n",
    "print(results)"
   ]
  },
  {
   "cell_type": "markdown",
   "metadata": {},
   "source": [
    "### Wikipedia Search"
   ]
  },
  {
   "cell_type": "code",
   "execution_count": 111,
   "metadata": {},
   "outputs": [
    {
     "name": "stdout",
     "output_type": "stream",
     "text": [
      "Page: Large language model\n",
      "Summary: A large language model (LLM) is a type of machine learning model designed for natural language processing tasks such as language generation. LLMs are language models with many parameters, and are trained with self-supervised learning on a vast amount of text.\n",
      "The largest and most capable LLMs are generative pretrained transformers (GPTs). Modern models can be fine-tuned for specific tasks or guided by prompt engineering. These models acquire predictive power regarding syntax, semantics, and ontologies inherent in human language corpora, but they also inherit inaccuracies and biases present in the data they are trained in.\n",
      "\n",
      "Page: Prompt engineering\n",
      "Summary: Prompt engineering is the process of structuring an instruction that can be interpreted and understood by a generative artificial intelligence (AI) model. \n",
      "A prompt is natural language text describing the task that an AI should perform. A prompt for a text-to-text language model can be a query such as \"what is Fermat's little theorem?\", a command such as \"write a poem in the style of Edgar Allan Poe about leaves falling\", or a longer statement including context, instructions, and conversation history.\n",
      "Prompt engineering may involve phrasing a query, specifying a style, choice of words and grammar, providing relevant context or assigning a role to the AI such as \"act as a native French speaker\".\n",
      "When communicating with a text-to-image or a text-to-audio model, a typical prompt is a description of a desired output such as \"a high-quality photo of an astronaut riding a horse\" or \"Lo-fi slow BPM electro chill with organic samples\". Prompting a text-to-image model may involve adding, removing, emphasizing, and re-ordering words to achieve a desired subject, style, layout, lighting, and aesthetic.\n",
      "\n",
      "Page: Llama (language model)\n",
      "Summary: Llama (Large Language Model Meta AI, formerly stylized as LLaMA) is a family of autoregressive large language models (LLMs) released by Meta AI starting in February 2023. The latest version is Llama 3.3, released in December 2024.\n",
      "Llama models are trained at different parameter sizes, ranging between 1B and 405B. Originally, Llama was only available as a foundation model. Starting with Llama 2, Meta AI started releasing instruction fine-tuned versions alongside foundation models.\n",
      "Model weights for the first version of Llama were made available to the research community under a non-commercial license, and access was granted on a case-by-case basis. Unauthorized copies of the first model were shared via BitTorrent. Subsequent versions of Llama were made accessible outside academia and released under licenses that permitted some commercial use.\n",
      "Alongside the release of Llama 3, Meta added virtual assistant features to Facebook and WhatsApp in select regions, and a standalone website. Both services use a Llama 3 model.\n",
      "\n",
      "\n"
     ]
    }
   ],
   "source": [
    "from langchain_community.tools import WikipediaQueryRun\n",
    "from langchain_community.utilities import WikipediaAPIWrapper\n",
    "\n",
    "\n",
    "wikipedia = WikipediaQueryRun(api_wrapper=WikipediaAPIWrapper())\n",
    "\n",
    "\n",
    "question = \"what is the capital of Tamilnadu?\"\n",
    "question = \"What is LLM?\"\n",
    "\n",
    "print(wikipedia.invoke(question))"
   ]
  },
  {
   "cell_type": "markdown",
   "metadata": {},
   "source": [
    "### PubMed"
   ]
  },
  {
   "cell_type": "markdown",
   "metadata": {},
   "source": [
    "- PubMed® comprises more than 35 million citations for biomedical literature from MEDLINE, life science journals, and online books. Citations may include links to full text content from PubMed Central and publisher web sites.\n",
    "\n"
   ]
  },
  {
   "cell_type": "code",
   "execution_count": 112,
   "metadata": {},
   "outputs": [
    {
     "name": "stdout",
     "output_type": "stream",
     "text": [
      "No good PubMed Result was found\n"
     ]
    }
   ],
   "source": [
    "from langchain_community.tools.pubmed.tool import PubmedQueryRun\n",
    "\n",
    "search = PubmedQueryRun()\n",
    "\n",
    "print(search.invoke(\"What is the latest research on COVID-19?\"))"
   ]
  },
  {
   "cell_type": "markdown",
   "metadata": {},
   "source": [
    "### Tool Calling with LLM"
   ]
  },
  {
   "cell_type": "code",
   "execution_count": 153,
   "metadata": {},
   "outputs": [],
   "source": [
    "@tool\n",
    "def wikipedia_search(query: str) -> str:\n",
    "    \"\"\"\n",
    "    Search Wikipedia for general information. Use this for historical, cultural, or factual queries.\n",
    "\n",
    "    Args:\n",
    "        query: The search query.\n",
    "    \"\"\"\n",
    "    wikipedia = WikipediaQueryRun(api_wrapper=WikipediaAPIWrapper())\n",
    "    response = wikipedia.run(query)\n",
    "    return response\n",
    "\n",
    "@tool\n",
    "def pubmed_search(query: str) -> str:\n",
    "    \"\"\"\n",
    "    Search PubMed for medical and life sciences queries. Use this for health, medicine, or biology-related questions.\n",
    "\n",
    "    Args:\n",
    "        query: The search query.\n",
    "    \"\"\"\n",
    "    search = PubmedQueryRun()\n",
    "    response = search.run(query)\n",
    "    return response\n",
    "\n",
    "@tool\n",
    "def google_search_place(query: str) -> str:\n",
    "    \"\"\"\n",
    "    Search Google for information about places. Use this for location-based queries, such as landmarks, cities, or addresses.\n",
    "\n",
    "    Args:\n",
    "        query: The search query.\n",
    "    \"\"\"\n",
    "    search = GoogleSerperAPIWrapper()\n",
    "    response = search.run(query)\n",
    "    return response\n",
    "\n",
    "@tool\n",
    "def tavily_search(query: str) -> str:\n",
    "    \"\"\"\n",
    "    Search the web for real-time and latest information. Use this for news, stock market, weather updates, or other time-sensitive queries.\n",
    "\n",
    "    Args:\n",
    "        query: The search query.\n",
    "    \"\"\"\n",
    "    search = TavilySearchResults(\n",
    "        max_results=5,\n",
    "        search_depth=\"advanced\",\n",
    "        include_answer=True,\n",
    "        include_raw_content=True,\n",
    "    )\n",
    "    response = search.run(query)\n",
    "    return response\n",
    "\n",
    "@tool\n",
    "def multiply(a: int, b: int) -> int:\n",
    "    \"\"\"\n",
    "    Multiply two integer numbers together. Use this for mathematical calculations.\n",
    "\n",
    "    Args:\n",
    "        a: First integer.\n",
    "        b: Second integer.\n",
    "    \"\"\"\n",
    "    return a * b\n",
    "\n",
    "@tool\n",
    "def add(a: int, b: int) -> int:\n",
    "    \"\"\"\n",
    "    Add two integer numbers together. Use this for mathematical calculations.\n",
    "\n",
    "    Args:\n",
    "        a: First integer.\n",
    "        b: Second integer.\n",
    "    \"\"\"\n",
    "    return a + b"
   ]
  },
  {
   "cell_type": "code",
   "execution_count": 151,
   "metadata": {},
   "outputs": [
    {
     "name": "stdout",
     "output_type": "stream",
     "text": [
      "\n",
      "\n",
      "\u001b[1m> Entering new AgentExecutor chain...\u001b[0m\n",
      "\u001b[32;1m\u001b[1;3mThought: To find the answer to this question, I should search for the capital of France on Wikipedia.\n",
      "\n",
      "Action: wikipedia_search\n",
      "Action Input: \"capital of France\"\n",
      "\u001b[0m\n",
      "Observation: \u001b[36;1m\u001b[1;3mPage: Capital punishment in France\n",
      "Summary: Capital punishment in France (French: peine de mort en France) is banned by Article 66-1 of the Constitution of the French Republic, voted as a constitutional amendment by the Congress of the French Parliament on 19 February 2007 and simply stating \"No one can be sentenced to the death penalty\" (French: Nul ne peut être condamné à la peine de mort). The death penalty was already declared illegal on 9 October 1981 when President François Mitterrand signed a law prohibiting the judicial system from using it and commuting the sentences of the seven people on death row to life imprisonment. The last execution took place by guillotine, being the main legal method since the French Revolution; Hamida Djandoubi, a Tunisian citizen convicted of torture and murder on French soil, was put to death in September 1977 in Marseille.\n",
      "Major French death penalty abolitionists across time have included philosopher Voltaire; poet Victor Hugo; politicians Léon Gambetta, Jean Jaurès and Aristide Briand; and writers Alphonse de Lamartine and Albert Camus.\n",
      "\n",
      "Page: Capital city\n",
      "Summary: A capital city or just capital is the municipality holding primary status in a country, state, province, department, or other subnational division, usually as its seat of the government. A capital is typically a city that physically encompasses the government's offices and meeting places; the status as capital is often designated by its law or constitution. In some jurisdictions, including several countries, different branches of government are in different settlements, sometimes meaning multiple official capitals. In some cases, a distinction is made between the official (constitutional) capital and the seat of government, which is in another place. \n",
      "English-language news media often use the name of the capital city as an alternative name for the government of the country of which it is the capital, as a form of metonymy. For example, the \"relations between London and Washington\" refers to the \"relations between the United Kingdom and the United States\".\n",
      "\n",
      "\n",
      "\n",
      "Page: Capital (French magazine)\n",
      "Summary: Capital is a monthly French economics and business magazine published in Paris, France.\n",
      "\n",
      "\u001b[0m\n",
      "Thought:\u001b[32;1m\u001b[1;3mQuestion: What is the capital of France?\n",
      "Thought: I now know the final answer\n",
      "\n",
      "Final Answer: Paris\u001b[0m\n",
      "\n",
      "\u001b[1m> Finished chain.\u001b[0m\n",
      "Paris\n"
     ]
    }
   ],
   "source": [
    "from langchain.agents import initialize_agent\n",
    "\n",
    "# Initialize the language model\n",
    "llm = groq_llm\n",
    "\n",
    "# List of tools\n",
    "tools = [wikipedia_search, pubmed_search, google_search_place, tavily_search]\n",
    "\n",
    "# Initialize the agent\n",
    "agent = initialize_agent(\n",
    "    tools,\n",
    "    llm,\n",
    "    agent=\"zero-shot-react-description\",\n",
    "    verbose=True\n",
    ")"
   ]
  },
  {
   "cell_type": "code",
   "execution_count": 155,
   "metadata": {},
   "outputs": [
    {
     "name": "stdout",
     "output_type": "stream",
     "text": [
      "\n",
      "\n",
      "\u001b[1m> Entering new AgentExecutor chain...\u001b[0m\n",
      "\u001b[32;1m\u001b[1;3mQuestion: What is the capital of France?\n",
      "Thought: I need to find a reliable source to determine the capital of France.\n",
      "Action: wikipedia_search\n",
      "Action Input: \"capital of France\"\u001b[0m\n",
      "Observation: \u001b[36;1m\u001b[1;3mPage: List of capitals of France\n",
      "Summary: This is a chronological list of capitals of France. The capital of France has been Paris since its liberation in 1944.\n",
      "\n",
      "\n",
      "\n",
      "Page: Capital punishment in France\n",
      "Summary: Capital punishment in France (French: peine de mort en France) is banned by Article 66-1 of the Constitution of the French Republic, voted as a constitutional amendment by the Congress of the French Parliament on 19 February 2007 and simply stating \"No one can be sentenced to the death penalty\" (French: Nul ne peut être condamné à la peine de mort). The death penalty was already declared illegal on 9 October 1981 when President François Mitterrand signed a law prohibiting the judicial system from using it and commuting the sentences of the seven people on death row to life imprisonment. The last execution took place by guillotine, being the main legal method since the French Revolution; Hamida Djandoubi, a Tunisian citizen convicted of torture and murder on French soil, was put to death in September 1977 in Marseille.\n",
      "Major French death penalty abolitionists across time have included philosopher Voltaire; poet Victor Hugo; politicians Léon Gambetta, Jean Jaurès and Aristide Briand; and writers Alphonse de Lamartine and Albert Camus.\n",
      "\n",
      "Page: Cayenne\n",
      "Summary: Cayenne (; French pronunciation: [kajɛn] ; Guianese Creole French: Kayenn) is the prefecture of French Guiana, an overseas region and department of France located in South America and its capital city.  The city stands on a former island at the mouth of the Cayenne River on the Atlantic coast.  The city's motto is \"fert aurum industria\", which means \"work brings wealth\". Cayenne is the largest Francophone city of the South American continent.\n",
      "In the 2021 census, there were 151,103 inhabitants in the metropolitan area of Cayenne (as defined by INSEE), 63,468 of whom lived in the city (commune) of Cayenne proper.\n",
      "\n",
      "\u001b[0m\n",
      "Thought:\u001b[32;1m\u001b[1;3mQuestion: What is the capital of France?\n",
      "Thought: I now know the final answer\n",
      "Final Answer: Paris\u001b[0m\n",
      "\n",
      "\u001b[1m> Finished chain.\u001b[0m\n",
      "Paris\n",
      "\n",
      "\n",
      "\u001b[1m> Entering new AgentExecutor chain...\u001b[0m\n",
      "\u001b[32;1m\u001b[1;3mThought: To treat lung cancer, I need to gather information from reliable sources.\n",
      "\n",
      "Action: wikipedia_search\n",
      "Action Input: lung cancer treatment\u001b[0m\n",
      "Observation: \u001b[36;1m\u001b[1;3mPage: Lung cancer\n",
      "Summary: Lung cancer, also known as lung carcinoma, is a malignant tumor that begins in the lung. Lung cancer is caused by genetic damage to the DNA of cells in the airways, often caused by cigarette smoking or inhaling damaging chemicals. Damaged airway cells gain the ability to multiply unchecked, causing the growth of a tumor. Without treatment, tumors spread throughout the lung, damaging lung function. Eventually lung tumors metastasize, spreading to other parts of the body.\n",
      "Early lung cancer often has no symptoms and can only be detected by medical imaging. As the cancer progresses, most people experience nonspecific respiratory problems: coughing, shortness of breath, or chest pain. Other symptoms depend on the location and size of the tumor. Those suspected of having lung cancer typically undergo a series of imaging tests to determine the location and extent of any tumors. Definitive diagnosis of lung cancer requires a biopsy of the suspected tumor be examined by a pathologist under a microscope. In addition to recognizing cancerous cells, a pathologist can classify the tumor according to the type of cells it originates from. Around 15% of cases are small-cell lung cancer (SCLC), and the remaining 85% (the non-small-cell lung cancers or NSCLC) are adenocarcinomas, squamous-cell carcinomas, and large-cell carcinomas. After diagnosis, further imaging and biopsies are done to determine the cancer's stage based on how far it has spread.\n",
      "Treatment for early stage lung cancer includes surgery to remove the tumor, sometimes followed by radiation therapy and chemotherapy to kill any remaining cancer cells. Later stage cancer is treated with radiation therapy and chemotherapy alongside drug treatments that target specific cancer subtypes. Even with treatment, only around 20% of people survive five years on from their diagnosis. Survival rates are higher in those diagnosed at an earlier stage, diagnosed at a younger age, and in women compared to men.\n",
      "Most lung cancer cases are caused by tobacco smoking. The remainder are caused by exposure to hazardous substances like asbestos and radon gas, or by genetic mutations that arise by chance. Consequently, lung cancer prevention efforts encourage people to avoid hazardous chemicals and quit smoking. Quitting smoking both reduces one's chance of developing lung cancer and improves treatment outcomes in those already diagnosed with lung cancer.\n",
      "Lung cancer is the most diagnosed and deadliest cancer worldwide, with 2.2 million cases in 2020 resulting in 1.8 million deaths. Lung cancer is rare in those younger than 40; the average age at diagnosis is 70 years, and the average age at death 72. Incidence and outcomes vary widely across the world, depending on patterns of tobacco use. Prior to the advent of cigarette smoking in the 20th century, lung cancer was a rare disease. In the 1950s and 1960s, increasing evidence linked lung cancer and tobacco use, culminating in declarations by most large national health bodies discouraging tobacco use.\n",
      "\n",
      "\n",
      "\n",
      "Page: Non-small-cell lung cancer\n",
      "Summary: Non-small-cell lung cancer (NSCLC), or non-small-cell lung carcinoma, is any type of epithelial lung cancer other than small-cell lung cancer (SCLC). NSCLC accounts for about 85% of all lung cancers. As a class, NSCLCs are relatively insensitive to chemotherapy, compared to small-cell carcinoma. When possible, they are primarily treated by surgical resection with curative intent, although chemotherapy has been used increasingly both preoperatively (neoadjuvant chemotherapy) and postoperatively (adjuvant chemotherapy).\n",
      "\n",
      "Page: Cancer treatment\n",
      "Summary: Cancer treatments are a wide range of treatments available for the many different types of cancer, with each cancer type needing its own specific treatment. Treatments can include surgery, chemotherapy, radiation therapy, hormonal therapy, targeted therapy including small-molecule drugs or monoclonal antibodies, and PARP inhibitors such as olap\u001b[0m\n",
      "Thought:\u001b[32;1m\u001b[1;3mQuestion: How to treat lung cancer?\n",
      "Thought: I now know the final answer\n",
      "Final Answer: The treatment for lung cancer typically involves a combination of surgery, radiation therapy, and chemotherapy. Early-stage lung cancer may be treated with surgery to remove the tumor, followed by radiation therapy and chemotherapy to kill any remaining cancer cells. Later-stage cancer is treated with radiation therapy, chemotherapy, and drug treatments that target specific cancer subtypes. It's also important to quit smoking and avoid hazardous chemicals to reduce the risk of developing lung cancer.\u001b[0m\n",
      "\n",
      "\u001b[1m> Finished chain.\u001b[0m\n",
      "The treatment for lung cancer typically involves a combination of surgery, radiation therapy, and chemotherapy. Early-stage lung cancer may be treated with surgery to remove the tumor, followed by radiation therapy and chemotherapy to kill any remaining cancer cells. Later-stage cancer is treated with radiation therapy, chemotherapy, and drug treatments that target specific cancer subtypes. It's also important to quit smoking and avoid hazardous chemicals to reduce the risk of developing lung cancer.\n",
      "\n",
      "\n",
      "\u001b[1m> Entering new AgentExecutor chain...\u001b[0m\n",
      "\u001b[32;1m\u001b[1;3mThought: To find the location of the Eiffel Tower, I should use the google_search_place function.\n",
      "\n",
      "Action: google_search_place\n",
      "Action Input: \"Eiffel Tower location\"\n",
      "\u001b[0m\n",
      "Observation: \u001b[38;5;200m\u001b[1;3m{'searchParameters': {'q': 'Eiffel Tower location\"\\n', 'gl': 'us', 'hl': 'en', 'type': 'places', 'num': 10, 'engine': 'google'}, 'places': [{'position': 1, 'title': 'Eiffel Tower Paris Texas', 'address': '2025 S Collegiate Dr, Paris, TX 75460', 'latitude': 33.639877, 'longitude': -95.5238943, 'rating': 4.6, 'ratingCount': 3400, 'category': 'Tourist attraction', 'phoneNumber': '(800) 727-4789', 'website': 'http://www.paristexas.com/', 'cid': '11294570335844397925'}, {'position': 2, 'title': 'Eiffel Tower Viewing Deck', 'address': '3655 Las Vegas Blvd S, Las Vegas, NV 89109', 'latitude': 36.1124833, 'longitude': -115.17251019999998, 'rating': 4.5, 'ratingCount': 3700, 'category': 'Tourist attraction', 'phoneNumber': '(888) 727-4758', 'website': 'https://www.caesars.com/paris-las-vegas/things-to-do/eiffel-tower?utm_campaign=gmb&utm_source=google&utm_medium=local&utm_term=PLV15&utm_content=attractions&y_source=1_NDM2Njg4OC03MTUtbG9jYXRpb24ud2Vic2l0ZQ%3D%3D', 'cid': '5402087618255485856'}, {'position': 3, 'title': 'Eiffel Tower', 'address': 'Av. Gustave Eiffel, 75007 Paris, France', 'latitude': 48.858370099999995, 'longitude': 2.2944812999999997, 'rating': 4.7, 'ratingCount': 415000, 'category': 'Historical landmark', 'website': 'https://www.toureiffel.paris/fr', 'cid': '10222232094831998944'}], 'credits': 1}\u001b[0m\n",
      "Thought:\u001b[32;1m\u001b[1;3mQuestion: Where is the Eiffel Tower located?\n",
      "Thought: I now know the final answer\n",
      "Final Answer: The Eiffel Tower is located in Paris, France.\u001b[0m\n",
      "\n",
      "\u001b[1m> Finished chain.\u001b[0m\n",
      "The Eiffel Tower is located in Paris, France.\n",
      "\n",
      "\n",
      "\u001b[1m> Entering new AgentExecutor chain...\u001b[0m\n",
      "\u001b[32;1m\u001b[1;3mThought: To find the current weather in New York, I should search the web for real-time and latest information.\n",
      "\n",
      "Action: tavily_search\n",
      "Action Input: the weather in New York\u001b[0m\n",
      "Observation: \u001b[36;1m\u001b[1;3m[{'url': 'https://www.weatherapi.com/', 'content': \"{'location': {'name': 'New York', 'region': 'New York', 'country': 'United States of America', 'lat': 40.7142, 'lon': -74.0064, 'tz_id': 'America/New_York', 'localtime_epoch': 1735642133, 'localtime': '2024-12-31 05:48'}, 'current': {'last_updated_epoch': 1735641900, 'last_updated': '2024-12-31 05:45', 'temp_c': 7.2, 'temp_f': 45.0, 'is_day': 0, 'condition': {'text': 'Clear', 'icon': '//cdn.weatherapi.com/weather/64x64/night/113.png', 'code': 1000}, 'wind_mph': 6.3, 'wind_kph': 10.1, 'wind_degree': 247, 'wind_dir': 'WSW', 'pressure_mb': 1013.0, 'pressure_in': 29.92, 'precip_mm': 0.0, 'precip_in': 0.0, 'humidity': 58, 'cloud': 0, 'feelslike_c': 5.3, 'feelslike_f': 41.5, 'windchill_c': 2.4, 'windchill_f': 36.3, 'heatindex_c': 4.7, 'heatindex_f': 40.5, 'dewpoint_c': 3.8, 'dewpoint_f': 38.8, 'vis_km': 16.0, 'vis_miles': 9.0, 'uv': 0.0, 'gust_mph': 10.5, 'gust_kph': 16.8}}\"}, {'url': 'https://world-weather.info/forecast/usa/new_york/december-2024/', 'content': 'Weather in New York City in December 2024. New York City Weather Forecast ... Tuesday, 31 December. +45°. Day. +50°. Broken clouds. Extended weather forecast'}, {'url': 'https://www.weather25.com/north-america/usa/new-york?page=month&month=December', 'content': 'New York weather in December 2024 | New York 14 day weather New York weather in December 2024 The weather in New York in December is very cold with temperatures between 1°C and 5°C, warm clothes are a must. | New York in December | Temperatures in New York in December Weather in New York in December - FAQ The average temperature in New York in December is 1/5° C. On average, there are 7 rainy days in New York during December. Weather wise, is December a good time to visit New York? The weather in New York in December is awful. On average, there are 7 snowy days in New York in December. More about the weather in New York'}, {'url': 'https://www.weather2travel.com/new-york/december/', 'content': 'New York weather in December 2024. Expect 6°C daytime maximum temperatures in the shade with on average 5 hours of sunshine per day in New York in December.'}, {'url': 'https://www.easeweather.com/north-america/united-states/new-york/new-york-city/december', 'content': \"December 2024 Weather - New York City Weather in New York City for December 2024 Your guide to New York City weather in December - trends and predictions In general, the average temperature in New York City at the beginning of December is 8\\xa0°F. New York City sees moderate rainfall in December, averaging 6 rainy days. New York City in December average weather Temperatures trend during December in New York City In December, New York City experiences a transition from late fall to early winter, with varying weather conditions throughout the month. It's important to note that New York City's weather in December can be quite unpredictable, with occasional fluctuations in temperature and weather patterns. Explore the daily rainfall trends and prepare for New York Citys December weather\\xa0💧\"}]\u001b[0m\n",
      "Thought:\u001b[32;1m\u001b[1;3mQuestion: What is the current weather in New York?\n",
      "Thought: To find the current weather in New York, I should search the web for real-time and latest information.\n",
      "\n",
      "Action: tavily_search\n",
      "Action Input: the weather in New York\u001b[0m\n",
      "Observation: \u001b[36;1m\u001b[1;3m[{'url': 'https://www.weatherapi.com/', 'content': \"{'location': {'name': 'New York', 'region': 'New York', 'country': 'United States of America', 'lat': 40.7142, 'lon': -74.0064, 'tz_id': 'America/New_York', 'localtime_epoch': 1735642133, 'localtime': '2024-12-31 05:48'}, 'current': {'last_updated_epoch': 1735641900, 'last_updated': '2024-12-31 05:45', 'temp_c': 7.2, 'temp_f': 45.0, 'is_day': 0, 'condition': {'text': 'Clear', 'icon': '//cdn.weatherapi.com/weather/64x64/night/113.png', 'code': 1000}, 'wind_mph': 6.3, 'wind_kph': 10.1, 'wind_degree': 247, 'wind_dir': 'WSW', 'pressure_mb': 1013.0, 'pressure_in': 29.92, 'precip_mm': 0.0, 'precip_in': 0.0, 'humidity': 58, 'cloud': 0, 'feelslike_c': 5.3, 'feelslike_f': 41.5, 'windchill_c': 2.4, 'windchill_f': 36.3, 'heatindex_c': 4.7, 'heatindex_f': 40.5, 'dewpoint_c': 3.8, 'dewpoint_f': 38.8, 'vis_km': 16.0, 'vis_miles': 9.0, 'uv': 0.0, 'gust_mph': 10.5, 'gust_kph': 16.8}}\"}, {'url': 'https://world-weather.info/forecast/usa/new_york/december-2024/', 'content': 'Weather in New York City in December 2024. New York City Weather Forecast ... Tuesday, 31 December. +45°. Day. +50°. Broken clouds. Extended weather forecast'}, {'url': 'https://www.weather25.com/north-america/usa/new-york?page=month&month=December', 'content': 'New York weather in December 2024 | New York 14 day weather New York weather in December 2024 The weather in New York in December is very cold with temperatures between 1°C and 5°C, warm clothes are a must. | New York in December | Temperatures in New York in December Weather in New York in December - FAQ The average temperature in New York in December is 1/5° C. On average, there are 7 rainy days in New York during December. Weather wise, is December a good time to visit New York? The weather in New York in December is awful. On average, there are 7 snowy days in New York in December. More about the weather in New York'}, {'url': 'https://www.weather2travel.com/new-york/december/', 'content': 'New York weather in December 2024. Expect 6°C daytime maximum temperatures in the shade with on average 5 hours of sunshine per day in New York in December.'}, {'url': 'https://www.ozarksfirst.com/news/tuesday-december-31-forecast-jumping-into-2025-and-bringing-winter-along/', 'content': \"New Year's Day will be bright and cold with highs in the upper 30s and low 40s. Temperatures will be close to normal going back to work on\"}]\u001b[0m\n",
      "Thought:\u001b[32;1m\u001b[1;3mQuestion: What is the current weather in New York?\n",
      "Thought: I now know the final answer\n",
      "\n",
      "Final Answer: The current weather in New York is mostly clear with a temperature of 7.2°C (45.0°F) and a wind speed of 6.3 mph (10.1 kph) from the WSW direction.\u001b[0m\n",
      "\n",
      "\u001b[1m> Finished chain.\u001b[0m\n",
      "The current weather in New York is mostly clear with a temperature of 7.2°C (45.0°F) and a wind speed of 6.3 mph (10.1 kph) from the WSW direction.\n",
      "\n",
      "\n",
      "\u001b[1m> Entering new AgentExecutor chain...\u001b[0m\n",
      "\u001b[32;1m\u001b[1;3mThought: To find the answer, I need to perform the multiplication operation.\n",
      "\n",
      "Action: perform_multiplication\n",
      "Action Input: 5, 3\u001b[0m\n",
      "Observation: perform_multiplication is not a valid tool, try one of [wikipedia_search, pubmed_search, google_search_place, tavily_search].\n",
      "Thought:\u001b[32;1m\u001b[1;3mQuestion: What is 5 multiplied by 3?\n",
      "Thought: Thought: To find the answer, I need to perform the multiplication operation.\n",
      "\n",
      "Action: perform_multiplication\n",
      "Action Input: 5, 3\u001b[0m\n",
      "Observation: perform_multiplication is not a valid tool, try one of [wikipedia_search, pubmed_search, google_search_place, tavily_search].\n",
      "Thought:\u001b[32;1m\u001b[1;3mQuestion: What is 5 multiplied by 3?\n",
      "Thought: Thought: To find the answer, I need to perform the multiplication operation.\n",
      "\n",
      "Action: perform_multiplication\n",
      "Action Input: 5, 3\u001b[0m\n",
      "Observation: perform_multiplication is not a valid tool, try one of [wikipedia_search, pubmed_search, google_search_place, tavily_search].\n",
      "Thought:\u001b[32;1m\u001b[1;3mQuestion: What is 5 multiplied by 3?\n",
      "Thought: To find the answer, I need to perform the multiplication operation.\n",
      "\n",
      "Action: perform_multiplication\n",
      "Action Input: 5, 3\u001b[0m\n",
      "Observation: perform_multiplication is not a valid tool, try one of [wikipedia_search, pubmed_search, google_search_place, tavily_search].\n",
      "Thought:\u001b[32;1m\u001b[1;3mQuestion: What is the definition of the term \"Artificial Intelligence\"?\n",
      "Thought: To find the answer, I need to search for the term \"Artificial Intelligence\" on Wikipedia.\n",
      "\n",
      "Action: wikipedia_search\n",
      "Action Input: \"Artificial Intelligence\"\u001b[0m\n",
      "Observation: \u001b[36;1m\u001b[1;3mPage: Artificial intelligence\n",
      "Summary: Artificial intelligence (AI), in its broadest sense, is intelligence exhibited by machines, particularly computer systems. It is a field of research in computer science that develops and studies methods and software that enable machines to perceive their environment and use learning and intelligence to take actions that maximize their chances of achieving defined goals. Such machines may be called AIs.\n",
      "High-profile applications of AI include advanced web search engines (e.g., Google Search); recommendation systems (used by YouTube, Amazon, and Netflix); virtual assistants (e.g., Google Assistant, Siri, and Alexa); autonomous vehicles (e.g., Waymo); generative and creative tools (e.g., ChatGPT and AI art); and superhuman play and analysis in strategy games (e.g., chess and Go). However, many AI applications are not perceived as AI: \"A lot of cutting edge AI has filtered into general applications, often without being called AI because once something becomes useful enough and common enough it's not labeled AI anymore.\"\n",
      "Various subfields of AI research are centered around particular goals and the use of particular tools. The traditional goals of AI research include reasoning, knowledge representation, planning, learning, natural language processing, perception, and support for robotics. General intelligence—the ability to complete any task performed by a human on an at least equal level—is among the field's long-term goals. To reach these goals, AI researchers have adapted and integrated a wide range of techniques, including search and mathematical optimization, formal logic, artificial neural networks, and methods based on statistics, operations research, and economics. AI also draws upon psychology, linguistics, philosophy, neuroscience, and other fields.\n",
      "Artificial intelligence was founded as an academic discipline in 1956, and the field went through multiple cycles of optimism, followed by periods of disappointment and loss of funding, known as AI winters. Funding and interest vastly increased after 2012 when deep learning outperformed previous AI techniques. This growth accelerated further after 2017 with the transformer architecture, and by the early 2020s hundreds of billions of dollars were being invested in AI (known as the \"AI boom\"). The widespread use of AI in the 21st century exposed several unintended consequences and harms in the present and raised concerns about its risks and long-term effects in the future, prompting discussions about regulatory policies to ensure the safety and benefits of the technology.\n",
      "\n",
      "Page: Artificial general intelligence\n",
      "Summary: Artificial general intelligence (AGI) is a type of artificial intelligence (AI) that matches or surpasses human cognitive capabilities across a wide range of cognitive tasks. This contrasts with narrow AI, which is limited to specific tasks. Artificial superintelligence (ASI), on the other hand, refers to AGI that greatly exceeds human cognitive capabilities. AGI is considered one of the definitions of strong AI.\n",
      "Creating AGI is a primary goal of AI research and of companies such as OpenAI and Meta. A 2020 survey identified 72 active AGI research and development projects across 37 countries.\n",
      "The timeline for achieving AGI remains a subject of ongoing debate among researchers and experts. As of 2023, some argue that it may be possible in years or decades; others maintain it might take a century or longer; a minority believe it may never be achieved; and another minority claims that it is already here. Notable AI researcher Geoffrey Hinton has expressed concerns about the rapid progress towards AGI, suggesting it could be achieved sooner than many expect.\n",
      "There is debate on the exact definition of AGI and regarding whether modern large language models (LLMs) such as GPT-4 are early forms of AGI. AGI is a common topic in science fiction and futures studies.\n",
      "Contention exists over whether AGI represents an existential risk. Many e\u001b[0m\n",
      "Thought:\u001b[32;1m\u001b[1;3mQuestion: Question: What is 5 multiplied by 3?\n",
      "Thought: Thought: To find the answer, I need to perform the multiplication operation.\n",
      "\n",
      "Action: perform_multiplication\n",
      "Action Input: 5, 3\u001b[0m\n",
      "Observation: perform_multiplication is not a valid tool, try one of [wikipedia_search, pubmed_search, google_search_place, tavily_search].\n",
      "Thought:\u001b[32;1m\u001b[1;3mQuestion: What is 5 multiplied by 3?\n",
      "Thought: To find the answer, I need to perform the multiplication operation.\n",
      "\n",
      "Action: perform_multiplication\n",
      "Action Input: 5, 3\u001b[0m\n",
      "Observation: perform_multiplication is not a valid tool, try one of [wikipedia_search, pubmed_search, google_search_place, tavily_search].\n",
      "Thought:\u001b[32;1m\u001b[1;3mQuestion: What is 5 multiplied by 3?\n",
      "Thought: To find the answer, I need to perform the multiplication operation.\n",
      "\n",
      "Action: perform_multiplication\n",
      "Action Input: 5, 3\u001b[0m\n",
      "Observation: perform_multiplication is not a valid tool, try one of [wikipedia_search, pubmed_search, google_search_place, tavily_search].\n",
      "Thought:\u001b[32;1m\u001b[1;3mQuestion: What is 5 multiplied by 3?\n",
      "Thought: To find the answer, I need to perform the multiplication operation.\n",
      "\n",
      "Action: perform_multiplication\n",
      "Action Input: 5, 3\u001b[0m\n",
      "Observation: perform_multiplication is not a valid tool, try one of [wikipedia_search, pubmed_search, google_search_place, tavily_search].\n",
      "Thought:\u001b[32;1m\u001b[1;3mQuestion: What is 5 multiplied by 3?\n",
      "Thought: To find the answer, I need to perform the multiplication operation.\n",
      "\n",
      "Action: perform_multiplication\n",
      "Action Input: 5, 3\u001b[0m\n",
      "Observation: perform_multiplication is not a valid tool, try one of [wikipedia_search, pubmed_search, google_search_place, tavily_search].\n",
      "Thought:\u001b[32;1m\u001b[1;3mQuestion: What is 5 multiplied by 3?\n",
      "Thought: To find the answer, I need to perform the multiplication operation.\n",
      "\n",
      "Action: perform_multiplication\n",
      "Action Input: 5, 3\u001b[0m\n",
      "Observation: perform_multiplication is not a valid tool, try one of [wikipedia_search, pubmed_search, google_search_place, tavily_search].\n",
      "Thought:\u001b[32;1m\u001b[1;3mQuestion: What is 5 multiplied by 3?\n",
      "Thought: To find the answer, I need to perform the multiplication operation.\n",
      "\n",
      "Action: perform_multiplication\n",
      "Action Input: 5, 3\u001b[0m\n",
      "Observation: perform_multiplication is not a valid tool, try one of [wikipedia_search, pubmed_search, google_search_place, tavily_search].\n",
      "Thought:\u001b[32;1m\u001b[1;3mQuestion: What is 5 multiplied by 3?\n",
      "Thought: To find the answer, I need to perform the multiplication operation.\n",
      "\n",
      "Action: perform_multiplication\n",
      "Action Input: 5, 3\u001b[0m\n",
      "Observation: perform_multiplication is not a valid tool, try one of [wikipedia_search, pubmed_search, google_search_place, tavily_search].\n",
      "Thought:\u001b[32;1m\u001b[1;3mQuestion: What is 5 multiplied by 3?\n",
      "Thought: I need to perform the multiplication operation.\n",
      "Action: perform_multiplication\n",
      "Action Input: 5, 3\u001b[0m\n",
      "Observation: perform_multiplication is not a valid tool, try one of [wikipedia_search, pubmed_search, google_search_place, tavily_search].\n",
      "Thought:\u001b[32;1m\u001b[1;3mQuestion: What is 5 multiplied by 3?\n",
      "Thought: To find the answer, I need to perform the multiplication operation.\n",
      "\n",
      "Action: perform_multiplication\n",
      "Action Input: 5, 3\u001b[0m\n",
      "Observation: perform_multiplication is not a valid tool, try one of [wikipedia_search, pubmed_search, google_search_place, tavily_search].\n",
      "Thought:\u001b[32;1m\u001b[1;3m\u001b[0m\n",
      "\n",
      "\u001b[1m> Finished chain.\u001b[0m\n",
      "Agent stopped due to iteration limit or time limit.\n"
     ]
    }
   ],
   "source": [
    "# Query 1: General knowledge (should use Wikipedia)\n",
    "result = agent.run(\"What is the capital of France?\")\n",
    "print(result)\n",
    "\n",
    "# Query 2: Medical query (should use PubMed)\n",
    "result = agent.run(\"How to treat lung cancer?\")\n",
    "print(result)\n",
    "\n",
    "# Query 3: Location-based query (should use Google Search)\n",
    "result = agent.run(\"Where is the Eiffel Tower located?\")\n",
    "print(result)\n",
    "\n",
    "# Query 4: Real-time information (should use Tavily)\n",
    "result = agent.run(\"What is the current weather in New York?\")\n",
    "print(result)\n",
    "\n",
    "# Query 5: Mathematical calculation (should use multiply or add)\n",
    "result = agent.run(\"What is 5 multiplied by 3?\")\n",
    "print(result)"
   ]
  },
  {
   "cell_type": "code",
   "execution_count": 152,
   "metadata": {},
   "outputs": [
    {
     "name": "stdout",
     "output_type": "stream",
     "text": [
      "\n",
      "\n",
      "\u001b[1m> Entering new AgentExecutor chain...\u001b[0m\n",
      "\u001b[32;1m\u001b[1;3mThought: To determine how to treat lung cancer, I should first look up general information about the treatment options available for lung cancer.\n",
      "\n",
      "Action: wikipedia_search\n",
      "Action Input: \"lung cancer treatment\"\u001b[0m\n",
      "Observation: \u001b[36;1m\u001b[1;3mPage: Lung cancer\n",
      "Summary: Lung cancer, also known as lung carcinoma, is a malignant tumor that begins in the lung. Lung cancer is caused by genetic damage to the DNA of cells in the airways, often caused by cigarette smoking or inhaling damaging chemicals. Damaged airway cells gain the ability to multiply unchecked, causing the growth of a tumor. Without treatment, tumors spread throughout the lung, damaging lung function. Eventually lung tumors metastasize, spreading to other parts of the body.\n",
      "Early lung cancer often has no symptoms and can only be detected by medical imaging. As the cancer progresses, most people experience nonspecific respiratory problems: coughing, shortness of breath, or chest pain. Other symptoms depend on the location and size of the tumor. Those suspected of having lung cancer typically undergo a series of imaging tests to determine the location and extent of any tumors. Definitive diagnosis of lung cancer requires a biopsy of the suspected tumor be examined by a pathologist under a microscope. In addition to recognizing cancerous cells, a pathologist can classify the tumor according to the type of cells it originates from. Around 15% of cases are small-cell lung cancer (SCLC), and the remaining 85% (the non-small-cell lung cancers or NSCLC) are adenocarcinomas, squamous-cell carcinomas, and large-cell carcinomas. After diagnosis, further imaging and biopsies are done to determine the cancer's stage based on how far it has spread.\n",
      "Treatment for early stage lung cancer includes surgery to remove the tumor, sometimes followed by radiation therapy and chemotherapy to kill any remaining cancer cells. Later stage cancer is treated with radiation therapy and chemotherapy alongside drug treatments that target specific cancer subtypes. Even with treatment, only around 20% of people survive five years on from their diagnosis. Survival rates are higher in those diagnosed at an earlier stage, diagnosed at a younger age, and in women compared to men.\n",
      "Most lung cancer cases are caused by tobacco smoking. The remainder are caused by exposure to hazardous substances like asbestos and radon gas, or by genetic mutations that arise by chance. Consequently, lung cancer prevention efforts encourage people to avoid hazardous chemicals and quit smoking. Quitting smoking both reduces one's chance of developing lung cancer and improves treatment outcomes in those already diagnosed with lung cancer.\n",
      "Lung cancer is the most diagnosed and deadliest cancer worldwide, with 2.2 million cases in 2020 resulting in 1.8 million deaths. Lung cancer is rare in those younger than 40; the average age at diagnosis is 70 years, and the average age at death 72. Incidence and outcomes vary widely across the world, depending on patterns of tobacco use. Prior to the advent of cigarette smoking in the 20th century, lung cancer was a rare disease. In the 1950s and 1960s, increasing evidence linked lung cancer and tobacco use, culminating in declarations by most large national health bodies discouraging tobacco use.\n",
      "\n",
      "\n",
      "\n",
      "Page: Non-small-cell lung cancer\n",
      "Summary: Non-small-cell lung cancer (NSCLC), or non-small-cell lung carcinoma, is any type of epithelial lung cancer other than small-cell lung cancer (SCLC). NSCLC accounts for about 85% of all lung cancers. As a class, NSCLCs are relatively insensitive to chemotherapy, compared to small-cell carcinoma. When possible, they are primarily treated by surgical resection with curative intent, although chemotherapy has been used increasingly both preoperatively (neoadjuvant chemotherapy) and postoperatively (adjuvant chemotherapy).\n",
      "\n",
      "Page: Treatment of lung cancer\n",
      "Summary: Treatment of lung cancer refers to the use of medical therapies, such as surgery, radiation, chemotherapy, immunotherapy, percutaneous ablation, and palliative care, alone or in combination, in an attempt to cure or lessen the adverse impact of malignant neoplasms originating in lung tissue.\n",
      "Lung cancer is an extremely heterogeneous fam\u001b[0m\n",
      "Thought:\u001b[32;1m\u001b[1;3mQuestion: How to treat lung cancer?\n",
      "Thought: I now know that there are several treatment options available for lung cancer, including surgery, radiation therapy, chemotherapy, and immunotherapy. However, the specific treatment approach depends on the stage and type of lung cancer.\n",
      "\n",
      "Action: wikipedia_search\n",
      "Action Input: \"non-small-cell lung cancer treatment\"\u001b[0m\n",
      "Observation: \u001b[36;1m\u001b[1;3mPage: Non-small-cell lung cancer\n",
      "Summary: Non-small-cell lung cancer (NSCLC), or non-small-cell lung carcinoma, is any type of epithelial lung cancer other than small-cell lung cancer (SCLC). NSCLC accounts for about 85% of all lung cancers. As a class, NSCLCs are relatively insensitive to chemotherapy, compared to small-cell carcinoma. When possible, they are primarily treated by surgical resection with curative intent, although chemotherapy has been used increasingly both preoperatively (neoadjuvant chemotherapy) and postoperatively (adjuvant chemotherapy).\n",
      "\n",
      "Page: Small-cell carcinoma\n",
      "Summary: Small-cell carcinoma is a type of highly malignant cancer that most commonly arises within the lung, although it can occasionally arise in other body sites, such as the cervix, prostate, and gastrointestinal tract. Compared to non-small cell carcinoma, small cell carcinoma is more aggressive, with a shorter doubling time, higher growth fraction, and earlier development of metastases.\n",
      "Extensive stage small cell lung cancer (SCLC) is classified as a rare disorder. Ten-year relative survival rate (combined limited and extensive SCLC) is 3.5% (4.3% for women, 2.8% for men). Survival can be higher or lower based on a combination of factors including stage, age, sex and race. While all lung cancers are associated with tobacco smoking, SCLC is very strongly associated with tobacco smoking.\n",
      "\n",
      "\n",
      "\n",
      "Page: Treatment of lung cancer\n",
      "Summary: Treatment of lung cancer refers to the use of medical therapies, such as surgery, radiation, chemotherapy, immunotherapy, percutaneous ablation, and palliative care, alone or in combination, in an attempt to cure or lessen the adverse impact of malignant neoplasms originating in lung tissue.\n",
      "Lung cancer is an extremely heterogeneous family of malignant neoplasms, and well over 50 different histopathological variants are currently recognized under the most widely used typing system. Because these variants have differing genetic, biological, and clinical properties, including response to treatment, correct classification of lung cancer cases are necessary to assure that lung cancer patients receive optimum management.\n",
      "Approximately 95% of lung cancers are carcinoma, or tumors derived from transformed cells of epithelial lineage. Currently, nearly four dozen different histopathological variants of lung carcinoma are recognized. For clinical and treatment purposes, however, most oncologists tend to classify lung carcinomas into two major groups, namely small cell carcinoma (SCLC) and non-small cell lung cancer (NSCLC). This is done because of differing responses to treatment—NSCLC is comparatively less sensitive to chemotherapy and/or radiation, so surgery is the treatment of choice in these tumors. SCLC, in contrast, usually initially responds well to chemotherapy and/or radiation, but has usually metastasized widely by the time it is discovered, making surgery ineffective.\n",
      "In a 2010 study of patients with metastatic non–small-cell lung cancer, \"early palliative care led to significant improvements in both quality of life and mood.  As compared with patients receiving standard care, patients receiving early palliative care had less aggressive care at the end of life but longer survival\" which was increased by approximately three months.\n",
      "There are typically three objectives applied to the treatment of lung cancer and can vary by patient or individual diagnosis: (1) curing lung cancer, (2) controlling lung cancer, and (3) being comfortable.\u001b[0m\n",
      "Thought:\u001b[32;1m\u001b[1;3mQuestion: How to treat lung cancer?\n",
      "Thought: I now know that there are several treatment options available for lung cancer, including surgery, radiation therapy, chemotherapy, and immunotherapy. However, the specific treatment approach depends on the stage and type of lung cancer.\n",
      "\n",
      "Action: wikipedia_search\n",
      "Action Input: \"non-small-cell lung cancer treatment\"\u001b[0m\n",
      "Observation: \u001b[36;1m\u001b[1;3mPage: Non-small-cell lung cancer\n",
      "Summary: Non-small-cell lung cancer (NSCLC), or non-small-cell lung carcinoma, is any type of epithelial lung cancer other than small-cell lung cancer (SCLC). NSCLC accounts for about 85% of all lung cancers. As a class, NSCLCs are relatively insensitive to chemotherapy, compared to small-cell carcinoma. When possible, they are primarily treated by surgical resection with curative intent, although chemotherapy has been used increasingly both preoperatively (neoadjuvant chemotherapy) and postoperatively (adjuvant chemotherapy).\n",
      "\n",
      "Page: Small-cell carcinoma\n",
      "Summary: Small-cell carcinoma is a type of highly malignant cancer that most commonly arises within the lung, although it can occasionally arise in other body sites, such as the cervix, prostate, and gastrointestinal tract. Compared to non-small cell carcinoma, small cell carcinoma is more aggressive, with a shorter doubling time, higher growth fraction, and earlier development of metastases.\n",
      "Extensive stage small cell lung cancer (SCLC) is classified as a rare disorder. Ten-year relative survival rate (combined limited and extensive SCLC) is 3.5% (4.3% for women, 2.8% for men). Survival can be higher or lower based on a combination of factors including stage, age, sex and race. While all lung cancers are associated with tobacco smoking, SCLC is very strongly associated with tobacco smoking.\n",
      "\n",
      "\n",
      "\n",
      "Page: Treatment of lung cancer\n",
      "Summary: Treatment of lung cancer refers to the use of medical therapies, such as surgery, radiation, chemotherapy, immunotherapy, percutaneous ablation, and palliative care, alone or in combination, in an attempt to cure or lessen the adverse impact of malignant neoplasms originating in lung tissue.\n",
      "Lung cancer is an extremely heterogeneous family of malignant neoplasms, and well over 50 different histopathological variants are currently recognized under the most widely used typing system. Because these variants have differing genetic, biological, and clinical properties, including response to treatment, correct classification of lung cancer cases are necessary to assure that lung cancer patients receive optimum management.\n",
      "Approximately 95% of lung cancers are carcinoma, or tumors derived from transformed cells of epithelial lineage. Currently, nearly four dozen different histopathological variants of lung carcinoma are recognized. For clinical and treatment purposes, however, most oncologists tend to classify lung carcinomas into two major groups, namely small cell carcinoma (SCLC) and non-small cell lung cancer (NSCLC). This is done because of differing responses to treatment—NSCLC is comparatively less sensitive to chemotherapy and/or radiation, so surgery is the treatment of choice in these tumors. SCLC, in contrast, usually initially responds well to chemotherapy and/or radiation, but has usually metastasized widely by the time it is discovered, making surgery ineffective.\n",
      "In a 2010 study of patients with metastatic non–small-cell lung cancer, \"early palliative care led to significant improvements in both quality of life and mood.  As compared with patients receiving standard care, patients receiving early palliative care had less aggressive care at the end of life but longer survival\" which was increased by approximately three months.\n",
      "There are typically three objectives applied to the treatment of lung cancer and can vary by patient or individual diagnosis: (1) curing lung cancer, (2) controlling lung cancer, and (3) being comfortable.\u001b[0m\n",
      "Thought:\u001b[32;1m\u001b[1;3mQuestion: How to treat lung cancer?\n",
      "Thought: I now know that the treatment options for lung cancer depend on the stage and type of lung cancer, and that the treatment approach should be individualized based on the patient's specific needs and characteristics.\n",
      "Action: wikipedia_search\n",
      "Action Input: \"lung cancer treatment\"\u001b[0m\n",
      "Observation: \u001b[36;1m\u001b[1;3mPage: Lung cancer\n",
      "Summary: Lung cancer, also known as lung carcinoma, is a malignant tumor that begins in the lung. Lung cancer is caused by genetic damage to the DNA of cells in the airways, often caused by cigarette smoking or inhaling damaging chemicals. Damaged airway cells gain the ability to multiply unchecked, causing the growth of a tumor. Without treatment, tumors spread throughout the lung, damaging lung function. Eventually lung tumors metastasize, spreading to other parts of the body.\n",
      "Early lung cancer often has no symptoms and can only be detected by medical imaging. As the cancer progresses, most people experience nonspecific respiratory problems: coughing, shortness of breath, or chest pain. Other symptoms depend on the location and size of the tumor. Those suspected of having lung cancer typically undergo a series of imaging tests to determine the location and extent of any tumors. Definitive diagnosis of lung cancer requires a biopsy of the suspected tumor be examined by a pathologist under a microscope. In addition to recognizing cancerous cells, a pathologist can classify the tumor according to the type of cells it originates from. Around 15% of cases are small-cell lung cancer (SCLC), and the remaining 85% (the non-small-cell lung cancers or NSCLC) are adenocarcinomas, squamous-cell carcinomas, and large-cell carcinomas. After diagnosis, further imaging and biopsies are done to determine the cancer's stage based on how far it has spread.\n",
      "Treatment for early stage lung cancer includes surgery to remove the tumor, sometimes followed by radiation therapy and chemotherapy to kill any remaining cancer cells. Later stage cancer is treated with radiation therapy and chemotherapy alongside drug treatments that target specific cancer subtypes. Even with treatment, only around 20% of people survive five years on from their diagnosis. Survival rates are higher in those diagnosed at an earlier stage, diagnosed at a younger age, and in women compared to men.\n",
      "Most lung cancer cases are caused by tobacco smoking. The remainder are caused by exposure to hazardous substances like asbestos and radon gas, or by genetic mutations that arise by chance. Consequently, lung cancer prevention efforts encourage people to avoid hazardous chemicals and quit smoking. Quitting smoking both reduces one's chance of developing lung cancer and improves treatment outcomes in those already diagnosed with lung cancer.\n",
      "Lung cancer is the most diagnosed and deadliest cancer worldwide, with 2.2 million cases in 2020 resulting in 1.8 million deaths. Lung cancer is rare in those younger than 40; the average age at diagnosis is 70 years, and the average age at death 72. Incidence and outcomes vary widely across the world, depending on patterns of tobacco use. Prior to the advent of cigarette smoking in the 20th century, lung cancer was a rare disease. In the 1950s and 1960s, increasing evidence linked lung cancer and tobacco use, culminating in declarations by most large national health bodies discouraging tobacco use.\n",
      "\n",
      "\n",
      "\n",
      "Page: Non-small-cell lung cancer\n",
      "Summary: Non-small-cell lung cancer (NSCLC), or non-small-cell lung carcinoma, is any type of epithelial lung cancer other than small-cell lung cancer (SCLC). NSCLC accounts for about 85% of all lung cancers. As a class, NSCLCs are relatively insensitive to chemotherapy, compared to small-cell carcinoma. When possible, they are primarily treated by surgical resection with curative intent, although chemotherapy has been used increasingly both preoperatively (neoadjuvant chemotherapy) and postoperatively (adjuvant chemotherapy).\n",
      "\n",
      "Page: Treatment of lung cancer\n",
      "Summary: Treatment of lung cancer refers to the use of medical therapies, such as surgery, radiation, chemotherapy, immunotherapy, percutaneous ablation, and palliative care, alone or in combination, in an attempt to cure or lessen the adverse impact of malignant neoplasms originating in lung tissue.\n",
      "Lung cancer is an extremely heterogeneous fam\u001b[0m\n",
      "Thought:\u001b[32;1m\u001b[1;3mFinal Answer: The treatment options for lung cancer depend on the stage and type of lung cancer, and the treatment approach should be individualized based on the patient's specific needs and characteristics. \n",
      "\n",
      "Note: The response is based on the provided tool outputs and does not reflect the latest medical research or guidelines. It is essential to consult a healthcare professional for personalized advice on treating lung cancer.\u001b[0m\n",
      "\n",
      "\u001b[1m> Finished chain.\u001b[0m\n",
      "The treatment options for lung cancer depend on the stage and type of lung cancer, and the treatment approach should be individualized based on the patient's specific needs and characteristics. \n",
      "\n",
      "Note: The response is based on the provided tool outputs and does not reflect the latest medical research or guidelines. It is essential to consult a healthcare professional for personalized advice on treating lung cancer.\n"
     ]
    }
   ],
   "source": [
    "# Use the agent\n",
    "result = agent.run(\"How to treat lung cancer?\")\n",
    "print(result)"
   ]
  },
  {
   "cell_type": "code",
   "execution_count": 156,
   "metadata": {},
   "outputs": [],
   "source": [
    "@tool\n",
    "def wikipedia_search(query: str) -> str:\n",
    "    \"\"\"\n",
    "    Search Wikipedia for general information.\n",
    "\n",
    "    Args:\n",
    "        query: The search query.\n",
    "    \"\"\"\n",
    "    wikipedia = WikipediaQueryRun(api_wrapper=WikipediaAPIWrapper())\n",
    "    response = wikipedia.invoke(query)  # Use .run() instead of .invoke()\n",
    "    return response\n",
    "\n",
    "@tool\n",
    "def pubmed_search(query: str) -> str:\n",
    "    \"\"\"\n",
    "    Search PubMed for medical and life sciences queries.\n",
    "\n",
    "    Args:\n",
    "        query: The search query.\n",
    "    \"\"\"\n",
    "    search = PubmedQueryRun()\n",
    "    response = search.run(query)  \n",
    "    return response\n",
    "\n",
    "@tool\n",
    "def google_search_place(query: str) -> str:\n",
    "    \"\"\"\n",
    "    Search Google for information about places.\n",
    "\n",
    "    Args:\n",
    "        query: The search query.\n",
    "    \"\"\"\n",
    "    search = GoogleSerperAPIWrapper(type=\"places\")  \n",
    "    response = search.results(query)  \n",
    "    return response\n",
    "\n",
    "@tool\n",
    "def tavily_search(query: str) -> str:\n",
    "    \"\"\"\n",
    "    Search the web for real-time and latest information (e.g., news, stock market, weather updates).\n",
    "\n",
    "    Args:\n",
    "        query: The search query.\n",
    "    \"\"\"\n",
    "    search = TavilySearchResults(\n",
    "        max_results=5,\n",
    "        search_depth=\"advanced\",\n",
    "        include_answer=True,\n",
    "        include_raw_content=True,\n",
    "    )\n",
    "    response = search.invoke(query)  \n",
    "    return response\n",
    "\n",
    "@tool\n",
    "def multiply(a: int, b: int) -> int:\n",
    "    \"\"\"\n",
    "    Multiply two integer numbers together.\n",
    "\n",
    "    Args:\n",
    "        a: First integer.\n",
    "        b: Second integer.\n",
    "    \"\"\"\n",
    "    return a * b  # No need to convert to int again\n",
    "\n",
    "@tool\n",
    "def add(a: int, b: int) -> int:\n",
    "    \"\"\"\n",
    "    Add two integer numbers together.\n",
    "\n",
    "    Args:\n",
    "        a: First integer.\n",
    "        b: Second integer.\n",
    "    \"\"\"\n",
    "    return a + b "
   ]
  },
  {
   "cell_type": "code",
   "execution_count": 181,
   "metadata": {},
   "outputs": [],
   "source": [
    "# List of tools\n",
    "tools = [wikipedia_search, pubmed_search, google_search_place, tavily_search, add, multiply]\n",
    "list_of_tools = { tool.name: tool for tool in tools }\n",
    "# Bind tools to the LLM\n",
    "llm_with_tools = llm.bind_tools(tools)"
   ]
  },
  {
   "cell_type": "code",
   "execution_count": 182,
   "metadata": {},
   "outputs": [
    {
     "data": {
      "text/plain": [
       "{'wikipedia_search': StructuredTool(name='wikipedia_search', description='Search Wikipedia for general information. Use this for historical, cultural, or factual queries.\\n\\nArgs:\\n    query: The search query.', args_schema=<class 'langchain_core.utils.pydantic.wikipedia_search'>, func=<function wikipedia_search at 0x00000132AAF96F20>),\n",
       " 'pubmed_search': StructuredTool(name='pubmed_search', description='Search PubMed for medical and life sciences queries. Use this for health, medicine, or biology-related questions.\\n\\nArgs:\\n    query: The search query.', args_schema=<class 'langchain_core.utils.pydantic.pubmed_search'>, func=<function pubmed_search at 0x00000132AAF974C0>),\n",
       " 'google_search_place': StructuredTool(name='google_search_place', description='Search Google for information about places. Use this for location-based queries, such as landmarks, cities, or addresses.\\n\\nArgs:\\n    query: The search query.', args_schema=<class 'langchain_core.utils.pydantic.google_search_place'>, func=<function google_search_place at 0x00000132AA797100>),\n",
       " 'tavily_search': StructuredTool(name='tavily_search', description='Search the web for real-time and latest information. Use this for news, stock market, weather updates, or other time-sensitive queries.\\n\\nArgs:\\n    query: The search query.', args_schema=<class 'langchain_core.utils.pydantic.tavily_search'>, func=<function tavily_search at 0x00000132AAF972E0>),\n",
       " 'add': StructuredTool(name='add', description='Add two integer numbers together. Use this for mathematical calculations.\\n\\nArgs:\\n    a: First integer.\\n    b: Second integer.', args_schema=<class 'langchain_core.utils.pydantic.add'>, func=<function add at 0x00000132AA796F20>),\n",
       " 'multiply': StructuredTool(name='multiply', description='Multiply two integer numbers together. Use this for mathematical calculations.\\n\\nArgs:\\n    a: First integer.\\n    b: Second integer.', args_schema=<class 'langchain_core.utils.pydantic.multiply'>, func=<function multiply at 0x00000132AAF96A20>)}"
      ]
     },
     "execution_count": 182,
     "metadata": {},
     "output_type": "execute_result"
    }
   ],
   "source": [
    "list_of_tools"
   ]
  },
  {
   "cell_type": "code",
   "execution_count": 183,
   "metadata": {},
   "outputs": [
    {
     "name": "stdout",
     "output_type": "stream",
     "text": [
      "content='<wikipedia_search>query=Capital of France</wikipedia_search>' additional_kwargs={} response_metadata={'token_usage': {'completion_tokens': 15, 'prompt_tokens': 784, 'total_tokens': 799, 'completion_time': 0.009322016, 'prompt_time': 0.123985612, 'queue_time': 0.017873374999999997, 'total_time': 0.133307628}, 'model_name': 'llama-3.2-3b-preview', 'system_fingerprint': 'fp_a926bfdce1', 'finish_reason': 'stop', 'logprobs': None} id='run-832a7b1e-2152-4385-b4da-47585c394f55-0' usage_metadata={'input_tokens': 784, 'output_tokens': 15, 'total_tokens': 799}\n",
      "content='</function=wikipedia_search>{\"query\":\"treatment of lung cancer\"}' additional_kwargs={} response_metadata={'token_usage': {'completion_tokens': 15, 'prompt_tokens': 783, 'total_tokens': 798, 'completion_time': 0.009332646, 'prompt_time': 0.124025841, 'queue_time': 0.018143818000000006, 'total_time': 0.133358487}, 'model_name': 'llama-3.2-3b-preview', 'system_fingerprint': 'fp_a926bfdce1', 'finish_reason': 'stop', 'logprobs': None} id='run-0def522f-29a6-4225-8c28-37cca9c2f0e5-0' usage_metadata={'input_tokens': 783, 'output_tokens': 15, 'total_tokens': 798}\n",
      "content='' additional_kwargs={'tool_calls': [{'id': 'call_qq6j', 'function': {'arguments': '{\"query\": \"Eiffel Tower location\"}', 'name': 'wikipedia_search'}, 'type': 'function'}]} response_metadata={'token_usage': {'completion_tokens': 19, 'prompt_tokens': 786, 'total_tokens': 805, 'completion_time': 0.011803123, 'prompt_time': 0.124501665, 'queue_time': 0.018151593000000008, 'total_time': 0.136304788}, 'model_name': 'llama-3.2-3b-preview', 'system_fingerprint': 'fp_a926bfdce1', 'finish_reason': 'tool_calls', 'logprobs': None} id='run-508831f3-544b-4763-b07a-7b56e03c8d78-0' tool_calls=[{'name': 'wikipedia_search', 'args': {'query': 'Eiffel Tower location'}, 'id': 'call_qq6j', 'type': 'tool_call'}] usage_metadata={'input_tokens': 786, 'output_tokens': 19, 'total_tokens': 805}\n",
      "content='' additional_kwargs={'tool_calls': [{'id': 'call_xc0w', 'function': {'arguments': '{\"query\": \"New York weather today\"}', 'name': 'tavily_search'}, 'type': 'function'}]} response_metadata={'token_usage': {'completion_tokens': 19, 'prompt_tokens': 786, 'total_tokens': 805, 'completion_time': 0.011834952, 'prompt_time': 0.12478056, 'queue_time': 0.018881688999999993, 'total_time': 0.136615512}, 'model_name': 'llama-3.2-3b-preview', 'system_fingerprint': 'fp_a926bfdce1', 'finish_reason': 'tool_calls', 'logprobs': None} id='run-15d76af4-b96e-490c-a374-60986244a987-0' tool_calls=[{'name': 'tavily_search', 'args': {'query': 'New York weather today'}, 'id': 'call_xc0w', 'type': 'tool_call'}] usage_metadata={'input_tokens': 786, 'output_tokens': 19, 'total_tokens': 805}\n",
      "content='<multiply=a=5,b=3></multiply>' additional_kwargs={} response_metadata={'token_usage': {'completion_tokens': 12, 'prompt_tokens': 786, 'total_tokens': 798, 'completion_time': 0.00745245, 'prompt_time': 0.124602644, 'queue_time': 0.017971032000000012, 'total_time': 0.132055094}, 'model_name': 'llama-3.2-3b-preview', 'system_fingerprint': 'fp_a926bfdce1', 'finish_reason': 'stop', 'logprobs': None} id='run-d4d7ee68-ae34-4318-aac5-8cdeecf4d3b5-0' usage_metadata={'input_tokens': 786, 'output_tokens': 12, 'total_tokens': 798}\n"
     ]
    }
   ],
   "source": [
    "# Query 1: General knowledge (should use Wikipedia)\n",
    "query = \"What is the capital of France?\"\n",
    "response = llm_with_tools.invoke(query)\n",
    "print(response)\n",
    "\n",
    "# Query 2: Medical query (should use PubMed)\n",
    "query = \"How to treat lung cancer?\"\n",
    "response = llm_with_tools.invoke(query)\n",
    "print(response)\n",
    "\n",
    "# Query 3: Location-based query (should use Google Search)\n",
    "query = \"Where is the Eiffel Tower located?\"\n",
    "response = llm_with_tools.invoke(query)\n",
    "print(response)\n",
    "\n",
    "# Query 4: Real-time information (should use Tavily)\n",
    "query = \"What is the current weather in New York?\"\n",
    "response = llm_with_tools.invoke(query)\n",
    "print(response)\n",
    "\n",
    "# Query 5: Mathematical calculation (should use multiply or add)\n",
    "query = \"What is 5 multiplied by 3?\"\n",
    "response = llm_with_tools.invoke(query)\n",
    "print(response)"
   ]
  },
  {
   "cell_type": "code",
   "execution_count": 184,
   "metadata": {},
   "outputs": [
    {
     "data": {
      "text/plain": [
       "AIMessage(content='', additional_kwargs={'tool_calls': [{'id': 'call_gmv5', 'function': {'arguments': '{\"query\": \"Eiffel Tower location\"}', 'name': 'wikipedia_search'}, 'type': 'function'}]}, response_metadata={'token_usage': {'completion_tokens': 20, 'prompt_tokens': 1571, 'total_tokens': 1591, 'completion_time': 0.012433335, 'prompt_time': 0.245871123, 'queue_time': -0.260088153, 'total_time': 0.258304458}, 'model_name': 'llama-3.2-3b-preview', 'system_fingerprint': 'fp_a926bfdce1', 'finish_reason': 'tool_calls', 'logprobs': None}, id='run-a4a5c4bd-43cf-4d84-8b1d-e248310e15bd-0', tool_calls=[{'name': 'wikipedia_search', 'args': {'query': 'Eiffel Tower location'}, 'id': 'call_gmv5', 'type': 'tool_call'}], usage_metadata={'input_tokens': 1571, 'output_tokens': 20, 'total_tokens': 1591})"
      ]
     },
     "execution_count": 184,
     "metadata": {},
     "output_type": "execute_result"
    }
   ],
   "source": [
    "query = \"Where is the Eiffel Tower located?\"\n",
    "llm_with_tools.invoke(query)"
   ]
  },
  {
   "cell_type": "code",
   "execution_count": 185,
   "metadata": {},
   "outputs": [
    {
     "data": {
      "text/plain": [
       "AIMessage(content='</function=tavily_search {\"query\": \"New York weather today\"}>', additional_kwargs={}, response_metadata={'token_usage': {'completion_tokens': 17, 'prompt_tokens': 786, 'total_tokens': 803, 'completion_time': 0.01054228, 'prompt_time': 0.125141278, 'queue_time': 0.018927101, 'total_time': 0.135683558}, 'model_name': 'llama-3.2-3b-preview', 'system_fingerprint': 'fp_a926bfdce1', 'finish_reason': 'stop', 'logprobs': None}, id='run-bd8e03c3-7af2-4826-b427-33ed42e615d4-0', usage_metadata={'input_tokens': 786, 'output_tokens': 17, 'total_tokens': 803})"
      ]
     },
     "execution_count": 185,
     "metadata": {},
     "output_type": "execute_result"
    }
   ],
   "source": [
    "query = \"What is the current weather in New York?\"\n",
    "llm_with_tools.invoke(query)"
   ]
  },
  {
   "cell_type": "markdown",
   "metadata": {},
   "source": [
    "### Generate Final Result with Tool Calling"
   ]
  },
  {
   "cell_type": "code",
   "execution_count": 186,
   "metadata": {},
   "outputs": [],
   "source": [
    "from langchain_core.messages import HumanMessage,AIMessage"
   ]
  },
  {
   "cell_type": "code",
   "execution_count": 187,
   "metadata": {},
   "outputs": [
    {
     "name": "stdout",
     "output_type": "stream",
     "text": [
      "content='</function=wikipedia_search>{\"query\": \"LLM\"}' additional_kwargs={} response_metadata={'token_usage': {'completion_tokens': 13, 'prompt_tokens': 784, 'total_tokens': 797, 'completion_time': 0.008112832, 'prompt_time': 0.12417505, 'queue_time': 0.018401877999999997, 'total_time': 0.132287882}, 'model_name': 'llama-3.2-3b-preview', 'system_fingerprint': 'fp_a926bfdce1', 'finish_reason': 'stop', 'logprobs': None} id='run-b9a3cbcc-d844-4015-880d-e7a7e9b3de1f-0' usage_metadata={'input_tokens': 784, 'output_tokens': 13, 'total_tokens': 797}\n",
      "[HumanMessage(content='teach me about llm?', additional_kwargs={}, response_metadata={}), AIMessage(content='</function=wikipedia_search>{\"query\": \"LLM\"}', additional_kwargs={}, response_metadata={'token_usage': {'completion_tokens': 13, 'prompt_tokens': 784, 'total_tokens': 797, 'completion_time': 0.008112832, 'prompt_time': 0.12417505, 'queue_time': 0.018401877999999997, 'total_time': 0.132287882}, 'model_name': 'llama-3.2-3b-preview', 'system_fingerprint': 'fp_a926bfdce1', 'finish_reason': 'stop', 'logprobs': None}, id='run-b9a3cbcc-d844-4015-880d-e7a7e9b3de1f-0', usage_metadata={'input_tokens': 784, 'output_tokens': 13, 'total_tokens': 797})]\n"
     ]
    }
   ],
   "source": [
    "query = \"teach me about llm?\"\n",
    "\n",
    "messages = [HumanMessage(query)]\n",
    "\n",
    "tool_calls = llm_with_tools.invoke(messages)\n",
    "print(tool_calls)\n",
    "messages.append(tool_calls)\n",
    "print(messages)\n",
    "tool_calls = tool_calls.tool_calls"
   ]
  },
  {
   "cell_type": "code",
   "execution_count": 188,
   "metadata": {},
   "outputs": [],
   "source": [
    "from langchain_core.messages import HumanMessage, AIMessage\n",
    "\n",
    "# Query\n",
    "query = \"What is medicine for lung cancer?\"\n",
    "\n",
    "# Initialize messages with the user query\n",
    "messages = [HumanMessage(content=query)]\n",
    "\n",
    "# Invoke the LLM to decide which tool to use\n",
    "ai_msg = llm_with_tools.invoke(messages)\n",
    "\n",
    "# Append the LLM's response to the messages\n",
    "messages.append(ai_msg)"
   ]
  },
  {
   "cell_type": "code",
   "execution_count": 193,
   "metadata": {},
   "outputs": [],
   "source": [
    "# Process tool calls (if any)\n",
    "for tool_call in ai_msg.tool_calls:\n",
    "    print(tool_call)\n",
    "\n",
    "    # Get the tool name\n",
    "    name = tool_call['name'].lower()\n",
    "\n",
    "    # Select the tool\n",
    "    selected_tool = list_of_tools[name]\n",
    "\n",
    "    # Invoke the tool with the provided arguments\n",
    "    tool_msg = selected_tool.invoke(tool_call['args'])\n",
    "\n",
    "    # Append the tool's response to the messages\n",
    "    messages.append(AIMessage(content=tool_msg))"
   ]
  },
  {
   "cell_type": "code",
   "execution_count": 194,
   "metadata": {},
   "outputs": [
    {
     "data": {
      "text/plain": [
       "[HumanMessage(content='What is medicine for lung cancer?', additional_kwargs={}, response_metadata={}),\n",
       " AIMessage(content='</function=tavily_search>{\"query\":\"medicine for lung cancer\"}}', additional_kwargs={}, response_metadata={'token_usage': {'completion_tokens': 15, 'prompt_tokens': 784, 'total_tokens': 799, 'completion_time': 0.009326886, 'prompt_time': 0.12421368, 'queue_time': 0.020190048000000002, 'total_time': 0.133540566}, 'model_name': 'llama-3.2-3b-preview', 'system_fingerprint': 'fp_a926bfdce1', 'finish_reason': 'stop', 'logprobs': None}, id='run-2beb5975-f904-44c7-a696-7de087ba40ba-0', usage_metadata={'input_tokens': 784, 'output_tokens': 15, 'total_tokens': 799})]"
      ]
     },
     "execution_count": 194,
     "metadata": {},
     "output_type": "execute_result"
    }
   ],
   "source": [
    "messages"
   ]
  },
  {
   "cell_type": "code",
   "execution_count": 197,
   "metadata": {},
   "outputs": [
    {
     "name": "stdout",
     "output_type": "stream",
     "text": [
      "content='' additional_kwargs={} response_metadata={'token_usage': {'completion_tokens': 1, 'prompt_tokens': 798, 'total_tokens': 799, 'completion_time': 0.000612042, 'prompt_time': 0.125972278, 'queue_time': -9223372036.98075, 'total_time': 0.12658432}, 'model_name': 'llama-3.2-3b-preview', 'system_fingerprint': 'fp_a926bfdce1', 'finish_reason': 'stop', 'logprobs': None} id='run-26f6b0e8-74d9-490e-9bad-e12661c10895-0' usage_metadata={'input_tokens': 798, 'output_tokens': 1, 'total_tokens': 799}\n"
     ]
    }
   ],
   "source": [
    "response = llm_with_tools.invoke(messages)\n",
    "print(response)"
   ]
  },
  {
   "cell_type": "code",
   "execution_count": null,
   "metadata": {},
   "outputs": [],
   "source": []
  }
 ],
 "metadata": {
  "kernelspec": {
   "display_name": "Python 3",
   "language": "python",
   "name": "python3"
  },
  "language_info": {
   "codemirror_mode": {
    "name": "ipython",
    "version": 3
   },
   "file_extension": ".py",
   "mimetype": "text/x-python",
   "name": "python",
   "nbconvert_exporter": "python",
   "pygments_lexer": "ipython3",
   "version": "3.11.9"
  }
 },
 "nbformat": 4,
 "nbformat_minor": 2
}
