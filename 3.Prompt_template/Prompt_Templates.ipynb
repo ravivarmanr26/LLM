{
 "cells": [
  {
   "cell_type": "markdown",
   "metadata": {},
   "source": [
    "## PROMPT TEMPLATE"
   ]
  },
  {
   "cell_type": "markdown",
   "metadata": {},
   "source": [
    "LLM Prompt Templates\n",
    "Role\tDescription\n",
    "system\tUsed to tell the chat model how to behave and provide additional context. Not supported by all chat model providers.\n",
    "user\tRepresents input from a user interacting with the model, usually in the form of text or other interactive input.\n",
    "assistant\tRepresents a response from the model, which can include text or a request to invoke tools.\n",
    "tool\tA message used to pass the results of a tool invocation back to the model after external data or processing has been retrieved. Used with chat models that support tool calling.\n",
    "| function (legacy) | This is a legacy role, corresponding to OpenAI's legacy function-calling API. tool role should be used instead."
   ]
  },
  {
   "cell_type": "markdown",
   "metadata": {},
   "source": [
    "## LLM Prompt Templates"
   ]
  },
  {
   "cell_type": "markdown",
   "metadata": {},
   "source": [
    "| Role       | Description                                                                                                                                                   |\n",
    "|------------|---------------------------------------------------------------------------------------------------------------------------------------------------------------|\n",
    "| system     | Used to tell the chat model how to behave and provide additional context. Not supported by all chat model providers.                                          |\n",
    "| user       | Represents input from a user interacting with the model, usually in the form of text or other interactive input.                                              |\n",
    "| assistant  | Represents a response from the model, which can include text or a request to invoke tools.                                                                    |\n",
    "| tool       | A message used to pass the results of a tool invocation back to the model after external data or processing has been retrieved. Used with chat models that support tool calling. |\n",
    "| function (legacy) | This is a legacy role, corresponding to OpenAI's legacy function-calling API. tool role should be used instead."
   ]
  },
  {
   "cell_type": "markdown",
   "metadata": {},
   "source": [
    "### Langchain Message Types"
   ]
  },
  {
   "cell_type": "markdown",
   "metadata": {},
   "source": [
    "|    Message Type        |    Corresponding Role       |    Description                                                                                                          |\n",
    "|------------------------|-----------------------------|--------------------------------------------------------------------------------------------------------------------------|\n",
    "|    SystemMessage       |    system                   |    Corresponds to the system role.                                                                                       |\n",
    "|    HumanMessage        |    user                     |    Corresponds to the user role.                                                                                         |\n",
    "|    AIMessage           |    assistant                |    Corresponds to the assistant role.                                                                                    |\n",
    "|    AIMessageChunk      |    assistant                |    Corresponds to the assistant role, used for streaming responses.                                                      |\n",
    "|    ToolMessage         |    tool                     |    Corresponds to the tool role.                                                                                         |"
   ]
  },
  {
   "cell_type": "code",
   "execution_count": 5,
   "metadata": {},
   "outputs": [
    {
     "name": "stdout",
     "output_type": "stream",
     "text": [
      "model='llama3.2:1b' temperature=0.7 base_url='http://localhost:11434'\n"
     ]
    }
   ],
   "source": [
    "from langchain_ollama import ChatOllama\n",
    "\n",
    "base_url = 'http://localhost:11434'\n",
    "model = 'llama3.2:1b'\n",
    "\n",
    "llm = ChatOllama(\n",
    "    base_url = base_url,\n",
    "    model=model,\n",
    "    temperature = 0.7,\n",
    "    max_tokens = 512\n",
    "\n",
    ")\n",
    "print(llm)"
   ]
  },
  {
   "cell_type": "code",
   "execution_count": 8,
   "metadata": {},
   "outputs": [
    {
     "name": "stdout",
     "output_type": "stream",
     "text": [
      "content=\"The Bharatiya Janata Party (BJP), commonly referred to as the BJP, is a right-wing Indian political party that was founded in 1980. The party is headquartered in New Delhi and has been a major player in Indian politics since its inception.\\n\\n**History:**\\n\\nThe BJP was founded by L.K. Advani and Morarji Desai, two prominent politicians of the time. It gained popularity after winning several state elections in India and eventually became the ruling party of the country from 1990 to 1996 under Prime Minister Atal Bihari Vajpayee.\\n\\n**Ideology:**\\n\\nThe BJP is a Hindu nationalist party that advocates for a strong and prosperous Bharat (India). Its ideology is rooted in traditional Hindu values, but it has also been accused of promoting a more conservative and exclusionary worldview. The party supports the idea of Hindutva (Hindu-ness) and has been critical of minority groups, particularly Muslims.\\n\\n**Key policies:**\\n\\nThe BJP has implemented several key policies during its tenure in power, including:\\n\\n1. **Nationalism:** The party has promoted a strong sense of national identity and emphasized the importance of India's Hindu heritage.\\n2. **Anti-Muslim sentiment:** The BJP has been critical of Muslim-majority states and has often targeted Muslims as enemies of the nation.\\n3. **Economic policies:** The party has implemented economic policies aimed at promoting industrialization and job creation, but these have also led to widespread criticism for exacerbating income inequality and creating unemployment.\\n4. **Supreme Court reforms:** The BJP has sought to reform the Indian Supreme Court by introducing a new constitution that would give more powers to the executive.\\n\\n**Notable leaders:**\\n\\nSome notable leaders of the BJP include:\\n\\n1. **Naren Dutt:** A former Union Minister who played a key role in shaping the party's early years.\\n2. **Arun Jaitley:** The current Finance Minister and former Law Minister, who has been a key figure in the party's economic policies.\\n3. **J.P. Nadda:** The current President of the Indian Medical Association (IMA), who is also a close associate of the BJP.\\n\\n**Opposition:**\\n\\nThe BJP faces opposition from various parties, including:\\n\\n1. **Congress Party:** The main opposition party in India, which has been critical of the BJP's policies and actions.\\n2. **Aam Aadmi Party (AAP):** A left-wing party that has gained popularity in recent years for its anti-corruption stance and social justice agenda.\\n3. **Nationalist Congress Party (NCP):** A left-wing party that has traditionally been a rival of the BJP.\\n\\n**Controversies:**\\n\\nThe BJP has faced several controversies during its tenure, including:\\n\\n1. **Caste-based violence:** The party has been accused of promoting caste-based violence and targeted killings against minority groups.\\n2. **Anti-Muslim riots:** The BJP has been criticized for its role in orchestrating anti-Muslim riots in several states, particularly in the aftermath of the 2002 Gujarat riots.\\n3. **Corruption allegations:** The party has faced numerous corruption allegations, including money laundering charges against several high-profile politicians.\\n\\nOverall, the BJP is a complex and multifaceted entity that has played a significant role in shaping Indian politics over the years. While it has been successful in winning elections and implementing policies aimed at promoting economic growth and national identity, its policies have also been widely criticized for exacerbating social and economic inequalities.\" additional_kwargs={} response_metadata={'model': 'llama3.2:1b', 'created_at': '2024-12-12T12:34:09.8887507Z', 'done': True, 'done_reason': 'stop', 'total_duration': 24551071800, 'load_duration': 105120800, 'prompt_eval_count': 30, 'prompt_eval_duration': 438000000, 'eval_count': 710, 'eval_duration': 24004000000, 'message': Message(role='assistant', content='', images=None, tool_calls=None)} id='run-96101327-d2b1-48d0-817e-78a5a08bb910-0' usage_metadata={'input_tokens': 30, 'output_tokens': 710, 'total_tokens': 740}\n"
     ]
    }
   ],
   "source": [
    "question = 'tell me about BJP Party'\n",
    "\n",
    "response =llm.invoke(question)\n",
    "print(response)"
   ]
  },
  {
   "cell_type": "code",
   "execution_count": 14,
   "metadata": {},
   "outputs": [
    {
     "data": {
      "text/plain": [
       "'18'"
      ]
     },
     "execution_count": 14,
     "metadata": {},
     "output_type": "execute_result"
    }
   ],
   "source": [
    "name = \"ravivarman18\"\n",
    "name[10:]"
   ]
  },
  {
   "cell_type": "code",
   "execution_count": 19,
   "metadata": {},
   "outputs": [
    {
     "name": "stdout",
     "output_type": "stream",
     "text": [
      "Here are three key points about programming:\n",
      "\n",
      "**1. Programming Languages**: Programming languages are high-level, human-readable languages that a programmer can write and then compile or interpret into machine code that can be executed by a computer. Some popular programming languages include Python, Java, C++, JavaScript, and C#. Each language has its own strengths, weaknesses, and use cases.\n",
      "\n",
      "**2. Coding Paradigms**: A coding paradigm refers to the way in which a programmer approaches problem-solving and writing code. Common paradigms include object-oriented programming (OOP), functional programming (FP), and imperative programming (IP). OOP emphasizes the use of objects, classes, and inheritance, while FP focuses on the use of functions, data structures, and recursion. IP emphasizes the use of loops, conditionals, and mutable state.\n",
      "\n",
      "**3. Coding Style Guides**: Coding style guides are documents that provide guidelines for writing clean, readable, and maintainable code. Popular coding style guides include the Google Python Style Guide, the Python Community Guidelines, and the PEP 8 style guide (for Python). These guides cover topics such as indentation, naming conventions, commenting, and formatting to ensure consistency and readability in code.\n"
     ]
    }
   ],
   "source": [
    "model = 'codehelper'\n",
    "\n",
    "llm = ChatOllama(base_url=base_url, model=model)\n",
    "\n",
    "question = 'tell me about the programming in 3 points'\n",
    "response = llm.invoke(question)\n",
    "print(response.content)"
   ]
  },
  {
   "cell_type": "code",
   "execution_count": 20,
   "metadata": {},
   "outputs": [
    {
     "name": "stdout",
     "output_type": "stream",
     "text": [
      "model='llama3.2:1b' temperature=0.7 base_url='http://localhost:11434'\n"
     ]
    }
   ],
   "source": [
    "base_url = 'http://localhost:11434'\n",
    "model = 'llama3.2:1b'\n",
    "\n",
    "llm = ChatOllama(\n",
    "    base_url = base_url,\n",
    "    model=model,\n",
    "    temperature = 0.7,\n",
    "    max_tokens = 512\n",
    "\n",
    ")\n",
    "print(llm)"
   ]
  },
  {
   "cell_type": "markdown",
   "metadata": {},
   "source": [
    "## Langchain Messages"
   ]
  },
  {
   "cell_type": "code",
   "execution_count": 21,
   "metadata": {},
   "outputs": [],
   "source": [
    "from langchain_core.messages import HumanMessage,SystemMessage"
   ]
  },
  {
   "cell_type": "code",
   "execution_count": 24,
   "metadata": {},
   "outputs": [
    {
     "name": "stdout",
     "output_type": "stream",
     "text": [
      "<|start_header_id|>assistant<|end_header_id|>\n",
      "\n",
      "Building a SaaS (Software as a Service) startup requires careful planning, execution, and ongoing maintenance. Here's a step-by-step guide to help you get started:\n",
      "\n",
      "**Phase 1: Research and Planning (Weeks 1-4)**\n",
      "\n",
      "1. **Identify a problem**: Research and validate your idea by identifying a real pain point in the market.\n",
      "2. **Define your target audience**: Determine who your ideal customer is, their needs, and preferences.\n",
      "3. **Develop a unique value proposition (UVP)**: Clearly articulate what sets your SaaS apart from competitors.\n",
      "4. **Create a business model canvas**: Visualize your revenue streams, costs, and key resources.\n",
      "5. **Define your launch strategy**: Choose the right marketing channels, sales tactics, and customer support approach.\n",
      "\n",
      "**Phase 2: Product Development (Weeks 5-20)**\n",
      "\n",
      "1. **Build a minimum viable product (MVP)**: Create a basic version of your SaaS that meets your target audience's needs.\n",
      "2. **Develop a scalable architecture**: Design a system that can handle increasing user bases and data growth.\n",
      "3. **Implement security measures**: Ensure the integrity and confidentiality of customer data.\n",
      "4. **Conduct user testing**: Gather feedback from beta testers to improve the product and reduce bugs.\n",
      "5. **Iterate and refine**: Continuously test, analyze, and adjust your product based on user feedback.\n",
      "\n",
      "**Phase 3: Marketing and Sales (Weeks 21-30)**\n",
      "\n",
      "1. **Develop a marketing strategy**: Create content, campaigns, and channels that resonate with your target audience.\n",
      "2. **Build an email list**: Collect email addresses from potential customers to nurture leads.\n",
      "3. **Create sales funnels**: Design automated sales processes that guide users through the buying process.\n",
      "4. **Establish partnerships**: Collaborate with complementary businesses to expand reach and offerings.\n",
      "5. **Launch a paid advertising campaign**: Run targeted ads on platforms like Google, Facebook, or LinkedIn.\n",
      "\n",
      "**Phase 4: Customer Support and Success (After Week 30)**\n",
      "\n",
      "1. **Develop a customer support system**: Create a help center, knowledge base, or ticketing system for user support.\n",
      "2. **Establish a community forum**: Host discussions and Q&A sessions to foster engagement and loyalty.\n",
      "3. **Conduct regular user feedback surveys**: Gather insights on user satisfaction and product improvement.\n",
      "4. **Monitor and analyze performance metrics**: Track key KPIs (e.g., revenue growth, customer acquisition cost) to optimize the business.\n",
      "\n",
      "**Additional Tips**\n",
      "\n",
      "* **Be agile**: Be prepared to pivot your strategy if something isn't working as expected.\n",
      "* **Invest in user experience (UX)**: Prioritize designing a smooth, intuitive interface that meets user needs.\n",
      "* **Hire a talented team**: Assemble a diverse team with expertise in various areas, such as development, marketing, and sales.\n",
      "\n",
      "**Common SaaS Startup Mistakes to Avoid**\n",
      "\n",
      "* **Underestimating competition**: Research competitors thoroughly before launching your product.\n",
      "* **Overcomplicating the product**: Keep it simple and focus on delivering value.\n",
      "* **Ignoring user needs**: Continuously gather feedback from users to improve the product.\n",
      "* **Not having a solid plan for scaling**: Anticipate growth and develop strategies to support increased demand.\n",
      "\n",
      "Remember, building a successful SaaS startup requires dedication, perseverance, and continuous learning. Stay focused on your UVP, iterate regularly, and adapt to changing market conditions to ensure long-term success.\n"
     ]
    }
   ],
   "source": [
    "question = HumanMessage(\"how to built a saas startup\")\n",
    "system = SystemMessage(\"You are expert in building a saas\")\n",
    "\n",
    "message = [question, system]\n",
    "response = llm.invoke(message)\n",
    "print(response.content)"
   ]
  },
  {
   "cell_type": "code",
   "execution_count": 25,
   "metadata": {},
   "outputs": [
    {
     "name": "stdout",
     "output_type": "stream",
     "text": [
      "<|start_header_id|>assistant<|end_header_id|>\n",
      "\n",
      "Building a SaaS (Software as a Service) startup requires careful planning, execution, and ongoing maintenance. Here's a step-by-step guide to help you get started:\n",
      "\n",
      "**Research and Planning**\n",
      "\n",
      "1. **Validate your idea**: Test your product with potential customers, gather feedback, and refine your concept.\n",
      "2. **Conduct market research**: Analyze the competition, target audience, and market trends.\n",
      "3. **Define your unique value proposition (UVP)**: Clearly articulate what sets your SaaS apart from others in the market.\n",
      "4. **Create a business plan**: Outline your startup's goals, objectives, revenue model, marketing strategy, and financial projections.\n",
      "\n",
      "**Building the Product**\n",
      "\n",
      "1. **Choose a technology stack**: Select a suitable programming language, frameworks, and databases for your product.\n",
      "2. **Design and develop the core functionality**: Build the essential features that will differentiate your SaaS from others in the market.\n",
      "3. **Implement security measures**: Ensure your product is secure and compliant with industry standards.\n",
      "4. **Test and iterate**: Continuously test and refine your product to ensure it meets customer needs.\n",
      "\n",
      "**Marketing and Sales**\n",
      "\n",
      "1. **Develop a marketing strategy**: Create a plan to reach and engage with your target audience, including content marketing, social media, email marketing, and paid advertising.\n",
      "2. **Build an sales team**: Hire experienced sales professionals who understand your product and can effectively sell it to customers.\n",
      "3. **Create a revenue model**: Determine how you'll generate revenue from your SaaS (e.g., subscription-based, pay-per-use).\n",
      "4. **Launch and promote the product**: Release your SaaS and launch a marketing campaign to attract customers.\n",
      "\n",
      "**Operations and Support**\n",
      "\n",
      "1. **Set up infrastructure and tools**: Establish a reliable infrastructure, including hosting, databases, and customer support tools.\n",
      "2. **Develop a support system**: Create an effective knowledge base, documentation, and customer support process.\n",
      "3. **Plan for scalability**: Ensure your SaaS can handle growth and scale with your business.\n",
      "4. **Establish partnerships and collaborations**: Collaborate with other businesses or organizations to expand your reach.\n",
      "\n",
      "**Launch and Growth**\n",
      "\n",
      "1. **Launch your product**: Release your SaaS to the public and make it available for purchase or subscription.\n",
      "2. **Monitor and analyze performance**: Track key metrics, such as customer acquisition costs (CAC), customer lifetime value (CLV), and retention rates.\n",
      "3. **Continuously improve and refine**: Gather feedback from customers and iterate on your product to ensure continuous improvement.\n",
      "4. **Expand your offerings**: Consider adding new features or services to increase revenue and market share.\n",
      "\n",
      "**Ongoing Maintenance**\n",
      "\n",
      "1. **Monitor and update the product**: Regularly review and update your SaaS to ensure it remains competitive and meets customer needs.\n",
      "2. **Improve performance and security**: Regularly perform maintenance tasks, such as backups, updates, and security checks.\n",
      "3. **Stay up-to-date with industry trends**: Continuously educate yourself on the latest developments in your niche and adapt your strategy accordingly.\n",
      "\n",
      "**Additional Tips**\n",
      "\n",
      "1. **Focus on customer satisfaction**: Prioritize delivering a high-quality product that meets or exceeds customer expectations.\n",
      "2. **Be prepared for growth**: Anticipate rapid growth and plan accordingly to ensure scalability and resources are available.\n",
      "3. **Stay agile and adaptable**: Be willing to pivot your strategy if something isn't working as expected.\n",
      "\n",
      "Remember, building a successful SaaS startup requires patience, dedication, and a willingness to learn and adapt. By following these steps and staying focused on customer satisfaction, you can increase your chances of success in the world of software as a service.\n"
     ]
    }
   ],
   "source": [
    "question = HumanMessage(\"how to built a saas startup\")\n",
    "system = SystemMessage(\"You are expert in building a database system\")\n",
    "\n",
    "message = [question, system]\n",
    "response = llm.invoke(message)\n",
    "print(response.content)"
   ]
  },
  {
   "cell_type": "code",
   "execution_count": 29,
   "metadata": {},
   "outputs": [
    {
     "name": "stdout",
     "output_type": "stream",
     "text": [
      "SystemMessage: You are a helpful assistant.\n",
      "HumanMessage: What is the capital of France?\n",
      "AIMessage: The capital of France is Paris.\n"
     ]
    }
   ],
   "source": [
    "from langchain_core.messages import HumanMessage, AIMessage, SystemMessage\n",
    "\n",
    "# Creating a user message\n",
    "user_message = HumanMessage(content=\"What is the capital of France?\")\n",
    "\n",
    "# Creating a system message\n",
    "system_message = SystemMessage(content=\"You are a helpful assistant.\")\n",
    "\n",
    "# Creating an assistant message\n",
    "assistant_message = AIMessage(content=\"The capital of France is Paris.\")\n",
    "\n",
    "# Example of using messages in a conversation\n",
    "conversation = [system_message, user_message, assistant_message]\n",
    "\n",
    "# Print the conversation\n",
    "for message in conversation:\n",
    "    print(f\"{message.__class__.__name__}: {message.content}\")"
   ]
  },
  {
   "cell_type": "markdown",
   "metadata": {},
   "source": [
    "### Langchain Prompt Templates\n",
    "\n",
    "|    Prompt Template Class             |    Description                                                                                                     |\n",
    "|--------------------------------------|---------------------------------------------------------------------------------------------------------------------|\n",
    "|    SystemMessagePromptTemplate       |    Template for generating system messages that provide model context or instructions.                            |\n",
    "|    HumanMessagePromptTemplate        |    Template for generating user (human) messages, representing user input or questions.                          |\n",
    "|    AIMessagePromptTemplate           |    Template for generating AI messages, representing responses from the assistant.                                |\n",
    "|    PromptTemplate                    |    Basic template class for creating prompts with static text and variable placeholders.                          |\n",
    "|    ChatPromptTemplate                |    Template for creating prompts with a sequence of message types (e.g., system, user, assistant) in a chat format. |"
   ]
  },
  {
   "cell_type": "code",
   "execution_count": 32,
   "metadata": {},
   "outputs": [],
   "source": [
    "from langchain_core.prompts import (\n",
    "                                HumanMessagePromptTemplate,\n",
    "                                SystemMessagePromptTemplate,\n",
    "                                PromptTemplate,\n",
    "                                ChatPromptTemplate\n",
    "\n",
    ")"
   ]
  },
  {
   "cell_type": "code",
   "execution_count": 43,
   "metadata": {},
   "outputs": [],
   "source": [
    "system =  SystemMessagePromptTemplate.from_template(\"You are expert in building a {industry} company and startups.\")\n",
    "\n",
    "query = HumanMessagePromptTemplate.from_template(\"how to build {name} company, answer me in {number} points\")"
   ]
  },
  {
   "cell_type": "code",
   "execution_count": 38,
   "metadata": {},
   "outputs": [
    {
     "data": {
      "text/plain": [
       "SystemMessagePromptTemplate(prompt=PromptTemplate(input_variables=['industry'], input_types={}, partial_variables={}, template='You are expert in building a {industry} company and startups.'), additional_kwargs={})"
      ]
     },
     "execution_count": 38,
     "metadata": {},
     "output_type": "execute_result"
    }
   ],
   "source": [
    "system"
   ]
  },
  {
   "cell_type": "code",
   "execution_count": 44,
   "metadata": {},
   "outputs": [
    {
     "data": {
      "text/plain": [
       "['name', 'number']"
      ]
     },
     "execution_count": 44,
     "metadata": {},
     "output_type": "execute_result"
    }
   ],
   "source": [
    "query.input_variables"
   ]
  },
  {
   "cell_type": "code",
   "execution_count": 46,
   "metadata": {},
   "outputs": [
    {
     "data": {
      "text/plain": [
       "SystemMessage(content='You are expert in building a medical field company and startups.', additional_kwargs={}, response_metadata={})"
      ]
     },
     "execution_count": 46,
     "metadata": {},
     "output_type": "execute_result"
    }
   ],
   "source": [
    "system.format(industry='medical field')"
   ]
  },
  {
   "cell_type": "code",
   "execution_count": 47,
   "metadata": {},
   "outputs": [
    {
     "data": {
      "text/plain": [
       "HumanMessage(content='how to build scannig centers company, answer me in 5 points', additional_kwargs={}, response_metadata={})"
      ]
     },
     "execution_count": 47,
     "metadata": {},
     "output_type": "execute_result"
    }
   ],
   "source": [
    "query.format(name='scannig centers',number = 5)"
   ]
  },
  {
   "cell_type": "code",
   "execution_count": 50,
   "metadata": {},
   "outputs": [],
   "source": [
    "message = [system,query]\n",
    "\n",
    "template = ChatPromptTemplate(message)"
   ]
  },
  {
   "cell_type": "code",
   "execution_count": 51,
   "metadata": {},
   "outputs": [
    {
     "data": {
      "text/plain": [
       "ChatPromptTemplate(input_variables=['industry', 'name', 'number'], input_types={}, partial_variables={}, messages=[SystemMessagePromptTemplate(prompt=PromptTemplate(input_variables=['industry'], input_types={}, partial_variables={}, template='You are expert in building a {industry} company and startups.'), additional_kwargs={}), HumanMessagePromptTemplate(prompt=PromptTemplate(input_variables=['name', 'number'], input_types={}, partial_variables={}, template='how to build {name} company, answer me in {number} points'), additional_kwargs={})])"
      ]
     },
     "execution_count": 51,
     "metadata": {},
     "output_type": "execute_result"
    }
   ],
   "source": [
    "template"
   ]
  },
  {
   "cell_type": "code",
   "execution_count": 54,
   "metadata": {},
   "outputs": [],
   "source": [
    "question = template.invoke({'industry': 'medical field', 'name': 'scanning centers', 'number': 5})"
   ]
  },
  {
   "cell_type": "code",
   "execution_count": 56,
   "metadata": {},
   "outputs": [
    {
     "name": "stdout",
     "output_type": "stream",
     "text": [
      "Building a Scanning Center Company requires careful planning, execution, and compliance with regulatory requirements. Here are five key points to consider:\n",
      "\n",
      "1. **Business Planning and Registration**:\n",
      "Create a comprehensive business plan that outlines your scanning center's mission, goals, target market, financial projections, and operational strategy. Register your company with the relevant state and federal authorities, obtaining necessary licenses and permits. This will help you establish a solid foundation for your business.\n",
      "\n",
      "2. **Scanning Technology and Equipment**:\n",
      "Invest in high-quality scanning equipment, such as scanners, copiers, and document management systems. Consider purchasing or leasing machines that meet industry standards for accuracy, security, and efficiency. Ensure that your equipment is compatible with various file formats and can handle large volumes of documents.\n",
      "\n",
      "3. **Software and Integration**:\n",
      "Develop or acquire software solutions that integrate with your scanning center's technology and operations. This may include document management systems, barcode scanners, and electronic data interchange (EDI) software. Choose software that is secure, scalable, and easy to use, ensuring seamless integration with your existing infrastructure.\n",
      "\n",
      "4. **Security and Compliance**:\n",
      "Implement robust security measures to protect sensitive patient information and prevent data breaches. Ensure compliance with HIPAA regulations, including encryption, access controls, and audit logging. Develop a comprehensive incident response plan to address potential security threats and maintain customer trust.\n",
      "\n",
      "5. **Marketing and Sales Strategy**:\n",
      "Develop a marketing strategy that targets your primary audience, such as medical offices, clinics, and healthcare providers. Create a sales process that includes consultations, demos, and trials of scanning equipment and software. Establish relationships with key decision-makers and consider partnering with other healthcare technology companies to expand your reach.\n",
      "\n",
      "Additional considerations:\n",
      "\n",
      "- Conduct thorough market research to understand the competitive landscape and identify opportunities for growth.\n",
      "- Develop a quality assurance program to ensure consistent performance and reliability of your scanning equipment.\n",
      "- Invest in ongoing training and support for staff, including IT professionals and operators, to maintain expertise and troubleshoot issues.\n",
      "- Consider implementing a customer success program to foster loyalty and encourage repeat business.\n",
      "\n",
      "By following these points, you can establish a solid foundation for building a successful scanning center company.\n"
     ]
    }
   ],
   "source": [
    "response = llm.invoke(question)\n",
    "\n",
    "print(response.content)"
   ]
  },
  {
   "cell_type": "code",
   "execution_count": 58,
   "metadata": {},
   "outputs": [
    {
     "data": {
      "text/plain": [
       "ChatPromptValue(messages=[SystemMessage(content='You are a helpful assistant', additional_kwargs={}, response_metadata={}), HumanMessage(content='tell about use!', additional_kwargs={}, response_metadata={})])"
      ]
     },
     "execution_count": 58,
     "metadata": {},
     "output_type": "execute_result"
    }
   ],
   "source": [
    "from langchain_core.prompts import ChatPromptTemplate, MessagesPlaceholder\n",
    "from langchain_core.messages import HumanMessage\n",
    "\n",
    "prompt_template = ChatPromptTemplate([\n",
    "    (\"system\", \"You are a helpful assistant\"),\n",
    "    MessagesPlaceholder(\"msgs\")\n",
    "])\n",
    "\n",
    "prompt_template.invoke({\"msgs\": [HumanMessage(content=\"tell about use!\")]})"
   ]
  },
  {
   "cell_type": "code",
   "execution_count": 61,
   "metadata": {},
   "outputs": [
    {
     "name": "stdout",
     "output_type": "stream",
     "text": [
      "messages=[SystemMessage(content='You are a helpful assistant.', additional_kwargs={}, response_metadata={}), HumanMessage(content='What is the capital of France?', additional_kwargs={}, response_metadata={}), AIMessage(content='The capital of France is Paris.', additional_kwargs={}, response_metadata={}), HumanMessage(content='Can you tell me more about Paris?', additional_kwargs={}, response_metadata={})]\n"
     ]
    }
   ],
   "source": [
    "from langchain_core.prompts import ChatPromptTemplate, MessagesPlaceholder\n",
    "from langchain_core.messages import HumanMessage, AIMessage, SystemMessage\n",
    "\n",
    "# Define a chat prompt template with a system message and a placeholder for messages\n",
    "prompt_template = ChatPromptTemplate([\n",
    "    (\"system\", \"You are a helpful assistant.\"),\n",
    "    MessagesPlaceholder(\"msgs\")  # Placeholder for dynamic messages\n",
    "])\n",
    "\n",
    "# Create a list of messages to simulate a conversation\n",
    "conversation_history = [\n",
    "    HumanMessage(content=\"What is the capital of France?\"),\n",
    "    AIMessage(content=\"The capital of France is Paris.\"),\n",
    "    HumanMessage(content=\"Can you tell me more about Paris?\"),\n",
    "]\n",
    "\n",
    "# Invoke the prompt template with the conversation history\n",
    "response = prompt_template.invoke({\"msgs\": conversation_history})\n",
    "\n",
    "# Print the generated prompt value\n",
    "print(response)  # Outputs the structured prompt with the system message and conversation history"
   ]
  }
 ],
 "metadata": {
  "kernelspec": {
   "display_name": "Python 3",
   "language": "python",
   "name": "python3"
  },
  "language_info": {
   "codemirror_mode": {
    "name": "ipython",
    "version": 3
   },
   "file_extension": ".py",
   "mimetype": "text/x-python",
   "name": "python",
   "nbconvert_exporter": "python",
   "pygments_lexer": "ipython3",
   "version": "3.10.11"
  }
 },
 "nbformat": 4,
 "nbformat_minor": 2
}
